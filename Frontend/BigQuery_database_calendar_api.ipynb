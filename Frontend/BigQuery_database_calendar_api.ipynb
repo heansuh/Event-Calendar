{
 "cells": [
  {
   "cell_type": "code",
   "execution_count": 5,
   "metadata": {},
   "outputs": [
    {
     "data": {
      "text/html": [
       "<div>\n",
       "<style scoped>\n",
       "    .dataframe tbody tr th:only-of-type {\n",
       "        vertical-align: middle;\n",
       "    }\n",
       "\n",
       "    .dataframe tbody tr th {\n",
       "        vertical-align: top;\n",
       "    }\n",
       "\n",
       "    .dataframe thead th {\n",
       "        text-align: right;\n",
       "    }\n",
       "</style>\n",
       "<table border=\"1\" class=\"dataframe\">\n",
       "  <thead>\n",
       "    <tr style=\"text-align: right;\">\n",
       "      <th></th>\n",
       "      <th>Subject</th>\n",
       "      <th>Start date</th>\n",
       "      <th>Location</th>\n",
       "      <th>source</th>\n",
       "      <th>Start time</th>\n",
       "      <th>End time</th>\n",
       "    </tr>\n",
       "  </thead>\n",
       "  <tbody>\n",
       "    <tr>\n",
       "      <th>0</th>\n",
       "      <td>Buntes Herbstfest im Tierpark</td>\n",
       "      <td>10/04/2024</td>\n",
       "      <td>Tierpark Neumünster | 24537 Neumünster, Geerdt...</td>\n",
       "      <td>https://city-nms.de/events/veranstaltungskalen...</td>\n",
       "      <td>10:00</td>\n",
       "      <td>NaN</td>\n",
       "    </tr>\n",
       "    <tr>\n",
       "      <th>1</th>\n",
       "      <td>Die Spur des Bildhauers. Wiedersehen mit Heinz...</td>\n",
       "      <td>10/04/2024</td>\n",
       "      <td>Herbert Gerisch-Stiftung | 24536 Neumünster, B...</td>\n",
       "      <td>https://city-nms.de/events/veranstaltungskalen...</td>\n",
       "      <td>12:00</td>\n",
       "      <td>18:00</td>\n",
       "    </tr>\n",
       "  </tbody>\n",
       "</table>\n",
       "</div>"
      ],
      "text/plain": [
       "                                             Subject  Start date  \\\n",
       "0                      Buntes Herbstfest im Tierpark  10/04/2024   \n",
       "1  Die Spur des Bildhauers. Wiedersehen mit Heinz...  10/04/2024   \n",
       "\n",
       "                                            Location  \\\n",
       "0  Tierpark Neumünster | 24537 Neumünster, Geerdt...   \n",
       "1  Herbert Gerisch-Stiftung | 24536 Neumünster, B...   \n",
       "\n",
       "                                              source Start time End time  \n",
       "0  https://city-nms.de/events/veranstaltungskalen...      10:00      NaN  \n",
       "1  https://city-nms.de/events/veranstaltungskalen...      12:00    18:00  "
      ]
     },
     "metadata": {},
     "output_type": "display_data"
    },
    {
     "data": {
      "text/plain": [
       "(6, 6)"
      ]
     },
     "execution_count": 5,
     "metadata": {},
     "output_type": "execute_result"
    }
   ],
   "source": [
    "import pandas as pd\n",
    "df = pd.read_csv('demo_events.csv')\n",
    "display(df.head(2))\n",
    "df.shape"
   ]
  },
  {
   "cell_type": "code",
   "execution_count": 6,
   "metadata": {},
   "outputs": [
    {
     "name": "stdout",
     "output_type": "stream",
     "text": [
      "Data uploaded to BigQuery successfully!\n"
     ]
    }
   ],
   "source": [
    "import os.path\n",
    "from datetime import datetime, timedelta\n",
    "import pandas as pd\n",
    "from google_auth_oauthlib.flow import InstalledAppFlow\n",
    "from google.auth.transport.requests import Request\n",
    "from google.oauth2.credentials import Credentials\n",
    "from googleapiclient.discovery import build\n",
    "\n",
    "from google.cloud import bigquery\n",
    "from pandas_gbq import to_gbq\n",
    "\n",
    "# Define the combined scopes\n",
    "SCOPES = [\n",
    "    \"https://www.googleapis.com/auth/calendar\",      # Google Calendar\n",
    "    \"https://www.googleapis.com/auth/bigquery\"       # BigQuery\n",
    "]\n",
    "\n",
    "def authenticate_google_services():\n",
    "    creds = None\n",
    "    if os.path.exists(\"token.json\"):\n",
    "        creds = Credentials.from_authorized_user_file(\"token.json\", SCOPES)\n",
    "    if not creds or not creds.valid:\n",
    "        if creds and creds.expired and creds.refresh_token:\n",
    "            creds.refresh(Request())\n",
    "        else:\n",
    "            flow = InstalledAppFlow.from_client_secrets_file(\"credentials.json\", SCOPES)\n",
    "            creds = flow.run_local_server(port=0)\n",
    "        # Save the credentials for the next run\n",
    "        with open(\"token.json\", \"w\") as token:\n",
    "            token.write(creds.to_json())\n",
    "\n",
    "    # Return the Google Calendar service along with creds.\n",
    "    service = build('calendar', 'v3', credentials=creds)\n",
    "    return service, creds\n",
    "\n",
    "service, creds = authenticate_google_services()  # Authenticate and get credentials for Google Calendar and BigQuery.\n",
    "\n",
    "project_id = 'circular-maxim-436817-e3'\n",
    "dataset_id = 'kierne35539432nun34b'\n",
    "table_id = 'events'\n",
    "full_table_id = f\"{project_id}.{dataset_id}.{table_id}\"\n",
    "\n",
    "client = bigquery.Client(credentials=creds, project=project_id)\n",
    "\n",
    "# try:\n",
    "#     client.delete_table(full_table_id, not_found_ok=True)  # Deleting existing \"events\" table.\n",
    "#     print(f\"\"\"Table \"{table_id}\" deleted.\"\"\")              # This code can be deleted.\n",
    "# except Exception as e:\n",
    "#     print(f\"An error occurred: {e}\")\n",
    "\n",
    "try:\n",
    "    to_gbq(df, destination_table=full_table_id, project_id=project_id, if_exists='replace', credentials=creds, progress_bar=True)\n",
    "    print(\"Data uploaded to BigQuery successfully!\")   #  Inserting data into BigQuery \"events\" table.\n",
    "except Exception as e:\n",
    "    print(f\"An error occurred: {e}\")"
   ]
  },
  {
   "cell_type": "code",
   "execution_count": 7,
   "metadata": {},
   "outputs": [
    {
     "name": "stdout",
     "output_type": "stream",
     "text": [
      "The shape of loaded dataframe is: (6, 6)\n",
      "Event created: https://www.google.com/calendar/event?eid=M2M3N2wzaWNxdmdlb2ZxNTQ5ZDh0NW43NzggZm9rczI0M2RhYmw0QG0\n",
      "Event created: https://www.google.com/calendar/event?eid=OGZsazFocmU3YnJiN2ZyMXZpbnQybmhmcm8gZm9rczI0M2RhYmw0QG0\n",
      "Event created: https://www.google.com/calendar/event?eid=dm1ncm41N3NhY29idG5rdHF1MzZzYzd1ZDggZm9rczI0M2RhYmw0QG0\n",
      "Event created: https://www.google.com/calendar/event?eid=MXUyNjY4YmoxcXJqZ3VvNzljZGF0NnM0cGcgZm9rczI0M2RhYmw0QG0\n",
      "Event created: https://www.google.com/calendar/event?eid=bXNnc3VkanEwdXNvODJtdTV0OHBlYmNqcWcgZm9rczI0M2RhYmw0QG0\n",
      "Event created: https://www.google.com/calendar/event?eid=MTBscXI3MmcxajdxdTVucTk1c3JrOG1nZDQgZm9rczI0M2RhYmw0QG0\n"
     ]
    }
   ],
   "source": [
    "# Loading data from BigQuery back to python and then loading events into Google Calendar.\n",
    "def create_event(service, event):\n",
    "    \"\"\"Creates an event in Google Calendar and returns the event ID.\"\"\"\n",
    "    event_result = service.events().insert(calendarId='primary', body=event).execute()\n",
    "    print(f\"Event created: {event_result['htmlLink']}\")\n",
    "    return event_result['id']\n",
    "\n",
    "def load_events_from_csv():\n",
    "    \"\"\"Loads events from a CSV DataFrame and returns them as a list of event objects.\"\"\"\n",
    "    events = []\n",
    "\n",
    "    query = f\"SELECT * FROM `{full_table_id}`\"\n",
    "    df_loaded = client.query(query).to_dataframe()  # Load the data from BigQuery into a pandas DataFrame.\n",
    "    print('The shape of loaded dataframe is:', df_loaded.shape)\n",
    "\n",
    "    for _, row in df_loaded.iterrows():\n",
    "        # Convert start date and time to datetime\n",
    "        start_datetime_str = f\"{row['Start date']}T{row['Start time']}\"\n",
    "        start_time_obj = pd.to_datetime(start_datetime_str)\n",
    "\n",
    "        # Check if End time is provided; if not, add 27 minutes to Start time\n",
    "        if pd.isna(row.get('End time')):  # If 'End time' is None or NaN\n",
    "            end_time_obj = start_time_obj + timedelta(minutes=27)  # Add 27 minutes\n",
    "        else:\n",
    "            # Convert End time and assume same date as Start date\n",
    "            end_datetime_str = f\"{row['Start date']}T{row['End time']}\"\n",
    "            end_time_obj = pd.to_datetime(end_datetime_str)\n",
    "        \n",
    "        # Prepare the event details for Google Calendar\n",
    "        event = {\n",
    "            'summary': row['Subject'],\n",
    "            'location': row['Location'],\n",
    "            'start': {\n",
    "                'dateTime': start_time_obj.strftime(\"%Y-%m-%dT%H:%M:%S\"),\n",
    "                'timeZone': 'Europe/Berlin',  # Set to your timezone\n",
    "            },\n",
    "            'end': {\n",
    "                'dateTime': end_time_obj.strftime(\"%Y-%m-%dT%H:%M:%S\"),\n",
    "                'timeZone': 'Europe/Berlin',  # Set to your timezone\n",
    "            }\n",
    "        }\n",
    "        events.append(event)\n",
    "    return events\n",
    "\n",
    "# Load the DataFrame containing event data (replace 'df_2' with the actual CSV DataFrame)\n",
    "events = load_events_from_csv()\n",
    "\n",
    "# Create events in Google Calendar and store event IDs\n",
    "event_ids = []\n",
    "for event in events:\n",
    "    event_id = create_event(service, event)\n",
    "    event_ids.append(event_id)\n",
    "\n",
    "# Optionally save event IDs to a CSV for future reference\n",
    "pd.DataFrame({'event_id': event_ids}).to_csv('event_ids.csv', index=False)"
   ]
  },
  {
   "cell_type": "code",
   "execution_count": 9,
   "metadata": {},
   "outputs": [
    {
     "name": "stdout",
     "output_type": "stream",
     "text": [
      "Event with ID 3c77l3icqvgeofq549d8t5n778 deleted successfully.\n",
      "Event with ID 8flk1hre7brb7fr1vint2nhfro deleted successfully.\n",
      "Event with ID vmgrn57sacobtnktqu36sc7ud8 deleted successfully.\n",
      "Event with ID 1u2668bj1qrjguo79cdat6s4pg deleted successfully.\n",
      "Event with ID msgsudjq0uso82mu5t8pebcjqg deleted successfully.\n",
      "Event with ID 10lqr72g1j7qu5nq95srk8mgd4 deleted successfully.\n"
     ]
    }
   ],
   "source": [
    "def delete_all_events(service, event_ids):\n",
    "    \"\"\"Deletes all events from Google Calendar using a list of event IDs.\"\"\"\n",
    "    for event_id in event_ids:\n",
    "        try:\n",
    "            service.events().delete(calendarId='primary', eventId=event_id).execute()\n",
    "            print(f\"Event with ID {event_id} deleted successfully.\")\n",
    "        except Exception as e:\n",
    "            print(f\"Error deleting event {event_id}: {e}\")\n",
    "\n",
    "event_ids = pd.read_csv('event_ids.csv')['event_id'].tolist()\n",
    "delete_all_events(service, event_ids)"
   ]
  }
 ],
 "metadata": {
  "kernelspec": {
   "display_name": "venvproject",
   "language": "python",
   "name": "venvproject"
  },
  "language_info": {
   "codemirror_mode": {
    "name": "ipython",
    "version": 3
   },
   "file_extension": ".py",
   "mimetype": "text/x-python",
   "name": "python",
   "nbconvert_exporter": "python",
   "pygments_lexer": "ipython3",
   "version": "3.12.2"
  }
 },
 "nbformat": 4,
 "nbformat_minor": 2
}
