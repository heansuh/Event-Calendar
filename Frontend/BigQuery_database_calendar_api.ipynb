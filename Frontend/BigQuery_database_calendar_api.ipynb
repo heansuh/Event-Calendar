{
 "cells": [
  {
   "cell_type": "code",
   "execution_count": 5,
   "metadata": {},
   "outputs": [
    {
     "data": {
      "text/html": [
       "<div>\n",
       "<style scoped>\n",
       "    .dataframe tbody tr th:only-of-type {\n",
       "        vertical-align: middle;\n",
       "    }\n",
       "\n",
       "    .dataframe tbody tr th {\n",
       "        vertical-align: top;\n",
       "    }\n",
       "\n",
       "    .dataframe thead th {\n",
       "        text-align: right;\n",
       "    }\n",
       "</style>\n",
       "<table border=\"1\" class=\"dataframe\">\n",
       "  <thead>\n",
       "    <tr style=\"text-align: right;\">\n",
       "      <th></th>\n",
       "      <th>Subject</th>\n",
       "      <th>Start date</th>\n",
       "      <th>Location</th>\n",
       "      <th>source</th>\n",
       "      <th>Start time</th>\n",
       "      <th>End time</th>\n",
       "    </tr>\n",
       "  </thead>\n",
       "  <tbody>\n",
       "    <tr>\n",
       "      <th>0</th>\n",
       "      <td>Buntes Herbstfest im Tierpark</td>\n",
       "      <td>10/04/2024</td>\n",
       "      <td>Tierpark Neumünster | 24537 Neumünster, Geerdt...</td>\n",
       "      <td>https://city-nms.de/events/veranstaltungskalen...</td>\n",
       "      <td>10:00</td>\n",
       "      <td>NaN</td>\n",
       "    </tr>\n",
       "    <tr>\n",
       "      <th>1</th>\n",
       "      <td>Die Spur des Bildhauers. Wiedersehen mit Heinz...</td>\n",
       "      <td>10/04/2024</td>\n",
       "      <td>Herbert Gerisch-Stiftung | 24536 Neumünster, B...</td>\n",
       "      <td>https://city-nms.de/events/veranstaltungskalen...</td>\n",
       "      <td>12:00</td>\n",
       "      <td>18:00</td>\n",
       "    </tr>\n",
       "  </tbody>\n",
       "</table>\n",
       "</div>"
      ],
      "text/plain": [
       "                                             Subject  Start date  \\\n",
       "0                      Buntes Herbstfest im Tierpark  10/04/2024   \n",
       "1  Die Spur des Bildhauers. Wiedersehen mit Heinz...  10/04/2024   \n",
       "\n",
       "                                            Location  \\\n",
       "0  Tierpark Neumünster | 24537 Neumünster, Geerdt...   \n",
       "1  Herbert Gerisch-Stiftung | 24536 Neumünster, B...   \n",
       "\n",
       "                                              source Start time End time  \n",
       "0  https://city-nms.de/events/veranstaltungskalen...      10:00      NaN  \n",
       "1  https://city-nms.de/events/veranstaltungskalen...      12:00    18:00  "
      ]
     },
     "metadata": {},
     "output_type": "display_data"
    },
    {
     "data": {
      "text/plain": [
       "(6, 6)"
      ]
     },
     "execution_count": 5,
     "metadata": {},
     "output_type": "execute_result"
    }
   ],
   "source": [
    "import pandas as pd\n",
    "df = pd.read_csv('demo_events.csv')\n",
    "display(df.head(2))\n",
    "df.shape"
   ]
  },
  {
   "cell_type": "code",
   "execution_count": 6,
   "metadata": {},
   "outputs": [
    {
     "name": "stdout",
     "output_type": "stream",
     "text": [
      "Data uploaded to BigQuery successfully!\n"
     ]
    }
   ],
   "source": [
    "# Uploading data to a BigQuery database. This is a better approach, because it uses batch requets.\n",
    "import os.path\n",
    "from datetime import timedelta\n",
    "import pandas as pd\n",
    "from google_auth_oauthlib.flow import InstalledAppFlow\n",
    "from google.auth.transport.requests import Request\n",
    "from google.oauth2.credentials import Credentials\n",
    "from googleapiclient.discovery import build\n",
    "from googleapiclient.http import BatchHttpRequest\n",
    "\n",
    "from google.cloud import bigquery\n",
    "from pandas_gbq import to_gbq\n",
    "\n",
    "# Define the combined scopes\n",
    "SCOPES = [\n",
    "    \"https://www.googleapis.com/auth/calendar\",      # Google Calendar\n",
    "    \"https://www.googleapis.com/auth/bigquery\"       # BigQuery\n",
    "]\n",
    "\n",
    "def authenticate_google_services():\n",
    "    creds = None\n",
    "    if os.path.exists(\"token.json\"):\n",
    "        creds = Credentials.from_authorized_user_file(\"token.json\", SCOPES)\n",
    "    if not creds or not creds.valid:\n",
    "        if creds and creds.expired and creds.refresh_token:\n",
    "            creds.refresh(Request())\n",
    "        else:\n",
    "            flow = InstalledAppFlow.from_client_secrets_file(\"credentials.json\", SCOPES)\n",
    "            creds = flow.run_local_server(port=0)\n",
    "        # Save the credentials for the next run\n",
    "        with open(\"token.json\", \"w\") as token:\n",
    "            token.write(creds.to_json())\n",
    "\n",
    "    # Return the Google Calendar service along with creds.\n",
    "    service = build('calendar', 'v3', credentials=creds)\n",
    "    return service, creds\n",
    "\n",
    "service, creds = authenticate_google_services()  # Authenticate and get credentials for Google Calendar and BigQuery.\n",
    "\n",
    "project_id = 'circular-maxim-436817-e3'\n",
    "dataset_id = 'kierne35539432nun34b'\n",
    "table_id = 'events'\n",
    "full_table_id = f\"{project_id}.{dataset_id}.{table_id}\"\n",
    "\n",
    "client = bigquery.Client(credentials=creds, project=project_id)\n",
    "\n",
    "try:\n",
    "    to_gbq(df, destination_table=full_table_id, project_id=project_id, if_exists='replace', credentials=creds, progress_bar=True)\n",
    "    print(\"Data uploaded to BigQuery successfully!\")   #  Inserting data into BigQuery \"events\" table.\n",
    "except Exception as e:\n",
    "    print(f\"An error occurred: {e}\")"
   ]
  },
  {
   "cell_type": "code",
   "execution_count": 7,
   "metadata": {},
   "outputs": [
    {
     "name": "stdout",
     "output_type": "stream",
     "text": [
      "Processed batch 1 with 6 events in current page\n",
      "Total of 6 events were deleted successfully.\n"
     ]
    }
   ],
   "source": [
    "def delete_all_events_in_batches(service, calendarId='primary', batch_size=1000):\n",
    "    \"\"\"Deletes all events from Google Calendar using batch requests and tracks successful deletions, handling pagination.\"\"\"\n",
    "    \n",
    "    total_deleted = 0  # Track the total number of successfully deleted events\n",
    "    page_token = None  # To handle pagination\n",
    "    \n",
    "    # Callback function to track each successful deletion\n",
    "    def callback(request_id, response, exception):\n",
    "        nonlocal total_deleted\n",
    "        if exception is None:\n",
    "            total_deleted += 1  # Increment on successful deletion\n",
    "    \n",
    "    # Fetch and delete events page by page\n",
    "    while True:\n",
    "        # Fetch events with pagination\n",
    "        events_result = service.events().list(calendarId=calendarId, pageToken=page_token).execute()\n",
    "        events = events_result.get('items', [])\n",
    "        \n",
    "        if not events:\n",
    "            break  # No more events to process\n",
    "\n",
    "        event_ids = [event['id'] for event in events]  # Extract event IDs\n",
    "        total_events_in_page = len(event_ids)\n",
    "\n",
    "        # Process the events in batches for each page of results\n",
    "        for i in range(0, total_events_in_page, batch_size):\n",
    "            batch = BatchHttpRequest(batch_uri=\"https://www.googleapis.com/batch/calendar/v3\")\n",
    "            current_batch_ids = event_ids[i:i+batch_size]\n",
    "            \n",
    "            for event_id in current_batch_ids:\n",
    "                batch.add(service.events().delete(calendarId=calendarId, eventId=event_id), callback=callback)\n",
    "            \n",
    "            # Execute the batch deletion\n",
    "            batch.execute()\n",
    "            print(f\"Processed batch {i // batch_size + 1} with {len(current_batch_ids)} events in a current page\")\n",
    "        \n",
    "        # Check if there's a next page of events\n",
    "        page_token = events_result.get('nextPageToken')\n",
    "        if not page_token:\n",
    "            break  # No more pages\n",
    "\n",
    "    print(f\"Total of {total_deleted} events were deleted successfully from Google Calendar.\")\n",
    "\n",
    "delete_all_events_in_batches(service)"
   ]
  },
  {
   "cell_type": "code",
   "execution_count": 10,
   "metadata": {},
   "outputs": [
    {
     "name": "stdout",
     "output_type": "stream",
     "text": [
      "The shape of loaded dataframe is: (6, 6)\n",
      "The total of 6 events were loaded from BigQuery\n"
     ]
    }
   ],
   "source": [
    "def load_events_from_csv():\n",
    "    \"\"\"Loads events from a CSV DataFrame and returns them as a list of event objects.\"\"\"\n",
    "    events = []\n",
    "\n",
    "    query = f\"SELECT * FROM {full_table_id}\"\n",
    "    df_loaded = client.query(query).to_dataframe()  # Load the data from BigQuery into a pandas DataFrame.\n",
    "    print('The shape of loaded dataframe is:', df_loaded.shape)\n",
    "\n",
    "    for _, row in df_loaded.iterrows():\n",
    "        # Convert start date and time to datetime\n",
    "        start_datetime_str = f\"{row['Start date']}T{row['Start time']}\"\n",
    "        start_time_obj = pd.to_datetime(start_datetime_str)\n",
    "\n",
    "        # Check if End time is provided; if not, add 27 minutes to Start time\n",
    "        if pd.isna(row.get('End time')):  # If 'End time' is None or NaN\n",
    "            end_time_obj = start_time_obj + timedelta(minutes=27)  # Add 27 minutes\n",
    "        else:\n",
    "            # Convert End time and assume same date as Start date\n",
    "            end_datetime_str = f\"{row['Start date']}T{row['End time']}\"\n",
    "            end_time_obj = pd.to_datetime(end_datetime_str)\n",
    "        \n",
    "        # Prepare the event details for Google Calendar\n",
    "        event = {\n",
    "            'summary': row['Subject'],\n",
    "            'location': row['Location'],\n",
    "            'start': {\n",
    "                'dateTime': start_time_obj.strftime(\"%Y-%m-%dT%H:%M:%S\"),\n",
    "                'timeZone': 'Europe/Berlin',  # Set to your timezone\n",
    "            },\n",
    "            'end': {\n",
    "                'dateTime': end_time_obj.strftime(\"%Y-%m-%dT%H:%M:%S\"),\n",
    "                'timeZone': 'Europe/Berlin',  # Set to your timezone\n",
    "            }\n",
    "        }\n",
    "        events.append(event)\n",
    "    print(\"The total of\", len(events), \"events were loaded from BigQuery\")\n",
    "    return events\n",
    "\n",
    "events = load_events_from_csv() "
   ]
  },
  {
   "cell_type": "code",
   "execution_count": 11,
   "metadata": {},
   "outputs": [
    {
     "name": "stdout",
     "output_type": "stream",
     "text": [
      "Executing batch 1 for events -994 to 6...\n",
      "Event created: https://www.google.com/calendar/event?eid=OWFtMDh2Y3Ryb2p1NW5nZHYwZnVjM2Njb2cgZm9rczI0M2RhYmw0QG0\n",
      "Event created: https://www.google.com/calendar/event?eid=aTNxYTM0YnYxNXV2cW5paW80a2wzamozZjAgZm9rczI0M2RhYmw0QG0\n",
      "Event created: https://www.google.com/calendar/event?eid=aG0xa25rdW00ZnNyYXUwNWVya2gxb2Q4MDQgZm9rczI0M2RhYmw0QG0\n",
      "Event created: https://www.google.com/calendar/event?eid=dG9nZ2Y4NzhubGV1Z2p0bmFhMDdnYnBsaDAgZm9rczI0M2RhYmw0QG0\n",
      "Event created: https://www.google.com/calendar/event?eid=azY5cmU0NnRqZmY3Z2kwNWo5a25vZmRiZm8gZm9rczI0M2RhYmw0QG0\n",
      "Event created: https://www.google.com/calendar/event?eid=dmpjMmNtdTBhMW11cmNuOG5mY2RqYjc0MDAgZm9rczI0M2RhYmw0QG0\n",
      "Processed batch 1\n",
      "Total events successfully created: 6\n"
     ]
    }
   ],
   "source": [
    "# Inserting events to Google Calendar.\n",
    "event_ids = []  # Initialize a list to store event IDs\n",
    "\n",
    "def callback(request_id, response, exception):\n",
    "    if exception is not None:\n",
    "        # Log or handle the error accordingly\n",
    "        print(f\"Error: {exception}\")\n",
    "    else:\n",
    "        event_id = response.get('id')  # Get the event ID from the response\n",
    "        event_ids.append(event_id)  # Append the event ID to the list\n",
    "        print(f\"Event created: {response.get('htmlLink')}\") # should be deleted.\n",
    "\n",
    "# Function to create events in batches\n",
    "def create_events_in_batches(service, events, batch_size=1000):\n",
    "    \"\"\"Creates events in Google Calendar using multiple batch requests.\"\"\"\n",
    "    total_events = len(events)\n",
    "    \n",
    "    # Create a batch request object with the correct batch path for Google Calendar API\n",
    "    batch = BatchHttpRequest(callback=callback, batch_uri=\"https://www.googleapis.com/batch/calendar/v3\")\n",
    "    \n",
    "    for i, event in enumerate(events):\n",
    " \n",
    "        # Add the request to the batch using only the relative path for each event insert request\n",
    "        request = service.events().insert(calendarId='primary', body=event)\n",
    "        batch.add(request, request_id=str(i))\n",
    "        \n",
    "        # Execute the batch when the batch_size is reached or when at the last event\n",
    "        if (i + 1) % batch_size == 0 or (i + 1) == total_events:\n",
    "            print(f\"Executing batch {i // batch_size + 1} for events {i - batch_size + 1} to {i + 1}...\")\n",
    "            batch.execute()  # Execute the batch\n",
    "            print(f\"Processed batch {i // batch_size + 1}\")\n",
    "\n",
    "            # Reset the batch for the next set of events\n",
    "            batch = BatchHttpRequest(callback=callback, batch_uri=\"https://www.googleapis.com/batch/calendar/v3\")\n",
    "    \n",
    "create_events_in_batches(service, events)\n",
    "print(f\"Total events successfully created in Calendar: {len(event_ids)}\") "
   ]
  }
 ],
 "metadata": {
  "kernelspec": {
   "display_name": "venvproject",
   "language": "python",
   "name": "venvproject"
  },
  "language_info": {
   "codemirror_mode": {
    "name": "ipython",
    "version": 3
   },
   "file_extension": ".py",
   "mimetype": "text/x-python",
   "name": "python",
   "nbconvert_exporter": "python",
   "pygments_lexer": "ipython3",
   "version": "3.12.2"
  }
 },
 "nbformat": 4,
 "nbformat_minor": 2
}
