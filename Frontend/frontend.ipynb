{
 "cells": [
  {
   "cell_type": "code",
   "execution_count": 4,
   "metadata": {},
   "outputs": [
    {
     "ename": "KeyboardInterrupt",
     "evalue": "",
     "output_type": "error",
     "traceback": [
      "\u001b[1;31m---------------------------------------------------------------------------\u001b[0m",
      "\u001b[1;31mKeyboardInterrupt\u001b[0m                         Traceback (most recent call last)",
      "Cell \u001b[1;32mIn[4], line 58\u001b[0m\n\u001b[0;32m     56\u001b[0m root \u001b[38;5;241m=\u001b[39m tk\u001b[38;5;241m.\u001b[39mTk()\n\u001b[0;32m     57\u001b[0m app \u001b[38;5;241m=\u001b[39m EventSchedulerApp(root)\n\u001b[1;32m---> 58\u001b[0m \u001b[43mroot\u001b[49m\u001b[38;5;241;43m.\u001b[39;49m\u001b[43mmainloop\u001b[49m\u001b[43m(\u001b[49m\u001b[43m)\u001b[49m\n",
      "File \u001b[1;32mc:\\Users\\heans\\AppData\\Local\\Programs\\Python\\Python312\\Lib\\tkinter\\__init__.py:1504\u001b[0m, in \u001b[0;36mMisc.mainloop\u001b[1;34m(self, n)\u001b[0m\n\u001b[0;32m   1502\u001b[0m \u001b[38;5;28;01mdef\u001b[39;00m \u001b[38;5;21mmainloop\u001b[39m(\u001b[38;5;28mself\u001b[39m, n\u001b[38;5;241m=\u001b[39m\u001b[38;5;241m0\u001b[39m):\n\u001b[0;32m   1503\u001b[0m \u001b[38;5;250m    \u001b[39m\u001b[38;5;124;03m\"\"\"Call the mainloop of Tk.\"\"\"\u001b[39;00m\n\u001b[1;32m-> 1504\u001b[0m     \u001b[38;5;28;43mself\u001b[39;49m\u001b[38;5;241;43m.\u001b[39;49m\u001b[43mtk\u001b[49m\u001b[38;5;241;43m.\u001b[39;49m\u001b[43mmainloop\u001b[49m\u001b[43m(\u001b[49m\u001b[43mn\u001b[49m\u001b[43m)\u001b[49m\n",
      "\u001b[1;31mKeyboardInterrupt\u001b[0m: "
     ]
    },
    {
     "ename": "",
     "evalue": "",
     "output_type": "error",
     "traceback": [
      "\u001b[1;31mThe Kernel crashed while executing code in the current cell or a previous cell. \n",
      "\u001b[1;31mPlease review the code in the cell(s) to identify a possible cause of the failure. \n",
      "\u001b[1;31mClick <a href='https://aka.ms/vscodeJupyterKernelCrash'>here</a> for more info. \n",
      "\u001b[1;31mView Jupyter <a href='command:jupyter.viewOutput'>log</a> for further details."
     ]
    }
   ],
   "source": [
    "import tkinter as tk\n",
    "from tkinter import messagebox\n",
    "\n",
    "# Sample data for demonstration\n",
    "sample_events = [\n",
    "    {\"city\": \"Berlin\", \"event\": \"Tech Conference\", \"date\": \"2024-11-05\"},\n",
    "    {\"city\": \"Hamburg\", \"event\": \"Art Expo\", \"date\": \"2024-11-06\"},\n",
    "    {\"city\": \"Munich\", \"event\": \"Startup Summit\", \"date\": \"2024-11-10\"},\n",
    "]\n",
    "\n",
    "class EventSchedulerApp:\n",
    "    def __init__(self, root):\n",
    "        self.root = root\n",
    "        self.root.title(\"Event Scheduler\")\n",
    "        self.selected_events = []\n",
    "\n",
    "        # Create buttons for checking data and sending to Google Calendar\n",
    "        self.check_data_btn = tk.Button(root, text=\"Check Data\", command=self.check_data)\n",
    "        self.check_data_btn.pack(pady=10)\n",
    "        \n",
    "        self.send_to_calendar_btn = tk.Button(root, text=\"Send to Google Calendar\", command=self.send_to_calendar)\n",
    "        self.send_to_calendar_btn.pack(pady=10)\n",
    "\n",
    "        # Frame to hold event checkboxes\n",
    "        self.event_frame = tk.Frame(root)\n",
    "        self.event_frame.pack(pady=10)\n",
    "\n",
    "    def check_data(self):\n",
    "        # Clear existing checkbuttons\n",
    "        for widget in self.event_frame.winfo_children():\n",
    "            widget.destroy()\n",
    "\n",
    "        # Create a checkbutton for each event\n",
    "        self.event_vars = []\n",
    "        for event in sample_events:\n",
    "            var = tk.IntVar()\n",
    "            chk = tk.Checkbutton(self.event_frame, text=f\"{event['city']}: {event['event']} on {event['date']}\", variable=var)\n",
    "            chk.pack(anchor='w')\n",
    "            self.event_vars.append((var, event))\n",
    "\n",
    "        messagebox.showinfo(\"Data Loaded\", \"Sample data loaded. Select events to send to Google Calendar.\")\n",
    "\n",
    "    def send_to_calendar(self):\n",
    "        # Get selected events\n",
    "        self.selected_events = [event for var, event in self.event_vars if var.get() == 1]\n",
    "        \n",
    "        if not self.selected_events:\n",
    "            messagebox.showwarning(\"No Selection\", \"Please select at least one event to send.\")\n",
    "            return\n",
    "        \n",
    "        # Simulate sending to Google Calendar\n",
    "        event_list = \"\\n\".join([f\"{event['city']}: {event['event']} on {event['date']}\" for event in self.selected_events])\n",
    "        messagebox.showinfo(\"Send to Calendar\", f\"Sending the following events to Google Calendar:\\n\\n{event_list}\")\n",
    "\n",
    "# Create main window\n",
    "root = tk.Tk()\n",
    "app = EventSchedulerApp(root)\n",
    "root.mainloop()\n"
   ]
  }
 ],
 "metadata": {
  "kernelspec": {
   "display_name": "Python 3",
   "language": "python",
   "name": "python3"
  },
  "language_info": {
   "codemirror_mode": {
    "name": "ipython",
    "version": 3
   },
   "file_extension": ".py",
   "mimetype": "text/x-python",
   "name": "python",
   "nbconvert_exporter": "python",
   "pygments_lexer": "ipython3",
   "version": "3.12.2"
  }
 },
 "nbformat": 4,
 "nbformat_minor": 2
}
