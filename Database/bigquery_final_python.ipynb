{
 "cells": [
  {
   "cell_type": "markdown",
   "metadata": {},
   "source": [
    "### Connecting to Big Query and Calendar"
   ]
  },
  {
   "cell_type": "code",
   "execution_count": 1,
   "metadata": {},
   "outputs": [],
   "source": [
    "# using service account only to connect to BigQuery and Calendar.\n",
    "from googleapiclient.discovery import build\n",
    "from datetime import timedelta\n",
    "from googleapiclient.http import BatchHttpRequest\n",
    "from google.oauth2 import service_account\n",
    "from google.cloud import bigquery\n",
    "from pandas_gbq import to_gbq\n",
    "from googleapiclient.errors import HttpError\n",
    "import time\n",
    "import datetime as datetime\n",
    "import pandas as pd  \n",
    "import numpy as np\n",
    "from datetime import datetime, timedelta, date\n",
    "import re\n",
    "\n",
    "# from sentence_transformers import SentenceTransformer, util\n",
    "# from rapidfuzz.fuzz import ratio"
   ]
  },
  {
   "cell_type": "markdown",
   "metadata": {},
   "source": [
    "### Credentials"
   ]
  },
  {
   "cell_type": "code",
   "execution_count": 2,
   "metadata": {},
   "outputs": [],
   "source": [
    "SERVICE_CREDENTIALS = 'service_credentials_final.json'\n",
    "\n",
    "# Define both scopes for Calendar and BigQuery\n",
    "SCOPES = [\n",
    "    \"https://www.googleapis.com/auth/calendar\",  # Google Calendar\n",
    "    \"https://www.googleapis.com/auth/bigquery\"   # BigQuery\n",
    "]\n",
    "\n",
    "# Create credentials with both scopes\n",
    "credentials = service_account.Credentials.from_service_account_file(SERVICE_CREDENTIALS, scopes=SCOPES)\n",
    "\n",
    "# Create BigQuery client and Calendar service using the same credentials.\n",
    "client = bigquery.Client(credentials=credentials, project=credentials.project_id)\n",
    "calendar_service = build('calendar', 'v3', credentials=credentials)"
   ]
  },
  {
   "cell_type": "markdown",
   "metadata": {},
   "source": [
    "### Checking BigQuery Connection"
   ]
  },
  {
   "cell_type": "code",
   "execution_count": 3,
   "metadata": {},
   "outputs": [
    {
     "name": "stdout",
     "output_type": "stream",
     "text": [
      "BigQuery connection successful. Number of tables: 10\n"
     ]
    }
   ],
   "source": [
    "project_id = credentials.project_id    # or just write:  'circular-maxim-436817-e3'\n",
    "dataset_id = 'events_data'\n",
    "# table_id_new = 'new_events'\n",
    "# full_table_id = f\"{project_id}.{dataset_id}.{table_id_new}\"\n",
    "# table_id_old = 'old_events'  # a table to store old_events (existing events).\n",
    "\n",
    "def test_bigquery_connection(client):\n",
    "    query = f\"\"\"\n",
    "    SELECT COUNT(*)\n",
    "    FROM `{project_id}.{dataset_id}.__TABLES_SUMMARY__`\n",
    "    \"\"\"\n",
    "    try:\n",
    "        query_job = client.query(query)\n",
    "        result = next(query_job.result())  # Fetch result to ensure query runs\n",
    "        print(\"BigQuery connection successful. Number of tables:\", result[0])\n",
    "    except Exception as e:\n",
    "        print(\"Error connecting to BigQuery:\", e)\n",
    "\n",
    "# Test the BigQuery connection\n",
    "test_bigquery_connection(client)"
   ]
  },
  {
   "cell_type": "markdown",
   "metadata": {},
   "source": [
    "### Reading tables in the dataset"
   ]
  },
  {
   "cell_type": "code",
   "execution_count": 4,
   "metadata": {},
   "outputs": [
    {
     "name": "stdout",
     "output_type": "stream",
     "text": [
      "Tables in dataset events_data:\n",
      "events_data_new_events_20241215\n",
      "events_data_new_events_20241217\n",
      "events_data_new_events_temp\n",
      "events_data_old_events_20241213\n",
      "events_data_old_events_20241215\n",
      "events_data_old_events_20241217\n",
      "scraped_events_20241216_123258\n",
      "scraped_events_20241216_125349\n",
      "scraped_events_20241216_133134\n",
      "scraped_events_20241216_144020\n"
     ]
    }
   ],
   "source": [
    "dataset_ref = f\"{project_id}.{dataset_id}\"\n",
    "\n",
    "# List tables in the dataset\n",
    "tables = client.list_tables(dataset_ref)\n",
    "\n",
    "# Print the table names\n",
    "print(f\"Tables in dataset {dataset_id}:\")\n",
    "for table in tables:\n",
    "    print(table.table_id)"
   ]
  },
  {
   "cell_type": "code",
   "execution_count": 5,
   "metadata": {},
   "outputs": [],
   "source": [
    "today = date.today()\n",
    "\n",
    "format_today = today.strftime(\"%Y%m%d\")"
   ]
  },
  {
   "cell_type": "markdown",
   "metadata": {},
   "source": [
    "### Load Table into pandas df"
   ]
  },
  {
   "cell_type": "code",
   "execution_count": 30,
   "metadata": {},
   "outputs": [],
   "source": [
    "table_name = \"events_data_new_events_temp\"\n",
    "\n",
    "# Full table reference\n",
    "table_ref = f\"{dataset_ref}.{table_name}\"\n",
    "\n",
    "# Load data into a DataFrame\n",
    "query = f\"SELECT * FROM `{table_ref}`\"\n",
    "combined_df = client.query(query).to_dataframe()"
   ]
  },
  {
   "cell_type": "markdown",
   "metadata": {},
   "source": [
    "### Preprocessing"
   ]
  },
  {
   "cell_type": "code",
   "execution_count": 31,
   "metadata": {},
   "outputs": [],
   "source": [
    "combined_df = combined_df.rename(columns={'Start_Date': 'Start Date', 'End_Date': 'End Date', 'Start_Time': 'Start Time', 'End_Time': 'End Time'})\n",
    "combined_df = combined_df.drop(columns=['Unnamed: 0'])"
   ]
  },
  {
   "cell_type": "markdown",
   "metadata": {},
   "source": [
    "### Creating dataset"
   ]
  },
  {
   "cell_type": "code",
   "execution_count": 118,
   "metadata": {},
   "outputs": [
    {
     "name": "stdout",
     "output_type": "stream",
     "text": [
      "Created dataset lucky-reactor-443308-r4:events_data.\n"
     ]
    }
   ],
   "source": [
    "# dataset_id = f\"{project_id}.events_data\"  # Replace with your dataset name\n",
    "\n",
    "# # Define the dataset properties\n",
    "# dataset = bigquery.Dataset(dataset_id)\n",
    "# dataset.location = \"EU\"  # Set the dataset location (e.g., \"US\" or \"EU\")\n",
    "\n",
    "# # Create the dataset\n",
    "# dataset = client.create_dataset(dataset, timeout=30)\n",
    "# print(f\"Created dataset {dataset.full_dataset_id}.\")"
   ]
  },
  {
   "cell_type": "markdown",
   "metadata": {},
   "source": [
    "### Read and combine all .csv files"
   ]
  },
  {
   "cell_type": "code",
   "execution_count": 32,
   "metadata": {},
   "outputs": [],
   "source": [
    "# import os\n",
    "\n",
    "# output_folder = 'processed_csv'\n",
    "\n",
    "# # Ensure the output folder exists\n",
    "# os.makedirs(output_folder, exist_ok=True)\n",
    "\n",
    "# # Columns to extract and their renamed counterparts\n",
    "# columns_mapping = {\n",
    "#     'Subject': 'Subject',\n",
    "#     'Start_date': 'Start Date',\n",
    "#     'End_date': 'End Date',\n",
    "#     'Start_time': 'Start Time',\n",
    "#     'End_time': 'End Time',\n",
    "#     'Location': 'Location',\n",
    "#     'City': 'City',\n",
    "#     'Description': 'Description',\n",
    "#     'Category': 'Category',\n",
    "#     'Music_label': 'Music_label'\n",
    "# }\n",
    "\n",
    "# # List to store processed DataFrames\n",
    "# processed_dataframes = []\n",
    "# # List to store modified City column values\n",
    "# city_values = []\n",
    "\n",
    "# Function to convert German umlauts and spaces\n",
    "def format_city_name(city_name):\n",
    "    city_name = city_name.replace('ä', 'ae').replace('ö', 'oe').replace('ü', 'ue')\n",
    "    city_name = city_name.replace('Ä', 'Ae').replace('Ö', 'Oe').replace('Ü', 'Ue')\n",
    "    city_name = city_name.replace('ß', 'ss')\n",
    "    city_name = city_name.replace(' ', '_')\n",
    "    city_name = city_name.replace('/', '')  # Remove forward slashes\n",
    "    city_name = city_name.replace('.', '').replace(',', '').replace('(', '').replace(')', '').replace('-', '')\n",
    "    # List of target cities to normalize\n",
    "    target_cities = [\"Hamburg\", \"Luebeck\", \"Norderstedt\", \"Hannover\", \"Bremen\", \"Braunschweig\"]\n",
    "    \n",
    "    # Check if city_name contains any target city\n",
    "    for target_city in target_cities:\n",
    "        if target_city in city_name:\n",
    "            city_name = target_city\n",
    "            break\n",
    "    if city_name == 'inselweit':\n",
    "        city_name = 'Amrum_inselweit'\n",
    "    return city_name\n",
    "\n",
    "# Convert uppercase city names to title case\n",
    "combined_df['City'] = combined_df['City'].apply(lambda x: x.title() if x.isupper() else x)\n",
    "# Remove rows with empty City values\n",
    "combined_df = combined_df[combined_df['City'] != '_']\n",
    "# Drop rows where 'City' contains 'http'\n",
    "combined_df = combined_df[~combined_df['City'].str.contains('http', case=False, na=False)]\n",
    "# Drop rows where 'City' is empty or null\n",
    "combined_df = combined_df[combined_df['City'].notna() & (combined_df['City'].str.strip() != '')]\n",
    "\n",
    "# # Save the combined DataFrame to a single CSV file\n",
    "# combined_file_path = os.path.join(output_folder, 'combined_data.csv')\n",
    "# combined_df.to_csv(combined_file_path, index=False)\n",
    "\n",
    "# # Save the unique City names to a file\n",
    "# unique_city_file_path = os.path.join(output_folder, 'unique_cities.txt')\n",
    "# with open(unique_city_file_path, 'w') as f:\n",
    "#     for city in sorted(set(city_values)):\n",
    "#         f.write(city + '\\n')\n",
    "\n",
    "# print(f\"Processed files saved to {output_folder}\")\n",
    "# print(f\"Combined DataFrame saved as {combined_file_path}\")\n",
    "# print(f\"Unique City names saved as {unique_city_file_path}\")"
   ]
  },
  {
   "cell_type": "code",
   "execution_count": 62,
   "metadata": {},
   "outputs": [],
   "source": [
    "# # Load existing dataset names from BigQuery\n",
    "# def get_dataset_names():\n",
    "#     datasets = client.list_datasets(project=project_id)\n",
    "#     return [dataset.dataset_id for dataset in datasets]\n",
    "\n",
    "# # Create a new dataset in BigQuery\n",
    "# def create_dataset(dataset_name):\n",
    "#     dataset_id = f\"{project_id}.{dataset_name}\"\n",
    "#     dataset = bigquery.Dataset(dataset_id)\n",
    "#     dataset.location = \"EU\"  # Set the location (update as needed)\n",
    "\n",
    "#     try:\n",
    "#         client.create_dataset(dataset, exists_ok=True)\n",
    "#         print(f\"Dataset '{dataset_name}' created successfully.\")\n",
    "#     except Exception as e:\n",
    "#         print(f\"Failed to create dataset '{dataset_name}': {e}\")\n",
    "\n",
    "# # Compare and create missing datasets\n",
    "# def compare_and_create(city_values, dataset_names):\n",
    "#     for city in city_values:\n",
    "#         if city not in dataset_names:\n",
    "#             print(f\"Dataset for '{city}' not found. Creating...\")\n",
    "#             create_dataset(city)"
   ]
  },
  {
   "cell_type": "code",
   "execution_count": 63,
   "metadata": {},
   "outputs": [
    {
     "name": "stdout",
     "output_type": "stream",
     "text": [
      "Dataset for '_' not found. Creating...\n",
      "Dataset '_' created successfully.\n"
     ]
    }
   ],
   "source": [
    "# # Load city_values from processed CSV\n",
    "# city_values_file = \"processed_csv/unique_cities.txt\"\n",
    "# with open(city_values_file, \"r\") as f:\n",
    "#     city_values = [line.strip() for line in f.readlines()]\n",
    "\n",
    "# # Get existing dataset names from BigQuery\n",
    "# dataset_names = get_dataset_names()\n",
    "\n",
    "# # Compare and create missing datasets\n",
    "# compare_and_create(city_values, dataset_names)"
   ]
  },
  {
   "cell_type": "markdown",
   "metadata": {},
   "source": [
    "### Delete dataset"
   ]
  },
  {
   "cell_type": "code",
   "execution_count": 117,
   "metadata": {},
   "outputs": [
    {
     "name": "stdout",
     "output_type": "stream",
     "text": [
      "Found 237 datasets. Deleting...\n",
      "Deleted dataset: Hitzacker_Elbe\n",
      "Deleted dataset: Hodenhagen\n",
      "Deleted dataset: Hoehndorf\n",
      "Deleted dataset: Hoernum\n",
      "Deleted dataset: Hohenaspe\n",
      "Deleted dataset: Hohenlockstedt\n",
      "Deleted dataset: Hohenwestedt\n",
      "Deleted dataset: Hohwacht_Ostsee\n",
      "Deleted dataset: Hoisdorf\n",
      "Deleted dataset: Hollenstedt_NDS\n",
      "Deleted dataset: Hooge\n",
      "Deleted dataset: Horneburg\n",
      "Deleted dataset: Hornstorf\n",
      "Deleted dataset: Horst\n",
      "Deleted dataset: Husum\n",
      "Deleted dataset: Ihlienworth\n",
      "Deleted dataset: Itzehoe\n",
      "Deleted dataset: Jesteburg\n",
      "Deleted dataset: Joldelund\n",
      "Deleted dataset: Jork\n",
      "Deleted dataset: Kalkhorst\n",
      "Deleted dataset: Kaltenkirchen\n",
      "Deleted dataset: Kampen_Sylt_Schleswig_Holstein\n",
      "Deleted dataset: Kellenhusen\n",
      "Deleted dataset: Kellinghusen\n",
      "Deleted dataset: Kiebitzreihe\n",
      "Deleted dataset: Kiel\n",
      "Deleted dataset: Kiel_SH\n",
      "Deleted dataset: Kiel_Wik\n",
      "Deleted dataset: Kisdorf\n",
      "Deleted dataset: Klanxbuell\n",
      "Deleted dataset: Klein_OffensethSparrieshoop\n",
      "Deleted dataset: Klein_Wesenberg\n",
      "Deleted dataset: Kluetz\n",
      "Deleted dataset: Kranenburg_Oste\n",
      "Deleted dataset: Krempe\n",
      "Deleted dataset: Kremperheide\n",
      "Deleted dataset: Kuecknitz_bei_Travemuende\n",
      "Deleted dataset: KuhlenWendorf\n",
      "Deleted dataset: Laboe\n",
      "Deleted dataset: Laegerdorf\n",
      "Deleted dataset: Langen\n",
      "Deleted dataset: Langwedel\n",
      "Deleted dataset: Lauenburg__Elbe\n",
      "Deleted dataset: Leck\n",
      "Deleted dataset: Leezen\n",
      "Deleted dataset: Lensahn\n",
      "Deleted dataset: Loxstedt\n",
      "Deleted dataset: Ludwigslust\n",
      "Deleted dataset: Luebeck\n",
      "Deleted dataset: Luebstorf\n",
      "Deleted dataset: Luechow_Wendland\n",
      "Deleted dataset: Luedersburg\n",
      "Deleted dataset: Lueneburg\n",
      "Deleted dataset: Luetjensee\n",
      "Deleted dataset: Lutterbek\n",
      "Deleted dataset: Malente\n",
      "Deleted dataset: Marne\n",
      "Deleted dataset: Meldorf\n",
      "Deleted dataset: Midlum\n",
      "Deleted dataset: Moelln\n",
      "Deleted dataset: Moerel_Holstein\n",
      "Deleted dataset: Mueden_Oertze\n",
      "Deleted dataset: Muensterdorf\n",
      "Deleted dataset: Munster\n",
      "Deleted dataset: NEUMUeNSTER\n",
      "Deleted dataset: Nahe\n",
      "Deleted dataset: Nebel\n",
      "Deleted dataset: NebelSueddorf\n",
      "Deleted dataset: NebelWesterheide\n",
      "Deleted dataset: Neritz\n",
      "Deleted dataset: Neu_Duvenstedt\n",
      "Deleted dataset: Neuburg\n",
      "Deleted dataset: Neuengoers\n",
      "Deleted dataset: Neuenkirchen_Lueneburger_Heide\n",
      "Deleted dataset: Neuhaus_Oste\n",
      "Deleted dataset: Neumuenster\n",
      "Deleted dataset: Neustadt__Holstein\n",
      "Deleted dataset: Neustadt_in_Holstein\n",
      "Deleted dataset: Nieblum\n",
      "Deleted dataset: Niebuell\n",
      "Deleted dataset: Niendorf\n",
      "Deleted dataset: Niendorf__Ostsee\n",
      "Deleted dataset: Norddorf\n",
      "Deleted dataset: Norddorf_auf_Amrum\n",
      "Deleted dataset: Nordermeldorf\n",
      "Deleted dataset: Norderstedt\n",
      "Deleted dataset: Nordleda\n",
      "Deleted dataset: Nordstrand\n",
      "Deleted dataset: Nortorf\n",
      "Deleted dataset: Nusse\n",
      "Deleted dataset: Ockholm\n",
      "Deleted dataset: Oelixdorf\n",
      "Deleted dataset: Oldendorf_Kreis_Stade\n",
      "Deleted dataset: Osten\n",
      "Deleted dataset: Ostseebad_Boltenhagen\n",
      "Deleted dataset: Otterndorf\n",
      "Deleted dataset: Ottersberg\n",
      "Deleted dataset: Owschlag\n",
      "Deleted dataset: Oyten_Niedersachsen\n",
      "Deleted dataset: Panten\n",
      "Deleted dataset: Parchim\n",
      "Deleted dataset: Pellworm\n",
      "Deleted dataset: Pelzerhaken\n",
      "Deleted dataset: Pinneberg\n",
      "Deleted dataset: Plate\n",
      "Deleted dataset: Plau_am_See\n",
      "Deleted dataset: Ploen\n",
      "Deleted dataset: Poenitz\n",
      "Deleted dataset: Privelack\n",
      "Deleted dataset: Probsteierhagen\n",
      "Deleted dataset: Pronstorf\n",
      "Deleted dataset: Quickborn\n",
      "Deleted dataset: Rantum__Sylt\n",
      "Deleted dataset: Ratekau\n",
      "Deleted dataset: Ratzeburg\n",
      "Deleted dataset: Redefin\n",
      "Deleted dataset: Reinbek\n",
      "Deleted dataset: Reinfeld\n",
      "Deleted dataset: Reinfeld_Holstein\n",
      "Deleted dataset: Rellingen\n",
      "Deleted dataset: Rendsburg\n",
      "Deleted dataset: Reppenstedt\n",
      "Deleted dataset: Rethwisch_Stormarn\n",
      "Deleted dataset: Rettin\n",
      "Deleted dataset: Reussenkoege\n",
      "Deleted dataset: Rickling\n",
      "Deleted dataset: Rieseby\n",
      "Deleted dataset: RisumLindholm\n",
      "Deleted dataset: Rohlstorf\n",
      "Deleted dataset: Rosengarten\n",
      "Deleted dataset: Rotenburg_Wuemme\n",
      "Deleted dataset: Salzhausen\n",
      "Deleted dataset: Sandesneben\n",
      "Deleted dataset: Sankt_Michaelisdonn\n",
      "Deleted dataset: Sankt_PeterOrding\n",
      "Deleted dataset: Scharbeutz\n",
      "Deleted dataset: Scharbeutz_Haffkrug\n",
      "Deleted dataset: Scharbeutz_OT_Gleschendorf\n",
      "Deleted dataset: Scharbeutz_OT_Schuersdorf\n",
      "Deleted dataset: Scharbeutz_SN\n",
      "Deleted dataset: Scharnebeck\n",
      "Deleted dataset: Scharnebeck_Artlenburg\n",
      "Deleted dataset: Scheessel\n",
      "Deleted dataset: Schenefeld\n",
      "Deleted dataset: Schenefeld_Kreis_Steinburg\n",
      "Deleted dataset: Schleswig\n",
      "Deleted dataset: Schlowe\n",
      "Deleted dataset: Schneverdingen\n",
      "Deleted dataset: Schoenberg\n",
      "Deleted dataset: Schuersdorf\n",
      "Deleted dataset: Schwarzenbek\n",
      "Deleted dataset: Schwerin\n",
      "Deleted dataset: Schwerin_MV\n",
      "Deleted dataset: Seedorf_Kreis_Segeberg\n",
      "Deleted dataset: Seester\n",
      "Deleted dataset: Seevetal\n",
      "Deleted dataset: Seevetal_Hittfeld\n",
      "Deleted dataset: Seevetal_Ramelsloh\n",
      "Deleted dataset: Selsingen\n",
      "Deleted dataset: Seth\n",
      "Deleted dataset: Siebenbaeumen\n",
      "Deleted dataset: Sierksdorf\n",
      "Deleted dataset: Sievershuetten\n",
      "Deleted dataset: Simonsberg\n",
      "Deleted dataset: Sittensen\n",
      "Deleted dataset: Soderstorf\n",
      "Deleted dataset: Soltau\n",
      "Deleted dataset: Soltau_NDS\n",
      "Deleted dataset: Sottrum\n",
      "Deleted dataset: Spornitz_MV\n",
      "Deleted dataset: St_PeterOrding\n",
      "Deleted dataset: St_PeterOrding_Ortsteil_Ording\n",
      "Deleted dataset: Stade\n",
      "Deleted dataset: Stapel\n",
      "Deleted dataset: Stein\n",
      "Deleted dataset: Stelle\n",
      "Deleted dataset: Stemmen\n",
      "Deleted dataset: Stepenitztal\n",
      "Deleted dataset: Stepenitztal_Roxin\n",
      "Deleted dataset: Sternberg\n",
      "Deleted dataset: Stocksee\n",
      "Deleted dataset: Suederau\n",
      "Deleted dataset: Suederende\n",
      "Deleted dataset: Suelfeld\n",
      "Deleted dataset: Suesel\n",
      "Deleted dataset: Sukow\n",
      "Deleted dataset: Tellingstedt\n",
      "Deleted dataset: Tetenbuell\n",
      "Deleted dataset: Timmendorfer_Strand\n",
      "Deleted dataset: Timmendorfer_Strand_Niendorf\n",
      "Deleted dataset: Tiste\n",
      "Deleted dataset: Todesfelde\n",
      "Deleted dataset: Toenning\n",
      "Deleted dataset: Trappenkamp\n",
      "Deleted dataset: Travemuende\n",
      "Deleted dataset: Travenbrueck\n",
      "Deleted dataset: Tripkau\n",
      "Deleted dataset: Trittau\n",
      "Deleted dataset: Uelzen\n",
      "Deleted dataset: Uetersen\n",
      "Deleted dataset: Utersum\n",
      "Deleted dataset: Visselhoevede\n",
      "Deleted dataset: Wacken\n",
      "Deleted dataset: Wahlstedt\n",
      "Deleted dataset: Walsrode\n",
      "Deleted dataset: Wangels\n",
      "Deleted dataset: Wanna\n",
      "Deleted dataset: Warnsdorf__Ratekau_bei_Travemuende\n",
      "Deleted dataset: Wedel\n",
      "Deleted dataset: Weissenhaeuser_Strand\n",
      "Deleted dataset: Wesselburen\n",
      "Deleted dataset: Westergellersen\n",
      "Deleted dataset: Westerheversand\n",
      "Deleted dataset: Wewelsfleth\n",
      "Deleted dataset: Wietze\n",
      "Deleted dataset: Wietzendorf\n",
      "Deleted dataset: Wilster\n",
      "Deleted dataset: Wingst\n",
      "Deleted dataset: Winsen_Aller\n",
      "Deleted dataset: Winsen_Luhe\n",
      "Deleted dataset: Winsen_Luhe_NDS\n",
      "Deleted dataset: Wismar\n",
      "Deleted dataset: Wittduen\n",
      "Deleted dataset: Wittduen_auf_Amrum\n",
      "Deleted dataset: Wittenberge\n",
      "Deleted dataset: Worpswede\n",
      "Deleted dataset: Wriedel\n",
      "Deleted dataset: Wrixum\n",
      "Deleted dataset: Wurster_Nordseekueste\n",
      "Deleted dataset: Wyk\n",
      "Deleted dataset: Wyk_auf_Foehr\n",
      "Deleted dataset: Zarpen\n",
      "Deleted dataset: Zarrentin_am_Schaalsee\n",
      "Deleted dataset: Zeven\n",
      "Deleted dataset: Ziegendorf\n",
      "Deleted dataset: events_data\n",
      "All datasets processed.\n"
     ]
    }
   ],
   "source": [
    "# # Fetch all datasets in the project\n",
    "# datasets = list(client.list_datasets())\n",
    "\n",
    "# # Check if there are any datasets to delete\n",
    "# if datasets:\n",
    "#     print(f\"Found {len(datasets)} datasets. Deleting...\")\n",
    "#     for dataset in datasets:\n",
    "#         dataset_id = dataset.dataset_id\n",
    "#         dataset_ref = client.dataset(dataset_id)\n",
    "#         try:\n",
    "#             # Delete the dataset, including all its tables\n",
    "#             client.delete_dataset(dataset_ref, delete_contents=True, not_found_ok=True)\n",
    "#             print(f\"Deleted dataset: {dataset_id}\")\n",
    "#         except Exception as e:\n",
    "#             print(f\"Failed to delete dataset {dataset_id}: {e}\")\n",
    "# else:\n",
    "#     print(\"No datasets found in the project.\")\n",
    "\n",
    "# print(\"All datasets processed.\")"
   ]
  },
  {
   "cell_type": "code",
   "execution_count": 112,
   "metadata": {},
   "outputs": [
    {
     "name": "stdout",
     "output_type": "stream",
     "text": [
      "Dataset 'new_events' deleted successfully.\n"
     ]
    }
   ],
   "source": [
    "# dataset_id = \"new_events\"  # The dataset name to delete\n",
    "\n",
    "# # Construct the full dataset ID (project ID + dataset ID)\n",
    "# full_dataset_id = f\"{project_id}.{dataset_id}\"\n",
    "\n",
    "# # Delete the dataset\n",
    "# try:\n",
    "#     client.delete_dataset(\n",
    "#         full_dataset_id,\n",
    "#         delete_contents=True,  # Delete all tables within the dataset\n",
    "#         not_found_ok=True      # Do not raise an error if the dataset does not exist\n",
    "#     )\n",
    "#     print(f\"Dataset '{dataset_id}' deleted successfully.\")\n",
    "# except Exception as e:\n",
    "#     print(f\"Failed to delete dataset '{dataset_id}': {e}\")"
   ]
  },
  {
   "cell_type": "code",
   "execution_count": 52,
   "metadata": {},
   "outputs": [
    {
     "name": "stdout",
     "output_type": "stream",
     "text": [
      "Deleted dataset: lucky-reactor-443308-r4.Agathenburg\n",
      "Deleted dataset: lucky-reactor-443308-r4.Ahrensburg\n",
      "Deleted dataset: lucky-reactor-443308-r4.Albersdorf\n",
      "Deleted dataset: lucky-reactor-443308-r4.Alkersum\n",
      "Deleted dataset: lucky-reactor-443308-r4.Altenkrempe\n",
      "Deleted dataset: lucky-reactor-443308-r4.Altenkrempe_OT_Kassau\n",
      "Deleted dataset: lucky-reactor-443308-r4.Altenmedingen\n",
      "Deleted dataset: lucky-reactor-443308-r4.Ammersbek\n",
      "Deleted dataset: lucky-reactor-443308-r4.Amrum_inselweit\n",
      "Deleted dataset: lucky-reactor-443308-r4.Amt_Neuhaus\n",
      "Deleted dataset: lucky-reactor-443308-r4.Artlenburg\n",
      "Deleted dataset: lucky-reactor-443308-r4.Aukrug\n",
      "Deleted dataset: lucky-reactor-443308-r4.Aumuehle\n",
      "Deleted dataset: lucky-reactor-443308-r4.Bad_Bederkesa\n",
      "Deleted dataset: lucky-reactor-443308-r4.Bad_Bevensen\n",
      "Deleted dataset: lucky-reactor-443308-r4.Bad_Bodenteich\n",
      "Deleted dataset: lucky-reactor-443308-r4.Bad_Bramstedt\n",
      "Deleted dataset: lucky-reactor-443308-r4.Bad_Fallingbostel\n",
      "Deleted dataset: lucky-reactor-443308-r4.Bad_Oldesloe\n",
      "Deleted dataset: lucky-reactor-443308-r4.Bad_Schwartau\n",
      "Deleted dataset: lucky-reactor-443308-r4.Bad_Segeberg\n",
      "Deleted dataset: lucky-reactor-443308-r4.Bardowick\n",
      "Deleted dataset: lucky-reactor-443308-r4.Barendorf\n",
      "Deleted dataset: lucky-reactor-443308-r4.BargfeldStegen\n",
      "Deleted dataset: lucky-reactor-443308-r4.Bargteheide\n",
      "Deleted dataset: lucky-reactor-443308-r4.Barkhagen\n",
      "Deleted dataset: lucky-reactor-443308-r4.Barmstedt\n",
      "Deleted dataset: lucky-reactor-443308-r4.Barsbek\n",
      "Deleted dataset: lucky-reactor-443308-r4.Barsbuettel\n",
      "Deleted dataset: lucky-reactor-443308-r4.Basthorst\n",
      "Deleted dataset: lucky-reactor-443308-r4.Behlendorf\n",
      "Deleted dataset: lucky-reactor-443308-r4.Beidenfleth\n",
      "Deleted dataset: lucky-reactor-443308-r4.Bergen_Landkreis_Celle\n",
      "Deleted dataset: lucky-reactor-443308-r4.Berkenthin\n",
      "Deleted dataset: lucky-reactor-443308-r4.Beverstedt\n",
      "Deleted dataset: lucky-reactor-443308-r4.Bienenbuettel\n",
      "Deleted dataset: lucky-reactor-443308-r4.Bimoehlen\n",
      "Deleted dataset: lucky-reactor-443308-r4.Bispingen\n",
      "Deleted dataset: lucky-reactor-443308-r4.Bleckede\n",
      "Deleted dataset: lucky-reactor-443308-r4.Blowatz\n",
      "Deleted dataset: lucky-reactor-443308-r4.Boehme\n",
      "Deleted dataset: lucky-reactor-443308-r4.Boltenhagen\n",
      "Deleted dataset: lucky-reactor-443308-r4.Bornhoeved\n",
      "Deleted dataset: lucky-reactor-443308-r4.Borsfleth\n",
      "Deleted dataset: lucky-reactor-443308-r4.Bosau\n",
      "Deleted dataset: lucky-reactor-443308-r4.Bredstedt\n",
      "Deleted dataset: lucky-reactor-443308-r4.Breitenberg_Holstein\n",
      "Deleted dataset: lucky-reactor-443308-r4.Breitenburg\n",
      "Deleted dataset: lucky-reactor-443308-r4.Breitenfelde\n",
      "Deleted dataset: lucky-reactor-443308-r4.Brekendorf\n",
      "Deleted dataset: lucky-reactor-443308-r4.Bremerhaven\n",
      "Deleted dataset: lucky-reactor-443308-r4.Bremervoerde\n",
      "Deleted dataset: lucky-reactor-443308-r4.Brobergen\n",
      "Deleted dataset: lucky-reactor-443308-r4.Brokdorf\n",
      "Deleted dataset: lucky-reactor-443308-r4.Brokstedt\n",
      "Deleted dataset: lucky-reactor-443308-r4.Brunsbek_Langelohe\n",
      "Deleted dataset: lucky-reactor-443308-r4.Brunsbek_OT_Langelohe\n",
      "Deleted dataset: lucky-reactor-443308-r4.Brunsbuettel\n",
      "Deleted dataset: lucky-reactor-443308-r4.Buchholz_Aller\n",
      "Deleted dataset: lucky-reactor-443308-r4.Buchholz_In_Der_Nordheide\n",
      "Deleted dataset: lucky-reactor-443308-r4.Buchholz_in_der_Nordheide\n",
      "Deleted dataset: lucky-reactor-443308-r4.Buelkau\n",
      "Deleted dataset: lucky-reactor-443308-r4.Buesum\n",
      "Deleted dataset: lucky-reactor-443308-r4.Burg\n",
      "Deleted dataset: lucky-reactor-443308-r4.Burg_Dithmarschen\n",
      "Deleted dataset: lucky-reactor-443308-r4.Burweg\n",
      "Deleted dataset: lucky-reactor-443308-r4.Buxtehude\n",
      "Deleted dataset: lucky-reactor-443308-r4.Cadenberge\n",
      "Deleted dataset: lucky-reactor-443308-r4.Celle\n",
      "Deleted dataset: lucky-reactor-443308-r4.Cismar\n",
      "Deleted dataset: lucky-reactor-443308-r4.Cuxhaven\n",
      "Deleted dataset: lucky-reactor-443308-r4.Dagebuell\n",
      "Deleted dataset: lucky-reactor-443308-r4.Damnatz\n",
      "Deleted dataset: lucky-reactor-443308-r4.Dannenberg_Elbe\n",
      "Deleted dataset: lucky-reactor-443308-r4.Dechow\n",
      "Deleted dataset: lucky-reactor-443308-r4.Deinste\n",
      "Deleted dataset: lucky-reactor-443308-r4.Delmenhorst_NDS\n",
      "Deleted dataset: lucky-reactor-443308-r4.Doemitz\n",
      "Deleted dataset: lucky-reactor-443308-r4.Drochtersen\n",
      "Deleted dataset: lucky-reactor-443308-r4.Dunsum\n",
      "Deleted dataset: lucky-reactor-443308-r4.ELMSHORN\n",
      "Deleted dataset: lucky-reactor-443308-r4.Ebstorf\n",
      "Deleted dataset: lucky-reactor-443308-r4.Eckernfoerde\n",
      "Deleted dataset: lucky-reactor-443308-r4.Egestorf\n",
      "Deleted dataset: lucky-reactor-443308-r4.Eimke\n",
      "Deleted dataset: lucky-reactor-443308-r4.Ellerhoop\n",
      "Deleted dataset: lucky-reactor-443308-r4.Elmshorn\n",
      "Deleted dataset: lucky-reactor-443308-r4.Engelschoff\n",
      "Deleted dataset: lucky-reactor-443308-r4.Estorf_Kreis_Stade\n",
      "Deleted dataset: lucky-reactor-443308-r4.Eutin\n",
      "Deleted dataset: lucky-reactor-443308-r4.Fahren\n",
      "Deleted dataset: lucky-reactor-443308-r4.Fehmarn\n",
      "Deleted dataset: lucky-reactor-443308-r4.Fintel\n",
      "Deleted dataset: lucky-reactor-443308-r4.Flensburg\n",
      "Deleted dataset: lucky-reactor-443308-r4.Flintbek_SH\n",
      "Deleted dataset: lucky-reactor-443308-r4.Fredenbeck\n",
      "Deleted dataset: lucky-reactor-443308-r4.Freiburg_Elbe\n",
      "Deleted dataset: lucky-reactor-443308-r4.Friedrichskoog\n",
      "Deleted dataset: lucky-reactor-443308-r4.FriedrichskoogSpitze\n",
      "Deleted dataset: lucky-reactor-443308-r4.Friedrichsruh\n",
      "Deleted dataset: lucky-reactor-443308-r4.Gartow\n",
      "Deleted dataset: lucky-reactor-443308-r4.Gettorf\n",
      "Deleted dataset: lucky-reactor-443308-r4.Gilten\n",
      "Deleted dataset: lucky-reactor-443308-r4.Glasau\n",
      "Deleted dataset: lucky-reactor-443308-r4.Glinde\n",
      "Deleted dataset: lucky-reactor-443308-r4.Glueckstadt\n",
      "Deleted dataset: lucky-reactor-443308-r4.Gnarrenburg\n",
      "Deleted dataset: lucky-reactor-443308-r4.Goehrde\n",
      "Deleted dataset: lucky-reactor-443308-r4.Goosefeld\n",
      "Deleted dataset: lucky-reactor-443308-r4.Graepel\n",
      "Deleted dataset: lucky-reactor-443308-r4.Grauel\n",
      "Deleted dataset: lucky-reactor-443308-r4.Grevesmuehlen\n",
      "Deleted dataset: lucky-reactor-443308-r4.Groemitz\n",
      "Deleted dataset: lucky-reactor-443308-r4.GroemitzLensterstrand\n",
      "Deleted dataset: lucky-reactor-443308-r4.Groemitz_SN\n",
      "Deleted dataset: lucky-reactor-443308-r4.Gross_Sterneberg\n",
      "Deleted dataset: lucky-reactor-443308-r4.Grossenaspe\n",
      "Deleted dataset: lucky-reactor-443308-r4.Grossenbrode\n",
      "Deleted dataset: lucky-reactor-443308-r4.Grosshansdorf\n",
      "Deleted dataset: lucky-reactor-443308-r4.Gruenendeich\n",
      "Deleted dataset: lucky-reactor-443308-r4.Gudendorf\n",
      "Deleted dataset: lucky-reactor-443308-r4.HAMBURG\n",
      "Deleted dataset: lucky-reactor-443308-r4.Haby\n",
      "Deleted dataset: lucky-reactor-443308-r4.Haffkrug\n",
      "Deleted dataset: lucky-reactor-443308-r4.Hagen_im_Bremischen\n",
      "Deleted dataset: lucky-reactor-443308-r4.Hagenow\n",
      "Deleted dataset: lucky-reactor-443308-r4.Hallig_Langeness\n",
      "Deleted dataset: lucky-reactor-443308-r4.Hamberge\n",
      "Deleted dataset: lucky-reactor-443308-r4.Hammah\n",
      "Deleted dataset: lucky-reactor-443308-r4.Harsefeld\n",
      "Deleted dataset: lucky-reactor-443308-r4.Hartenholm\n",
      "Deleted dataset: lucky-reactor-443308-r4.Haselau\n",
      "Deleted dataset: lucky-reactor-443308-r4.Haseldorf\n",
      "Deleted dataset: lucky-reactor-443308-r4.Hasenmoor\n",
      "Deleted dataset: lucky-reactor-443308-r4.Hasloh\n",
      "Deleted dataset: lucky-reactor-443308-r4.Hattstedter_Marsch\n",
      "Deleted dataset: lucky-reactor-443308-r4.Hechthausen\n",
      "Deleted dataset: lucky-reactor-443308-r4.Hedwigenkoog\n",
      "Deleted dataset: lucky-reactor-443308-r4.Heide\n",
      "Deleted dataset: lucky-reactor-443308-r4.Heidkate\n",
      "Deleted dataset: lucky-reactor-443308-r4.Heiligenhafen\n",
      "Deleted dataset: lucky-reactor-443308-r4.Heiligenhafen_SH\n",
      "Deleted dataset: lucky-reactor-443308-r4.Helgoland\n",
      "Deleted dataset: lucky-reactor-443308-r4.Hemdingen\n",
      "Deleted dataset: lucky-reactor-443308-r4.Hemmoor\n",
      "Deleted dataset: lucky-reactor-443308-r4.Hemmoor_NDS\n",
      "Deleted dataset: lucky-reactor-443308-r4.Hennstedt\n",
      "Deleted dataset: lucky-reactor-443308-r4.HenstedtUlzburg\n",
      "Deleted dataset: lucky-reactor-443308-r4.Heringsdorf\n",
      "Deleted dataset: lucky-reactor-443308-r4.Heringsdorf_Ostholstein\n",
      "Deleted dataset: lucky-reactor-443308-r4.Hermannsburg_Suedheide\n",
      "Deleted dataset: lucky-reactor-443308-r4.Hetlingen\n",
      "Deleted dataset: lucky-reactor-443308-r4.Himmelpforten\n",
      "Deleted dataset: lucky-reactor-443308-r4.Hitzacker_Elbe\n",
      "Deleted dataset: lucky-reactor-443308-r4.Hodenhagen\n",
      "Deleted dataset: lucky-reactor-443308-r4.Hoehndorf\n",
      "Deleted dataset: lucky-reactor-443308-r4.Hoernum\n",
      "Deleted dataset: lucky-reactor-443308-r4.Hohenaspe\n",
      "Deleted dataset: lucky-reactor-443308-r4.Hohenlockstedt\n",
      "Deleted dataset: lucky-reactor-443308-r4.Hohenwestedt\n",
      "Deleted dataset: lucky-reactor-443308-r4.Hohwacht_Ostsee\n",
      "Deleted dataset: lucky-reactor-443308-r4.Hoisdorf\n",
      "Deleted dataset: lucky-reactor-443308-r4.Hollenstedt_NDS\n",
      "Deleted dataset: lucky-reactor-443308-r4.Hooge\n",
      "Deleted dataset: lucky-reactor-443308-r4.Horneburg\n",
      "Deleted dataset: lucky-reactor-443308-r4.Hornstorf\n",
      "Deleted dataset: lucky-reactor-443308-r4.Horst\n",
      "Deleted dataset: lucky-reactor-443308-r4.Husum\n",
      "Deleted dataset: lucky-reactor-443308-r4.Ihlienworth\n",
      "Deleted dataset: lucky-reactor-443308-r4.Itzehoe\n",
      "Deleted dataset: lucky-reactor-443308-r4.Jesteburg\n",
      "Deleted dataset: lucky-reactor-443308-r4.Joldelund\n",
      "Deleted dataset: lucky-reactor-443308-r4.Jork\n",
      "Deleted dataset: lucky-reactor-443308-r4.Kalkhorst\n",
      "Deleted dataset: lucky-reactor-443308-r4.Kaltenkirchen\n",
      "Deleted dataset: lucky-reactor-443308-r4.Kampen_Sylt_Schleswig_Holstein\n",
      "Deleted dataset: lucky-reactor-443308-r4.Kellenhusen\n",
      "Deleted dataset: lucky-reactor-443308-r4.Kellinghusen\n",
      "Deleted dataset: lucky-reactor-443308-r4.Kiebitzreihe\n",
      "Deleted dataset: lucky-reactor-443308-r4.Kiel\n",
      "Deleted dataset: lucky-reactor-443308-r4.Kiel_SH\n",
      "Deleted dataset: lucky-reactor-443308-r4.Kiel_Wik\n",
      "Deleted dataset: lucky-reactor-443308-r4.Kisdorf\n",
      "Deleted dataset: lucky-reactor-443308-r4.Klanxbuell\n",
      "Deleted dataset: lucky-reactor-443308-r4.Klein_OffensethSparrieshoop\n",
      "Deleted dataset: lucky-reactor-443308-r4.Klein_Wesenberg\n",
      "Deleted dataset: lucky-reactor-443308-r4.Kluetz\n",
      "Deleted dataset: lucky-reactor-443308-r4.Kranenburg_Oste\n",
      "Deleted dataset: lucky-reactor-443308-r4.Krempe\n",
      "Deleted dataset: lucky-reactor-443308-r4.Kremperheide\n",
      "Deleted dataset: lucky-reactor-443308-r4.Kuecknitz_bei_Travemuende\n",
      "Deleted dataset: lucky-reactor-443308-r4.KuhlenWendorf\n",
      "Deleted dataset: lucky-reactor-443308-r4.Laboe\n",
      "Deleted dataset: lucky-reactor-443308-r4.Laegerdorf\n",
      "Deleted dataset: lucky-reactor-443308-r4.Langen\n",
      "Deleted dataset: lucky-reactor-443308-r4.Langwedel\n",
      "Deleted dataset: lucky-reactor-443308-r4.Lauenburg__Elbe\n",
      "Deleted dataset: lucky-reactor-443308-r4.Leck\n",
      "Deleted dataset: lucky-reactor-443308-r4.Leezen\n",
      "Deleted dataset: lucky-reactor-443308-r4.Lensahn\n",
      "Deleted dataset: lucky-reactor-443308-r4.Loxstedt\n",
      "Deleted dataset: lucky-reactor-443308-r4.Ludwigslust\n",
      "Deleted dataset: lucky-reactor-443308-r4.Luebstorf\n",
      "Deleted dataset: lucky-reactor-443308-r4.Luechow_Wendland\n",
      "Deleted dataset: lucky-reactor-443308-r4.Luedersburg\n",
      "Deleted dataset: lucky-reactor-443308-r4.Lueneburg\n",
      "Deleted dataset: lucky-reactor-443308-r4.Luetjensee\n",
      "Deleted dataset: lucky-reactor-443308-r4.Lutterbek\n",
      "Deleted dataset: lucky-reactor-443308-r4.Malente\n",
      "Deleted dataset: lucky-reactor-443308-r4.Marne\n",
      "Deleted dataset: lucky-reactor-443308-r4.Meldorf\n",
      "Deleted dataset: lucky-reactor-443308-r4.Midlum\n",
      "Deleted dataset: lucky-reactor-443308-r4.Moelln\n",
      "Deleted dataset: lucky-reactor-443308-r4.Moerel_Holstein\n",
      "Deleted dataset: lucky-reactor-443308-r4.Mueden_Oertze\n",
      "Deleted dataset: lucky-reactor-443308-r4.Muensterdorf\n",
      "Deleted dataset: lucky-reactor-443308-r4.Munster\n",
      "Deleted dataset: lucky-reactor-443308-r4.NEUMUeNSTER\n",
      "Deleted dataset: lucky-reactor-443308-r4.Nahe\n",
      "Deleted dataset: lucky-reactor-443308-r4.Nebel\n",
      "Deleted dataset: lucky-reactor-443308-r4.NebelSueddorf\n",
      "Deleted dataset: lucky-reactor-443308-r4.NebelWesterheide\n",
      "Deleted dataset: lucky-reactor-443308-r4.Neritz\n",
      "Deleted dataset: lucky-reactor-443308-r4.Neu_Duvenstedt\n",
      "Deleted dataset: lucky-reactor-443308-r4.Neuburg\n",
      "Deleted dataset: lucky-reactor-443308-r4.Neuengoers\n",
      "Deleted dataset: lucky-reactor-443308-r4.Neuenkirchen_Lueneburger_Heide\n",
      "Deleted dataset: lucky-reactor-443308-r4.Neuhaus_Oste\n",
      "Deleted dataset: lucky-reactor-443308-r4.Neumuenster\n",
      "Deleted dataset: lucky-reactor-443308-r4.Neustadt__Holstein\n",
      "Deleted dataset: lucky-reactor-443308-r4.Neustadt_in_Holstein\n",
      "Deleted dataset: lucky-reactor-443308-r4.Nieblum\n",
      "Deleted dataset: lucky-reactor-443308-r4.Niebuell\n",
      "Deleted dataset: lucky-reactor-443308-r4.Niendorf\n",
      "Deleted dataset: lucky-reactor-443308-r4.Niendorf__Ostsee\n",
      "Deleted dataset: lucky-reactor-443308-r4.Norddorf\n",
      "Deleted dataset: lucky-reactor-443308-r4.Norddorf_auf_Amrum\n",
      "Deleted dataset: lucky-reactor-443308-r4.Nordermeldorf\n",
      "Deleted dataset: lucky-reactor-443308-r4.Nordleda\n",
      "Deleted dataset: lucky-reactor-443308-r4.Nordstrand\n",
      "Deleted dataset: lucky-reactor-443308-r4.Nortorf\n",
      "Deleted dataset: lucky-reactor-443308-r4.Nusse\n",
      "Deleted dataset: lucky-reactor-443308-r4.Ockholm\n",
      "Deleted dataset: lucky-reactor-443308-r4.Oelixdorf\n",
      "Deleted dataset: lucky-reactor-443308-r4.Oldendorf_Kreis_Stade\n",
      "Deleted dataset: lucky-reactor-443308-r4.Osten\n",
      "Deleted dataset: lucky-reactor-443308-r4.Ostseebad_Boltenhagen\n",
      "Deleted dataset: lucky-reactor-443308-r4.Otterndorf\n",
      "Deleted dataset: lucky-reactor-443308-r4.Ottersberg\n",
      "Deleted dataset: lucky-reactor-443308-r4.Owschlag\n",
      "Deleted dataset: lucky-reactor-443308-r4.Oyten_Niedersachsen\n",
      "Deleted dataset: lucky-reactor-443308-r4.Panten\n",
      "Deleted dataset: lucky-reactor-443308-r4.Parchim\n",
      "Deleted dataset: lucky-reactor-443308-r4.Pellworm\n",
      "Deleted dataset: lucky-reactor-443308-r4.Pelzerhaken\n",
      "Deleted dataset: lucky-reactor-443308-r4.Pinneberg\n",
      "Deleted dataset: lucky-reactor-443308-r4.Plate\n",
      "Deleted dataset: lucky-reactor-443308-r4.Plau_am_See\n",
      "Deleted dataset: lucky-reactor-443308-r4.Ploen\n",
      "Deleted dataset: lucky-reactor-443308-r4.Poenitz\n",
      "Deleted dataset: lucky-reactor-443308-r4.Privelack\n",
      "Deleted dataset: lucky-reactor-443308-r4.Probsteierhagen\n",
      "Deleted dataset: lucky-reactor-443308-r4.Pronstorf\n",
      "Deleted dataset: lucky-reactor-443308-r4.Quickborn\n",
      "Deleted dataset: lucky-reactor-443308-r4.Rantum__Sylt\n",
      "Deleted dataset: lucky-reactor-443308-r4.Ratekau\n",
      "Deleted dataset: lucky-reactor-443308-r4.Ratzeburg\n",
      "Deleted dataset: lucky-reactor-443308-r4.Redefin\n",
      "Deleted dataset: lucky-reactor-443308-r4.Reinbek\n",
      "Deleted dataset: lucky-reactor-443308-r4.Reinfeld\n",
      "Deleted dataset: lucky-reactor-443308-r4.Reinfeld_Holstein\n",
      "Deleted dataset: lucky-reactor-443308-r4.Rellingen\n",
      "Deleted dataset: lucky-reactor-443308-r4.Rendsburg\n",
      "Deleted dataset: lucky-reactor-443308-r4.Reppenstedt\n",
      "Deleted dataset: lucky-reactor-443308-r4.Rethwisch_Stormarn\n",
      "Deleted dataset: lucky-reactor-443308-r4.Rettin\n",
      "Deleted dataset: lucky-reactor-443308-r4.Reussenkoege\n",
      "Deleted dataset: lucky-reactor-443308-r4.Rickling\n",
      "Deleted dataset: lucky-reactor-443308-r4.Rieseby\n",
      "Deleted dataset: lucky-reactor-443308-r4.RisumLindholm\n",
      "Deleted dataset: lucky-reactor-443308-r4.Rohlstorf\n",
      "Deleted dataset: lucky-reactor-443308-r4.Rosengarten\n",
      "Deleted dataset: lucky-reactor-443308-r4.Rotenburg_Wuemme\n",
      "Deleted dataset: lucky-reactor-443308-r4.Salzhausen\n",
      "Deleted dataset: lucky-reactor-443308-r4.Sandesneben\n",
      "Deleted dataset: lucky-reactor-443308-r4.Sankt_Michaelisdonn\n",
      "Deleted dataset: lucky-reactor-443308-r4.Sankt_PeterOrding\n",
      "Deleted dataset: lucky-reactor-443308-r4.Scharbeutz\n",
      "Deleted dataset: lucky-reactor-443308-r4.Scharbeutz_Haffkrug\n",
      "Deleted dataset: lucky-reactor-443308-r4.Scharbeutz_OT_Gleschendorf\n",
      "Deleted dataset: lucky-reactor-443308-r4.Scharbeutz_OT_Schuersdorf\n",
      "Deleted dataset: lucky-reactor-443308-r4.Scharbeutz_SN\n",
      "Deleted dataset: lucky-reactor-443308-r4.Scharnebeck\n",
      "Deleted dataset: lucky-reactor-443308-r4.Scharnebeck_Artlenburg\n",
      "Deleted dataset: lucky-reactor-443308-r4.Scheessel\n",
      "Deleted dataset: lucky-reactor-443308-r4.Schenefeld\n",
      "Deleted dataset: lucky-reactor-443308-r4.Schenefeld_Kreis_Steinburg\n",
      "Deleted dataset: lucky-reactor-443308-r4.Schleswig\n",
      "Deleted dataset: lucky-reactor-443308-r4.Schlowe\n",
      "Deleted dataset: lucky-reactor-443308-r4.Schneverdingen\n",
      "Deleted dataset: lucky-reactor-443308-r4.Schoenberg\n",
      "Deleted dataset: lucky-reactor-443308-r4.Schuersdorf\n",
      "Deleted dataset: lucky-reactor-443308-r4.Schwarzenbek\n",
      "Deleted dataset: lucky-reactor-443308-r4.Schwerin\n",
      "Deleted dataset: lucky-reactor-443308-r4.Schwerin_MV\n",
      "Deleted dataset: lucky-reactor-443308-r4.Seedorf_Kreis_Segeberg\n",
      "Deleted dataset: lucky-reactor-443308-r4.Seester\n",
      "Deleted dataset: lucky-reactor-443308-r4.Seevetal\n",
      "Deleted dataset: lucky-reactor-443308-r4.Seevetal_Hittfeld\n",
      "Deleted dataset: lucky-reactor-443308-r4.Seevetal_Ramelsloh\n",
      "Deleted dataset: lucky-reactor-443308-r4.Selsingen\n",
      "Deleted dataset: lucky-reactor-443308-r4.Seth\n",
      "Deleted dataset: lucky-reactor-443308-r4.Siebenbaeumen\n",
      "Deleted dataset: lucky-reactor-443308-r4.Sierksdorf\n",
      "Deleted dataset: lucky-reactor-443308-r4.Sievershuetten\n",
      "Deleted dataset: lucky-reactor-443308-r4.Simonsberg\n",
      "Deleted dataset: lucky-reactor-443308-r4.Sittensen\n",
      "Deleted dataset: lucky-reactor-443308-r4.Soderstorf\n",
      "Deleted dataset: lucky-reactor-443308-r4.Soltau\n",
      "Deleted dataset: lucky-reactor-443308-r4.Soltau_NDS\n",
      "Deleted dataset: lucky-reactor-443308-r4.Sottrum\n",
      "Deleted dataset: lucky-reactor-443308-r4.Spornitz_MV\n",
      "Deleted dataset: lucky-reactor-443308-r4.St_PeterOrding\n",
      "Deleted dataset: lucky-reactor-443308-r4.St_PeterOrding_Ortsteil_Ording\n",
      "Deleted dataset: lucky-reactor-443308-r4.Stade\n",
      "Deleted dataset: lucky-reactor-443308-r4.Stapel\n",
      "Deleted dataset: lucky-reactor-443308-r4.Stein\n",
      "Deleted dataset: lucky-reactor-443308-r4.Stelle\n",
      "Deleted dataset: lucky-reactor-443308-r4.Stemmen\n",
      "Deleted dataset: lucky-reactor-443308-r4.Stepenitztal\n",
      "Deleted dataset: lucky-reactor-443308-r4.Stepenitztal_Roxin\n",
      "Deleted dataset: lucky-reactor-443308-r4.Sternberg\n",
      "Deleted dataset: lucky-reactor-443308-r4.Stocksee\n",
      "Deleted dataset: lucky-reactor-443308-r4.Suederau\n",
      "Deleted dataset: lucky-reactor-443308-r4.Suederende\n",
      "Deleted dataset: lucky-reactor-443308-r4.Suelfeld\n",
      "Deleted dataset: lucky-reactor-443308-r4.Suesel\n",
      "Deleted dataset: lucky-reactor-443308-r4.Sukow\n",
      "Deleted dataset: lucky-reactor-443308-r4.Tellingstedt\n",
      "Deleted dataset: lucky-reactor-443308-r4.Tetenbuell\n",
      "Deleted dataset: lucky-reactor-443308-r4.Timmendorfer_Strand\n",
      "Deleted dataset: lucky-reactor-443308-r4.Timmendorfer_Strand_Niendorf\n",
      "Deleted dataset: lucky-reactor-443308-r4.Tiste\n",
      "Deleted dataset: lucky-reactor-443308-r4.Todesfelde\n",
      "Deleted dataset: lucky-reactor-443308-r4.Toenning\n",
      "Deleted dataset: lucky-reactor-443308-r4.Trappenkamp\n",
      "Deleted dataset: lucky-reactor-443308-r4.Travemuende\n",
      "Deleted dataset: lucky-reactor-443308-r4.Travenbrueck\n",
      "Deleted dataset: lucky-reactor-443308-r4.Tripkau\n",
      "Deleted dataset: lucky-reactor-443308-r4.Trittau\n",
      "Deleted dataset: lucky-reactor-443308-r4.Uelzen\n",
      "Deleted dataset: lucky-reactor-443308-r4.Uetersen\n",
      "Deleted dataset: lucky-reactor-443308-r4.Utersum\n",
      "Deleted dataset: lucky-reactor-443308-r4.Visselhoevede\n",
      "Deleted dataset: lucky-reactor-443308-r4.Wacken\n",
      "Deleted dataset: lucky-reactor-443308-r4.Wahlstedt\n",
      "Deleted dataset: lucky-reactor-443308-r4.Walsrode\n",
      "Deleted dataset: lucky-reactor-443308-r4.Wangels\n",
      "Deleted dataset: lucky-reactor-443308-r4.Wanna\n",
      "Deleted dataset: lucky-reactor-443308-r4.Warnsdorf__Ratekau_bei_Travemuende\n",
      "Deleted dataset: lucky-reactor-443308-r4.Wedel\n",
      "Deleted dataset: lucky-reactor-443308-r4.Weissenhaeuser_Strand\n",
      "Deleted dataset: lucky-reactor-443308-r4.Wesselburen\n",
      "Deleted dataset: lucky-reactor-443308-r4.Westergellersen\n",
      "Deleted dataset: lucky-reactor-443308-r4.Westerheversand\n",
      "Deleted dataset: lucky-reactor-443308-r4.Wewelsfleth\n",
      "Deleted dataset: lucky-reactor-443308-r4.Wietze\n",
      "Deleted dataset: lucky-reactor-443308-r4.Wietzendorf\n",
      "Deleted dataset: lucky-reactor-443308-r4.Wilster\n",
      "Deleted dataset: lucky-reactor-443308-r4.Wingst\n",
      "Deleted dataset: lucky-reactor-443308-r4.Winsen_Aller\n",
      "Deleted dataset: lucky-reactor-443308-r4.Winsen_Luhe\n",
      "Deleted dataset: lucky-reactor-443308-r4.Winsen_Luhe_NDS\n",
      "Deleted dataset: lucky-reactor-443308-r4.Wismar\n",
      "Deleted dataset: lucky-reactor-443308-r4.Wittduen\n",
      "Deleted dataset: lucky-reactor-443308-r4.Wittduen_auf_Amrum\n",
      "Deleted dataset: lucky-reactor-443308-r4.Wittenberge\n",
      "Deleted dataset: lucky-reactor-443308-r4.Worpswede\n",
      "Deleted dataset: lucky-reactor-443308-r4.Wriedel\n",
      "Deleted dataset: lucky-reactor-443308-r4.Wrixum\n",
      "Deleted dataset: lucky-reactor-443308-r4.Wurster_Nordseekueste\n",
      "Deleted dataset: lucky-reactor-443308-r4.Wyk\n",
      "Deleted dataset: lucky-reactor-443308-r4.Wyk_auf_Foehr\n",
      "Deleted dataset: lucky-reactor-443308-r4.Zarpen\n",
      "Deleted dataset: lucky-reactor-443308-r4.Zarrentin_am_Schaalsee\n",
      "Deleted dataset: lucky-reactor-443308-r4.Zeven\n",
      "Deleted dataset: lucky-reactor-443308-r4.Ziegendorf\n"
     ]
    }
   ],
   "source": [
    "# # List all datasets in the project\n",
    "# datasets = client.list_datasets(project=project_id)\n",
    "\n",
    "# # Delete each dataset\n",
    "# for dataset in datasets:\n",
    "#     dataset_id = dataset.dataset_id\n",
    "#     full_dataset_id = f\"{project_id}.{dataset_id}\"\n",
    "#     try:\n",
    "#         client.delete_dataset(\n",
    "#             full_dataset_id,\n",
    "#             delete_contents=True,  # Delete all tables within the dataset\n",
    "#             not_found_ok=True      # Ignore errors if the dataset doesn't exist\n",
    "#         )\n",
    "#         print(f\"Deleted dataset: {full_dataset_id}\")\n",
    "#     except Exception as e:\n",
    "#         print(f\"Failed to delete dataset {full_dataset_id}: {e}\")"
   ]
  },
  {
   "cell_type": "code",
   "execution_count": 47,
   "metadata": {},
   "outputs": [
    {
     "name": "stdout",
     "output_type": "stream",
     "text": [
      "Dataset 'Braunschweig_NDS' matches criteria. Deleting...\n",
      "Dataset 'Braunschweig_NDS' deleted successfully.\n",
      "Dataset 'Bremen_HB' matches criteria. Deleting...\n",
      "Dataset 'Bremen_HB' deleted successfully.\n",
      "Dataset 'Hamburg' matches criteria. Deleting...\n",
      "Dataset 'Hamburg' deleted successfully.\n",
      "Dataset 'Hannover_NDS' matches criteria. Deleting...\n",
      "Dataset 'Hannover_NDS' deleted successfully.\n",
      "Dataset 'Hannover_Niedersaschen' matches criteria. Deleting...\n",
      "Dataset 'Hannover_Niedersaschen' deleted successfully.\n",
      "Dataset 'Luebeck' matches criteria. Deleting...\n",
      "Dataset 'Luebeck' deleted successfully.\n",
      "Dataset 'LuebeckTravemuende' matches criteria. Deleting...\n",
      "Dataset 'LuebeckTravemuende' deleted successfully.\n",
      "Dataset 'Luebeck_Altstadt' matches criteria. Deleting...\n",
      "Dataset 'Luebeck_Altstadt' deleted successfully.\n",
      "Dataset 'Luebeck_SH' matches criteria. Deleting...\n",
      "Dataset 'Luebeck_SH' deleted successfully.\n",
      "Dataset 'Luebeck_St_Gertrud' matches criteria. Deleting...\n",
      "Dataset 'Luebeck_St_Gertrud' deleted successfully.\n",
      "Dataset 'Luebeck_St_Juergen' matches criteria. Deleting...\n",
      "Dataset 'Luebeck_St_Juergen' deleted successfully.\n",
      "Dataset 'Luebeck_St_Lorenz_Sued' matches criteria. Deleting...\n",
      "Dataset 'Luebeck_St_Lorenz_Sued' deleted successfully.\n",
      "Dataset 'Luebeck_Travemuende' matches criteria. Deleting...\n",
      "Dataset 'Luebeck_Travemuende' deleted successfully.\n",
      "Dataset 'Norderstedt' matches criteria. Deleting...\n",
      "Dataset 'Norderstedt' deleted successfully.\n",
      "Dataset 'Norderstedt_SH' matches criteria. Deleting...\n",
      "Dataset 'Norderstedt_SH' deleted successfully.\n"
     ]
    }
   ],
   "source": [
    "# # Substrings to match for deletion\n",
    "# substrings_to_match = [\"Hamburg\", \"Luebeck\", \"Norderstedt\", \"Hannover\", \"Bremen\", \"Braunschweig\"]\n",
    "\n",
    "# # Function to delete datasets\n",
    "# def delete_dataset(dataset_name):\n",
    "#     dataset_id = f\"{project_id}.{dataset_name}\"\n",
    "#     try:\n",
    "#         client.delete_dataset(dataset_id, delete_contents=True, not_found_ok=True)\n",
    "#         print(f\"Dataset '{dataset_name}' deleted successfully.\")\n",
    "#     except Exception as e:\n",
    "#         print(f\"Failed to delete dataset '{dataset_name}': {e}\")\n",
    "\n",
    "# # Get all datasets in the project\n",
    "# datasets = client.list_datasets(project=project_id)\n",
    "\n",
    "# # Iterate over datasets and delete if the name contains any substring\n",
    "# for dataset in datasets:\n",
    "#     dataset_name = dataset.dataset_id\n",
    "#     if any(substring in dataset_name for substring in substrings_to_match):\n",
    "#         print(f\"Dataset '{dataset_name}' matches criteria. Deleting...\")\n",
    "#         delete_dataset(dataset_name)"
   ]
  },
  {
   "cell_type": "code",
   "execution_count": 34,
   "metadata": {},
   "outputs": [],
   "source": [
    "# # List all datasets in the project\n",
    "# datasets = client.list_datasets(project=project_id)\n",
    "\n",
    "# # Extract dataset names\n",
    "# dataset_names = [dataset.dataset_id for dataset in datasets]"
   ]
  },
  {
   "cell_type": "code",
   "execution_count": 7,
   "metadata": {},
   "outputs": [
    {
     "data": {
      "text/html": [
       "<div>\n",
       "<style scoped>\n",
       "    .dataframe tbody tr th:only-of-type {\n",
       "        vertical-align: middle;\n",
       "    }\n",
       "\n",
       "    .dataframe tbody tr th {\n",
       "        vertical-align: top;\n",
       "    }\n",
       "\n",
       "    .dataframe thead th {\n",
       "        text-align: right;\n",
       "    }\n",
       "</style>\n",
       "<table border=\"1\" class=\"dataframe\">\n",
       "  <thead>\n",
       "    <tr style=\"text-align: right;\">\n",
       "      <th></th>\n",
       "      <th>Subject</th>\n",
       "      <th>Start Date</th>\n",
       "      <th>End Date</th>\n",
       "      <th>Start Time</th>\n",
       "      <th>End Time</th>\n",
       "      <th>Location</th>\n",
       "      <th>City</th>\n",
       "      <th>Description</th>\n",
       "      <th>Category</th>\n",
       "      <th>Music_label</th>\n",
       "    </tr>\n",
       "  </thead>\n",
       "  <tbody>\n",
       "    <tr>\n",
       "      <th>0</th>\n",
       "      <td>1000 Lights Concerts - Classical Highlights</td>\n",
       "      <td>2024-12-12</td>\n",
       "      <td>2024-12-12</td>\n",
       "      <td>17:00</td>\n",
       "      <td></td>\n",
       "      <td>St. Nikolai-Kirchengemeinde Elmshorn</td>\n",
       "      <td>Elmshorn</td>\n",
       "      <td>https://www.biunsinnorden.de/veranstaltungen/e...</td>\n",
       "      <td>Musik</td>\n",
       "      <td>True</td>\n",
       "    </tr>\n",
       "    <tr>\n",
       "      <th>1</th>\n",
       "      <td>1000 Lights Concerts - Romantic Love Songs</td>\n",
       "      <td>2024-12-12</td>\n",
       "      <td>2024-12-12</td>\n",
       "      <td>20:00</td>\n",
       "      <td></td>\n",
       "      <td>St. Nikolai-Kirchengemeinde Elmshorn</td>\n",
       "      <td>Elmshorn</td>\n",
       "      <td>https://www.biunsinnorden.de/veranstaltungen/e...</td>\n",
       "      <td>Musik</td>\n",
       "      <td>True</td>\n",
       "    </tr>\n",
       "  </tbody>\n",
       "</table>\n",
       "</div>"
      ],
      "text/plain": [
       "                                       Subject  Start Date    End Date  \\\n",
       "0  1000 Lights Concerts - Classical Highlights  2024-12-12  2024-12-12   \n",
       "1   1000 Lights Concerts - Romantic Love Songs  2024-12-12  2024-12-12   \n",
       "\n",
       "  Start Time End Time                              Location      City  \\\n",
       "0      17:00           St. Nikolai-Kirchengemeinde Elmshorn  Elmshorn   \n",
       "1      20:00           St. Nikolai-Kirchengemeinde Elmshorn  Elmshorn   \n",
       "\n",
       "                                         Description Category  Music_label  \n",
       "0  https://www.biunsinnorden.de/veranstaltungen/e...    Musik         True  \n",
       "1  https://www.biunsinnorden.de/veranstaltungen/e...    Musik         True  "
      ]
     },
     "execution_count": 7,
     "metadata": {},
     "output_type": "execute_result"
    }
   ],
   "source": [
    "# combined_df = pd.read_csv('processed_csv/combined_data.csv')\n",
    "\n",
    "# combined_df.head(2)"
   ]
  },
  {
   "cell_type": "markdown",
   "metadata": {},
   "source": [
    "### Create table"
   ]
  },
  {
   "cell_type": "code",
   "execution_count": 34,
   "metadata": {},
   "outputs": [
    {
     "name": "stdout",
     "output_type": "stream",
     "text": [
      "Table created successfully.\n"
     ]
    }
   ],
   "source": [
    "# dataset_id = 'test_dataset'\n",
    "# table_id_new = 'new_events'\n",
    "\n",
    "# full_table_id = f\"{project_id}.{dataset_id}.{table_id_new}\"\n",
    "\n",
    "# create_table_query = f\"\"\"\n",
    "# CREATE OR REPLACE TABLE `{full_table_id}` (\n",
    "#   `Subject` STRING,\n",
    "#   `Start Date` DATE,  -- Defines Start_date as DATE type.\n",
    "#   `End Date` DATE,    -- Defines Endt_date as DATE type.\n",
    "#   `Start Time` STRING,\n",
    "#   `End Time` STRING,\n",
    "#   `Location` STRING,\n",
    "#   `Description` STRING,\n",
    "#   `City` STRING,\n",
    "#   `Music_label` STRING\n",
    "#   `Counter` INT64\n",
    "# )\"\"\"\n",
    "# query_job = client.query(create_table_query).result()\n",
    "# print(\"Table created successfully.\")"
   ]
  },
  {
   "cell_type": "code",
   "execution_count": 33,
   "metadata": {},
   "outputs": [
    {
     "name": "stdout",
     "output_type": "stream",
     "text": [
      "Table lucky-reactor-443308-r4.test_dataset.new_events has been cleared.\n"
     ]
    }
   ],
   "source": [
    "# # Truncate the table\n",
    "# query = f\"TRUNCATE TABLE `{full_table_id}`\"\n",
    "\n",
    "# # Execute the query\n",
    "# query_job = client.query(query)  # Make an API request.\n",
    "# query_job.result()  # Wait for the query to finish.\n",
    "\n",
    "# print(f\"Table {full_table_id} has been cleared.\")"
   ]
  },
  {
   "cell_type": "markdown",
   "metadata": {},
   "source": [
    "### Function to upload table to BigQuery"
   ]
  },
  {
   "cell_type": "code",
   "execution_count": 33,
   "metadata": {},
   "outputs": [],
   "source": [
    "def uploading_table_to_big_query(df):    # Uploading data to BigQuery.\n",
    "    try:\n",
    "        to_gbq(df, destination_table=full_table_id, project_id=project_id, if_exists='append', credentials=credentials, progress_bar=True)\n",
    "        print(\"Data uploaded to BigQuery successfully!\")   #  append doesnt change table structure.\n",
    "    except Exception as e:\n",
    "        print(f\"An error occurred: {e}\")\n",
    "\n",
    "# uploading_table_to_big_query(df)\n",
    "\n",
    "# df"
   ]
  },
  {
   "cell_type": "code",
   "execution_count": 69,
   "metadata": {},
   "outputs": [],
   "source": [
    "# loading_query = f\"SELECT * FROM `{full_table_id}`\"\n",
    "\n",
    "# df_load = client.query(loading_query).to_dataframe()  # Execute the query and convert to DataFrame."
   ]
  },
  {
   "cell_type": "code",
   "execution_count": 70,
   "metadata": {},
   "outputs": [
    {
     "data": {
      "text/plain": [
       "(299, 9)"
      ]
     },
     "execution_count": 70,
     "metadata": {},
     "output_type": "execute_result"
    }
   ],
   "source": [
    "# df_load.shape"
   ]
  },
  {
   "cell_type": "code",
   "execution_count": 73,
   "metadata": {},
   "outputs": [],
   "source": [
    "# df_load.to_csv('Scraped_Events_Rausgegangen_HH_KI_HL_FL_new.csv')"
   ]
  },
  {
   "cell_type": "code",
   "execution_count": 72,
   "metadata": {},
   "outputs": [
    {
     "name": "stdout",
     "output_type": "stream",
     "text": [
      "Original DataFrame Shape: 110\n",
      "Remaining DataFrame Rows: 110\n",
      "No. of Dropped Rows: 0\n",
      "No duplicates were found.\n"
     ]
    }
   ],
   "source": [
    "# import torch  # Import PyTorch\n",
    "# from transformers import AutoModel, AutoTokenizer\n",
    "# from sklearn.metrics.pairwise import cosine_similarity\n",
    "# from rapidfuzz.fuzz import ratio\n",
    "# import pandas as pd\n",
    "\n",
    "# # Load tokenizer and model\n",
    "# tokenizer = AutoTokenizer.from_pretrained(\"deepset/gbert-base\")\n",
    "# model = AutoModel.from_pretrained(\"deepset/gbert-base\")\n",
    "\n",
    "# # Ensure the 'Subject' column is lowercase\n",
    "# df['Subject'] = df['Subject'].str.lower()\n",
    "\n",
    "# # Function to generate embeddings for the 'Subject' column\n",
    "# def generate_embeddings(texts):\n",
    "#     inputs = tokenizer(texts, return_tensors=\"pt\", padding=True, truncation=True)\n",
    "#     with torch.no_grad():\n",
    "#         outputs = model(**inputs)\n",
    "#     # Use the [CLS] token embeddings\n",
    "#     return outputs.last_hidden_state[:, 0, :].numpy()\n",
    "\n",
    "# # Generate embeddings for the 'Subject' column\n",
    "# df['event_embedding'] = list(generate_embeddings(df['Subject'].tolist()))\n",
    "\n",
    "# # Initialize a list to store dropped rows\n",
    "# dropped_rows = []\n",
    "\n",
    "# # Prepare for duplicate removal\n",
    "# to_drop = set()\n",
    "\n",
    "# # Group by 'Start_date', 'City'\n",
    "# for _, group in df.groupby(['Start_date', 'City']):\n",
    "#     group = group.sort_values(by='Subject').reset_index()  # Sort within the group\n",
    "\n",
    "#     # Compare rows within the group\n",
    "#     for i in range(len(group)):\n",
    "#         if group.loc[i, 'index'] in to_drop:\n",
    "#             continue\n",
    "#         for j in range(i + 1, len(group)):\n",
    "#             if group.loc[j, 'index'] in to_drop:\n",
    "#                 continue\n",
    "\n",
    "#             # Compute cosine similarity\n",
    "#             cos_similarity = cosine_similarity(\n",
    "#                 [group.loc[i, 'event_embedding']], [group.loc[j, 'event_embedding']]\n",
    "#             )[0][0]\n",
    "\n",
    "#             # Compute Levenshtein similarity\n",
    "#             lev_similarity = ratio(group.loc[i, 'Subject'], group.loc[j, 'Subject']) / 100.0\n",
    "\n",
    "#             # Check if either similarity exceeds threshold\n",
    "#             if cos_similarity > 0.8 or lev_similarity > 0.85:\n",
    "#                 to_drop.add(group.loc[j, 'index'])  # Mark duplicate for removal\n",
    "#                 dropped_rows.append(group.loc[j].to_dict())  # Add dropped row as a dictionary\n",
    "\n",
    "# # Remove duplicates\n",
    "# df = df.drop(index=to_drop).reset_index(drop=True)\n",
    "\n",
    "# # Create a DataFrame for dropped rows\n",
    "# dropped_df = pd.DataFrame(dropped_rows)\n",
    "\n",
    "# # Drop unnecessary columns\n",
    "# df = df.drop(columns=['event_embedding'])\n",
    "\n",
    "# # Print the shape and dropped rows\n",
    "# print(f\"Original DataFrame Shape: {len(df) + len(dropped_df)}\")\n",
    "# print(f\"Remaining DataFrame Rows: {len(df)}\")\n",
    "# print(f\"No. of Dropped Rows: {len(dropped_df)}\")\n",
    "\n",
    "# # Display dropped rows for inspection\n",
    "# if not dropped_df.empty:\n",
    "#     print(\"Dropped Events:\")\n",
    "# else:\n",
    "#     print(\"No duplicates were found.\")"
   ]
  },
  {
   "cell_type": "code",
   "execution_count": null,
   "metadata": {},
   "outputs": [
    {
     "ename": "AttributeError",
     "evalue": "'BertModel' object has no attribute 'encode'",
     "output_type": "error",
     "traceback": [
      "\u001b[1;31m---------------------------------------------------------------------------\u001b[0m",
      "\u001b[1;31mAttributeError\u001b[0m                            Traceback (most recent call last)",
      "Cell \u001b[1;32mIn[59], line 10\u001b[0m\n\u001b[0;32m      7\u001b[0m df[\u001b[38;5;124m'\u001b[39m\u001b[38;5;124mSubject\u001b[39m\u001b[38;5;124m'\u001b[39m] \u001b[38;5;241m=\u001b[39m df[\u001b[38;5;124m'\u001b[39m\u001b[38;5;124mSubject\u001b[39m\u001b[38;5;124m'\u001b[39m]\u001b[38;5;241m.\u001b[39mstr\u001b[38;5;241m.\u001b[39mlower()\n\u001b[0;32m      9\u001b[0m \u001b[38;5;66;03m# Encode the 'Subject' column to generate embeddings\u001b[39;00m\n\u001b[1;32m---> 10\u001b[0m df_load[\u001b[38;5;124m'\u001b[39m\u001b[38;5;124mevent_embedding\u001b[39m\u001b[38;5;124m'\u001b[39m] \u001b[38;5;241m=\u001b[39m \u001b[43mmodel\u001b[49m\u001b[38;5;241;43m.\u001b[39;49m\u001b[43mencode\u001b[49m(df[\u001b[38;5;124m'\u001b[39m\u001b[38;5;124mSubject\u001b[39m\u001b[38;5;124m'\u001b[39m]\u001b[38;5;241m.\u001b[39mtolist())\u001b[38;5;241m.\u001b[39mtolist()\n\u001b[0;32m     12\u001b[0m \u001b[38;5;66;03m# Initialize a list to store dropped rows\u001b[39;00m\n\u001b[0;32m     13\u001b[0m dropped_rows \u001b[38;5;241m=\u001b[39m []\n",
      "File \u001b[1;32mc:\\Users\\heans\\OneDrive - Heansuh\\OneDrive\\Wise24.25\\AP\\eventcalendar\\Lib\\site-packages\\torch\\nn\\modules\\module.py:1931\u001b[0m, in \u001b[0;36mModule.__getattr__\u001b[1;34m(self, name)\u001b[0m\n\u001b[0;32m   1929\u001b[0m     \u001b[38;5;28;01mif\u001b[39;00m name \u001b[38;5;129;01min\u001b[39;00m modules:\n\u001b[0;32m   1930\u001b[0m         \u001b[38;5;28;01mreturn\u001b[39;00m modules[name]\n\u001b[1;32m-> 1931\u001b[0m \u001b[38;5;28;01mraise\u001b[39;00m \u001b[38;5;167;01mAttributeError\u001b[39;00m(\n\u001b[0;32m   1932\u001b[0m     \u001b[38;5;124mf\u001b[39m\u001b[38;5;124m\"\u001b[39m\u001b[38;5;124m'\u001b[39m\u001b[38;5;132;01m{\u001b[39;00m\u001b[38;5;28mtype\u001b[39m(\u001b[38;5;28mself\u001b[39m)\u001b[38;5;241m.\u001b[39m\u001b[38;5;18m__name__\u001b[39m\u001b[38;5;132;01m}\u001b[39;00m\u001b[38;5;124m'\u001b[39m\u001b[38;5;124m object has no attribute \u001b[39m\u001b[38;5;124m'\u001b[39m\u001b[38;5;132;01m{\u001b[39;00mname\u001b[38;5;132;01m}\u001b[39;00m\u001b[38;5;124m'\u001b[39m\u001b[38;5;124m\"\u001b[39m\n\u001b[0;32m   1933\u001b[0m )\n",
      "\u001b[1;31mAttributeError\u001b[0m: 'BertModel' object has no attribute 'encode'"
     ]
    }
   ],
   "source": [
    "# from transformers import AutoModel, AutoTokenizer\n",
    "\n",
    "# # Load tokenizer and model\n",
    "# tokenizer = AutoTokenizer.from_pretrained(\"deepset/gbert-base\")\n",
    "# model = AutoModel.from_pretrained(\"deepset/gbert-base\")\n",
    "\n",
    "# df['Subject'] = df['Subject'].str.lower()\n",
    "\n",
    "# # Encode the 'Subject' column to generate embeddings\n",
    "# df_load['event_embedding'] = model.encode(df['Subject'].tolist()).tolist()\n",
    "\n",
    "# # Initialize a list to store dropped rows\n",
    "# dropped_rows = []\n",
    "\n",
    "# # Prepare for duplicate removal\n",
    "# to_drop = set()\n",
    "\n",
    "# # Group by 'Start_date', 'Start_time', and 'City'\n",
    "# for _, group in df_load.groupby(['Start_date', 'City']):\n",
    "#     group = group.sort_values(by='Subject').reset_index()  # Sort within the group\n",
    "    \n",
    "#     # Compare rows within the group\n",
    "#     for i in range(len(group)):\n",
    "#         if group.loc[i, 'index'] in to_drop:\n",
    "#             continue\n",
    "#         for j in range(i + 1, len(group)):\n",
    "#             if group.loc[j, 'index'] in to_drop:\n",
    "#                 continue\n",
    "            \n",
    "#             # Compute cosine similarity\n",
    "#             cos_similarity = util.cos_sim(group.at[i, 'event_embedding'], group.at[j, 'event_embedding']).item()\n",
    "\n",
    "#             # Compute Levenshtein similarity\n",
    "#             lev_similarity = ratio(group.at[i, 'Subject'], group.at[j, 'Subject']) / 100.0\n",
    "\n",
    "#             # Check if either similarity exceeds threshold\n",
    "#             if cos_similarity > 0.8 or lev_similarity > 0.85:  \n",
    "#                 to_drop.add(group.loc[j, 'index'])  # Mark duplicate for removal\n",
    "#                 dropped_rows.append(group.loc[j].to_dict())  # Add dropped row as a dictionary\n",
    "\n",
    "\n",
    "# # Remove duplicates\n",
    "# df_load = df_load.drop(index=to_drop).reset_index(drop=True)\n",
    "\n",
    "# # Create a DataFrame for dropped rows\n",
    "# dropped_df = pd.DataFrame(dropped_rows)\n",
    "\n",
    "# # Drop unnecessary columns\n",
    "# df_load = df_load.drop(columns=['event_embedding'])\n",
    "\n",
    "# # Print the shape and dropped rows\n",
    "# print(f\"Original DataFrame Shape: {len(df_load) + len(dropped_df)}\")\n",
    "# print(f\"Remaining DataFrame Rows: {len(df_load)}\")\n",
    "# print(f\"No. of Dropped Rows: {len(dropped_df)}\")\n",
    "\n",
    "# # Display dropped rows for inspection\n",
    "# print(\"Dropped Events:\")\n",
    "# print(dropped_df[['Subject', 'Start_date', 'Start_time', 'City']].head())"
   ]
  },
  {
   "cell_type": "code",
   "execution_count": 23,
   "metadata": {},
   "outputs": [
    {
     "name": "stdout",
     "output_type": "stream",
     "text": [
      "(290, 9)\n"
     ]
    },
    {
     "data": {
      "text/html": [
       "<div>\n",
       "<style scoped>\n",
       "    .dataframe tbody tr th:only-of-type {\n",
       "        vertical-align: middle;\n",
       "    }\n",
       "\n",
       "    .dataframe tbody tr th {\n",
       "        vertical-align: top;\n",
       "    }\n",
       "\n",
       "    .dataframe thead th {\n",
       "        text-align: right;\n",
       "    }\n",
       "</style>\n",
       "<table border=\"1\" class=\"dataframe\">\n",
       "  <thead>\n",
       "    <tr style=\"text-align: right;\">\n",
       "      <th></th>\n",
       "      <th>Subject</th>\n",
       "      <th>Start_date</th>\n",
       "      <th>End_date</th>\n",
       "      <th>Start_time</th>\n",
       "      <th>End_time</th>\n",
       "      <th>Location</th>\n",
       "      <th>Description</th>\n",
       "      <th>City</th>\n",
       "      <th>Music_label</th>\n",
       "    </tr>\n",
       "  </thead>\n",
       "  <tbody>\n",
       "    <tr>\n",
       "      <th>0</th>\n",
       "      <td>\"Zwischen Puls &amp; Takt\" Lesung mit Musik by HEI...</td>\n",
       "      <td>2024-12-09</td>\n",
       "      <td>2024-12-09</td>\n",
       "      <td>19:00</td>\n",
       "      <td>None</td>\n",
       "      <td>Finder‘s Haus | Raum Oslo</td>\n",
       "      <td>https://rausgegangen.de/events/zwischen-puls-t...</td>\n",
       "      <td>Lübeck</td>\n",
       "      <td>music</td>\n",
       "    </tr>\n",
       "  </tbody>\n",
       "</table>\n",
       "</div>"
      ],
      "text/plain": [
       "                                             Subject  Start_date    End_date  \\\n",
       "0  \"Zwischen Puls & Takt\" Lesung mit Musik by HEI...  2024-12-09  2024-12-09   \n",
       "\n",
       "  Start_time End_time                   Location  \\\n",
       "0      19:00     None  Finder‘s Haus | Raum Oslo   \n",
       "\n",
       "                                         Description    City Music_label  \n",
       "0  https://rausgegangen.de/events/zwischen-puls-t...  Lübeck       music  "
      ]
     },
     "execution_count": 23,
     "metadata": {},
     "output_type": "execute_result"
    }
   ],
   "source": [
    "# model = SentenceTransformer('paraphrase-multilingual-MiniLM-L12-v2')  # 384 dimensional dense vector space.\n",
    "\n",
    "# # Encode the 'Subject' column to generate embeddings\n",
    "# df_load['event_embedding'] = model.encode(df['Subject'].tolist()).tolist()\n",
    "\n",
    "# # Sort the dataframe by 'Subject', 'Start_date', and 'Start_time'\n",
    "# df_load = df_load.sort_values(by=['Subject', 'Start_date', 'Start_time', 'City']).reset_index(drop=True)\n",
    "\n",
    "# # Prepare for duplicate removal\n",
    "# to_drop = set()\n",
    "\n",
    "# # Group by 'Start_date' and 'Start_time'\n",
    "# for _, group in df_load.groupby(['Start_date', 'Start_time', 'City']):\n",
    "#     group = group.sort_values(by='Subject').reset_index()  # Sort within the group\n",
    "    \n",
    "#     # Compare rows within the group\n",
    "#     for i in range(len(group)):\n",
    "#         if group.loc[i, 'index'] in to_drop:\n",
    "#             continue\n",
    "#         for j in range(i + 1, len(group)):\n",
    "#             if group.loc[j, 'index'] in to_drop:\n",
    "#                 continue\n",
    "            \n",
    "#             # Compute cosine similarity\n",
    "#             cos_similarity  = util.cos_sim(group.at[i, 'event_embedding'], group.at[j, 'event_embedding']).item()\n",
    "\n",
    "#             # Compute Levenshtein similarity\n",
    "#             lev_similarity = ratio(group.at[i, 'Subject'], group.at[j, 'Subject']) / 100.0\n",
    "\n",
    "#             # Check if either similarity exceeds threshold\n",
    "#             if cos_similarity  > 0.8 and lev_similarity > 0.9:  \n",
    "#                 to_drop.add(group.loc[j, 'index'])  # Mark duplicate for removal\n",
    "\n",
    "# # Remove duplicates\n",
    "# df_load = df_load.drop(index=to_drop).reset_index(drop=True)\n",
    "\n",
    "# # Drop unnecessary columns\n",
    "# df_load = df_load.drop(columns=['event_embedding'])\n",
    "# print(df_load.shape)\n",
    "# df_load.head(1)"
   ]
  },
  {
   "cell_type": "markdown",
   "metadata": {},
   "source": [
    "## Deduplication"
   ]
  },
  {
   "cell_type": "code",
   "execution_count": 34,
   "metadata": {},
   "outputs": [],
   "source": [
    "deduplicated_df = combined_df.copy()"
   ]
  },
  {
   "cell_type": "code",
   "execution_count": 35,
   "metadata": {},
   "outputs": [],
   "source": [
    "deduplicated_df['Counter'] = deduplicated_df.groupby(['Start Date', 'Start Time', 'Location', 'City'])['Start Date'].transform('size') - 1"
   ]
  },
  {
   "cell_type": "code",
   "execution_count": 36,
   "metadata": {},
   "outputs": [],
   "source": [
    "deduplicated_df['Counter'] = deduplicated_df['Counter'].fillna(0).astype(int)"
   ]
  },
  {
   "cell_type": "code",
   "execution_count": 37,
   "metadata": {},
   "outputs": [
    {
     "name": "stderr",
     "output_type": "stream",
     "text": [
      "C:\\Users\\heans\\AppData\\Local\\Temp\\ipykernel_16980\\904577957.py:23: DeprecationWarning: DataFrameGroupBy.apply operated on the grouping columns. This behavior is deprecated, and in a future version of pandas the grouping columns will be excluded from the operation. Either pass `include_groups=False` to exclude the groupings or explicitly select the grouping columns after groupby to silence this warning.\n",
      "  result_df = grouped.apply(process_group).reset_index(drop=True)\n"
     ]
    }
   ],
   "source": [
    "# Step 1: Group by the desired columns\n",
    "grouped = deduplicated_df.groupby(['Start Date', 'Start Time', 'Location', 'City'])\n",
    "\n",
    "# Step 2: Function to update the description for the first row in each group\n",
    "def process_group(group):\n",
    "    # If there is more than one event in the group\n",
    "    if len(group) > 1:\n",
    "        # Prepare the summary of dropped events\n",
    "        counter = len(group) - 1\n",
    "        dropped_events = \"\\n\".join(\n",
    "            f\"Event {row['Subject']}: {row['Description']}\" \n",
    "            for _, row in group.iloc[1:].iterrows()\n",
    "        )\n",
    "        # Update the description of the first event\n",
    "        group.iloc[0, group.columns.get_loc('Description')] = (\n",
    "            f\"{counter} event(s) found at the same time/location. Please check the following:\\n\"\n",
    "            f\"{dropped_events}\\n\"\n",
    "            f\"{group.iloc[0]['Description']}\"\n",
    "        )\n",
    "    return group.iloc[0]  # Keep only the first row in the group\n",
    "\n",
    "# Step 3: Apply the function to each group and combine the results\n",
    "result_df = grouped.apply(process_group).reset_index(drop=True)"
   ]
  },
  {
   "cell_type": "code",
   "execution_count": 38,
   "metadata": {},
   "outputs": [],
   "source": [
    "df_cleaned = result_df[result_df['Start Date'].astype(str).notna() & (result_df['Start Date'].astype(str).str.strip() != '')]"
   ]
  },
  {
   "cell_type": "code",
   "execution_count": 39,
   "metadata": {},
   "outputs": [],
   "source": [
    "# Filter rows where Counter > 0 or Music_label is True\n",
    "filtered_df = df_cleaned[(df_cleaned['Counter'] > 0) | (df_cleaned['Music_label'] == True)]\n",
    "filtered_df = df_cleaned.reset_index(drop=True)"
   ]
  },
  {
   "cell_type": "code",
   "execution_count": 40,
   "metadata": {},
   "outputs": [],
   "source": [
    "# Get today's date\n",
    "today = pd.Timestamp(datetime.now().date())\n",
    "\n",
    "# Calculate the date 30 days from today\n",
    "thirty_days_from_today = today + timedelta(days=30)\n",
    "\n",
    "# Convert 'Start Date' back to datetime for filtering\n",
    "filtered_df['Start Date'] = pd.to_datetime(filtered_df['Start Date'], format='%Y-%m-%d')\n",
    "\n",
    "# Filter rows where Start Date is >= today, and either Counter > 0 or filtered_label is True\n",
    "filtered_df = filtered_df[\n",
    "    (filtered_df['Start Date'] >= today) &\n",
    "    (filtered_df['Start Date'] <= thirty_days_from_today) &  \n",
    "    ((filtered_df['Counter'] > 0) | (filtered_df['Music_label'] == True))\n",
    "].reset_index(drop=True)"
   ]
  },
  {
   "cell_type": "code",
   "execution_count": 41,
   "metadata": {},
   "outputs": [],
   "source": [
    "filtered_df['Colour'] = 1\n",
    "filtered_df.loc[filtered_df['Counter'] > 0, 'Colour'] = 4"
   ]
  },
  {
   "cell_type": "code",
   "execution_count": 42,
   "metadata": {},
   "outputs": [
    {
     "data": {
      "text/plain": [
       "(614, 12)"
      ]
     },
     "execution_count": 42,
     "metadata": {},
     "output_type": "execute_result"
    }
   ],
   "source": [
    "filtered_df.shape"
   ]
  },
  {
   "cell_type": "code",
   "execution_count": 43,
   "metadata": {},
   "outputs": [
    {
     "data": {
      "text/plain": [
       "Counter\n",
       "0    551\n",
       "1     58\n",
       "3      3\n",
       "2      2\n",
       "Name: count, dtype: int64"
      ]
     },
     "execution_count": 43,
     "metadata": {},
     "output_type": "execute_result"
    }
   ],
   "source": [
    "filtered_df.Counter.value_counts()"
   ]
  },
  {
   "cell_type": "code",
   "execution_count": 44,
   "metadata": {},
   "outputs": [
    {
     "data": {
      "text/html": [
       "<div>\n",
       "<style scoped>\n",
       "    .dataframe tbody tr th:only-of-type {\n",
       "        vertical-align: middle;\n",
       "    }\n",
       "\n",
       "    .dataframe tbody tr th {\n",
       "        vertical-align: top;\n",
       "    }\n",
       "\n",
       "    .dataframe thead th {\n",
       "        text-align: right;\n",
       "    }\n",
       "</style>\n",
       "<table border=\"1\" class=\"dataframe\">\n",
       "  <thead>\n",
       "    <tr style=\"text-align: right;\">\n",
       "      <th></th>\n",
       "      <th>Subject</th>\n",
       "      <th>Start Date</th>\n",
       "      <th>Start Time</th>\n",
       "      <th>End Date</th>\n",
       "      <th>End Time</th>\n",
       "      <th>Location</th>\n",
       "      <th>City</th>\n",
       "      <th>Category</th>\n",
       "      <th>Description</th>\n",
       "      <th>Music_label</th>\n",
       "      <th>Counter</th>\n",
       "      <th>Colour</th>\n",
       "    </tr>\n",
       "  </thead>\n",
       "  <tbody>\n",
       "    <tr>\n",
       "      <th>0</th>\n",
       "      <td>Drei Haselnüsse für Aschenbrödel - Der Origina...</td>\n",
       "      <td>2024-12-19</td>\n",
       "      <td></td>\n",
       "      <td>2024-12-19</td>\n",
       "      <td></td>\n",
       "      <td>MuK</td>\n",
       "      <td>Lübeck Altstadt</td>\n",
       "      <td>Musik</td>\n",
       "      <td>https://www.biunsinnorden.de/veranstaltungen/l...</td>\n",
       "      <td>True</td>\n",
       "      <td>0</td>\n",
       "      <td>1</td>\n",
       "    </tr>\n",
       "    <tr>\n",
       "      <th>1</th>\n",
       "      <td>Geigen-Duo</td>\n",
       "      <td>2024-12-19</td>\n",
       "      <td></td>\n",
       "      <td>2024-12-19</td>\n",
       "      <td></td>\n",
       "      <td>Spätcafé im Glockenhof</td>\n",
       "      <td>Lüneburg</td>\n",
       "      <td>Musik</td>\n",
       "      <td>https://www.biunsinnorden.de/veranstaltungen/l...</td>\n",
       "      <td>True</td>\n",
       "      <td>0</td>\n",
       "      <td>1</td>\n",
       "    </tr>\n",
       "    <tr>\n",
       "      <th>2</th>\n",
       "      <td>Hamburg CARD</td>\n",
       "      <td>2024-12-19</td>\n",
       "      <td>00:01</td>\n",
       "      <td>2024-12-19</td>\n",
       "      <td></td>\n",
       "      <td>Touristinformation im Hauptbahnhof</td>\n",
       "      <td>Hamburg City</td>\n",
       "      <td>Familie / Kind</td>\n",
       "      <td>https://www.biunsinnorden.de/veranstaltungen/h...</td>\n",
       "      <td>True</td>\n",
       "      <td>0</td>\n",
       "      <td>1</td>\n",
       "    </tr>\n",
       "    <tr>\n",
       "      <th>3</th>\n",
       "      <td>Gärtnern in der Stadt - Die grüne Vielfalt Lüb...</td>\n",
       "      <td>2024-12-19</td>\n",
       "      <td>09:00</td>\n",
       "      <td>2024-12-19</td>\n",
       "      <td></td>\n",
       "      <td>Museum für Natur und Umwelt</td>\n",
       "      <td>Lübeck</td>\n",
       "      <td>Ausstellungen</td>\n",
       "      <td>1 event(s) found at the same time/location. Pl...</td>\n",
       "      <td>False</td>\n",
       "      <td>1</td>\n",
       "      <td>4</td>\n",
       "    </tr>\n",
       "    <tr>\n",
       "      <th>4</th>\n",
       "      <td>Buddenbrooks im Behnhaus</td>\n",
       "      <td>2024-12-19</td>\n",
       "      <td>10:00</td>\n",
       "      <td>2024-12-19</td>\n",
       "      <td></td>\n",
       "      <td>Museum Behnhaus Drägerhaus</td>\n",
       "      <td>Lübeck</td>\n",
       "      <td>Ausstellungen</td>\n",
       "      <td>1 event(s) found at the same time/location. Pl...</td>\n",
       "      <td>False</td>\n",
       "      <td>1</td>\n",
       "      <td>4</td>\n",
       "    </tr>\n",
       "    <tr>\n",
       "      <th>...</th>\n",
       "      <td>...</td>\n",
       "      <td>...</td>\n",
       "      <td>...</td>\n",
       "      <td>...</td>\n",
       "      <td>...</td>\n",
       "      <td>...</td>\n",
       "      <td>...</td>\n",
       "      <td>...</td>\n",
       "      <td>...</td>\n",
       "      <td>...</td>\n",
       "      <td>...</td>\n",
       "      <td>...</td>\n",
       "    </tr>\n",
       "    <tr>\n",
       "      <th>609</th>\n",
       "      <td>Rev. Gregory M. Kelly &amp; the best of Harlem Gospel</td>\n",
       "      <td>2025-01-18</td>\n",
       "      <td>20:00</td>\n",
       "      <td>2025-01-18</td>\n",
       "      <td></td>\n",
       "      <td>Evangelisch-Lutherische St. Nikolaikirche</td>\n",
       "      <td>Elmshorn</td>\n",
       "      <td>konzerte</td>\n",
       "      <td>https://veranstaltungen.meinestadt.de/elmshorn...</td>\n",
       "      <td>True</td>\n",
       "      <td>0</td>\n",
       "      <td>1</td>\n",
       "    </tr>\n",
       "    <tr>\n",
       "      <th>610</th>\n",
       "      <td>Erhardt &amp; Alexander</td>\n",
       "      <td>2025-01-18</td>\n",
       "      <td>20:00</td>\n",
       "      <td>2025-01-18</td>\n",
       "      <td></td>\n",
       "      <td>Stadttheater Elmshorn</td>\n",
       "      <td>Elmshorn</td>\n",
       "      <td>konzerte</td>\n",
       "      <td>https://veranstaltungen.meinestadt.de/elmshorn...</td>\n",
       "      <td>True</td>\n",
       "      <td>0</td>\n",
       "      <td>1</td>\n",
       "    </tr>\n",
       "    <tr>\n",
       "      <th>611</th>\n",
       "      <td>Lady Ticket 2 für 1 Groove Club\" anzeigen</td>\n",
       "      <td>2025-01-18</td>\n",
       "      <td>21:00</td>\n",
       "      <td>2025-01-18</td>\n",
       "      <td></td>\n",
       "      <td>Studio</td>\n",
       "      <td>Bremen, HB</td>\n",
       "      <td>music</td>\n",
       "      <td>https://www.eventbrite.de/e/lady-ticket-2-fur-...</td>\n",
       "      <td>True</td>\n",
       "      <td>0</td>\n",
       "      <td>1</td>\n",
       "    </tr>\n",
       "    <tr>\n",
       "      <th>612</th>\n",
       "      <td>Groove Club anzeigen</td>\n",
       "      <td>2025-01-18</td>\n",
       "      <td>21:00</td>\n",
       "      <td>2025-01-18</td>\n",
       "      <td></td>\n",
       "      <td>studio</td>\n",
       "      <td>Bremen, HB</td>\n",
       "      <td>music</td>\n",
       "      <td>https://www.eventbrite.de/e/groove-club-ticket...</td>\n",
       "      <td>True</td>\n",
       "      <td>0</td>\n",
       "      <td>1</td>\n",
       "    </tr>\n",
       "    <tr>\n",
       "      <th>613</th>\n",
       "      <td>Oldschool Beats Vol.2 @ Pumpe Kiel</td>\n",
       "      <td>2025-01-18</td>\n",
       "      <td>22:00</td>\n",
       "      <td>2025-01-18</td>\n",
       "      <td></td>\n",
       "      <td>Die Pumpe</td>\n",
       "      <td>Kiel</td>\n",
       "      <td>konzerte</td>\n",
       "      <td>https://veranstaltungen.meinestadt.de/kiel/eve...</td>\n",
       "      <td>True</td>\n",
       "      <td>0</td>\n",
       "      <td>1</td>\n",
       "    </tr>\n",
       "  </tbody>\n",
       "</table>\n",
       "<p>614 rows × 12 columns</p>\n",
       "</div>"
      ],
      "text/plain": [
       "                                               Subject Start Date Start Time  \\\n",
       "0    Drei Haselnüsse für Aschenbrödel - Der Origina... 2024-12-19              \n",
       "1                                           Geigen-Duo 2024-12-19              \n",
       "2                                         Hamburg CARD 2024-12-19      00:01   \n",
       "3    Gärtnern in der Stadt - Die grüne Vielfalt Lüb... 2024-12-19      09:00   \n",
       "4                             Buddenbrooks im Behnhaus 2024-12-19      10:00   \n",
       "..                                                 ...        ...        ...   \n",
       "609  Rev. Gregory M. Kelly & the best of Harlem Gospel 2025-01-18      20:00   \n",
       "610                                Erhardt & Alexander 2025-01-18      20:00   \n",
       "611          Lady Ticket 2 für 1 Groove Club\" anzeigen 2025-01-18      21:00   \n",
       "612                               Groove Club anzeigen 2025-01-18      21:00   \n",
       "613                 Oldschool Beats Vol.2 @ Pumpe Kiel 2025-01-18      22:00   \n",
       "\n",
       "       End Date End Time                                   Location  \\\n",
       "0    2024-12-19                                                 MuK   \n",
       "1    2024-12-19                              Spätcafé im Glockenhof   \n",
       "2    2024-12-19                  Touristinformation im Hauptbahnhof   \n",
       "3    2024-12-19                         Museum für Natur und Umwelt   \n",
       "4    2024-12-19                          Museum Behnhaus Drägerhaus   \n",
       "..          ...      ...                                        ...   \n",
       "609  2025-01-18           Evangelisch-Lutherische St. Nikolaikirche   \n",
       "610  2025-01-18                               Stadttheater Elmshorn   \n",
       "611  2025-01-18                                              Studio   \n",
       "612  2025-01-18                                              studio   \n",
       "613  2025-01-18                                           Die Pumpe   \n",
       "\n",
       "                City        Category  \\\n",
       "0    Lübeck Altstadt           Musik   \n",
       "1           Lüneburg           Musik   \n",
       "2       Hamburg City  Familie / Kind   \n",
       "3             Lübeck   Ausstellungen   \n",
       "4             Lübeck   Ausstellungen   \n",
       "..               ...             ...   \n",
       "609         Elmshorn        konzerte   \n",
       "610         Elmshorn        konzerte   \n",
       "611       Bremen, HB           music   \n",
       "612       Bremen, HB           music   \n",
       "613             Kiel        konzerte   \n",
       "\n",
       "                                           Description  Music_label  Counter  \\\n",
       "0    https://www.biunsinnorden.de/veranstaltungen/l...         True        0   \n",
       "1    https://www.biunsinnorden.de/veranstaltungen/l...         True        0   \n",
       "2    https://www.biunsinnorden.de/veranstaltungen/h...         True        0   \n",
       "3    1 event(s) found at the same time/location. Pl...        False        1   \n",
       "4    1 event(s) found at the same time/location. Pl...        False        1   \n",
       "..                                                 ...          ...      ...   \n",
       "609  https://veranstaltungen.meinestadt.de/elmshorn...         True        0   \n",
       "610  https://veranstaltungen.meinestadt.de/elmshorn...         True        0   \n",
       "611  https://www.eventbrite.de/e/lady-ticket-2-fur-...         True        0   \n",
       "612  https://www.eventbrite.de/e/groove-club-ticket...         True        0   \n",
       "613  https://veranstaltungen.meinestadt.de/kiel/eve...         True        0   \n",
       "\n",
       "     Colour  \n",
       "0         1  \n",
       "1         1  \n",
       "2         1  \n",
       "3         4  \n",
       "4         4  \n",
       "..      ...  \n",
       "609       1  \n",
       "610       1  \n",
       "611       1  \n",
       "612       1  \n",
       "613       1  \n",
       "\n",
       "[614 rows x 12 columns]"
      ]
     },
     "execution_count": 44,
     "metadata": {},
     "output_type": "execute_result"
    }
   ],
   "source": [
    "filtered_df"
   ]
  },
  {
   "cell_type": "markdown",
   "metadata": {},
   "source": [
    "### Event Comparison"
   ]
  },
  {
   "cell_type": "markdown",
   "metadata": {},
   "source": [
    "* New datasets `old_events` and `new_events` are created"
   ]
  },
  {
   "cell_type": "code",
   "execution_count": null,
   "metadata": {},
   "outputs": [
    {
     "name": "stdout",
     "output_type": "stream",
     "text": [
      "Dataset 'events_data' created successfully.\n"
     ]
    }
   ],
   "source": [
    "# create_dataset('old_events')\n",
    "# create_dataset('new_events')\n",
    "# create_dataset('events_data')"
   ]
  },
  {
   "cell_type": "markdown",
   "metadata": {},
   "source": [
    "### Creating new events table"
   ]
  },
  {
   "cell_type": "code",
   "execution_count": 45,
   "metadata": {},
   "outputs": [
    {
     "name": "stdout",
     "output_type": "stream",
     "text": [
      "Table created successfully.\n"
     ]
    }
   ],
   "source": [
    "table_id_new = f'{dataset_id}_new_events_{format_today}'\n",
    "\n",
    "full_table_id = f\"{dataset_ref}.{table_id_new}\"\n",
    "\n",
    "create_table_query = f\"\"\"\n",
    "CREATE OR REPLACE TABLE `{full_table_id}` (\n",
    "  `Subject` STRING,\n",
    "  `Start Date` DATE,  -- Defines Start_date as DATE type.\n",
    "  `End Date` DATE,    -- Defines Endt_date as DATE type.\n",
    "  `Start Time` STRING,\n",
    "  `End Time` STRING,\n",
    "  `Location` STRING,\n",
    "  `Description` STRING,\n",
    "  `Category` STRING,\n",
    "  `City` STRING,\n",
    "  `Music_label` BOOL,\n",
    "  `Counter` INT64,\n",
    "  `Colour` INT64\n",
    ")\"\"\"\n",
    "\n",
    "query_job = client.query(create_table_query).result()\n",
    "print(\"Table created successfully.\")"
   ]
  },
  {
   "cell_type": "code",
   "execution_count": 46,
   "metadata": {},
   "outputs": [
    {
     "name": "stdout",
     "output_type": "stream",
     "text": [
      "Data uploaded to BigQuery successfully!\n"
     ]
    }
   ],
   "source": [
    "uploading_table_to_big_query(filtered_df)  # this function uploads data to Big Query."
   ]
  },
  {
   "cell_type": "code",
   "execution_count": 47,
   "metadata": {},
   "outputs": [
    {
     "name": "stdout",
     "output_type": "stream",
     "text": [
      "Latest new_events table: events_data_new_events_20241219 (Date: 20241219)\n",
      "Latest old_events table: events_data_old_events_20241217 (Date: 20241217)\n"
     ]
    }
   ],
   "source": [
    "# List tables in the dataset\n",
    "tables = client.list_tables(dataset_ref)\n",
    "\n",
    "# Retrieve table names\n",
    "table_names = [table.table_id for table in tables]\n",
    "\n",
    "# Regular expressions to match table types\n",
    "new_events_pattern = r\"events_data_new_events_(\\d{8})\"\n",
    "old_events_pattern = r\"events_data_old_events_(\\d{8})\"\n",
    "\n",
    "# Extract and store dates for each table type\n",
    "new_events = []\n",
    "old_events = []\n",
    "\n",
    "for table_name in table_names:\n",
    "    new_match = re.search(new_events_pattern, table_name)\n",
    "    old_match = re.search(old_events_pattern, table_name)\n",
    "\n",
    "    if new_match:\n",
    "        new_events.append((table_name, int(new_match.group(1))))  # Store table name and date\n",
    "    elif old_match:\n",
    "        old_events.append((table_name, int(old_match.group(1))))\n",
    "\n",
    "# Sort the tables by date and get the latest ones\n",
    "latest_new_table = max(new_events, key=lambda x: x[1], default=None)\n",
    "latest_old_table = max(old_events, key=lambda x: x[1], default=None)\n",
    "\n",
    "# Print results\n",
    "if latest_new_table:\n",
    "    print(f\"Latest new_events table: {latest_new_table[0]} (Date: {latest_new_table[1]})\")\n",
    "else:\n",
    "    print(\"No new_events table found.\")\n",
    "\n",
    "if latest_old_table:\n",
    "    print(f\"Latest old_events table: {latest_old_table[0]} (Date: {latest_old_table[1]})\")\n",
    "else:\n",
    "    print(\"No old_events table found.\")"
   ]
  },
  {
   "cell_type": "markdown",
   "metadata": {},
   "source": [
    "### Copying new table to old table"
   ]
  },
  {
   "cell_type": "code",
   "execution_count": 48,
   "metadata": {},
   "outputs": [
    {
     "name": "stdout",
     "output_type": "stream",
     "text": [
      "Copied events_data_new_events_20241219 to events_data_old_events_20241219.\n"
     ]
    }
   ],
   "source": [
    "# List tables in the dataset\n",
    "tables = client.list_tables(dataset_ref)\n",
    "table_names = [table.table_id for table in tables]\n",
    "\n",
    "# Regular expression to match table names\n",
    "new_events_pattern = r\"events_data_new_events_(\\d{8})\"\n",
    "old_events_pattern = r\"events_data_old_events_(\\d{8})\"\n",
    "\n",
    "# Extract and store dates\n",
    "new_events = []\n",
    "old_events = []\n",
    "\n",
    "for table_name in table_names:\n",
    "    new_match = re.search(new_events_pattern, table_name)\n",
    "    old_match = re.search(old_events_pattern, table_name)\n",
    "    \n",
    "    if new_match:\n",
    "        new_events.append((table_name, int(new_match.group(1))))\n",
    "    elif old_match:\n",
    "        old_events.append((table_name, int(old_match.group(1))))\n",
    "\n",
    "# Find the latest new_events table and today's date\n",
    "today = int(datetime.now().strftime(\"%Y%m%d\"))  # Today's date in YYYYMMDD\n",
    "latest_new_table = max(new_events, key=lambda x: x[1], default=None)\n",
    "\n",
    "# Check and define the target old_events table name\n",
    "if latest_new_table and latest_new_table[1] == today:\n",
    "    source_table = latest_new_table[0]\n",
    "    target_table = source_table.replace(\"new_events\", \"old_events\")  # Replace \"new\" with \"old\"\n",
    "\n",
    "    # SQL query to copy the table\n",
    "    query = f\"\"\"\n",
    "    CREATE OR REPLACE TABLE `{dataset_id}.{target_table}`\n",
    "    AS\n",
    "    SELECT *\n",
    "    FROM `{dataset_id}.{source_table}`;\n",
    "    \"\"\"\n",
    "\n",
    "    # Run the query\n",
    "    query_job = client.query(query)\n",
    "    query_job.result()  # Wait for query completion\n",
    "    print(f\"Copied {source_table} to {target_table}.\")\n",
    "else:\n",
    "    print(\"No new_events table to process for today's date.\")"
   ]
  },
  {
   "cell_type": "code",
   "execution_count": 49,
   "metadata": {},
   "outputs": [
    {
     "name": "stderr",
     "output_type": "stream",
     "text": [
      "e:\\venv\\eventcalendar\\lib\\site-packages\\google\\cloud\\bigquery\\table.py:1727: UserWarning: BigQuery Storage module not found, fetch data with the REST endpoint instead.\n",
      "  warnings.warn(\n"
     ]
    },
    {
     "name": "stdout",
     "output_type": "stream",
     "text": [
      "Loaded df_old from table: events_data_old_events_20241217\n",
      "Loaded df_new from table: events_data_new_events_20241219\n"
     ]
    }
   ],
   "source": [
    "# List tables in the dataset\n",
    "tables = client.list_tables(dataset_ref)\n",
    "table_names = [table.table_id for table in tables]\n",
    "\n",
    "# Regular expressions to identify table types\n",
    "new_events_pattern = r\"events_data_new_events_(\\d{8})\"\n",
    "old_events_pattern = r\"events_data_old_events_(\\d{8})\"\n",
    "\n",
    "# Extract and store tables with their dates\n",
    "new_events = []\n",
    "old_events = []\n",
    "\n",
    "for table_name in table_names:\n",
    "    new_match = re.search(new_events_pattern, table_name)\n",
    "    old_match = re.search(old_events_pattern, table_name)\n",
    "    \n",
    "    if new_match:\n",
    "        new_events.append((table_name, int(new_match.group(1))))  # Table name and date\n",
    "    elif old_match:\n",
    "        old_events.append((table_name, int(old_match.group(1))))\n",
    "\n",
    "# Today's date\n",
    "today = int(datetime.now().strftime(\"%Y%m%d\"))\n",
    "\n",
    "# Find the latest new_events table (likely today's date)\n",
    "latest_new_table = max(new_events, key=lambda x: x[1], default=None)\n",
    "\n",
    "# Find the latest old_events table BEFORE today\n",
    "latest_old_table = max(\n",
    "    [table for table in old_events if table[1] < today],\n",
    "    key=lambda x: x[1],\n",
    "    default=None\n",
    ")\n",
    "\n",
    "# Load DataFrames from the tables\n",
    "if latest_old_table:\n",
    "    query_old = f\"SELECT * FROM `{dataset_id}.{latest_old_table[0]}`\"\n",
    "    df_old = client.query(query_old).to_dataframe()\n",
    "    print(f\"Loaded df_old from table: {latest_old_table[0]}\")\n",
    "else:\n",
    "    df_old = pd.DataFrame()  # Empty DataFrame if no table is found\n",
    "    print(\"No valid old_events table found before today.\")\n",
    "\n",
    "if latest_new_table:\n",
    "    query_new = f\"SELECT * FROM `{dataset_id}.{latest_new_table[0]}`\"\n",
    "    df_new = client.query(query_new).to_dataframe()\n",
    "    print(f\"Loaded df_new from table: {latest_new_table[0]}\")\n",
    "else:\n",
    "    df_new = pd.DataFrame()  # Empty DataFrame if no table is found\n",
    "    print(\"No valid new_events table found for today.\")"
   ]
  },
  {
   "cell_type": "code",
   "execution_count": null,
   "metadata": {},
   "outputs": [
    {
     "name": "stderr",
     "output_type": "stream",
     "text": [
      "e:\\venv\\eventcalendar\\lib\\site-packages\\google\\cloud\\bigquery\\table.py:1727: UserWarning: BigQuery Storage module not found, fetch data with the REST endpoint instead.\n",
      "  warnings.warn(\n"
     ]
    }
   ],
   "source": [
    "# table_id = \"events_data_old_events_20241215\"  # Replace with your table name\n",
    "\n",
    "# # Full table reference\n",
    "# table_ref = f\"{project_id}.{dataset_id}.{table_id}\"\n",
    "\n",
    "# # SQL query to fetch data\n",
    "# query = f\"SELECT * FROM `{table_ref}`\"\n",
    "\n",
    "# # Load table into a DataFrame\n",
    "# df_old = client.query(query).to_dataframe()"
   ]
  },
  {
   "cell_type": "markdown",
   "metadata": {},
   "source": [
    "### Deleting table"
   ]
  },
  {
   "cell_type": "code",
   "execution_count": 37,
   "metadata": {},
   "outputs": [
    {
     "name": "stdout",
     "output_type": "stream",
     "text": [
      "Deleted table: lucky-reactor-443308-r4.events_data.events_data_new_events_20241221\n",
      "Deleted table: lucky-reactor-443308-r4.events_data.events_data_new_events_20241220\n"
     ]
    }
   ],
   "source": [
    "# tables_to_delete = [\n",
    "#     \"events_data_new_events_20241221\",\n",
    "#     \"events_data_new_events_20241220\"\n",
    "# ]\n",
    "\n",
    "# # Delete each table\n",
    "# for table_name in tables_to_delete:\n",
    "#     table_ref = f\"{project_id}.{dataset_id}.{table_name}\"\n",
    "#     try:\n",
    "#         client.delete_table(table_ref)  # API request to delete the table\n",
    "#         print(f\"Deleted table: {table_ref}\")\n",
    "#     except Exception as e:\n",
    "#         print(f\"Failed to delete table {table_ref}: {e}\")"
   ]
  },
  {
   "cell_type": "markdown",
   "metadata": {},
   "source": [
    "### Testing"
   ]
  },
  {
   "cell_type": "code",
   "execution_count": 67,
   "metadata": {},
   "outputs": [],
   "source": [
    "# Normalize time formatting\n",
    "def normalize_time(value):\n",
    "    if pd.notna(value) and isinstance(value, str):\n",
    "        return value.zfill(5).replace('0000', '00:00')  # Ensure format HH:mm\n",
    "    return value\n",
    "\n",
    "# Apply normalization to time columns\n",
    "for df in [df_old, df_new]:\n",
    "    df['Start Time'] = df['Start Time'].apply(normalize_time)\n",
    "    df['End Time'] = df['End Time'].apply(normalize_time)\n",
    "\n",
    "# Process each city independently\n",
    "cities = set(df_old['City'].dropna()).union(set(df_new['City'].dropna()))\n",
    "\n",
    "# Create an empty DataFrame to store results\n",
    "final_df = pd.DataFrame()"
   ]
  },
  {
   "cell_type": "code",
   "execution_count": 68,
   "metadata": {},
   "outputs": [],
   "source": [
    "# Loop over each city\n",
    "for city in cities:\n",
    "    df_old_city = df_old[df_old['City'] == city]\n",
    "    df_new_city = df_new[df_new['City'] == city]\n",
    "    \n",
    "    # Process old events and compare with the new dataset\n",
    "    for _, old_row in df_old_city.iterrows():\n",
    "        # Find matching events by Subject in the same city\n",
    "        matching_subject = df_new_city[df_new_city['Subject'] == old_row['Subject']]\n",
    "\n",
    "        if matching_subject.empty:\n",
    "            # Event not found in new dataset: Mark as deleted (Red)\n",
    "            deleted_event = old_row.copy()\n",
    "            deleted_event['Colour'] = 11  # Red\n",
    "            deleted_event['Start Time'] = normalize_time(old_row['Start Time'])\n",
    "            deleted_event['End Time'] = normalize_time(old_row['End Time'])\n",
    "            df_new_city = pd.concat([df_new_city, pd.DataFrame([deleted_event])], ignore_index=True)\n",
    "        else:\n",
    "            for idx, new_row in matching_subject.iterrows():\n",
    "                # Preserve duplicate (4) if it exists in the old dataset\n",
    "                if old_row['Colour'] == 4:\n",
    "                    df_new_city.loc[idx, 'Colour'] = 4\n",
    "                    continue\n",
    "\n",
    "                # Check for differences in specified columns\n",
    "                columns_to_check = ['Start Date', 'Start Time', 'End Date', 'End Time', 'Location', 'Category']\n",
    "                differences = {}\n",
    "\n",
    "                for col in columns_to_check:\n",
    "                    if old_row[col] != new_row[col] and pd.notna(old_row[col]) and pd.notna(new_row[col]):\n",
    "                        differences[col] = {\n",
    "                            \"Old Value\": old_row[col],\n",
    "                            \"New Value\": new_row[col]\n",
    "                        }\n",
    "\n",
    "                if differences:\n",
    "                    # Event details changed: Mark as changed (Yellow)\n",
    "                    df_new_city.loc[idx, 'Colour'] = 5  # Yellow\n",
    "                    # Update description with original values\n",
    "                    original_description = new_row.get('Description', '')\n",
    "                    for key, value in differences.items():\n",
    "                        original_description += f\"\\nOriginal {key}: {value['Old Value']}\"\n",
    "                    df_new_city.loc[idx, 'Description'] = original_description\n",
    "                else:\n",
    "                    # No changes: Set to Green (10) only if it isn't a duplicate (2)\n",
    "                    if new_row.get('Colour', None) not in [4, 5, 11]:\n",
    "                        df_new_city.loc[idx, 'Colour'] = 10  # Green for unchanged\n",
    "\n",
    "    # Ensure remaining new events are marked appropriately\n",
    "    for idx, new_row in df_new_city.iterrows():\n",
    "        # Preserve duplicate (2) if already set\n",
    "        if new_row.get('Colour', None) == 4:\n",
    "            continue\n",
    "        # Mark as green (10) for events without explicit updates\n",
    "        if pd.isna(new_row.get('Colour', None)) or new_row['Colour'] not in [5, 11]:\n",
    "            df_new_city.loc[idx, 'Colour'] = 10  # Green for unchanged\n",
    "\n",
    "    # Append city's results to the final DataFrame\n",
    "    final_df = pd.concat([final_df, df_new_city], ignore_index=True)"
   ]
  },
  {
   "cell_type": "code",
   "execution_count": 64,
   "metadata": {},
   "outputs": [],
   "source": [
    "# # Create empty DataFrames to store deleted and new events\n",
    "# deleted_events = pd.DataFrame()\n",
    "# new_events = pd.DataFrame()\n",
    "\n",
    "# # Loop over each city\n",
    "# for city in cities:\n",
    "#     # Filter datasets by city\n",
    "#     df_old_city = df_old[df_old['City'] == city]\n",
    "#     df_new_city = df_new[df_new['City'] == city].copy()\n",
    "\n",
    "#     # Create a flag to track processed rows in df_new_city\n",
    "#     df_new_city['Processed'] = False\n",
    "\n",
    "#     # Process old events and compare with the new dataset\n",
    "#     for _, old_row in df_old_city.iterrows():\n",
    "#         # Find matching events by Subject\n",
    "#         matching_subject = df_new_city[df_new_city['Subject'] == old_row['Subject']]\n",
    "\n",
    "#         if matching_subject.empty:\n",
    "#             # Event not found in new dataset: Mark as deleted (Red)\n",
    "#             deleted_event = old_row.copy()\n",
    "#             deleted_event['Colour'] = 11  # Red\n",
    "#             deleted_event['Start Time'] = normalize_time(old_row['Start Time'])\n",
    "#             deleted_event['End Time'] = normalize_time(old_row['End Time'])\n",
    "#             deleted_events = pd.concat([deleted_events, pd.DataFrame([deleted_event])], ignore_index=True)\n",
    "#         else:\n",
    "#             # Mark matched rows in df_new_city as processed\n",
    "#             for idx, new_row in matching_subject.iterrows():\n",
    "#                 df_new_city.loc[idx, 'Processed'] = True\n",
    "\n",
    "#                 # Preserve duplicate (4) if it exists in the old dataset\n",
    "#                 if old_row['Colour'] == 4:\n",
    "#                     df_new_city.loc[idx, 'Colour'] = 4\n",
    "#                     continue\n",
    "\n",
    "#                 # Check for differences in specified columns\n",
    "#                 columns_to_check = ['Start Date', 'Start Time', 'End Date', 'End Time', 'Location', 'Category']\n",
    "#                 differences = {}\n",
    "\n",
    "#                 for col in columns_to_check:\n",
    "#                     if old_row[col] != new_row[col] and pd.notna(old_row[col]) and pd.notna(new_row[col]):\n",
    "#                         differences[col] = {\n",
    "#                             \"Old Value\": old_row[col],\n",
    "#                             \"New Value\": new_row[col]\n",
    "#                         }\n",
    "\n",
    "#                 if differences:\n",
    "#                     # Event details changed: Mark as changed (Yellow)\n",
    "#                     df_new_city.loc[idx, 'Colour'] = 5  # Yellow\n",
    "#                     # Update description with original values\n",
    "#                     original_description = new_row.get('Description', '')\n",
    "#                     for key, value in differences.items():\n",
    "#                         original_description += f\"\\nOriginal {key}: {value['Old Value']}\"\n",
    "#                     df_new_city.loc[idx, 'Description'] = original_description\n",
    "#                 else:\n",
    "#                     # No changes: Set to Green (10) only if it isn't a duplicate (2)\n",
    "#                     if new_row.get('Colour', None) not in [4, 5, 11]:\n",
    "#                         df_new_city.loc[idx, 'Colour'] = 10  # Green for unchanged\n",
    "\n",
    "#     # Handle events in df_new that are not in df_old (new events)\n",
    "#     for idx, new_row in df_new_city.iterrows():\n",
    "#         if not new_row['Processed']:\n",
    "#             # Mark as blue (7) for truly new events\n",
    "#             df_new_city.loc[idx, 'Colour'] = 7\n",
    "\n",
    "#     # Drop the temporary 'Processed' column\n",
    "#     df_new_city = df_new_city.drop(columns=['Processed'])\n",
    "\n",
    "#     # Append city's results to the final DataFrame\n",
    "#     final_df = pd.concat([final_df, df_new_city], ignore_index=True)\n",
    "\n",
    "# # Append deleted events to the final DataFrame\n",
    "# final_df = pd.concat([final_df, deleted_events], ignore_index=True)\n"
   ]
  },
  {
   "cell_type": "code",
   "execution_count": null,
   "metadata": {},
   "outputs": [
    {
     "name": "stdout",
     "output_type": "stream",
     "text": [
      "Table events_data_new_events_20241215 copied to events_data_old_events_20241215.\n"
     ]
    }
   ],
   "source": [
    "# source_table = \"events_data_new_events_20241215\"\n",
    "# target_table = \"events_data_old_events_20241215\"\n",
    "\n",
    "# # SQL query to copy table\n",
    "# copy_query = f\"\"\"\n",
    "# CREATE OR REPLACE TABLE `{project_id}.{dataset_id}.{target_table}`\n",
    "# AS\n",
    "# SELECT *\n",
    "# FROM `{project_id}.{dataset_id}.{source_table}`;\n",
    "# \"\"\"\n",
    "\n",
    "# # Run the query\n",
    "# query_job = client.query(copy_query)\n",
    "# query_job.result()  # Wait for the query to finish\n",
    "\n",
    "# print(f\"Table {source_table} copied to {target_table}.\")"
   ]
  },
  {
   "cell_type": "code",
   "execution_count": 74,
   "metadata": {},
   "outputs": [],
   "source": [
    "final_df_kiel = final_df[final_df['City'] == 'Hamburg']"
   ]
  },
  {
   "cell_type": "code",
   "execution_count": 75,
   "metadata": {},
   "outputs": [
    {
     "data": {
      "text/html": [
       "<div>\n",
       "<style scoped>\n",
       "    .dataframe tbody tr th:only-of-type {\n",
       "        vertical-align: middle;\n",
       "    }\n",
       "\n",
       "    .dataframe tbody tr th {\n",
       "        vertical-align: top;\n",
       "    }\n",
       "\n",
       "    .dataframe thead th {\n",
       "        text-align: right;\n",
       "    }\n",
       "</style>\n",
       "<table border=\"1\" class=\"dataframe\">\n",
       "  <thead>\n",
       "    <tr style=\"text-align: right;\">\n",
       "      <th></th>\n",
       "      <th>Subject</th>\n",
       "      <th>Start Date</th>\n",
       "      <th>End Date</th>\n",
       "      <th>Start Time</th>\n",
       "      <th>End Time</th>\n",
       "      <th>Location</th>\n",
       "      <th>Description</th>\n",
       "      <th>Category</th>\n",
       "      <th>City</th>\n",
       "      <th>Music_label</th>\n",
       "      <th>Counter</th>\n",
       "      <th>Colour</th>\n",
       "    </tr>\n",
       "  </thead>\n",
       "  <tbody>\n",
       "    <tr>\n",
       "      <th>264</th>\n",
       "      <td>11 Freunde</td>\n",
       "      <td>2025-01-15</td>\n",
       "      <td>2025-01-15</td>\n",
       "      <td>20:00</td>\n",
       "      <td>00:00</td>\n",
       "      <td>Hamburg, Fabrik</td>\n",
       "      <td>https://www.livegigs.de/lesung/11-freunde/hamb...</td>\n",
       "      <td>Lesung</td>\n",
       "      <td>Hamburg</td>\n",
       "      <td>True</td>\n",
       "      <td>0</td>\n",
       "      <td>10</td>\n",
       "    </tr>\n",
       "    <tr>\n",
       "      <th>265</th>\n",
       "      <td>Spurv, 44 Inch Cake</td>\n",
       "      <td>2025-01-12</td>\n",
       "      <td>2025-01-12</td>\n",
       "      <td>18:00</td>\n",
       "      <td>00:00</td>\n",
       "      <td>Hamburg, MS Stubnitz</td>\n",
       "      <td>https://www.livegigs.de/konzert/spurv-44-inch-...</td>\n",
       "      <td>Konzert</td>\n",
       "      <td>Hamburg</td>\n",
       "      <td>True</td>\n",
       "      <td>0</td>\n",
       "      <td>10</td>\n",
       "    </tr>\n",
       "    <tr>\n",
       "      <th>266</th>\n",
       "      <td>Carillon-Konzert</td>\n",
       "      <td>2024-12-19</td>\n",
       "      <td>2024-12-19</td>\n",
       "      <td>12:00</td>\n",
       "      <td>00:00</td>\n",
       "      <td>Mahnmal St. Nikolai</td>\n",
       "      <td>https://veranstaltungen.meinestadt.de/hamburg/...</td>\n",
       "      <td>konzerte</td>\n",
       "      <td>Hamburg</td>\n",
       "      <td>True</td>\n",
       "      <td>0</td>\n",
       "      <td>10</td>\n",
       "    </tr>\n",
       "    <tr>\n",
       "      <th>267</th>\n",
       "      <td>Mittagspause</td>\n",
       "      <td>2024-12-19</td>\n",
       "      <td>2024-12-19</td>\n",
       "      <td>13:00</td>\n",
       "      <td>00:00</td>\n",
       "      <td>Kirche St. Johannis-Harvestehude</td>\n",
       "      <td>https://veranstaltungen.meinestadt.de/hamburg/...</td>\n",
       "      <td>konzerte</td>\n",
       "      <td>Hamburg</td>\n",
       "      <td>True</td>\n",
       "      <td>0</td>\n",
       "      <td>10</td>\n",
       "    </tr>\n",
       "    <tr>\n",
       "      <th>268</th>\n",
       "      <td>Weihnachtslieder zum mitsingen</td>\n",
       "      <td>2024-12-19</td>\n",
       "      <td>2024-12-19</td>\n",
       "      <td>18:30</td>\n",
       "      <td>00:00</td>\n",
       "      <td>Haus im Park</td>\n",
       "      <td>https://veranstaltungen.meinestadt.de/hamburg/...</td>\n",
       "      <td>konzerte</td>\n",
       "      <td>Hamburg</td>\n",
       "      <td>True</td>\n",
       "      <td>0</td>\n",
       "      <td>5</td>\n",
       "    </tr>\n",
       "    <tr>\n",
       "      <th>...</th>\n",
       "      <td>...</td>\n",
       "      <td>...</td>\n",
       "      <td>...</td>\n",
       "      <td>...</td>\n",
       "      <td>...</td>\n",
       "      <td>...</td>\n",
       "      <td>...</td>\n",
       "      <td>...</td>\n",
       "      <td>...</td>\n",
       "      <td>...</td>\n",
       "      <td>...</td>\n",
       "      <td>...</td>\n",
       "    </tr>\n",
       "    <tr>\n",
       "      <th>535</th>\n",
       "      <td>ELPHI PLAZA FüHRUNG</td>\n",
       "      <td>2024-12-18</td>\n",
       "      <td>2024-12-18</td>\n",
       "      <td>15:00</td>\n",
       "      <td>00:00</td>\n",
       "      <td>Treffpunkt: U-Bahnhof Baumwall (Elbphilharmonie)</td>\n",
       "      <td>1 event(s) found at the same time/location. Pl...</td>\n",
       "      <td>Rundgänge &amp; Fahrten</td>\n",
       "      <td>Hamburg</td>\n",
       "      <td>False</td>\n",
       "      <td>1</td>\n",
       "      <td>4</td>\n",
       "    </tr>\n",
       "    <tr>\n",
       "      <th>536</th>\n",
       "      <td>ALTONA - THERESIENSTADT. DIE LEBENSWEGE VON LE...</td>\n",
       "      <td>2024-12-18</td>\n",
       "      <td>2024-12-18</td>\n",
       "      <td>10:00</td>\n",
       "      <td>17:00</td>\n",
       "      <td>Altonaer Museum</td>\n",
       "      <td>2 event(s) found at the same time/location. Pl...</td>\n",
       "      <td>Ausstellungen</td>\n",
       "      <td>Hamburg</td>\n",
       "      <td>False</td>\n",
       "      <td>2</td>\n",
       "      <td>11</td>\n",
       "    </tr>\n",
       "    <tr>\n",
       "      <th>537</th>\n",
       "      <td>SANTA PAULI</td>\n",
       "      <td>2024-12-17</td>\n",
       "      <td>2024-12-17</td>\n",
       "      <td>16:00</td>\n",
       "      <td>23:00</td>\n",
       "      <td>Spielbudenplatz</td>\n",
       "      <td>2 event(s) found at the same time/location. Pl...</td>\n",
       "      <td>Weihnachtsmärkte</td>\n",
       "      <td>Hamburg</td>\n",
       "      <td>False</td>\n",
       "      <td>2</td>\n",
       "      <td>11</td>\n",
       "    </tr>\n",
       "    <tr>\n",
       "      <th>538</th>\n",
       "      <td>SAFARI TOUR AUF ST. PAULI</td>\n",
       "      <td>2024-12-17</td>\n",
       "      <td>2024-12-17</td>\n",
       "      <td>19:30</td>\n",
       "      <td>00:00</td>\n",
       "      <td>Treffpunkt: U-Bahnhof St. Pauli (Ausgang Mille...</td>\n",
       "      <td>2 event(s) found at the same time/location. Pl...</td>\n",
       "      <td>Rundgänge &amp; Fahrten</td>\n",
       "      <td>Hamburg</td>\n",
       "      <td>False</td>\n",
       "      <td>2</td>\n",
       "      <td>4</td>\n",
       "    </tr>\n",
       "    <tr>\n",
       "      <th>539</th>\n",
       "      <td>ST. PAULI NACHTMARKT</td>\n",
       "      <td>2024-12-18</td>\n",
       "      <td>2024-12-18</td>\n",
       "      <td>16:00</td>\n",
       "      <td>22:00</td>\n",
       "      <td>Spielbudenplatz</td>\n",
       "      <td>3 event(s) found at the same time/location. Pl...</td>\n",
       "      <td>Wochenmärkte</td>\n",
       "      <td>Hamburg</td>\n",
       "      <td>False</td>\n",
       "      <td>3</td>\n",
       "      <td>11</td>\n",
       "    </tr>\n",
       "  </tbody>\n",
       "</table>\n",
       "<p>276 rows × 12 columns</p>\n",
       "</div>"
      ],
      "text/plain": [
       "                                               Subject  Start Date  \\\n",
       "264                                         11 Freunde  2025-01-15   \n",
       "265                                Spurv, 44 Inch Cake  2025-01-12   \n",
       "266                                   Carillon-Konzert  2024-12-19   \n",
       "267                                       Mittagspause  2024-12-19   \n",
       "268                     Weihnachtslieder zum mitsingen  2024-12-19   \n",
       "..                                                 ...         ...   \n",
       "535                                ELPHI PLAZA FüHRUNG  2024-12-18   \n",
       "536  ALTONA - THERESIENSTADT. DIE LEBENSWEGE VON LE...  2024-12-18   \n",
       "537                                        SANTA PAULI  2024-12-17   \n",
       "538                          SAFARI TOUR AUF ST. PAULI  2024-12-17   \n",
       "539                               ST. PAULI NACHTMARKT  2024-12-18   \n",
       "\n",
       "       End Date Start Time End Time  \\\n",
       "264  2025-01-15      20:00   00:00    \n",
       "265  2025-01-12      18:00   00:00    \n",
       "266  2024-12-19      12:00   00:00    \n",
       "267  2024-12-19      13:00   00:00    \n",
       "268  2024-12-19      18:30   00:00    \n",
       "..          ...        ...      ...   \n",
       "535  2024-12-18      15:00   00:00    \n",
       "536  2024-12-18      10:00    17:00   \n",
       "537  2024-12-17      16:00    23:00   \n",
       "538  2024-12-17      19:30   00:00    \n",
       "539  2024-12-18      16:00    22:00   \n",
       "\n",
       "                                              Location  \\\n",
       "264                                    Hamburg, Fabrik   \n",
       "265                               Hamburg, MS Stubnitz   \n",
       "266                                Mahnmal St. Nikolai   \n",
       "267                   Kirche St. Johannis-Harvestehude   \n",
       "268                                       Haus im Park   \n",
       "..                                                 ...   \n",
       "535   Treffpunkt: U-Bahnhof Baumwall (Elbphilharmonie)   \n",
       "536                                    Altonaer Museum   \n",
       "537                                    Spielbudenplatz   \n",
       "538  Treffpunkt: U-Bahnhof St. Pauli (Ausgang Mille...   \n",
       "539                                    Spielbudenplatz   \n",
       "\n",
       "                                           Description             Category  \\\n",
       "264  https://www.livegigs.de/lesung/11-freunde/hamb...               Lesung   \n",
       "265  https://www.livegigs.de/konzert/spurv-44-inch-...              Konzert   \n",
       "266  https://veranstaltungen.meinestadt.de/hamburg/...             konzerte   \n",
       "267  https://veranstaltungen.meinestadt.de/hamburg/...             konzerte   \n",
       "268  https://veranstaltungen.meinestadt.de/hamburg/...             konzerte   \n",
       "..                                                 ...                  ...   \n",
       "535  1 event(s) found at the same time/location. Pl...  Rundgänge & Fahrten   \n",
       "536  2 event(s) found at the same time/location. Pl...        Ausstellungen   \n",
       "537  2 event(s) found at the same time/location. Pl...     Weihnachtsmärkte   \n",
       "538  2 event(s) found at the same time/location. Pl...  Rundgänge & Fahrten   \n",
       "539  3 event(s) found at the same time/location. Pl...         Wochenmärkte   \n",
       "\n",
       "        City  Music_label  Counter  Colour  \n",
       "264  Hamburg         True        0      10  \n",
       "265  Hamburg         True        0      10  \n",
       "266  Hamburg         True        0      10  \n",
       "267  Hamburg         True        0      10  \n",
       "268  Hamburg         True        0       5  \n",
       "..       ...          ...      ...     ...  \n",
       "535  Hamburg        False        1       4  \n",
       "536  Hamburg        False        2      11  \n",
       "537  Hamburg        False        2      11  \n",
       "538  Hamburg        False        2       4  \n",
       "539  Hamburg        False        3      11  \n",
       "\n",
       "[276 rows x 12 columns]"
      ]
     },
     "execution_count": 75,
     "metadata": {},
     "output_type": "execute_result"
    }
   ],
   "source": [
    "final_df_kiel"
   ]
  },
  {
   "cell_type": "code",
   "execution_count": null,
   "metadata": {},
   "outputs": [],
   "source": []
  },
  {
   "cell_type": "code",
   "execution_count": 76,
   "metadata": {},
   "outputs": [],
   "source": [
    "final_df_kiel = final_df_kiel[final_df_kiel['Colour'] != 11]"
   ]
  },
  {
   "cell_type": "code",
   "execution_count": null,
   "metadata": {},
   "outputs": [],
   "source": [
    "final_df_kiel"
   ]
  },
  {
   "cell_type": "code",
   "execution_count": 29,
   "metadata": {},
   "outputs": [
    {
     "name": "stdout",
     "output_type": "stream",
     "text": [
      "Event created: https://www.google.com/calendar/event?eid=Y3FrMGF1ZDBvYzBuYXF0MHFxZm44YXNtazAgZXZlbnRjYWxlbmRhcmtpZWxAbQ\n",
      "Event created: https://www.google.com/calendar/event?eid=MzIxN285a2ozZjlqNGphNXRsNmVwOWQzcWsgZXZlbnRjYWxlbmRhcmtpZWxAbQ\n",
      "Event created: https://www.google.com/calendar/event?eid=aTA4MW91cjRvZHZsZGJsdWxuZWs1MDh2bGcgZXZlbnRjYWxlbmRhcmtpZWxAbQ\n",
      "Event created: https://www.google.com/calendar/event?eid=bjU2a2hpaDJmaWxmdXZuMTFkaThrZ202YTAgZXZlbnRjYWxlbmRhcmtpZWxAbQ\n",
      "Event created: https://www.google.com/calendar/event?eid=ZDBrNnFkNzQ1cmU0cXNlb3VpZ2sxMWpvZGcgZXZlbnRjYWxlbmRhcmtpZWxAbQ\n",
      "Event created: https://www.google.com/calendar/event?eid=MGRyZWlnNWhqdGpkOXQwbzViMmlycnFha2MgZXZlbnRjYWxlbmRhcmtpZWxAbQ\n",
      "Event created: https://www.google.com/calendar/event?eid=bXFwcGJjZzNrYjJqb3RkMHJoaG8xZjBmYjAgZXZlbnRjYWxlbmRhcmtpZWxAbQ\n",
      "Event created: https://www.google.com/calendar/event?eid=MXBlMTIwMzJyYmc2MnJldDhzaHBpYmRvdDggZXZlbnRjYWxlbmRhcmtpZWxAbQ\n",
      "Event created: https://www.google.com/calendar/event?eid=aTJwcGRzdmZtZmt0Y3Q2NnAxdHFvZGM2MWMgZXZlbnRjYWxlbmRhcmtpZWxAbQ\n",
      "Event created: https://www.google.com/calendar/event?eid=ODA2bXZsdW4ydDdxc2ExMGs1OG10djZ1ZjQgZXZlbnRjYWxlbmRhcmtpZWxAbQ\n",
      "Event created: https://www.google.com/calendar/event?eid=OTkwcmU0amZhcDhoNTZxaWdkOXU0anNicmsgZXZlbnRjYWxlbmRhcmtpZWxAbQ\n",
      "Event created: https://www.google.com/calendar/event?eid=Zmw3NDFycjZqYWJlMTY3azRwaW02dmN0Y2sgZXZlbnRjYWxlbmRhcmtpZWxAbQ\n",
      "Event created: https://www.google.com/calendar/event?eid=N20zcmlrN3Y1MnFobjkxdXFhcHExNjM2MGMgZXZlbnRjYWxlbmRhcmtpZWxAbQ\n",
      "Event created: https://www.google.com/calendar/event?eid=N3Izc21ndHBvcmY3ZHQ3N2VrMXBjbzkxOWsgZXZlbnRjYWxlbmRhcmtpZWxAbQ\n",
      "Event created: https://www.google.com/calendar/event?eid=dXNnZHBmdnVvMnJkcXZoa243MGphYzRhZ28gZXZlbnRjYWxlbmRhcmtpZWxAbQ\n",
      "Event created: https://www.google.com/calendar/event?eid=azhiOXAybGxxZzZvMmg1dDNzajFtY2Joc2cgZXZlbnRjYWxlbmRhcmtpZWxAbQ\n",
      "Event created: https://www.google.com/calendar/event?eid=MnI3ZWlkajI4ZjRwbDJic2tvNHM1djg1ZzggZXZlbnRjYWxlbmRhcmtpZWxAbQ\n",
      "Event created: https://www.google.com/calendar/event?eid=bmM3dHZoajg3dGFmYXZ1YW9qcDJmZTlvdHMgZXZlbnRjYWxlbmRhcmtpZWxAbQ\n",
      "Event created: https://www.google.com/calendar/event?eid=ZGhjamtmNzJscWk0c29lZ2ZwYjcxajg3MWsgZXZlbnRjYWxlbmRhcmtpZWxAbQ\n",
      "Event created: https://www.google.com/calendar/event?eid=bWR1cDNpYzNlbHFudjZydTlzM2tjanRpOWcgZXZlbnRjYWxlbmRhcmtpZWxAbQ\n",
      "Event created: https://www.google.com/calendar/event?eid=YW5jZmFvNGZva3A5c2doNjZ2MDFyMWhkMnMgZXZlbnRjYWxlbmRhcmtpZWxAbQ\n",
      "Success count: 21\n",
      "Failure count: 0\n"
     ]
    }
   ],
   "source": [
    "success_count = 0\n",
    "failure_count = 0\n",
    "\n",
    "# Loop through the DataFrame rows\n",
    "for i, row in final_df_kiel.iterrows():\n",
    "    # Extract row data\n",
    "    start_date_str = row['Start Date']\n",
    "    end_date_str = row['End Date']\n",
    "    start_time_str = row['Start Time']\n",
    "    end_time_str = row['End Time']\n",
    "    color_id = str(row['Colour'])  # Use the Colour column for the colorId\n",
    "\n",
    "    try:\n",
    "        # Generate timestamp for event creation\n",
    "        creation_timestamp = pd.Timestamp.now().strftime(\"%Y-%m-%d %H:%M:%S\")\n",
    "\n",
    "        # Append timestamp to the description\n",
    "        description_with_timestamp = f\"{row['Description']}\\n\\nEvent created on: {creation_timestamp}\"\n",
    "\n",
    "        # Check if start_time is NaN or blank (indicating an all-day event)\n",
    "        if pd.isna(start_time_str) or start_time_str.strip() == \"\":\n",
    "            # Event is all day, use only date\n",
    "            start_date_obj = pd.to_datetime(start_date_str).date()  # Convert to date\n",
    "            end_date_obj = pd.to_datetime(end_date_str).date() if not pd.isna(end_date_str) else start_date_obj\n",
    "\n",
    "            # Increment end date by 1 day if start and end dates are the same\n",
    "            if start_date_obj == end_date_obj:\n",
    "                end_date_obj += pd.Timedelta(days=1)\n",
    "\n",
    "            event = {\n",
    "                'summary': row['Subject'],  # Use the Subject column for the event name\n",
    "                'location': row['Location'],\n",
    "                'start': {\n",
    "                    'date': start_date_obj.isoformat(),  # Use date for all-day event\n",
    "                },\n",
    "                'end': {\n",
    "                    'date': end_date_obj.isoformat(),  # End date for all-day event\n",
    "                },\n",
    "                'description': description_with_timestamp,  # Updated description\n",
    "                'colorId': color_id  # Set the color based on the Colour column\n",
    "            }\n",
    "        else:\n",
    "            # Combine date and time for start\n",
    "            start_datetime_str = f\"{start_date_str} {start_time_str}\"  # Replace \"T\" with a space\n",
    "            start_time_obj = pd.to_datetime(start_datetime_str)\n",
    "\n",
    "            # Combine date and time for end\n",
    "            if pd.isna(end_time_str) or end_time_str.strip() == \"\":\n",
    "                end_time_obj = start_time_obj + pd.Timedelta(hours=1)  # Default duration: 1 hour\n",
    "            else:\n",
    "                end_datetime_str = f\"{end_date_str} {end_time_str}\"  # Replace \"T\" with a space\n",
    "                end_time_obj = pd.to_datetime(end_datetime_str)\n",
    "\n",
    "            # Increment end date by 1 day if start and end times overlap midnight\n",
    "            if start_time_obj.date() == end_time_obj.date() and end_time_obj.time() == pd.to_datetime(\"00:00\").time():\n",
    "                end_time_obj += pd.Timedelta(days=1)\n",
    "\n",
    "            event = {\n",
    "                'summary': row['Subject'],  # Use the Subject column for the event name\n",
    "                'location': row['Location'],\n",
    "                'start': {\n",
    "                    'dateTime': start_time_obj.strftime(\"%Y-%m-%dT%H:%M:%S\"),\n",
    "                    'timeZone': 'Europe/Berlin',  # Set to your timezone\n",
    "                },\n",
    "                'end': {\n",
    "                    'dateTime': end_time_obj.strftime(\"%Y-%m-%dT%H:%M:%S\"),\n",
    "                    'timeZone': 'Europe/Berlin',  # Set to your timezone\n",
    "                },\n",
    "                'description': description_with_timestamp,  # Updated description\n",
    "                'colorId': color_id  # Set the color based on the Colour column\n",
    "            }\n",
    "\n",
    "        # Create the event in Google Calendar\n",
    "        created_event = calendar_service.events().insert(calendarId=calendar_id, body=event).execute()\n",
    "        print(f\"Event created: {created_event.get('htmlLink')}\")\n",
    "        success_count += 1\n",
    "    except Exception as e:\n",
    "        print(f\"Error creating event for row {i}: {e}\")\n",
    "        failure_count += 1\n",
    "\n",
    "# Print the summary of operations\n",
    "print(f\"Success count: {success_count}\")\n",
    "print(f\"Failure count: {failure_count}\")"
   ]
  },
  {
   "cell_type": "markdown",
   "metadata": {},
   "source": [
    "### Delete events in calendar"
   ]
  },
  {
   "cell_type": "code",
   "execution_count": 27,
   "metadata": {},
   "outputs": [
    {
     "name": "stdout",
     "output_type": "stream",
     "text": [
      "Deleted event: A CEREMONY OF CAROLS - ADVENTSKONZERT\n",
      "Deleted event: Jam Session\n",
      "Deleted event: Matthias Reim - Live 2024\n",
      "Deleted event: Jalbd Shows präsentiert: Just a little bit Dangerous Fest XX\n",
      "Deleted event: STABLE INVITES\n",
      "Deleted event: Ell\n",
      "Deleted event: WINTER VIBES PARTY\n",
      "Deleted event: ELL\n",
      "Deleted event: Alte Bekannte - Nix geht über LIVE! - Weihnachtsedition\n",
      "Deleted event: Das Kieler Weihnachtssingen 2024\n",
      "Deleted event: Live: KneipenKlassik - Winterkonzert\n",
      "Deleted event: InDie Pumpe Party\n",
      "Deleted event: PARTY ON 2 FLOORS\n",
      "Deleted event: BREAKFASTER #6 - Beachparty\n",
      "Deleted event: West Side Story\n",
      "Deleted event: CRO – CRONICLES TOUR 2024\n",
      "Deleted event: HE/RO - Kein Grund zur Panik Tour\n",
      "Deleted event: DEICHKIND - Kids In Meinem Alter Tour 2024\n",
      "Deleted event: Deichkind - Kids In Meinem Alter Tour 2024\n",
      "Deleted event: Live: ARI GOLD X THEO (HipHop aus Kiel) - JAHRESABSCHLUSSKONZERT\n",
      "Deleted event: Abi Wallenstein & BluesCulture feat. Steve Baker & Martin Röttger\n",
      "Deleted event: FEMXLE*INVASION: TENDER MODE\n",
      "Deleted event: Coti-Party\n",
      "Deleted event: Tequila & the Sunrise Gang - Jahresabschlusskonzert\n",
      "Deleted event: DYNAMITE\n",
      "Deleted event: COMING HOME FOR CHRISTMAS\n",
      "Deleted event: 120 Minuten Party - SUPERFAST!\n",
      "Deleted event: SCHIEBT ANDERS • DIE JAHRES GALA\n",
      "Deleted event: #SELFIE\n",
      "Deleted event: BACK TO THE 90´S Die schrillste Silvester-Party des Jahres! DIENSTAG, 31.12.2024\n",
      "Deleted event: PlanB. Silvestersause\n",
      "Deleted event: LE GRANDE FINALE\n",
      "Deleted event: HE/RO - KEIN GRUND ZUR PANIK TOUR\n"
     ]
    }
   ],
   "source": [
    "calendar_id = 'eventcalendarkiel@gmail.com'\n",
    "\n",
    "# Retrieve all events\n",
    "try:\n",
    "    events_result = calendar_service.events().list(\n",
    "        calendarId=calendar_id,\n",
    "        maxResults=2500,  # Adjust if you have more events\n",
    "        singleEvents=True\n",
    "    ).execute()\n",
    "    events = events_result.get('items', [])\n",
    "\n",
    "    if not events:\n",
    "        print(\"No events found.\")\n",
    "    else:\n",
    "        # Loop through events and delete them\n",
    "        for event in events:\n",
    "            try:\n",
    "                event_id = event['id']\n",
    "                calendar_service.events().delete(calendarId=calendar_id, eventId=event_id).execute()\n",
    "                print(f\"Deleted event: {event.get('summary', 'Unnamed Event')}\")\n",
    "            except Exception as e:\n",
    "                print(f\"Error deleting event: {e}\")\n",
    "\n",
    "except Exception as e:\n",
    "    print(f\"Error retrieving events: {e}\")"
   ]
  },
  {
   "cell_type": "code",
   "execution_count": null,
   "metadata": {},
   "outputs": [
    {
     "name": "stderr",
     "output_type": "stream",
     "text": [
      "C:\\Users\\heans\\AppData\\Local\\Temp\\ipykernel_22024\\3996378728.py:43: FutureWarning: Parsed string \"2024-12-13 00:00:00T \" included an un-recognized timezone \"T\". Dropping unrecognized timezones is deprecated; in a future version this will raise. Instead pass the string without the timezone, then use .tz_localize to convert to a recognized timezone.\n",
      "  start_time_obj = pd.to_datetime(start_datetime_str)\n"
     ]
    },
    {
     "name": "stdout",
     "output_type": "stream",
     "text": [
      "Event created: https://www.google.com/calendar/event?eid=aXNwbDVkMTJhYXA2NXFsbThlN2dtOHVmODQgdGVzdC0yMTVAbHVja3ktcmVhY3Rvci00NDMzMDgtcjQuaWFtLmdzZXJ2aWNlYWNjb3VudC5jb20\n",
      "Event created: https://www.google.com/calendar/event?eid=OW9mcjlzdGRqcGEzb2xoMDdpMjV1Zml2b28gdGVzdC0yMTVAbHVja3ktcmVhY3Rvci00NDMzMDgtcjQuaWFtLmdzZXJ2aWNlYWNjb3VudC5jb20\n"
     ]
    },
    {
     "name": "stderr",
     "output_type": "stream",
     "text": [
      "C:\\Users\\heans\\AppData\\Local\\Temp\\ipykernel_22024\\3996378728.py:43: FutureWarning: Parsed string \"2024-12-13 00:00:00T00:00\" included an un-recognized timezone \"T\". Dropping unrecognized timezones is deprecated; in a future version this will raise. Instead pass the string without the timezone, then use .tz_localize to convert to a recognized timezone.\n",
      "  start_time_obj = pd.to_datetime(start_datetime_str)\n"
     ]
    },
    {
     "name": "stdout",
     "output_type": "stream",
     "text": [
      "Event created: https://www.google.com/calendar/event?eid=YmxlaWJxbjhtajJpNDZnZmlhcWI4MGl1MG8gdGVzdC0yMTVAbHVja3ktcmVhY3Rvci00NDMzMDgtcjQuaWFtLmdzZXJ2aWNlYWNjb3VudC5jb20\n"
     ]
    },
    {
     "name": "stderr",
     "output_type": "stream",
     "text": [
      "C:\\Users\\heans\\AppData\\Local\\Temp\\ipykernel_22024\\3996378728.py:43: FutureWarning: Parsed string \"2024-12-13 00:00:00T00:01\" included an un-recognized timezone \"T\". Dropping unrecognized timezones is deprecated; in a future version this will raise. Instead pass the string without the timezone, then use .tz_localize to convert to a recognized timezone.\n",
      "  start_time_obj = pd.to_datetime(start_datetime_str)\n"
     ]
    },
    {
     "name": "stdout",
     "output_type": "stream",
     "text": [
      "Error creating event for row 3: <HttpError 400 when requesting https://www.googleapis.com/calendar/v3/calendars/primary/events?alt=json returned \"The specified time range is empty.\". Details: \"[{'domain': 'calendar', 'reason': 'timeRangeEmpty', 'message': 'The specified time range is empty.', 'locationType': 'parameter', 'location': 'timeMax'}]\">\n",
      "Error creating event for row 4: <HttpError 400 when requesting https://www.googleapis.com/calendar/v3/calendars/primary/events?alt=json returned \"The specified time range is empty.\". Details: \"[{'domain': 'calendar', 'reason': 'timeRangeEmpty', 'message': 'The specified time range is empty.', 'locationType': 'parameter', 'location': 'timeMax'}]\">\n"
     ]
    },
    {
     "name": "stderr",
     "output_type": "stream",
     "text": [
      "C:\\Users\\heans\\AppData\\Local\\Temp\\ipykernel_22024\\3996378728.py:43: FutureWarning: Parsed string \"2024-12-13 00:00:00T07:00\" included an un-recognized timezone \"T\". Dropping unrecognized timezones is deprecated; in a future version this will raise. Instead pass the string without the timezone, then use .tz_localize to convert to a recognized timezone.\n",
      "  start_time_obj = pd.to_datetime(start_datetime_str)\n",
      "C:\\Users\\heans\\AppData\\Local\\Temp\\ipykernel_22024\\3996378728.py:43: FutureWarning: Parsed string \"2024-12-13 00:00:00T08:00\" included an un-recognized timezone \"T\". Dropping unrecognized timezones is deprecated; in a future version this will raise. Instead pass the string without the timezone, then use .tz_localize to convert to a recognized timezone.\n",
      "  start_time_obj = pd.to_datetime(start_datetime_str)\n"
     ]
    },
    {
     "name": "stdout",
     "output_type": "stream",
     "text": [
      "Event created: https://www.google.com/calendar/event?eid=ZGd2cjk0MWd0ZDVkNDFwYmFpNjVrMmNkZzggdGVzdC0yMTVAbHVja3ktcmVhY3Rvci00NDMzMDgtcjQuaWFtLmdzZXJ2aWNlYWNjb3VudC5jb20\n",
      "Event created: https://www.google.com/calendar/event?eid=aG9rMmV2amlrNHBpZjBrZmk0amh2amhzaGcgdGVzdC0yMTVAbHVja3ktcmVhY3Rvci00NDMzMDgtcjQuaWFtLmdzZXJ2aWNlYWNjb3VudC5jb20\n",
      "Event created: https://www.google.com/calendar/event?eid=cWRjbDM1ZjQ5aTdnOW9nbTlvNmpmYW5zazQgdGVzdC0yMTVAbHVja3ktcmVhY3Rvci00NDMzMDgtcjQuaWFtLmdzZXJ2aWNlYWNjb3VudC5jb20\n",
      "Event created: https://www.google.com/calendar/event?eid=aHZqZ3RubXRhbm5lNHU2cnM5bHI4dHYwbHMgdGVzdC0yMTVAbHVja3ktcmVhY3Rvci00NDMzMDgtcjQuaWFtLmdzZXJ2aWNlYWNjb3VudC5jb20\n",
      "Error creating event for row 9: <HttpError 400 when requesting https://www.googleapis.com/calendar/v3/calendars/primary/events?alt=json returned \"The specified time range is empty.\". Details: \"[{'domain': 'calendar', 'reason': 'timeRangeEmpty', 'message': 'The specified time range is empty.', 'locationType': 'parameter', 'location': 'timeMax'}]\">\n"
     ]
    },
    {
     "name": "stderr",
     "output_type": "stream",
     "text": [
      "C:\\Users\\heans\\AppData\\Local\\Temp\\ipykernel_22024\\3996378728.py:43: FutureWarning: Parsed string \"2024-12-13 00:00:00T09:00\" included an un-recognized timezone \"T\". Dropping unrecognized timezones is deprecated; in a future version this will raise. Instead pass the string without the timezone, then use .tz_localize to convert to a recognized timezone.\n",
      "  start_time_obj = pd.to_datetime(start_datetime_str)\n"
     ]
    },
    {
     "name": "stdout",
     "output_type": "stream",
     "text": [
      "Event created: https://www.google.com/calendar/event?eid=dTVtZzNtNXJzMmVzc21rbW5rcWxuZjZiYXMgdGVzdC0yMTVAbHVja3ktcmVhY3Rvci00NDMzMDgtcjQuaWFtLmdzZXJ2aWNlYWNjb3VudC5jb20\n",
      "Event created: https://www.google.com/calendar/event?eid=NTEybzJ2cnNuMWV1MDFwaDlya3FiZjgzZTQgdGVzdC0yMTVAbHVja3ktcmVhY3Rvci00NDMzMDgtcjQuaWFtLmdzZXJ2aWNlYWNjb3VudC5jb20\n",
      "Event created: https://www.google.com/calendar/event?eid=OGZmNW5rNXNzMG4wMDZwcjY0NXVzaDhpajAgdGVzdC0yMTVAbHVja3ktcmVhY3Rvci00NDMzMDgtcjQuaWFtLmdzZXJ2aWNlYWNjb3VudC5jb20\n",
      "Event created: https://www.google.com/calendar/event?eid=b3FndTk4aDgwaXYzNGRxNnZldmJwMTRvMGMgdGVzdC0yMTVAbHVja3ktcmVhY3Rvci00NDMzMDgtcjQuaWFtLmdzZXJ2aWNlYWNjb3VudC5jb20\n",
      "Event created: https://www.google.com/calendar/event?eid=ZTdwc29vdTQ4dmpmODRlNTFocWk0Y2lhODggdGVzdC0yMTVAbHVja3ktcmVhY3Rvci00NDMzMDgtcjQuaWFtLmdzZXJ2aWNlYWNjb3VudC5jb20\n"
     ]
    },
    {
     "name": "stderr",
     "output_type": "stream",
     "text": [
      "C:\\Users\\heans\\AppData\\Local\\Temp\\ipykernel_22024\\3996378728.py:43: FutureWarning: Parsed string \"2024-12-13 00:00:00T09:30\" included an un-recognized timezone \"T\". Dropping unrecognized timezones is deprecated; in a future version this will raise. Instead pass the string without the timezone, then use .tz_localize to convert to a recognized timezone.\n",
      "  start_time_obj = pd.to_datetime(start_datetime_str)\n"
     ]
    },
    {
     "name": "stdout",
     "output_type": "stream",
     "text": [
      "Event created: https://www.google.com/calendar/event?eid=YjQybTVzOTgycmxkdjBjczA2MmJiNWw4aWMgdGVzdC0yMTVAbHVja3ktcmVhY3Rvci00NDMzMDgtcjQuaWFtLmdzZXJ2aWNlYWNjb3VudC5jb20\n"
     ]
    },
    {
     "name": "stderr",
     "output_type": "stream",
     "text": [
      "C:\\Users\\heans\\AppData\\Local\\Temp\\ipykernel_22024\\3996378728.py:43: FutureWarning: Parsed string \"2024-12-13 00:00:00T10:00\" included an un-recognized timezone \"T\". Dropping unrecognized timezones is deprecated; in a future version this will raise. Instead pass the string without the timezone, then use .tz_localize to convert to a recognized timezone.\n",
      "  start_time_obj = pd.to_datetime(start_datetime_str)\n"
     ]
    },
    {
     "name": "stdout",
     "output_type": "stream",
     "text": [
      "Event created: https://www.google.com/calendar/event?eid=NzE2NjBmanVnaG04ZjFscGltZGxjZ25nYW8gdGVzdC0yMTVAbHVja3ktcmVhY3Rvci00NDMzMDgtcjQuaWFtLmdzZXJ2aWNlYWNjb3VudC5jb20\n",
      "Error creating event for row 17: <HttpError 400 when requesting https://www.googleapis.com/calendar/v3/calendars/primary/events?alt=json returned \"The specified time range is empty.\". Details: \"[{'domain': 'calendar', 'reason': 'timeRangeEmpty', 'message': 'The specified time range is empty.', 'locationType': 'parameter', 'location': 'timeMax'}]\">\n",
      "Event created: https://www.google.com/calendar/event?eid=NHA3MDE4dDQ4YzRuaGVkMDBjdGFvZTlrdm8gdGVzdC0yMTVAbHVja3ktcmVhY3Rvci00NDMzMDgtcjQuaWFtLmdzZXJ2aWNlYWNjb3VudC5jb20\n",
      "Event created: https://www.google.com/calendar/event?eid=M2s3M3IzbGh2ZnQyaHJ0ZWZpaDBhMHFncXMgdGVzdC0yMTVAbHVja3ktcmVhY3Rvci00NDMzMDgtcjQuaWFtLmdzZXJ2aWNlYWNjb3VudC5jb20\n",
      "Event created: https://www.google.com/calendar/event?eid=ZnFsZW8wNmU3cGUzYjM0OXA0YzhkNnFkbm8gdGVzdC0yMTVAbHVja3ktcmVhY3Rvci00NDMzMDgtcjQuaWFtLmdzZXJ2aWNlYWNjb3VudC5jb20\n",
      "Event created: https://www.google.com/calendar/event?eid=cDluOTlnZGw2YTJxOTg1dDQxNTg2M2Uwcm8gdGVzdC0yMTVAbHVja3ktcmVhY3Rvci00NDMzMDgtcjQuaWFtLmdzZXJ2aWNlYWNjb3VudC5jb20\n",
      "Event created: https://www.google.com/calendar/event?eid=NHBkb3FwM25maWJya2Q2OHM0ZWdhNDdhM2cgdGVzdC0yMTVAbHVja3ktcmVhY3Rvci00NDMzMDgtcjQuaWFtLmdzZXJ2aWNlYWNjb3VudC5jb20\n",
      "Event created: https://www.google.com/calendar/event?eid=MnRpbmNobTh2b3I2bnExdjFrNmkxdGlxdWsgdGVzdC0yMTVAbHVja3ktcmVhY3Rvci00NDMzMDgtcjQuaWFtLmdzZXJ2aWNlYWNjb3VudC5jb20\n",
      "Event created: https://www.google.com/calendar/event?eid=YWJla2ZyYzY5ZGljZDN1OTdqbW5kMHNma2cgdGVzdC0yMTVAbHVja3ktcmVhY3Rvci00NDMzMDgtcjQuaWFtLmdzZXJ2aWNlYWNjb3VudC5jb20\n",
      "Event created: https://www.google.com/calendar/event?eid=MGY4bG5qZWRwZ2YzYmxiY29sdnMwOTNmOGMgdGVzdC0yMTVAbHVja3ktcmVhY3Rvci00NDMzMDgtcjQuaWFtLmdzZXJ2aWNlYWNjb3VudC5jb20\n",
      "Event created: https://www.google.com/calendar/event?eid=aXJyMmZmN2tncjJpOWlnZ2owYTlscDNmN2cgdGVzdC0yMTVAbHVja3ktcmVhY3Rvci00NDMzMDgtcjQuaWFtLmdzZXJ2aWNlYWNjb3VudC5jb20\n",
      "Event created: https://www.google.com/calendar/event?eid=ZmllcDEzazM3ZTM2dGEwMm0zbXJkYjk3NGcgdGVzdC0yMTVAbHVja3ktcmVhY3Rvci00NDMzMDgtcjQuaWFtLmdzZXJ2aWNlYWNjb3VudC5jb20\n",
      "Event created: https://www.google.com/calendar/event?eid=Y2JsODM5NGl2aG5tZTJ0ZjAwdDVqOGlnN28gdGVzdC0yMTVAbHVja3ktcmVhY3Rvci00NDMzMDgtcjQuaWFtLmdzZXJ2aWNlYWNjb3VudC5jb20\n",
      "Event created: https://www.google.com/calendar/event?eid=MG9jbmU5OTNraWZuanIyMDlrNnRiN2poN2cgdGVzdC0yMTVAbHVja3ktcmVhY3Rvci00NDMzMDgtcjQuaWFtLmdzZXJ2aWNlYWNjb3VudC5jb20\n",
      "Event created: https://www.google.com/calendar/event?eid=NXRqamw5dmIza2lyaWgwcWxhcjE5ZTZyNG8gdGVzdC0yMTVAbHVja3ktcmVhY3Rvci00NDMzMDgtcjQuaWFtLmdzZXJ2aWNlYWNjb3VudC5jb20\n",
      "Event created: https://www.google.com/calendar/event?eid=YnY4dnVtZGliNHExYWU5M3I3djhpaTZ2N3MgdGVzdC0yMTVAbHVja3ktcmVhY3Rvci00NDMzMDgtcjQuaWFtLmdzZXJ2aWNlYWNjb3VudC5jb20\n",
      "Error creating event for row 32: <HttpError 400 when requesting https://www.googleapis.com/calendar/v3/calendars/primary/events?alt=json returned \"The specified time range is empty.\". Details: \"[{'domain': 'calendar', 'reason': 'timeRangeEmpty', 'message': 'The specified time range is empty.', 'locationType': 'parameter', 'location': 'timeMax'}]\">\n",
      "Event created: https://www.google.com/calendar/event?eid=dmRndjJmbmxkdDl0NmE4aXV1YzdsMWp2bjggdGVzdC0yMTVAbHVja3ktcmVhY3Rvci00NDMzMDgtcjQuaWFtLmdzZXJ2aWNlYWNjb3VudC5jb20\n",
      "Event created: https://www.google.com/calendar/event?eid=aDM0Z3MwdW1iMjMxb3M0YWtzMzA2Y3J1MWMgdGVzdC0yMTVAbHVja3ktcmVhY3Rvci00NDMzMDgtcjQuaWFtLmdzZXJ2aWNlYWNjb3VudC5jb20\n",
      "Event created: https://www.google.com/calendar/event?eid=ZGk5cTBhNnJmZDFxNGc4ZnVtZTczZXRtY2MgdGVzdC0yMTVAbHVja3ktcmVhY3Rvci00NDMzMDgtcjQuaWFtLmdzZXJ2aWNlYWNjb3VudC5jb20\n",
      "Event created: https://www.google.com/calendar/event?eid=bXIwNGFhMzRqbHZtdXFyNnBiYjJnOTIxYzAgdGVzdC0yMTVAbHVja3ktcmVhY3Rvci00NDMzMDgtcjQuaWFtLmdzZXJ2aWNlYWNjb3VudC5jb20\n",
      "Error creating event for row 37: <HttpError 400 when requesting https://www.googleapis.com/calendar/v3/calendars/primary/events?alt=json returned \"The specified time range is empty.\". Details: \"[{'domain': 'calendar', 'reason': 'timeRangeEmpty', 'message': 'The specified time range is empty.', 'locationType': 'parameter', 'location': 'timeMax'}]\">\n",
      "Error creating event for row 38: <HttpError 400 when requesting https://www.googleapis.com/calendar/v3/calendars/primary/events?alt=json returned \"The specified time range is empty.\". Details: \"[{'domain': 'calendar', 'reason': 'timeRangeEmpty', 'message': 'The specified time range is empty.', 'locationType': 'parameter', 'location': 'timeMax'}]\">\n",
      "Event created: https://www.google.com/calendar/event?eid=OHM3cGI5dDNib2g1dXU1bWo2bmNlMHJxaDAgdGVzdC0yMTVAbHVja3ktcmVhY3Rvci00NDMzMDgtcjQuaWFtLmdzZXJ2aWNlYWNjb3VudC5jb20\n"
     ]
    },
    {
     "name": "stderr",
     "output_type": "stream",
     "text": [
      "C:\\Users\\heans\\AppData\\Local\\Temp\\ipykernel_22024\\3996378728.py:43: FutureWarning: Parsed string \"2024-12-13 00:00:00T10:30\" included an un-recognized timezone \"T\". Dropping unrecognized timezones is deprecated; in a future version this will raise. Instead pass the string without the timezone, then use .tz_localize to convert to a recognized timezone.\n",
      "  start_time_obj = pd.to_datetime(start_datetime_str)\n"
     ]
    },
    {
     "name": "stdout",
     "output_type": "stream",
     "text": [
      "Error creating event for row 40: <HttpError 400 when requesting https://www.googleapis.com/calendar/v3/calendars/primary/events?alt=json returned \"The specified time range is empty.\". Details: \"[{'domain': 'calendar', 'reason': 'timeRangeEmpty', 'message': 'The specified time range is empty.', 'locationType': 'parameter', 'location': 'timeMax'}]\">\n"
     ]
    },
    {
     "name": "stderr",
     "output_type": "stream",
     "text": [
      "C:\\Users\\heans\\AppData\\Local\\Temp\\ipykernel_22024\\3996378728.py:43: FutureWarning: Parsed string \"2024-12-13 00:00:00T11:00\" included an un-recognized timezone \"T\". Dropping unrecognized timezones is deprecated; in a future version this will raise. Instead pass the string without the timezone, then use .tz_localize to convert to a recognized timezone.\n",
      "  start_time_obj = pd.to_datetime(start_datetime_str)\n"
     ]
    },
    {
     "name": "stdout",
     "output_type": "stream",
     "text": [
      "Event created: https://www.google.com/calendar/event?eid=bWpwbXJpZm5ka3Jjb2EyanI1dHZuODhsZGcgdGVzdC0yMTVAbHVja3ktcmVhY3Rvci00NDMzMDgtcjQuaWFtLmdzZXJ2aWNlYWNjb3VudC5jb20\n",
      "Event created: https://www.google.com/calendar/event?eid=NXRlcTM0ZHJsdHNhOGlqZG83NWFpdTJkb2cgdGVzdC0yMTVAbHVja3ktcmVhY3Rvci00NDMzMDgtcjQuaWFtLmdzZXJ2aWNlYWNjb3VudC5jb20\n",
      "Event created: https://www.google.com/calendar/event?eid=aGJqajE3ajQ2N3U1bGw2MnNndWdyMjQyaTQgdGVzdC0yMTVAbHVja3ktcmVhY3Rvci00NDMzMDgtcjQuaWFtLmdzZXJ2aWNlYWNjb3VudC5jb20\n",
      "Event created: https://www.google.com/calendar/event?eid=c2F2Zzg0b3ZnYXVobjlhNm1ldGJ1bnU4MTAgdGVzdC0yMTVAbHVja3ktcmVhY3Rvci00NDMzMDgtcjQuaWFtLmdzZXJ2aWNlYWNjb3VudC5jb20\n",
      "Event created: https://www.google.com/calendar/event?eid=aGYydHBrYWsxbW5qa2k2M3E2OGZkZWZsdWMgdGVzdC0yMTVAbHVja3ktcmVhY3Rvci00NDMzMDgtcjQuaWFtLmdzZXJ2aWNlYWNjb3VudC5jb20\n",
      "Event created: https://www.google.com/calendar/event?eid=cTljMmFvZGV2ZnZjN2ZwMmJwbjJmcXRqdWcgdGVzdC0yMTVAbHVja3ktcmVhY3Rvci00NDMzMDgtcjQuaWFtLmdzZXJ2aWNlYWNjb3VudC5jb20\n",
      "Event created: https://www.google.com/calendar/event?eid=MGY4YjlkNXA5ZjgybjdzcnVqc2M2NWNwbnMgdGVzdC0yMTVAbHVja3ktcmVhY3Rvci00NDMzMDgtcjQuaWFtLmdzZXJ2aWNlYWNjb3VudC5jb20\n",
      "Error creating event for row 48: <HttpError 400 when requesting https://www.googleapis.com/calendar/v3/calendars/primary/events?alt=json returned \"The specified time range is empty.\". Details: \"[{'domain': 'calendar', 'reason': 'timeRangeEmpty', 'message': 'The specified time range is empty.', 'locationType': 'parameter', 'location': 'timeMax'}]\">\n",
      "Event created: https://www.google.com/calendar/event?eid=a2hxaDhkZHVoZnZyMWFnaWg3dGtsYjAyOXMgdGVzdC0yMTVAbHVja3ktcmVhY3Rvci00NDMzMDgtcjQuaWFtLmdzZXJ2aWNlYWNjb3VudC5jb20\n",
      "Error creating event for row 50: <HttpError 400 when requesting https://www.googleapis.com/calendar/v3/calendars/primary/events?alt=json returned \"The specified time range is empty.\". Details: \"[{'domain': 'calendar', 'reason': 'timeRangeEmpty', 'message': 'The specified time range is empty.', 'locationType': 'parameter', 'location': 'timeMax'}]\">\n",
      "Error creating event for row 51: <HttpError 400 when requesting https://www.googleapis.com/calendar/v3/calendars/primary/events?alt=json returned \"The specified time range is empty.\". Details: \"[{'domain': 'calendar', 'reason': 'timeRangeEmpty', 'message': 'The specified time range is empty.', 'locationType': 'parameter', 'location': 'timeMax'}]\">\n",
      "Event created: https://www.google.com/calendar/event?eid=azA5M29yZWQwZ3Zlb2VsbmRoNm5yNms2aG8gdGVzdC0yMTVAbHVja3ktcmVhY3Rvci00NDMzMDgtcjQuaWFtLmdzZXJ2aWNlYWNjb3VudC5jb20\n",
      "Event created: https://www.google.com/calendar/event?eid=bzZha2djMzVvZWFvamE1c3BrajVtOGpndnMgdGVzdC0yMTVAbHVja3ktcmVhY3Rvci00NDMzMDgtcjQuaWFtLmdzZXJ2aWNlYWNjb3VudC5jb20\n",
      "Event created: https://www.google.com/calendar/event?eid=ZGM3ajNhaWhubWlwZGthaGZqbnJjOWN2amcgdGVzdC0yMTVAbHVja3ktcmVhY3Rvci00NDMzMDgtcjQuaWFtLmdzZXJ2aWNlYWNjb3VudC5jb20\n",
      "Event created: https://www.google.com/calendar/event?eid=MG9jZXVvYWgzczNhaGhuN3Vja3E3anF2MGsgdGVzdC0yMTVAbHVja3ktcmVhY3Rvci00NDMzMDgtcjQuaWFtLmdzZXJ2aWNlYWNjb3VudC5jb20\n",
      "Error creating event for row 56: <HttpError 400 when requesting https://www.googleapis.com/calendar/v3/calendars/primary/events?alt=json returned \"The specified time range is empty.\". Details: \"[{'domain': 'calendar', 'reason': 'timeRangeEmpty', 'message': 'The specified time range is empty.', 'locationType': 'parameter', 'location': 'timeMax'}]\">\n",
      "Event created: https://www.google.com/calendar/event?eid=ZXQ2c2JvZ3Bucjkycjl2aGthOGllY2c3bWMgdGVzdC0yMTVAbHVja3ktcmVhY3Rvci00NDMzMDgtcjQuaWFtLmdzZXJ2aWNlYWNjb3VudC5jb20\n",
      "Event created: https://www.google.com/calendar/event?eid=MTlyaTk1b3BnYmVoYXQxbnU2bjltbDJmdGsgdGVzdC0yMTVAbHVja3ktcmVhY3Rvci00NDMzMDgtcjQuaWFtLmdzZXJ2aWNlYWNjb3VudC5jb20\n",
      "Event created: https://www.google.com/calendar/event?eid=ZjE3a2w1aXBxZ3Y0ZGN2bGU2c2dobjI0ZHMgdGVzdC0yMTVAbHVja3ktcmVhY3Rvci00NDMzMDgtcjQuaWFtLmdzZXJ2aWNlYWNjb3VudC5jb20\n",
      "Event created: https://www.google.com/calendar/event?eid=Z2MzdnZqY29pMnFzZG45cDJna3VvYzVxdjAgdGVzdC0yMTVAbHVja3ktcmVhY3Rvci00NDMzMDgtcjQuaWFtLmdzZXJ2aWNlYWNjb3VudC5jb20\n",
      "Error creating event for row 61: <HttpError 400 when requesting https://www.googleapis.com/calendar/v3/calendars/primary/events?alt=json returned \"The specified time range is empty.\". Details: \"[{'domain': 'calendar', 'reason': 'timeRangeEmpty', 'message': 'The specified time range is empty.', 'locationType': 'parameter', 'location': 'timeMax'}]\">\n",
      "Error creating event for row 62: <HttpError 400 when requesting https://www.googleapis.com/calendar/v3/calendars/primary/events?alt=json returned \"The specified time range is empty.\". Details: \"[{'domain': 'calendar', 'reason': 'timeRangeEmpty', 'message': 'The specified time range is empty.', 'locationType': 'parameter', 'location': 'timeMax'}]\">\n",
      "Event created: https://www.google.com/calendar/event?eid=ZDM0NzB2bXRlMGF0NzV0dHF2NGUxZHE5NmsgdGVzdC0yMTVAbHVja3ktcmVhY3Rvci00NDMzMDgtcjQuaWFtLmdzZXJ2aWNlYWNjb3VudC5jb20\n",
      "Event created: https://www.google.com/calendar/event?eid=Y2ZwdTB1Z2Q3cG5rZGNpbHV0ZHI2OWVhZDAgdGVzdC0yMTVAbHVja3ktcmVhY3Rvci00NDMzMDgtcjQuaWFtLmdzZXJ2aWNlYWNjb3VudC5jb20\n",
      "Event created: https://www.google.com/calendar/event?eid=c3VtY2Voazg4N2xlcGg4dmNiZHA1dWU3NmsgdGVzdC0yMTVAbHVja3ktcmVhY3Rvci00NDMzMDgtcjQuaWFtLmdzZXJ2aWNlYWNjb3VudC5jb20\n",
      "Event created: https://www.google.com/calendar/event?eid=ZGZtMjdjdTc3dGg0bGcyYzE0czBuYXUzMTAgdGVzdC0yMTVAbHVja3ktcmVhY3Rvci00NDMzMDgtcjQuaWFtLmdzZXJ2aWNlYWNjb3VudC5jb20\n",
      "Event created: https://www.google.com/calendar/event?eid=OWVybnE3amJxa2QyaTN2bWJzaDU3NjBsdm8gdGVzdC0yMTVAbHVja3ktcmVhY3Rvci00NDMzMDgtcjQuaWFtLmdzZXJ2aWNlYWNjb3VudC5jb20\n"
     ]
    },
    {
     "name": "stderr",
     "output_type": "stream",
     "text": [
      "C:\\Users\\heans\\AppData\\Local\\Temp\\ipykernel_22024\\3996378728.py:43: FutureWarning: Parsed string \"2024-12-13 00:00:00T11:30\" included an un-recognized timezone \"T\". Dropping unrecognized timezones is deprecated; in a future version this will raise. Instead pass the string without the timezone, then use .tz_localize to convert to a recognized timezone.\n",
      "  start_time_obj = pd.to_datetime(start_datetime_str)\n"
     ]
    },
    {
     "name": "stdout",
     "output_type": "stream",
     "text": [
      "Error creating event for row 68: <HttpError 400 when requesting https://www.googleapis.com/calendar/v3/calendars/primary/events?alt=json returned \"The specified time range is empty.\". Details: \"[{'domain': 'calendar', 'reason': 'timeRangeEmpty', 'message': 'The specified time range is empty.', 'locationType': 'parameter', 'location': 'timeMax'}]\">\n"
     ]
    },
    {
     "name": "stderr",
     "output_type": "stream",
     "text": [
      "C:\\Users\\heans\\AppData\\Local\\Temp\\ipykernel_22024\\3996378728.py:43: FutureWarning: Parsed string \"2024-12-13 00:00:00T12:00\" included an un-recognized timezone \"T\". Dropping unrecognized timezones is deprecated; in a future version this will raise. Instead pass the string without the timezone, then use .tz_localize to convert to a recognized timezone.\n",
      "  start_time_obj = pd.to_datetime(start_datetime_str)\n"
     ]
    },
    {
     "name": "stdout",
     "output_type": "stream",
     "text": [
      "Event created: https://www.google.com/calendar/event?eid=ZGk2cG05cjRoaGc5cW83ZnE4dmFrYXJsOXMgdGVzdC0yMTVAbHVja3ktcmVhY3Rvci00NDMzMDgtcjQuaWFtLmdzZXJ2aWNlYWNjb3VudC5jb20\n",
      "Event created: https://www.google.com/calendar/event?eid=MnRkNWxwcGQ3cnFvc3JsbTZwbmFiZnY4bDAgdGVzdC0yMTVAbHVja3ktcmVhY3Rvci00NDMzMDgtcjQuaWFtLmdzZXJ2aWNlYWNjb3VudC5jb20\n",
      "Error creating event for row 71: <HttpError 400 when requesting https://www.googleapis.com/calendar/v3/calendars/primary/events?alt=json returned \"The specified time range is empty.\". Details: \"[{'domain': 'calendar', 'reason': 'timeRangeEmpty', 'message': 'The specified time range is empty.', 'locationType': 'parameter', 'location': 'timeMax'}]\">\n",
      "Event created: https://www.google.com/calendar/event?eid=cjhqb2ZpN3JiMnVmc21saDhucjl2Y2JwMmsgdGVzdC0yMTVAbHVja3ktcmVhY3Rvci00NDMzMDgtcjQuaWFtLmdzZXJ2aWNlYWNjb3VudC5jb20\n",
      "Event created: https://www.google.com/calendar/event?eid=aTJybjZidDUxNjV1bWUyb2VpZXBrNzRwYXMgdGVzdC0yMTVAbHVja3ktcmVhY3Rvci00NDMzMDgtcjQuaWFtLmdzZXJ2aWNlYWNjb3VudC5jb20\n"
     ]
    },
    {
     "name": "stderr",
     "output_type": "stream",
     "text": [
      "C:\\Users\\heans\\AppData\\Local\\Temp\\ipykernel_22024\\3996378728.py:43: FutureWarning: Parsed string \"2024-12-13 00:00:00T13:00\" included an un-recognized timezone \"T\". Dropping unrecognized timezones is deprecated; in a future version this will raise. Instead pass the string without the timezone, then use .tz_localize to convert to a recognized timezone.\n",
      "  start_time_obj = pd.to_datetime(start_datetime_str)\n"
     ]
    },
    {
     "name": "stdout",
     "output_type": "stream",
     "text": [
      "Event created: https://www.google.com/calendar/event?eid=YzJ0ZWdpNmNzbWZtYTZqaWJ2NGJpbDh1ZmsgdGVzdC0yMTVAbHVja3ktcmVhY3Rvci00NDMzMDgtcjQuaWFtLmdzZXJ2aWNlYWNjb3VudC5jb20\n",
      "Event created: https://www.google.com/calendar/event?eid=OWVydW5jN21oZ3ZmYzhxazMzcnBwNDJya2sgdGVzdC0yMTVAbHVja3ktcmVhY3Rvci00NDMzMDgtcjQuaWFtLmdzZXJ2aWNlYWNjb3VudC5jb20\n",
      "Error creating event for row 76: <HttpError 400 when requesting https://www.googleapis.com/calendar/v3/calendars/primary/events?alt=json returned \"The specified time range is empty.\". Details: \"[{'domain': 'calendar', 'reason': 'timeRangeEmpty', 'message': 'The specified time range is empty.', 'locationType': 'parameter', 'location': 'timeMax'}]\">\n",
      "Event created: https://www.google.com/calendar/event?eid=OGNqN3IzM25uYzdrMzQ3amY1ZjFxYml2c2sgdGVzdC0yMTVAbHVja3ktcmVhY3Rvci00NDMzMDgtcjQuaWFtLmdzZXJ2aWNlYWNjb3VudC5jb20\n"
     ]
    },
    {
     "name": "stderr",
     "output_type": "stream",
     "text": [
      "C:\\Users\\heans\\AppData\\Local\\Temp\\ipykernel_22024\\3996378728.py:43: FutureWarning: Parsed string \"2024-12-13 00:00:00T13:30\" included an un-recognized timezone \"T\". Dropping unrecognized timezones is deprecated; in a future version this will raise. Instead pass the string without the timezone, then use .tz_localize to convert to a recognized timezone.\n",
      "  start_time_obj = pd.to_datetime(start_datetime_str)\n"
     ]
    },
    {
     "name": "stdout",
     "output_type": "stream",
     "text": [
      "Error creating event for row 78: <HttpError 400 when requesting https://www.googleapis.com/calendar/v3/calendars/primary/events?alt=json returned \"The specified time range is empty.\". Details: \"[{'domain': 'calendar', 'reason': 'timeRangeEmpty', 'message': 'The specified time range is empty.', 'locationType': 'parameter', 'location': 'timeMax'}]\">\n"
     ]
    },
    {
     "name": "stderr",
     "output_type": "stream",
     "text": [
      "C:\\Users\\heans\\AppData\\Local\\Temp\\ipykernel_22024\\3996378728.py:43: FutureWarning: Parsed string \"2024-12-13 00:00:00T14:00\" included an un-recognized timezone \"T\". Dropping unrecognized timezones is deprecated; in a future version this will raise. Instead pass the string without the timezone, then use .tz_localize to convert to a recognized timezone.\n",
      "  start_time_obj = pd.to_datetime(start_datetime_str)\n"
     ]
    },
    {
     "name": "stdout",
     "output_type": "stream",
     "text": [
      "Event created: https://www.google.com/calendar/event?eid=OG42cXJrMW40aDNzNWxjMXRqNGx2NDdiMnMgdGVzdC0yMTVAbHVja3ktcmVhY3Rvci00NDMzMDgtcjQuaWFtLmdzZXJ2aWNlYWNjb3VudC5jb20\n",
      "Event created: https://www.google.com/calendar/event?eid=dHRhc2hybWYzNGlnOXEycHQ1NTY5azFqMGMgdGVzdC0yMTVAbHVja3ktcmVhY3Rvci00NDMzMDgtcjQuaWFtLmdzZXJ2aWNlYWNjb3VudC5jb20\n",
      "Event created: https://www.google.com/calendar/event?eid=MmxiYmQyM2QyZWs3YmoxcTkzM3JibW85OTQgdGVzdC0yMTVAbHVja3ktcmVhY3Rvci00NDMzMDgtcjQuaWFtLmdzZXJ2aWNlYWNjb3VudC5jb20\n",
      "Error creating event for row 82: <HttpError 400 when requesting https://www.googleapis.com/calendar/v3/calendars/primary/events?alt=json returned \"The specified time range is empty.\". Details: \"[{'domain': 'calendar', 'reason': 'timeRangeEmpty', 'message': 'The specified time range is empty.', 'locationType': 'parameter', 'location': 'timeMax'}]\">\n",
      "Event created: https://www.google.com/calendar/event?eid=ZjV2ZGVsZDNoZmhsNjJuODR2MnZ2MG4ycjAgdGVzdC0yMTVAbHVja3ktcmVhY3Rvci00NDMzMDgtcjQuaWFtLmdzZXJ2aWNlYWNjb3VudC5jb20\n",
      "Event created: https://www.google.com/calendar/event?eid=ZjVna3Z0cm9vZGN2dXE3YzQwYXA1bHVkZDQgdGVzdC0yMTVAbHVja3ktcmVhY3Rvci00NDMzMDgtcjQuaWFtLmdzZXJ2aWNlYWNjb3VudC5jb20\n",
      "Event created: https://www.google.com/calendar/event?eid=M2tncTNqcGdvamgzazQzaXVkZGwxbjZnaXMgdGVzdC0yMTVAbHVja3ktcmVhY3Rvci00NDMzMDgtcjQuaWFtLmdzZXJ2aWNlYWNjb3VudC5jb20\n",
      "Event created: https://www.google.com/calendar/event?eid=OGhxcm5nbmRkbmNyODQxdWlka3FqNTRqZDQgdGVzdC0yMTVAbHVja3ktcmVhY3Rvci00NDMzMDgtcjQuaWFtLmdzZXJ2aWNlYWNjb3VudC5jb20\n",
      "Error creating event for row 87: <HttpError 400 when requesting https://www.googleapis.com/calendar/v3/calendars/primary/events?alt=json returned \"The specified time range is empty.\". Details: \"[{'domain': 'calendar', 'reason': 'timeRangeEmpty', 'message': 'The specified time range is empty.', 'locationType': 'parameter', 'location': 'timeMax'}]\">\n",
      "Error creating event for row 88: <HttpError 400 when requesting https://www.googleapis.com/calendar/v3/calendars/primary/events?alt=json returned \"The specified time range is empty.\". Details: \"[{'domain': 'calendar', 'reason': 'timeRangeEmpty', 'message': 'The specified time range is empty.', 'locationType': 'parameter', 'location': 'timeMax'}]\">\n",
      "Event created: https://www.google.com/calendar/event?eid=Y3BtaWgxN2k4MjVhYXRwajJqaHViNW1nNG8gdGVzdC0yMTVAbHVja3ktcmVhY3Rvci00NDMzMDgtcjQuaWFtLmdzZXJ2aWNlYWNjb3VudC5jb20\n"
     ]
    },
    {
     "name": "stderr",
     "output_type": "stream",
     "text": [
      "C:\\Users\\heans\\AppData\\Local\\Temp\\ipykernel_22024\\3996378728.py:43: FutureWarning: Parsed string \"2024-12-13 00:00:00T14:30\" included an un-recognized timezone \"T\". Dropping unrecognized timezones is deprecated; in a future version this will raise. Instead pass the string without the timezone, then use .tz_localize to convert to a recognized timezone.\n",
      "  start_time_obj = pd.to_datetime(start_datetime_str)\n"
     ]
    },
    {
     "name": "stdout",
     "output_type": "stream",
     "text": [
      "Event created: https://www.google.com/calendar/event?eid=NW1tYnUxZXZpaWxhdjgxaWdiOWRmNTNwbTQgdGVzdC0yMTVAbHVja3ktcmVhY3Rvci00NDMzMDgtcjQuaWFtLmdzZXJ2aWNlYWNjb3VudC5jb20\n",
      "Error creating event for row 91: <HttpError 400 when requesting https://www.googleapis.com/calendar/v3/calendars/primary/events?alt=json returned \"The specified time range is empty.\". Details: \"[{'domain': 'calendar', 'reason': 'timeRangeEmpty', 'message': 'The specified time range is empty.', 'locationType': 'parameter', 'location': 'timeMax'}]\">\n"
     ]
    },
    {
     "name": "stderr",
     "output_type": "stream",
     "text": [
      "C:\\Users\\heans\\AppData\\Local\\Temp\\ipykernel_22024\\3996378728.py:43: FutureWarning: Parsed string \"2024-12-13 00:00:00T15:00\" included an un-recognized timezone \"T\". Dropping unrecognized timezones is deprecated; in a future version this will raise. Instead pass the string without the timezone, then use .tz_localize to convert to a recognized timezone.\n",
      "  start_time_obj = pd.to_datetime(start_datetime_str)\n"
     ]
    },
    {
     "name": "stdout",
     "output_type": "stream",
     "text": [
      "Event created: https://www.google.com/calendar/event?eid=Y3I1bjBxZDkzNWp0dDZoMGp0NGg4ajFpajAgdGVzdC0yMTVAbHVja3ktcmVhY3Rvci00NDMzMDgtcjQuaWFtLmdzZXJ2aWNlYWNjb3VudC5jb20\n",
      "Event created: https://www.google.com/calendar/event?eid=aWFodXVma21rczRlNWJyZnZqdm9pb2swa2cgdGVzdC0yMTVAbHVja3ktcmVhY3Rvci00NDMzMDgtcjQuaWFtLmdzZXJ2aWNlYWNjb3VudC5jb20\n",
      "Error creating event for row 94: <HttpError 400 when requesting https://www.googleapis.com/calendar/v3/calendars/primary/events?alt=json returned \"The specified time range is empty.\". Details: \"[{'domain': 'calendar', 'reason': 'timeRangeEmpty', 'message': 'The specified time range is empty.', 'locationType': 'parameter', 'location': 'timeMax'}]\">\n",
      "Event created: https://www.google.com/calendar/event?eid=Z2o1Mm1qOGRnZmRiZzFzNWJydnJqczU3NGcgdGVzdC0yMTVAbHVja3ktcmVhY3Rvci00NDMzMDgtcjQuaWFtLmdzZXJ2aWNlYWNjb3VudC5jb20\n",
      "Event created: https://www.google.com/calendar/event?eid=djk4amFhNHU3dW1mcWIzczRwa2xoYWs3ZnMgdGVzdC0yMTVAbHVja3ktcmVhY3Rvci00NDMzMDgtcjQuaWFtLmdzZXJ2aWNlYWNjb3VudC5jb20\n",
      "Event created: https://www.google.com/calendar/event?eid=c2JuYmRrYXViZXFmazJlODY5cDdodWZxdmcgdGVzdC0yMTVAbHVja3ktcmVhY3Rvci00NDMzMDgtcjQuaWFtLmdzZXJ2aWNlYWNjb3VudC5jb20\n",
      "Event created: https://www.google.com/calendar/event?eid=cW1uNnBsa25mOGVqdGN1ZjVhNmZubDdmcTQgdGVzdC0yMTVAbHVja3ktcmVhY3Rvci00NDMzMDgtcjQuaWFtLmdzZXJ2aWNlYWNjb3VudC5jb20\n",
      "Event created: https://www.google.com/calendar/event?eid=ZmNpcDJnMTltNTRkcGd2cXB1dGE3ZG83MWsgdGVzdC0yMTVAbHVja3ktcmVhY3Rvci00NDMzMDgtcjQuaWFtLmdzZXJ2aWNlYWNjb3VudC5jb20\n",
      "Event created: https://www.google.com/calendar/event?eid=ZnJzMDJqdTNtZjRtZGh1Y3IxNWtkazRrOWcgdGVzdC0yMTVAbHVja3ktcmVhY3Rvci00NDMzMDgtcjQuaWFtLmdzZXJ2aWNlYWNjb3VudC5jb20\n",
      "Error creating event for row 101: <HttpError 400 when requesting https://www.googleapis.com/calendar/v3/calendars/primary/events?alt=json returned \"The specified time range is empty.\". Details: \"[{'domain': 'calendar', 'reason': 'timeRangeEmpty', 'message': 'The specified time range is empty.', 'locationType': 'parameter', 'location': 'timeMax'}]\">\n",
      "Event created: https://www.google.com/calendar/event?eid=NGk3YW91bGdnNm03Nmgzc202bDh2bWUwYzAgdGVzdC0yMTVAbHVja3ktcmVhY3Rvci00NDMzMDgtcjQuaWFtLmdzZXJ2aWNlYWNjb3VudC5jb20\n",
      "Error creating event for row 103: <HttpError 400 when requesting https://www.googleapis.com/calendar/v3/calendars/primary/events?alt=json returned \"The specified time range is empty.\". Details: \"[{'domain': 'calendar', 'reason': 'timeRangeEmpty', 'message': 'The specified time range is empty.', 'locationType': 'parameter', 'location': 'timeMax'}]\">\n",
      "Error creating event for row 104: <HttpError 400 when requesting https://www.googleapis.com/calendar/v3/calendars/primary/events?alt=json returned \"The specified time range is empty.\". Details: \"[{'domain': 'calendar', 'reason': 'timeRangeEmpty', 'message': 'The specified time range is empty.', 'locationType': 'parameter', 'location': 'timeMax'}]\">\n",
      "Error creating event for row 105: <HttpError 400 when requesting https://www.googleapis.com/calendar/v3/calendars/primary/events?alt=json returned \"The specified time range is empty.\". Details: \"[{'domain': 'calendar', 'reason': 'timeRangeEmpty', 'message': 'The specified time range is empty.', 'locationType': 'parameter', 'location': 'timeMax'}]\">\n",
      "Error creating event for row 106: <HttpError 400 when requesting https://www.googleapis.com/calendar/v3/calendars/primary/events?alt=json returned \"The specified time range is empty.\". Details: \"[{'domain': 'calendar', 'reason': 'timeRangeEmpty', 'message': 'The specified time range is empty.', 'locationType': 'parameter', 'location': 'timeMax'}]\">\n",
      "Error creating event for row 107: <HttpError 400 when requesting https://www.googleapis.com/calendar/v3/calendars/primary/events?alt=json returned \"The specified time range is empty.\". Details: \"[{'domain': 'calendar', 'reason': 'timeRangeEmpty', 'message': 'The specified time range is empty.', 'locationType': 'parameter', 'location': 'timeMax'}]\">\n",
      "Event created: https://www.google.com/calendar/event?eid=bzlmMDY4aHFpMmpvbm11bXY4ZXB0MTQ5c28gdGVzdC0yMTVAbHVja3ktcmVhY3Rvci00NDMzMDgtcjQuaWFtLmdzZXJ2aWNlYWNjb3VudC5jb20\n"
     ]
    },
    {
     "name": "stderr",
     "output_type": "stream",
     "text": [
      "C:\\Users\\heans\\AppData\\Local\\Temp\\ipykernel_22024\\3996378728.py:43: FutureWarning: Parsed string \"2024-12-13 00:00:00T15:30\" included an un-recognized timezone \"T\". Dropping unrecognized timezones is deprecated; in a future version this will raise. Instead pass the string without the timezone, then use .tz_localize to convert to a recognized timezone.\n",
      "  start_time_obj = pd.to_datetime(start_datetime_str)\n"
     ]
    },
    {
     "name": "stdout",
     "output_type": "stream",
     "text": [
      "Event created: https://www.google.com/calendar/event?eid=ODNqNG44cjF2am11NjB0NzFmcDFhamlqZXMgdGVzdC0yMTVAbHVja3ktcmVhY3Rvci00NDMzMDgtcjQuaWFtLmdzZXJ2aWNlYWNjb3VudC5jb20\n",
      "Event created: https://www.google.com/calendar/event?eid=dW91cnNyczZzNnNmb2cybHVscjBsYmt1OWcgdGVzdC0yMTVAbHVja3ktcmVhY3Rvci00NDMzMDgtcjQuaWFtLmdzZXJ2aWNlYWNjb3VudC5jb20\n",
      "Error creating event for row 111: <HttpError 400 when requesting https://www.googleapis.com/calendar/v3/calendars/primary/events?alt=json returned \"The specified time range is empty.\". Details: \"[{'domain': 'calendar', 'reason': 'timeRangeEmpty', 'message': 'The specified time range is empty.', 'locationType': 'parameter', 'location': 'timeMax'}]\">\n"
     ]
    },
    {
     "name": "stderr",
     "output_type": "stream",
     "text": [
      "C:\\Users\\heans\\AppData\\Local\\Temp\\ipykernel_22024\\3996378728.py:43: FutureWarning: Parsed string \"2024-12-13 00:00:00T16:00\" included an un-recognized timezone \"T\". Dropping unrecognized timezones is deprecated; in a future version this will raise. Instead pass the string without the timezone, then use .tz_localize to convert to a recognized timezone.\n",
      "  start_time_obj = pd.to_datetime(start_datetime_str)\n"
     ]
    },
    {
     "name": "stdout",
     "output_type": "stream",
     "text": [
      "Event created: https://www.google.com/calendar/event?eid=MmtvNjZsYm9qNjcwY21ma3I0NXJqNTZzb28gdGVzdC0yMTVAbHVja3ktcmVhY3Rvci00NDMzMDgtcjQuaWFtLmdzZXJ2aWNlYWNjb3VudC5jb20\n",
      "Error creating event for row 113: <HttpError 400 when requesting https://www.googleapis.com/calendar/v3/calendars/primary/events?alt=json returned \"The specified time range is empty.\". Details: \"[{'domain': 'calendar', 'reason': 'timeRangeEmpty', 'message': 'The specified time range is empty.', 'locationType': 'parameter', 'location': 'timeMax'}]\">\n",
      "Event created: https://www.google.com/calendar/event?eid=bnZsNTYxcWE5a2hvNXBoOGN1dXNjY2c4YzggdGVzdC0yMTVAbHVja3ktcmVhY3Rvci00NDMzMDgtcjQuaWFtLmdzZXJ2aWNlYWNjb3VudC5jb20\n",
      "Event created: https://www.google.com/calendar/event?eid=YWp2Yjk4ZTY3djFjNzRyNWtpZ2Z0cjdvbWMgdGVzdC0yMTVAbHVja3ktcmVhY3Rvci00NDMzMDgtcjQuaWFtLmdzZXJ2aWNlYWNjb3VudC5jb20\n",
      "Event created: https://www.google.com/calendar/event?eid=NjZwc2hxc2Frc2w3OHEwcW5qb3E4dmZmNmMgdGVzdC0yMTVAbHVja3ktcmVhY3Rvci00NDMzMDgtcjQuaWFtLmdzZXJ2aWNlYWNjb3VudC5jb20\n",
      "Event created: https://www.google.com/calendar/event?eid=NWVtYWVrb2FqMGFhZDJwNW1samIzZGc5MDQgdGVzdC0yMTVAbHVja3ktcmVhY3Rvci00NDMzMDgtcjQuaWFtLmdzZXJ2aWNlYWNjb3VudC5jb20\n",
      "Event created: https://www.google.com/calendar/event?eid=cjdva2U5Y200Z2xzaTFzMTc2dmR1dWFiOG8gdGVzdC0yMTVAbHVja3ktcmVhY3Rvci00NDMzMDgtcjQuaWFtLmdzZXJ2aWNlYWNjb3VudC5jb20\n",
      "Error creating event for row 119: <HttpError 400 when requesting https://www.googleapis.com/calendar/v3/calendars/primary/events?alt=json returned \"The specified time range is empty.\". Details: \"[{'domain': 'calendar', 'reason': 'timeRangeEmpty', 'message': 'The specified time range is empty.', 'locationType': 'parameter', 'location': 'timeMax'}]\">\n",
      "Error creating event for row 120: <HttpError 400 when requesting https://www.googleapis.com/calendar/v3/calendars/primary/events?alt=json returned \"The specified time range is empty.\". Details: \"[{'domain': 'calendar', 'reason': 'timeRangeEmpty', 'message': 'The specified time range is empty.', 'locationType': 'parameter', 'location': 'timeMax'}]\">\n",
      "Error creating event for row 121: <HttpError 400 when requesting https://www.googleapis.com/calendar/v3/calendars/primary/events?alt=json returned \"The specified time range is empty.\". Details: \"[{'domain': 'calendar', 'reason': 'timeRangeEmpty', 'message': 'The specified time range is empty.', 'locationType': 'parameter', 'location': 'timeMax'}]\">\n",
      "Error creating event for row 122: <HttpError 400 when requesting https://www.googleapis.com/calendar/v3/calendars/primary/events?alt=json returned \"The specified time range is empty.\". Details: \"[{'domain': 'calendar', 'reason': 'timeRangeEmpty', 'message': 'The specified time range is empty.', 'locationType': 'parameter', 'location': 'timeMax'}]\">\n",
      "Error creating event for row 123: <HttpError 400 when requesting https://www.googleapis.com/calendar/v3/calendars/primary/events?alt=json returned \"The specified time range is empty.\". Details: \"[{'domain': 'calendar', 'reason': 'timeRangeEmpty', 'message': 'The specified time range is empty.', 'locationType': 'parameter', 'location': 'timeMax'}]\">\n",
      "Error creating event for row 124: <HttpError 400 when requesting https://www.googleapis.com/calendar/v3/calendars/primary/events?alt=json returned \"The specified time range is empty.\". Details: \"[{'domain': 'calendar', 'reason': 'timeRangeEmpty', 'message': 'The specified time range is empty.', 'locationType': 'parameter', 'location': 'timeMax'}]\">\n"
     ]
    },
    {
     "name": "stderr",
     "output_type": "stream",
     "text": [
      "C:\\Users\\heans\\AppData\\Local\\Temp\\ipykernel_22024\\3996378728.py:43: FutureWarning: Parsed string \"2024-12-13 00:00:00T16:30\" included an un-recognized timezone \"T\". Dropping unrecognized timezones is deprecated; in a future version this will raise. Instead pass the string without the timezone, then use .tz_localize to convert to a recognized timezone.\n",
      "  start_time_obj = pd.to_datetime(start_datetime_str)\n"
     ]
    },
    {
     "name": "stdout",
     "output_type": "stream",
     "text": [
      "Error creating event for row 125: <HttpError 400 when requesting https://www.googleapis.com/calendar/v3/calendars/primary/events?alt=json returned \"The specified time range is empty.\". Details: \"[{'domain': 'calendar', 'reason': 'timeRangeEmpty', 'message': 'The specified time range is empty.', 'locationType': 'parameter', 'location': 'timeMax'}]\">\n"
     ]
    },
    {
     "name": "stderr",
     "output_type": "stream",
     "text": [
      "C:\\Users\\heans\\AppData\\Local\\Temp\\ipykernel_22024\\3996378728.py:43: FutureWarning: Parsed string \"2024-12-13 00:00:00T17:00\" included an un-recognized timezone \"T\". Dropping unrecognized timezones is deprecated; in a future version this will raise. Instead pass the string without the timezone, then use .tz_localize to convert to a recognized timezone.\n",
      "  start_time_obj = pd.to_datetime(start_datetime_str)\n"
     ]
    },
    {
     "name": "stdout",
     "output_type": "stream",
     "text": [
      "Error creating event for row 126: <HttpError 400 when requesting https://www.googleapis.com/calendar/v3/calendars/primary/events?alt=json returned \"The specified time range is empty.\". Details: \"[{'domain': 'calendar', 'reason': 'timeRangeEmpty', 'message': 'The specified time range is empty.', 'locationType': 'parameter', 'location': 'timeMax'}]\">\n",
      "Event created: https://www.google.com/calendar/event?eid=a2VxNThvczFnMDBtMTBpMDEzdm42aGdqYnMgdGVzdC0yMTVAbHVja3ktcmVhY3Rvci00NDMzMDgtcjQuaWFtLmdzZXJ2aWNlYWNjb3VudC5jb20\n",
      "Event created: https://www.google.com/calendar/event?eid=ZGpsYTYxc21mYW9xMzJpYmVpY2Q3Zjhyb3MgdGVzdC0yMTVAbHVja3ktcmVhY3Rvci00NDMzMDgtcjQuaWFtLmdzZXJ2aWNlYWNjb3VudC5jb20\n",
      "Error creating event for row 129: <HttpError 400 when requesting https://www.googleapis.com/calendar/v3/calendars/primary/events?alt=json returned \"The specified time range is empty.\". Details: \"[{'domain': 'calendar', 'reason': 'timeRangeEmpty', 'message': 'The specified time range is empty.', 'locationType': 'parameter', 'location': 'timeMax'}]\">\n",
      "Error creating event for row 130: <HttpError 400 when requesting https://www.googleapis.com/calendar/v3/calendars/primary/events?alt=json returned \"The specified time range is empty.\". Details: \"[{'domain': 'calendar', 'reason': 'timeRangeEmpty', 'message': 'The specified time range is empty.', 'locationType': 'parameter', 'location': 'timeMax'}]\">\n",
      "Error creating event for row 131: <HttpError 400 when requesting https://www.googleapis.com/calendar/v3/calendars/primary/events?alt=json returned \"The specified time range is empty.\". Details: \"[{'domain': 'calendar', 'reason': 'timeRangeEmpty', 'message': 'The specified time range is empty.', 'locationType': 'parameter', 'location': 'timeMax'}]\">\n",
      "Event created: https://www.google.com/calendar/event?eid=aXA3bWNib2hzOWgwN3Jic2t1ZmY0NWoxdWcgdGVzdC0yMTVAbHVja3ktcmVhY3Rvci00NDMzMDgtcjQuaWFtLmdzZXJ2aWNlYWNjb3VudC5jb20\n",
      "Error creating event for row 133: <HttpError 400 when requesting https://www.googleapis.com/calendar/v3/calendars/primary/events?alt=json returned \"The specified time range is empty.\". Details: \"[{'domain': 'calendar', 'reason': 'timeRangeEmpty', 'message': 'The specified time range is empty.', 'locationType': 'parameter', 'location': 'timeMax'}]\">\n",
      "Error creating event for row 134: <HttpError 400 when requesting https://www.googleapis.com/calendar/v3/calendars/primary/events?alt=json returned \"The specified time range is empty.\". Details: \"[{'domain': 'calendar', 'reason': 'timeRangeEmpty', 'message': 'The specified time range is empty.', 'locationType': 'parameter', 'location': 'timeMax'}]\">\n",
      "Event created: https://www.google.com/calendar/event?eid=OTlhNmxybTQya3JnaW9uazQ5Mms2MG11ODQgdGVzdC0yMTVAbHVja3ktcmVhY3Rvci00NDMzMDgtcjQuaWFtLmdzZXJ2aWNlYWNjb3VudC5jb20\n",
      "Error creating event for row 136: <HttpError 400 when requesting https://www.googleapis.com/calendar/v3/calendars/primary/events?alt=json returned \"The specified time range is empty.\". Details: \"[{'domain': 'calendar', 'reason': 'timeRangeEmpty', 'message': 'The specified time range is empty.', 'locationType': 'parameter', 'location': 'timeMax'}]\">\n",
      "Error creating event for row 137: <HttpError 400 when requesting https://www.googleapis.com/calendar/v3/calendars/primary/events?alt=json returned \"The specified time range is empty.\". Details: \"[{'domain': 'calendar', 'reason': 'timeRangeEmpty', 'message': 'The specified time range is empty.', 'locationType': 'parameter', 'location': 'timeMax'}]\">\n",
      "Error creating event for row 138: <HttpError 400 when requesting https://www.googleapis.com/calendar/v3/calendars/primary/events?alt=json returned \"The specified time range is empty.\". Details: \"[{'domain': 'calendar', 'reason': 'timeRangeEmpty', 'message': 'The specified time range is empty.', 'locationType': 'parameter', 'location': 'timeMax'}]\">\n",
      "Error creating event for row 139: <HttpError 400 when requesting https://www.googleapis.com/calendar/v3/calendars/primary/events?alt=json returned \"The specified time range is empty.\". Details: \"[{'domain': 'calendar', 'reason': 'timeRangeEmpty', 'message': 'The specified time range is empty.', 'locationType': 'parameter', 'location': 'timeMax'}]\">\n",
      "Error creating event for row 140: <HttpError 400 when requesting https://www.googleapis.com/calendar/v3/calendars/primary/events?alt=json returned \"The specified time range is empty.\". Details: \"[{'domain': 'calendar', 'reason': 'timeRangeEmpty', 'message': 'The specified time range is empty.', 'locationType': 'parameter', 'location': 'timeMax'}]\">\n",
      "Error creating event for row 141: <HttpError 400 when requesting https://www.googleapis.com/calendar/v3/calendars/primary/events?alt=json returned \"The specified time range is empty.\". Details: \"[{'domain': 'calendar', 'reason': 'timeRangeEmpty', 'message': 'The specified time range is empty.', 'locationType': 'parameter', 'location': 'timeMax'}]\">\n"
     ]
    },
    {
     "name": "stderr",
     "output_type": "stream",
     "text": [
      "C:\\Users\\heans\\AppData\\Local\\Temp\\ipykernel_22024\\3996378728.py:43: FutureWarning: Parsed string \"2024-12-13 00:00:00T17:30\" included an un-recognized timezone \"T\". Dropping unrecognized timezones is deprecated; in a future version this will raise. Instead pass the string without the timezone, then use .tz_localize to convert to a recognized timezone.\n",
      "  start_time_obj = pd.to_datetime(start_datetime_str)\n"
     ]
    },
    {
     "name": "stdout",
     "output_type": "stream",
     "text": [
      "Event created: https://www.google.com/calendar/event?eid=cXZqc3Roa3A2b2hwb3J0aGhzcmdiZmljcDAgdGVzdC0yMTVAbHVja3ktcmVhY3Rvci00NDMzMDgtcjQuaWFtLmdzZXJ2aWNlYWNjb3VudC5jb20\n",
      "Event created: https://www.google.com/calendar/event?eid=NWMwc3NkZms2cDZ2azh1NzA3ZGdvc29sNDAgdGVzdC0yMTVAbHVja3ktcmVhY3Rvci00NDMzMDgtcjQuaWFtLmdzZXJ2aWNlYWNjb3VudC5jb20\n"
     ]
    },
    {
     "name": "stderr",
     "output_type": "stream",
     "text": [
      "C:\\Users\\heans\\AppData\\Local\\Temp\\ipykernel_22024\\3996378728.py:43: FutureWarning: Parsed string \"2024-12-13 00:00:00T18:00\" included an un-recognized timezone \"T\". Dropping unrecognized timezones is deprecated; in a future version this will raise. Instead pass the string without the timezone, then use .tz_localize to convert to a recognized timezone.\n",
      "  start_time_obj = pd.to_datetime(start_datetime_str)\n"
     ]
    },
    {
     "name": "stdout",
     "output_type": "stream",
     "text": [
      "Event created: https://www.google.com/calendar/event?eid=dHNxbW1sNGRyamliNHR2Z2FpdWt1ZGY3ZzQgdGVzdC0yMTVAbHVja3ktcmVhY3Rvci00NDMzMDgtcjQuaWFtLmdzZXJ2aWNlYWNjb3VudC5jb20\n",
      "Error creating event for row 145: <HttpError 400 when requesting https://www.googleapis.com/calendar/v3/calendars/primary/events?alt=json returned \"The specified time range is empty.\". Details: \"[{'domain': 'calendar', 'reason': 'timeRangeEmpty', 'message': 'The specified time range is empty.', 'locationType': 'parameter', 'location': 'timeMax'}]\">\n",
      "Error creating event for row 146: <HttpError 400 when requesting https://www.googleapis.com/calendar/v3/calendars/primary/events?alt=json returned \"The specified time range is empty.\". Details: \"[{'domain': 'calendar', 'reason': 'timeRangeEmpty', 'message': 'The specified time range is empty.', 'locationType': 'parameter', 'location': 'timeMax'}]\">\n",
      "Event created: https://www.google.com/calendar/event?eid=NWgybWs1MGVpbzF1OTI1OGYzcWNodTZsZGsgdGVzdC0yMTVAbHVja3ktcmVhY3Rvci00NDMzMDgtcjQuaWFtLmdzZXJ2aWNlYWNjb3VudC5jb20\n",
      "Event created: https://www.google.com/calendar/event?eid=aWVnaHRvMjU4aHAwNnByN25pOWY4cHFtdGMgdGVzdC0yMTVAbHVja3ktcmVhY3Rvci00NDMzMDgtcjQuaWFtLmdzZXJ2aWNlYWNjb3VudC5jb20\n",
      "Event created: https://www.google.com/calendar/event?eid=NGJoazRmMXA2aWE5ZWplZTI2MnBzMWFnMmMgdGVzdC0yMTVAbHVja3ktcmVhY3Rvci00NDMzMDgtcjQuaWFtLmdzZXJ2aWNlYWNjb3VudC5jb20\n",
      "Error creating event for row 150: <HttpError 400 when requesting https://www.googleapis.com/calendar/v3/calendars/primary/events?alt=json returned \"The specified time range is empty.\". Details: \"[{'domain': 'calendar', 'reason': 'timeRangeEmpty', 'message': 'The specified time range is empty.', 'locationType': 'parameter', 'location': 'timeMax'}]\">\n",
      "Event created: https://www.google.com/calendar/event?eid=ZXVzc25mZmp0MWhzMTQzcW1jZ2JucWpoMXMgdGVzdC0yMTVAbHVja3ktcmVhY3Rvci00NDMzMDgtcjQuaWFtLmdzZXJ2aWNlYWNjb3VudC5jb20\n",
      "Error creating event for row 152: <HttpError 400 when requesting https://www.googleapis.com/calendar/v3/calendars/primary/events?alt=json returned \"The specified time range is empty.\". Details: \"[{'domain': 'calendar', 'reason': 'timeRangeEmpty', 'message': 'The specified time range is empty.', 'locationType': 'parameter', 'location': 'timeMax'}]\">\n",
      "Event created: https://www.google.com/calendar/event?eid=cHRldDJna3QzZGs3b2I3YWtkZnZkYzNmcTQgdGVzdC0yMTVAbHVja3ktcmVhY3Rvci00NDMzMDgtcjQuaWFtLmdzZXJ2aWNlYWNjb3VudC5jb20\n",
      "Error creating event for row 154: <HttpError 400 when requesting https://www.googleapis.com/calendar/v3/calendars/primary/events?alt=json returned \"The specified time range is empty.\". Details: \"[{'domain': 'calendar', 'reason': 'timeRangeEmpty', 'message': 'The specified time range is empty.', 'locationType': 'parameter', 'location': 'timeMax'}]\">\n",
      "Error creating event for row 155: <HttpError 400 when requesting https://www.googleapis.com/calendar/v3/calendars/primary/events?alt=json returned \"The specified time range is empty.\". Details: \"[{'domain': 'calendar', 'reason': 'timeRangeEmpty', 'message': 'The specified time range is empty.', 'locationType': 'parameter', 'location': 'timeMax'}]\">\n",
      "Event created: https://www.google.com/calendar/event?eid=YnI1Y2JtMHBicGV2MmlvaWw5ZDgzaHIzanMgdGVzdC0yMTVAbHVja3ktcmVhY3Rvci00NDMzMDgtcjQuaWFtLmdzZXJ2aWNlYWNjb3VudC5jb20\n",
      "Event created: https://www.google.com/calendar/event?eid=c2g2bXA4czlnMzRkNHNnYW0yZG43NTBmYTAgdGVzdC0yMTVAbHVja3ktcmVhY3Rvci00NDMzMDgtcjQuaWFtLmdzZXJ2aWNlYWNjb3VudC5jb20\n",
      "Event created: https://www.google.com/calendar/event?eid=cjJrNzV1amlqNjU2cWV1ZzY0M3Vsa2g5MjggdGVzdC0yMTVAbHVja3ktcmVhY3Rvci00NDMzMDgtcjQuaWFtLmdzZXJ2aWNlYWNjb3VudC5jb20\n"
     ]
    },
    {
     "name": "stderr",
     "output_type": "stream",
     "text": [
      "C:\\Users\\heans\\AppData\\Local\\Temp\\ipykernel_22024\\3996378728.py:43: FutureWarning: Parsed string \"2024-12-13 00:00:00T18:15\" included an un-recognized timezone \"T\". Dropping unrecognized timezones is deprecated; in a future version this will raise. Instead pass the string without the timezone, then use .tz_localize to convert to a recognized timezone.\n",
      "  start_time_obj = pd.to_datetime(start_datetime_str)\n"
     ]
    },
    {
     "name": "stdout",
     "output_type": "stream",
     "text": [
      "Error creating event for row 159: <HttpError 400 when requesting https://www.googleapis.com/calendar/v3/calendars/primary/events?alt=json returned \"The specified time range is empty.\". Details: \"[{'domain': 'calendar', 'reason': 'timeRangeEmpty', 'message': 'The specified time range is empty.', 'locationType': 'parameter', 'location': 'timeMax'}]\">\n",
      "Error creating event for row 160: <HttpError 400 when requesting https://www.googleapis.com/calendar/v3/calendars/primary/events?alt=json returned \"The specified time range is empty.\". Details: \"[{'domain': 'calendar', 'reason': 'timeRangeEmpty', 'message': 'The specified time range is empty.', 'locationType': 'parameter', 'location': 'timeMax'}]\">\n"
     ]
    },
    {
     "name": "stderr",
     "output_type": "stream",
     "text": [
      "C:\\Users\\heans\\AppData\\Local\\Temp\\ipykernel_22024\\3996378728.py:43: FutureWarning: Parsed string \"2024-12-13 00:00:00T18:30\" included an un-recognized timezone \"T\". Dropping unrecognized timezones is deprecated; in a future version this will raise. Instead pass the string without the timezone, then use .tz_localize to convert to a recognized timezone.\n",
      "  start_time_obj = pd.to_datetime(start_datetime_str)\n"
     ]
    },
    {
     "name": "stdout",
     "output_type": "stream",
     "text": [
      "Error creating event for row 161: <HttpError 400 when requesting https://www.googleapis.com/calendar/v3/calendars/primary/events?alt=json returned \"The specified time range is empty.\". Details: \"[{'domain': 'calendar', 'reason': 'timeRangeEmpty', 'message': 'The specified time range is empty.', 'locationType': 'parameter', 'location': 'timeMax'}]\">\n",
      "Error creating event for row 162: <HttpError 400 when requesting https://www.googleapis.com/calendar/v3/calendars/primary/events?alt=json returned \"The specified time range is empty.\". Details: \"[{'domain': 'calendar', 'reason': 'timeRangeEmpty', 'message': 'The specified time range is empty.', 'locationType': 'parameter', 'location': 'timeMax'}]\">\n",
      "Error creating event for row 163: <HttpError 400 when requesting https://www.googleapis.com/calendar/v3/calendars/primary/events?alt=json returned \"The specified time range is empty.\". Details: \"[{'domain': 'calendar', 'reason': 'timeRangeEmpty', 'message': 'The specified time range is empty.', 'locationType': 'parameter', 'location': 'timeMax'}]\">\n",
      "Error creating event for row 164: <HttpError 400 when requesting https://www.googleapis.com/calendar/v3/calendars/primary/events?alt=json returned \"The specified time range is empty.\". Details: \"[{'domain': 'calendar', 'reason': 'timeRangeEmpty', 'message': 'The specified time range is empty.', 'locationType': 'parameter', 'location': 'timeMax'}]\">\n"
     ]
    },
    {
     "name": "stderr",
     "output_type": "stream",
     "text": [
      "C:\\Users\\heans\\AppData\\Local\\Temp\\ipykernel_22024\\3996378728.py:43: FutureWarning: Parsed string \"2024-12-13 00:00:00T19:00\" included an un-recognized timezone \"T\". Dropping unrecognized timezones is deprecated; in a future version this will raise. Instead pass the string without the timezone, then use .tz_localize to convert to a recognized timezone.\n",
      "  start_time_obj = pd.to_datetime(start_datetime_str)\n"
     ]
    },
    {
     "name": "stdout",
     "output_type": "stream",
     "text": [
      "Event created: https://www.google.com/calendar/event?eid=b2pqdjRmcmZhcWRndGpzODNhdmZnc3FvbDggdGVzdC0yMTVAbHVja3ktcmVhY3Rvci00NDMzMDgtcjQuaWFtLmdzZXJ2aWNlYWNjb3VudC5jb20\n",
      "Event created: https://www.google.com/calendar/event?eid=dmZ1N2dpc2JnN3NxbTk4cmQzaGJ0YWFjcTAgdGVzdC0yMTVAbHVja3ktcmVhY3Rvci00NDMzMDgtcjQuaWFtLmdzZXJ2aWNlYWNjb3VudC5jb20\n",
      "Event created: https://www.google.com/calendar/event?eid=MnI5NHU0ZHQycXFyZGpiMHBwMjd2bDFlYW8gdGVzdC0yMTVAbHVja3ktcmVhY3Rvci00NDMzMDgtcjQuaWFtLmdzZXJ2aWNlYWNjb3VudC5jb20\n",
      "Error creating event for row 168: <HttpError 400 when requesting https://www.googleapis.com/calendar/v3/calendars/primary/events?alt=json returned \"The specified time range is empty.\". Details: \"[{'domain': 'calendar', 'reason': 'timeRangeEmpty', 'message': 'The specified time range is empty.', 'locationType': 'parameter', 'location': 'timeMax'}]\">\n",
      "Error creating event for row 169: <HttpError 400 when requesting https://www.googleapis.com/calendar/v3/calendars/primary/events?alt=json returned \"The specified time range is empty.\". Details: \"[{'domain': 'calendar', 'reason': 'timeRangeEmpty', 'message': 'The specified time range is empty.', 'locationType': 'parameter', 'location': 'timeMax'}]\">\n",
      "Error creating event for row 170: <HttpError 400 when requesting https://www.googleapis.com/calendar/v3/calendars/primary/events?alt=json returned \"The specified time range is empty.\". Details: \"[{'domain': 'calendar', 'reason': 'timeRangeEmpty', 'message': 'The specified time range is empty.', 'locationType': 'parameter', 'location': 'timeMax'}]\">\n",
      "Event created: https://www.google.com/calendar/event?eid=OTFyZGs3MnFodm9ldjdlZjZmMzg5OWxtbWcgdGVzdC0yMTVAbHVja3ktcmVhY3Rvci00NDMzMDgtcjQuaWFtLmdzZXJ2aWNlYWNjb3VudC5jb20\n",
      "Error creating event for row 172: <HttpError 400 when requesting https://www.googleapis.com/calendar/v3/calendars/primary/events?alt=json returned \"The specified time range is empty.\". Details: \"[{'domain': 'calendar', 'reason': 'timeRangeEmpty', 'message': 'The specified time range is empty.', 'locationType': 'parameter', 'location': 'timeMax'}]\">\n",
      "Error creating event for row 173: <HttpError 400 when requesting https://www.googleapis.com/calendar/v3/calendars/primary/events?alt=json returned \"The specified time range is empty.\". Details: \"[{'domain': 'calendar', 'reason': 'timeRangeEmpty', 'message': 'The specified time range is empty.', 'locationType': 'parameter', 'location': 'timeMax'}]\">\n",
      "Error creating event for row 174: <HttpError 400 when requesting https://www.googleapis.com/calendar/v3/calendars/primary/events?alt=json returned \"The specified time range is empty.\". Details: \"[{'domain': 'calendar', 'reason': 'timeRangeEmpty', 'message': 'The specified time range is empty.', 'locationType': 'parameter', 'location': 'timeMax'}]\">\n",
      "Error creating event for row 175: <HttpError 400 when requesting https://www.googleapis.com/calendar/v3/calendars/primary/events?alt=json returned \"The specified time range is empty.\". Details: \"[{'domain': 'calendar', 'reason': 'timeRangeEmpty', 'message': 'The specified time range is empty.', 'locationType': 'parameter', 'location': 'timeMax'}]\">\n",
      "Error creating event for row 176: <HttpError 400 when requesting https://www.googleapis.com/calendar/v3/calendars/primary/events?alt=json returned \"The specified time range is empty.\". Details: \"[{'domain': 'calendar', 'reason': 'timeRangeEmpty', 'message': 'The specified time range is empty.', 'locationType': 'parameter', 'location': 'timeMax'}]\">\n",
      "Error creating event for row 177: <HttpError 400 when requesting https://www.googleapis.com/calendar/v3/calendars/primary/events?alt=json returned \"The specified time range is empty.\". Details: \"[{'domain': 'calendar', 'reason': 'timeRangeEmpty', 'message': 'The specified time range is empty.', 'locationType': 'parameter', 'location': 'timeMax'}]\">\n",
      "Event created: https://www.google.com/calendar/event?eid=aHJ2aTlsNzVhcmNjYnFzZGdpc3ZjZ2JsN3MgdGVzdC0yMTVAbHVja3ktcmVhY3Rvci00NDMzMDgtcjQuaWFtLmdzZXJ2aWNlYWNjb3VudC5jb20\n",
      "Event created: https://www.google.com/calendar/event?eid=N2pjaDBxNGpuNzA2YXRzamY5YW11NmJiNW8gdGVzdC0yMTVAbHVja3ktcmVhY3Rvci00NDMzMDgtcjQuaWFtLmdzZXJ2aWNlYWNjb3VudC5jb20\n",
      "Error creating event for row 180: <HttpError 400 when requesting https://www.googleapis.com/calendar/v3/calendars/primary/events?alt=json returned \"The specified time range is empty.\". Details: \"[{'domain': 'calendar', 'reason': 'timeRangeEmpty', 'message': 'The specified time range is empty.', 'locationType': 'parameter', 'location': 'timeMax'}]\">\n",
      "Error creating event for row 181: <HttpError 400 when requesting https://www.googleapis.com/calendar/v3/calendars/primary/events?alt=json returned \"The specified time range is empty.\". Details: \"[{'domain': 'calendar', 'reason': 'timeRangeEmpty', 'message': 'The specified time range is empty.', 'locationType': 'parameter', 'location': 'timeMax'}]\">\n",
      "Error creating event for row 182: <HttpError 400 when requesting https://www.googleapis.com/calendar/v3/calendars/primary/events?alt=json returned \"The specified time range is empty.\". Details: \"[{'domain': 'calendar', 'reason': 'timeRangeEmpty', 'message': 'The specified time range is empty.', 'locationType': 'parameter', 'location': 'timeMax'}]\">\n",
      "Error creating event for row 183: <HttpError 400 when requesting https://www.googleapis.com/calendar/v3/calendars/primary/events?alt=json returned \"The specified time range is empty.\". Details: \"[{'domain': 'calendar', 'reason': 'timeRangeEmpty', 'message': 'The specified time range is empty.', 'locationType': 'parameter', 'location': 'timeMax'}]\">\n",
      "Error creating event for row 184: <HttpError 400 when requesting https://www.googleapis.com/calendar/v3/calendars/primary/events?alt=json returned \"The specified time range is empty.\". Details: \"[{'domain': 'calendar', 'reason': 'timeRangeEmpty', 'message': 'The specified time range is empty.', 'locationType': 'parameter', 'location': 'timeMax'}]\">\n",
      "Error creating event for row 185: <HttpError 400 when requesting https://www.googleapis.com/calendar/v3/calendars/primary/events?alt=json returned \"The specified time range is empty.\". Details: \"[{'domain': 'calendar', 'reason': 'timeRangeEmpty', 'message': 'The specified time range is empty.', 'locationType': 'parameter', 'location': 'timeMax'}]\">\n",
      "Event created: https://www.google.com/calendar/event?eid=OG0xYWo2bzYxNTVxNmI5czJncWEzb2c1OWcgdGVzdC0yMTVAbHVja3ktcmVhY3Rvci00NDMzMDgtcjQuaWFtLmdzZXJ2aWNlYWNjb3VudC5jb20\n",
      "Error creating event for row 187: <HttpError 400 when requesting https://www.googleapis.com/calendar/v3/calendars/primary/events?alt=json returned \"The specified time range is empty.\". Details: \"[{'domain': 'calendar', 'reason': 'timeRangeEmpty', 'message': 'The specified time range is empty.', 'locationType': 'parameter', 'location': 'timeMax'}]\">\n",
      "Event created: https://www.google.com/calendar/event?eid=OW8zc20waDkxMWlsMmpiYzFwMzVxNXIxbDggdGVzdC0yMTVAbHVja3ktcmVhY3Rvci00NDMzMDgtcjQuaWFtLmdzZXJ2aWNlYWNjb3VudC5jb20\n",
      "Event created: https://www.google.com/calendar/event?eid=bmpwYzNnaWltZm85amdpYW9mOWZvNjBrN2sgdGVzdC0yMTVAbHVja3ktcmVhY3Rvci00NDMzMDgtcjQuaWFtLmdzZXJ2aWNlYWNjb3VudC5jb20\n",
      "Event created: https://www.google.com/calendar/event?eid=aDMxMHBvcHBoMWQxZGpuZ2QzcTZjYzI0OGsgdGVzdC0yMTVAbHVja3ktcmVhY3Rvci00NDMzMDgtcjQuaWFtLmdzZXJ2aWNlYWNjb3VudC5jb20\n",
      "Event created: https://www.google.com/calendar/event?eid=ZjQzaWVqbGtya2dqYzk0aWU4Zms3NDRmNTQgdGVzdC0yMTVAbHVja3ktcmVhY3Rvci00NDMzMDgtcjQuaWFtLmdzZXJ2aWNlYWNjb3VudC5jb20\n",
      "Error creating event for row 192: <HttpError 400 when requesting https://www.googleapis.com/calendar/v3/calendars/primary/events?alt=json returned \"The specified time range is empty.\". Details: \"[{'domain': 'calendar', 'reason': 'timeRangeEmpty', 'message': 'The specified time range is empty.', 'locationType': 'parameter', 'location': 'timeMax'}]\">\n",
      "Error creating event for row 193: <HttpError 400 when requesting https://www.googleapis.com/calendar/v3/calendars/primary/events?alt=json returned \"The specified time range is empty.\". Details: \"[{'domain': 'calendar', 'reason': 'timeRangeEmpty', 'message': 'The specified time range is empty.', 'locationType': 'parameter', 'location': 'timeMax'}]\">\n",
      "Error creating event for row 194: <HttpError 400 when requesting https://www.googleapis.com/calendar/v3/calendars/primary/events?alt=json returned \"The specified time range is empty.\". Details: \"[{'domain': 'calendar', 'reason': 'timeRangeEmpty', 'message': 'The specified time range is empty.', 'locationType': 'parameter', 'location': 'timeMax'}]\">\n",
      "Error creating event for row 195: <HttpError 400 when requesting https://www.googleapis.com/calendar/v3/calendars/primary/events?alt=json returned \"The specified time range is empty.\". Details: \"[{'domain': 'calendar', 'reason': 'timeRangeEmpty', 'message': 'The specified time range is empty.', 'locationType': 'parameter', 'location': 'timeMax'}]\">\n",
      "Error creating event for row 196: <HttpError 400 when requesting https://www.googleapis.com/calendar/v3/calendars/primary/events?alt=json returned \"The specified time range is empty.\". Details: \"[{'domain': 'calendar', 'reason': 'timeRangeEmpty', 'message': 'The specified time range is empty.', 'locationType': 'parameter', 'location': 'timeMax'}]\">\n",
      "Error creating event for row 197: <HttpError 400 when requesting https://www.googleapis.com/calendar/v3/calendars/primary/events?alt=json returned \"The specified time range is empty.\". Details: \"[{'domain': 'calendar', 'reason': 'timeRangeEmpty', 'message': 'The specified time range is empty.', 'locationType': 'parameter', 'location': 'timeMax'}]\">\n",
      "Error creating event for row 198: <HttpError 400 when requesting https://www.googleapis.com/calendar/v3/calendars/primary/events?alt=json returned \"The specified time range is empty.\". Details: \"[{'domain': 'calendar', 'reason': 'timeRangeEmpty', 'message': 'The specified time range is empty.', 'locationType': 'parameter', 'location': 'timeMax'}]\">\n",
      "Error creating event for row 199: <HttpError 400 when requesting https://www.googleapis.com/calendar/v3/calendars/primary/events?alt=json returned \"The specified time range is empty.\". Details: \"[{'domain': 'calendar', 'reason': 'timeRangeEmpty', 'message': 'The specified time range is empty.', 'locationType': 'parameter', 'location': 'timeMax'}]\">\n"
     ]
    },
    {
     "name": "stderr",
     "output_type": "stream",
     "text": [
      "C:\\Users\\heans\\AppData\\Local\\Temp\\ipykernel_22024\\3996378728.py:43: FutureWarning: Parsed string \"2024-12-13 00:00:00T19:30\" included an un-recognized timezone \"T\". Dropping unrecognized timezones is deprecated; in a future version this will raise. Instead pass the string without the timezone, then use .tz_localize to convert to a recognized timezone.\n",
      "  start_time_obj = pd.to_datetime(start_datetime_str)\n"
     ]
    },
    {
     "name": "stdout",
     "output_type": "stream",
     "text": [
      "Event created: https://www.google.com/calendar/event?eid=YWNndGtzMzA5b2ZtZWhnbzVqczdnZGRxdnMgdGVzdC0yMTVAbHVja3ktcmVhY3Rvci00NDMzMDgtcjQuaWFtLmdzZXJ2aWNlYWNjb3VudC5jb20\n",
      "Event created: https://www.google.com/calendar/event?eid=MW5hcHJjZXRmcGg2ZG9rcW9kcGhnbnJrMGcgdGVzdC0yMTVAbHVja3ktcmVhY3Rvci00NDMzMDgtcjQuaWFtLmdzZXJ2aWNlYWNjb3VudC5jb20\n",
      "Error creating event for row 202: <HttpError 400 when requesting https://www.googleapis.com/calendar/v3/calendars/primary/events?alt=json returned \"The specified time range is empty.\". Details: \"[{'domain': 'calendar', 'reason': 'timeRangeEmpty', 'message': 'The specified time range is empty.', 'locationType': 'parameter', 'location': 'timeMax'}]\">\n",
      "Error creating event for row 203: <HttpError 400 when requesting https://www.googleapis.com/calendar/v3/calendars/primary/events?alt=json returned \"The specified time range is empty.\". Details: \"[{'domain': 'calendar', 'reason': 'timeRangeEmpty', 'message': 'The specified time range is empty.', 'locationType': 'parameter', 'location': 'timeMax'}]\">\n",
      "Event created: https://www.google.com/calendar/event?eid=MTRlcmI1NDd2bjZjMm05ZnBqNGhoMGs1NnMgdGVzdC0yMTVAbHVja3ktcmVhY3Rvci00NDMzMDgtcjQuaWFtLmdzZXJ2aWNlYWNjb3VudC5jb20\n",
      "Error creating event for row 205: <HttpError 400 when requesting https://www.googleapis.com/calendar/v3/calendars/primary/events?alt=json returned \"The specified time range is empty.\". Details: \"[{'domain': 'calendar', 'reason': 'timeRangeEmpty', 'message': 'The specified time range is empty.', 'locationType': 'parameter', 'location': 'timeMax'}]\">\n",
      "Error creating event for row 206: <HttpError 400 when requesting https://www.googleapis.com/calendar/v3/calendars/primary/events?alt=json returned \"The specified time range is empty.\". Details: \"[{'domain': 'calendar', 'reason': 'timeRangeEmpty', 'message': 'The specified time range is empty.', 'locationType': 'parameter', 'location': 'timeMax'}]\">\n",
      "Error creating event for row 207: <HttpError 400 when requesting https://www.googleapis.com/calendar/v3/calendars/primary/events?alt=json returned \"The specified time range is empty.\". Details: \"[{'domain': 'calendar', 'reason': 'timeRangeEmpty', 'message': 'The specified time range is empty.', 'locationType': 'parameter', 'location': 'timeMax'}]\">\n",
      "Error creating event for row 208: <HttpError 400 when requesting https://www.googleapis.com/calendar/v3/calendars/primary/events?alt=json returned \"The specified time range is empty.\". Details: \"[{'domain': 'calendar', 'reason': 'timeRangeEmpty', 'message': 'The specified time range is empty.', 'locationType': 'parameter', 'location': 'timeMax'}]\">\n",
      "Error creating event for row 209: <HttpError 400 when requesting https://www.googleapis.com/calendar/v3/calendars/primary/events?alt=json returned \"The specified time range is empty.\". Details: \"[{'domain': 'calendar', 'reason': 'timeRangeEmpty', 'message': 'The specified time range is empty.', 'locationType': 'parameter', 'location': 'timeMax'}]\">\n",
      "Event created: https://www.google.com/calendar/event?eid=M21mdmFjampxamZsOHFvZWNkYWpiNmphb2cgdGVzdC0yMTVAbHVja3ktcmVhY3Rvci00NDMzMDgtcjQuaWFtLmdzZXJ2aWNlYWNjb3VudC5jb20\n",
      "Error creating event for row 211: <HttpError 400 when requesting https://www.googleapis.com/calendar/v3/calendars/primary/events?alt=json returned \"The specified time range is empty.\". Details: \"[{'domain': 'calendar', 'reason': 'timeRangeEmpty', 'message': 'The specified time range is empty.', 'locationType': 'parameter', 'location': 'timeMax'}]\">\n",
      "Error creating event for row 212: <HttpError 400 when requesting https://www.googleapis.com/calendar/v3/calendars/primary/events?alt=json returned \"The specified time range is empty.\". Details: \"[{'domain': 'calendar', 'reason': 'timeRangeEmpty', 'message': 'The specified time range is empty.', 'locationType': 'parameter', 'location': 'timeMax'}]\">\n",
      "Error creating event for row 213: <HttpError 400 when requesting https://www.googleapis.com/calendar/v3/calendars/primary/events?alt=json returned \"The specified time range is empty.\". Details: \"[{'domain': 'calendar', 'reason': 'timeRangeEmpty', 'message': 'The specified time range is empty.', 'locationType': 'parameter', 'location': 'timeMax'}]\">\n",
      "Error creating event for row 214: <HttpError 400 when requesting https://www.googleapis.com/calendar/v3/calendars/primary/events?alt=json returned \"The specified time range is empty.\". Details: \"[{'domain': 'calendar', 'reason': 'timeRangeEmpty', 'message': 'The specified time range is empty.', 'locationType': 'parameter', 'location': 'timeMax'}]\">\n",
      "Error creating event for row 215: <HttpError 400 when requesting https://www.googleapis.com/calendar/v3/calendars/primary/events?alt=json returned \"The specified time range is empty.\". Details: \"[{'domain': 'calendar', 'reason': 'timeRangeEmpty', 'message': 'The specified time range is empty.', 'locationType': 'parameter', 'location': 'timeMax'}]\">\n",
      "Error creating event for row 216: <HttpError 400 when requesting https://www.googleapis.com/calendar/v3/calendars/primary/events?alt=json returned \"The specified time range is empty.\". Details: \"[{'domain': 'calendar', 'reason': 'timeRangeEmpty', 'message': 'The specified time range is empty.', 'locationType': 'parameter', 'location': 'timeMax'}]\">\n",
      "Error creating event for row 217: <HttpError 400 when requesting https://www.googleapis.com/calendar/v3/calendars/primary/events?alt=json returned \"The specified time range is empty.\". Details: \"[{'domain': 'calendar', 'reason': 'timeRangeEmpty', 'message': 'The specified time range is empty.', 'locationType': 'parameter', 'location': 'timeMax'}]\">\n",
      "Error creating event for row 218: <HttpError 400 when requesting https://www.googleapis.com/calendar/v3/calendars/primary/events?alt=json returned \"The specified time range is empty.\". Details: \"[{'domain': 'calendar', 'reason': 'timeRangeEmpty', 'message': 'The specified time range is empty.', 'locationType': 'parameter', 'location': 'timeMax'}]\">\n",
      "Error creating event for row 219: <HttpError 400 when requesting https://www.googleapis.com/calendar/v3/calendars/primary/events?alt=json returned \"The specified time range is empty.\". Details: \"[{'domain': 'calendar', 'reason': 'timeRangeEmpty', 'message': 'The specified time range is empty.', 'locationType': 'parameter', 'location': 'timeMax'}]\">\n",
      "Error creating event for row 220: <HttpError 400 when requesting https://www.googleapis.com/calendar/v3/calendars/primary/events?alt=json returned \"The specified time range is empty.\". Details: \"[{'domain': 'calendar', 'reason': 'timeRangeEmpty', 'message': 'The specified time range is empty.', 'locationType': 'parameter', 'location': 'timeMax'}]\">\n",
      "Error creating event for row 221: <HttpError 400 when requesting https://www.googleapis.com/calendar/v3/calendars/primary/events?alt=json returned \"The specified time range is empty.\". Details: \"[{'domain': 'calendar', 'reason': 'timeRangeEmpty', 'message': 'The specified time range is empty.', 'locationType': 'parameter', 'location': 'timeMax'}]\">\n",
      "Error creating event for row 222: <HttpError 400 when requesting https://www.googleapis.com/calendar/v3/calendars/primary/events?alt=json returned \"The specified time range is empty.\". Details: \"[{'domain': 'calendar', 'reason': 'timeRangeEmpty', 'message': 'The specified time range is empty.', 'locationType': 'parameter', 'location': 'timeMax'}]\">\n",
      "Error creating event for row 223: <HttpError 400 when requesting https://www.googleapis.com/calendar/v3/calendars/primary/events?alt=json returned \"The specified time range is empty.\". Details: \"[{'domain': 'calendar', 'reason': 'timeRangeEmpty', 'message': 'The specified time range is empty.', 'locationType': 'parameter', 'location': 'timeMax'}]\">\n",
      "Error creating event for row 224: <HttpError 400 when requesting https://www.googleapis.com/calendar/v3/calendars/primary/events?alt=json returned \"The specified time range is empty.\". Details: \"[{'domain': 'calendar', 'reason': 'timeRangeEmpty', 'message': 'The specified time range is empty.', 'locationType': 'parameter', 'location': 'timeMax'}]\">\n",
      "Error creating event for row 225: <HttpError 400 when requesting https://www.googleapis.com/calendar/v3/calendars/primary/events?alt=json returned \"The specified time range is empty.\". Details: \"[{'domain': 'calendar', 'reason': 'timeRangeEmpty', 'message': 'The specified time range is empty.', 'locationType': 'parameter', 'location': 'timeMax'}]\">\n",
      "Event created: https://www.google.com/calendar/event?eid=Z290ZW5xa2t0cjdlM2oxaWpldGFudWdqNTQgdGVzdC0yMTVAbHVja3ktcmVhY3Rvci00NDMzMDgtcjQuaWFtLmdzZXJ2aWNlYWNjb3VudC5jb20\n",
      "Error creating event for row 227: <HttpError 400 when requesting https://www.googleapis.com/calendar/v3/calendars/primary/events?alt=json returned \"The specified time range is empty.\". Details: \"[{'domain': 'calendar', 'reason': 'timeRangeEmpty', 'message': 'The specified time range is empty.', 'locationType': 'parameter', 'location': 'timeMax'}]\">\n",
      "Error creating event for row 228: <HttpError 400 when requesting https://www.googleapis.com/calendar/v3/calendars/primary/events?alt=json returned \"The specified time range is empty.\". Details: \"[{'domain': 'calendar', 'reason': 'timeRangeEmpty', 'message': 'The specified time range is empty.', 'locationType': 'parameter', 'location': 'timeMax'}]\">\n"
     ]
    },
    {
     "name": "stderr",
     "output_type": "stream",
     "text": [
      "C:\\Users\\heans\\AppData\\Local\\Temp\\ipykernel_22024\\3996378728.py:43: FutureWarning: Parsed string \"2024-12-13 00:00:00T20:00\" included an un-recognized timezone \"T\". Dropping unrecognized timezones is deprecated; in a future version this will raise. Instead pass the string without the timezone, then use .tz_localize to convert to a recognized timezone.\n",
      "  start_time_obj = pd.to_datetime(start_datetime_str)\n"
     ]
    },
    {
     "name": "stdout",
     "output_type": "stream",
     "text": [
      "Error creating event for row 229: <HttpError 400 when requesting https://www.googleapis.com/calendar/v3/calendars/primary/events?alt=json returned \"The specified time range is empty.\". Details: \"[{'domain': 'calendar', 'reason': 'timeRangeEmpty', 'message': 'The specified time range is empty.', 'locationType': 'parameter', 'location': 'timeMax'}]\">\n",
      "Error creating event for row 230: <HttpError 400 when requesting https://www.googleapis.com/calendar/v3/calendars/primary/events?alt=json returned \"The specified time range is empty.\". Details: \"[{'domain': 'calendar', 'reason': 'timeRangeEmpty', 'message': 'The specified time range is empty.', 'locationType': 'parameter', 'location': 'timeMax'}]\">\n",
      "Error creating event for row 231: <HttpError 400 when requesting https://www.googleapis.com/calendar/v3/calendars/primary/events?alt=json returned \"The specified time range is empty.\". Details: \"[{'domain': 'calendar', 'reason': 'timeRangeEmpty', 'message': 'The specified time range is empty.', 'locationType': 'parameter', 'location': 'timeMax'}]\">\n",
      "Error creating event for row 232: <HttpError 400 when requesting https://www.googleapis.com/calendar/v3/calendars/primary/events?alt=json returned \"The specified time range is empty.\". Details: \"[{'domain': 'calendar', 'reason': 'timeRangeEmpty', 'message': 'The specified time range is empty.', 'locationType': 'parameter', 'location': 'timeMax'}]\">\n",
      "Error creating event for row 233: <HttpError 400 when requesting https://www.googleapis.com/calendar/v3/calendars/primary/events?alt=json returned \"The specified time range is empty.\". Details: \"[{'domain': 'calendar', 'reason': 'timeRangeEmpty', 'message': 'The specified time range is empty.', 'locationType': 'parameter', 'location': 'timeMax'}]\">\n",
      "Error creating event for row 234: <HttpError 400 when requesting https://www.googleapis.com/calendar/v3/calendars/primary/events?alt=json returned \"The specified time range is empty.\". Details: \"[{'domain': 'calendar', 'reason': 'timeRangeEmpty', 'message': 'The specified time range is empty.', 'locationType': 'parameter', 'location': 'timeMax'}]\">\n",
      "Error creating event for row 235: <HttpError 400 when requesting https://www.googleapis.com/calendar/v3/calendars/primary/events?alt=json returned \"The specified time range is empty.\". Details: \"[{'domain': 'calendar', 'reason': 'timeRangeEmpty', 'message': 'The specified time range is empty.', 'locationType': 'parameter', 'location': 'timeMax'}]\">\n",
      "Error creating event for row 236: <HttpError 400 when requesting https://www.googleapis.com/calendar/v3/calendars/primary/events?alt=json returned \"The specified time range is empty.\". Details: \"[{'domain': 'calendar', 'reason': 'timeRangeEmpty', 'message': 'The specified time range is empty.', 'locationType': 'parameter', 'location': 'timeMax'}]\">\n",
      "Event created: https://www.google.com/calendar/event?eid=dTI2Zzk3cWo0YWV2OGU4cWt2a3BmYTM0ZmsgdGVzdC0yMTVAbHVja3ktcmVhY3Rvci00NDMzMDgtcjQuaWFtLmdzZXJ2aWNlYWNjb3VudC5jb20\n",
      "Error creating event for row 238: <HttpError 400 when requesting https://www.googleapis.com/calendar/v3/calendars/primary/events?alt=json returned \"The specified time range is empty.\". Details: \"[{'domain': 'calendar', 'reason': 'timeRangeEmpty', 'message': 'The specified time range is empty.', 'locationType': 'parameter', 'location': 'timeMax'}]\">\n",
      "Error creating event for row 239: <HttpError 400 when requesting https://www.googleapis.com/calendar/v3/calendars/primary/events?alt=json returned \"The specified time range is empty.\". Details: \"[{'domain': 'calendar', 'reason': 'timeRangeEmpty', 'message': 'The specified time range is empty.', 'locationType': 'parameter', 'location': 'timeMax'}]\">\n",
      "Error creating event for row 240: <HttpError 400 when requesting https://www.googleapis.com/calendar/v3/calendars/primary/events?alt=json returned \"The specified time range is empty.\". Details: \"[{'domain': 'calendar', 'reason': 'timeRangeEmpty', 'message': 'The specified time range is empty.', 'locationType': 'parameter', 'location': 'timeMax'}]\">\n",
      "Error creating event for row 241: <HttpError 400 when requesting https://www.googleapis.com/calendar/v3/calendars/primary/events?alt=json returned \"The specified time range is empty.\". Details: \"[{'domain': 'calendar', 'reason': 'timeRangeEmpty', 'message': 'The specified time range is empty.', 'locationType': 'parameter', 'location': 'timeMax'}]\">\n",
      "Error creating event for row 242: <HttpError 400 when requesting https://www.googleapis.com/calendar/v3/calendars/primary/events?alt=json returned \"The specified time range is empty.\". Details: \"[{'domain': 'calendar', 'reason': 'timeRangeEmpty', 'message': 'The specified time range is empty.', 'locationType': 'parameter', 'location': 'timeMax'}]\">\n",
      "Error creating event for row 243: <HttpError 400 when requesting https://www.googleapis.com/calendar/v3/calendars/primary/events?alt=json returned \"The specified time range is empty.\". Details: \"[{'domain': 'calendar', 'reason': 'timeRangeEmpty', 'message': 'The specified time range is empty.', 'locationType': 'parameter', 'location': 'timeMax'}]\">\n",
      "Error creating event for row 244: <HttpError 400 when requesting https://www.googleapis.com/calendar/v3/calendars/primary/events?alt=json returned \"The specified time range is empty.\". Details: \"[{'domain': 'calendar', 'reason': 'timeRangeEmpty', 'message': 'The specified time range is empty.', 'locationType': 'parameter', 'location': 'timeMax'}]\">\n",
      "Error creating event for row 245: <HttpError 400 when requesting https://www.googleapis.com/calendar/v3/calendars/primary/events?alt=json returned \"The specified time range is empty.\". Details: \"[{'domain': 'calendar', 'reason': 'timeRangeEmpty', 'message': 'The specified time range is empty.', 'locationType': 'parameter', 'location': 'timeMax'}]\">\n",
      "Error creating event for row 246: <HttpError 400 when requesting https://www.googleapis.com/calendar/v3/calendars/primary/events?alt=json returned \"The specified time range is empty.\". Details: \"[{'domain': 'calendar', 'reason': 'timeRangeEmpty', 'message': 'The specified time range is empty.', 'locationType': 'parameter', 'location': 'timeMax'}]\">\n",
      "Error creating event for row 247: <HttpError 400 when requesting https://www.googleapis.com/calendar/v3/calendars/primary/events?alt=json returned \"The specified time range is empty.\". Details: \"[{'domain': 'calendar', 'reason': 'timeRangeEmpty', 'message': 'The specified time range is empty.', 'locationType': 'parameter', 'location': 'timeMax'}]\">\n",
      "Error creating event for row 248: <HttpError 400 when requesting https://www.googleapis.com/calendar/v3/calendars/primary/events?alt=json returned \"The specified time range is empty.\". Details: \"[{'domain': 'calendar', 'reason': 'timeRangeEmpty', 'message': 'The specified time range is empty.', 'locationType': 'parameter', 'location': 'timeMax'}]\">\n",
      "Error creating event for row 249: <HttpError 400 when requesting https://www.googleapis.com/calendar/v3/calendars/primary/events?alt=json returned \"The specified time range is empty.\". Details: \"[{'domain': 'calendar', 'reason': 'timeRangeEmpty', 'message': 'The specified time range is empty.', 'locationType': 'parameter', 'location': 'timeMax'}]\">\n",
      "Error creating event for row 250: <HttpError 400 when requesting https://www.googleapis.com/calendar/v3/calendars/primary/events?alt=json returned \"The specified time range is empty.\". Details: \"[{'domain': 'calendar', 'reason': 'timeRangeEmpty', 'message': 'The specified time range is empty.', 'locationType': 'parameter', 'location': 'timeMax'}]\">\n",
      "Error creating event for row 251: <HttpError 400 when requesting https://www.googleapis.com/calendar/v3/calendars/primary/events?alt=json returned \"The specified time range is empty.\". Details: \"[{'domain': 'calendar', 'reason': 'timeRangeEmpty', 'message': 'The specified time range is empty.', 'locationType': 'parameter', 'location': 'timeMax'}]\">\n",
      "Error creating event for row 252: <HttpError 400 when requesting https://www.googleapis.com/calendar/v3/calendars/primary/events?alt=json returned \"The specified time range is empty.\". Details: \"[{'domain': 'calendar', 'reason': 'timeRangeEmpty', 'message': 'The specified time range is empty.', 'locationType': 'parameter', 'location': 'timeMax'}]\">\n",
      "Error creating event for row 253: <HttpError 400 when requesting https://www.googleapis.com/calendar/v3/calendars/primary/events?alt=json returned \"The specified time range is empty.\". Details: \"[{'domain': 'calendar', 'reason': 'timeRangeEmpty', 'message': 'The specified time range is empty.', 'locationType': 'parameter', 'location': 'timeMax'}]\">\n",
      "Error creating event for row 254: <HttpError 400 when requesting https://www.googleapis.com/calendar/v3/calendars/primary/events?alt=json returned \"The specified time range is empty.\". Details: \"[{'domain': 'calendar', 'reason': 'timeRangeEmpty', 'message': 'The specified time range is empty.', 'locationType': 'parameter', 'location': 'timeMax'}]\">\n",
      "Error creating event for row 255: <HttpError 400 when requesting https://www.googleapis.com/calendar/v3/calendars/primary/events?alt=json returned \"The specified time range is empty.\". Details: \"[{'domain': 'calendar', 'reason': 'timeRangeEmpty', 'message': 'The specified time range is empty.', 'locationType': 'parameter', 'location': 'timeMax'}]\">\n",
      "Event created: https://www.google.com/calendar/event?eid=NmlnNzRiNnBjcnFkZXRyYXFnMDVobmxmbGcgdGVzdC0yMTVAbHVja3ktcmVhY3Rvci00NDMzMDgtcjQuaWFtLmdzZXJ2aWNlYWNjb3VudC5jb20\n",
      "Error creating event for row 257: <HttpError 400 when requesting https://www.googleapis.com/calendar/v3/calendars/primary/events?alt=json returned \"The specified time range is empty.\". Details: \"[{'domain': 'calendar', 'reason': 'timeRangeEmpty', 'message': 'The specified time range is empty.', 'locationType': 'parameter', 'location': 'timeMax'}]\">\n",
      "Error creating event for row 258: <HttpError 400 when requesting https://www.googleapis.com/calendar/v3/calendars/primary/events?alt=json returned \"The specified time range is empty.\". Details: \"[{'domain': 'calendar', 'reason': 'timeRangeEmpty', 'message': 'The specified time range is empty.', 'locationType': 'parameter', 'location': 'timeMax'}]\">\n",
      "Error creating event for row 259: <HttpError 400 when requesting https://www.googleapis.com/calendar/v3/calendars/primary/events?alt=json returned \"The specified time range is empty.\". Details: \"[{'domain': 'calendar', 'reason': 'timeRangeEmpty', 'message': 'The specified time range is empty.', 'locationType': 'parameter', 'location': 'timeMax'}]\">\n",
      "Error creating event for row 260: <HttpError 400 when requesting https://www.googleapis.com/calendar/v3/calendars/primary/events?alt=json returned \"The specified time range is empty.\". Details: \"[{'domain': 'calendar', 'reason': 'timeRangeEmpty', 'message': 'The specified time range is empty.', 'locationType': 'parameter', 'location': 'timeMax'}]\">\n",
      "Error creating event for row 261: <HttpError 400 when requesting https://www.googleapis.com/calendar/v3/calendars/primary/events?alt=json returned \"The specified time range is empty.\". Details: \"[{'domain': 'calendar', 'reason': 'timeRangeEmpty', 'message': 'The specified time range is empty.', 'locationType': 'parameter', 'location': 'timeMax'}]\">\n",
      "Error creating event for row 262: <HttpError 400 when requesting https://www.googleapis.com/calendar/v3/calendars/primary/events?alt=json returned \"The specified time range is empty.\". Details: \"[{'domain': 'calendar', 'reason': 'timeRangeEmpty', 'message': 'The specified time range is empty.', 'locationType': 'parameter', 'location': 'timeMax'}]\">\n",
      "Error creating event for row 263: <HttpError 400 when requesting https://www.googleapis.com/calendar/v3/calendars/primary/events?alt=json returned \"The specified time range is empty.\". Details: \"[{'domain': 'calendar', 'reason': 'timeRangeEmpty', 'message': 'The specified time range is empty.', 'locationType': 'parameter', 'location': 'timeMax'}]\">\n",
      "Error creating event for row 264: <HttpError 400 when requesting https://www.googleapis.com/calendar/v3/calendars/primary/events?alt=json returned \"The specified time range is empty.\". Details: \"[{'domain': 'calendar', 'reason': 'timeRangeEmpty', 'message': 'The specified time range is empty.', 'locationType': 'parameter', 'location': 'timeMax'}]\">\n",
      "Error creating event for row 265: <HttpError 400 when requesting https://www.googleapis.com/calendar/v3/calendars/primary/events?alt=json returned \"The specified time range is empty.\". Details: \"[{'domain': 'calendar', 'reason': 'timeRangeEmpty', 'message': 'The specified time range is empty.', 'locationType': 'parameter', 'location': 'timeMax'}]\">\n",
      "Error creating event for row 266: <HttpError 400 when requesting https://www.googleapis.com/calendar/v3/calendars/primary/events?alt=json returned \"The specified time range is empty.\". Details: \"[{'domain': 'calendar', 'reason': 'timeRangeEmpty', 'message': 'The specified time range is empty.', 'locationType': 'parameter', 'location': 'timeMax'}]\">\n",
      "Error creating event for row 267: <HttpError 400 when requesting https://www.googleapis.com/calendar/v3/calendars/primary/events?alt=json returned \"The specified time range is empty.\". Details: \"[{'domain': 'calendar', 'reason': 'timeRangeEmpty', 'message': 'The specified time range is empty.', 'locationType': 'parameter', 'location': 'timeMax'}]\">\n",
      "Error creating event for row 268: <HttpError 400 when requesting https://www.googleapis.com/calendar/v3/calendars/primary/events?alt=json returned \"The specified time range is empty.\". Details: \"[{'domain': 'calendar', 'reason': 'timeRangeEmpty', 'message': 'The specified time range is empty.', 'locationType': 'parameter', 'location': 'timeMax'}]\">\n",
      "Error creating event for row 269: <HttpError 400 when requesting https://www.googleapis.com/calendar/v3/calendars/primary/events?alt=json returned \"The specified time range is empty.\". Details: \"[{'domain': 'calendar', 'reason': 'timeRangeEmpty', 'message': 'The specified time range is empty.', 'locationType': 'parameter', 'location': 'timeMax'}]\">\n",
      "Error creating event for row 270: <HttpError 400 when requesting https://www.googleapis.com/calendar/v3/calendars/primary/events?alt=json returned \"The specified time range is empty.\". Details: \"[{'domain': 'calendar', 'reason': 'timeRangeEmpty', 'message': 'The specified time range is empty.', 'locationType': 'parameter', 'location': 'timeMax'}]\">\n",
      "Error creating event for row 271: <HttpError 400 when requesting https://www.googleapis.com/calendar/v3/calendars/primary/events?alt=json returned \"The specified time range is empty.\". Details: \"[{'domain': 'calendar', 'reason': 'timeRangeEmpty', 'message': 'The specified time range is empty.', 'locationType': 'parameter', 'location': 'timeMax'}]\">\n",
      "Error creating event for row 272: <HttpError 400 when requesting https://www.googleapis.com/calendar/v3/calendars/primary/events?alt=json returned \"The specified time range is empty.\". Details: \"[{'domain': 'calendar', 'reason': 'timeRangeEmpty', 'message': 'The specified time range is empty.', 'locationType': 'parameter', 'location': 'timeMax'}]\">\n",
      "Error creating event for row 273: <HttpError 400 when requesting https://www.googleapis.com/calendar/v3/calendars/primary/events?alt=json returned \"The specified time range is empty.\". Details: \"[{'domain': 'calendar', 'reason': 'timeRangeEmpty', 'message': 'The specified time range is empty.', 'locationType': 'parameter', 'location': 'timeMax'}]\">\n",
      "Event created: https://www.google.com/calendar/event?eid=NWIxODBlZm51ZDlwNHByanRrYXQyZDl2aHMgdGVzdC0yMTVAbHVja3ktcmVhY3Rvci00NDMzMDgtcjQuaWFtLmdzZXJ2aWNlYWNjb3VudC5jb20\n",
      "Error creating event for row 275: <HttpError 400 when requesting https://www.googleapis.com/calendar/v3/calendars/primary/events?alt=json returned \"The specified time range is empty.\". Details: \"[{'domain': 'calendar', 'reason': 'timeRangeEmpty', 'message': 'The specified time range is empty.', 'locationType': 'parameter', 'location': 'timeMax'}]\">\n",
      "Error creating event for row 276: <HttpError 400 when requesting https://www.googleapis.com/calendar/v3/calendars/primary/events?alt=json returned \"The specified time range is empty.\". Details: \"[{'domain': 'calendar', 'reason': 'timeRangeEmpty', 'message': 'The specified time range is empty.', 'locationType': 'parameter', 'location': 'timeMax'}]\">\n",
      "Error creating event for row 277: <HttpError 400 when requesting https://www.googleapis.com/calendar/v3/calendars/primary/events?alt=json returned \"The specified time range is empty.\". Details: \"[{'domain': 'calendar', 'reason': 'timeRangeEmpty', 'message': 'The specified time range is empty.', 'locationType': 'parameter', 'location': 'timeMax'}]\">\n",
      "Error creating event for row 278: <HttpError 400 when requesting https://www.googleapis.com/calendar/v3/calendars/primary/events?alt=json returned \"The specified time range is empty.\". Details: \"[{'domain': 'calendar', 'reason': 'timeRangeEmpty', 'message': 'The specified time range is empty.', 'locationType': 'parameter', 'location': 'timeMax'}]\">\n"
     ]
    },
    {
     "name": "stderr",
     "output_type": "stream",
     "text": [
      "C:\\Users\\heans\\AppData\\Local\\Temp\\ipykernel_22024\\3996378728.py:43: FutureWarning: Parsed string \"2024-12-13 00:00:00T20:15\" included an un-recognized timezone \"T\". Dropping unrecognized timezones is deprecated; in a future version this will raise. Instead pass the string without the timezone, then use .tz_localize to convert to a recognized timezone.\n",
      "  start_time_obj = pd.to_datetime(start_datetime_str)\n"
     ]
    },
    {
     "name": "stdout",
     "output_type": "stream",
     "text": [
      "Error creating event for row 279: <HttpError 400 when requesting https://www.googleapis.com/calendar/v3/calendars/primary/events?alt=json returned \"The specified time range is empty.\". Details: \"[{'domain': 'calendar', 'reason': 'timeRangeEmpty', 'message': 'The specified time range is empty.', 'locationType': 'parameter', 'location': 'timeMax'}]\">\n"
     ]
    },
    {
     "name": "stderr",
     "output_type": "stream",
     "text": [
      "C:\\Users\\heans\\AppData\\Local\\Temp\\ipykernel_22024\\3996378728.py:43: FutureWarning: Parsed string \"2024-12-13 00:00:00T20:30\" included an un-recognized timezone \"T\". Dropping unrecognized timezones is deprecated; in a future version this will raise. Instead pass the string without the timezone, then use .tz_localize to convert to a recognized timezone.\n",
      "  start_time_obj = pd.to_datetime(start_datetime_str)\n"
     ]
    },
    {
     "name": "stdout",
     "output_type": "stream",
     "text": [
      "Error creating event for row 280: <HttpError 400 when requesting https://www.googleapis.com/calendar/v3/calendars/primary/events?alt=json returned \"The specified time range is empty.\". Details: \"[{'domain': 'calendar', 'reason': 'timeRangeEmpty', 'message': 'The specified time range is empty.', 'locationType': 'parameter', 'location': 'timeMax'}]\">\n",
      "Error creating event for row 281: <HttpError 400 when requesting https://www.googleapis.com/calendar/v3/calendars/primary/events?alt=json returned \"The specified time range is empty.\". Details: \"[{'domain': 'calendar', 'reason': 'timeRangeEmpty', 'message': 'The specified time range is empty.', 'locationType': 'parameter', 'location': 'timeMax'}]\">\n",
      "Error creating event for row 282: <HttpError 400 when requesting https://www.googleapis.com/calendar/v3/calendars/primary/events?alt=json returned \"The specified time range is empty.\". Details: \"[{'domain': 'calendar', 'reason': 'timeRangeEmpty', 'message': 'The specified time range is empty.', 'locationType': 'parameter', 'location': 'timeMax'}]\">\n",
      "Event created: https://www.google.com/calendar/event?eid=N2R1YXRnbTBlMG85ODdtZTZvcDRjMzNtbWMgdGVzdC0yMTVAbHVja3ktcmVhY3Rvci00NDMzMDgtcjQuaWFtLmdzZXJ2aWNlYWNjb3VudC5jb20\n",
      "Error creating event for row 284: <HttpError 400 when requesting https://www.googleapis.com/calendar/v3/calendars/primary/events?alt=json returned \"The specified time range is empty.\". Details: \"[{'domain': 'calendar', 'reason': 'timeRangeEmpty', 'message': 'The specified time range is empty.', 'locationType': 'parameter', 'location': 'timeMax'}]\">\n",
      "Event created: https://www.google.com/calendar/event?eid=ODR2cTZhNWd1dGhpYjAwcnRqMmVjaW41Y3MgdGVzdC0yMTVAbHVja3ktcmVhY3Rvci00NDMzMDgtcjQuaWFtLmdzZXJ2aWNlYWNjb3VudC5jb20\n",
      "Error creating event for row 286: <HttpError 400 when requesting https://www.googleapis.com/calendar/v3/calendars/primary/events?alt=json returned \"The specified time range is empty.\". Details: \"[{'domain': 'calendar', 'reason': 'timeRangeEmpty', 'message': 'The specified time range is empty.', 'locationType': 'parameter', 'location': 'timeMax'}]\">\n",
      "Error creating event for row 287: <HttpError 400 when requesting https://www.googleapis.com/calendar/v3/calendars/primary/events?alt=json returned \"The specified time range is empty.\". Details: \"[{'domain': 'calendar', 'reason': 'timeRangeEmpty', 'message': 'The specified time range is empty.', 'locationType': 'parameter', 'location': 'timeMax'}]\">\n",
      "Error creating event for row 288: <HttpError 400 when requesting https://www.googleapis.com/calendar/v3/calendars/primary/events?alt=json returned \"The specified time range is empty.\". Details: \"[{'domain': 'calendar', 'reason': 'timeRangeEmpty', 'message': 'The specified time range is empty.', 'locationType': 'parameter', 'location': 'timeMax'}]\">\n",
      "Error creating event for row 289: <HttpError 400 when requesting https://www.googleapis.com/calendar/v3/calendars/primary/events?alt=json returned \"The specified time range is empty.\". Details: \"[{'domain': 'calendar', 'reason': 'timeRangeEmpty', 'message': 'The specified time range is empty.', 'locationType': 'parameter', 'location': 'timeMax'}]\">\n"
     ]
    },
    {
     "name": "stderr",
     "output_type": "stream",
     "text": [
      "C:\\Users\\heans\\AppData\\Local\\Temp\\ipykernel_22024\\3996378728.py:43: FutureWarning: Parsed string \"2024-12-13 00:00:00T21:00\" included an un-recognized timezone \"T\". Dropping unrecognized timezones is deprecated; in a future version this will raise. Instead pass the string without the timezone, then use .tz_localize to convert to a recognized timezone.\n",
      "  start_time_obj = pd.to_datetime(start_datetime_str)\n"
     ]
    },
    {
     "name": "stdout",
     "output_type": "stream",
     "text": [
      "Error creating event for row 290: <HttpError 400 when requesting https://www.googleapis.com/calendar/v3/calendars/primary/events?alt=json returned \"The specified time range is empty.\". Details: \"[{'domain': 'calendar', 'reason': 'timeRangeEmpty', 'message': 'The specified time range is empty.', 'locationType': 'parameter', 'location': 'timeMax'}]\">\n",
      "Error creating event for row 291: <HttpError 400 when requesting https://www.googleapis.com/calendar/v3/calendars/primary/events?alt=json returned \"The specified time range is empty.\". Details: \"[{'domain': 'calendar', 'reason': 'timeRangeEmpty', 'message': 'The specified time range is empty.', 'locationType': 'parameter', 'location': 'timeMax'}]\">\n",
      "Error creating event for row 292: <HttpError 400 when requesting https://www.googleapis.com/calendar/v3/calendars/primary/events?alt=json returned \"The specified time range is empty.\". Details: \"[{'domain': 'calendar', 'reason': 'timeRangeEmpty', 'message': 'The specified time range is empty.', 'locationType': 'parameter', 'location': 'timeMax'}]\">\n",
      "Error creating event for row 293: <HttpError 400 when requesting https://www.googleapis.com/calendar/v3/calendars/primary/events?alt=json returned \"The specified time range is empty.\". Details: \"[{'domain': 'calendar', 'reason': 'timeRangeEmpty', 'message': 'The specified time range is empty.', 'locationType': 'parameter', 'location': 'timeMax'}]\">\n",
      "Error creating event for row 294: <HttpError 400 when requesting https://www.googleapis.com/calendar/v3/calendars/primary/events?alt=json returned \"The specified time range is empty.\". Details: \"[{'domain': 'calendar', 'reason': 'timeRangeEmpty', 'message': 'The specified time range is empty.', 'locationType': 'parameter', 'location': 'timeMax'}]\">\n",
      "Error creating event for row 295: <HttpError 400 when requesting https://www.googleapis.com/calendar/v3/calendars/primary/events?alt=json returned \"The specified time range is empty.\". Details: \"[{'domain': 'calendar', 'reason': 'timeRangeEmpty', 'message': 'The specified time range is empty.', 'locationType': 'parameter', 'location': 'timeMax'}]\">\n",
      "Error creating event for row 296: <HttpError 400 when requesting https://www.googleapis.com/calendar/v3/calendars/primary/events?alt=json returned \"The specified time range is empty.\". Details: \"[{'domain': 'calendar', 'reason': 'timeRangeEmpty', 'message': 'The specified time range is empty.', 'locationType': 'parameter', 'location': 'timeMax'}]\">\n",
      "Error creating event for row 297: <HttpError 400 when requesting https://www.googleapis.com/calendar/v3/calendars/primary/events?alt=json returned \"The specified time range is empty.\". Details: \"[{'domain': 'calendar', 'reason': 'timeRangeEmpty', 'message': 'The specified time range is empty.', 'locationType': 'parameter', 'location': 'timeMax'}]\">\n",
      "Error creating event for row 298: <HttpError 400 when requesting https://www.googleapis.com/calendar/v3/calendars/primary/events?alt=json returned \"The specified time range is empty.\". Details: \"[{'domain': 'calendar', 'reason': 'timeRangeEmpty', 'message': 'The specified time range is empty.', 'locationType': 'parameter', 'location': 'timeMax'}]\">\n",
      "Error creating event for row 299: <HttpError 400 when requesting https://www.googleapis.com/calendar/v3/calendars/primary/events?alt=json returned \"The specified time range is empty.\". Details: \"[{'domain': 'calendar', 'reason': 'timeRangeEmpty', 'message': 'The specified time range is empty.', 'locationType': 'parameter', 'location': 'timeMax'}]\">\n",
      "Error creating event for row 300: <HttpError 400 when requesting https://www.googleapis.com/calendar/v3/calendars/primary/events?alt=json returned \"The specified time range is empty.\". Details: \"[{'domain': 'calendar', 'reason': 'timeRangeEmpty', 'message': 'The specified time range is empty.', 'locationType': 'parameter', 'location': 'timeMax'}]\">\n",
      "Error creating event for row 301: <HttpError 400 when requesting https://www.googleapis.com/calendar/v3/calendars/primary/events?alt=json returned \"The specified time range is empty.\". Details: \"[{'domain': 'calendar', 'reason': 'timeRangeEmpty', 'message': 'The specified time range is empty.', 'locationType': 'parameter', 'location': 'timeMax'}]\">\n",
      "Error creating event for row 302: <HttpError 400 when requesting https://www.googleapis.com/calendar/v3/calendars/primary/events?alt=json returned \"The specified time range is empty.\". Details: \"[{'domain': 'calendar', 'reason': 'timeRangeEmpty', 'message': 'The specified time range is empty.', 'locationType': 'parameter', 'location': 'timeMax'}]\">\n"
     ]
    },
    {
     "name": "stderr",
     "output_type": "stream",
     "text": [
      "C:\\Users\\heans\\AppData\\Local\\Temp\\ipykernel_22024\\3996378728.py:43: FutureWarning: Parsed string \"2024-12-13 00:00:00T21:30\" included an un-recognized timezone \"T\". Dropping unrecognized timezones is deprecated; in a future version this will raise. Instead pass the string without the timezone, then use .tz_localize to convert to a recognized timezone.\n",
      "  start_time_obj = pd.to_datetime(start_datetime_str)\n"
     ]
    },
    {
     "name": "stdout",
     "output_type": "stream",
     "text": [
      "Error creating event for row 303: <HttpError 400 when requesting https://www.googleapis.com/calendar/v3/calendars/primary/events?alt=json returned \"The specified time range is empty.\". Details: \"[{'domain': 'calendar', 'reason': 'timeRangeEmpty', 'message': 'The specified time range is empty.', 'locationType': 'parameter', 'location': 'timeMax'}]\">\n"
     ]
    },
    {
     "name": "stderr",
     "output_type": "stream",
     "text": [
      "C:\\Users\\heans\\AppData\\Local\\Temp\\ipykernel_22024\\3996378728.py:43: FutureWarning: Parsed string \"2024-12-13 00:00:00T22:00\" included an un-recognized timezone \"T\". Dropping unrecognized timezones is deprecated; in a future version this will raise. Instead pass the string without the timezone, then use .tz_localize to convert to a recognized timezone.\n",
      "  start_time_obj = pd.to_datetime(start_datetime_str)\n"
     ]
    },
    {
     "name": "stdout",
     "output_type": "stream",
     "text": [
      "Error creating event for row 304: <HttpError 400 when requesting https://www.googleapis.com/calendar/v3/calendars/primary/events?alt=json returned \"The specified time range is empty.\". Details: \"[{'domain': 'calendar', 'reason': 'timeRangeEmpty', 'message': 'The specified time range is empty.', 'locationType': 'parameter', 'location': 'timeMax'}]\">\n",
      "Error creating event for row 305: <HttpError 400 when requesting https://www.googleapis.com/calendar/v3/calendars/primary/events?alt=json returned \"The specified time range is empty.\". Details: \"[{'domain': 'calendar', 'reason': 'timeRangeEmpty', 'message': 'The specified time range is empty.', 'locationType': 'parameter', 'location': 'timeMax'}]\">\n",
      "Error creating event for row 306: <HttpError 400 when requesting https://www.googleapis.com/calendar/v3/calendars/primary/events?alt=json returned \"The specified time range is empty.\". Details: \"[{'domain': 'calendar', 'reason': 'timeRangeEmpty', 'message': 'The specified time range is empty.', 'locationType': 'parameter', 'location': 'timeMax'}]\">\n",
      "Error creating event for row 307: <HttpError 400 when requesting https://www.googleapis.com/calendar/v3/calendars/primary/events?alt=json returned \"The specified time range is empty.\". Details: \"[{'domain': 'calendar', 'reason': 'timeRangeEmpty', 'message': 'The specified time range is empty.', 'locationType': 'parameter', 'location': 'timeMax'}]\">\n",
      "Error creating event for row 308: <HttpError 400 when requesting https://www.googleapis.com/calendar/v3/calendars/primary/events?alt=json returned \"The specified time range is empty.\". Details: \"[{'domain': 'calendar', 'reason': 'timeRangeEmpty', 'message': 'The specified time range is empty.', 'locationType': 'parameter', 'location': 'timeMax'}]\">\n",
      "Error creating event for row 309: <HttpError 400 when requesting https://www.googleapis.com/calendar/v3/calendars/primary/events?alt=json returned \"The specified time range is empty.\". Details: \"[{'domain': 'calendar', 'reason': 'timeRangeEmpty', 'message': 'The specified time range is empty.', 'locationType': 'parameter', 'location': 'timeMax'}]\">\n",
      "Error creating event for row 310: <HttpError 400 when requesting https://www.googleapis.com/calendar/v3/calendars/primary/events?alt=json returned \"The specified time range is empty.\". Details: \"[{'domain': 'calendar', 'reason': 'timeRangeEmpty', 'message': 'The specified time range is empty.', 'locationType': 'parameter', 'location': 'timeMax'}]\">\n"
     ]
    },
    {
     "name": "stderr",
     "output_type": "stream",
     "text": [
      "C:\\Users\\heans\\AppData\\Local\\Temp\\ipykernel_22024\\3996378728.py:43: FutureWarning: Parsed string \"2024-12-13 00:00:00T23:00\" included an un-recognized timezone \"T\". Dropping unrecognized timezones is deprecated; in a future version this will raise. Instead pass the string without the timezone, then use .tz_localize to convert to a recognized timezone.\n",
      "  start_time_obj = pd.to_datetime(start_datetime_str)\n"
     ]
    },
    {
     "name": "stdout",
     "output_type": "stream",
     "text": [
      "Error creating event for row 311: <HttpError 400 when requesting https://www.googleapis.com/calendar/v3/calendars/primary/events?alt=json returned \"The specified time range is empty.\". Details: \"[{'domain': 'calendar', 'reason': 'timeRangeEmpty', 'message': 'The specified time range is empty.', 'locationType': 'parameter', 'location': 'timeMax'}]\">\n",
      "Error creating event for row 312: <HttpError 400 when requesting https://www.googleapis.com/calendar/v3/calendars/primary/events?alt=json returned \"The specified time range is empty.\". Details: \"[{'domain': 'calendar', 'reason': 'timeRangeEmpty', 'message': 'The specified time range is empty.', 'locationType': 'parameter', 'location': 'timeMax'}]\">\n",
      "Error creating event for row 313: <HttpError 400 when requesting https://www.googleapis.com/calendar/v3/calendars/primary/events?alt=json returned \"The specified time range is empty.\". Details: \"[{'domain': 'calendar', 'reason': 'timeRangeEmpty', 'message': 'The specified time range is empty.', 'locationType': 'parameter', 'location': 'timeMax'}]\">\n",
      "Error creating event for row 314: <HttpError 400 when requesting https://www.googleapis.com/calendar/v3/calendars/primary/events?alt=json returned \"The specified time range is empty.\". Details: \"[{'domain': 'calendar', 'reason': 'timeRangeEmpty', 'message': 'The specified time range is empty.', 'locationType': 'parameter', 'location': 'timeMax'}]\">\n",
      "Error creating event for row 315: <HttpError 400 when requesting https://www.googleapis.com/calendar/v3/calendars/primary/events?alt=json returned \"The specified time range is empty.\". Details: \"[{'domain': 'calendar', 'reason': 'timeRangeEmpty', 'message': 'The specified time range is empty.', 'locationType': 'parameter', 'location': 'timeMax'}]\">\n",
      "Error creating event for row 316: <HttpError 400 when requesting https://www.googleapis.com/calendar/v3/calendars/primary/events?alt=json returned \"The specified time range is empty.\". Details: \"[{'domain': 'calendar', 'reason': 'timeRangeEmpty', 'message': 'The specified time range is empty.', 'locationType': 'parameter', 'location': 'timeMax'}]\">\n",
      "Error creating event for row 317: <HttpError 400 when requesting https://www.googleapis.com/calendar/v3/calendars/primary/events?alt=json returned \"The specified time range is empty.\". Details: \"[{'domain': 'calendar', 'reason': 'timeRangeEmpty', 'message': 'The specified time range is empty.', 'locationType': 'parameter', 'location': 'timeMax'}]\">\n",
      "Error creating event for row 318: <HttpError 400 when requesting https://www.googleapis.com/calendar/v3/calendars/primary/events?alt=json returned \"The specified time range is empty.\". Details: \"[{'domain': 'calendar', 'reason': 'timeRangeEmpty', 'message': 'The specified time range is empty.', 'locationType': 'parameter', 'location': 'timeMax'}]\">\n"
     ]
    },
    {
     "name": "stderr",
     "output_type": "stream",
     "text": [
      "C:\\Users\\heans\\AppData\\Local\\Temp\\ipykernel_22024\\3996378728.py:43: FutureWarning: Parsed string \"2024-12-13 00:00:00T23:30\" included an un-recognized timezone \"T\". Dropping unrecognized timezones is deprecated; in a future version this will raise. Instead pass the string without the timezone, then use .tz_localize to convert to a recognized timezone.\n",
      "  start_time_obj = pd.to_datetime(start_datetime_str)\n"
     ]
    },
    {
     "name": "stdout",
     "output_type": "stream",
     "text": [
      "Error creating event for row 319: <HttpError 400 when requesting https://www.googleapis.com/calendar/v3/calendars/primary/events?alt=json returned \"The specified time range is empty.\". Details: \"[{'domain': 'calendar', 'reason': 'timeRangeEmpty', 'message': 'The specified time range is empty.', 'locationType': 'parameter', 'location': 'timeMax'}]\">\n",
      "Error creating event for row 320: <HttpError 400 when requesting https://www.googleapis.com/calendar/v3/calendars/primary/events?alt=json returned \"The specified time range is empty.\". Details: \"[{'domain': 'calendar', 'reason': 'timeRangeEmpty', 'message': 'The specified time range is empty.', 'locationType': 'parameter', 'location': 'timeMax'}]\">\n",
      "Error creating event for row 321: <HttpError 400 when requesting https://www.googleapis.com/calendar/v3/calendars/primary/events?alt=json returned \"The specified time range is empty.\". Details: \"[{'domain': 'calendar', 'reason': 'timeRangeEmpty', 'message': 'The specified time range is empty.', 'locationType': 'parameter', 'location': 'timeMax'}]\">\n"
     ]
    },
    {
     "name": "stderr",
     "output_type": "stream",
     "text": [
      "C:\\Users\\heans\\AppData\\Local\\Temp\\ipykernel_22024\\3996378728.py:43: FutureWarning: Parsed string \"2024-12-13 00:00:00T23:59\" included an un-recognized timezone \"T\". Dropping unrecognized timezones is deprecated; in a future version this will raise. Instead pass the string without the timezone, then use .tz_localize to convert to a recognized timezone.\n",
      "  start_time_obj = pd.to_datetime(start_datetime_str)\n"
     ]
    },
    {
     "name": "stdout",
     "output_type": "stream",
     "text": [
      "Error creating event for row 322: <HttpError 400 when requesting https://www.googleapis.com/calendar/v3/calendars/primary/events?alt=json returned \"The specified time range is empty.\". Details: \"[{'domain': 'calendar', 'reason': 'timeRangeEmpty', 'message': 'The specified time range is empty.', 'locationType': 'parameter', 'location': 'timeMax'}]\">\n",
      "Error creating event for row 323: <HttpError 400 when requesting https://www.googleapis.com/calendar/v3/calendars/primary/events?alt=json returned \"The specified time range is empty.\". Details: \"[{'domain': 'calendar', 'reason': 'timeRangeEmpty', 'message': 'The specified time range is empty.', 'locationType': 'parameter', 'location': 'timeMax'}]\">\n",
      "Error creating event for row 324: Unknown datetime string format, unable to parse: 2024-12-13 00:00:00Tganztägig, at position 0\n",
      "Error creating event for row 325: Unknown datetime string format, unable to parse: 2024-12-13 00:00:00Tganztägig, at position 0\n"
     ]
    },
    {
     "name": "stderr",
     "output_type": "stream",
     "text": [
      "C:\\Users\\heans\\AppData\\Local\\Temp\\ipykernel_22024\\3996378728.py:43: FutureWarning: Parsed string \"2024-12-14 00:00:00T \" included an un-recognized timezone \"T\". Dropping unrecognized timezones is deprecated; in a future version this will raise. Instead pass the string without the timezone, then use .tz_localize to convert to a recognized timezone.\n",
      "  start_time_obj = pd.to_datetime(start_datetime_str)\n"
     ]
    },
    {
     "name": "stdout",
     "output_type": "stream",
     "text": [
      "Event created: https://www.google.com/calendar/event?eid=bG9ycHFia3ZjcnAzZnV1cDk0MGQ0ZDRrOWsgdGVzdC0yMTVAbHVja3ktcmVhY3Rvci00NDMzMDgtcjQuaWFtLmdzZXJ2aWNlYWNjb3VudC5jb20\n",
      "Event created: https://www.google.com/calendar/event?eid=Zms2ZzBqbDc0NGJiMnY5Y211NmJuOXI1bmMgdGVzdC0yMTVAbHVja3ktcmVhY3Rvci00NDMzMDgtcjQuaWFtLmdzZXJ2aWNlYWNjb3VudC5jb20\n",
      "Event created: https://www.google.com/calendar/event?eid=Z2F1M2tjbmtkZzAxcXNzbTRzMHFvNjQ1c3MgdGVzdC0yMTVAbHVja3ktcmVhY3Rvci00NDMzMDgtcjQuaWFtLmdzZXJ2aWNlYWNjb3VudC5jb20\n",
      "Error creating event for row 329: <HttpError 400 when requesting https://www.googleapis.com/calendar/v3/calendars/primary/events?alt=json returned \"The specified time range is empty.\". Details: \"[{'domain': 'calendar', 'reason': 'timeRangeEmpty', 'message': 'The specified time range is empty.', 'locationType': 'parameter', 'location': 'timeMax'}]\">\n"
     ]
    },
    {
     "name": "stderr",
     "output_type": "stream",
     "text": [
      "C:\\Users\\heans\\AppData\\Local\\Temp\\ipykernel_22024\\3996378728.py:43: FutureWarning: Parsed string \"2024-12-14 00:00:00T00:01\" included an un-recognized timezone \"T\". Dropping unrecognized timezones is deprecated; in a future version this will raise. Instead pass the string without the timezone, then use .tz_localize to convert to a recognized timezone.\n",
      "  start_time_obj = pd.to_datetime(start_datetime_str)\n",
      "C:\\Users\\heans\\AppData\\Local\\Temp\\ipykernel_22024\\3996378728.py:43: FutureWarning: Parsed string \"2024-12-14 00:00:00T07:00\" included an un-recognized timezone \"T\". Dropping unrecognized timezones is deprecated; in a future version this will raise. Instead pass the string without the timezone, then use .tz_localize to convert to a recognized timezone.\n",
      "  start_time_obj = pd.to_datetime(start_datetime_str)\n"
     ]
    },
    {
     "name": "stdout",
     "output_type": "stream",
     "text": [
      "Event created: https://www.google.com/calendar/event?eid=MW00N2pvYTc0YjNlYmpkZjVtYzVoNzExZGsgdGVzdC0yMTVAbHVja3ktcmVhY3Rvci00NDMzMDgtcjQuaWFtLmdzZXJ2aWNlYWNjb3VudC5jb20\n",
      "Event created: https://www.google.com/calendar/event?eid=MjU2cDl2MXVodDNxam1mOWhtcG80dHNyZTggdGVzdC0yMTVAbHVja3ktcmVhY3Rvci00NDMzMDgtcjQuaWFtLmdzZXJ2aWNlYWNjb3VudC5jb20\n",
      "Event created: https://www.google.com/calendar/event?eid=Y245ZjN2cml2YThzbThzajg1ajE5NXZ2OWMgdGVzdC0yMTVAbHVja3ktcmVhY3Rvci00NDMzMDgtcjQuaWFtLmdzZXJ2aWNlYWNjb3VudC5jb20\n",
      "Event created: https://www.google.com/calendar/event?eid=Y3NyN3NwcTFidm9mMjhmZWxlcWlxMHI3c2cgdGVzdC0yMTVAbHVja3ktcmVhY3Rvci00NDMzMDgtcjQuaWFtLmdzZXJ2aWNlYWNjb3VudC5jb20\n"
     ]
    },
    {
     "name": "stderr",
     "output_type": "stream",
     "text": [
      "C:\\Users\\heans\\AppData\\Local\\Temp\\ipykernel_22024\\3996378728.py:43: FutureWarning: Parsed string \"2024-12-14 00:00:00T07:30\" included an un-recognized timezone \"T\". Dropping unrecognized timezones is deprecated; in a future version this will raise. Instead pass the string without the timezone, then use .tz_localize to convert to a recognized timezone.\n",
      "  start_time_obj = pd.to_datetime(start_datetime_str)\n"
     ]
    },
    {
     "name": "stdout",
     "output_type": "stream",
     "text": [
      "Event created: https://www.google.com/calendar/event?eid=ZW5vZWtyaDlhMTJnajEzczYxc3BjbHE0dDAgdGVzdC0yMTVAbHVja3ktcmVhY3Rvci00NDMzMDgtcjQuaWFtLmdzZXJ2aWNlYWNjb3VudC5jb20\n"
     ]
    },
    {
     "name": "stderr",
     "output_type": "stream",
     "text": [
      "C:\\Users\\heans\\AppData\\Local\\Temp\\ipykernel_22024\\3996378728.py:43: FutureWarning: Parsed string \"2024-12-14 00:00:00T08:00\" included an un-recognized timezone \"T\". Dropping unrecognized timezones is deprecated; in a future version this will raise. Instead pass the string without the timezone, then use .tz_localize to convert to a recognized timezone.\n",
      "  start_time_obj = pd.to_datetime(start_datetime_str)\n"
     ]
    },
    {
     "name": "stdout",
     "output_type": "stream",
     "text": [
      "Event created: https://www.google.com/calendar/event?eid=czAzbGRoOGMzOHVmdGNrNXAwaGVhZnBuZnMgdGVzdC0yMTVAbHVja3ktcmVhY3Rvci00NDMzMDgtcjQuaWFtLmdzZXJ2aWNlYWNjb3VudC5jb20\n",
      "Error creating event for row 336: <HttpError 400 when requesting https://www.googleapis.com/calendar/v3/calendars/primary/events?alt=json returned \"The specified time range is empty.\". Details: \"[{'domain': 'calendar', 'reason': 'timeRangeEmpty', 'message': 'The specified time range is empty.', 'locationType': 'parameter', 'location': 'timeMax'}]\">\n"
     ]
    },
    {
     "name": "stderr",
     "output_type": "stream",
     "text": [
      "C:\\Users\\heans\\AppData\\Local\\Temp\\ipykernel_22024\\3996378728.py:43: FutureWarning: Parsed string \"2024-12-14 00:00:00T09:00\" included an un-recognized timezone \"T\". Dropping unrecognized timezones is deprecated; in a future version this will raise. Instead pass the string without the timezone, then use .tz_localize to convert to a recognized timezone.\n",
      "  start_time_obj = pd.to_datetime(start_datetime_str)\n"
     ]
    },
    {
     "name": "stdout",
     "output_type": "stream",
     "text": [
      "Event created: https://www.google.com/calendar/event?eid=anFjcW04b3VqZ3V2c28zbXBwMjFrZjVpY2MgdGVzdC0yMTVAbHVja3ktcmVhY3Rvci00NDMzMDgtcjQuaWFtLmdzZXJ2aWNlYWNjb3VudC5jb20\n",
      "Event created: https://www.google.com/calendar/event?eid=OXExZGdjaWdkdjdlYm9wbW0wYXRqZWIxaGsgdGVzdC0yMTVAbHVja3ktcmVhY3Rvci00NDMzMDgtcjQuaWFtLmdzZXJ2aWNlYWNjb3VudC5jb20\n",
      "Event created: https://www.google.com/calendar/event?eid=YmEwNWhwanYwc2luajdpbnRwNWE2bjhyNmsgdGVzdC0yMTVAbHVja3ktcmVhY3Rvci00NDMzMDgtcjQuaWFtLmdzZXJ2aWNlYWNjb3VudC5jb20\n",
      "Event created: https://www.google.com/calendar/event?eid=ZDdqdGYyMGlkaDRwaGo3Nm03bnNjYjE2YWcgdGVzdC0yMTVAbHVja3ktcmVhY3Rvci00NDMzMDgtcjQuaWFtLmdzZXJ2aWNlYWNjb3VudC5jb20\n",
      "Error creating event for row 341: <HttpError 400 when requesting https://www.googleapis.com/calendar/v3/calendars/primary/events?alt=json returned \"The specified time range is empty.\". Details: \"[{'domain': 'calendar', 'reason': 'timeRangeEmpty', 'message': 'The specified time range is empty.', 'locationType': 'parameter', 'location': 'timeMax'}]\">\n"
     ]
    },
    {
     "name": "stderr",
     "output_type": "stream",
     "text": [
      "C:\\Users\\heans\\AppData\\Local\\Temp\\ipykernel_22024\\3996378728.py:43: FutureWarning: Parsed string \"2024-12-14 00:00:00T09:30\" included an un-recognized timezone \"T\". Dropping unrecognized timezones is deprecated; in a future version this will raise. Instead pass the string without the timezone, then use .tz_localize to convert to a recognized timezone.\n",
      "  start_time_obj = pd.to_datetime(start_datetime_str)\n"
     ]
    },
    {
     "name": "stdout",
     "output_type": "stream",
     "text": [
      "Error creating event for row 342: <HttpError 400 when requesting https://www.googleapis.com/calendar/v3/calendars/primary/events?alt=json returned \"The specified time range is empty.\". Details: \"[{'domain': 'calendar', 'reason': 'timeRangeEmpty', 'message': 'The specified time range is empty.', 'locationType': 'parameter', 'location': 'timeMax'}]\">\n"
     ]
    },
    {
     "name": "stderr",
     "output_type": "stream",
     "text": [
      "C:\\Users\\heans\\AppData\\Local\\Temp\\ipykernel_22024\\3996378728.py:43: FutureWarning: Parsed string \"2024-12-14 00:00:00T10:00\" included an un-recognized timezone \"T\". Dropping unrecognized timezones is deprecated; in a future version this will raise. Instead pass the string without the timezone, then use .tz_localize to convert to a recognized timezone.\n",
      "  start_time_obj = pd.to_datetime(start_datetime_str)\n"
     ]
    },
    {
     "name": "stdout",
     "output_type": "stream",
     "text": [
      "Event created: https://www.google.com/calendar/event?eid=OTdsMW9zNHZtM3F1azlobW03amZtOTdpdDAgdGVzdC0yMTVAbHVja3ktcmVhY3Rvci00NDMzMDgtcjQuaWFtLmdzZXJ2aWNlYWNjb3VudC5jb20\n",
      "Event created: https://www.google.com/calendar/event?eid=OTBhZTZsczJsNThzZjdzY2MwdTBibHExcWcgdGVzdC0yMTVAbHVja3ktcmVhY3Rvci00NDMzMDgtcjQuaWFtLmdzZXJ2aWNlYWNjb3VudC5jb20\n",
      "Event created: https://www.google.com/calendar/event?eid=OTdxMnVncXZkdGpzcW9nZ21vcmhsbDdvZTQgdGVzdC0yMTVAbHVja3ktcmVhY3Rvci00NDMzMDgtcjQuaWFtLmdzZXJ2aWNlYWNjb3VudC5jb20\n",
      "Event created: https://www.google.com/calendar/event?eid=Mm1lbWhuNzh1ZGNxNHYwZmlrMmdhb2UzYXMgdGVzdC0yMTVAbHVja3ktcmVhY3Rvci00NDMzMDgtcjQuaWFtLmdzZXJ2aWNlYWNjb3VudC5jb20\n",
      "Event created: https://www.google.com/calendar/event?eid=NWs0bTdqZ2g5MXVna21xOXM1aHU0Z21lYjggdGVzdC0yMTVAbHVja3ktcmVhY3Rvci00NDMzMDgtcjQuaWFtLmdzZXJ2aWNlYWNjb3VudC5jb20\n",
      "Event created: https://www.google.com/calendar/event?eid=bjVjMjFtYjFkbmE2dDZsMnJlamYyYzhlaGcgdGVzdC0yMTVAbHVja3ktcmVhY3Rvci00NDMzMDgtcjQuaWFtLmdzZXJ2aWNlYWNjb3VudC5jb20\n",
      "Event created: https://www.google.com/calendar/event?eid=cWNrZDdrbm5rbGJzZWZjYmdhdnNrcWFyczQgdGVzdC0yMTVAbHVja3ktcmVhY3Rvci00NDMzMDgtcjQuaWFtLmdzZXJ2aWNlYWNjb3VudC5jb20\n",
      "Event created: https://www.google.com/calendar/event?eid=anN2cjg0ZXRoZ212NXNrZmM0ZTUxNzB0djggdGVzdC0yMTVAbHVja3ktcmVhY3Rvci00NDMzMDgtcjQuaWFtLmdzZXJ2aWNlYWNjb3VudC5jb20\n",
      "Error creating event for row 351: <HttpError 400 when requesting https://www.googleapis.com/calendar/v3/calendars/primary/events?alt=json returned \"The specified time range is empty.\". Details: \"[{'domain': 'calendar', 'reason': 'timeRangeEmpty', 'message': 'The specified time range is empty.', 'locationType': 'parameter', 'location': 'timeMax'}]\">\n",
      "Event created: https://www.google.com/calendar/event?eid=aTk5azRyYjVqbW5vMmtqbnEzaHQ5YzZvYmMgdGVzdC0yMTVAbHVja3ktcmVhY3Rvci00NDMzMDgtcjQuaWFtLmdzZXJ2aWNlYWNjb3VudC5jb20\n",
      "Event created: https://www.google.com/calendar/event?eid=ZWFsNHZocGR1MDQzZTNrbjdkNnVkMDVvNGcgdGVzdC0yMTVAbHVja3ktcmVhY3Rvci00NDMzMDgtcjQuaWFtLmdzZXJ2aWNlYWNjb3VudC5jb20\n",
      "Event created: https://www.google.com/calendar/event?eid=N2UwNjdrcjhkZHJqZHZqc3ZzMmw1MnIwaXMgdGVzdC0yMTVAbHVja3ktcmVhY3Rvci00NDMzMDgtcjQuaWFtLmdzZXJ2aWNlYWNjb3VudC5jb20\n",
      "Event created: https://www.google.com/calendar/event?eid=ZHIwY2Zjc3E4bzBibGYyMDIzcnQxbG1zYWMgdGVzdC0yMTVAbHVja3ktcmVhY3Rvci00NDMzMDgtcjQuaWFtLmdzZXJ2aWNlYWNjb3VudC5jb20\n",
      "Event created: https://www.google.com/calendar/event?eid=a2plMWRjcWhzbm1jZTVkazdmdm1jdDc3bDAgdGVzdC0yMTVAbHVja3ktcmVhY3Rvci00NDMzMDgtcjQuaWFtLmdzZXJ2aWNlYWNjb3VudC5jb20\n",
      "Event created: https://www.google.com/calendar/event?eid=aXE4NjE0YmVkc2M0dDFqY2YxMDNkdDJhZW8gdGVzdC0yMTVAbHVja3ktcmVhY3Rvci00NDMzMDgtcjQuaWFtLmdzZXJ2aWNlYWNjb3VudC5jb20\n",
      "Event created: https://www.google.com/calendar/event?eid=OTRkZmJ2MjJhMTltMWZrZjVvczkwbmdzNHMgdGVzdC0yMTVAbHVja3ktcmVhY3Rvci00NDMzMDgtcjQuaWFtLmdzZXJ2aWNlYWNjb3VudC5jb20\n",
      "Error creating event for row 359: <HttpError 400 when requesting https://www.googleapis.com/calendar/v3/calendars/primary/events?alt=json returned \"The specified time range is empty.\". Details: \"[{'domain': 'calendar', 'reason': 'timeRangeEmpty', 'message': 'The specified time range is empty.', 'locationType': 'parameter', 'location': 'timeMax'}]\">\n",
      "Event created: https://www.google.com/calendar/event?eid=MXZjMjA3Ym0xOWpyOWpyZWZ0ZG1jcWg0aGcgdGVzdC0yMTVAbHVja3ktcmVhY3Rvci00NDMzMDgtcjQuaWFtLmdzZXJ2aWNlYWNjb3VudC5jb20\n",
      "Event created: https://www.google.com/calendar/event?eid=aWw0MmE1ZzZtNTYwcGR0dmEwY2dyMzZwcm8gdGVzdC0yMTVAbHVja3ktcmVhY3Rvci00NDMzMDgtcjQuaWFtLmdzZXJ2aWNlYWNjb3VudC5jb20\n",
      "Event created: https://www.google.com/calendar/event?eid=c3AybzFtZW1tYmUwMXMyM2cwZTBsazgwNHMgdGVzdC0yMTVAbHVja3ktcmVhY3Rvci00NDMzMDgtcjQuaWFtLmdzZXJ2aWNlYWNjb3VudC5jb20\n",
      "Error creating event for row 363: <HttpError 400 when requesting https://www.googleapis.com/calendar/v3/calendars/primary/events?alt=json returned \"The specified time range is empty.\". Details: \"[{'domain': 'calendar', 'reason': 'timeRangeEmpty', 'message': 'The specified time range is empty.', 'locationType': 'parameter', 'location': 'timeMax'}]\">\n",
      "Error creating event for row 364: <HttpError 400 when requesting https://www.googleapis.com/calendar/v3/calendars/primary/events?alt=json returned \"The specified time range is empty.\". Details: \"[{'domain': 'calendar', 'reason': 'timeRangeEmpty', 'message': 'The specified time range is empty.', 'locationType': 'parameter', 'location': 'timeMax'}]\">\n",
      "Event created: https://www.google.com/calendar/event?eid=c28wYnVpNHVnYWxpMGdoamxsa284ZnYxODAgdGVzdC0yMTVAbHVja3ktcmVhY3Rvci00NDMzMDgtcjQuaWFtLmdzZXJ2aWNlYWNjb3VudC5jb20\n",
      "Event created: https://www.google.com/calendar/event?eid=Y29nMmRraGYwMGhpbm9mM3Y5aXQzdHNjMTggdGVzdC0yMTVAbHVja3ktcmVhY3Rvci00NDMzMDgtcjQuaWFtLmdzZXJ2aWNlYWNjb3VudC5jb20\n",
      "Event created: https://www.google.com/calendar/event?eid=cTUxOWpjZmhtYzU5OGNuMjlyMHZtYm1nZWcgdGVzdC0yMTVAbHVja3ktcmVhY3Rvci00NDMzMDgtcjQuaWFtLmdzZXJ2aWNlYWNjb3VudC5jb20\n",
      "Event created: https://www.google.com/calendar/event?eid=MzE1YmlvczU1Mzhta2o2bDRwM2hvaTM4NzAgdGVzdC0yMTVAbHVja3ktcmVhY3Rvci00NDMzMDgtcjQuaWFtLmdzZXJ2aWNlYWNjb3VudC5jb20\n",
      "Event created: https://www.google.com/calendar/event?eid=aTNubjdhMWVyaDB2dGYwZ3JqcWMwbnFnNDQgdGVzdC0yMTVAbHVja3ktcmVhY3Rvci00NDMzMDgtcjQuaWFtLmdzZXJ2aWNlYWNjb3VudC5jb20\n",
      "Event created: https://www.google.com/calendar/event?eid=aWJua280bjY4aGI4bm0xNHBqNGgxYW5sNjggdGVzdC0yMTVAbHVja3ktcmVhY3Rvci00NDMzMDgtcjQuaWFtLmdzZXJ2aWNlYWNjb3VudC5jb20\n"
     ]
    },
    {
     "name": "stderr",
     "output_type": "stream",
     "text": [
      "C:\\Users\\heans\\AppData\\Local\\Temp\\ipykernel_22024\\3996378728.py:43: FutureWarning: Parsed string \"2024-12-14 00:00:00T11:00\" included an un-recognized timezone \"T\". Dropping unrecognized timezones is deprecated; in a future version this will raise. Instead pass the string without the timezone, then use .tz_localize to convert to a recognized timezone.\n",
      "  start_time_obj = pd.to_datetime(start_datetime_str)\n"
     ]
    },
    {
     "name": "stdout",
     "output_type": "stream",
     "text": [
      "Event created: https://www.google.com/calendar/event?eid=NTVuN243c3Q4OGluNWRvdmUxanBjdjUxYTQgdGVzdC0yMTVAbHVja3ktcmVhY3Rvci00NDMzMDgtcjQuaWFtLmdzZXJ2aWNlYWNjb3VudC5jb20\n",
      "Event created: https://www.google.com/calendar/event?eid=Z2RtdDEyYmVoYm9uZTNxZXJpN2dtN2puYzQgdGVzdC0yMTVAbHVja3ktcmVhY3Rvci00NDMzMDgtcjQuaWFtLmdzZXJ2aWNlYWNjb3VudC5jb20\n",
      "Event created: https://www.google.com/calendar/event?eid=bDRtb2dvY2lkMXZqdXRrYnJrZzNoYmY4MW8gdGVzdC0yMTVAbHVja3ktcmVhY3Rvci00NDMzMDgtcjQuaWFtLmdzZXJ2aWNlYWNjb3VudC5jb20\n",
      "Event created: https://www.google.com/calendar/event?eid=aHZjN2t2ZGRwb2pibDA4bmhqY2RwZzdzZnMgdGVzdC0yMTVAbHVja3ktcmVhY3Rvci00NDMzMDgtcjQuaWFtLmdzZXJ2aWNlYWNjb3VudC5jb20\n",
      "Event created: https://www.google.com/calendar/event?eid=b2g5MXY5MTlsajFwdXZhcnRhZHA0ZTA5ZmsgdGVzdC0yMTVAbHVja3ktcmVhY3Rvci00NDMzMDgtcjQuaWFtLmdzZXJ2aWNlYWNjb3VudC5jb20\n",
      "Event created: https://www.google.com/calendar/event?eid=cTRsMjg1ajJxYTY3cTl2NnNpNTZoN2s0OXMgdGVzdC0yMTVAbHVja3ktcmVhY3Rvci00NDMzMDgtcjQuaWFtLmdzZXJ2aWNlYWNjb3VudC5jb20\n",
      "Event created: https://www.google.com/calendar/event?eid=NzdpazhhNnRkZWY4cjhta3JoODY1Z251aWMgdGVzdC0yMTVAbHVja3ktcmVhY3Rvci00NDMzMDgtcjQuaWFtLmdzZXJ2aWNlYWNjb3VudC5jb20\n",
      "Event created: https://www.google.com/calendar/event?eid=N2lwOG5xN24yaGtraGViNzk5ODAwajhnZGMgdGVzdC0yMTVAbHVja3ktcmVhY3Rvci00NDMzMDgtcjQuaWFtLmdzZXJ2aWNlYWNjb3VudC5jb20\n",
      "Event created: https://www.google.com/calendar/event?eid=OG5rYW5yM29qczBnaWRxdXI1NmNnczJkZGcgdGVzdC0yMTVAbHVja3ktcmVhY3Rvci00NDMzMDgtcjQuaWFtLmdzZXJ2aWNlYWNjb3VudC5jb20\n",
      "Event created: https://www.google.com/calendar/event?eid=YXU0cHFybXAwbWM0czdtaDZvaW1nZzlnZmMgdGVzdC0yMTVAbHVja3ktcmVhY3Rvci00NDMzMDgtcjQuaWFtLmdzZXJ2aWNlYWNjb3VudC5jb20\n",
      "Event created: https://www.google.com/calendar/event?eid=cDBsNHFvOWF0N2FuaTloNGRzMWYzcGRpa3MgdGVzdC0yMTVAbHVja3ktcmVhY3Rvci00NDMzMDgtcjQuaWFtLmdzZXJ2aWNlYWNjb3VudC5jb20\n",
      "Event created: https://www.google.com/calendar/event?eid=NGQwcHM4MXFnM2pzYXRlaWNjOGY4bmhxcGcgdGVzdC0yMTVAbHVja3ktcmVhY3Rvci00NDMzMDgtcjQuaWFtLmdzZXJ2aWNlYWNjb3VudC5jb20\n",
      "Event created: https://www.google.com/calendar/event?eid=ZGQzajZxaDJyZGZiZmNzaDVrNjJyc3Z1cWMgdGVzdC0yMTVAbHVja3ktcmVhY3Rvci00NDMzMDgtcjQuaWFtLmdzZXJ2aWNlYWNjb3VudC5jb20\n",
      "Event created: https://www.google.com/calendar/event?eid=aXR2cmRtaDZ1ZGs3MWZjZWhtM2R2ZGRmYnMgdGVzdC0yMTVAbHVja3ktcmVhY3Rvci00NDMzMDgtcjQuaWFtLmdzZXJ2aWNlYWNjb3VudC5jb20\n",
      "Event created: https://www.google.com/calendar/event?eid=aG5ha2kxMmV0aTE4YTlzMmFwZG5pdWY3ZmsgdGVzdC0yMTVAbHVja3ktcmVhY3Rvci00NDMzMDgtcjQuaWFtLmdzZXJ2aWNlYWNjb3VudC5jb20\n",
      "Event created: https://www.google.com/calendar/event?eid=czVocWp0NjY3bmg2MXIyOWQ0dnNwbXQzN3MgdGVzdC0yMTVAbHVja3ktcmVhY3Rvci00NDMzMDgtcjQuaWFtLmdzZXJ2aWNlYWNjb3VudC5jb20\n",
      "Event created: https://www.google.com/calendar/event?eid=aXBnN2FnZm52YWdhMmdxZjAwZWg4dnEzc3MgdGVzdC0yMTVAbHVja3ktcmVhY3Rvci00NDMzMDgtcjQuaWFtLmdzZXJ2aWNlYWNjb3VudC5jb20\n",
      "Event created: https://www.google.com/calendar/event?eid=ZnZuNGNyMXYxaDd2b2o1N25zcW5wNDAycTAgdGVzdC0yMTVAbHVja3ktcmVhY3Rvci00NDMzMDgtcjQuaWFtLmdzZXJ2aWNlYWNjb3VudC5jb20\n",
      "Event created: https://www.google.com/calendar/event?eid=dDhpbGtobjVvbjY4NWYyZ2ptaDY3bmNiaW8gdGVzdC0yMTVAbHVja3ktcmVhY3Rvci00NDMzMDgtcjQuaWFtLmdzZXJ2aWNlYWNjb3VudC5jb20\n",
      "Error creating event for row 390: <HttpError 400 when requesting https://www.googleapis.com/calendar/v3/calendars/primary/events?alt=json returned \"The specified time range is empty.\". Details: \"[{'domain': 'calendar', 'reason': 'timeRangeEmpty', 'message': 'The specified time range is empty.', 'locationType': 'parameter', 'location': 'timeMax'}]\">\n",
      "Event created: https://www.google.com/calendar/event?eid=bGJramNyZmtrM250ZDB1ZnBwMWQ2bGVkZXMgdGVzdC0yMTVAbHVja3ktcmVhY3Rvci00NDMzMDgtcjQuaWFtLmdzZXJ2aWNlYWNjb3VudC5jb20\n",
      "Error creating event for row 392: <HttpError 400 when requesting https://www.googleapis.com/calendar/v3/calendars/primary/events?alt=json returned \"The specified time range is empty.\". Details: \"[{'domain': 'calendar', 'reason': 'timeRangeEmpty', 'message': 'The specified time range is empty.', 'locationType': 'parameter', 'location': 'timeMax'}]\">\n",
      "Error creating event for row 393: <HttpError 400 when requesting https://www.googleapis.com/calendar/v3/calendars/primary/events?alt=json returned \"The specified time range is empty.\". Details: \"[{'domain': 'calendar', 'reason': 'timeRangeEmpty', 'message': 'The specified time range is empty.', 'locationType': 'parameter', 'location': 'timeMax'}]\">\n",
      "Event created: https://www.google.com/calendar/event?eid=YmpmYzkwNmNsbDhsOHAwMjYybWRpcm5qbG8gdGVzdC0yMTVAbHVja3ktcmVhY3Rvci00NDMzMDgtcjQuaWFtLmdzZXJ2aWNlYWNjb3VudC5jb20\n",
      "Error creating event for row 395: <HttpError 400 when requesting https://www.googleapis.com/calendar/v3/calendars/primary/events?alt=json returned \"The specified time range is empty.\". Details: \"[{'domain': 'calendar', 'reason': 'timeRangeEmpty', 'message': 'The specified time range is empty.', 'locationType': 'parameter', 'location': 'timeMax'}]\">\n",
      "Event created: https://www.google.com/calendar/event?eid=ZWVxbGRrbXZvZzJjdDE2YjBrajgyaGR0Y2MgdGVzdC0yMTVAbHVja3ktcmVhY3Rvci00NDMzMDgtcjQuaWFtLmdzZXJ2aWNlYWNjb3VudC5jb20\n",
      "Error creating event for row 397: <HttpError 400 when requesting https://www.googleapis.com/calendar/v3/calendars/primary/events?alt=json returned \"The specified time range is empty.\". Details: \"[{'domain': 'calendar', 'reason': 'timeRangeEmpty', 'message': 'The specified time range is empty.', 'locationType': 'parameter', 'location': 'timeMax'}]\">\n",
      "Event created: https://www.google.com/calendar/event?eid=bDRqb2ZwYThydWtjajhmM3QzbmgwbHFvdWMgdGVzdC0yMTVAbHVja3ktcmVhY3Rvci00NDMzMDgtcjQuaWFtLmdzZXJ2aWNlYWNjb3VudC5jb20\n",
      "Event created: https://www.google.com/calendar/event?eid=bWg2ZmZsN3ViamJlYmdtbXRrYWs1aHVxZmMgdGVzdC0yMTVAbHVja3ktcmVhY3Rvci00NDMzMDgtcjQuaWFtLmdzZXJ2aWNlYWNjb3VudC5jb20\n",
      "Event created: https://www.google.com/calendar/event?eid=cWo1MWFuNHRwbHU1NGF1azg3c3N1aW80ZjQgdGVzdC0yMTVAbHVja3ktcmVhY3Rvci00NDMzMDgtcjQuaWFtLmdzZXJ2aWNlYWNjb3VudC5jb20\n",
      "Event created: https://www.google.com/calendar/event?eid=bmpiYWlyZmRrNTQ4ZTU5b3FjOTJmMmljdGsgdGVzdC0yMTVAbHVja3ktcmVhY3Rvci00NDMzMDgtcjQuaWFtLmdzZXJ2aWNlYWNjb3VudC5jb20\n",
      "Error creating event for row 402: <HttpError 400 when requesting https://www.googleapis.com/calendar/v3/calendars/primary/events?alt=json returned \"The specified time range is empty.\". Details: \"[{'domain': 'calendar', 'reason': 'timeRangeEmpty', 'message': 'The specified time range is empty.', 'locationType': 'parameter', 'location': 'timeMax'}]\">\n",
      "Event created: https://www.google.com/calendar/event?eid=YnRic21xZzdmM2xzNm9tOW82b25uN2RmZ28gdGVzdC0yMTVAbHVja3ktcmVhY3Rvci00NDMzMDgtcjQuaWFtLmdzZXJ2aWNlYWNjb3VudC5jb20\n",
      "Error creating event for row 404: <HttpError 400 when requesting https://www.googleapis.com/calendar/v3/calendars/primary/events?alt=json returned \"The specified time range is empty.\". Details: \"[{'domain': 'calendar', 'reason': 'timeRangeEmpty', 'message': 'The specified time range is empty.', 'locationType': 'parameter', 'location': 'timeMax'}]\">\n",
      "Event created: https://www.google.com/calendar/event?eid=OHZiaWtrYmFhaGVzMWFpcmUxOWZrdTdxOGMgdGVzdC0yMTVAbHVja3ktcmVhY3Rvci00NDMzMDgtcjQuaWFtLmdzZXJ2aWNlYWNjb3VudC5jb20\n",
      "Event created: https://www.google.com/calendar/event?eid=OWU5ZGRkdml0Y2lyNmE0cmdiNzhlZmc4MzggdGVzdC0yMTVAbHVja3ktcmVhY3Rvci00NDMzMDgtcjQuaWFtLmdzZXJ2aWNlYWNjb3VudC5jb20\n",
      "Error creating event for row 407: <HttpError 400 when requesting https://www.googleapis.com/calendar/v3/calendars/primary/events?alt=json returned \"The specified time range is empty.\". Details: \"[{'domain': 'calendar', 'reason': 'timeRangeEmpty', 'message': 'The specified time range is empty.', 'locationType': 'parameter', 'location': 'timeMax'}]\">\n",
      "Event created: https://www.google.com/calendar/event?eid=dDI0anFtN3VhZ2YwZjgzMGg0dWticDFoMDAgdGVzdC0yMTVAbHVja3ktcmVhY3Rvci00NDMzMDgtcjQuaWFtLmdzZXJ2aWNlYWNjb3VudC5jb20\n",
      "Event created: https://www.google.com/calendar/event?eid=YjQ3dTc1NXY2YmZvYmZqMnBhbXQ0ZWZndmcgdGVzdC0yMTVAbHVja3ktcmVhY3Rvci00NDMzMDgtcjQuaWFtLmdzZXJ2aWNlYWNjb3VudC5jb20\n",
      "Event created: https://www.google.com/calendar/event?eid=NWtraG9ycnE5bmpzcXZkbG05aGtmdmJnc2sgdGVzdC0yMTVAbHVja3ktcmVhY3Rvci00NDMzMDgtcjQuaWFtLmdzZXJ2aWNlYWNjb3VudC5jb20\n",
      "Error creating event for row 411: <HttpError 400 when requesting https://www.googleapis.com/calendar/v3/calendars/primary/events?alt=json returned \"The specified time range is empty.\". Details: \"[{'domain': 'calendar', 'reason': 'timeRangeEmpty', 'message': 'The specified time range is empty.', 'locationType': 'parameter', 'location': 'timeMax'}]\">\n",
      "Error creating event for row 412: <HttpError 400 when requesting https://www.googleapis.com/calendar/v3/calendars/primary/events?alt=json returned \"The specified time range is empty.\". Details: \"[{'domain': 'calendar', 'reason': 'timeRangeEmpty', 'message': 'The specified time range is empty.', 'locationType': 'parameter', 'location': 'timeMax'}]\">\n",
      "Event created: https://www.google.com/calendar/event?eid=ZDVkYzBzMGRrOWh2aml0c29la2Y3Nm5oOTggdGVzdC0yMTVAbHVja3ktcmVhY3Rvci00NDMzMDgtcjQuaWFtLmdzZXJ2aWNlYWNjb3VudC5jb20\n",
      "Error creating event for row 414: <HttpError 400 when requesting https://www.googleapis.com/calendar/v3/calendars/primary/events?alt=json returned \"The specified time range is empty.\". Details: \"[{'domain': 'calendar', 'reason': 'timeRangeEmpty', 'message': 'The specified time range is empty.', 'locationType': 'parameter', 'location': 'timeMax'}]\">\n",
      "Event created: https://www.google.com/calendar/event?eid=YTdhdjM3amNrMjlpbmc0NzU3bzRhYWN2NzQgdGVzdC0yMTVAbHVja3ktcmVhY3Rvci00NDMzMDgtcjQuaWFtLmdzZXJ2aWNlYWNjb3VudC5jb20\n",
      "Event created: https://www.google.com/calendar/event?eid=ODd1amk0aXIydDU5YmxhNnZjNjhxbW1yaHMgdGVzdC0yMTVAbHVja3ktcmVhY3Rvci00NDMzMDgtcjQuaWFtLmdzZXJ2aWNlYWNjb3VudC5jb20\n",
      "Event created: https://www.google.com/calendar/event?eid=bjRsNHExbW5laGZjbXFpcThsZWsyN3EycnMgdGVzdC0yMTVAbHVja3ktcmVhY3Rvci00NDMzMDgtcjQuaWFtLmdzZXJ2aWNlYWNjb3VudC5jb20\n",
      "Event created: https://www.google.com/calendar/event?eid=bWd0c2FhamtqaGcyZzU1YnE5NTlybGxramcgdGVzdC0yMTVAbHVja3ktcmVhY3Rvci00NDMzMDgtcjQuaWFtLmdzZXJ2aWNlYWNjb3VudC5jb20\n",
      "Event created: https://www.google.com/calendar/event?eid=aTUyZ2dwYTJ1YWdjMmg3aTFrb3JrZHIxMmMgdGVzdC0yMTVAbHVja3ktcmVhY3Rvci00NDMzMDgtcjQuaWFtLmdzZXJ2aWNlYWNjb3VudC5jb20\n",
      "Event created: https://www.google.com/calendar/event?eid=M2huZ2l1M2hhaWxkbjNsZXJjaHU3Z3VuNWcgdGVzdC0yMTVAbHVja3ktcmVhY3Rvci00NDMzMDgtcjQuaWFtLmdzZXJ2aWNlYWNjb3VudC5jb20\n",
      "Event created: https://www.google.com/calendar/event?eid=OG00MmZtYWI4ZG5uZWY4bzNxaXJnMnBtaDQgdGVzdC0yMTVAbHVja3ktcmVhY3Rvci00NDMzMDgtcjQuaWFtLmdzZXJ2aWNlYWNjb3VudC5jb20\n",
      "Event created: https://www.google.com/calendar/event?eid=ZGlrZzZwcGgwY2I3ZHFrdjZsZnFpNjNlMTggdGVzdC0yMTVAbHVja3ktcmVhY3Rvci00NDMzMDgtcjQuaWFtLmdzZXJ2aWNlYWNjb3VudC5jb20\n",
      "Event created: https://www.google.com/calendar/event?eid=MTJ1ODVwaDJ1aDdjajhmdDRvZGxtMGM4dGMgdGVzdC0yMTVAbHVja3ktcmVhY3Rvci00NDMzMDgtcjQuaWFtLmdzZXJ2aWNlYWNjb3VudC5jb20\n",
      "Error creating event for row 424: <HttpError 400 when requesting https://www.googleapis.com/calendar/v3/calendars/primary/events?alt=json returned \"The specified time range is empty.\". Details: \"[{'domain': 'calendar', 'reason': 'timeRangeEmpty', 'message': 'The specified time range is empty.', 'locationType': 'parameter', 'location': 'timeMax'}]\">\n"
     ]
    },
    {
     "name": "stderr",
     "output_type": "stream",
     "text": [
      "C:\\Users\\heans\\AppData\\Local\\Temp\\ipykernel_22024\\3996378728.py:43: FutureWarning: Parsed string \"2024-12-14 00:00:00T11:30\" included an un-recognized timezone \"T\". Dropping unrecognized timezones is deprecated; in a future version this will raise. Instead pass the string without the timezone, then use .tz_localize to convert to a recognized timezone.\n",
      "  start_time_obj = pd.to_datetime(start_datetime_str)\n"
     ]
    },
    {
     "name": "stdout",
     "output_type": "stream",
     "text": [
      "Event created: https://www.google.com/calendar/event?eid=NTRlODhjYmx0NWQzaThhMDcxa2JwYnJnOG8gdGVzdC0yMTVAbHVja3ktcmVhY3Rvci00NDMzMDgtcjQuaWFtLmdzZXJ2aWNlYWNjb3VudC5jb20\n",
      "Event created: https://www.google.com/calendar/event?eid=Z2E3a3AxZDRxMW0yNHR0bWU3YjBmbDdkbWcgdGVzdC0yMTVAbHVja3ktcmVhY3Rvci00NDMzMDgtcjQuaWFtLmdzZXJ2aWNlYWNjb3VudC5jb20\n",
      "Event created: https://www.google.com/calendar/event?eid=anZhNGF1YnY2ajJlZW1uMWwycDk0bXRqcWcgdGVzdC0yMTVAbHVja3ktcmVhY3Rvci00NDMzMDgtcjQuaWFtLmdzZXJ2aWNlYWNjb3VudC5jb20\n"
     ]
    },
    {
     "name": "stderr",
     "output_type": "stream",
     "text": [
      "C:\\Users\\heans\\AppData\\Local\\Temp\\ipykernel_22024\\3996378728.py:43: FutureWarning: Parsed string \"2024-12-14 00:00:00T12:00\" included an un-recognized timezone \"T\". Dropping unrecognized timezones is deprecated; in a future version this will raise. Instead pass the string without the timezone, then use .tz_localize to convert to a recognized timezone.\n",
      "  start_time_obj = pd.to_datetime(start_datetime_str)\n"
     ]
    },
    {
     "name": "stdout",
     "output_type": "stream",
     "text": [
      "Event created: https://www.google.com/calendar/event?eid=ODZvMW5sZmxucWdiaXI4YnQzNmFyMnU3cmcgdGVzdC0yMTVAbHVja3ktcmVhY3Rvci00NDMzMDgtcjQuaWFtLmdzZXJ2aWNlYWNjb3VudC5jb20\n",
      "Error creating event for row 429: <HttpError 400 when requesting https://www.googleapis.com/calendar/v3/calendars/primary/events?alt=json returned \"The specified time range is empty.\". Details: \"[{'domain': 'calendar', 'reason': 'timeRangeEmpty', 'message': 'The specified time range is empty.', 'locationType': 'parameter', 'location': 'timeMax'}]\">\n",
      "Event created: https://www.google.com/calendar/event?eid=dmc3Y2Q0dHRlYjNuMWZxYmJ2bGRxcjV2bHMgdGVzdC0yMTVAbHVja3ktcmVhY3Rvci00NDMzMDgtcjQuaWFtLmdzZXJ2aWNlYWNjb3VudC5jb20\n",
      "Error creating event for row 431: <HttpError 400 when requesting https://www.googleapis.com/calendar/v3/calendars/primary/events?alt=json returned \"The specified time range is empty.\". Details: \"[{'domain': 'calendar', 'reason': 'timeRangeEmpty', 'message': 'The specified time range is empty.', 'locationType': 'parameter', 'location': 'timeMax'}]\">\n",
      "Event created: https://www.google.com/calendar/event?eid=amxnMnJxMzE0MjVpaXNsZmthY3NwcW5rMHMgdGVzdC0yMTVAbHVja3ktcmVhY3Rvci00NDMzMDgtcjQuaWFtLmdzZXJ2aWNlYWNjb3VudC5jb20\n",
      "Event created: https://www.google.com/calendar/event?eid=MGNtcW1ycDd2bWxpc2Q4NzQxMWJuanMyOGcgdGVzdC0yMTVAbHVja3ktcmVhY3Rvci00NDMzMDgtcjQuaWFtLmdzZXJ2aWNlYWNjb3VudC5jb20\n",
      "Event created: https://www.google.com/calendar/event?eid=bGYwMm1yMzV0a3ZmM2RnbXVjNDhic2k5ZTAgdGVzdC0yMTVAbHVja3ktcmVhY3Rvci00NDMzMDgtcjQuaWFtLmdzZXJ2aWNlYWNjb3VudC5jb20\n",
      "Error creating event for row 435: <HttpError 400 when requesting https://www.googleapis.com/calendar/v3/calendars/primary/events?alt=json returned \"The specified time range is empty.\". Details: \"[{'domain': 'calendar', 'reason': 'timeRangeEmpty', 'message': 'The specified time range is empty.', 'locationType': 'parameter', 'location': 'timeMax'}]\">\n",
      "Event created: https://www.google.com/calendar/event?eid=bDFsb3JmdDhrNWZ1YjFhaGU1a2xmZzhnZGMgdGVzdC0yMTVAbHVja3ktcmVhY3Rvci00NDMzMDgtcjQuaWFtLmdzZXJ2aWNlYWNjb3VudC5jb20\n",
      "Event created: https://www.google.com/calendar/event?eid=Mjh1b2cxZ3ZiZ3FiM29qMzZkdmRmZDA1ZWcgdGVzdC0yMTVAbHVja3ktcmVhY3Rvci00NDMzMDgtcjQuaWFtLmdzZXJ2aWNlYWNjb3VudC5jb20\n"
     ]
    },
    {
     "name": "stderr",
     "output_type": "stream",
     "text": [
      "C:\\Users\\heans\\AppData\\Local\\Temp\\ipykernel_22024\\3996378728.py:43: FutureWarning: Parsed string \"2024-12-14 00:00:00T12:30\" included an un-recognized timezone \"T\". Dropping unrecognized timezones is deprecated; in a future version this will raise. Instead pass the string without the timezone, then use .tz_localize to convert to a recognized timezone.\n",
      "  start_time_obj = pd.to_datetime(start_datetime_str)\n"
     ]
    },
    {
     "name": "stdout",
     "output_type": "stream",
     "text": [
      "Error creating event for row 438: <HttpError 400 when requesting https://www.googleapis.com/calendar/v3/calendars/primary/events?alt=json returned \"The specified time range is empty.\". Details: \"[{'domain': 'calendar', 'reason': 'timeRangeEmpty', 'message': 'The specified time range is empty.', 'locationType': 'parameter', 'location': 'timeMax'}]\">\n"
     ]
    },
    {
     "name": "stderr",
     "output_type": "stream",
     "text": [
      "C:\\Users\\heans\\AppData\\Local\\Temp\\ipykernel_22024\\3996378728.py:43: FutureWarning: Parsed string \"2024-12-14 00:00:00T13:00\" included an un-recognized timezone \"T\". Dropping unrecognized timezones is deprecated; in a future version this will raise. Instead pass the string without the timezone, then use .tz_localize to convert to a recognized timezone.\n",
      "  start_time_obj = pd.to_datetime(start_datetime_str)\n"
     ]
    },
    {
     "name": "stdout",
     "output_type": "stream",
     "text": [
      "Error creating event for row 439: <HttpError 400 when requesting https://www.googleapis.com/calendar/v3/calendars/primary/events?alt=json returned \"The specified time range is empty.\". Details: \"[{'domain': 'calendar', 'reason': 'timeRangeEmpty', 'message': 'The specified time range is empty.', 'locationType': 'parameter', 'location': 'timeMax'}]\">\n",
      "Event created: https://www.google.com/calendar/event?eid=ZWRjZ2cwaXZiOXB0OGhxYzU5cnR1Z2VzMm8gdGVzdC0yMTVAbHVja3ktcmVhY3Rvci00NDMzMDgtcjQuaWFtLmdzZXJ2aWNlYWNjb3VudC5jb20\n",
      "Error creating event for row 441: <HttpError 400 when requesting https://www.googleapis.com/calendar/v3/calendars/primary/events?alt=json returned \"The specified time range is empty.\". Details: \"[{'domain': 'calendar', 'reason': 'timeRangeEmpty', 'message': 'The specified time range is empty.', 'locationType': 'parameter', 'location': 'timeMax'}]\">\n",
      "Error creating event for row 442: <HttpError 400 when requesting https://www.googleapis.com/calendar/v3/calendars/primary/events?alt=json returned \"The specified time range is empty.\". Details: \"[{'domain': 'calendar', 'reason': 'timeRangeEmpty', 'message': 'The specified time range is empty.', 'locationType': 'parameter', 'location': 'timeMax'}]\">\n",
      "Error creating event for row 443: <HttpError 400 when requesting https://www.googleapis.com/calendar/v3/calendars/primary/events?alt=json returned \"The specified time range is empty.\". Details: \"[{'domain': 'calendar', 'reason': 'timeRangeEmpty', 'message': 'The specified time range is empty.', 'locationType': 'parameter', 'location': 'timeMax'}]\">\n",
      "Event created: https://www.google.com/calendar/event?eid=OTc3cWo5Z2ZkZ3RhMDdpbGliOG9xM2doazggdGVzdC0yMTVAbHVja3ktcmVhY3Rvci00NDMzMDgtcjQuaWFtLmdzZXJ2aWNlYWNjb3VudC5jb20\n",
      "Error creating event for row 445: <HttpError 400 when requesting https://www.googleapis.com/calendar/v3/calendars/primary/events?alt=json returned \"The specified time range is empty.\". Details: \"[{'domain': 'calendar', 'reason': 'timeRangeEmpty', 'message': 'The specified time range is empty.', 'locationType': 'parameter', 'location': 'timeMax'}]\">\n"
     ]
    },
    {
     "name": "stderr",
     "output_type": "stream",
     "text": [
      "C:\\Users\\heans\\AppData\\Local\\Temp\\ipykernel_22024\\3996378728.py:43: FutureWarning: Parsed string \"2024-12-14 00:00:00T13:30\" included an un-recognized timezone \"T\". Dropping unrecognized timezones is deprecated; in a future version this will raise. Instead pass the string without the timezone, then use .tz_localize to convert to a recognized timezone.\n",
      "  start_time_obj = pd.to_datetime(start_datetime_str)\n"
     ]
    },
    {
     "name": "stdout",
     "output_type": "stream",
     "text": [
      "Error creating event for row 446: <HttpError 400 when requesting https://www.googleapis.com/calendar/v3/calendars/primary/events?alt=json returned \"The specified time range is empty.\". Details: \"[{'domain': 'calendar', 'reason': 'timeRangeEmpty', 'message': 'The specified time range is empty.', 'locationType': 'parameter', 'location': 'timeMax'}]\">\n"
     ]
    },
    {
     "name": "stderr",
     "output_type": "stream",
     "text": [
      "C:\\Users\\heans\\AppData\\Local\\Temp\\ipykernel_22024\\3996378728.py:43: FutureWarning: Parsed string \"2024-12-14 00:00:00T13:45\" included an un-recognized timezone \"T\". Dropping unrecognized timezones is deprecated; in a future version this will raise. Instead pass the string without the timezone, then use .tz_localize to convert to a recognized timezone.\n",
      "  start_time_obj = pd.to_datetime(start_datetime_str)\n"
     ]
    },
    {
     "name": "stdout",
     "output_type": "stream",
     "text": [
      "Error creating event for row 447: <HttpError 400 when requesting https://www.googleapis.com/calendar/v3/calendars/primary/events?alt=json returned \"The specified time range is empty.\". Details: \"[{'domain': 'calendar', 'reason': 'timeRangeEmpty', 'message': 'The specified time range is empty.', 'locationType': 'parameter', 'location': 'timeMax'}]\">\n"
     ]
    },
    {
     "name": "stderr",
     "output_type": "stream",
     "text": [
      "C:\\Users\\heans\\AppData\\Local\\Temp\\ipykernel_22024\\3996378728.py:43: FutureWarning: Parsed string \"2024-12-14 00:00:00T14:00\" included an un-recognized timezone \"T\". Dropping unrecognized timezones is deprecated; in a future version this will raise. Instead pass the string without the timezone, then use .tz_localize to convert to a recognized timezone.\n",
      "  start_time_obj = pd.to_datetime(start_datetime_str)\n"
     ]
    },
    {
     "name": "stdout",
     "output_type": "stream",
     "text": [
      "Error creating event for row 448: <HttpError 400 when requesting https://www.googleapis.com/calendar/v3/calendars/primary/events?alt=json returned \"The specified time range is empty.\". Details: \"[{'domain': 'calendar', 'reason': 'timeRangeEmpty', 'message': 'The specified time range is empty.', 'locationType': 'parameter', 'location': 'timeMax'}]\">\n",
      "Event created: https://www.google.com/calendar/event?eid=bDZxbHJmMHUyamtrZm5zcXQ0Z3U2aWRzam8gdGVzdC0yMTVAbHVja3ktcmVhY3Rvci00NDMzMDgtcjQuaWFtLmdzZXJ2aWNlYWNjb3VudC5jb20\n",
      "Event created: https://www.google.com/calendar/event?eid=dDExZTJqYzhlbmMwbDQ0aHFyNGQ2YjFhbTQgdGVzdC0yMTVAbHVja3ktcmVhY3Rvci00NDMzMDgtcjQuaWFtLmdzZXJ2aWNlYWNjb3VudC5jb20\n",
      "Event created: https://www.google.com/calendar/event?eid=cTM2bjhjaXI5NHUwbWluMmFmZW1qMHEycjQgdGVzdC0yMTVAbHVja3ktcmVhY3Rvci00NDMzMDgtcjQuaWFtLmdzZXJ2aWNlYWNjb3VudC5jb20\n",
      "Event created: https://www.google.com/calendar/event?eid=NzVwNzRqOWlpcDc2M3N1bTY1bTI4YnIxMG8gdGVzdC0yMTVAbHVja3ktcmVhY3Rvci00NDMzMDgtcjQuaWFtLmdzZXJ2aWNlYWNjb3VudC5jb20\n",
      "Error creating event for row 453: <HttpError 400 when requesting https://www.googleapis.com/calendar/v3/calendars/primary/events?alt=json returned \"The specified time range is empty.\". Details: \"[{'domain': 'calendar', 'reason': 'timeRangeEmpty', 'message': 'The specified time range is empty.', 'locationType': 'parameter', 'location': 'timeMax'}]\">\n",
      "Error creating event for row 454: <HttpError 400 when requesting https://www.googleapis.com/calendar/v3/calendars/primary/events?alt=json returned \"The specified time range is empty.\". Details: \"[{'domain': 'calendar', 'reason': 'timeRangeEmpty', 'message': 'The specified time range is empty.', 'locationType': 'parameter', 'location': 'timeMax'}]\">\n",
      "Error creating event for row 455: <HttpError 400 when requesting https://www.googleapis.com/calendar/v3/calendars/primary/events?alt=json returned \"The specified time range is empty.\". Details: \"[{'domain': 'calendar', 'reason': 'timeRangeEmpty', 'message': 'The specified time range is empty.', 'locationType': 'parameter', 'location': 'timeMax'}]\">\n",
      "Error creating event for row 456: <HttpError 400 when requesting https://www.googleapis.com/calendar/v3/calendars/primary/events?alt=json returned \"The specified time range is empty.\". Details: \"[{'domain': 'calendar', 'reason': 'timeRangeEmpty', 'message': 'The specified time range is empty.', 'locationType': 'parameter', 'location': 'timeMax'}]\">\n",
      "Error creating event for row 457: <HttpError 400 when requesting https://www.googleapis.com/calendar/v3/calendars/primary/events?alt=json returned \"The specified time range is empty.\". Details: \"[{'domain': 'calendar', 'reason': 'timeRangeEmpty', 'message': 'The specified time range is empty.', 'locationType': 'parameter', 'location': 'timeMax'}]\">\n",
      "Event created: https://www.google.com/calendar/event?eid=M28zY245Z2s2c3ZqMzd1cnM4cXIyNGg4NDQgdGVzdC0yMTVAbHVja3ktcmVhY3Rvci00NDMzMDgtcjQuaWFtLmdzZXJ2aWNlYWNjb3VudC5jb20\n",
      "Event created: https://www.google.com/calendar/event?eid=OTQ0dWZjYjJsYWYzZ3NrcXFlanNrNWhiN28gdGVzdC0yMTVAbHVja3ktcmVhY3Rvci00NDMzMDgtcjQuaWFtLmdzZXJ2aWNlYWNjb3VudC5jb20\n",
      "Error creating event for row 460: <HttpError 400 when requesting https://www.googleapis.com/calendar/v3/calendars/primary/events?alt=json returned \"The specified time range is empty.\". Details: \"[{'domain': 'calendar', 'reason': 'timeRangeEmpty', 'message': 'The specified time range is empty.', 'locationType': 'parameter', 'location': 'timeMax'}]\">\n",
      "Event created: https://www.google.com/calendar/event?eid=Y2NyOGU0bDRnczdpdThyMW1tbTN1NGVpbm8gdGVzdC0yMTVAbHVja3ktcmVhY3Rvci00NDMzMDgtcjQuaWFtLmdzZXJ2aWNlYWNjb3VudC5jb20\n",
      "Error creating event for row 462: <HttpError 400 when requesting https://www.googleapis.com/calendar/v3/calendars/primary/events?alt=json returned \"The specified time range is empty.\". Details: \"[{'domain': 'calendar', 'reason': 'timeRangeEmpty', 'message': 'The specified time range is empty.', 'locationType': 'parameter', 'location': 'timeMax'}]\">\n",
      "Event created: https://www.google.com/calendar/event?eid=aWtkOXBsaG9pY3IwYjM3ZzhhYnZvcmY2YjAgdGVzdC0yMTVAbHVja3ktcmVhY3Rvci00NDMzMDgtcjQuaWFtLmdzZXJ2aWNlYWNjb3VudC5jb20\n",
      "Event created: https://www.google.com/calendar/event?eid=MXFubGw0bnRwbDVtZWJyMG1vczRybXY5OGcgdGVzdC0yMTVAbHVja3ktcmVhY3Rvci00NDMzMDgtcjQuaWFtLmdzZXJ2aWNlYWNjb3VudC5jb20\n",
      "Event created: https://www.google.com/calendar/event?eid=aHBibmZ2NG11ZWk3bDgwdXI4bnVxaDJzOXMgdGVzdC0yMTVAbHVja3ktcmVhY3Rvci00NDMzMDgtcjQuaWFtLmdzZXJ2aWNlYWNjb3VudC5jb20\n",
      "Error creating event for row 466: <HttpError 400 when requesting https://www.googleapis.com/calendar/v3/calendars/primary/events?alt=json returned \"The specified time range is empty.\". Details: \"[{'domain': 'calendar', 'reason': 'timeRangeEmpty', 'message': 'The specified time range is empty.', 'locationType': 'parameter', 'location': 'timeMax'}]\">\n",
      "Event created: https://www.google.com/calendar/event?eid=ZzExbzczOXJtczMwaHY5bjJnMWxtdmFtbTQgdGVzdC0yMTVAbHVja3ktcmVhY3Rvci00NDMzMDgtcjQuaWFtLmdzZXJ2aWNlYWNjb3VudC5jb20\n",
      "Event created: https://www.google.com/calendar/event?eid=OXMxYnBocTYzbWh1bjlwOWxvM2VhMXExYWsgdGVzdC0yMTVAbHVja3ktcmVhY3Rvci00NDMzMDgtcjQuaWFtLmdzZXJ2aWNlYWNjb3VudC5jb20\n",
      "Event created: https://www.google.com/calendar/event?eid=dmZmOG4wb25iOXRzajhpNWl0NDRzYnY1MWcgdGVzdC0yMTVAbHVja3ktcmVhY3Rvci00NDMzMDgtcjQuaWFtLmdzZXJ2aWNlYWNjb3VudC5jb20\n",
      "Event created: https://www.google.com/calendar/event?eid=NnFkMDdkZTZhcm02M2FhN3NxbzYwdW82a3MgdGVzdC0yMTVAbHVja3ktcmVhY3Rvci00NDMzMDgtcjQuaWFtLmdzZXJ2aWNlYWNjb3VudC5jb20\n"
     ]
    },
    {
     "name": "stderr",
     "output_type": "stream",
     "text": [
      "C:\\Users\\heans\\AppData\\Local\\Temp\\ipykernel_22024\\3996378728.py:43: FutureWarning: Parsed string \"2024-12-14 00:00:00T14:15\" included an un-recognized timezone \"T\". Dropping unrecognized timezones is deprecated; in a future version this will raise. Instead pass the string without the timezone, then use .tz_localize to convert to a recognized timezone.\n",
      "  start_time_obj = pd.to_datetime(start_datetime_str)\n"
     ]
    },
    {
     "name": "stdout",
     "output_type": "stream",
     "text": [
      "Error creating event for row 471: <HttpError 400 when requesting https://www.googleapis.com/calendar/v3/calendars/primary/events?alt=json returned \"The specified time range is empty.\". Details: \"[{'domain': 'calendar', 'reason': 'timeRangeEmpty', 'message': 'The specified time range is empty.', 'locationType': 'parameter', 'location': 'timeMax'}]\">\n"
     ]
    },
    {
     "name": "stderr",
     "output_type": "stream",
     "text": [
      "C:\\Users\\heans\\AppData\\Local\\Temp\\ipykernel_22024\\3996378728.py:43: FutureWarning: Parsed string \"2024-12-14 00:00:00T14:30\" included an un-recognized timezone \"T\". Dropping unrecognized timezones is deprecated; in a future version this will raise. Instead pass the string without the timezone, then use .tz_localize to convert to a recognized timezone.\n",
      "  start_time_obj = pd.to_datetime(start_datetime_str)\n"
     ]
    },
    {
     "name": "stdout",
     "output_type": "stream",
     "text": [
      "Event created: https://www.google.com/calendar/event?eid=MWNjY3MyMW8wbWVsY2xiaDQzaGo5cDI1cmMgdGVzdC0yMTVAbHVja3ktcmVhY3Rvci00NDMzMDgtcjQuaWFtLmdzZXJ2aWNlYWNjb3VudC5jb20\n",
      "Error creating event for row 473: <HttpError 400 when requesting https://www.googleapis.com/calendar/v3/calendars/primary/events?alt=json returned \"The specified time range is empty.\". Details: \"[{'domain': 'calendar', 'reason': 'timeRangeEmpty', 'message': 'The specified time range is empty.', 'locationType': 'parameter', 'location': 'timeMax'}]\">\n",
      "Error creating event for row 474: <HttpError 400 when requesting https://www.googleapis.com/calendar/v3/calendars/primary/events?alt=json returned \"The specified time range is empty.\". Details: \"[{'domain': 'calendar', 'reason': 'timeRangeEmpty', 'message': 'The specified time range is empty.', 'locationType': 'parameter', 'location': 'timeMax'}]\">\n",
      "Error creating event for row 475: <HttpError 400 when requesting https://www.googleapis.com/calendar/v3/calendars/primary/events?alt=json returned \"The specified time range is empty.\". Details: \"[{'domain': 'calendar', 'reason': 'timeRangeEmpty', 'message': 'The specified time range is empty.', 'locationType': 'parameter', 'location': 'timeMax'}]\">\n"
     ]
    },
    {
     "name": "stderr",
     "output_type": "stream",
     "text": [
      "C:\\Users\\heans\\AppData\\Local\\Temp\\ipykernel_22024\\3996378728.py:43: FutureWarning: Parsed string \"2024-12-14 00:00:00T15:00\" included an un-recognized timezone \"T\". Dropping unrecognized timezones is deprecated; in a future version this will raise. Instead pass the string without the timezone, then use .tz_localize to convert to a recognized timezone.\n",
      "  start_time_obj = pd.to_datetime(start_datetime_str)\n"
     ]
    },
    {
     "name": "stdout",
     "output_type": "stream",
     "text": [
      "Event created: https://www.google.com/calendar/event?eid=cm9kbW5kajRkcDJwc2Z0NWM1b2FiZWpqcXMgdGVzdC0yMTVAbHVja3ktcmVhY3Rvci00NDMzMDgtcjQuaWFtLmdzZXJ2aWNlYWNjb3VudC5jb20\n",
      "Error creating event for row 477: <HttpError 400 when requesting https://www.googleapis.com/calendar/v3/calendars/primary/events?alt=json returned \"The specified time range is empty.\". Details: \"[{'domain': 'calendar', 'reason': 'timeRangeEmpty', 'message': 'The specified time range is empty.', 'locationType': 'parameter', 'location': 'timeMax'}]\">\n",
      "Error creating event for row 478: <HttpError 400 when requesting https://www.googleapis.com/calendar/v3/calendars/primary/events?alt=json returned \"The specified time range is empty.\". Details: \"[{'domain': 'calendar', 'reason': 'timeRangeEmpty', 'message': 'The specified time range is empty.', 'locationType': 'parameter', 'location': 'timeMax'}]\">\n",
      "Error creating event for row 479: <HttpError 400 when requesting https://www.googleapis.com/calendar/v3/calendars/primary/events?alt=json returned \"The specified time range is empty.\". Details: \"[{'domain': 'calendar', 'reason': 'timeRangeEmpty', 'message': 'The specified time range is empty.', 'locationType': 'parameter', 'location': 'timeMax'}]\">\n",
      "Event created: https://www.google.com/calendar/event?eid=azBqam80bXIxM2FlbmVpcXI2OWM3bzhvYnMgdGVzdC0yMTVAbHVja3ktcmVhY3Rvci00NDMzMDgtcjQuaWFtLmdzZXJ2aWNlYWNjb3VudC5jb20\n",
      "Event created: https://www.google.com/calendar/event?eid=ZGUwYzRhMDNwbms2bjlybTBwY2YwZjFnbjAgdGVzdC0yMTVAbHVja3ktcmVhY3Rvci00NDMzMDgtcjQuaWFtLmdzZXJ2aWNlYWNjb3VudC5jb20\n",
      "Error creating event for row 482: <HttpError 400 when requesting https://www.googleapis.com/calendar/v3/calendars/primary/events?alt=json returned \"The specified time range is empty.\". Details: \"[{'domain': 'calendar', 'reason': 'timeRangeEmpty', 'message': 'The specified time range is empty.', 'locationType': 'parameter', 'location': 'timeMax'}]\">\n",
      "Event created: https://www.google.com/calendar/event?eid=bWdpbmpkMGJ0NXR1c2V1cDBrOGRzbWVpNTQgdGVzdC0yMTVAbHVja3ktcmVhY3Rvci00NDMzMDgtcjQuaWFtLmdzZXJ2aWNlYWNjb3VudC5jb20\n",
      "Error creating event for row 484: <HttpError 400 when requesting https://www.googleapis.com/calendar/v3/calendars/primary/events?alt=json returned \"The specified time range is empty.\". Details: \"[{'domain': 'calendar', 'reason': 'timeRangeEmpty', 'message': 'The specified time range is empty.', 'locationType': 'parameter', 'location': 'timeMax'}]\">\n",
      "Error creating event for row 485: <HttpError 400 when requesting https://www.googleapis.com/calendar/v3/calendars/primary/events?alt=json returned \"The specified time range is empty.\". Details: \"[{'domain': 'calendar', 'reason': 'timeRangeEmpty', 'message': 'The specified time range is empty.', 'locationType': 'parameter', 'location': 'timeMax'}]\">\n",
      "Error creating event for row 486: <HttpError 400 when requesting https://www.googleapis.com/calendar/v3/calendars/primary/events?alt=json returned \"The specified time range is empty.\". Details: \"[{'domain': 'calendar', 'reason': 'timeRangeEmpty', 'message': 'The specified time range is empty.', 'locationType': 'parameter', 'location': 'timeMax'}]\">\n",
      "Event created: https://www.google.com/calendar/event?eid=cjJqdmFubDVxNGg4djBwcDFqcGRibmNydDQgdGVzdC0yMTVAbHVja3ktcmVhY3Rvci00NDMzMDgtcjQuaWFtLmdzZXJ2aWNlYWNjb3VudC5jb20\n",
      "Event created: https://www.google.com/calendar/event?eid=NW1pdHE3bXZyOXAzam9yY2x2MTUzNzg5cG8gdGVzdC0yMTVAbHVja3ktcmVhY3Rvci00NDMzMDgtcjQuaWFtLmdzZXJ2aWNlYWNjb3VudC5jb20\n",
      "Event created: https://www.google.com/calendar/event?eid=ZmxsZzk1cHZibmpybzJwMzZzczgzZ2twYzQgdGVzdC0yMTVAbHVja3ktcmVhY3Rvci00NDMzMDgtcjQuaWFtLmdzZXJ2aWNlYWNjb3VudC5jb20\n",
      "Error creating event for row 490: <HttpError 400 when requesting https://www.googleapis.com/calendar/v3/calendars/primary/events?alt=json returned \"The specified time range is empty.\". Details: \"[{'domain': 'calendar', 'reason': 'timeRangeEmpty', 'message': 'The specified time range is empty.', 'locationType': 'parameter', 'location': 'timeMax'}]\">\n",
      "Error creating event for row 491: <HttpError 400 when requesting https://www.googleapis.com/calendar/v3/calendars/primary/events?alt=json returned \"The specified time range is empty.\". Details: \"[{'domain': 'calendar', 'reason': 'timeRangeEmpty', 'message': 'The specified time range is empty.', 'locationType': 'parameter', 'location': 'timeMax'}]\">\n",
      "Error creating event for row 492: <HttpError 400 when requesting https://www.googleapis.com/calendar/v3/calendars/primary/events?alt=json returned \"The specified time range is empty.\". Details: \"[{'domain': 'calendar', 'reason': 'timeRangeEmpty', 'message': 'The specified time range is empty.', 'locationType': 'parameter', 'location': 'timeMax'}]\">\n",
      "Error creating event for row 493: <HttpError 400 when requesting https://www.googleapis.com/calendar/v3/calendars/primary/events?alt=json returned \"The specified time range is empty.\". Details: \"[{'domain': 'calendar', 'reason': 'timeRangeEmpty', 'message': 'The specified time range is empty.', 'locationType': 'parameter', 'location': 'timeMax'}]\">\n",
      "Error creating event for row 494: <HttpError 400 when requesting https://www.googleapis.com/calendar/v3/calendars/primary/events?alt=json returned \"The specified time range is empty.\". Details: \"[{'domain': 'calendar', 'reason': 'timeRangeEmpty', 'message': 'The specified time range is empty.', 'locationType': 'parameter', 'location': 'timeMax'}]\">\n",
      "Error creating event for row 495: <HttpError 400 when requesting https://www.googleapis.com/calendar/v3/calendars/primary/events?alt=json returned \"The specified time range is empty.\". Details: \"[{'domain': 'calendar', 'reason': 'timeRangeEmpty', 'message': 'The specified time range is empty.', 'locationType': 'parameter', 'location': 'timeMax'}]\">\n"
     ]
    },
    {
     "name": "stderr",
     "output_type": "stream",
     "text": [
      "C:\\Users\\heans\\AppData\\Local\\Temp\\ipykernel_22024\\3996378728.py:43: FutureWarning: Parsed string \"2024-12-14 00:00:00T15:30\" included an un-recognized timezone \"T\". Dropping unrecognized timezones is deprecated; in a future version this will raise. Instead pass the string without the timezone, then use .tz_localize to convert to a recognized timezone.\n",
      "  start_time_obj = pd.to_datetime(start_datetime_str)\n"
     ]
    },
    {
     "name": "stdout",
     "output_type": "stream",
     "text": [
      "Error creating event for row 496: <HttpError 400 when requesting https://www.googleapis.com/calendar/v3/calendars/primary/events?alt=json returned \"The specified time range is empty.\". Details: \"[{'domain': 'calendar', 'reason': 'timeRangeEmpty', 'message': 'The specified time range is empty.', 'locationType': 'parameter', 'location': 'timeMax'}]\">\n",
      "Error creating event for row 497: <HttpError 400 when requesting https://www.googleapis.com/calendar/v3/calendars/primary/events?alt=json returned \"The specified time range is empty.\". Details: \"[{'domain': 'calendar', 'reason': 'timeRangeEmpty', 'message': 'The specified time range is empty.', 'locationType': 'parameter', 'location': 'timeMax'}]\">\n",
      "Event created: https://www.google.com/calendar/event?eid=cG8yY2p2b2ltcnZrcHZiMzZkbHAya3RiMm8gdGVzdC0yMTVAbHVja3ktcmVhY3Rvci00NDMzMDgtcjQuaWFtLmdzZXJ2aWNlYWNjb3VudC5jb20\n",
      "Error creating event for row 499: <HttpError 400 when requesting https://www.googleapis.com/calendar/v3/calendars/primary/events?alt=json returned \"The specified time range is empty.\". Details: \"[{'domain': 'calendar', 'reason': 'timeRangeEmpty', 'message': 'The specified time range is empty.', 'locationType': 'parameter', 'location': 'timeMax'}]\">\n",
      "Error creating event for row 500: <HttpError 400 when requesting https://www.googleapis.com/calendar/v3/calendars/primary/events?alt=json returned \"The specified time range is empty.\". Details: \"[{'domain': 'calendar', 'reason': 'timeRangeEmpty', 'message': 'The specified time range is empty.', 'locationType': 'parameter', 'location': 'timeMax'}]\">\n",
      "Error creating event for row 501: <HttpError 400 when requesting https://www.googleapis.com/calendar/v3/calendars/primary/events?alt=json returned \"The specified time range is empty.\". Details: \"[{'domain': 'calendar', 'reason': 'timeRangeEmpty', 'message': 'The specified time range is empty.', 'locationType': 'parameter', 'location': 'timeMax'}]\">\n",
      "Event created: https://www.google.com/calendar/event?eid=YTM0YWluOThraWlidGtoZWNoczN0OTRxNXMgdGVzdC0yMTVAbHVja3ktcmVhY3Rvci00NDMzMDgtcjQuaWFtLmdzZXJ2aWNlYWNjb3VudC5jb20\n"
     ]
    },
    {
     "name": "stderr",
     "output_type": "stream",
     "text": [
      "C:\\Users\\heans\\AppData\\Local\\Temp\\ipykernel_22024\\3996378728.py:43: FutureWarning: Parsed string \"2024-12-14 00:00:00T16:00\" included an un-recognized timezone \"T\". Dropping unrecognized timezones is deprecated; in a future version this will raise. Instead pass the string without the timezone, then use .tz_localize to convert to a recognized timezone.\n",
      "  start_time_obj = pd.to_datetime(start_datetime_str)\n"
     ]
    },
    {
     "name": "stdout",
     "output_type": "stream",
     "text": [
      "Error creating event for row 503: <HttpError 400 when requesting https://www.googleapis.com/calendar/v3/calendars/primary/events?alt=json returned \"The specified time range is empty.\". Details: \"[{'domain': 'calendar', 'reason': 'timeRangeEmpty', 'message': 'The specified time range is empty.', 'locationType': 'parameter', 'location': 'timeMax'}]\">\n",
      "Event created: https://www.google.com/calendar/event?eid=N2NhYzdzbm9tZjVkN2l1Y2E0Y2tsN250NmMgdGVzdC0yMTVAbHVja3ktcmVhY3Rvci00NDMzMDgtcjQuaWFtLmdzZXJ2aWNlYWNjb3VudC5jb20\n",
      "Error creating event for row 505: <HttpError 400 when requesting https://www.googleapis.com/calendar/v3/calendars/primary/events?alt=json returned \"The specified time range is empty.\". Details: \"[{'domain': 'calendar', 'reason': 'timeRangeEmpty', 'message': 'The specified time range is empty.', 'locationType': 'parameter', 'location': 'timeMax'}]\">\n",
      "Error creating event for row 506: <HttpError 400 when requesting https://www.googleapis.com/calendar/v3/calendars/primary/events?alt=json returned \"The specified time range is empty.\". Details: \"[{'domain': 'calendar', 'reason': 'timeRangeEmpty', 'message': 'The specified time range is empty.', 'locationType': 'parameter', 'location': 'timeMax'}]\">\n",
      "Event created: https://www.google.com/calendar/event?eid=NjhtMnViYjUyYjhtcTE0bDcxaGhtMDRjbDggdGVzdC0yMTVAbHVja3ktcmVhY3Rvci00NDMzMDgtcjQuaWFtLmdzZXJ2aWNlYWNjb3VudC5jb20\n",
      "Error creating event for row 508: <HttpError 400 when requesting https://www.googleapis.com/calendar/v3/calendars/primary/events?alt=json returned \"The specified time range is empty.\". Details: \"[{'domain': 'calendar', 'reason': 'timeRangeEmpty', 'message': 'The specified time range is empty.', 'locationType': 'parameter', 'location': 'timeMax'}]\">\n",
      "Event created: https://www.google.com/calendar/event?eid=ZmIzbG9qdXI1cHRsaTExMTZ0dGdzbXU1YTAgdGVzdC0yMTVAbHVja3ktcmVhY3Rvci00NDMzMDgtcjQuaWFtLmdzZXJ2aWNlYWNjb3VudC5jb20\n",
      "Error creating event for row 510: <HttpError 400 when requesting https://www.googleapis.com/calendar/v3/calendars/primary/events?alt=json returned \"The specified time range is empty.\". Details: \"[{'domain': 'calendar', 'reason': 'timeRangeEmpty', 'message': 'The specified time range is empty.', 'locationType': 'parameter', 'location': 'timeMax'}]\">\n",
      "Error creating event for row 511: <HttpError 400 when requesting https://www.googleapis.com/calendar/v3/calendars/primary/events?alt=json returned \"The specified time range is empty.\". Details: \"[{'domain': 'calendar', 'reason': 'timeRangeEmpty', 'message': 'The specified time range is empty.', 'locationType': 'parameter', 'location': 'timeMax'}]\">\n",
      "Error creating event for row 512: <HttpError 400 when requesting https://www.googleapis.com/calendar/v3/calendars/primary/events?alt=json returned \"The specified time range is empty.\". Details: \"[{'domain': 'calendar', 'reason': 'timeRangeEmpty', 'message': 'The specified time range is empty.', 'locationType': 'parameter', 'location': 'timeMax'}]\">\n",
      "Event created: https://www.google.com/calendar/event?eid=OWxsNzBsMnRoY25tNWdtajdwcTM1N3ZjMDAgdGVzdC0yMTVAbHVja3ktcmVhY3Rvci00NDMzMDgtcjQuaWFtLmdzZXJ2aWNlYWNjb3VudC5jb20\n",
      "Error creating event for row 514: <HttpError 400 when requesting https://www.googleapis.com/calendar/v3/calendars/primary/events?alt=json returned \"The specified time range is empty.\". Details: \"[{'domain': 'calendar', 'reason': 'timeRangeEmpty', 'message': 'The specified time range is empty.', 'locationType': 'parameter', 'location': 'timeMax'}]\">\n",
      "Event created: https://www.google.com/calendar/event?eid=YjhucHZlZWR0NWlnbGNzZm80Mzl0czFsZGsgdGVzdC0yMTVAbHVja3ktcmVhY3Rvci00NDMzMDgtcjQuaWFtLmdzZXJ2aWNlYWNjb3VudC5jb20\n",
      "Event created: https://www.google.com/calendar/event?eid=cG4zZXE1NDMyZ2RqZTN0OWpxYzdhY3QyOWMgdGVzdC0yMTVAbHVja3ktcmVhY3Rvci00NDMzMDgtcjQuaWFtLmdzZXJ2aWNlYWNjb3VudC5jb20\n",
      "Error creating event for row 517: <HttpError 400 when requesting https://www.googleapis.com/calendar/v3/calendars/primary/events?alt=json returned \"The specified time range is empty.\". Details: \"[{'domain': 'calendar', 'reason': 'timeRangeEmpty', 'message': 'The specified time range is empty.', 'locationType': 'parameter', 'location': 'timeMax'}]\">\n",
      "Error creating event for row 518: <HttpError 400 when requesting https://www.googleapis.com/calendar/v3/calendars/primary/events?alt=json returned \"The specified time range is empty.\". Details: \"[{'domain': 'calendar', 'reason': 'timeRangeEmpty', 'message': 'The specified time range is empty.', 'locationType': 'parameter', 'location': 'timeMax'}]\">\n",
      "Error creating event for row 519: <HttpError 400 when requesting https://www.googleapis.com/calendar/v3/calendars/primary/events?alt=json returned \"The specified time range is empty.\". Details: \"[{'domain': 'calendar', 'reason': 'timeRangeEmpty', 'message': 'The specified time range is empty.', 'locationType': 'parameter', 'location': 'timeMax'}]\">\n",
      "Error creating event for row 520: <HttpError 400 when requesting https://www.googleapis.com/calendar/v3/calendars/primary/events?alt=json returned \"The specified time range is empty.\". Details: \"[{'domain': 'calendar', 'reason': 'timeRangeEmpty', 'message': 'The specified time range is empty.', 'locationType': 'parameter', 'location': 'timeMax'}]\">\n",
      "Error creating event for row 521: <HttpError 400 when requesting https://www.googleapis.com/calendar/v3/calendars/primary/events?alt=json returned \"The specified time range is empty.\". Details: \"[{'domain': 'calendar', 'reason': 'timeRangeEmpty', 'message': 'The specified time range is empty.', 'locationType': 'parameter', 'location': 'timeMax'}]\">\n",
      "Error creating event for row 522: <HttpError 400 when requesting https://www.googleapis.com/calendar/v3/calendars/primary/events?alt=json returned \"The specified time range is empty.\". Details: \"[{'domain': 'calendar', 'reason': 'timeRangeEmpty', 'message': 'The specified time range is empty.', 'locationType': 'parameter', 'location': 'timeMax'}]\">\n",
      "Event created: https://www.google.com/calendar/event?eid=cjIxcGwybGY3Yzk5bDEwZGVndWZlOWxlb2sgdGVzdC0yMTVAbHVja3ktcmVhY3Rvci00NDMzMDgtcjQuaWFtLmdzZXJ2aWNlYWNjb3VudC5jb20\n",
      "Event created: https://www.google.com/calendar/event?eid=NGhzYmIxNHIxMHNuMTZtNzFqY2kzdWlyZTAgdGVzdC0yMTVAbHVja3ktcmVhY3Rvci00NDMzMDgtcjQuaWFtLmdzZXJ2aWNlYWNjb3VudC5jb20\n",
      "Error creating event for row 525: <HttpError 400 when requesting https://www.googleapis.com/calendar/v3/calendars/primary/events?alt=json returned \"The specified time range is empty.\". Details: \"[{'domain': 'calendar', 'reason': 'timeRangeEmpty', 'message': 'The specified time range is empty.', 'locationType': 'parameter', 'location': 'timeMax'}]\">\n",
      "Event created: https://www.google.com/calendar/event?eid=MmxhZTcwdGNhb3ZmYTBmMmdxcjVjZG1xMG8gdGVzdC0yMTVAbHVja3ktcmVhY3Rvci00NDMzMDgtcjQuaWFtLmdzZXJ2aWNlYWNjb3VudC5jb20\n",
      "Error creating event for row 527: <HttpError 400 when requesting https://www.googleapis.com/calendar/v3/calendars/primary/events?alt=json returned \"The specified time range is empty.\". Details: \"[{'domain': 'calendar', 'reason': 'timeRangeEmpty', 'message': 'The specified time range is empty.', 'locationType': 'parameter', 'location': 'timeMax'}]\">\n",
      "Error creating event for row 528: <HttpError 400 when requesting https://www.googleapis.com/calendar/v3/calendars/primary/events?alt=json returned \"The specified time range is empty.\". Details: \"[{'domain': 'calendar', 'reason': 'timeRangeEmpty', 'message': 'The specified time range is empty.', 'locationType': 'parameter', 'location': 'timeMax'}]\">\n"
     ]
    },
    {
     "name": "stderr",
     "output_type": "stream",
     "text": [
      "C:\\Users\\heans\\AppData\\Local\\Temp\\ipykernel_22024\\3996378728.py:43: FutureWarning: Parsed string \"2024-12-14 00:00:00T16:30\" included an un-recognized timezone \"T\". Dropping unrecognized timezones is deprecated; in a future version this will raise. Instead pass the string without the timezone, then use .tz_localize to convert to a recognized timezone.\n",
      "  start_time_obj = pd.to_datetime(start_datetime_str)\n"
     ]
    },
    {
     "name": "stdout",
     "output_type": "stream",
     "text": [
      "Event created: https://www.google.com/calendar/event?eid=cDg2bmJxOG9yOGJqZG43Ym5xbm1zYjFydWsgdGVzdC0yMTVAbHVja3ktcmVhY3Rvci00NDMzMDgtcjQuaWFtLmdzZXJ2aWNlYWNjb3VudC5jb20\n",
      "Error creating event for row 530: <HttpError 400 when requesting https://www.googleapis.com/calendar/v3/calendars/primary/events?alt=json returned \"The specified time range is empty.\". Details: \"[{'domain': 'calendar', 'reason': 'timeRangeEmpty', 'message': 'The specified time range is empty.', 'locationType': 'parameter', 'location': 'timeMax'}]\">\n",
      "Error creating event for row 531: <HttpError 400 when requesting https://www.googleapis.com/calendar/v3/calendars/primary/events?alt=json returned \"The specified time range is empty.\". Details: \"[{'domain': 'calendar', 'reason': 'timeRangeEmpty', 'message': 'The specified time range is empty.', 'locationType': 'parameter', 'location': 'timeMax'}]\">\n",
      "Event created: https://www.google.com/calendar/event?eid=MTBmZHNiZ3ZnMjFmbnVrZDNycXVoZmpkZDggdGVzdC0yMTVAbHVja3ktcmVhY3Rvci00NDMzMDgtcjQuaWFtLmdzZXJ2aWNlYWNjb3VudC5jb20\n",
      "Error creating event for row 533: <HttpError 400 when requesting https://www.googleapis.com/calendar/v3/calendars/primary/events?alt=json returned \"The specified time range is empty.\". Details: \"[{'domain': 'calendar', 'reason': 'timeRangeEmpty', 'message': 'The specified time range is empty.', 'locationType': 'parameter', 'location': 'timeMax'}]\">\n"
     ]
    },
    {
     "name": "stderr",
     "output_type": "stream",
     "text": [
      "C:\\Users\\heans\\AppData\\Local\\Temp\\ipykernel_22024\\3996378728.py:43: FutureWarning: Parsed string \"2024-12-14 00:00:00T17:00\" included an un-recognized timezone \"T\". Dropping unrecognized timezones is deprecated; in a future version this will raise. Instead pass the string without the timezone, then use .tz_localize to convert to a recognized timezone.\n",
      "  start_time_obj = pd.to_datetime(start_datetime_str)\n"
     ]
    },
    {
     "name": "stdout",
     "output_type": "stream",
     "text": [
      "Event created: https://www.google.com/calendar/event?eid=bXU3ODFqcTBzZWdvZzZxanFmdDdrZWo2dDggdGVzdC0yMTVAbHVja3ktcmVhY3Rvci00NDMzMDgtcjQuaWFtLmdzZXJ2aWNlYWNjb3VudC5jb20\n",
      "Error creating event for row 535: <HttpError 400 when requesting https://www.googleapis.com/calendar/v3/calendars/primary/events?alt=json returned \"The specified time range is empty.\". Details: \"[{'domain': 'calendar', 'reason': 'timeRangeEmpty', 'message': 'The specified time range is empty.', 'locationType': 'parameter', 'location': 'timeMax'}]\">\n",
      "Error creating event for row 536: <HttpError 400 when requesting https://www.googleapis.com/calendar/v3/calendars/primary/events?alt=json returned \"The specified time range is empty.\". Details: \"[{'domain': 'calendar', 'reason': 'timeRangeEmpty', 'message': 'The specified time range is empty.', 'locationType': 'parameter', 'location': 'timeMax'}]\">\n",
      "Error creating event for row 537: <HttpError 400 when requesting https://www.googleapis.com/calendar/v3/calendars/primary/events?alt=json returned \"The specified time range is empty.\". Details: \"[{'domain': 'calendar', 'reason': 'timeRangeEmpty', 'message': 'The specified time range is empty.', 'locationType': 'parameter', 'location': 'timeMax'}]\">\n",
      "Error creating event for row 538: <HttpError 400 when requesting https://www.googleapis.com/calendar/v3/calendars/primary/events?alt=json returned \"The specified time range is empty.\". Details: \"[{'domain': 'calendar', 'reason': 'timeRangeEmpty', 'message': 'The specified time range is empty.', 'locationType': 'parameter', 'location': 'timeMax'}]\">\n",
      "Error creating event for row 539: <HttpError 400 when requesting https://www.googleapis.com/calendar/v3/calendars/primary/events?alt=json returned \"The specified time range is empty.\". Details: \"[{'domain': 'calendar', 'reason': 'timeRangeEmpty', 'message': 'The specified time range is empty.', 'locationType': 'parameter', 'location': 'timeMax'}]\">\n",
      "Error creating event for row 540: <HttpError 400 when requesting https://www.googleapis.com/calendar/v3/calendars/primary/events?alt=json returned \"The specified time range is empty.\". Details: \"[{'domain': 'calendar', 'reason': 'timeRangeEmpty', 'message': 'The specified time range is empty.', 'locationType': 'parameter', 'location': 'timeMax'}]\">\n",
      "Error creating event for row 541: <HttpError 400 when requesting https://www.googleapis.com/calendar/v3/calendars/primary/events?alt=json returned \"The specified time range is empty.\". Details: \"[{'domain': 'calendar', 'reason': 'timeRangeEmpty', 'message': 'The specified time range is empty.', 'locationType': 'parameter', 'location': 'timeMax'}]\">\n",
      "Error creating event for row 542: <HttpError 400 when requesting https://www.googleapis.com/calendar/v3/calendars/primary/events?alt=json returned \"The specified time range is empty.\". Details: \"[{'domain': 'calendar', 'reason': 'timeRangeEmpty', 'message': 'The specified time range is empty.', 'locationType': 'parameter', 'location': 'timeMax'}]\">\n",
      "Error creating event for row 543: <HttpError 400 when requesting https://www.googleapis.com/calendar/v3/calendars/primary/events?alt=json returned \"The specified time range is empty.\". Details: \"[{'domain': 'calendar', 'reason': 'timeRangeEmpty', 'message': 'The specified time range is empty.', 'locationType': 'parameter', 'location': 'timeMax'}]\">\n",
      "Event created: https://www.google.com/calendar/event?eid=MXBmYzhlNmdnbGVhMDM1ZHN1YmJsbTB2aWMgdGVzdC0yMTVAbHVja3ktcmVhY3Rvci00NDMzMDgtcjQuaWFtLmdzZXJ2aWNlYWNjb3VudC5jb20\n",
      "Event created: https://www.google.com/calendar/event?eid=ZWpjNmZhNmNvdjlnN3FlbXM3cXRqNGI1NW8gdGVzdC0yMTVAbHVja3ktcmVhY3Rvci00NDMzMDgtcjQuaWFtLmdzZXJ2aWNlYWNjb3VudC5jb20\n",
      "Error creating event for row 546: <HttpError 400 when requesting https://www.googleapis.com/calendar/v3/calendars/primary/events?alt=json returned \"The specified time range is empty.\". Details: \"[{'domain': 'calendar', 'reason': 'timeRangeEmpty', 'message': 'The specified time range is empty.', 'locationType': 'parameter', 'location': 'timeMax'}]\">\n",
      "Error creating event for row 547: <HttpError 400 when requesting https://www.googleapis.com/calendar/v3/calendars/primary/events?alt=json returned \"The specified time range is empty.\". Details: \"[{'domain': 'calendar', 'reason': 'timeRangeEmpty', 'message': 'The specified time range is empty.', 'locationType': 'parameter', 'location': 'timeMax'}]\">\n",
      "Error creating event for row 548: <HttpError 400 when requesting https://www.googleapis.com/calendar/v3/calendars/primary/events?alt=json returned \"The specified time range is empty.\". Details: \"[{'domain': 'calendar', 'reason': 'timeRangeEmpty', 'message': 'The specified time range is empty.', 'locationType': 'parameter', 'location': 'timeMax'}]\">\n",
      "Error creating event for row 549: <HttpError 400 when requesting https://www.googleapis.com/calendar/v3/calendars/primary/events?alt=json returned \"The specified time range is empty.\". Details: \"[{'domain': 'calendar', 'reason': 'timeRangeEmpty', 'message': 'The specified time range is empty.', 'locationType': 'parameter', 'location': 'timeMax'}]\">\n",
      "Event created: https://www.google.com/calendar/event?eid=MGtka29lcXRuZHJvbWRzdWVlMDhhNjRzamsgdGVzdC0yMTVAbHVja3ktcmVhY3Rvci00NDMzMDgtcjQuaWFtLmdzZXJ2aWNlYWNjb3VudC5jb20\n",
      "Error creating event for row 551: <HttpError 400 when requesting https://www.googleapis.com/calendar/v3/calendars/primary/events?alt=json returned \"The specified time range is empty.\". Details: \"[{'domain': 'calendar', 'reason': 'timeRangeEmpty', 'message': 'The specified time range is empty.', 'locationType': 'parameter', 'location': 'timeMax'}]\">\n",
      "Event created: https://www.google.com/calendar/event?eid=bWZzbzZvb3JkczFyM2ZyZnJqdGgyZWt2MGsgdGVzdC0yMTVAbHVja3ktcmVhY3Rvci00NDMzMDgtcjQuaWFtLmdzZXJ2aWNlYWNjb3VudC5jb20\n",
      "Error creating event for row 553: <HttpError 400 when requesting https://www.googleapis.com/calendar/v3/calendars/primary/events?alt=json returned \"The specified time range is empty.\". Details: \"[{'domain': 'calendar', 'reason': 'timeRangeEmpty', 'message': 'The specified time range is empty.', 'locationType': 'parameter', 'location': 'timeMax'}]\">\n",
      "Event created: https://www.google.com/calendar/event?eid=ZWQwN2ZycHZscXJhY25nb203a2NyZW40ZGMgdGVzdC0yMTVAbHVja3ktcmVhY3Rvci00NDMzMDgtcjQuaWFtLmdzZXJ2aWNlYWNjb3VudC5jb20\n",
      "Event created: https://www.google.com/calendar/event?eid=bGdndWFnYzNkaWtndDAybWhmMjc1YzRlMDggdGVzdC0yMTVAbHVja3ktcmVhY3Rvci00NDMzMDgtcjQuaWFtLmdzZXJ2aWNlYWNjb3VudC5jb20\n",
      "Error creating event for row 556: <HttpError 400 when requesting https://www.googleapis.com/calendar/v3/calendars/primary/events?alt=json returned \"The specified time range is empty.\". Details: \"[{'domain': 'calendar', 'reason': 'timeRangeEmpty', 'message': 'The specified time range is empty.', 'locationType': 'parameter', 'location': 'timeMax'}]\">\n",
      "Error creating event for row 557: <HttpError 400 when requesting https://www.googleapis.com/calendar/v3/calendars/primary/events?alt=json returned \"The specified time range is empty.\". Details: \"[{'domain': 'calendar', 'reason': 'timeRangeEmpty', 'message': 'The specified time range is empty.', 'locationType': 'parameter', 'location': 'timeMax'}]\">\n",
      "Error creating event for row 558: <HttpError 400 when requesting https://www.googleapis.com/calendar/v3/calendars/primary/events?alt=json returned \"The specified time range is empty.\". Details: \"[{'domain': 'calendar', 'reason': 'timeRangeEmpty', 'message': 'The specified time range is empty.', 'locationType': 'parameter', 'location': 'timeMax'}]\">\n"
     ]
    },
    {
     "name": "stderr",
     "output_type": "stream",
     "text": [
      "C:\\Users\\heans\\AppData\\Local\\Temp\\ipykernel_22024\\3996378728.py:43: FutureWarning: Parsed string \"2024-12-14 00:00:00T17:30\" included an un-recognized timezone \"T\". Dropping unrecognized timezones is deprecated; in a future version this will raise. Instead pass the string without the timezone, then use .tz_localize to convert to a recognized timezone.\n",
      "  start_time_obj = pd.to_datetime(start_datetime_str)\n"
     ]
    },
    {
     "name": "stdout",
     "output_type": "stream",
     "text": [
      "Error creating event for row 559: <HttpError 400 when requesting https://www.googleapis.com/calendar/v3/calendars/primary/events?alt=json returned \"The specified time range is empty.\". Details: \"[{'domain': 'calendar', 'reason': 'timeRangeEmpty', 'message': 'The specified time range is empty.', 'locationType': 'parameter', 'location': 'timeMax'}]\">\n"
     ]
    },
    {
     "name": "stderr",
     "output_type": "stream",
     "text": [
      "C:\\Users\\heans\\AppData\\Local\\Temp\\ipykernel_22024\\3996378728.py:43: FutureWarning: Parsed string \"2024-12-14 00:00:00T18:00\" included an un-recognized timezone \"T\". Dropping unrecognized timezones is deprecated; in a future version this will raise. Instead pass the string without the timezone, then use .tz_localize to convert to a recognized timezone.\n",
      "  start_time_obj = pd.to_datetime(start_datetime_str)\n"
     ]
    },
    {
     "name": "stdout",
     "output_type": "stream",
     "text": [
      "Event created: https://www.google.com/calendar/event?eid=a2lqcnNiOGk5MjRnMm1mbWZiOWtrZTFlMmMgdGVzdC0yMTVAbHVja3ktcmVhY3Rvci00NDMzMDgtcjQuaWFtLmdzZXJ2aWNlYWNjb3VudC5jb20\n",
      "Error creating event for row 561: <HttpError 400 when requesting https://www.googleapis.com/calendar/v3/calendars/primary/events?alt=json returned \"The specified time range is empty.\". Details: \"[{'domain': 'calendar', 'reason': 'timeRangeEmpty', 'message': 'The specified time range is empty.', 'locationType': 'parameter', 'location': 'timeMax'}]\">\n",
      "Error creating event for row 562: <HttpError 400 when requesting https://www.googleapis.com/calendar/v3/calendars/primary/events?alt=json returned \"The specified time range is empty.\". Details: \"[{'domain': 'calendar', 'reason': 'timeRangeEmpty', 'message': 'The specified time range is empty.', 'locationType': 'parameter', 'location': 'timeMax'}]\">\n",
      "Error creating event for row 563: <HttpError 400 when requesting https://www.googleapis.com/calendar/v3/calendars/primary/events?alt=json returned \"The specified time range is empty.\". Details: \"[{'domain': 'calendar', 'reason': 'timeRangeEmpty', 'message': 'The specified time range is empty.', 'locationType': 'parameter', 'location': 'timeMax'}]\">\n",
      "Error creating event for row 564: <HttpError 400 when requesting https://www.googleapis.com/calendar/v3/calendars/primary/events?alt=json returned \"The specified time range is empty.\". Details: \"[{'domain': 'calendar', 'reason': 'timeRangeEmpty', 'message': 'The specified time range is empty.', 'locationType': 'parameter', 'location': 'timeMax'}]\">\n",
      "Event created: https://www.google.com/calendar/event?eid=Z2htbDVuMjRqbHRhYWNlNTUzdnU5YzFqcW8gdGVzdC0yMTVAbHVja3ktcmVhY3Rvci00NDMzMDgtcjQuaWFtLmdzZXJ2aWNlYWNjb3VudC5jb20\n",
      "Error creating event for row 566: <HttpError 400 when requesting https://www.googleapis.com/calendar/v3/calendars/primary/events?alt=json returned \"The specified time range is empty.\". Details: \"[{'domain': 'calendar', 'reason': 'timeRangeEmpty', 'message': 'The specified time range is empty.', 'locationType': 'parameter', 'location': 'timeMax'}]\">\n",
      "Error creating event for row 567: <HttpError 400 when requesting https://www.googleapis.com/calendar/v3/calendars/primary/events?alt=json returned \"The specified time range is empty.\". Details: \"[{'domain': 'calendar', 'reason': 'timeRangeEmpty', 'message': 'The specified time range is empty.', 'locationType': 'parameter', 'location': 'timeMax'}]\">\n",
      "Error creating event for row 568: <HttpError 400 when requesting https://www.googleapis.com/calendar/v3/calendars/primary/events?alt=json returned \"The specified time range is empty.\". Details: \"[{'domain': 'calendar', 'reason': 'timeRangeEmpty', 'message': 'The specified time range is empty.', 'locationType': 'parameter', 'location': 'timeMax'}]\">\n",
      "Error creating event for row 569: <HttpError 400 when requesting https://www.googleapis.com/calendar/v3/calendars/primary/events?alt=json returned \"The specified time range is empty.\". Details: \"[{'domain': 'calendar', 'reason': 'timeRangeEmpty', 'message': 'The specified time range is empty.', 'locationType': 'parameter', 'location': 'timeMax'}]\">\n",
      "Error creating event for row 570: <HttpError 400 when requesting https://www.googleapis.com/calendar/v3/calendars/primary/events?alt=json returned \"The specified time range is empty.\". Details: \"[{'domain': 'calendar', 'reason': 'timeRangeEmpty', 'message': 'The specified time range is empty.', 'locationType': 'parameter', 'location': 'timeMax'}]\">\n",
      "Error creating event for row 571: <HttpError 400 when requesting https://www.googleapis.com/calendar/v3/calendars/primary/events?alt=json returned \"The specified time range is empty.\". Details: \"[{'domain': 'calendar', 'reason': 'timeRangeEmpty', 'message': 'The specified time range is empty.', 'locationType': 'parameter', 'location': 'timeMax'}]\">\n",
      "Error creating event for row 572: <HttpError 400 when requesting https://www.googleapis.com/calendar/v3/calendars/primary/events?alt=json returned \"The specified time range is empty.\". Details: \"[{'domain': 'calendar', 'reason': 'timeRangeEmpty', 'message': 'The specified time range is empty.', 'locationType': 'parameter', 'location': 'timeMax'}]\">\n",
      "Error creating event for row 573: <HttpError 400 when requesting https://www.googleapis.com/calendar/v3/calendars/primary/events?alt=json returned \"The specified time range is empty.\". Details: \"[{'domain': 'calendar', 'reason': 'timeRangeEmpty', 'message': 'The specified time range is empty.', 'locationType': 'parameter', 'location': 'timeMax'}]\">\n",
      "Error creating event for row 574: <HttpError 400 when requesting https://www.googleapis.com/calendar/v3/calendars/primary/events?alt=json returned \"The specified time range is empty.\". Details: \"[{'domain': 'calendar', 'reason': 'timeRangeEmpty', 'message': 'The specified time range is empty.', 'locationType': 'parameter', 'location': 'timeMax'}]\">\n",
      "Error creating event for row 575: <HttpError 400 when requesting https://www.googleapis.com/calendar/v3/calendars/primary/events?alt=json returned \"The specified time range is empty.\". Details: \"[{'domain': 'calendar', 'reason': 'timeRangeEmpty', 'message': 'The specified time range is empty.', 'locationType': 'parameter', 'location': 'timeMax'}]\">\n",
      "Event created: https://www.google.com/calendar/event?eid=aG5ybjlqZGIxdmswNGYzNDZ2Z3RlNGZwOG8gdGVzdC0yMTVAbHVja3ktcmVhY3Rvci00NDMzMDgtcjQuaWFtLmdzZXJ2aWNlYWNjb3VudC5jb20\n",
      "Error creating event for row 577: <HttpError 400 when requesting https://www.googleapis.com/calendar/v3/calendars/primary/events?alt=json returned \"The specified time range is empty.\". Details: \"[{'domain': 'calendar', 'reason': 'timeRangeEmpty', 'message': 'The specified time range is empty.', 'locationType': 'parameter', 'location': 'timeMax'}]\">\n",
      "Event created: https://www.google.com/calendar/event?eid=NWcyZGVkajEzaTRjYXNlMjE0djRrOHVobmMgdGVzdC0yMTVAbHVja3ktcmVhY3Rvci00NDMzMDgtcjQuaWFtLmdzZXJ2aWNlYWNjb3VudC5jb20\n",
      "Error creating event for row 579: <HttpError 400 when requesting https://www.googleapis.com/calendar/v3/calendars/primary/events?alt=json returned \"The specified time range is empty.\". Details: \"[{'domain': 'calendar', 'reason': 'timeRangeEmpty', 'message': 'The specified time range is empty.', 'locationType': 'parameter', 'location': 'timeMax'}]\">\n",
      "Error creating event for row 580: <HttpError 400 when requesting https://www.googleapis.com/calendar/v3/calendars/primary/events?alt=json returned \"The specified time range is empty.\". Details: \"[{'domain': 'calendar', 'reason': 'timeRangeEmpty', 'message': 'The specified time range is empty.', 'locationType': 'parameter', 'location': 'timeMax'}]\">\n",
      "Error creating event for row 581: <HttpError 400 when requesting https://www.googleapis.com/calendar/v3/calendars/primary/events?alt=json returned \"The specified time range is empty.\". Details: \"[{'domain': 'calendar', 'reason': 'timeRangeEmpty', 'message': 'The specified time range is empty.', 'locationType': 'parameter', 'location': 'timeMax'}]\">\n",
      "Error creating event for row 582: <HttpError 400 when requesting https://www.googleapis.com/calendar/v3/calendars/primary/events?alt=json returned \"The specified time range is empty.\". Details: \"[{'domain': 'calendar', 'reason': 'timeRangeEmpty', 'message': 'The specified time range is empty.', 'locationType': 'parameter', 'location': 'timeMax'}]\">\n",
      "Error creating event for row 583: <HttpError 400 when requesting https://www.googleapis.com/calendar/v3/calendars/primary/events?alt=json returned \"The specified time range is empty.\". Details: \"[{'domain': 'calendar', 'reason': 'timeRangeEmpty', 'message': 'The specified time range is empty.', 'locationType': 'parameter', 'location': 'timeMax'}]\">\n"
     ]
    },
    {
     "name": "stderr",
     "output_type": "stream",
     "text": [
      "C:\\Users\\heans\\AppData\\Local\\Temp\\ipykernel_22024\\3996378728.py:43: FutureWarning: Parsed string \"2024-12-14 00:00:00T18:30\" included an un-recognized timezone \"T\". Dropping unrecognized timezones is deprecated; in a future version this will raise. Instead pass the string without the timezone, then use .tz_localize to convert to a recognized timezone.\n",
      "  start_time_obj = pd.to_datetime(start_datetime_str)\n"
     ]
    },
    {
     "name": "stdout",
     "output_type": "stream",
     "text": [
      "Error creating event for row 584: <HttpError 400 when requesting https://www.googleapis.com/calendar/v3/calendars/primary/events?alt=json returned \"The specified time range is empty.\". Details: \"[{'domain': 'calendar', 'reason': 'timeRangeEmpty', 'message': 'The specified time range is empty.', 'locationType': 'parameter', 'location': 'timeMax'}]\">\n",
      "Event created: https://www.google.com/calendar/event?eid=NmlvYXBpcHQ5b3I3Zmhtcms2MTV2b250MmMgdGVzdC0yMTVAbHVja3ktcmVhY3Rvci00NDMzMDgtcjQuaWFtLmdzZXJ2aWNlYWNjb3VudC5jb20\n",
      "Error creating event for row 586: <HttpError 400 when requesting https://www.googleapis.com/calendar/v3/calendars/primary/events?alt=json returned \"The specified time range is empty.\". Details: \"[{'domain': 'calendar', 'reason': 'timeRangeEmpty', 'message': 'The specified time range is empty.', 'locationType': 'parameter', 'location': 'timeMax'}]\">\n"
     ]
    },
    {
     "name": "stderr",
     "output_type": "stream",
     "text": [
      "C:\\Users\\heans\\AppData\\Local\\Temp\\ipykernel_22024\\3996378728.py:43: FutureWarning: Parsed string \"2024-12-14 00:00:00T18:45\" included an un-recognized timezone \"T\". Dropping unrecognized timezones is deprecated; in a future version this will raise. Instead pass the string without the timezone, then use .tz_localize to convert to a recognized timezone.\n",
      "  start_time_obj = pd.to_datetime(start_datetime_str)\n"
     ]
    },
    {
     "name": "stdout",
     "output_type": "stream",
     "text": [
      "Event created: https://www.google.com/calendar/event?eid=bGxmbXJtamxmaXZrajI2NHJyZWQ2cnNoNW8gdGVzdC0yMTVAbHVja3ktcmVhY3Rvci00NDMzMDgtcjQuaWFtLmdzZXJ2aWNlYWNjb3VudC5jb20\n",
      "Error creating event for row 588: <HttpError 400 when requesting https://www.googleapis.com/calendar/v3/calendars/primary/events?alt=json returned \"The specified time range is empty.\". Details: \"[{'domain': 'calendar', 'reason': 'timeRangeEmpty', 'message': 'The specified time range is empty.', 'locationType': 'parameter', 'location': 'timeMax'}]\">\n"
     ]
    },
    {
     "name": "stderr",
     "output_type": "stream",
     "text": [
      "C:\\Users\\heans\\AppData\\Local\\Temp\\ipykernel_22024\\3996378728.py:43: FutureWarning: Parsed string \"2024-12-14 00:00:00T19:00\" included an un-recognized timezone \"T\". Dropping unrecognized timezones is deprecated; in a future version this will raise. Instead pass the string without the timezone, then use .tz_localize to convert to a recognized timezone.\n",
      "  start_time_obj = pd.to_datetime(start_datetime_str)\n"
     ]
    },
    {
     "name": "stdout",
     "output_type": "stream",
     "text": [
      "Event created: https://www.google.com/calendar/event?eid=dHUzcDh0dWRyY3NqNHNqMDZwb2EwNmRkcXMgdGVzdC0yMTVAbHVja3ktcmVhY3Rvci00NDMzMDgtcjQuaWFtLmdzZXJ2aWNlYWNjb3VudC5jb20\n",
      "Error creating event for row 590: <HttpError 400 when requesting https://www.googleapis.com/calendar/v3/calendars/primary/events?alt=json returned \"The specified time range is empty.\". Details: \"[{'domain': 'calendar', 'reason': 'timeRangeEmpty', 'message': 'The specified time range is empty.', 'locationType': 'parameter', 'location': 'timeMax'}]\">\n",
      "Error creating event for row 591: <HttpError 400 when requesting https://www.googleapis.com/calendar/v3/calendars/primary/events?alt=json returned \"The specified time range is empty.\". Details: \"[{'domain': 'calendar', 'reason': 'timeRangeEmpty', 'message': 'The specified time range is empty.', 'locationType': 'parameter', 'location': 'timeMax'}]\">\n",
      "Error creating event for row 592: <HttpError 400 when requesting https://www.googleapis.com/calendar/v3/calendars/primary/events?alt=json returned \"The specified time range is empty.\". Details: \"[{'domain': 'calendar', 'reason': 'timeRangeEmpty', 'message': 'The specified time range is empty.', 'locationType': 'parameter', 'location': 'timeMax'}]\">\n",
      "Error creating event for row 593: <HttpError 400 when requesting https://www.googleapis.com/calendar/v3/calendars/primary/events?alt=json returned \"The specified time range is empty.\". Details: \"[{'domain': 'calendar', 'reason': 'timeRangeEmpty', 'message': 'The specified time range is empty.', 'locationType': 'parameter', 'location': 'timeMax'}]\">\n",
      "Error creating event for row 594: <HttpError 400 when requesting https://www.googleapis.com/calendar/v3/calendars/primary/events?alt=json returned \"The specified time range is empty.\". Details: \"[{'domain': 'calendar', 'reason': 'timeRangeEmpty', 'message': 'The specified time range is empty.', 'locationType': 'parameter', 'location': 'timeMax'}]\">\n",
      "Event created: https://www.google.com/calendar/event?eid=Zm4wZGMxa2RjcnVqbTF2aTlkaXVsMHRkcjQgdGVzdC0yMTVAbHVja3ktcmVhY3Rvci00NDMzMDgtcjQuaWFtLmdzZXJ2aWNlYWNjb3VudC5jb20\n",
      "Error creating event for row 596: <HttpError 400 when requesting https://www.googleapis.com/calendar/v3/calendars/primary/events?alt=json returned \"The specified time range is empty.\". Details: \"[{'domain': 'calendar', 'reason': 'timeRangeEmpty', 'message': 'The specified time range is empty.', 'locationType': 'parameter', 'location': 'timeMax'}]\">\n",
      "Error creating event for row 597: <HttpError 400 when requesting https://www.googleapis.com/calendar/v3/calendars/primary/events?alt=json returned \"The specified time range is empty.\". Details: \"[{'domain': 'calendar', 'reason': 'timeRangeEmpty', 'message': 'The specified time range is empty.', 'locationType': 'parameter', 'location': 'timeMax'}]\">\n",
      "Error creating event for row 598: <HttpError 400 when requesting https://www.googleapis.com/calendar/v3/calendars/primary/events?alt=json returned \"The specified time range is empty.\". Details: \"[{'domain': 'calendar', 'reason': 'timeRangeEmpty', 'message': 'The specified time range is empty.', 'locationType': 'parameter', 'location': 'timeMax'}]\">\n",
      "Error creating event for row 599: <HttpError 400 when requesting https://www.googleapis.com/calendar/v3/calendars/primary/events?alt=json returned \"The specified time range is empty.\". Details: \"[{'domain': 'calendar', 'reason': 'timeRangeEmpty', 'message': 'The specified time range is empty.', 'locationType': 'parameter', 'location': 'timeMax'}]\">\n",
      "Error creating event for row 600: <HttpError 400 when requesting https://www.googleapis.com/calendar/v3/calendars/primary/events?alt=json returned \"The specified time range is empty.\". Details: \"[{'domain': 'calendar', 'reason': 'timeRangeEmpty', 'message': 'The specified time range is empty.', 'locationType': 'parameter', 'location': 'timeMax'}]\">\n",
      "Error creating event for row 601: <HttpError 400 when requesting https://www.googleapis.com/calendar/v3/calendars/primary/events?alt=json returned \"The specified time range is empty.\". Details: \"[{'domain': 'calendar', 'reason': 'timeRangeEmpty', 'message': 'The specified time range is empty.', 'locationType': 'parameter', 'location': 'timeMax'}]\">\n",
      "Event created: https://www.google.com/calendar/event?eid=amd1OGhpZTRvcDRsYmlxNDZzYnBmYWdhYWcgdGVzdC0yMTVAbHVja3ktcmVhY3Rvci00NDMzMDgtcjQuaWFtLmdzZXJ2aWNlYWNjb3VudC5jb20\n",
      "Event created: https://www.google.com/calendar/event?eid=aGE1NWUwM2QzcWFjaHN0bXQ1NnFsNzljMjAgdGVzdC0yMTVAbHVja3ktcmVhY3Rvci00NDMzMDgtcjQuaWFtLmdzZXJ2aWNlYWNjb3VudC5jb20\n",
      "Error creating event for row 604: <HttpError 400 when requesting https://www.googleapis.com/calendar/v3/calendars/primary/events?alt=json returned \"The specified time range is empty.\". Details: \"[{'domain': 'calendar', 'reason': 'timeRangeEmpty', 'message': 'The specified time range is empty.', 'locationType': 'parameter', 'location': 'timeMax'}]\">\n",
      "Event created: https://www.google.com/calendar/event?eid=aDdpc2dyOGVtNm12aWFjY2YzYXVyOTJ0ZTggdGVzdC0yMTVAbHVja3ktcmVhY3Rvci00NDMzMDgtcjQuaWFtLmdzZXJ2aWNlYWNjb3VudC5jb20\n",
      "Error creating event for row 606: <HttpError 400 when requesting https://www.googleapis.com/calendar/v3/calendars/primary/events?alt=json returned \"The specified time range is empty.\". Details: \"[{'domain': 'calendar', 'reason': 'timeRangeEmpty', 'message': 'The specified time range is empty.', 'locationType': 'parameter', 'location': 'timeMax'}]\">\n",
      "Error creating event for row 607: <HttpError 400 when requesting https://www.googleapis.com/calendar/v3/calendars/primary/events?alt=json returned \"The specified time range is empty.\". Details: \"[{'domain': 'calendar', 'reason': 'timeRangeEmpty', 'message': 'The specified time range is empty.', 'locationType': 'parameter', 'location': 'timeMax'}]\">\n",
      "Error creating event for row 608: <HttpError 400 when requesting https://www.googleapis.com/calendar/v3/calendars/primary/events?alt=json returned \"The specified time range is empty.\". Details: \"[{'domain': 'calendar', 'reason': 'timeRangeEmpty', 'message': 'The specified time range is empty.', 'locationType': 'parameter', 'location': 'timeMax'}]\">\n",
      "Error creating event for row 609: <HttpError 400 when requesting https://www.googleapis.com/calendar/v3/calendars/primary/events?alt=json returned \"The specified time range is empty.\". Details: \"[{'domain': 'calendar', 'reason': 'timeRangeEmpty', 'message': 'The specified time range is empty.', 'locationType': 'parameter', 'location': 'timeMax'}]\">\n",
      "Event created: https://www.google.com/calendar/event?eid=NWM2bDNoNnVhcXNha3JiN3FuYjg3N28zdjQgdGVzdC0yMTVAbHVja3ktcmVhY3Rvci00NDMzMDgtcjQuaWFtLmdzZXJ2aWNlYWNjb3VudC5jb20\n",
      "Error creating event for row 611: <HttpError 400 when requesting https://www.googleapis.com/calendar/v3/calendars/primary/events?alt=json returned \"The specified time range is empty.\". Details: \"[{'domain': 'calendar', 'reason': 'timeRangeEmpty', 'message': 'The specified time range is empty.', 'locationType': 'parameter', 'location': 'timeMax'}]\">\n",
      "Error creating event for row 612: <HttpError 400 when requesting https://www.googleapis.com/calendar/v3/calendars/primary/events?alt=json returned \"The specified time range is empty.\". Details: \"[{'domain': 'calendar', 'reason': 'timeRangeEmpty', 'message': 'The specified time range is empty.', 'locationType': 'parameter', 'location': 'timeMax'}]\">\n",
      "Event created: https://www.google.com/calendar/event?eid=YmNuMTNxczBwYmNobjZhbTB2bHRmZzIyY2MgdGVzdC0yMTVAbHVja3ktcmVhY3Rvci00NDMzMDgtcjQuaWFtLmdzZXJ2aWNlYWNjb3VudC5jb20\n",
      "Error creating event for row 614: <HttpError 400 when requesting https://www.googleapis.com/calendar/v3/calendars/primary/events?alt=json returned \"The specified time range is empty.\". Details: \"[{'domain': 'calendar', 'reason': 'timeRangeEmpty', 'message': 'The specified time range is empty.', 'locationType': 'parameter', 'location': 'timeMax'}]\">\n",
      "Error creating event for row 615: <HttpError 400 when requesting https://www.googleapis.com/calendar/v3/calendars/primary/events?alt=json returned \"The specified time range is empty.\". Details: \"[{'domain': 'calendar', 'reason': 'timeRangeEmpty', 'message': 'The specified time range is empty.', 'locationType': 'parameter', 'location': 'timeMax'}]\">\n",
      "Error creating event for row 616: <HttpError 400 when requesting https://www.googleapis.com/calendar/v3/calendars/primary/events?alt=json returned \"The specified time range is empty.\". Details: \"[{'domain': 'calendar', 'reason': 'timeRangeEmpty', 'message': 'The specified time range is empty.', 'locationType': 'parameter', 'location': 'timeMax'}]\">\n",
      "Error creating event for row 617: <HttpError 400 when requesting https://www.googleapis.com/calendar/v3/calendars/primary/events?alt=json returned \"The specified time range is empty.\". Details: \"[{'domain': 'calendar', 'reason': 'timeRangeEmpty', 'message': 'The specified time range is empty.', 'locationType': 'parameter', 'location': 'timeMax'}]\">\n",
      "Error creating event for row 618: <HttpError 400 when requesting https://www.googleapis.com/calendar/v3/calendars/primary/events?alt=json returned \"The specified time range is empty.\". Details: \"[{'domain': 'calendar', 'reason': 'timeRangeEmpty', 'message': 'The specified time range is empty.', 'locationType': 'parameter', 'location': 'timeMax'}]\">\n",
      "Error creating event for row 619: <HttpError 400 when requesting https://www.googleapis.com/calendar/v3/calendars/primary/events?alt=json returned \"The specified time range is empty.\". Details: \"[{'domain': 'calendar', 'reason': 'timeRangeEmpty', 'message': 'The specified time range is empty.', 'locationType': 'parameter', 'location': 'timeMax'}]\">\n",
      "Error creating event for row 620: <HttpError 400 when requesting https://www.googleapis.com/calendar/v3/calendars/primary/events?alt=json returned \"The specified time range is empty.\". Details: \"[{'domain': 'calendar', 'reason': 'timeRangeEmpty', 'message': 'The specified time range is empty.', 'locationType': 'parameter', 'location': 'timeMax'}]\">\n",
      "Error creating event for row 621: <HttpError 400 when requesting https://www.googleapis.com/calendar/v3/calendars/primary/events?alt=json returned \"The specified time range is empty.\". Details: \"[{'domain': 'calendar', 'reason': 'timeRangeEmpty', 'message': 'The specified time range is empty.', 'locationType': 'parameter', 'location': 'timeMax'}]\">\n"
     ]
    },
    {
     "name": "stderr",
     "output_type": "stream",
     "text": [
      "C:\\Users\\heans\\AppData\\Local\\Temp\\ipykernel_22024\\3996378728.py:43: FutureWarning: Parsed string \"2024-12-14 00:00:00T19:30\" included an un-recognized timezone \"T\". Dropping unrecognized timezones is deprecated; in a future version this will raise. Instead pass the string without the timezone, then use .tz_localize to convert to a recognized timezone.\n",
      "  start_time_obj = pd.to_datetime(start_datetime_str)\n"
     ]
    },
    {
     "name": "stdout",
     "output_type": "stream",
     "text": [
      "Error creating event for row 622: <HttpError 400 when requesting https://www.googleapis.com/calendar/v3/calendars/primary/events?alt=json returned \"The specified time range is empty.\". Details: \"[{'domain': 'calendar', 'reason': 'timeRangeEmpty', 'message': 'The specified time range is empty.', 'locationType': 'parameter', 'location': 'timeMax'}]\">\n",
      "Error creating event for row 623: <HttpError 400 when requesting https://www.googleapis.com/calendar/v3/calendars/primary/events?alt=json returned \"The specified time range is empty.\". Details: \"[{'domain': 'calendar', 'reason': 'timeRangeEmpty', 'message': 'The specified time range is empty.', 'locationType': 'parameter', 'location': 'timeMax'}]\">\n",
      "Error creating event for row 624: <HttpError 400 when requesting https://www.googleapis.com/calendar/v3/calendars/primary/events?alt=json returned \"The specified time range is empty.\". Details: \"[{'domain': 'calendar', 'reason': 'timeRangeEmpty', 'message': 'The specified time range is empty.', 'locationType': 'parameter', 'location': 'timeMax'}]\">\n",
      "Error creating event for row 625: <HttpError 400 when requesting https://www.googleapis.com/calendar/v3/calendars/primary/events?alt=json returned \"The specified time range is empty.\". Details: \"[{'domain': 'calendar', 'reason': 'timeRangeEmpty', 'message': 'The specified time range is empty.', 'locationType': 'parameter', 'location': 'timeMax'}]\">\n",
      "Error creating event for row 626: <HttpError 400 when requesting https://www.googleapis.com/calendar/v3/calendars/primary/events?alt=json returned \"The specified time range is empty.\". Details: \"[{'domain': 'calendar', 'reason': 'timeRangeEmpty', 'message': 'The specified time range is empty.', 'locationType': 'parameter', 'location': 'timeMax'}]\">\n",
      "Event created: https://www.google.com/calendar/event?eid=azMyOG8yYThqMjNzdjBvbW80czZsdG1sNjQgdGVzdC0yMTVAbHVja3ktcmVhY3Rvci00NDMzMDgtcjQuaWFtLmdzZXJ2aWNlYWNjb3VudC5jb20\n",
      "Error creating event for row 628: <HttpError 400 when requesting https://www.googleapis.com/calendar/v3/calendars/primary/events?alt=json returned \"The specified time range is empty.\". Details: \"[{'domain': 'calendar', 'reason': 'timeRangeEmpty', 'message': 'The specified time range is empty.', 'locationType': 'parameter', 'location': 'timeMax'}]\">\n",
      "Error creating event for row 629: <HttpError 400 when requesting https://www.googleapis.com/calendar/v3/calendars/primary/events?alt=json returned \"The specified time range is empty.\". Details: \"[{'domain': 'calendar', 'reason': 'timeRangeEmpty', 'message': 'The specified time range is empty.', 'locationType': 'parameter', 'location': 'timeMax'}]\">\n",
      "Error creating event for row 630: <HttpError 400 when requesting https://www.googleapis.com/calendar/v3/calendars/primary/events?alt=json returned \"The specified time range is empty.\". Details: \"[{'domain': 'calendar', 'reason': 'timeRangeEmpty', 'message': 'The specified time range is empty.', 'locationType': 'parameter', 'location': 'timeMax'}]\">\n",
      "Error creating event for row 631: <HttpError 400 when requesting https://www.googleapis.com/calendar/v3/calendars/primary/events?alt=json returned \"The specified time range is empty.\". Details: \"[{'domain': 'calendar', 'reason': 'timeRangeEmpty', 'message': 'The specified time range is empty.', 'locationType': 'parameter', 'location': 'timeMax'}]\">\n",
      "Error creating event for row 632: <HttpError 400 when requesting https://www.googleapis.com/calendar/v3/calendars/primary/events?alt=json returned \"The specified time range is empty.\". Details: \"[{'domain': 'calendar', 'reason': 'timeRangeEmpty', 'message': 'The specified time range is empty.', 'locationType': 'parameter', 'location': 'timeMax'}]\">\n",
      "Event created: https://www.google.com/calendar/event?eid=YWNzZm5mZmZsaTZiMmg5ZmN0ZTBqY2dhbTggdGVzdC0yMTVAbHVja3ktcmVhY3Rvci00NDMzMDgtcjQuaWFtLmdzZXJ2aWNlYWNjb3VudC5jb20\n",
      "Error creating event for row 634: <HttpError 400 when requesting https://www.googleapis.com/calendar/v3/calendars/primary/events?alt=json returned \"The specified time range is empty.\". Details: \"[{'domain': 'calendar', 'reason': 'timeRangeEmpty', 'message': 'The specified time range is empty.', 'locationType': 'parameter', 'location': 'timeMax'}]\">\n",
      "Error creating event for row 635: <HttpError 400 when requesting https://www.googleapis.com/calendar/v3/calendars/primary/events?alt=json returned \"The specified time range is empty.\". Details: \"[{'domain': 'calendar', 'reason': 'timeRangeEmpty', 'message': 'The specified time range is empty.', 'locationType': 'parameter', 'location': 'timeMax'}]\">\n",
      "Error creating event for row 636: <HttpError 400 when requesting https://www.googleapis.com/calendar/v3/calendars/primary/events?alt=json returned \"The specified time range is empty.\". Details: \"[{'domain': 'calendar', 'reason': 'timeRangeEmpty', 'message': 'The specified time range is empty.', 'locationType': 'parameter', 'location': 'timeMax'}]\">\n",
      "Error creating event for row 637: <HttpError 400 when requesting https://www.googleapis.com/calendar/v3/calendars/primary/events?alt=json returned \"The specified time range is empty.\". Details: \"[{'domain': 'calendar', 'reason': 'timeRangeEmpty', 'message': 'The specified time range is empty.', 'locationType': 'parameter', 'location': 'timeMax'}]\">\n",
      "Event created: https://www.google.com/calendar/event?eid=dHYyMGNwMG9vcmFkYTZuYXRmYWpiMmtxcG8gdGVzdC0yMTVAbHVja3ktcmVhY3Rvci00NDMzMDgtcjQuaWFtLmdzZXJ2aWNlYWNjb3VudC5jb20\n",
      "Error creating event for row 639: <HttpError 400 when requesting https://www.googleapis.com/calendar/v3/calendars/primary/events?alt=json returned \"The specified time range is empty.\". Details: \"[{'domain': 'calendar', 'reason': 'timeRangeEmpty', 'message': 'The specified time range is empty.', 'locationType': 'parameter', 'location': 'timeMax'}]\">\n",
      "Error creating event for row 640: <HttpError 400 when requesting https://www.googleapis.com/calendar/v3/calendars/primary/events?alt=json returned \"The specified time range is empty.\". Details: \"[{'domain': 'calendar', 'reason': 'timeRangeEmpty', 'message': 'The specified time range is empty.', 'locationType': 'parameter', 'location': 'timeMax'}]\">\n",
      "Error creating event for row 641: <HttpError 400 when requesting https://www.googleapis.com/calendar/v3/calendars/primary/events?alt=json returned \"The specified time range is empty.\". Details: \"[{'domain': 'calendar', 'reason': 'timeRangeEmpty', 'message': 'The specified time range is empty.', 'locationType': 'parameter', 'location': 'timeMax'}]\">\n",
      "Error creating event for row 642: <HttpError 400 when requesting https://www.googleapis.com/calendar/v3/calendars/primary/events?alt=json returned \"The specified time range is empty.\". Details: \"[{'domain': 'calendar', 'reason': 'timeRangeEmpty', 'message': 'The specified time range is empty.', 'locationType': 'parameter', 'location': 'timeMax'}]\">\n",
      "Error creating event for row 643: <HttpError 400 when requesting https://www.googleapis.com/calendar/v3/calendars/primary/events?alt=json returned \"The specified time range is empty.\". Details: \"[{'domain': 'calendar', 'reason': 'timeRangeEmpty', 'message': 'The specified time range is empty.', 'locationType': 'parameter', 'location': 'timeMax'}]\">\n",
      "Error creating event for row 644: <HttpError 400 when requesting https://www.googleapis.com/calendar/v3/calendars/primary/events?alt=json returned \"The specified time range is empty.\". Details: \"[{'domain': 'calendar', 'reason': 'timeRangeEmpty', 'message': 'The specified time range is empty.', 'locationType': 'parameter', 'location': 'timeMax'}]\">\n",
      "Error creating event for row 645: <HttpError 400 when requesting https://www.googleapis.com/calendar/v3/calendars/primary/events?alt=json returned \"The specified time range is empty.\". Details: \"[{'domain': 'calendar', 'reason': 'timeRangeEmpty', 'message': 'The specified time range is empty.', 'locationType': 'parameter', 'location': 'timeMax'}]\">\n",
      "Error creating event for row 646: <HttpError 400 when requesting https://www.googleapis.com/calendar/v3/calendars/primary/events?alt=json returned \"The specified time range is empty.\". Details: \"[{'domain': 'calendar', 'reason': 'timeRangeEmpty', 'message': 'The specified time range is empty.', 'locationType': 'parameter', 'location': 'timeMax'}]\">\n",
      "Event created: https://www.google.com/calendar/event?eid=a2VyNGxwYmo5MHFqa2Y4ZDFjbHU2ZG43ODQgdGVzdC0yMTVAbHVja3ktcmVhY3Rvci00NDMzMDgtcjQuaWFtLmdzZXJ2aWNlYWNjb3VudC5jb20\n",
      "Error creating event for row 648: <HttpError 400 when requesting https://www.googleapis.com/calendar/v3/calendars/primary/events?alt=json returned \"The specified time range is empty.\". Details: \"[{'domain': 'calendar', 'reason': 'timeRangeEmpty', 'message': 'The specified time range is empty.', 'locationType': 'parameter', 'location': 'timeMax'}]\">\n",
      "Error creating event for row 649: <HttpError 400 when requesting https://www.googleapis.com/calendar/v3/calendars/primary/events?alt=json returned \"The specified time range is empty.\". Details: \"[{'domain': 'calendar', 'reason': 'timeRangeEmpty', 'message': 'The specified time range is empty.', 'locationType': 'parameter', 'location': 'timeMax'}]\">\n",
      "Error creating event for row 650: <HttpError 400 when requesting https://www.googleapis.com/calendar/v3/calendars/primary/events?alt=json returned \"The specified time range is empty.\". Details: \"[{'domain': 'calendar', 'reason': 'timeRangeEmpty', 'message': 'The specified time range is empty.', 'locationType': 'parameter', 'location': 'timeMax'}]\">\n"
     ]
    },
    {
     "name": "stderr",
     "output_type": "stream",
     "text": [
      "C:\\Users\\heans\\AppData\\Local\\Temp\\ipykernel_22024\\3996378728.py:43: FutureWarning: Parsed string \"2024-12-14 00:00:00T19:45\" included an un-recognized timezone \"T\". Dropping unrecognized timezones is deprecated; in a future version this will raise. Instead pass the string without the timezone, then use .tz_localize to convert to a recognized timezone.\n",
      "  start_time_obj = pd.to_datetime(start_datetime_str)\n"
     ]
    },
    {
     "name": "stdout",
     "output_type": "stream",
     "text": [
      "Error creating event for row 651: <HttpError 400 when requesting https://www.googleapis.com/calendar/v3/calendars/primary/events?alt=json returned \"The specified time range is empty.\". Details: \"[{'domain': 'calendar', 'reason': 'timeRangeEmpty', 'message': 'The specified time range is empty.', 'locationType': 'parameter', 'location': 'timeMax'}]\">\n",
      "Error creating event for row 652: <HttpError 400 when requesting https://www.googleapis.com/calendar/v3/calendars/primary/events?alt=json returned \"The specified time range is empty.\". Details: \"[{'domain': 'calendar', 'reason': 'timeRangeEmpty', 'message': 'The specified time range is empty.', 'locationType': 'parameter', 'location': 'timeMax'}]\">\n"
     ]
    },
    {
     "name": "stderr",
     "output_type": "stream",
     "text": [
      "C:\\Users\\heans\\AppData\\Local\\Temp\\ipykernel_22024\\3996378728.py:43: FutureWarning: Parsed string \"2024-12-14 00:00:00T20:00\" included an un-recognized timezone \"T\". Dropping unrecognized timezones is deprecated; in a future version this will raise. Instead pass the string without the timezone, then use .tz_localize to convert to a recognized timezone.\n",
      "  start_time_obj = pd.to_datetime(start_datetime_str)\n"
     ]
    },
    {
     "name": "stdout",
     "output_type": "stream",
     "text": [
      "Error creating event for row 653: <HttpError 400 when requesting https://www.googleapis.com/calendar/v3/calendars/primary/events?alt=json returned \"The specified time range is empty.\". Details: \"[{'domain': 'calendar', 'reason': 'timeRangeEmpty', 'message': 'The specified time range is empty.', 'locationType': 'parameter', 'location': 'timeMax'}]\">\n",
      "Error creating event for row 654: <HttpError 400 when requesting https://www.googleapis.com/calendar/v3/calendars/primary/events?alt=json returned \"The specified time range is empty.\". Details: \"[{'domain': 'calendar', 'reason': 'timeRangeEmpty', 'message': 'The specified time range is empty.', 'locationType': 'parameter', 'location': 'timeMax'}]\">\n",
      "Error creating event for row 655: <HttpError 400 when requesting https://www.googleapis.com/calendar/v3/calendars/primary/events?alt=json returned \"The specified time range is empty.\". Details: \"[{'domain': 'calendar', 'reason': 'timeRangeEmpty', 'message': 'The specified time range is empty.', 'locationType': 'parameter', 'location': 'timeMax'}]\">\n",
      "Error creating event for row 656: <HttpError 400 when requesting https://www.googleapis.com/calendar/v3/calendars/primary/events?alt=json returned \"The specified time range is empty.\". Details: \"[{'domain': 'calendar', 'reason': 'timeRangeEmpty', 'message': 'The specified time range is empty.', 'locationType': 'parameter', 'location': 'timeMax'}]\">\n",
      "Error creating event for row 657: <HttpError 400 when requesting https://www.googleapis.com/calendar/v3/calendars/primary/events?alt=json returned \"The specified time range is empty.\". Details: \"[{'domain': 'calendar', 'reason': 'timeRangeEmpty', 'message': 'The specified time range is empty.', 'locationType': 'parameter', 'location': 'timeMax'}]\">\n",
      "Error creating event for row 658: <HttpError 400 when requesting https://www.googleapis.com/calendar/v3/calendars/primary/events?alt=json returned \"The specified time range is empty.\". Details: \"[{'domain': 'calendar', 'reason': 'timeRangeEmpty', 'message': 'The specified time range is empty.', 'locationType': 'parameter', 'location': 'timeMax'}]\">\n",
      "Event created: https://www.google.com/calendar/event?eid=ZnNnYWljMmI3bDRzcGs1ODBuZ25qMjgyN28gdGVzdC0yMTVAbHVja3ktcmVhY3Rvci00NDMzMDgtcjQuaWFtLmdzZXJ2aWNlYWNjb3VudC5jb20\n",
      "Error creating event for row 660: <HttpError 400 when requesting https://www.googleapis.com/calendar/v3/calendars/primary/events?alt=json returned \"The specified time range is empty.\". Details: \"[{'domain': 'calendar', 'reason': 'timeRangeEmpty', 'message': 'The specified time range is empty.', 'locationType': 'parameter', 'location': 'timeMax'}]\">\n",
      "Error creating event for row 661: <HttpError 400 when requesting https://www.googleapis.com/calendar/v3/calendars/primary/events?alt=json returned \"The specified time range is empty.\". Details: \"[{'domain': 'calendar', 'reason': 'timeRangeEmpty', 'message': 'The specified time range is empty.', 'locationType': 'parameter', 'location': 'timeMax'}]\">\n",
      "Error creating event for row 662: <HttpError 400 when requesting https://www.googleapis.com/calendar/v3/calendars/primary/events?alt=json returned \"The specified time range is empty.\". Details: \"[{'domain': 'calendar', 'reason': 'timeRangeEmpty', 'message': 'The specified time range is empty.', 'locationType': 'parameter', 'location': 'timeMax'}]\">\n",
      "Error creating event for row 663: <HttpError 400 when requesting https://www.googleapis.com/calendar/v3/calendars/primary/events?alt=json returned \"The specified time range is empty.\". Details: \"[{'domain': 'calendar', 'reason': 'timeRangeEmpty', 'message': 'The specified time range is empty.', 'locationType': 'parameter', 'location': 'timeMax'}]\">\n",
      "Error creating event for row 664: <HttpError 400 when requesting https://www.googleapis.com/calendar/v3/calendars/primary/events?alt=json returned \"The specified time range is empty.\". Details: \"[{'domain': 'calendar', 'reason': 'timeRangeEmpty', 'message': 'The specified time range is empty.', 'locationType': 'parameter', 'location': 'timeMax'}]\">\n",
      "Error creating event for row 665: <HttpError 400 when requesting https://www.googleapis.com/calendar/v3/calendars/primary/events?alt=json returned \"The specified time range is empty.\". Details: \"[{'domain': 'calendar', 'reason': 'timeRangeEmpty', 'message': 'The specified time range is empty.', 'locationType': 'parameter', 'location': 'timeMax'}]\">\n",
      "Event created: https://www.google.com/calendar/event?eid=MnU2NTRzaGozbnRlOWFzb2U4dTNqdDVoOTggdGVzdC0yMTVAbHVja3ktcmVhY3Rvci00NDMzMDgtcjQuaWFtLmdzZXJ2aWNlYWNjb3VudC5jb20\n",
      "Event created: https://www.google.com/calendar/event?eid=NTZxOWt1aW9pOXViYjE0bjI2b3NiY3VxOXMgdGVzdC0yMTVAbHVja3ktcmVhY3Rvci00NDMzMDgtcjQuaWFtLmdzZXJ2aWNlYWNjb3VudC5jb20\n",
      "Error creating event for row 668: <HttpError 400 when requesting https://www.googleapis.com/calendar/v3/calendars/primary/events?alt=json returned \"The specified time range is empty.\". Details: \"[{'domain': 'calendar', 'reason': 'timeRangeEmpty', 'message': 'The specified time range is empty.', 'locationType': 'parameter', 'location': 'timeMax'}]\">\n",
      "Error creating event for row 669: <HttpError 400 when requesting https://www.googleapis.com/calendar/v3/calendars/primary/events?alt=json returned \"The specified time range is empty.\". Details: \"[{'domain': 'calendar', 'reason': 'timeRangeEmpty', 'message': 'The specified time range is empty.', 'locationType': 'parameter', 'location': 'timeMax'}]\">\n",
      "Error creating event for row 670: <HttpError 400 when requesting https://www.googleapis.com/calendar/v3/calendars/primary/events?alt=json returned \"The specified time range is empty.\". Details: \"[{'domain': 'calendar', 'reason': 'timeRangeEmpty', 'message': 'The specified time range is empty.', 'locationType': 'parameter', 'location': 'timeMax'}]\">\n",
      "Event created: https://www.google.com/calendar/event?eid=cHVvODhvZWNmZmxrdTRjaTNhNW92b3ZiM28gdGVzdC0yMTVAbHVja3ktcmVhY3Rvci00NDMzMDgtcjQuaWFtLmdzZXJ2aWNlYWNjb3VudC5jb20\n",
      "Error creating event for row 672: <HttpError 400 when requesting https://www.googleapis.com/calendar/v3/calendars/primary/events?alt=json returned \"The specified time range is empty.\". Details: \"[{'domain': 'calendar', 'reason': 'timeRangeEmpty', 'message': 'The specified time range is empty.', 'locationType': 'parameter', 'location': 'timeMax'}]\">\n",
      "Error creating event for row 673: <HttpError 400 when requesting https://www.googleapis.com/calendar/v3/calendars/primary/events?alt=json returned \"The specified time range is empty.\". Details: \"[{'domain': 'calendar', 'reason': 'timeRangeEmpty', 'message': 'The specified time range is empty.', 'locationType': 'parameter', 'location': 'timeMax'}]\">\n",
      "Error creating event for row 674: <HttpError 400 when requesting https://www.googleapis.com/calendar/v3/calendars/primary/events?alt=json returned \"The specified time range is empty.\". Details: \"[{'domain': 'calendar', 'reason': 'timeRangeEmpty', 'message': 'The specified time range is empty.', 'locationType': 'parameter', 'location': 'timeMax'}]\">\n",
      "Event created: https://www.google.com/calendar/event?eid=djRmNG03azVuc250YzlkYTk0dHU0ZzFiNDggdGVzdC0yMTVAbHVja3ktcmVhY3Rvci00NDMzMDgtcjQuaWFtLmdzZXJ2aWNlYWNjb3VudC5jb20\n",
      "Event created: https://www.google.com/calendar/event?eid=cHFjczA2ZWcydGlsc2J0bHE1ZHBkcHRkdjggdGVzdC0yMTVAbHVja3ktcmVhY3Rvci00NDMzMDgtcjQuaWFtLmdzZXJ2aWNlYWNjb3VudC5jb20\n",
      "Error creating event for row 677: <HttpError 400 when requesting https://www.googleapis.com/calendar/v3/calendars/primary/events?alt=json returned \"The specified time range is empty.\". Details: \"[{'domain': 'calendar', 'reason': 'timeRangeEmpty', 'message': 'The specified time range is empty.', 'locationType': 'parameter', 'location': 'timeMax'}]\">\n",
      "Error creating event for row 678: <HttpError 400 when requesting https://www.googleapis.com/calendar/v3/calendars/primary/events?alt=json returned \"The specified time range is empty.\". Details: \"[{'domain': 'calendar', 'reason': 'timeRangeEmpty', 'message': 'The specified time range is empty.', 'locationType': 'parameter', 'location': 'timeMax'}]\">\n",
      "Error creating event for row 679: <HttpError 400 when requesting https://www.googleapis.com/calendar/v3/calendars/primary/events?alt=json returned \"The specified time range is empty.\". Details: \"[{'domain': 'calendar', 'reason': 'timeRangeEmpty', 'message': 'The specified time range is empty.', 'locationType': 'parameter', 'location': 'timeMax'}]\">\n",
      "Error creating event for row 680: <HttpError 400 when requesting https://www.googleapis.com/calendar/v3/calendars/primary/events?alt=json returned \"The specified time range is empty.\". Details: \"[{'domain': 'calendar', 'reason': 'timeRangeEmpty', 'message': 'The specified time range is empty.', 'locationType': 'parameter', 'location': 'timeMax'}]\">\n",
      "Error creating event for row 681: <HttpError 400 when requesting https://www.googleapis.com/calendar/v3/calendars/primary/events?alt=json returned \"The specified time range is empty.\". Details: \"[{'domain': 'calendar', 'reason': 'timeRangeEmpty', 'message': 'The specified time range is empty.', 'locationType': 'parameter', 'location': 'timeMax'}]\">\n",
      "Error creating event for row 682: <HttpError 400 when requesting https://www.googleapis.com/calendar/v3/calendars/primary/events?alt=json returned \"The specified time range is empty.\". Details: \"[{'domain': 'calendar', 'reason': 'timeRangeEmpty', 'message': 'The specified time range is empty.', 'locationType': 'parameter', 'location': 'timeMax'}]\">\n",
      "Error creating event for row 683: <HttpError 400 when requesting https://www.googleapis.com/calendar/v3/calendars/primary/events?alt=json returned \"The specified time range is empty.\". Details: \"[{'domain': 'calendar', 'reason': 'timeRangeEmpty', 'message': 'The specified time range is empty.', 'locationType': 'parameter', 'location': 'timeMax'}]\">\n",
      "Error creating event for row 684: <HttpError 400 when requesting https://www.googleapis.com/calendar/v3/calendars/primary/events?alt=json returned \"The specified time range is empty.\". Details: \"[{'domain': 'calendar', 'reason': 'timeRangeEmpty', 'message': 'The specified time range is empty.', 'locationType': 'parameter', 'location': 'timeMax'}]\">\n",
      "Error creating event for row 685: <HttpError 400 when requesting https://www.googleapis.com/calendar/v3/calendars/primary/events?alt=json returned \"The specified time range is empty.\". Details: \"[{'domain': 'calendar', 'reason': 'timeRangeEmpty', 'message': 'The specified time range is empty.', 'locationType': 'parameter', 'location': 'timeMax'}]\">\n",
      "Error creating event for row 686: <HttpError 400 when requesting https://www.googleapis.com/calendar/v3/calendars/primary/events?alt=json returned \"The specified time range is empty.\". Details: \"[{'domain': 'calendar', 'reason': 'timeRangeEmpty', 'message': 'The specified time range is empty.', 'locationType': 'parameter', 'location': 'timeMax'}]\">\n",
      "Error creating event for row 687: <HttpError 400 when requesting https://www.googleapis.com/calendar/v3/calendars/primary/events?alt=json returned \"The specified time range is empty.\". Details: \"[{'domain': 'calendar', 'reason': 'timeRangeEmpty', 'message': 'The specified time range is empty.', 'locationType': 'parameter', 'location': 'timeMax'}]\">\n",
      "Error creating event for row 688: <HttpError 400 when requesting https://www.googleapis.com/calendar/v3/calendars/primary/events?alt=json returned \"The specified time range is empty.\". Details: \"[{'domain': 'calendar', 'reason': 'timeRangeEmpty', 'message': 'The specified time range is empty.', 'locationType': 'parameter', 'location': 'timeMax'}]\">\n",
      "Error creating event for row 689: <HttpError 400 when requesting https://www.googleapis.com/calendar/v3/calendars/primary/events?alt=json returned \"The specified time range is empty.\". Details: \"[{'domain': 'calendar', 'reason': 'timeRangeEmpty', 'message': 'The specified time range is empty.', 'locationType': 'parameter', 'location': 'timeMax'}]\">\n",
      "Error creating event for row 690: <HttpError 400 when requesting https://www.googleapis.com/calendar/v3/calendars/primary/events?alt=json returned \"The specified time range is empty.\". Details: \"[{'domain': 'calendar', 'reason': 'timeRangeEmpty', 'message': 'The specified time range is empty.', 'locationType': 'parameter', 'location': 'timeMax'}]\">\n",
      "Error creating event for row 691: <HttpError 400 when requesting https://www.googleapis.com/calendar/v3/calendars/primary/events?alt=json returned \"The specified time range is empty.\". Details: \"[{'domain': 'calendar', 'reason': 'timeRangeEmpty', 'message': 'The specified time range is empty.', 'locationType': 'parameter', 'location': 'timeMax'}]\">\n",
      "Event created: https://www.google.com/calendar/event?eid=aTA4bGR0NWJqOXY0OGllODJxaGdndGlyZXMgdGVzdC0yMTVAbHVja3ktcmVhY3Rvci00NDMzMDgtcjQuaWFtLmdzZXJ2aWNlYWNjb3VudC5jb20\n",
      "Error creating event for row 693: <HttpError 400 when requesting https://www.googleapis.com/calendar/v3/calendars/primary/events?alt=json returned \"The specified time range is empty.\". Details: \"[{'domain': 'calendar', 'reason': 'timeRangeEmpty', 'message': 'The specified time range is empty.', 'locationType': 'parameter', 'location': 'timeMax'}]\">\n",
      "Error creating event for row 694: <HttpError 400 when requesting https://www.googleapis.com/calendar/v3/calendars/primary/events?alt=json returned \"The specified time range is empty.\". Details: \"[{'domain': 'calendar', 'reason': 'timeRangeEmpty', 'message': 'The specified time range is empty.', 'locationType': 'parameter', 'location': 'timeMax'}]\">\n",
      "Error creating event for row 695: <HttpError 400 when requesting https://www.googleapis.com/calendar/v3/calendars/primary/events?alt=json returned \"The specified time range is empty.\". Details: \"[{'domain': 'calendar', 'reason': 'timeRangeEmpty', 'message': 'The specified time range is empty.', 'locationType': 'parameter', 'location': 'timeMax'}]\">\n",
      "Event created: https://www.google.com/calendar/event?eid=M25mZzl0aG5rdW4xczhmMnMwZjdnMW52bDggdGVzdC0yMTVAbHVja3ktcmVhY3Rvci00NDMzMDgtcjQuaWFtLmdzZXJ2aWNlYWNjb3VudC5jb20\n",
      "Error creating event for row 697: <HttpError 400 when requesting https://www.googleapis.com/calendar/v3/calendars/primary/events?alt=json returned \"The specified time range is empty.\". Details: \"[{'domain': 'calendar', 'reason': 'timeRangeEmpty', 'message': 'The specified time range is empty.', 'locationType': 'parameter', 'location': 'timeMax'}]\">\n",
      "Error creating event for row 698: <HttpError 400 when requesting https://www.googleapis.com/calendar/v3/calendars/primary/events?alt=json returned \"The specified time range is empty.\". Details: \"[{'domain': 'calendar', 'reason': 'timeRangeEmpty', 'message': 'The specified time range is empty.', 'locationType': 'parameter', 'location': 'timeMax'}]\">\n",
      "Error creating event for row 699: <HttpError 400 when requesting https://www.googleapis.com/calendar/v3/calendars/primary/events?alt=json returned \"The specified time range is empty.\". Details: \"[{'domain': 'calendar', 'reason': 'timeRangeEmpty', 'message': 'The specified time range is empty.', 'locationType': 'parameter', 'location': 'timeMax'}]\">\n",
      "Error creating event for row 700: <HttpError 400 when requesting https://www.googleapis.com/calendar/v3/calendars/primary/events?alt=json returned \"The specified time range is empty.\". Details: \"[{'domain': 'calendar', 'reason': 'timeRangeEmpty', 'message': 'The specified time range is empty.', 'locationType': 'parameter', 'location': 'timeMax'}]\">\n",
      "Error creating event for row 701: <HttpError 400 when requesting https://www.googleapis.com/calendar/v3/calendars/primary/events?alt=json returned \"The specified time range is empty.\". Details: \"[{'domain': 'calendar', 'reason': 'timeRangeEmpty', 'message': 'The specified time range is empty.', 'locationType': 'parameter', 'location': 'timeMax'}]\">\n",
      "Error creating event for row 702: <HttpError 400 when requesting https://www.googleapis.com/calendar/v3/calendars/primary/events?alt=json returned \"The specified time range is empty.\". Details: \"[{'domain': 'calendar', 'reason': 'timeRangeEmpty', 'message': 'The specified time range is empty.', 'locationType': 'parameter', 'location': 'timeMax'}]\">\n",
      "Error creating event for row 703: <HttpError 400 when requesting https://www.googleapis.com/calendar/v3/calendars/primary/events?alt=json returned \"The specified time range is empty.\". Details: \"[{'domain': 'calendar', 'reason': 'timeRangeEmpty', 'message': 'The specified time range is empty.', 'locationType': 'parameter', 'location': 'timeMax'}]\">\n",
      "Error creating event for row 704: <HttpError 400 when requesting https://www.googleapis.com/calendar/v3/calendars/primary/events?alt=json returned \"The specified time range is empty.\". Details: \"[{'domain': 'calendar', 'reason': 'timeRangeEmpty', 'message': 'The specified time range is empty.', 'locationType': 'parameter', 'location': 'timeMax'}]\">\n",
      "Error creating event for row 705: <HttpError 400 when requesting https://www.googleapis.com/calendar/v3/calendars/primary/events?alt=json returned \"The specified time range is empty.\". Details: \"[{'domain': 'calendar', 'reason': 'timeRangeEmpty', 'message': 'The specified time range is empty.', 'locationType': 'parameter', 'location': 'timeMax'}]\">\n",
      "Error creating event for row 706: <HttpError 400 when requesting https://www.googleapis.com/calendar/v3/calendars/primary/events?alt=json returned \"The specified time range is empty.\". Details: \"[{'domain': 'calendar', 'reason': 'timeRangeEmpty', 'message': 'The specified time range is empty.', 'locationType': 'parameter', 'location': 'timeMax'}]\">\n",
      "Error creating event for row 707: <HttpError 400 when requesting https://www.googleapis.com/calendar/v3/calendars/primary/events?alt=json returned \"The specified time range is empty.\". Details: \"[{'domain': 'calendar', 'reason': 'timeRangeEmpty', 'message': 'The specified time range is empty.', 'locationType': 'parameter', 'location': 'timeMax'}]\">\n",
      "Error creating event for row 708: <HttpError 400 when requesting https://www.googleapis.com/calendar/v3/calendars/primary/events?alt=json returned \"The specified time range is empty.\". Details: \"[{'domain': 'calendar', 'reason': 'timeRangeEmpty', 'message': 'The specified time range is empty.', 'locationType': 'parameter', 'location': 'timeMax'}]\">\n"
     ]
    },
    {
     "name": "stderr",
     "output_type": "stream",
     "text": [
      "C:\\Users\\heans\\AppData\\Local\\Temp\\ipykernel_22024\\3996378728.py:43: FutureWarning: Parsed string \"2024-12-14 00:00:00T20:01\" included an un-recognized timezone \"T\". Dropping unrecognized timezones is deprecated; in a future version this will raise. Instead pass the string without the timezone, then use .tz_localize to convert to a recognized timezone.\n",
      "  start_time_obj = pd.to_datetime(start_datetime_str)\n"
     ]
    },
    {
     "name": "stdout",
     "output_type": "stream",
     "text": [
      "Error creating event for row 709: <HttpError 400 when requesting https://www.googleapis.com/calendar/v3/calendars/primary/events?alt=json returned \"The specified time range is empty.\". Details: \"[{'domain': 'calendar', 'reason': 'timeRangeEmpty', 'message': 'The specified time range is empty.', 'locationType': 'parameter', 'location': 'timeMax'}]\">\n"
     ]
    },
    {
     "name": "stderr",
     "output_type": "stream",
     "text": [
      "C:\\Users\\heans\\AppData\\Local\\Temp\\ipykernel_22024\\3996378728.py:43: FutureWarning: Parsed string \"2024-12-14 00:00:00T20:30\" included an un-recognized timezone \"T\". Dropping unrecognized timezones is deprecated; in a future version this will raise. Instead pass the string without the timezone, then use .tz_localize to convert to a recognized timezone.\n",
      "  start_time_obj = pd.to_datetime(start_datetime_str)\n"
     ]
    },
    {
     "name": "stdout",
     "output_type": "stream",
     "text": [
      "Error creating event for row 710: <HttpError 400 when requesting https://www.googleapis.com/calendar/v3/calendars/primary/events?alt=json returned \"The specified time range is empty.\". Details: \"[{'domain': 'calendar', 'reason': 'timeRangeEmpty', 'message': 'The specified time range is empty.', 'locationType': 'parameter', 'location': 'timeMax'}]\">\n",
      "Error creating event for row 711: <HttpError 400 when requesting https://www.googleapis.com/calendar/v3/calendars/primary/events?alt=json returned \"The specified time range is empty.\". Details: \"[{'domain': 'calendar', 'reason': 'timeRangeEmpty', 'message': 'The specified time range is empty.', 'locationType': 'parameter', 'location': 'timeMax'}]\">\n",
      "Error creating event for row 712: <HttpError 400 when requesting https://www.googleapis.com/calendar/v3/calendars/primary/events?alt=json returned \"The specified time range is empty.\". Details: \"[{'domain': 'calendar', 'reason': 'timeRangeEmpty', 'message': 'The specified time range is empty.', 'locationType': 'parameter', 'location': 'timeMax'}]\">\n",
      "Error creating event for row 713: <HttpError 400 when requesting https://www.googleapis.com/calendar/v3/calendars/primary/events?alt=json returned \"The specified time range is empty.\". Details: \"[{'domain': 'calendar', 'reason': 'timeRangeEmpty', 'message': 'The specified time range is empty.', 'locationType': 'parameter', 'location': 'timeMax'}]\">\n",
      "Event created: https://www.google.com/calendar/event?eid=M3B2NWtrcWtjaWRiOTZ0OGgzamQ2NGxlYm8gdGVzdC0yMTVAbHVja3ktcmVhY3Rvci00NDMzMDgtcjQuaWFtLmdzZXJ2aWNlYWNjb3VudC5jb20\n",
      "Error creating event for row 715: <HttpError 400 when requesting https://www.googleapis.com/calendar/v3/calendars/primary/events?alt=json returned \"The specified time range is empty.\". Details: \"[{'domain': 'calendar', 'reason': 'timeRangeEmpty', 'message': 'The specified time range is empty.', 'locationType': 'parameter', 'location': 'timeMax'}]\">\n",
      "Error creating event for row 716: <HttpError 400 when requesting https://www.googleapis.com/calendar/v3/calendars/primary/events?alt=json returned \"The specified time range is empty.\". Details: \"[{'domain': 'calendar', 'reason': 'timeRangeEmpty', 'message': 'The specified time range is empty.', 'locationType': 'parameter', 'location': 'timeMax'}]\">\n",
      "Error creating event for row 717: <HttpError 400 when requesting https://www.googleapis.com/calendar/v3/calendars/primary/events?alt=json returned \"The specified time range is empty.\". Details: \"[{'domain': 'calendar', 'reason': 'timeRangeEmpty', 'message': 'The specified time range is empty.', 'locationType': 'parameter', 'location': 'timeMax'}]\">\n",
      "Error creating event for row 718: <HttpError 400 when requesting https://www.googleapis.com/calendar/v3/calendars/primary/events?alt=json returned \"The specified time range is empty.\". Details: \"[{'domain': 'calendar', 'reason': 'timeRangeEmpty', 'message': 'The specified time range is empty.', 'locationType': 'parameter', 'location': 'timeMax'}]\">\n",
      "Error creating event for row 719: <HttpError 400 when requesting https://www.googleapis.com/calendar/v3/calendars/primary/events?alt=json returned \"The specified time range is empty.\". Details: \"[{'domain': 'calendar', 'reason': 'timeRangeEmpty', 'message': 'The specified time range is empty.', 'locationType': 'parameter', 'location': 'timeMax'}]\">\n",
      "Error creating event for row 720: <HttpError 400 when requesting https://www.googleapis.com/calendar/v3/calendars/primary/events?alt=json returned \"The specified time range is empty.\". Details: \"[{'domain': 'calendar', 'reason': 'timeRangeEmpty', 'message': 'The specified time range is empty.', 'locationType': 'parameter', 'location': 'timeMax'}]\">\n"
     ]
    },
    {
     "name": "stderr",
     "output_type": "stream",
     "text": [
      "C:\\Users\\heans\\AppData\\Local\\Temp\\ipykernel_22024\\3996378728.py:43: FutureWarning: Parsed string \"2024-12-14 00:00:00T21:00\" included an un-recognized timezone \"T\". Dropping unrecognized timezones is deprecated; in a future version this will raise. Instead pass the string without the timezone, then use .tz_localize to convert to a recognized timezone.\n",
      "  start_time_obj = pd.to_datetime(start_datetime_str)\n"
     ]
    },
    {
     "name": "stdout",
     "output_type": "stream",
     "text": [
      "Error creating event for row 721: <HttpError 400 when requesting https://www.googleapis.com/calendar/v3/calendars/primary/events?alt=json returned \"The specified time range is empty.\". Details: \"[{'domain': 'calendar', 'reason': 'timeRangeEmpty', 'message': 'The specified time range is empty.', 'locationType': 'parameter', 'location': 'timeMax'}]\">\n",
      "Error creating event for row 722: <HttpError 400 when requesting https://www.googleapis.com/calendar/v3/calendars/primary/events?alt=json returned \"The specified time range is empty.\". Details: \"[{'domain': 'calendar', 'reason': 'timeRangeEmpty', 'message': 'The specified time range is empty.', 'locationType': 'parameter', 'location': 'timeMax'}]\">\n",
      "Error creating event for row 723: <HttpError 400 when requesting https://www.googleapis.com/calendar/v3/calendars/primary/events?alt=json returned \"The specified time range is empty.\". Details: \"[{'domain': 'calendar', 'reason': 'timeRangeEmpty', 'message': 'The specified time range is empty.', 'locationType': 'parameter', 'location': 'timeMax'}]\">\n",
      "Error creating event for row 724: <HttpError 400 when requesting https://www.googleapis.com/calendar/v3/calendars/primary/events?alt=json returned \"The specified time range is empty.\". Details: \"[{'domain': 'calendar', 'reason': 'timeRangeEmpty', 'message': 'The specified time range is empty.', 'locationType': 'parameter', 'location': 'timeMax'}]\">\n",
      "Error creating event for row 725: <HttpError 400 when requesting https://www.googleapis.com/calendar/v3/calendars/primary/events?alt=json returned \"The specified time range is empty.\". Details: \"[{'domain': 'calendar', 'reason': 'timeRangeEmpty', 'message': 'The specified time range is empty.', 'locationType': 'parameter', 'location': 'timeMax'}]\">\n",
      "Error creating event for row 726: <HttpError 400 when requesting https://www.googleapis.com/calendar/v3/calendars/primary/events?alt=json returned \"The specified time range is empty.\". Details: \"[{'domain': 'calendar', 'reason': 'timeRangeEmpty', 'message': 'The specified time range is empty.', 'locationType': 'parameter', 'location': 'timeMax'}]\">\n",
      "Error creating event for row 727: <HttpError 400 when requesting https://www.googleapis.com/calendar/v3/calendars/primary/events?alt=json returned \"The specified time range is empty.\". Details: \"[{'domain': 'calendar', 'reason': 'timeRangeEmpty', 'message': 'The specified time range is empty.', 'locationType': 'parameter', 'location': 'timeMax'}]\">\n",
      "Error creating event for row 728: <HttpError 400 when requesting https://www.googleapis.com/calendar/v3/calendars/primary/events?alt=json returned \"The specified time range is empty.\". Details: \"[{'domain': 'calendar', 'reason': 'timeRangeEmpty', 'message': 'The specified time range is empty.', 'locationType': 'parameter', 'location': 'timeMax'}]\">\n",
      "Error creating event for row 729: <HttpError 400 when requesting https://www.googleapis.com/calendar/v3/calendars/primary/events?alt=json returned \"The specified time range is empty.\". Details: \"[{'domain': 'calendar', 'reason': 'timeRangeEmpty', 'message': 'The specified time range is empty.', 'locationType': 'parameter', 'location': 'timeMax'}]\">\n",
      "Error creating event for row 730: <HttpError 400 when requesting https://www.googleapis.com/calendar/v3/calendars/primary/events?alt=json returned \"The specified time range is empty.\". Details: \"[{'domain': 'calendar', 'reason': 'timeRangeEmpty', 'message': 'The specified time range is empty.', 'locationType': 'parameter', 'location': 'timeMax'}]\">\n",
      "Error creating event for row 731: <HttpError 400 when requesting https://www.googleapis.com/calendar/v3/calendars/primary/events?alt=json returned \"The specified time range is empty.\". Details: \"[{'domain': 'calendar', 'reason': 'timeRangeEmpty', 'message': 'The specified time range is empty.', 'locationType': 'parameter', 'location': 'timeMax'}]\">\n",
      "Error creating event for row 732: <HttpError 400 when requesting https://www.googleapis.com/calendar/v3/calendars/primary/events?alt=json returned \"The specified time range is empty.\". Details: \"[{'domain': 'calendar', 'reason': 'timeRangeEmpty', 'message': 'The specified time range is empty.', 'locationType': 'parameter', 'location': 'timeMax'}]\">\n",
      "Error creating event for row 733: <HttpError 400 when requesting https://www.googleapis.com/calendar/v3/calendars/primary/events?alt=json returned \"The specified time range is empty.\". Details: \"[{'domain': 'calendar', 'reason': 'timeRangeEmpty', 'message': 'The specified time range is empty.', 'locationType': 'parameter', 'location': 'timeMax'}]\">\n",
      "Error creating event for row 734: <HttpError 400 when requesting https://www.googleapis.com/calendar/v3/calendars/primary/events?alt=json returned \"The specified time range is empty.\". Details: \"[{'domain': 'calendar', 'reason': 'timeRangeEmpty', 'message': 'The specified time range is empty.', 'locationType': 'parameter', 'location': 'timeMax'}]\">\n",
      "Error creating event for row 735: <HttpError 400 when requesting https://www.googleapis.com/calendar/v3/calendars/primary/events?alt=json returned \"The specified time range is empty.\". Details: \"[{'domain': 'calendar', 'reason': 'timeRangeEmpty', 'message': 'The specified time range is empty.', 'locationType': 'parameter', 'location': 'timeMax'}]\">\n",
      "Error creating event for row 736: <HttpError 400 when requesting https://www.googleapis.com/calendar/v3/calendars/primary/events?alt=json returned \"The specified time range is empty.\". Details: \"[{'domain': 'calendar', 'reason': 'timeRangeEmpty', 'message': 'The specified time range is empty.', 'locationType': 'parameter', 'location': 'timeMax'}]\">\n",
      "Error creating event for row 737: <HttpError 400 when requesting https://www.googleapis.com/calendar/v3/calendars/primary/events?alt=json returned \"The specified time range is empty.\". Details: \"[{'domain': 'calendar', 'reason': 'timeRangeEmpty', 'message': 'The specified time range is empty.', 'locationType': 'parameter', 'location': 'timeMax'}]\">\n"
     ]
    },
    {
     "name": "stderr",
     "output_type": "stream",
     "text": [
      "C:\\Users\\heans\\AppData\\Local\\Temp\\ipykernel_22024\\3996378728.py:43: FutureWarning: Parsed string \"2024-12-14 00:00:00T21:30\" included an un-recognized timezone \"T\". Dropping unrecognized timezones is deprecated; in a future version this will raise. Instead pass the string without the timezone, then use .tz_localize to convert to a recognized timezone.\n",
      "  start_time_obj = pd.to_datetime(start_datetime_str)\n"
     ]
    },
    {
     "name": "stdout",
     "output_type": "stream",
     "text": [
      "Error creating event for row 738: <HttpError 400 when requesting https://www.googleapis.com/calendar/v3/calendars/primary/events?alt=json returned \"The specified time range is empty.\". Details: \"[{'domain': 'calendar', 'reason': 'timeRangeEmpty', 'message': 'The specified time range is empty.', 'locationType': 'parameter', 'location': 'timeMax'}]\">\n",
      "Error creating event for row 739: <HttpError 400 when requesting https://www.googleapis.com/calendar/v3/calendars/primary/events?alt=json returned \"The specified time range is empty.\". Details: \"[{'domain': 'calendar', 'reason': 'timeRangeEmpty', 'message': 'The specified time range is empty.', 'locationType': 'parameter', 'location': 'timeMax'}]\">\n",
      "Error creating event for row 740: <HttpError 400 when requesting https://www.googleapis.com/calendar/v3/calendars/primary/events?alt=json returned \"The specified time range is empty.\". Details: \"[{'domain': 'calendar', 'reason': 'timeRangeEmpty', 'message': 'The specified time range is empty.', 'locationType': 'parameter', 'location': 'timeMax'}]\">\n",
      "Error creating event for row 741: <HttpError 400 when requesting https://www.googleapis.com/calendar/v3/calendars/primary/events?alt=json returned \"The specified time range is empty.\". Details: \"[{'domain': 'calendar', 'reason': 'timeRangeEmpty', 'message': 'The specified time range is empty.', 'locationType': 'parameter', 'location': 'timeMax'}]\">\n"
     ]
    },
    {
     "name": "stderr",
     "output_type": "stream",
     "text": [
      "C:\\Users\\heans\\AppData\\Local\\Temp\\ipykernel_22024\\3996378728.py:43: FutureWarning: Parsed string \"2024-12-14 00:00:00T22:00\" included an un-recognized timezone \"T\". Dropping unrecognized timezones is deprecated; in a future version this will raise. Instead pass the string without the timezone, then use .tz_localize to convert to a recognized timezone.\n",
      "  start_time_obj = pd.to_datetime(start_datetime_str)\n"
     ]
    },
    {
     "name": "stdout",
     "output_type": "stream",
     "text": [
      "Error creating event for row 742: <HttpError 400 when requesting https://www.googleapis.com/calendar/v3/calendars/primary/events?alt=json returned \"The specified time range is empty.\". Details: \"[{'domain': 'calendar', 'reason': 'timeRangeEmpty', 'message': 'The specified time range is empty.', 'locationType': 'parameter', 'location': 'timeMax'}]\">\n",
      "Error creating event for row 743: <HttpError 400 when requesting https://www.googleapis.com/calendar/v3/calendars/primary/events?alt=json returned \"The specified time range is empty.\". Details: \"[{'domain': 'calendar', 'reason': 'timeRangeEmpty', 'message': 'The specified time range is empty.', 'locationType': 'parameter', 'location': 'timeMax'}]\">\n",
      "Error creating event for row 744: <HttpError 400 when requesting https://www.googleapis.com/calendar/v3/calendars/primary/events?alt=json returned \"The specified time range is empty.\". Details: \"[{'domain': 'calendar', 'reason': 'timeRangeEmpty', 'message': 'The specified time range is empty.', 'locationType': 'parameter', 'location': 'timeMax'}]\">\n",
      "Error creating event for row 745: <HttpError 400 when requesting https://www.googleapis.com/calendar/v3/calendars/primary/events?alt=json returned \"The specified time range is empty.\". Details: \"[{'domain': 'calendar', 'reason': 'timeRangeEmpty', 'message': 'The specified time range is empty.', 'locationType': 'parameter', 'location': 'timeMax'}]\">\n",
      "Error creating event for row 746: <HttpError 400 when requesting https://www.googleapis.com/calendar/v3/calendars/primary/events?alt=json returned \"The specified time range is empty.\". Details: \"[{'domain': 'calendar', 'reason': 'timeRangeEmpty', 'message': 'The specified time range is empty.', 'locationType': 'parameter', 'location': 'timeMax'}]\">\n",
      "Error creating event for row 747: <HttpError 400 when requesting https://www.googleapis.com/calendar/v3/calendars/primary/events?alt=json returned \"The specified time range is empty.\". Details: \"[{'domain': 'calendar', 'reason': 'timeRangeEmpty', 'message': 'The specified time range is empty.', 'locationType': 'parameter', 'location': 'timeMax'}]\">\n",
      "Error creating event for row 748: <HttpError 400 when requesting https://www.googleapis.com/calendar/v3/calendars/primary/events?alt=json returned \"The specified time range is empty.\". Details: \"[{'domain': 'calendar', 'reason': 'timeRangeEmpty', 'message': 'The specified time range is empty.', 'locationType': 'parameter', 'location': 'timeMax'}]\">\n"
     ]
    },
    {
     "name": "stderr",
     "output_type": "stream",
     "text": [
      "C:\\Users\\heans\\AppData\\Local\\Temp\\ipykernel_22024\\3996378728.py:43: FutureWarning: Parsed string \"2024-12-14 00:00:00T22:30\" included an un-recognized timezone \"T\". Dropping unrecognized timezones is deprecated; in a future version this will raise. Instead pass the string without the timezone, then use .tz_localize to convert to a recognized timezone.\n",
      "  start_time_obj = pd.to_datetime(start_datetime_str)\n"
     ]
    },
    {
     "name": "stdout",
     "output_type": "stream",
     "text": [
      "Error creating event for row 749: <HttpError 400 when requesting https://www.googleapis.com/calendar/v3/calendars/primary/events?alt=json returned \"The specified time range is empty.\". Details: \"[{'domain': 'calendar', 'reason': 'timeRangeEmpty', 'message': 'The specified time range is empty.', 'locationType': 'parameter', 'location': 'timeMax'}]\">\n",
      "Error creating event for row 750: <HttpError 400 when requesting https://www.googleapis.com/calendar/v3/calendars/primary/events?alt=json returned \"The specified time range is empty.\". Details: \"[{'domain': 'calendar', 'reason': 'timeRangeEmpty', 'message': 'The specified time range is empty.', 'locationType': 'parameter', 'location': 'timeMax'}]\">\n",
      "Error creating event for row 751: <HttpError 400 when requesting https://www.googleapis.com/calendar/v3/calendars/primary/events?alt=json returned \"The specified time range is empty.\". Details: \"[{'domain': 'calendar', 'reason': 'timeRangeEmpty', 'message': 'The specified time range is empty.', 'locationType': 'parameter', 'location': 'timeMax'}]\">\n"
     ]
    },
    {
     "name": "stderr",
     "output_type": "stream",
     "text": [
      "C:\\Users\\heans\\AppData\\Local\\Temp\\ipykernel_22024\\3996378728.py:43: FutureWarning: Parsed string \"2024-12-14 00:00:00T23:00\" included an un-recognized timezone \"T\". Dropping unrecognized timezones is deprecated; in a future version this will raise. Instead pass the string without the timezone, then use .tz_localize to convert to a recognized timezone.\n",
      "  start_time_obj = pd.to_datetime(start_datetime_str)\n"
     ]
    },
    {
     "name": "stdout",
     "output_type": "stream",
     "text": [
      "Error creating event for row 752: <HttpError 400 when requesting https://www.googleapis.com/calendar/v3/calendars/primary/events?alt=json returned \"The specified time range is empty.\". Details: \"[{'domain': 'calendar', 'reason': 'timeRangeEmpty', 'message': 'The specified time range is empty.', 'locationType': 'parameter', 'location': 'timeMax'}]\">\n",
      "Error creating event for row 753: <HttpError 400 when requesting https://www.googleapis.com/calendar/v3/calendars/primary/events?alt=json returned \"The specified time range is empty.\". Details: \"[{'domain': 'calendar', 'reason': 'timeRangeEmpty', 'message': 'The specified time range is empty.', 'locationType': 'parameter', 'location': 'timeMax'}]\">\n",
      "Error creating event for row 754: <HttpError 400 when requesting https://www.googleapis.com/calendar/v3/calendars/primary/events?alt=json returned \"The specified time range is empty.\". Details: \"[{'domain': 'calendar', 'reason': 'timeRangeEmpty', 'message': 'The specified time range is empty.', 'locationType': 'parameter', 'location': 'timeMax'}]\">\n",
      "Error creating event for row 755: <HttpError 400 when requesting https://www.googleapis.com/calendar/v3/calendars/primary/events?alt=json returned \"The specified time range is empty.\". Details: \"[{'domain': 'calendar', 'reason': 'timeRangeEmpty', 'message': 'The specified time range is empty.', 'locationType': 'parameter', 'location': 'timeMax'}]\">\n",
      "Error creating event for row 756: <HttpError 400 when requesting https://www.googleapis.com/calendar/v3/calendars/primary/events?alt=json returned \"The specified time range is empty.\". Details: \"[{'domain': 'calendar', 'reason': 'timeRangeEmpty', 'message': 'The specified time range is empty.', 'locationType': 'parameter', 'location': 'timeMax'}]\">\n"
     ]
    },
    {
     "name": "stderr",
     "output_type": "stream",
     "text": [
      "C:\\Users\\heans\\AppData\\Local\\Temp\\ipykernel_22024\\3996378728.py:43: FutureWarning: Parsed string \"2024-12-14 00:00:00T23:59\" included an un-recognized timezone \"T\". Dropping unrecognized timezones is deprecated; in a future version this will raise. Instead pass the string without the timezone, then use .tz_localize to convert to a recognized timezone.\n",
      "  start_time_obj = pd.to_datetime(start_datetime_str)\n"
     ]
    },
    {
     "name": "stdout",
     "output_type": "stream",
     "text": [
      "Error creating event for row 757: <HttpError 400 when requesting https://www.googleapis.com/calendar/v3/calendars/primary/events?alt=json returned \"The specified time range is empty.\". Details: \"[{'domain': 'calendar', 'reason': 'timeRangeEmpty', 'message': 'The specified time range is empty.', 'locationType': 'parameter', 'location': 'timeMax'}]\">\n",
      "Error creating event for row 758: Unknown datetime string format, unable to parse: 2024-12-14 00:00:00Tganztägig, at position 0\n",
      "Error creating event for row 759: Unknown datetime string format, unable to parse: 2024-12-14 00:00:00Tganztägig, at position 0\n",
      "Error creating event for row 760: Unknown datetime string format, unable to parse: 2024-12-14 00:00:00Tganztägig, at position 0\n"
     ]
    },
    {
     "name": "stderr",
     "output_type": "stream",
     "text": [
      "C:\\Users\\heans\\AppData\\Local\\Temp\\ipykernel_22024\\3996378728.py:43: FutureWarning: Parsed string \"2024-12-15 00:00:00T \" included an un-recognized timezone \"T\". Dropping unrecognized timezones is deprecated; in a future version this will raise. Instead pass the string without the timezone, then use .tz_localize to convert to a recognized timezone.\n",
      "  start_time_obj = pd.to_datetime(start_datetime_str)\n"
     ]
    },
    {
     "name": "stdout",
     "output_type": "stream",
     "text": [
      "Event created: https://www.google.com/calendar/event?eid=bWNibzhyamU2dGlkMWZrMzc4Z2hocWNzM28gdGVzdC0yMTVAbHVja3ktcmVhY3Rvci00NDMzMDgtcjQuaWFtLmdzZXJ2aWNlYWNjb3VudC5jb20\n",
      "Event created: https://www.google.com/calendar/event?eid=bDZxYjQ3MGVzMjY4bTY0ZGdwanYwZnQzdWcgdGVzdC0yMTVAbHVja3ktcmVhY3Rvci00NDMzMDgtcjQuaWFtLmdzZXJ2aWNlYWNjb3VudC5jb20\n",
      "Error creating event for row 763: <HttpError 400 when requesting https://www.googleapis.com/calendar/v3/calendars/primary/events?alt=json returned \"The specified time range is empty.\". Details: \"[{'domain': 'calendar', 'reason': 'timeRangeEmpty', 'message': 'The specified time range is empty.', 'locationType': 'parameter', 'location': 'timeMax'}]\">\n"
     ]
    },
    {
     "name": "stderr",
     "output_type": "stream",
     "text": [
      "C:\\Users\\heans\\AppData\\Local\\Temp\\ipykernel_22024\\3996378728.py:43: FutureWarning: Parsed string \"2024-12-15 00:00:00T00:01\" included an un-recognized timezone \"T\". Dropping unrecognized timezones is deprecated; in a future version this will raise. Instead pass the string without the timezone, then use .tz_localize to convert to a recognized timezone.\n",
      "  start_time_obj = pd.to_datetime(start_datetime_str)\n",
      "C:\\Users\\heans\\AppData\\Local\\Temp\\ipykernel_22024\\3996378728.py:43: FutureWarning: Parsed string \"2024-12-15 00:00:00T08:00\" included an un-recognized timezone \"T\". Dropping unrecognized timezones is deprecated; in a future version this will raise. Instead pass the string without the timezone, then use .tz_localize to convert to a recognized timezone.\n",
      "  start_time_obj = pd.to_datetime(start_datetime_str)\n"
     ]
    },
    {
     "name": "stdout",
     "output_type": "stream",
     "text": [
      "Error creating event for row 764: <HttpError 400 when requesting https://www.googleapis.com/calendar/v3/calendars/primary/events?alt=json returned \"The specified time range is empty.\". Details: \"[{'domain': 'calendar', 'reason': 'timeRangeEmpty', 'message': 'The specified time range is empty.', 'locationType': 'parameter', 'location': 'timeMax'}]\">\n"
     ]
    },
    {
     "name": "stderr",
     "output_type": "stream",
     "text": [
      "C:\\Users\\heans\\AppData\\Local\\Temp\\ipykernel_22024\\3996378728.py:43: FutureWarning: Parsed string \"2024-12-15 00:00:00T09:00\" included an un-recognized timezone \"T\". Dropping unrecognized timezones is deprecated; in a future version this will raise. Instead pass the string without the timezone, then use .tz_localize to convert to a recognized timezone.\n",
      "  start_time_obj = pd.to_datetime(start_datetime_str)\n"
     ]
    },
    {
     "name": "stdout",
     "output_type": "stream",
     "text": [
      "Error creating event for row 765: <HttpError 400 when requesting https://www.googleapis.com/calendar/v3/calendars/primary/events?alt=json returned \"The specified time range is empty.\". Details: \"[{'domain': 'calendar', 'reason': 'timeRangeEmpty', 'message': 'The specified time range is empty.', 'locationType': 'parameter', 'location': 'timeMax'}]\">\n",
      "Error creating event for row 766: <HttpError 400 when requesting https://www.googleapis.com/calendar/v3/calendars/primary/events?alt=json returned \"The specified time range is empty.\". Details: \"[{'domain': 'calendar', 'reason': 'timeRangeEmpty', 'message': 'The specified time range is empty.', 'locationType': 'parameter', 'location': 'timeMax'}]\">\n",
      "Error creating event for row 767: <HttpError 400 when requesting https://www.googleapis.com/calendar/v3/calendars/primary/events?alt=json returned \"The specified time range is empty.\". Details: \"[{'domain': 'calendar', 'reason': 'timeRangeEmpty', 'message': 'The specified time range is empty.', 'locationType': 'parameter', 'location': 'timeMax'}]\">\n"
     ]
    },
    {
     "name": "stderr",
     "output_type": "stream",
     "text": [
      "C:\\Users\\heans\\AppData\\Local\\Temp\\ipykernel_22024\\3996378728.py:43: FutureWarning: Parsed string \"2024-12-15 00:00:00T09:30\" included an un-recognized timezone \"T\". Dropping unrecognized timezones is deprecated; in a future version this will raise. Instead pass the string without the timezone, then use .tz_localize to convert to a recognized timezone.\n",
      "  start_time_obj = pd.to_datetime(start_datetime_str)\n"
     ]
    },
    {
     "name": "stdout",
     "output_type": "stream",
     "text": [
      "Error creating event for row 768: <HttpError 400 when requesting https://www.googleapis.com/calendar/v3/calendars/primary/events?alt=json returned \"The specified time range is empty.\". Details: \"[{'domain': 'calendar', 'reason': 'timeRangeEmpty', 'message': 'The specified time range is empty.', 'locationType': 'parameter', 'location': 'timeMax'}]\">\n",
      "Error creating event for row 769: <HttpError 400 when requesting https://www.googleapis.com/calendar/v3/calendars/primary/events?alt=json returned \"The specified time range is empty.\". Details: \"[{'domain': 'calendar', 'reason': 'timeRangeEmpty', 'message': 'The specified time range is empty.', 'locationType': 'parameter', 'location': 'timeMax'}]\">\n",
      "Error creating event for row 770: <HttpError 400 when requesting https://www.googleapis.com/calendar/v3/calendars/primary/events?alt=json returned \"The specified time range is empty.\". Details: \"[{'domain': 'calendar', 'reason': 'timeRangeEmpty', 'message': 'The specified time range is empty.', 'locationType': 'parameter', 'location': 'timeMax'}]\">\n",
      "Error creating event for row 771: <HttpError 400 when requesting https://www.googleapis.com/calendar/v3/calendars/primary/events?alt=json returned \"The specified time range is empty.\". Details: \"[{'domain': 'calendar', 'reason': 'timeRangeEmpty', 'message': 'The specified time range is empty.', 'locationType': 'parameter', 'location': 'timeMax'}]\">\n",
      "Error creating event for row 772: <HttpError 400 when requesting https://www.googleapis.com/calendar/v3/calendars/primary/events?alt=json returned \"The specified time range is empty.\". Details: \"[{'domain': 'calendar', 'reason': 'timeRangeEmpty', 'message': 'The specified time range is empty.', 'locationType': 'parameter', 'location': 'timeMax'}]\">\n",
      "Error creating event for row 773: <HttpError 400 when requesting https://www.googleapis.com/calendar/v3/calendars/primary/events?alt=json returned \"The specified time range is empty.\". Details: \"[{'domain': 'calendar', 'reason': 'timeRangeEmpty', 'message': 'The specified time range is empty.', 'locationType': 'parameter', 'location': 'timeMax'}]\">\n",
      "Error creating event for row 774: <HttpError 400 when requesting https://www.googleapis.com/calendar/v3/calendars/primary/events?alt=json returned \"The specified time range is empty.\". Details: \"[{'domain': 'calendar', 'reason': 'timeRangeEmpty', 'message': 'The specified time range is empty.', 'locationType': 'parameter', 'location': 'timeMax'}]\">\n",
      "Error creating event for row 775: <HttpError 400 when requesting https://www.googleapis.com/calendar/v3/calendars/primary/events?alt=json returned \"The specified time range is empty.\". Details: \"[{'domain': 'calendar', 'reason': 'timeRangeEmpty', 'message': 'The specified time range is empty.', 'locationType': 'parameter', 'location': 'timeMax'}]\">\n",
      "Error creating event for row 776: <HttpError 400 when requesting https://www.googleapis.com/calendar/v3/calendars/primary/events?alt=json returned \"The specified time range is empty.\". Details: \"[{'domain': 'calendar', 'reason': 'timeRangeEmpty', 'message': 'The specified time range is empty.', 'locationType': 'parameter', 'location': 'timeMax'}]\">\n"
     ]
    },
    {
     "name": "stderr",
     "output_type": "stream",
     "text": [
      "C:\\Users\\heans\\AppData\\Local\\Temp\\ipykernel_22024\\3996378728.py:43: FutureWarning: Parsed string \"2024-12-15 00:00:00T09:45\" included an un-recognized timezone \"T\". Dropping unrecognized timezones is deprecated; in a future version this will raise. Instead pass the string without the timezone, then use .tz_localize to convert to a recognized timezone.\n",
      "  start_time_obj = pd.to_datetime(start_datetime_str)\n",
      "C:\\Users\\heans\\AppData\\Local\\Temp\\ipykernel_22024\\3996378728.py:43: FutureWarning: Parsed string \"2024-12-15 00:00:00T10:00\" included an un-recognized timezone \"T\". Dropping unrecognized timezones is deprecated; in a future version this will raise. Instead pass the string without the timezone, then use .tz_localize to convert to a recognized timezone.\n",
      "  start_time_obj = pd.to_datetime(start_datetime_str)\n"
     ]
    },
    {
     "name": "stdout",
     "output_type": "stream",
     "text": [
      "Event created: https://www.google.com/calendar/event?eid=Zm1rZ2c2MDZiMTNqZmhtMWM5MDYzdTBncGsgdGVzdC0yMTVAbHVja3ktcmVhY3Rvci00NDMzMDgtcjQuaWFtLmdzZXJ2aWNlYWNjb3VudC5jb20\n",
      "Error creating event for row 778: <HttpError 400 when requesting https://www.googleapis.com/calendar/v3/calendars/primary/events?alt=json returned \"The specified time range is empty.\". Details: \"[{'domain': 'calendar', 'reason': 'timeRangeEmpty', 'message': 'The specified time range is empty.', 'locationType': 'parameter', 'location': 'timeMax'}]\">\n",
      "Error creating event for row 779: <HttpError 400 when requesting https://www.googleapis.com/calendar/v3/calendars/primary/events?alt=json returned \"The specified time range is empty.\". Details: \"[{'domain': 'calendar', 'reason': 'timeRangeEmpty', 'message': 'The specified time range is empty.', 'locationType': 'parameter', 'location': 'timeMax'}]\">\n",
      "Event created: https://www.google.com/calendar/event?eid=c2ZxdWVpMHRpMDFyNDJmaTk3MjVnN3MwbjQgdGVzdC0yMTVAbHVja3ktcmVhY3Rvci00NDMzMDgtcjQuaWFtLmdzZXJ2aWNlYWNjb3VudC5jb20\n",
      "Error creating event for row 781: <HttpError 400 when requesting https://www.googleapis.com/calendar/v3/calendars/primary/events?alt=json returned \"The specified time range is empty.\". Details: \"[{'domain': 'calendar', 'reason': 'timeRangeEmpty', 'message': 'The specified time range is empty.', 'locationType': 'parameter', 'location': 'timeMax'}]\">\n",
      "Error creating event for row 782: <HttpError 400 when requesting https://www.googleapis.com/calendar/v3/calendars/primary/events?alt=json returned \"The specified time range is empty.\". Details: \"[{'domain': 'calendar', 'reason': 'timeRangeEmpty', 'message': 'The specified time range is empty.', 'locationType': 'parameter', 'location': 'timeMax'}]\">\n",
      "Event created: https://www.google.com/calendar/event?eid=MTdvZmptMHJmYXNtODhicWd1ZDRuazVianMgdGVzdC0yMTVAbHVja3ktcmVhY3Rvci00NDMzMDgtcjQuaWFtLmdzZXJ2aWNlYWNjb3VudC5jb20\n",
      "Error creating event for row 784: <HttpError 400 when requesting https://www.googleapis.com/calendar/v3/calendars/primary/events?alt=json returned \"The specified time range is empty.\". Details: \"[{'domain': 'calendar', 'reason': 'timeRangeEmpty', 'message': 'The specified time range is empty.', 'locationType': 'parameter', 'location': 'timeMax'}]\">\n",
      "Error creating event for row 785: <HttpError 400 when requesting https://www.googleapis.com/calendar/v3/calendars/primary/events?alt=json returned \"The specified time range is empty.\". Details: \"[{'domain': 'calendar', 'reason': 'timeRangeEmpty', 'message': 'The specified time range is empty.', 'locationType': 'parameter', 'location': 'timeMax'}]\">\n",
      "Event created: https://www.google.com/calendar/event?eid=czZ1dnRjZWdzcWhqcDk1dG1ncDE4aDlidGMgdGVzdC0yMTVAbHVja3ktcmVhY3Rvci00NDMzMDgtcjQuaWFtLmdzZXJ2aWNlYWNjb3VudC5jb20\n",
      "Error creating event for row 787: <HttpError 400 when requesting https://www.googleapis.com/calendar/v3/calendars/primary/events?alt=json returned \"The specified time range is empty.\". Details: \"[{'domain': 'calendar', 'reason': 'timeRangeEmpty', 'message': 'The specified time range is empty.', 'locationType': 'parameter', 'location': 'timeMax'}]\">\n",
      "Error creating event for row 788: <HttpError 400 when requesting https://www.googleapis.com/calendar/v3/calendars/primary/events?alt=json returned \"The specified time range is empty.\". Details: \"[{'domain': 'calendar', 'reason': 'timeRangeEmpty', 'message': 'The specified time range is empty.', 'locationType': 'parameter', 'location': 'timeMax'}]\">\n",
      "Error creating event for row 789: <HttpError 400 when requesting https://www.googleapis.com/calendar/v3/calendars/primary/events?alt=json returned \"The specified time range is empty.\". Details: \"[{'domain': 'calendar', 'reason': 'timeRangeEmpty', 'message': 'The specified time range is empty.', 'locationType': 'parameter', 'location': 'timeMax'}]\">\n",
      "Error creating event for row 790: <HttpError 400 when requesting https://www.googleapis.com/calendar/v3/calendars/primary/events?alt=json returned \"The specified time range is empty.\". Details: \"[{'domain': 'calendar', 'reason': 'timeRangeEmpty', 'message': 'The specified time range is empty.', 'locationType': 'parameter', 'location': 'timeMax'}]\">\n",
      "Event created: https://www.google.com/calendar/event?eid=Z25vODNkNmJrMWh0bDk0cDNsNmhrbmo4N2MgdGVzdC0yMTVAbHVja3ktcmVhY3Rvci00NDMzMDgtcjQuaWFtLmdzZXJ2aWNlYWNjb3VudC5jb20\n",
      "Error creating event for row 792: <HttpError 400 when requesting https://www.googleapis.com/calendar/v3/calendars/primary/events?alt=json returned \"The specified time range is empty.\". Details: \"[{'domain': 'calendar', 'reason': 'timeRangeEmpty', 'message': 'The specified time range is empty.', 'locationType': 'parameter', 'location': 'timeMax'}]\">\n",
      "Error creating event for row 793: <HttpError 400 when requesting https://www.googleapis.com/calendar/v3/calendars/primary/events?alt=json returned \"The specified time range is empty.\". Details: \"[{'domain': 'calendar', 'reason': 'timeRangeEmpty', 'message': 'The specified time range is empty.', 'locationType': 'parameter', 'location': 'timeMax'}]\">\n",
      "Event created: https://www.google.com/calendar/event?eid=MWF2MWI1ZTAxMWMxYXFzZnFobXNuNHM1YWMgdGVzdC0yMTVAbHVja3ktcmVhY3Rvci00NDMzMDgtcjQuaWFtLmdzZXJ2aWNlYWNjb3VudC5jb20\n",
      "Event created: https://www.google.com/calendar/event?eid=cDhpcjNvbTJkZWVyazkzZHJ2dDM1Ymg4dmcgdGVzdC0yMTVAbHVja3ktcmVhY3Rvci00NDMzMDgtcjQuaWFtLmdzZXJ2aWNlYWNjb3VudC5jb20\n",
      "Event created: https://www.google.com/calendar/event?eid=dXRzbjBlMHIzZGZ0ZTRtczZydDRtanExNG8gdGVzdC0yMTVAbHVja3ktcmVhY3Rvci00NDMzMDgtcjQuaWFtLmdzZXJ2aWNlYWNjb3VudC5jb20\n",
      "Error creating event for row 797: <HttpError 400 when requesting https://www.googleapis.com/calendar/v3/calendars/primary/events?alt=json returned \"The specified time range is empty.\". Details: \"[{'domain': 'calendar', 'reason': 'timeRangeEmpty', 'message': 'The specified time range is empty.', 'locationType': 'parameter', 'location': 'timeMax'}]\">\n",
      "Error creating event for row 798: <HttpError 400 when requesting https://www.googleapis.com/calendar/v3/calendars/primary/events?alt=json returned \"The specified time range is empty.\". Details: \"[{'domain': 'calendar', 'reason': 'timeRangeEmpty', 'message': 'The specified time range is empty.', 'locationType': 'parameter', 'location': 'timeMax'}]\">\n",
      "Error creating event for row 799: <HttpError 400 when requesting https://www.googleapis.com/calendar/v3/calendars/primary/events?alt=json returned \"The specified time range is empty.\". Details: \"[{'domain': 'calendar', 'reason': 'timeRangeEmpty', 'message': 'The specified time range is empty.', 'locationType': 'parameter', 'location': 'timeMax'}]\">\n",
      "Event created: https://www.google.com/calendar/event?eid=aWNkdHBrNXVpaGN1ZDMyaWZ1dnMwamJxYmMgdGVzdC0yMTVAbHVja3ktcmVhY3Rvci00NDMzMDgtcjQuaWFtLmdzZXJ2aWNlYWNjb3VudC5jb20\n",
      "Error creating event for row 801: <HttpError 400 when requesting https://www.googleapis.com/calendar/v3/calendars/primary/events?alt=json returned \"The specified time range is empty.\". Details: \"[{'domain': 'calendar', 'reason': 'timeRangeEmpty', 'message': 'The specified time range is empty.', 'locationType': 'parameter', 'location': 'timeMax'}]\">\n",
      "Error creating event for row 802: <HttpError 400 when requesting https://www.googleapis.com/calendar/v3/calendars/primary/events?alt=json returned \"The specified time range is empty.\". Details: \"[{'domain': 'calendar', 'reason': 'timeRangeEmpty', 'message': 'The specified time range is empty.', 'locationType': 'parameter', 'location': 'timeMax'}]\">\n",
      "Event created: https://www.google.com/calendar/event?eid=M3QzOWtzbTIzOWxpMHBhbzcyN2Nka2s0dGcgdGVzdC0yMTVAbHVja3ktcmVhY3Rvci00NDMzMDgtcjQuaWFtLmdzZXJ2aWNlYWNjb3VudC5jb20\n",
      "Event created: https://www.google.com/calendar/event?eid=bXRoYnU1OHI4cTFpZm0zNHJxZ3Y4ajBzcWsgdGVzdC0yMTVAbHVja3ktcmVhY3Rvci00NDMzMDgtcjQuaWFtLmdzZXJ2aWNlYWNjb3VudC5jb20\n",
      "Error creating event for row 805: <HttpError 400 when requesting https://www.googleapis.com/calendar/v3/calendars/primary/events?alt=json returned \"The specified time range is empty.\". Details: \"[{'domain': 'calendar', 'reason': 'timeRangeEmpty', 'message': 'The specified time range is empty.', 'locationType': 'parameter', 'location': 'timeMax'}]\">\n",
      "Error creating event for row 806: <HttpError 400 when requesting https://www.googleapis.com/calendar/v3/calendars/primary/events?alt=json returned \"The specified time range is empty.\". Details: \"[{'domain': 'calendar', 'reason': 'timeRangeEmpty', 'message': 'The specified time range is empty.', 'locationType': 'parameter', 'location': 'timeMax'}]\">\n",
      "Event created: https://www.google.com/calendar/event?eid=b2ZqZDFkMmlqbG81c29yaWphNXZpdW01amsgdGVzdC0yMTVAbHVja3ktcmVhY3Rvci00NDMzMDgtcjQuaWFtLmdzZXJ2aWNlYWNjb3VudC5jb20\n",
      "Event created: https://www.google.com/calendar/event?eid=a2ZudnU4ZzIyMmc0a3Zva2FqdjljM241dHMgdGVzdC0yMTVAbHVja3ktcmVhY3Rvci00NDMzMDgtcjQuaWFtLmdzZXJ2aWNlYWNjb3VudC5jb20\n",
      "Event created: https://www.google.com/calendar/event?eid=bXJ1anY0amNlM2VxdTUwa2sxbjExa3U2N2MgdGVzdC0yMTVAbHVja3ktcmVhY3Rvci00NDMzMDgtcjQuaWFtLmdzZXJ2aWNlYWNjb3VudC5jb20\n",
      "Error creating event for row 810: <HttpError 400 when requesting https://www.googleapis.com/calendar/v3/calendars/primary/events?alt=json returned \"The specified time range is empty.\". Details: \"[{'domain': 'calendar', 'reason': 'timeRangeEmpty', 'message': 'The specified time range is empty.', 'locationType': 'parameter', 'location': 'timeMax'}]\">\n",
      "Error creating event for row 811: <HttpError 400 when requesting https://www.googleapis.com/calendar/v3/calendars/primary/events?alt=json returned \"The specified time range is empty.\". Details: \"[{'domain': 'calendar', 'reason': 'timeRangeEmpty', 'message': 'The specified time range is empty.', 'locationType': 'parameter', 'location': 'timeMax'}]\">\n",
      "Event created: https://www.google.com/calendar/event?eid=a2k5ZXFlOWczcDBwYzg1bzdmYXZiMjZjbGMgdGVzdC0yMTVAbHVja3ktcmVhY3Rvci00NDMzMDgtcjQuaWFtLmdzZXJ2aWNlYWNjb3VudC5jb20\n",
      "Error creating event for row 813: <HttpError 400 when requesting https://www.googleapis.com/calendar/v3/calendars/primary/events?alt=json returned \"The specified time range is empty.\". Details: \"[{'domain': 'calendar', 'reason': 'timeRangeEmpty', 'message': 'The specified time range is empty.', 'locationType': 'parameter', 'location': 'timeMax'}]\">\n",
      "Event created: https://www.google.com/calendar/event?eid=bjViMGJzb2c4YTU3OG9xbDVzaTA2aDJmcGsgdGVzdC0yMTVAbHVja3ktcmVhY3Rvci00NDMzMDgtcjQuaWFtLmdzZXJ2aWNlYWNjb3VudC5jb20\n",
      "Event created: https://www.google.com/calendar/event?eid=YjZ2YmU2bWluNnAxNXFsZGFnbWd2anRxNTggdGVzdC0yMTVAbHVja3ktcmVhY3Rvci00NDMzMDgtcjQuaWFtLmdzZXJ2aWNlYWNjb3VudC5jb20\n",
      "Event created: https://www.google.com/calendar/event?eid=YXFrdDJuOTVrc3NyaG8ydDIxNWR0ZjlhczQgdGVzdC0yMTVAbHVja3ktcmVhY3Rvci00NDMzMDgtcjQuaWFtLmdzZXJ2aWNlYWNjb3VudC5jb20\n",
      "Error creating event for row 817: <HttpError 400 when requesting https://www.googleapis.com/calendar/v3/calendars/primary/events?alt=json returned \"The specified time range is empty.\". Details: \"[{'domain': 'calendar', 'reason': 'timeRangeEmpty', 'message': 'The specified time range is empty.', 'locationType': 'parameter', 'location': 'timeMax'}]\">\n",
      "Error creating event for row 818: <HttpError 400 when requesting https://www.googleapis.com/calendar/v3/calendars/primary/events?alt=json returned \"The specified time range is empty.\". Details: \"[{'domain': 'calendar', 'reason': 'timeRangeEmpty', 'message': 'The specified time range is empty.', 'locationType': 'parameter', 'location': 'timeMax'}]\">\n",
      "Error creating event for row 819: <HttpError 400 when requesting https://www.googleapis.com/calendar/v3/calendars/primary/events?alt=json returned \"The specified time range is empty.\". Details: \"[{'domain': 'calendar', 'reason': 'timeRangeEmpty', 'message': 'The specified time range is empty.', 'locationType': 'parameter', 'location': 'timeMax'}]\">\n",
      "Event created: https://www.google.com/calendar/event?eid=NWxmcDgzaGdiYnZvZG1jOWgzMHJsaXRmNzAgdGVzdC0yMTVAbHVja3ktcmVhY3Rvci00NDMzMDgtcjQuaWFtLmdzZXJ2aWNlYWNjb3VudC5jb20\n",
      "Event created: https://www.google.com/calendar/event?eid=MDNhcDFvYXZkNGloYjQ3Z2EzZ2s5dTI2aDggdGVzdC0yMTVAbHVja3ktcmVhY3Rvci00NDMzMDgtcjQuaWFtLmdzZXJ2aWNlYWNjb3VudC5jb20\n",
      "Error creating event for row 822: <HttpError 400 when requesting https://www.googleapis.com/calendar/v3/calendars/primary/events?alt=json returned \"The specified time range is empty.\". Details: \"[{'domain': 'calendar', 'reason': 'timeRangeEmpty', 'message': 'The specified time range is empty.', 'locationType': 'parameter', 'location': 'timeMax'}]\">\n",
      "Error creating event for row 823: <HttpError 400 when requesting https://www.googleapis.com/calendar/v3/calendars/primary/events?alt=json returned \"The specified time range is empty.\". Details: \"[{'domain': 'calendar', 'reason': 'timeRangeEmpty', 'message': 'The specified time range is empty.', 'locationType': 'parameter', 'location': 'timeMax'}]\">\n",
      "Event created: https://www.google.com/calendar/event?eid=cDQ3ZzNjbzE5NnJndDFqM3RuNnRwbzBzczggdGVzdC0yMTVAbHVja3ktcmVhY3Rvci00NDMzMDgtcjQuaWFtLmdzZXJ2aWNlYWNjb3VudC5jb20\n",
      "Error creating event for row 825: <HttpError 400 when requesting https://www.googleapis.com/calendar/v3/calendars/primary/events?alt=json returned \"The specified time range is empty.\". Details: \"[{'domain': 'calendar', 'reason': 'timeRangeEmpty', 'message': 'The specified time range is empty.', 'locationType': 'parameter', 'location': 'timeMax'}]\">\n",
      "Error creating event for row 826: <HttpError 400 when requesting https://www.googleapis.com/calendar/v3/calendars/primary/events?alt=json returned \"The specified time range is empty.\". Details: \"[{'domain': 'calendar', 'reason': 'timeRangeEmpty', 'message': 'The specified time range is empty.', 'locationType': 'parameter', 'location': 'timeMax'}]\">\n",
      "Error creating event for row 827: <HttpError 400 when requesting https://www.googleapis.com/calendar/v3/calendars/primary/events?alt=json returned \"The specified time range is empty.\". Details: \"[{'domain': 'calendar', 'reason': 'timeRangeEmpty', 'message': 'The specified time range is empty.', 'locationType': 'parameter', 'location': 'timeMax'}]\">\n",
      "Event created: https://www.google.com/calendar/event?eid=cjRlc29vOW9lYjNjZjZhNDVoMWRzbWxrdTQgdGVzdC0yMTVAbHVja3ktcmVhY3Rvci00NDMzMDgtcjQuaWFtLmdzZXJ2aWNlYWNjb3VudC5jb20\n",
      "Error creating event for row 829: <HttpError 400 when requesting https://www.googleapis.com/calendar/v3/calendars/primary/events?alt=json returned \"The specified time range is empty.\". Details: \"[{'domain': 'calendar', 'reason': 'timeRangeEmpty', 'message': 'The specified time range is empty.', 'locationType': 'parameter', 'location': 'timeMax'}]\">\n",
      "Error creating event for row 830: <HttpError 400 when requesting https://www.googleapis.com/calendar/v3/calendars/primary/events?alt=json returned \"The specified time range is empty.\". Details: \"[{'domain': 'calendar', 'reason': 'timeRangeEmpty', 'message': 'The specified time range is empty.', 'locationType': 'parameter', 'location': 'timeMax'}]\">\n"
     ]
    },
    {
     "name": "stderr",
     "output_type": "stream",
     "text": [
      "C:\\Users\\heans\\AppData\\Local\\Temp\\ipykernel_22024\\3996378728.py:43: FutureWarning: Parsed string \"2024-12-15 00:00:00T10:30\" included an un-recognized timezone \"T\". Dropping unrecognized timezones is deprecated; in a future version this will raise. Instead pass the string without the timezone, then use .tz_localize to convert to a recognized timezone.\n",
      "  start_time_obj = pd.to_datetime(start_datetime_str)\n"
     ]
    },
    {
     "name": "stdout",
     "output_type": "stream",
     "text": [
      "Error creating event for row 831: <HttpError 400 when requesting https://www.googleapis.com/calendar/v3/calendars/primary/events?alt=json returned \"The specified time range is empty.\". Details: \"[{'domain': 'calendar', 'reason': 'timeRangeEmpty', 'message': 'The specified time range is empty.', 'locationType': 'parameter', 'location': 'timeMax'}]\">\n",
      "Error creating event for row 832: <HttpError 400 when requesting https://www.googleapis.com/calendar/v3/calendars/primary/events?alt=json returned \"The specified time range is empty.\". Details: \"[{'domain': 'calendar', 'reason': 'timeRangeEmpty', 'message': 'The specified time range is empty.', 'locationType': 'parameter', 'location': 'timeMax'}]\">\n",
      "Event created: https://www.google.com/calendar/event?eid=MXB2ZDE2a3ZkYWlnZGprbGVmajJydHB1azAgdGVzdC0yMTVAbHVja3ktcmVhY3Rvci00NDMzMDgtcjQuaWFtLmdzZXJ2aWNlYWNjb3VudC5jb20\n"
     ]
    },
    {
     "name": "stderr",
     "output_type": "stream",
     "text": [
      "C:\\Users\\heans\\AppData\\Local\\Temp\\ipykernel_22024\\3996378728.py:43: FutureWarning: Parsed string \"2024-12-15 00:00:00T11:00\" included an un-recognized timezone \"T\". Dropping unrecognized timezones is deprecated; in a future version this will raise. Instead pass the string without the timezone, then use .tz_localize to convert to a recognized timezone.\n",
      "  start_time_obj = pd.to_datetime(start_datetime_str)\n"
     ]
    },
    {
     "name": "stdout",
     "output_type": "stream",
     "text": [
      "Error creating event for row 834: <HttpError 400 when requesting https://www.googleapis.com/calendar/v3/calendars/primary/events?alt=json returned \"The specified time range is empty.\". Details: \"[{'domain': 'calendar', 'reason': 'timeRangeEmpty', 'message': 'The specified time range is empty.', 'locationType': 'parameter', 'location': 'timeMax'}]\">\n",
      "Event created: https://www.google.com/calendar/event?eid=djgwcWE5M3RwNzFkcWJzbGExajZsdWY4dGsgdGVzdC0yMTVAbHVja3ktcmVhY3Rvci00NDMzMDgtcjQuaWFtLmdzZXJ2aWNlYWNjb3VudC5jb20\n",
      "Event created: https://www.google.com/calendar/event?eid=M2FwaTMwczdqaTBpdjB0bWFscTZxM3RuN2MgdGVzdC0yMTVAbHVja3ktcmVhY3Rvci00NDMzMDgtcjQuaWFtLmdzZXJ2aWNlYWNjb3VudC5jb20\n",
      "Event created: https://www.google.com/calendar/event?eid=b3VnNm9vNGo0aWZtbjNnYWdwNmo3b2FldW8gdGVzdC0yMTVAbHVja3ktcmVhY3Rvci00NDMzMDgtcjQuaWFtLmdzZXJ2aWNlYWNjb3VudC5jb20\n",
      "Event created: https://www.google.com/calendar/event?eid=NnZzMWR0bnVjb3J0M3NxOWpjazIyc3F2NGcgdGVzdC0yMTVAbHVja3ktcmVhY3Rvci00NDMzMDgtcjQuaWFtLmdzZXJ2aWNlYWNjb3VudC5jb20\n",
      "Error creating event for row 839: <HttpError 400 when requesting https://www.googleapis.com/calendar/v3/calendars/primary/events?alt=json returned \"The specified time range is empty.\". Details: \"[{'domain': 'calendar', 'reason': 'timeRangeEmpty', 'message': 'The specified time range is empty.', 'locationType': 'parameter', 'location': 'timeMax'}]\">\n",
      "Event created: https://www.google.com/calendar/event?eid=aW5hZ3EyZm02djBndjhhb3E4ZjM2MnVvZnMgdGVzdC0yMTVAbHVja3ktcmVhY3Rvci00NDMzMDgtcjQuaWFtLmdzZXJ2aWNlYWNjb3VudC5jb20\n",
      "Event created: https://www.google.com/calendar/event?eid=cTgxcjBqYWxuODcxYWM5ZjBoMnUycjBzaTAgdGVzdC0yMTVAbHVja3ktcmVhY3Rvci00NDMzMDgtcjQuaWFtLmdzZXJ2aWNlYWNjb3VudC5jb20\n",
      "Event created: https://www.google.com/calendar/event?eid=NGlvbWQ0bGxiM3Y3a25xMGUxNWpzaW12M3MgdGVzdC0yMTVAbHVja3ktcmVhY3Rvci00NDMzMDgtcjQuaWFtLmdzZXJ2aWNlYWNjb3VudC5jb20\n",
      "Error creating event for row 843: <HttpError 400 when requesting https://www.googleapis.com/calendar/v3/calendars/primary/events?alt=json returned \"The specified time range is empty.\". Details: \"[{'domain': 'calendar', 'reason': 'timeRangeEmpty', 'message': 'The specified time range is empty.', 'locationType': 'parameter', 'location': 'timeMax'}]\">\n",
      "Event created: https://www.google.com/calendar/event?eid=NmFwNWJlYWszYmMxdW5mZTk3c2QxbnRwMHMgdGVzdC0yMTVAbHVja3ktcmVhY3Rvci00NDMzMDgtcjQuaWFtLmdzZXJ2aWNlYWNjb3VudC5jb20\n",
      "Error creating event for row 845: <HttpError 400 when requesting https://www.googleapis.com/calendar/v3/calendars/primary/events?alt=json returned \"The specified time range is empty.\". Details: \"[{'domain': 'calendar', 'reason': 'timeRangeEmpty', 'message': 'The specified time range is empty.', 'locationType': 'parameter', 'location': 'timeMax'}]\">\n",
      "Error creating event for row 846: <HttpError 400 when requesting https://www.googleapis.com/calendar/v3/calendars/primary/events?alt=json returned \"The specified time range is empty.\". Details: \"[{'domain': 'calendar', 'reason': 'timeRangeEmpty', 'message': 'The specified time range is empty.', 'locationType': 'parameter', 'location': 'timeMax'}]\">\n",
      "Event created: https://www.google.com/calendar/event?eid=b3Y1ZXNicjl1Zmltam11YWNvc2R2cGgxZzggdGVzdC0yMTVAbHVja3ktcmVhY3Rvci00NDMzMDgtcjQuaWFtLmdzZXJ2aWNlYWNjb3VudC5jb20\n",
      "Event created: https://www.google.com/calendar/event?eid=Y3VzbmdrM3RmYm9qM2IyYXJyODc2Y3Z2dTggdGVzdC0yMTVAbHVja3ktcmVhY3Rvci00NDMzMDgtcjQuaWFtLmdzZXJ2aWNlYWNjb3VudC5jb20\n",
      "Event created: https://www.google.com/calendar/event?eid=aGpmYWwwYnQ4b2hnZWo1NDRsN2Q4dHFpNmcgdGVzdC0yMTVAbHVja3ktcmVhY3Rvci00NDMzMDgtcjQuaWFtLmdzZXJ2aWNlYWNjb3VudC5jb20\n",
      "Event created: https://www.google.com/calendar/event?eid=Y3UzaGwwazMza2FvZDlldTc2ajNtYnNzZG8gdGVzdC0yMTVAbHVja3ktcmVhY3Rvci00NDMzMDgtcjQuaWFtLmdzZXJ2aWNlYWNjb3VudC5jb20\n",
      "Event created: https://www.google.com/calendar/event?eid=aDJnZ2hwb2w4ODVmcGpkZnNpNGt1ZmlkN3MgdGVzdC0yMTVAbHVja3ktcmVhY3Rvci00NDMzMDgtcjQuaWFtLmdzZXJ2aWNlYWNjb3VudC5jb20\n",
      "Event created: https://www.google.com/calendar/event?eid=a2Q2MHM4OTVtdWxwbWo0NmY5aGo5dWNpcjggdGVzdC0yMTVAbHVja3ktcmVhY3Rvci00NDMzMDgtcjQuaWFtLmdzZXJ2aWNlYWNjb3VudC5jb20\n",
      "Event created: https://www.google.com/calendar/event?eid=NDVsaDY2bmluNDZqNWtpNmY0cjc5ZDBnaDAgdGVzdC0yMTVAbHVja3ktcmVhY3Rvci00NDMzMDgtcjQuaWFtLmdzZXJ2aWNlYWNjb3VudC5jb20\n",
      "Error creating event for row 854: <HttpError 400 when requesting https://www.googleapis.com/calendar/v3/calendars/primary/events?alt=json returned \"The specified time range is empty.\". Details: \"[{'domain': 'calendar', 'reason': 'timeRangeEmpty', 'message': 'The specified time range is empty.', 'locationType': 'parameter', 'location': 'timeMax'}]\">\n",
      "Error creating event for row 855: <HttpError 400 when requesting https://www.googleapis.com/calendar/v3/calendars/primary/events?alt=json returned \"The specified time range is empty.\". Details: \"[{'domain': 'calendar', 'reason': 'timeRangeEmpty', 'message': 'The specified time range is empty.', 'locationType': 'parameter', 'location': 'timeMax'}]\">\n",
      "Error creating event for row 856: <HttpError 400 when requesting https://www.googleapis.com/calendar/v3/calendars/primary/events?alt=json returned \"The specified time range is empty.\". Details: \"[{'domain': 'calendar', 'reason': 'timeRangeEmpty', 'message': 'The specified time range is empty.', 'locationType': 'parameter', 'location': 'timeMax'}]\">\n",
      "Error creating event for row 857: <HttpError 400 when requesting https://www.googleapis.com/calendar/v3/calendars/primary/events?alt=json returned \"The specified time range is empty.\". Details: \"[{'domain': 'calendar', 'reason': 'timeRangeEmpty', 'message': 'The specified time range is empty.', 'locationType': 'parameter', 'location': 'timeMax'}]\">\n",
      "Error creating event for row 858: <HttpError 400 when requesting https://www.googleapis.com/calendar/v3/calendars/primary/events?alt=json returned \"The specified time range is empty.\". Details: \"[{'domain': 'calendar', 'reason': 'timeRangeEmpty', 'message': 'The specified time range is empty.', 'locationType': 'parameter', 'location': 'timeMax'}]\">\n",
      "Error creating event for row 859: <HttpError 400 when requesting https://www.googleapis.com/calendar/v3/calendars/primary/events?alt=json returned \"The specified time range is empty.\". Details: \"[{'domain': 'calendar', 'reason': 'timeRangeEmpty', 'message': 'The specified time range is empty.', 'locationType': 'parameter', 'location': 'timeMax'}]\">\n",
      "Error creating event for row 860: <HttpError 400 when requesting https://www.googleapis.com/calendar/v3/calendars/primary/events?alt=json returned \"The specified time range is empty.\". Details: \"[{'domain': 'calendar', 'reason': 'timeRangeEmpty', 'message': 'The specified time range is empty.', 'locationType': 'parameter', 'location': 'timeMax'}]\">\n",
      "Event created: https://www.google.com/calendar/event?eid=Y2RjaDAwdTE0cGgzc3ZyOWtjaDE0ZGc5MDQgdGVzdC0yMTVAbHVja3ktcmVhY3Rvci00NDMzMDgtcjQuaWFtLmdzZXJ2aWNlYWNjb3VudC5jb20\n",
      "Event created: https://www.google.com/calendar/event?eid=a3I2N2hodW5rdTZmcDkyNmJkanU2azdrODggdGVzdC0yMTVAbHVja3ktcmVhY3Rvci00NDMzMDgtcjQuaWFtLmdzZXJ2aWNlYWNjb3VudC5jb20\n",
      "Event created: https://www.google.com/calendar/event?eid=cW80MHF2cXZsM2NrOTVuNTZua2Q2ZTBwbnMgdGVzdC0yMTVAbHVja3ktcmVhY3Rvci00NDMzMDgtcjQuaWFtLmdzZXJ2aWNlYWNjb3VudC5jb20\n",
      "Error creating event for row 864: <HttpError 400 when requesting https://www.googleapis.com/calendar/v3/calendars/primary/events?alt=json returned \"The specified time range is empty.\". Details: \"[{'domain': 'calendar', 'reason': 'timeRangeEmpty', 'message': 'The specified time range is empty.', 'locationType': 'parameter', 'location': 'timeMax'}]\">\n",
      "Event created: https://www.google.com/calendar/event?eid=aHU0bGw2cm8zMWltMGcxc3BzbXBqcjRoNnMgdGVzdC0yMTVAbHVja3ktcmVhY3Rvci00NDMzMDgtcjQuaWFtLmdzZXJ2aWNlYWNjb3VudC5jb20\n",
      "Event created: https://www.google.com/calendar/event?eid=NnMxMWI1MjlxOHU4NTczNHZ1ODJpdWp1cGsgdGVzdC0yMTVAbHVja3ktcmVhY3Rvci00NDMzMDgtcjQuaWFtLmdzZXJ2aWNlYWNjb3VudC5jb20\n",
      "Event created: https://www.google.com/calendar/event?eid=bDc1YWthMW12NnJvYnB1aWt0dDI1cjFjNXMgdGVzdC0yMTVAbHVja3ktcmVhY3Rvci00NDMzMDgtcjQuaWFtLmdzZXJ2aWNlYWNjb3VudC5jb20\n",
      "Error creating event for row 868: <HttpError 400 when requesting https://www.googleapis.com/calendar/v3/calendars/primary/events?alt=json returned \"The specified time range is empty.\". Details: \"[{'domain': 'calendar', 'reason': 'timeRangeEmpty', 'message': 'The specified time range is empty.', 'locationType': 'parameter', 'location': 'timeMax'}]\">\n",
      "Event created: https://www.google.com/calendar/event?eid=YmRxaTQ1b2E2cmpvNXBkMGJrOGU0bDVscXMgdGVzdC0yMTVAbHVja3ktcmVhY3Rvci00NDMzMDgtcjQuaWFtLmdzZXJ2aWNlYWNjb3VudC5jb20\n",
      "Error creating event for row 870: <HttpError 400 when requesting https://www.googleapis.com/calendar/v3/calendars/primary/events?alt=json returned \"The specified time range is empty.\". Details: \"[{'domain': 'calendar', 'reason': 'timeRangeEmpty', 'message': 'The specified time range is empty.', 'locationType': 'parameter', 'location': 'timeMax'}]\">\n",
      "Error creating event for row 871: <HttpError 400 when requesting https://www.googleapis.com/calendar/v3/calendars/primary/events?alt=json returned \"The specified time range is empty.\". Details: \"[{'domain': 'calendar', 'reason': 'timeRangeEmpty', 'message': 'The specified time range is empty.', 'locationType': 'parameter', 'location': 'timeMax'}]\">\n",
      "Event created: https://www.google.com/calendar/event?eid=bnI5amtxYzljcnFianQzcmZjYnE3c2V1ZjQgdGVzdC0yMTVAbHVja3ktcmVhY3Rvci00NDMzMDgtcjQuaWFtLmdzZXJ2aWNlYWNjb3VudC5jb20\n",
      "Error creating event for row 873: <HttpError 400 when requesting https://www.googleapis.com/calendar/v3/calendars/primary/events?alt=json returned \"The specified time range is empty.\". Details: \"[{'domain': 'calendar', 'reason': 'timeRangeEmpty', 'message': 'The specified time range is empty.', 'locationType': 'parameter', 'location': 'timeMax'}]\">\n",
      "Error creating event for row 874: <HttpError 400 when requesting https://www.googleapis.com/calendar/v3/calendars/primary/events?alt=json returned \"The specified time range is empty.\". Details: \"[{'domain': 'calendar', 'reason': 'timeRangeEmpty', 'message': 'The specified time range is empty.', 'locationType': 'parameter', 'location': 'timeMax'}]\">\n",
      "Error creating event for row 875: <HttpError 400 when requesting https://www.googleapis.com/calendar/v3/calendars/primary/events?alt=json returned \"The specified time range is empty.\". Details: \"[{'domain': 'calendar', 'reason': 'timeRangeEmpty', 'message': 'The specified time range is empty.', 'locationType': 'parameter', 'location': 'timeMax'}]\">\n",
      "Event created: https://www.google.com/calendar/event?eid=ZmU3bzJvbGJtaXAyY3RpbTY3YTNrYjVtdWcgdGVzdC0yMTVAbHVja3ktcmVhY3Rvci00NDMzMDgtcjQuaWFtLmdzZXJ2aWNlYWNjb3VudC5jb20\n",
      "Error creating event for row 877: <HttpError 400 when requesting https://www.googleapis.com/calendar/v3/calendars/primary/events?alt=json returned \"The specified time range is empty.\". Details: \"[{'domain': 'calendar', 'reason': 'timeRangeEmpty', 'message': 'The specified time range is empty.', 'locationType': 'parameter', 'location': 'timeMax'}]\">\n",
      "Error creating event for row 878: <HttpError 400 when requesting https://www.googleapis.com/calendar/v3/calendars/primary/events?alt=json returned \"The specified time range is empty.\". Details: \"[{'domain': 'calendar', 'reason': 'timeRangeEmpty', 'message': 'The specified time range is empty.', 'locationType': 'parameter', 'location': 'timeMax'}]\">\n",
      "Error creating event for row 879: <HttpError 400 when requesting https://www.googleapis.com/calendar/v3/calendars/primary/events?alt=json returned \"The specified time range is empty.\". Details: \"[{'domain': 'calendar', 'reason': 'timeRangeEmpty', 'message': 'The specified time range is empty.', 'locationType': 'parameter', 'location': 'timeMax'}]\">\n",
      "Event created: https://www.google.com/calendar/event?eid=Z2VtYm5rbjFlb3RkaHRnODFxaDA4MGc2NGMgdGVzdC0yMTVAbHVja3ktcmVhY3Rvci00NDMzMDgtcjQuaWFtLmdzZXJ2aWNlYWNjb3VudC5jb20\n",
      "Error creating event for row 881: <HttpError 400 when requesting https://www.googleapis.com/calendar/v3/calendars/primary/events?alt=json returned \"The specified time range is empty.\". Details: \"[{'domain': 'calendar', 'reason': 'timeRangeEmpty', 'message': 'The specified time range is empty.', 'locationType': 'parameter', 'location': 'timeMax'}]\">\n",
      "Error creating event for row 882: <HttpError 400 when requesting https://www.googleapis.com/calendar/v3/calendars/primary/events?alt=json returned \"The specified time range is empty.\". Details: \"[{'domain': 'calendar', 'reason': 'timeRangeEmpty', 'message': 'The specified time range is empty.', 'locationType': 'parameter', 'location': 'timeMax'}]\">\n",
      "Event created: https://www.google.com/calendar/event?eid=ZWo5bzZ0MHY0dHVxbWRtZ2g2NWNqbnIwZTggdGVzdC0yMTVAbHVja3ktcmVhY3Rvci00NDMzMDgtcjQuaWFtLmdzZXJ2aWNlYWNjb3VudC5jb20\n",
      "Event created: https://www.google.com/calendar/event?eid=aG01OTNwc2pyY3Bja2NrdG1iNW9tazA0dGsgdGVzdC0yMTVAbHVja3ktcmVhY3Rvci00NDMzMDgtcjQuaWFtLmdzZXJ2aWNlYWNjb3VudC5jb20\n",
      "Error creating event for row 885: <HttpError 400 when requesting https://www.googleapis.com/calendar/v3/calendars/primary/events?alt=json returned \"The specified time range is empty.\". Details: \"[{'domain': 'calendar', 'reason': 'timeRangeEmpty', 'message': 'The specified time range is empty.', 'locationType': 'parameter', 'location': 'timeMax'}]\">\n",
      "Error creating event for row 886: <HttpError 400 when requesting https://www.googleapis.com/calendar/v3/calendars/primary/events?alt=json returned \"The specified time range is empty.\". Details: \"[{'domain': 'calendar', 'reason': 'timeRangeEmpty', 'message': 'The specified time range is empty.', 'locationType': 'parameter', 'location': 'timeMax'}]\">\n",
      "Event created: https://www.google.com/calendar/event?eid=czZqZ29mNmdpN3RpamxiZHY5c3Rob2g4cW8gdGVzdC0yMTVAbHVja3ktcmVhY3Rvci00NDMzMDgtcjQuaWFtLmdzZXJ2aWNlYWNjb3VudC5jb20\n",
      "Error creating event for row 888: <HttpError 400 when requesting https://www.googleapis.com/calendar/v3/calendars/primary/events?alt=json returned \"The specified time range is empty.\". Details: \"[{'domain': 'calendar', 'reason': 'timeRangeEmpty', 'message': 'The specified time range is empty.', 'locationType': 'parameter', 'location': 'timeMax'}]\">\n",
      "Error creating event for row 889: <HttpError 400 when requesting https://www.googleapis.com/calendar/v3/calendars/primary/events?alt=json returned \"The specified time range is empty.\". Details: \"[{'domain': 'calendar', 'reason': 'timeRangeEmpty', 'message': 'The specified time range is empty.', 'locationType': 'parameter', 'location': 'timeMax'}]\">\n"
     ]
    },
    {
     "name": "stderr",
     "output_type": "stream",
     "text": [
      "C:\\Users\\heans\\AppData\\Local\\Temp\\ipykernel_22024\\3996378728.py:43: FutureWarning: Parsed string \"2024-12-15 00:00:00T11:15\" included an un-recognized timezone \"T\". Dropping unrecognized timezones is deprecated; in a future version this will raise. Instead pass the string without the timezone, then use .tz_localize to convert to a recognized timezone.\n",
      "  start_time_obj = pd.to_datetime(start_datetime_str)\n"
     ]
    },
    {
     "name": "stdout",
     "output_type": "stream",
     "text": [
      "Error creating event for row 890: <HttpError 400 when requesting https://www.googleapis.com/calendar/v3/calendars/primary/events?alt=json returned \"The specified time range is empty.\". Details: \"[{'domain': 'calendar', 'reason': 'timeRangeEmpty', 'message': 'The specified time range is empty.', 'locationType': 'parameter', 'location': 'timeMax'}]\">\n",
      "Error creating event for row 891: <HttpError 400 when requesting https://www.googleapis.com/calendar/v3/calendars/primary/events?alt=json returned \"The specified time range is empty.\". Details: \"[{'domain': 'calendar', 'reason': 'timeRangeEmpty', 'message': 'The specified time range is empty.', 'locationType': 'parameter', 'location': 'timeMax'}]\">\n",
      "Error creating event for row 892: <HttpError 400 when requesting https://www.googleapis.com/calendar/v3/calendars/primary/events?alt=json returned \"The specified time range is empty.\". Details: \"[{'domain': 'calendar', 'reason': 'timeRangeEmpty', 'message': 'The specified time range is empty.', 'locationType': 'parameter', 'location': 'timeMax'}]\">\n"
     ]
    },
    {
     "name": "stderr",
     "output_type": "stream",
     "text": [
      "C:\\Users\\heans\\AppData\\Local\\Temp\\ipykernel_22024\\3996378728.py:43: FutureWarning: Parsed string \"2024-12-15 00:00:00T11:30\" included an un-recognized timezone \"T\". Dropping unrecognized timezones is deprecated; in a future version this will raise. Instead pass the string without the timezone, then use .tz_localize to convert to a recognized timezone.\n",
      "  start_time_obj = pd.to_datetime(start_datetime_str)\n"
     ]
    },
    {
     "name": "stdout",
     "output_type": "stream",
     "text": [
      "Event created: https://www.google.com/calendar/event?eid=M3Nyamh1ZDFmdDAzdmRkdGhqYTVtNmE0ZzggdGVzdC0yMTVAbHVja3ktcmVhY3Rvci00NDMzMDgtcjQuaWFtLmdzZXJ2aWNlYWNjb3VudC5jb20\n"
     ]
    },
    {
     "name": "stderr",
     "output_type": "stream",
     "text": [
      "C:\\Users\\heans\\AppData\\Local\\Temp\\ipykernel_22024\\3996378728.py:43: FutureWarning: Parsed string \"2024-12-15 00:00:00T12:00\" included an un-recognized timezone \"T\". Dropping unrecognized timezones is deprecated; in a future version this will raise. Instead pass the string without the timezone, then use .tz_localize to convert to a recognized timezone.\n",
      "  start_time_obj = pd.to_datetime(start_datetime_str)\n"
     ]
    },
    {
     "name": "stdout",
     "output_type": "stream",
     "text": [
      "Event created: https://www.google.com/calendar/event?eid=bXQ3aHFmZWVnOTNoMm4ydjA4c2Q1b3B1ZjggdGVzdC0yMTVAbHVja3ktcmVhY3Rvci00NDMzMDgtcjQuaWFtLmdzZXJ2aWNlYWNjb3VudC5jb20\n",
      "Error creating event for row 895: <HttpError 400 when requesting https://www.googleapis.com/calendar/v3/calendars/primary/events?alt=json returned \"The specified time range is empty.\". Details: \"[{'domain': 'calendar', 'reason': 'timeRangeEmpty', 'message': 'The specified time range is empty.', 'locationType': 'parameter', 'location': 'timeMax'}]\">\n",
      "Event created: https://www.google.com/calendar/event?eid=N2Rwa2loOWdsanBocDBtNmc5Z2M5aWZkNnMgdGVzdC0yMTVAbHVja3ktcmVhY3Rvci00NDMzMDgtcjQuaWFtLmdzZXJ2aWNlYWNjb3VudC5jb20\n",
      "Error creating event for row 897: <HttpError 400 when requesting https://www.googleapis.com/calendar/v3/calendars/primary/events?alt=json returned \"The specified time range is empty.\". Details: \"[{'domain': 'calendar', 'reason': 'timeRangeEmpty', 'message': 'The specified time range is empty.', 'locationType': 'parameter', 'location': 'timeMax'}]\">\n",
      "Event created: https://www.google.com/calendar/event?eid=ZzUzc2FoODZtNHAzdGxjcjM3aWNkaDgxYW8gdGVzdC0yMTVAbHVja3ktcmVhY3Rvci00NDMzMDgtcjQuaWFtLmdzZXJ2aWNlYWNjb3VudC5jb20\n",
      "Event created: https://www.google.com/calendar/event?eid=OHFibGlvaGllZDZkdTA2MWU2aGo4amMzbzQgdGVzdC0yMTVAbHVja3ktcmVhY3Rvci00NDMzMDgtcjQuaWFtLmdzZXJ2aWNlYWNjb3VudC5jb20\n",
      "Error creating event for row 900: <HttpError 400 when requesting https://www.googleapis.com/calendar/v3/calendars/primary/events?alt=json returned \"The specified time range is empty.\". Details: \"[{'domain': 'calendar', 'reason': 'timeRangeEmpty', 'message': 'The specified time range is empty.', 'locationType': 'parameter', 'location': 'timeMax'}]\">\n",
      "Event created: https://www.google.com/calendar/event?eid=aGZtbzM4ZmV0dG5kcTM2YXIwajZua2gzaWMgdGVzdC0yMTVAbHVja3ktcmVhY3Rvci00NDMzMDgtcjQuaWFtLmdzZXJ2aWNlYWNjb3VudC5jb20\n",
      "Error creating event for row 902: <HttpError 400 when requesting https://www.googleapis.com/calendar/v3/calendars/primary/events?alt=json returned \"The specified time range is empty.\". Details: \"[{'domain': 'calendar', 'reason': 'timeRangeEmpty', 'message': 'The specified time range is empty.', 'locationType': 'parameter', 'location': 'timeMax'}]\">\n",
      "Event created: https://www.google.com/calendar/event?eid=c2lvbXFvczRkY29qYjc1bGsxampqMmdrNjQgdGVzdC0yMTVAbHVja3ktcmVhY3Rvci00NDMzMDgtcjQuaWFtLmdzZXJ2aWNlYWNjb3VudC5jb20\n",
      "Error creating event for row 904: <HttpError 400 when requesting https://www.googleapis.com/calendar/v3/calendars/primary/events?alt=json returned \"The specified time range is empty.\". Details: \"[{'domain': 'calendar', 'reason': 'timeRangeEmpty', 'message': 'The specified time range is empty.', 'locationType': 'parameter', 'location': 'timeMax'}]\">\n",
      "Event created: https://www.google.com/calendar/event?eid=NmVsbXQ0MnI3ODFlMWw0bTM3MmJ0ZWlqZHMgdGVzdC0yMTVAbHVja3ktcmVhY3Rvci00NDMzMDgtcjQuaWFtLmdzZXJ2aWNlYWNjb3VudC5jb20\n",
      "Event created: https://www.google.com/calendar/event?eid=anY3Z3ZkYjQ1Mm5iMWdsMDl0MjNrdGRzN28gdGVzdC0yMTVAbHVja3ktcmVhY3Rvci00NDMzMDgtcjQuaWFtLmdzZXJ2aWNlYWNjb3VudC5jb20\n"
     ]
    },
    {
     "name": "stderr",
     "output_type": "stream",
     "text": [
      "C:\\Users\\heans\\AppData\\Local\\Temp\\ipykernel_22024\\3996378728.py:43: FutureWarning: Parsed string \"2024-12-15 00:00:00T12:30\" included an un-recognized timezone \"T\". Dropping unrecognized timezones is deprecated; in a future version this will raise. Instead pass the string without the timezone, then use .tz_localize to convert to a recognized timezone.\n",
      "  start_time_obj = pd.to_datetime(start_datetime_str)\n"
     ]
    },
    {
     "name": "stdout",
     "output_type": "stream",
     "text": [
      "Error creating event for row 907: <HttpError 400 when requesting https://www.googleapis.com/calendar/v3/calendars/primary/events?alt=json returned \"The specified time range is empty.\". Details: \"[{'domain': 'calendar', 'reason': 'timeRangeEmpty', 'message': 'The specified time range is empty.', 'locationType': 'parameter', 'location': 'timeMax'}]\">\n",
      "Error creating event for row 908: <HttpError 400 when requesting https://www.googleapis.com/calendar/v3/calendars/primary/events?alt=json returned \"The specified time range is empty.\". Details: \"[{'domain': 'calendar', 'reason': 'timeRangeEmpty', 'message': 'The specified time range is empty.', 'locationType': 'parameter', 'location': 'timeMax'}]\">\n"
     ]
    },
    {
     "name": "stderr",
     "output_type": "stream",
     "text": [
      "C:\\Users\\heans\\AppData\\Local\\Temp\\ipykernel_22024\\3996378728.py:43: FutureWarning: Parsed string \"2024-12-15 00:00:00T13:00\" included an un-recognized timezone \"T\". Dropping unrecognized timezones is deprecated; in a future version this will raise. Instead pass the string without the timezone, then use .tz_localize to convert to a recognized timezone.\n",
      "  start_time_obj = pd.to_datetime(start_datetime_str)\n"
     ]
    },
    {
     "name": "stdout",
     "output_type": "stream",
     "text": [
      "Error creating event for row 909: <HttpError 400 when requesting https://www.googleapis.com/calendar/v3/calendars/primary/events?alt=json returned \"The specified time range is empty.\". Details: \"[{'domain': 'calendar', 'reason': 'timeRangeEmpty', 'message': 'The specified time range is empty.', 'locationType': 'parameter', 'location': 'timeMax'}]\">\n",
      "Event created: https://www.google.com/calendar/event?eid=bHJlZHM1bjJ1bWRjM3Q0MDVxczc0aWlwMzQgdGVzdC0yMTVAbHVja3ktcmVhY3Rvci00NDMzMDgtcjQuaWFtLmdzZXJ2aWNlYWNjb3VudC5jb20\n",
      "Error creating event for row 911: <HttpError 400 when requesting https://www.googleapis.com/calendar/v3/calendars/primary/events?alt=json returned \"The specified time range is empty.\". Details: \"[{'domain': 'calendar', 'reason': 'timeRangeEmpty', 'message': 'The specified time range is empty.', 'locationType': 'parameter', 'location': 'timeMax'}]\">\n"
     ]
    },
    {
     "name": "stderr",
     "output_type": "stream",
     "text": [
      "C:\\Users\\heans\\AppData\\Local\\Temp\\ipykernel_22024\\3996378728.py:43: FutureWarning: Parsed string \"2024-12-15 00:00:00T13:30\" included an un-recognized timezone \"T\". Dropping unrecognized timezones is deprecated; in a future version this will raise. Instead pass the string without the timezone, then use .tz_localize to convert to a recognized timezone.\n",
      "  start_time_obj = pd.to_datetime(start_datetime_str)\n"
     ]
    },
    {
     "name": "stdout",
     "output_type": "stream",
     "text": [
      "Error creating event for row 912: <HttpError 400 when requesting https://www.googleapis.com/calendar/v3/calendars/primary/events?alt=json returned \"The specified time range is empty.\". Details: \"[{'domain': 'calendar', 'reason': 'timeRangeEmpty', 'message': 'The specified time range is empty.', 'locationType': 'parameter', 'location': 'timeMax'}]\">\n",
      "Error creating event for row 913: <HttpError 400 when requesting https://www.googleapis.com/calendar/v3/calendars/primary/events?alt=json returned \"The specified time range is empty.\". Details: \"[{'domain': 'calendar', 'reason': 'timeRangeEmpty', 'message': 'The specified time range is empty.', 'locationType': 'parameter', 'location': 'timeMax'}]\">\n"
     ]
    },
    {
     "name": "stderr",
     "output_type": "stream",
     "text": [
      "C:\\Users\\heans\\AppData\\Local\\Temp\\ipykernel_22024\\3996378728.py:43: FutureWarning: Parsed string \"2024-12-15 00:00:00T14:00\" included an un-recognized timezone \"T\". Dropping unrecognized timezones is deprecated; in a future version this will raise. Instead pass the string without the timezone, then use .tz_localize to convert to a recognized timezone.\n",
      "  start_time_obj = pd.to_datetime(start_datetime_str)\n"
     ]
    },
    {
     "name": "stdout",
     "output_type": "stream",
     "text": [
      "Event created: https://www.google.com/calendar/event?eid=MjY4OGRkdGUxYzZqdWt2Z2oxMTlhb3E1cDggdGVzdC0yMTVAbHVja3ktcmVhY3Rvci00NDMzMDgtcjQuaWFtLmdzZXJ2aWNlYWNjb3VudC5jb20\n",
      "Event created: https://www.google.com/calendar/event?eid=dW1kZ2U0YWczZHQwNGRmbWRjamtydXFjZDAgdGVzdC0yMTVAbHVja3ktcmVhY3Rvci00NDMzMDgtcjQuaWFtLmdzZXJ2aWNlYWNjb3VudC5jb20\n",
      "Error creating event for row 916: <HttpError 400 when requesting https://www.googleapis.com/calendar/v3/calendars/primary/events?alt=json returned \"The specified time range is empty.\". Details: \"[{'domain': 'calendar', 'reason': 'timeRangeEmpty', 'message': 'The specified time range is empty.', 'locationType': 'parameter', 'location': 'timeMax'}]\">\n",
      "Error creating event for row 917: <HttpError 400 when requesting https://www.googleapis.com/calendar/v3/calendars/primary/events?alt=json returned \"The specified time range is empty.\". Details: \"[{'domain': 'calendar', 'reason': 'timeRangeEmpty', 'message': 'The specified time range is empty.', 'locationType': 'parameter', 'location': 'timeMax'}]\">\n",
      "Error creating event for row 918: <HttpError 400 when requesting https://www.googleapis.com/calendar/v3/calendars/primary/events?alt=json returned \"The specified time range is empty.\". Details: \"[{'domain': 'calendar', 'reason': 'timeRangeEmpty', 'message': 'The specified time range is empty.', 'locationType': 'parameter', 'location': 'timeMax'}]\">\n",
      "Error creating event for row 919: <HttpError 400 when requesting https://www.googleapis.com/calendar/v3/calendars/primary/events?alt=json returned \"The specified time range is empty.\". Details: \"[{'domain': 'calendar', 'reason': 'timeRangeEmpty', 'message': 'The specified time range is empty.', 'locationType': 'parameter', 'location': 'timeMax'}]\">\n",
      "Event created: https://www.google.com/calendar/event?eid=c2thc2U5bmo5ajYwazl0dmpqaDZqdmE2bW8gdGVzdC0yMTVAbHVja3ktcmVhY3Rvci00NDMzMDgtcjQuaWFtLmdzZXJ2aWNlYWNjb3VudC5jb20\n",
      "Error creating event for row 921: <HttpError 400 when requesting https://www.googleapis.com/calendar/v3/calendars/primary/events?alt=json returned \"The specified time range is empty.\". Details: \"[{'domain': 'calendar', 'reason': 'timeRangeEmpty', 'message': 'The specified time range is empty.', 'locationType': 'parameter', 'location': 'timeMax'}]\">\n",
      "Event created: https://www.google.com/calendar/event?eid=YjlqMWphYXVyY2NvZWc2NzNpMG5vaHZsMm8gdGVzdC0yMTVAbHVja3ktcmVhY3Rvci00NDMzMDgtcjQuaWFtLmdzZXJ2aWNlYWNjb3VudC5jb20\n",
      "Event created: https://www.google.com/calendar/event?eid=bDVsOTdqcHNkNGZuNjU0b3RmcDNrZjk4YzAgdGVzdC0yMTVAbHVja3ktcmVhY3Rvci00NDMzMDgtcjQuaWFtLmdzZXJ2aWNlYWNjb3VudC5jb20\n",
      "Event created: https://www.google.com/calendar/event?eid=cjlocGd2Y2ZuN3RkdGF2dDBhYTM1MnBoajggdGVzdC0yMTVAbHVja3ktcmVhY3Rvci00NDMzMDgtcjQuaWFtLmdzZXJ2aWNlYWNjb3VudC5jb20\n",
      "Event created: https://www.google.com/calendar/event?eid=bm45dG11cnR2b21kMWxscWFjamppY3VoMGcgdGVzdC0yMTVAbHVja3ktcmVhY3Rvci00NDMzMDgtcjQuaWFtLmdzZXJ2aWNlYWNjb3VudC5jb20\n",
      "Event created: https://www.google.com/calendar/event?eid=MGJicW4yaTI2M203OG0zNGM5OHE1dDlyZW8gdGVzdC0yMTVAbHVja3ktcmVhY3Rvci00NDMzMDgtcjQuaWFtLmdzZXJ2aWNlYWNjb3VudC5jb20\n",
      "Error creating event for row 927: <HttpError 400 when requesting https://www.googleapis.com/calendar/v3/calendars/primary/events?alt=json returned \"The specified time range is empty.\". Details: \"[{'domain': 'calendar', 'reason': 'timeRangeEmpty', 'message': 'The specified time range is empty.', 'locationType': 'parameter', 'location': 'timeMax'}]\">\n",
      "Event created: https://www.google.com/calendar/event?eid=OHA2cWpqbGV1OXYwNnE5cnZsMzg0aWxicG8gdGVzdC0yMTVAbHVja3ktcmVhY3Rvci00NDMzMDgtcjQuaWFtLmdzZXJ2aWNlYWNjb3VudC5jb20\n",
      "Event created: https://www.google.com/calendar/event?eid=anU5dGl1ZWdhYmptY29zazNqaTBlanJycm8gdGVzdC0yMTVAbHVja3ktcmVhY3Rvci00NDMzMDgtcjQuaWFtLmdzZXJ2aWNlYWNjb3VudC5jb20\n",
      "Error creating event for row 930: <HttpError 400 when requesting https://www.googleapis.com/calendar/v3/calendars/primary/events?alt=json returned \"The specified time range is empty.\". Details: \"[{'domain': 'calendar', 'reason': 'timeRangeEmpty', 'message': 'The specified time range is empty.', 'locationType': 'parameter', 'location': 'timeMax'}]\">\n",
      "Error creating event for row 931: <HttpError 400 when requesting https://www.googleapis.com/calendar/v3/calendars/primary/events?alt=json returned \"The specified time range is empty.\". Details: \"[{'domain': 'calendar', 'reason': 'timeRangeEmpty', 'message': 'The specified time range is empty.', 'locationType': 'parameter', 'location': 'timeMax'}]\">\n",
      "Error creating event for row 932: <HttpError 400 when requesting https://www.googleapis.com/calendar/v3/calendars/primary/events?alt=json returned \"The specified time range is empty.\". Details: \"[{'domain': 'calendar', 'reason': 'timeRangeEmpty', 'message': 'The specified time range is empty.', 'locationType': 'parameter', 'location': 'timeMax'}]\">\n",
      "Event created: https://www.google.com/calendar/event?eid=Y21oZzF1bHB0dWc1aGdzNThmNDk1dnZiczggdGVzdC0yMTVAbHVja3ktcmVhY3Rvci00NDMzMDgtcjQuaWFtLmdzZXJ2aWNlYWNjb3VudC5jb20\n",
      "Event created: https://www.google.com/calendar/event?eid=bzlmOGthNnIxcmpuZnBxZTQ4bWoxamoxMWcgdGVzdC0yMTVAbHVja3ktcmVhY3Rvci00NDMzMDgtcjQuaWFtLmdzZXJ2aWNlYWNjb3VudC5jb20\n",
      "Event created: https://www.google.com/calendar/event?eid=NzAwaXU1OXF0b3ZxcG5wMTAzYTQ3dGR0NjggdGVzdC0yMTVAbHVja3ktcmVhY3Rvci00NDMzMDgtcjQuaWFtLmdzZXJ2aWNlYWNjb3VudC5jb20\n",
      "Event created: https://www.google.com/calendar/event?eid=ajc5aDJpbGw5OGg5N2tzbTdjbXFxdDJiaXMgdGVzdC0yMTVAbHVja3ktcmVhY3Rvci00NDMzMDgtcjQuaWFtLmdzZXJ2aWNlYWNjb3VudC5jb20\n"
     ]
    },
    {
     "name": "stderr",
     "output_type": "stream",
     "text": [
      "C:\\Users\\heans\\AppData\\Local\\Temp\\ipykernel_22024\\3996378728.py:43: FutureWarning: Parsed string \"2024-12-15 00:00:00T14:30\" included an un-recognized timezone \"T\". Dropping unrecognized timezones is deprecated; in a future version this will raise. Instead pass the string without the timezone, then use .tz_localize to convert to a recognized timezone.\n",
      "  start_time_obj = pd.to_datetime(start_datetime_str)\n"
     ]
    },
    {
     "name": "stdout",
     "output_type": "stream",
     "text": [
      "Event created: https://www.google.com/calendar/event?eid=bm9tNHZjYTVrYTJxdmtkbDM2cHBtcG83Y2sgdGVzdC0yMTVAbHVja3ktcmVhY3Rvci00NDMzMDgtcjQuaWFtLmdzZXJ2aWNlYWNjb3VudC5jb20\n",
      "Event created: https://www.google.com/calendar/event?eid=M2QwZ2FocnNqOTBwdGx1c2g1anM3bXNiaDggdGVzdC0yMTVAbHVja3ktcmVhY3Rvci00NDMzMDgtcjQuaWFtLmdzZXJ2aWNlYWNjb3VudC5jb20\n",
      "Error creating event for row 939: <HttpError 400 when requesting https://www.googleapis.com/calendar/v3/calendars/primary/events?alt=json returned \"The specified time range is empty.\". Details: \"[{'domain': 'calendar', 'reason': 'timeRangeEmpty', 'message': 'The specified time range is empty.', 'locationType': 'parameter', 'location': 'timeMax'}]\">\n",
      "Error creating event for row 940: <HttpError 400 when requesting https://www.googleapis.com/calendar/v3/calendars/primary/events?alt=json returned \"The specified time range is empty.\". Details: \"[{'domain': 'calendar', 'reason': 'timeRangeEmpty', 'message': 'The specified time range is empty.', 'locationType': 'parameter', 'location': 'timeMax'}]\">\n",
      "Event created: https://www.google.com/calendar/event?eid=azRzMTAzc3VzMmV0a2Zqcm5lYnVkcnBkbnMgdGVzdC0yMTVAbHVja3ktcmVhY3Rvci00NDMzMDgtcjQuaWFtLmdzZXJ2aWNlYWNjb3VudC5jb20\n",
      "Error creating event for row 942: <HttpError 400 when requesting https://www.googleapis.com/calendar/v3/calendars/primary/events?alt=json returned \"The specified time range is empty.\". Details: \"[{'domain': 'calendar', 'reason': 'timeRangeEmpty', 'message': 'The specified time range is empty.', 'locationType': 'parameter', 'location': 'timeMax'}]\">\n",
      "Error creating event for row 943: <HttpError 400 when requesting https://www.googleapis.com/calendar/v3/calendars/primary/events?alt=json returned \"The specified time range is empty.\". Details: \"[{'domain': 'calendar', 'reason': 'timeRangeEmpty', 'message': 'The specified time range is empty.', 'locationType': 'parameter', 'location': 'timeMax'}]\">\n"
     ]
    },
    {
     "name": "stderr",
     "output_type": "stream",
     "text": [
      "C:\\Users\\heans\\AppData\\Local\\Temp\\ipykernel_22024\\3996378728.py:43: FutureWarning: Parsed string \"2024-12-15 00:00:00T15:00\" included an un-recognized timezone \"T\". Dropping unrecognized timezones is deprecated; in a future version this will raise. Instead pass the string without the timezone, then use .tz_localize to convert to a recognized timezone.\n",
      "  start_time_obj = pd.to_datetime(start_datetime_str)\n"
     ]
    },
    {
     "name": "stdout",
     "output_type": "stream",
     "text": [
      "Event created: https://www.google.com/calendar/event?eid=a2draXMyaHY4N3U3NHIzOTk4MnBjczh2ajggdGVzdC0yMTVAbHVja3ktcmVhY3Rvci00NDMzMDgtcjQuaWFtLmdzZXJ2aWNlYWNjb3VudC5jb20\n",
      "Error creating event for row 945: <HttpError 400 when requesting https://www.googleapis.com/calendar/v3/calendars/primary/events?alt=json returned \"The specified time range is empty.\". Details: \"[{'domain': 'calendar', 'reason': 'timeRangeEmpty', 'message': 'The specified time range is empty.', 'locationType': 'parameter', 'location': 'timeMax'}]\">\n",
      "Error creating event for row 946: <HttpError 400 when requesting https://www.googleapis.com/calendar/v3/calendars/primary/events?alt=json returned \"The specified time range is empty.\". Details: \"[{'domain': 'calendar', 'reason': 'timeRangeEmpty', 'message': 'The specified time range is empty.', 'locationType': 'parameter', 'location': 'timeMax'}]\">\n",
      "Error creating event for row 947: <HttpError 400 when requesting https://www.googleapis.com/calendar/v3/calendars/primary/events?alt=json returned \"The specified time range is empty.\". Details: \"[{'domain': 'calendar', 'reason': 'timeRangeEmpty', 'message': 'The specified time range is empty.', 'locationType': 'parameter', 'location': 'timeMax'}]\">\n",
      "Error creating event for row 948: <HttpError 400 when requesting https://www.googleapis.com/calendar/v3/calendars/primary/events?alt=json returned \"The specified time range is empty.\". Details: \"[{'domain': 'calendar', 'reason': 'timeRangeEmpty', 'message': 'The specified time range is empty.', 'locationType': 'parameter', 'location': 'timeMax'}]\">\n",
      "Event created: https://www.google.com/calendar/event?eid=cGF2bzVsaTUybzk1am5mbXE5OXBqNjRqbDAgdGVzdC0yMTVAbHVja3ktcmVhY3Rvci00NDMzMDgtcjQuaWFtLmdzZXJ2aWNlYWNjb3VudC5jb20\n",
      "Error creating event for row 950: <HttpError 400 when requesting https://www.googleapis.com/calendar/v3/calendars/primary/events?alt=json returned \"The specified time range is empty.\". Details: \"[{'domain': 'calendar', 'reason': 'timeRangeEmpty', 'message': 'The specified time range is empty.', 'locationType': 'parameter', 'location': 'timeMax'}]\">\n",
      "Error creating event for row 951: <HttpError 400 when requesting https://www.googleapis.com/calendar/v3/calendars/primary/events?alt=json returned \"The specified time range is empty.\". Details: \"[{'domain': 'calendar', 'reason': 'timeRangeEmpty', 'message': 'The specified time range is empty.', 'locationType': 'parameter', 'location': 'timeMax'}]\">\n",
      "Event created: https://www.google.com/calendar/event?eid=aWM4NDJmdTQwN203MWNxczNldGFuOTNpb2cgdGVzdC0yMTVAbHVja3ktcmVhY3Rvci00NDMzMDgtcjQuaWFtLmdzZXJ2aWNlYWNjb3VudC5jb20\n",
      "Event created: https://www.google.com/calendar/event?eid=Zm1xdHVka212bWM2ZnRyaXA4bXNtMnFuMmMgdGVzdC0yMTVAbHVja3ktcmVhY3Rvci00NDMzMDgtcjQuaWFtLmdzZXJ2aWNlYWNjb3VudC5jb20\n",
      "Event created: https://www.google.com/calendar/event?eid=bjlpNXFlNjllZ2E5MDkzN2FiYXJtcG5xYjAgdGVzdC0yMTVAbHVja3ktcmVhY3Rvci00NDMzMDgtcjQuaWFtLmdzZXJ2aWNlYWNjb3VudC5jb20\n",
      "Error creating event for row 955: <HttpError 400 when requesting https://www.googleapis.com/calendar/v3/calendars/primary/events?alt=json returned \"The specified time range is empty.\". Details: \"[{'domain': 'calendar', 'reason': 'timeRangeEmpty', 'message': 'The specified time range is empty.', 'locationType': 'parameter', 'location': 'timeMax'}]\">\n",
      "Event created: https://www.google.com/calendar/event?eid=YzQ3OGoyMGJuNHNydTl2aGFvZWR0Y3YzMGMgdGVzdC0yMTVAbHVja3ktcmVhY3Rvci00NDMzMDgtcjQuaWFtLmdzZXJ2aWNlYWNjb3VudC5jb20\n",
      "Error creating event for row 957: <HttpError 400 when requesting https://www.googleapis.com/calendar/v3/calendars/primary/events?alt=json returned \"The specified time range is empty.\". Details: \"[{'domain': 'calendar', 'reason': 'timeRangeEmpty', 'message': 'The specified time range is empty.', 'locationType': 'parameter', 'location': 'timeMax'}]\">\n",
      "Event created: https://www.google.com/calendar/event?eid=bDB2NnNhNnZqdmIyMjllcjQxYzVuamZydmcgdGVzdC0yMTVAbHVja3ktcmVhY3Rvci00NDMzMDgtcjQuaWFtLmdzZXJ2aWNlYWNjb3VudC5jb20\n",
      "Error creating event for row 959: <HttpError 400 when requesting https://www.googleapis.com/calendar/v3/calendars/primary/events?alt=json returned \"The specified time range is empty.\". Details: \"[{'domain': 'calendar', 'reason': 'timeRangeEmpty', 'message': 'The specified time range is empty.', 'locationType': 'parameter', 'location': 'timeMax'}]\">\n",
      "Error creating event for row 960: <HttpError 400 when requesting https://www.googleapis.com/calendar/v3/calendars/primary/events?alt=json returned \"The specified time range is empty.\". Details: \"[{'domain': 'calendar', 'reason': 'timeRangeEmpty', 'message': 'The specified time range is empty.', 'locationType': 'parameter', 'location': 'timeMax'}]\">\n",
      "Error creating event for row 961: <HttpError 400 when requesting https://www.googleapis.com/calendar/v3/calendars/primary/events?alt=json returned \"The specified time range is empty.\". Details: \"[{'domain': 'calendar', 'reason': 'timeRangeEmpty', 'message': 'The specified time range is empty.', 'locationType': 'parameter', 'location': 'timeMax'}]\">\n",
      "Event created: https://www.google.com/calendar/event?eid=ZG1tcGJnNHM4bjZwNjZuYjBoZmRqa2Jla3MgdGVzdC0yMTVAbHVja3ktcmVhY3Rvci00NDMzMDgtcjQuaWFtLmdzZXJ2aWNlYWNjb3VudC5jb20\n",
      "Error creating event for row 963: <HttpError 400 when requesting https://www.googleapis.com/calendar/v3/calendars/primary/events?alt=json returned \"The specified time range is empty.\". Details: \"[{'domain': 'calendar', 'reason': 'timeRangeEmpty', 'message': 'The specified time range is empty.', 'locationType': 'parameter', 'location': 'timeMax'}]\">\n",
      "Error creating event for row 964: <HttpError 400 when requesting https://www.googleapis.com/calendar/v3/calendars/primary/events?alt=json returned \"The specified time range is empty.\". Details: \"[{'domain': 'calendar', 'reason': 'timeRangeEmpty', 'message': 'The specified time range is empty.', 'locationType': 'parameter', 'location': 'timeMax'}]\">\n",
      "Event created: https://www.google.com/calendar/event?eid=bWV1amo3Yzc5amYwYW5kaTR0aW84ZGw5ajAgdGVzdC0yMTVAbHVja3ktcmVhY3Rvci00NDMzMDgtcjQuaWFtLmdzZXJ2aWNlYWNjb3VudC5jb20\n",
      "Error creating event for row 966: <HttpError 400 when requesting https://www.googleapis.com/calendar/v3/calendars/primary/events?alt=json returned \"The specified time range is empty.\". Details: \"[{'domain': 'calendar', 'reason': 'timeRangeEmpty', 'message': 'The specified time range is empty.', 'locationType': 'parameter', 'location': 'timeMax'}]\">\n"
     ]
    },
    {
     "name": "stderr",
     "output_type": "stream",
     "text": [
      "C:\\Users\\heans\\AppData\\Local\\Temp\\ipykernel_22024\\3996378728.py:43: FutureWarning: Parsed string \"2024-12-15 00:00:00T15:15\" included an un-recognized timezone \"T\". Dropping unrecognized timezones is deprecated; in a future version this will raise. Instead pass the string without the timezone, then use .tz_localize to convert to a recognized timezone.\n",
      "  start_time_obj = pd.to_datetime(start_datetime_str)\n"
     ]
    },
    {
     "name": "stdout",
     "output_type": "stream",
     "text": [
      "Error creating event for row 967: <HttpError 400 when requesting https://www.googleapis.com/calendar/v3/calendars/primary/events?alt=json returned \"The specified time range is empty.\". Details: \"[{'domain': 'calendar', 'reason': 'timeRangeEmpty', 'message': 'The specified time range is empty.', 'locationType': 'parameter', 'location': 'timeMax'}]\">\n"
     ]
    },
    {
     "name": "stderr",
     "output_type": "stream",
     "text": [
      "C:\\Users\\heans\\AppData\\Local\\Temp\\ipykernel_22024\\3996378728.py:43: FutureWarning: Parsed string \"2024-12-15 00:00:00T15:30\" included an un-recognized timezone \"T\". Dropping unrecognized timezones is deprecated; in a future version this will raise. Instead pass the string without the timezone, then use .tz_localize to convert to a recognized timezone.\n",
      "  start_time_obj = pd.to_datetime(start_datetime_str)\n"
     ]
    },
    {
     "name": "stdout",
     "output_type": "stream",
     "text": [
      "Event created: https://www.google.com/calendar/event?eid=ZG9oaDJ1a3Y2bnFmcmY1NWtsZmhsYm9mM28gdGVzdC0yMTVAbHVja3ktcmVhY3Rvci00NDMzMDgtcjQuaWFtLmdzZXJ2aWNlYWNjb3VudC5jb20\n",
      "Error creating event for row 969: <HttpError 400 when requesting https://www.googleapis.com/calendar/v3/calendars/primary/events?alt=json returned \"The specified time range is empty.\". Details: \"[{'domain': 'calendar', 'reason': 'timeRangeEmpty', 'message': 'The specified time range is empty.', 'locationType': 'parameter', 'location': 'timeMax'}]\">\n",
      "Event created: https://www.google.com/calendar/event?eid=czBuMzl0dTdicjhoZzA2cTh0ajJlYWR0ZWsgdGVzdC0yMTVAbHVja3ktcmVhY3Rvci00NDMzMDgtcjQuaWFtLmdzZXJ2aWNlYWNjb3VudC5jb20\n",
      "Error creating event for row 971: <HttpError 400 when requesting https://www.googleapis.com/calendar/v3/calendars/primary/events?alt=json returned \"The specified time range is empty.\". Details: \"[{'domain': 'calendar', 'reason': 'timeRangeEmpty', 'message': 'The specified time range is empty.', 'locationType': 'parameter', 'location': 'timeMax'}]\">\n"
     ]
    },
    {
     "name": "stderr",
     "output_type": "stream",
     "text": [
      "C:\\Users\\heans\\AppData\\Local\\Temp\\ipykernel_22024\\3996378728.py:43: FutureWarning: Parsed string \"2024-12-15 00:00:00T16:00\" included an un-recognized timezone \"T\". Dropping unrecognized timezones is deprecated; in a future version this will raise. Instead pass the string without the timezone, then use .tz_localize to convert to a recognized timezone.\n",
      "  start_time_obj = pd.to_datetime(start_datetime_str)\n"
     ]
    },
    {
     "name": "stdout",
     "output_type": "stream",
     "text": [
      "Error creating event for row 972: <HttpError 400 when requesting https://www.googleapis.com/calendar/v3/calendars/primary/events?alt=json returned \"The specified time range is empty.\". Details: \"[{'domain': 'calendar', 'reason': 'timeRangeEmpty', 'message': 'The specified time range is empty.', 'locationType': 'parameter', 'location': 'timeMax'}]\">\n",
      "Event created: https://www.google.com/calendar/event?eid=cmlsYjE3amxjMDFvbGl0aWQ0cnY2ZDV0bTQgdGVzdC0yMTVAbHVja3ktcmVhY3Rvci00NDMzMDgtcjQuaWFtLmdzZXJ2aWNlYWNjb3VudC5jb20\n",
      "Error creating event for row 974: <HttpError 400 when requesting https://www.googleapis.com/calendar/v3/calendars/primary/events?alt=json returned \"The specified time range is empty.\". Details: \"[{'domain': 'calendar', 'reason': 'timeRangeEmpty', 'message': 'The specified time range is empty.', 'locationType': 'parameter', 'location': 'timeMax'}]\">\n",
      "Error creating event for row 975: <HttpError 400 when requesting https://www.googleapis.com/calendar/v3/calendars/primary/events?alt=json returned \"The specified time range is empty.\". Details: \"[{'domain': 'calendar', 'reason': 'timeRangeEmpty', 'message': 'The specified time range is empty.', 'locationType': 'parameter', 'location': 'timeMax'}]\">\n",
      "Error creating event for row 976: <HttpError 400 when requesting https://www.googleapis.com/calendar/v3/calendars/primary/events?alt=json returned \"The specified time range is empty.\". Details: \"[{'domain': 'calendar', 'reason': 'timeRangeEmpty', 'message': 'The specified time range is empty.', 'locationType': 'parameter', 'location': 'timeMax'}]\">\n",
      "Event created: https://www.google.com/calendar/event?eid=NmowcXU3MXZuaHBuMGJoNmc2ODQydGc0ZjQgdGVzdC0yMTVAbHVja3ktcmVhY3Rvci00NDMzMDgtcjQuaWFtLmdzZXJ2aWNlYWNjb3VudC5jb20\n",
      "Error creating event for row 978: <HttpError 400 when requesting https://www.googleapis.com/calendar/v3/calendars/primary/events?alt=json returned \"The specified time range is empty.\". Details: \"[{'domain': 'calendar', 'reason': 'timeRangeEmpty', 'message': 'The specified time range is empty.', 'locationType': 'parameter', 'location': 'timeMax'}]\">\n",
      "Error creating event for row 979: <HttpError 400 when requesting https://www.googleapis.com/calendar/v3/calendars/primary/events?alt=json returned \"The specified time range is empty.\". Details: \"[{'domain': 'calendar', 'reason': 'timeRangeEmpty', 'message': 'The specified time range is empty.', 'locationType': 'parameter', 'location': 'timeMax'}]\">\n",
      "Error creating event for row 980: <HttpError 400 when requesting https://www.googleapis.com/calendar/v3/calendars/primary/events?alt=json returned \"The specified time range is empty.\". Details: \"[{'domain': 'calendar', 'reason': 'timeRangeEmpty', 'message': 'The specified time range is empty.', 'locationType': 'parameter', 'location': 'timeMax'}]\">\n",
      "Event created: https://www.google.com/calendar/event?eid=Z2g1N3RhY21vZmFvaWRjczAxZmwxYzdqM2MgdGVzdC0yMTVAbHVja3ktcmVhY3Rvci00NDMzMDgtcjQuaWFtLmdzZXJ2aWNlYWNjb3VudC5jb20\n",
      "Error creating event for row 982: <HttpError 400 when requesting https://www.googleapis.com/calendar/v3/calendars/primary/events?alt=json returned \"The specified time range is empty.\". Details: \"[{'domain': 'calendar', 'reason': 'timeRangeEmpty', 'message': 'The specified time range is empty.', 'locationType': 'parameter', 'location': 'timeMax'}]\">\n",
      "Event created: https://www.google.com/calendar/event?eid=M2JsMWZvaGRjZGs3ZGVwc3M5YnFqdHI0cDQgdGVzdC0yMTVAbHVja3ktcmVhY3Rvci00NDMzMDgtcjQuaWFtLmdzZXJ2aWNlYWNjb3VudC5jb20\n",
      "Event created: https://www.google.com/calendar/event?eid=ZTU1Nm9kM2Q4ZGozcDUxNXJuZTFuMjMwZTAgdGVzdC0yMTVAbHVja3ktcmVhY3Rvci00NDMzMDgtcjQuaWFtLmdzZXJ2aWNlYWNjb3VudC5jb20\n",
      "Event created: https://www.google.com/calendar/event?eid=cnA0NmUxcm9pdDRmZ25zZ2RjOGZvNW4zdGMgdGVzdC0yMTVAbHVja3ktcmVhY3Rvci00NDMzMDgtcjQuaWFtLmdzZXJ2aWNlYWNjb3VudC5jb20\n",
      "Error creating event for row 986: <HttpError 400 when requesting https://www.googleapis.com/calendar/v3/calendars/primary/events?alt=json returned \"The specified time range is empty.\". Details: \"[{'domain': 'calendar', 'reason': 'timeRangeEmpty', 'message': 'The specified time range is empty.', 'locationType': 'parameter', 'location': 'timeMax'}]\">\n",
      "Event created: https://www.google.com/calendar/event?eid=Z2V2YjBoa2hxcTdxbmM2MGdkbzk2cDFzMDggdGVzdC0yMTVAbHVja3ktcmVhY3Rvci00NDMzMDgtcjQuaWFtLmdzZXJ2aWNlYWNjb3VudC5jb20\n",
      "Error creating event for row 988: <HttpError 400 when requesting https://www.googleapis.com/calendar/v3/calendars/primary/events?alt=json returned \"The specified time range is empty.\". Details: \"[{'domain': 'calendar', 'reason': 'timeRangeEmpty', 'message': 'The specified time range is empty.', 'locationType': 'parameter', 'location': 'timeMax'}]\">\n",
      "Error creating event for row 989: <HttpError 400 when requesting https://www.googleapis.com/calendar/v3/calendars/primary/events?alt=json returned \"The specified time range is empty.\". Details: \"[{'domain': 'calendar', 'reason': 'timeRangeEmpty', 'message': 'The specified time range is empty.', 'locationType': 'parameter', 'location': 'timeMax'}]\">\n",
      "Event created: https://www.google.com/calendar/event?eid=aWp1MDEydmRuMW9wOTBrMnU3cDdyb3ZlMGsgdGVzdC0yMTVAbHVja3ktcmVhY3Rvci00NDMzMDgtcjQuaWFtLmdzZXJ2aWNlYWNjb3VudC5jb20\n",
      "Error creating event for row 991: <HttpError 400 when requesting https://www.googleapis.com/calendar/v3/calendars/primary/events?alt=json returned \"The specified time range is empty.\". Details: \"[{'domain': 'calendar', 'reason': 'timeRangeEmpty', 'message': 'The specified time range is empty.', 'locationType': 'parameter', 'location': 'timeMax'}]\">\n",
      "Error creating event for row 992: <HttpError 400 when requesting https://www.googleapis.com/calendar/v3/calendars/primary/events?alt=json returned \"The specified time range is empty.\". Details: \"[{'domain': 'calendar', 'reason': 'timeRangeEmpty', 'message': 'The specified time range is empty.', 'locationType': 'parameter', 'location': 'timeMax'}]\">\n",
      "Error creating event for row 993: <HttpError 400 when requesting https://www.googleapis.com/calendar/v3/calendars/primary/events?alt=json returned \"The specified time range is empty.\". Details: \"[{'domain': 'calendar', 'reason': 'timeRangeEmpty', 'message': 'The specified time range is empty.', 'locationType': 'parameter', 'location': 'timeMax'}]\">\n",
      "Error creating event for row 994: <HttpError 400 when requesting https://www.googleapis.com/calendar/v3/calendars/primary/events?alt=json returned \"The specified time range is empty.\". Details: \"[{'domain': 'calendar', 'reason': 'timeRangeEmpty', 'message': 'The specified time range is empty.', 'locationType': 'parameter', 'location': 'timeMax'}]\">\n",
      "Error creating event for row 995: <HttpError 400 when requesting https://www.googleapis.com/calendar/v3/calendars/primary/events?alt=json returned \"The specified time range is empty.\". Details: \"[{'domain': 'calendar', 'reason': 'timeRangeEmpty', 'message': 'The specified time range is empty.', 'locationType': 'parameter', 'location': 'timeMax'}]\">\n",
      "Error creating event for row 996: <HttpError 400 when requesting https://www.googleapis.com/calendar/v3/calendars/primary/events?alt=json returned \"The specified time range is empty.\". Details: \"[{'domain': 'calendar', 'reason': 'timeRangeEmpty', 'message': 'The specified time range is empty.', 'locationType': 'parameter', 'location': 'timeMax'}]\">\n",
      "Event created: https://www.google.com/calendar/event?eid=M3ByNWZtcWU2YzEzY2diNXZ2YnRsZWR1djggdGVzdC0yMTVAbHVja3ktcmVhY3Rvci00NDMzMDgtcjQuaWFtLmdzZXJ2aWNlYWNjb3VudC5jb20\n",
      "Error creating event for row 998: <HttpError 400 when requesting https://www.googleapis.com/calendar/v3/calendars/primary/events?alt=json returned \"The specified time range is empty.\". Details: \"[{'domain': 'calendar', 'reason': 'timeRangeEmpty', 'message': 'The specified time range is empty.', 'locationType': 'parameter', 'location': 'timeMax'}]\">\n"
     ]
    },
    {
     "name": "stderr",
     "output_type": "stream",
     "text": [
      "C:\\Users\\heans\\AppData\\Local\\Temp\\ipykernel_22024\\3996378728.py:43: FutureWarning: Parsed string \"2024-12-15 00:00:00T16:30\" included an un-recognized timezone \"T\". Dropping unrecognized timezones is deprecated; in a future version this will raise. Instead pass the string without the timezone, then use .tz_localize to convert to a recognized timezone.\n",
      "  start_time_obj = pd.to_datetime(start_datetime_str)\n"
     ]
    },
    {
     "name": "stdout",
     "output_type": "stream",
     "text": [
      "Error creating event for row 999: <HttpError 400 when requesting https://www.googleapis.com/calendar/v3/calendars/primary/events?alt=json returned \"The specified time range is empty.\". Details: \"[{'domain': 'calendar', 'reason': 'timeRangeEmpty', 'message': 'The specified time range is empty.', 'locationType': 'parameter', 'location': 'timeMax'}]\">\n",
      "Event created: https://www.google.com/calendar/event?eid=bGNkcjA3bDdpYzk0ZGtyNGd2MjgyM2FoNm8gdGVzdC0yMTVAbHVja3ktcmVhY3Rvci00NDMzMDgtcjQuaWFtLmdzZXJ2aWNlYWNjb3VudC5jb20\n",
      "Error creating event for row 1001: <HttpError 400 when requesting https://www.googleapis.com/calendar/v3/calendars/primary/events?alt=json returned \"The specified time range is empty.\". Details: \"[{'domain': 'calendar', 'reason': 'timeRangeEmpty', 'message': 'The specified time range is empty.', 'locationType': 'parameter', 'location': 'timeMax'}]\">\n"
     ]
    },
    {
     "name": "stderr",
     "output_type": "stream",
     "text": [
      "C:\\Users\\heans\\AppData\\Local\\Temp\\ipykernel_22024\\3996378728.py:43: FutureWarning: Parsed string \"2024-12-15 00:00:00T17:00\" included an un-recognized timezone \"T\". Dropping unrecognized timezones is deprecated; in a future version this will raise. Instead pass the string without the timezone, then use .tz_localize to convert to a recognized timezone.\n",
      "  start_time_obj = pd.to_datetime(start_datetime_str)\n"
     ]
    },
    {
     "name": "stdout",
     "output_type": "stream",
     "text": [
      "Event created: https://www.google.com/calendar/event?eid=dGQwYm9ndWtnYzhhODczZ2JmYTRpMHEyNmcgdGVzdC0yMTVAbHVja3ktcmVhY3Rvci00NDMzMDgtcjQuaWFtLmdzZXJ2aWNlYWNjb3VudC5jb20\n",
      "Error creating event for row 1003: <HttpError 400 when requesting https://www.googleapis.com/calendar/v3/calendars/primary/events?alt=json returned \"The specified time range is empty.\". Details: \"[{'domain': 'calendar', 'reason': 'timeRangeEmpty', 'message': 'The specified time range is empty.', 'locationType': 'parameter', 'location': 'timeMax'}]\">\n",
      "Error creating event for row 1004: <HttpError 400 when requesting https://www.googleapis.com/calendar/v3/calendars/primary/events?alt=json returned \"The specified time range is empty.\". Details: \"[{'domain': 'calendar', 'reason': 'timeRangeEmpty', 'message': 'The specified time range is empty.', 'locationType': 'parameter', 'location': 'timeMax'}]\">\n",
      "Event created: https://www.google.com/calendar/event?eid=a2dpZmFtdnNnY3JmNHR0YzZ1Nm5xdWxub2MgdGVzdC0yMTVAbHVja3ktcmVhY3Rvci00NDMzMDgtcjQuaWFtLmdzZXJ2aWNlYWNjb3VudC5jb20\n",
      "Error creating event for row 1006: <HttpError 400 when requesting https://www.googleapis.com/calendar/v3/calendars/primary/events?alt=json returned \"The specified time range is empty.\". Details: \"[{'domain': 'calendar', 'reason': 'timeRangeEmpty', 'message': 'The specified time range is empty.', 'locationType': 'parameter', 'location': 'timeMax'}]\">\n",
      "Event created: https://www.google.com/calendar/event?eid=bzEyNDlxMmVxMWxqdnQ0a2N2cGRyYWxiNnMgdGVzdC0yMTVAbHVja3ktcmVhY3Rvci00NDMzMDgtcjQuaWFtLmdzZXJ2aWNlYWNjb3VudC5jb20\n",
      "Event created: https://www.google.com/calendar/event?eid=amI0N3BiYXFwN3ZicnJodjlmOG11azk5ODQgdGVzdC0yMTVAbHVja3ktcmVhY3Rvci00NDMzMDgtcjQuaWFtLmdzZXJ2aWNlYWNjb3VudC5jb20\n",
      "Error creating event for row 1009: <HttpError 400 when requesting https://www.googleapis.com/calendar/v3/calendars/primary/events?alt=json returned \"The specified time range is empty.\". Details: \"[{'domain': 'calendar', 'reason': 'timeRangeEmpty', 'message': 'The specified time range is empty.', 'locationType': 'parameter', 'location': 'timeMax'}]\">\n",
      "Event created: https://www.google.com/calendar/event?eid=NzA1NnJ2ZTI2YzRwOTRhNmFycjRhZ2tpZWMgdGVzdC0yMTVAbHVja3ktcmVhY3Rvci00NDMzMDgtcjQuaWFtLmdzZXJ2aWNlYWNjb3VudC5jb20\n",
      "Error creating event for row 1011: <HttpError 400 when requesting https://www.googleapis.com/calendar/v3/calendars/primary/events?alt=json returned \"The specified time range is empty.\". Details: \"[{'domain': 'calendar', 'reason': 'timeRangeEmpty', 'message': 'The specified time range is empty.', 'locationType': 'parameter', 'location': 'timeMax'}]\">\n",
      "Error creating event for row 1012: <HttpError 400 when requesting https://www.googleapis.com/calendar/v3/calendars/primary/events?alt=json returned \"The specified time range is empty.\". Details: \"[{'domain': 'calendar', 'reason': 'timeRangeEmpty', 'message': 'The specified time range is empty.', 'locationType': 'parameter', 'location': 'timeMax'}]\">\n",
      "Event created: https://www.google.com/calendar/event?eid=N2pibGdmZzdyM2QycTA3bGR1NmtpZ2VrZjQgdGVzdC0yMTVAbHVja3ktcmVhY3Rvci00NDMzMDgtcjQuaWFtLmdzZXJ2aWNlYWNjb3VudC5jb20\n",
      "Event created: https://www.google.com/calendar/event?eid=OW1oNGpnYmsxZHV0bGQ1dG0zZW5xZTA2ZTQgdGVzdC0yMTVAbHVja3ktcmVhY3Rvci00NDMzMDgtcjQuaWFtLmdzZXJ2aWNlYWNjb3VudC5jb20\n",
      "Error creating event for row 1015: <HttpError 400 when requesting https://www.googleapis.com/calendar/v3/calendars/primary/events?alt=json returned \"The specified time range is empty.\". Details: \"[{'domain': 'calendar', 'reason': 'timeRangeEmpty', 'message': 'The specified time range is empty.', 'locationType': 'parameter', 'location': 'timeMax'}]\">\n",
      "Error creating event for row 1016: <HttpError 400 when requesting https://www.googleapis.com/calendar/v3/calendars/primary/events?alt=json returned \"The specified time range is empty.\". Details: \"[{'domain': 'calendar', 'reason': 'timeRangeEmpty', 'message': 'The specified time range is empty.', 'locationType': 'parameter', 'location': 'timeMax'}]\">\n",
      "Error creating event for row 1017: <HttpError 400 when requesting https://www.googleapis.com/calendar/v3/calendars/primary/events?alt=json returned \"The specified time range is empty.\". Details: \"[{'domain': 'calendar', 'reason': 'timeRangeEmpty', 'message': 'The specified time range is empty.', 'locationType': 'parameter', 'location': 'timeMax'}]\">\n",
      "Error creating event for row 1018: <HttpError 400 when requesting https://www.googleapis.com/calendar/v3/calendars/primary/events?alt=json returned \"The specified time range is empty.\". Details: \"[{'domain': 'calendar', 'reason': 'timeRangeEmpty', 'message': 'The specified time range is empty.', 'locationType': 'parameter', 'location': 'timeMax'}]\">\n",
      "Error creating event for row 1019: <HttpError 400 when requesting https://www.googleapis.com/calendar/v3/calendars/primary/events?alt=json returned \"The specified time range is empty.\". Details: \"[{'domain': 'calendar', 'reason': 'timeRangeEmpty', 'message': 'The specified time range is empty.', 'locationType': 'parameter', 'location': 'timeMax'}]\">\n",
      "Event created: https://www.google.com/calendar/event?eid=NXZ0NTFoa2RoY2w3b3Y5MmdpcmttanUwNjQgdGVzdC0yMTVAbHVja3ktcmVhY3Rvci00NDMzMDgtcjQuaWFtLmdzZXJ2aWNlYWNjb3VudC5jb20\n",
      "Error creating event for row 1021: <HttpError 400 when requesting https://www.googleapis.com/calendar/v3/calendars/primary/events?alt=json returned \"The specified time range is empty.\". Details: \"[{'domain': 'calendar', 'reason': 'timeRangeEmpty', 'message': 'The specified time range is empty.', 'locationType': 'parameter', 'location': 'timeMax'}]\">\n",
      "Error creating event for row 1022: <HttpError 400 when requesting https://www.googleapis.com/calendar/v3/calendars/primary/events?alt=json returned \"The specified time range is empty.\". Details: \"[{'domain': 'calendar', 'reason': 'timeRangeEmpty', 'message': 'The specified time range is empty.', 'locationType': 'parameter', 'location': 'timeMax'}]\">\n",
      "Error creating event for row 1023: <HttpError 400 when requesting https://www.googleapis.com/calendar/v3/calendars/primary/events?alt=json returned \"The specified time range is empty.\". Details: \"[{'domain': 'calendar', 'reason': 'timeRangeEmpty', 'message': 'The specified time range is empty.', 'locationType': 'parameter', 'location': 'timeMax'}]\">\n",
      "Error creating event for row 1024: <HttpError 400 when requesting https://www.googleapis.com/calendar/v3/calendars/primary/events?alt=json returned \"The specified time range is empty.\". Details: \"[{'domain': 'calendar', 'reason': 'timeRangeEmpty', 'message': 'The specified time range is empty.', 'locationType': 'parameter', 'location': 'timeMax'}]\">\n",
      "Error creating event for row 1025: <HttpError 400 when requesting https://www.googleapis.com/calendar/v3/calendars/primary/events?alt=json returned \"The specified time range is empty.\". Details: \"[{'domain': 'calendar', 'reason': 'timeRangeEmpty', 'message': 'The specified time range is empty.', 'locationType': 'parameter', 'location': 'timeMax'}]\">\n",
      "Event created: https://www.google.com/calendar/event?eid=ZmxvdjFsazViamc0YTk1ZWR2NzJhYjFhczQgdGVzdC0yMTVAbHVja3ktcmVhY3Rvci00NDMzMDgtcjQuaWFtLmdzZXJ2aWNlYWNjb3VudC5jb20\n",
      "Error creating event for row 1027: <HttpError 400 when requesting https://www.googleapis.com/calendar/v3/calendars/primary/events?alt=json returned \"The specified time range is empty.\". Details: \"[{'domain': 'calendar', 'reason': 'timeRangeEmpty', 'message': 'The specified time range is empty.', 'locationType': 'parameter', 'location': 'timeMax'}]\">\n",
      "Error creating event for row 1028: <HttpError 400 when requesting https://www.googleapis.com/calendar/v3/calendars/primary/events?alt=json returned \"The specified time range is empty.\". Details: \"[{'domain': 'calendar', 'reason': 'timeRangeEmpty', 'message': 'The specified time range is empty.', 'locationType': 'parameter', 'location': 'timeMax'}]\">\n",
      "Error creating event for row 1029: <HttpError 400 when requesting https://www.googleapis.com/calendar/v3/calendars/primary/events?alt=json returned \"The specified time range is empty.\". Details: \"[{'domain': 'calendar', 'reason': 'timeRangeEmpty', 'message': 'The specified time range is empty.', 'locationType': 'parameter', 'location': 'timeMax'}]\">\n",
      "Event created: https://www.google.com/calendar/event?eid=ZW01cGlxdjVmZnAwN2VjZzUyMWp2azB1bzQgdGVzdC0yMTVAbHVja3ktcmVhY3Rvci00NDMzMDgtcjQuaWFtLmdzZXJ2aWNlYWNjb3VudC5jb20\n",
      "Event created: https://www.google.com/calendar/event?eid=ZjI4azJoNTI4NW1qZWZzdGU0cTRpdW80NjggdGVzdC0yMTVAbHVja3ktcmVhY3Rvci00NDMzMDgtcjQuaWFtLmdzZXJ2aWNlYWNjb3VudC5jb20\n",
      "Error creating event for row 1032: <HttpError 400 when requesting https://www.googleapis.com/calendar/v3/calendars/primary/events?alt=json returned \"The specified time range is empty.\". Details: \"[{'domain': 'calendar', 'reason': 'timeRangeEmpty', 'message': 'The specified time range is empty.', 'locationType': 'parameter', 'location': 'timeMax'}]\">\n",
      "Error creating event for row 1033: <HttpError 400 when requesting https://www.googleapis.com/calendar/v3/calendars/primary/events?alt=json returned \"The specified time range is empty.\". Details: \"[{'domain': 'calendar', 'reason': 'timeRangeEmpty', 'message': 'The specified time range is empty.', 'locationType': 'parameter', 'location': 'timeMax'}]\">\n",
      "Error creating event for row 1034: <HttpError 400 when requesting https://www.googleapis.com/calendar/v3/calendars/primary/events?alt=json returned \"The specified time range is empty.\". Details: \"[{'domain': 'calendar', 'reason': 'timeRangeEmpty', 'message': 'The specified time range is empty.', 'locationType': 'parameter', 'location': 'timeMax'}]\">\n",
      "Event created: https://www.google.com/calendar/event?eid=MTlsbW01dmlscTE2ZmhyYm9ucHRrb3VkZW8gdGVzdC0yMTVAbHVja3ktcmVhY3Rvci00NDMzMDgtcjQuaWFtLmdzZXJ2aWNlYWNjb3VudC5jb20\n",
      "Error creating event for row 1036: <HttpError 400 when requesting https://www.googleapis.com/calendar/v3/calendars/primary/events?alt=json returned \"The specified time range is empty.\". Details: \"[{'domain': 'calendar', 'reason': 'timeRangeEmpty', 'message': 'The specified time range is empty.', 'locationType': 'parameter', 'location': 'timeMax'}]\">\n",
      "Event created: https://www.google.com/calendar/event?eid=dHEyNDR2ZnV2MTllNnZjNTFsdnBkY3JiNzAgdGVzdC0yMTVAbHVja3ktcmVhY3Rvci00NDMzMDgtcjQuaWFtLmdzZXJ2aWNlYWNjb3VudC5jb20\n",
      "Event created: https://www.google.com/calendar/event?eid=NmJyYjBqMDV1aHFhdnVxcGxudnVoZm9iY3MgdGVzdC0yMTVAbHVja3ktcmVhY3Rvci00NDMzMDgtcjQuaWFtLmdzZXJ2aWNlYWNjb3VudC5jb20\n",
      "Event created: https://www.google.com/calendar/event?eid=b3RqcnI1cmIxZTN1bXY5dDQ3cGU1djJjMjggdGVzdC0yMTVAbHVja3ktcmVhY3Rvci00NDMzMDgtcjQuaWFtLmdzZXJ2aWNlYWNjb3VudC5jb20\n",
      "Error creating event for row 1040: <HttpError 400 when requesting https://www.googleapis.com/calendar/v3/calendars/primary/events?alt=json returned \"The specified time range is empty.\". Details: \"[{'domain': 'calendar', 'reason': 'timeRangeEmpty', 'message': 'The specified time range is empty.', 'locationType': 'parameter', 'location': 'timeMax'}]\">\n",
      "Error creating event for row 1041: <HttpError 400 when requesting https://www.googleapis.com/calendar/v3/calendars/primary/events?alt=json returned \"The specified time range is empty.\". Details: \"[{'domain': 'calendar', 'reason': 'timeRangeEmpty', 'message': 'The specified time range is empty.', 'locationType': 'parameter', 'location': 'timeMax'}]\">\n",
      "Error creating event for row 1042: <HttpError 400 when requesting https://www.googleapis.com/calendar/v3/calendars/primary/events?alt=json returned \"The specified time range is empty.\". Details: \"[{'domain': 'calendar', 'reason': 'timeRangeEmpty', 'message': 'The specified time range is empty.', 'locationType': 'parameter', 'location': 'timeMax'}]\">\n",
      "Error creating event for row 1043: <HttpError 400 when requesting https://www.googleapis.com/calendar/v3/calendars/primary/events?alt=json returned \"The specified time range is empty.\". Details: \"[{'domain': 'calendar', 'reason': 'timeRangeEmpty', 'message': 'The specified time range is empty.', 'locationType': 'parameter', 'location': 'timeMax'}]\">\n",
      "Error creating event for row 1044: <HttpError 400 when requesting https://www.googleapis.com/calendar/v3/calendars/primary/events?alt=json returned \"The specified time range is empty.\". Details: \"[{'domain': 'calendar', 'reason': 'timeRangeEmpty', 'message': 'The specified time range is empty.', 'locationType': 'parameter', 'location': 'timeMax'}]\">\n",
      "Error creating event for row 1045: <HttpError 400 when requesting https://www.googleapis.com/calendar/v3/calendars/primary/events?alt=json returned \"The specified time range is empty.\". Details: \"[{'domain': 'calendar', 'reason': 'timeRangeEmpty', 'message': 'The specified time range is empty.', 'locationType': 'parameter', 'location': 'timeMax'}]\">\n",
      "Error creating event for row 1046: <HttpError 400 when requesting https://www.googleapis.com/calendar/v3/calendars/primary/events?alt=json returned \"The specified time range is empty.\". Details: \"[{'domain': 'calendar', 'reason': 'timeRangeEmpty', 'message': 'The specified time range is empty.', 'locationType': 'parameter', 'location': 'timeMax'}]\">\n"
     ]
    },
    {
     "name": "stderr",
     "output_type": "stream",
     "text": [
      "C:\\Users\\heans\\AppData\\Local\\Temp\\ipykernel_22024\\3996378728.py:43: FutureWarning: Parsed string \"2024-12-15 00:00:00T17:30\" included an un-recognized timezone \"T\". Dropping unrecognized timezones is deprecated; in a future version this will raise. Instead pass the string without the timezone, then use .tz_localize to convert to a recognized timezone.\n",
      "  start_time_obj = pd.to_datetime(start_datetime_str)\n"
     ]
    },
    {
     "name": "stdout",
     "output_type": "stream",
     "text": [
      "Error creating event for row 1047: <HttpError 400 when requesting https://www.googleapis.com/calendar/v3/calendars/primary/events?alt=json returned \"The specified time range is empty.\". Details: \"[{'domain': 'calendar', 'reason': 'timeRangeEmpty', 'message': 'The specified time range is empty.', 'locationType': 'parameter', 'location': 'timeMax'}]\">\n",
      "Error creating event for row 1048: <HttpError 400 when requesting https://www.googleapis.com/calendar/v3/calendars/primary/events?alt=json returned \"The specified time range is empty.\". Details: \"[{'domain': 'calendar', 'reason': 'timeRangeEmpty', 'message': 'The specified time range is empty.', 'locationType': 'parameter', 'location': 'timeMax'}]\">\n",
      "Error creating event for row 1049: <HttpError 400 when requesting https://www.googleapis.com/calendar/v3/calendars/primary/events?alt=json returned \"The specified time range is empty.\". Details: \"[{'domain': 'calendar', 'reason': 'timeRangeEmpty', 'message': 'The specified time range is empty.', 'locationType': 'parameter', 'location': 'timeMax'}]\">\n",
      "Error creating event for row 1050: <HttpError 400 when requesting https://www.googleapis.com/calendar/v3/calendars/primary/events?alt=json returned \"The specified time range is empty.\". Details: \"[{'domain': 'calendar', 'reason': 'timeRangeEmpty', 'message': 'The specified time range is empty.', 'locationType': 'parameter', 'location': 'timeMax'}]\">\n"
     ]
    },
    {
     "name": "stderr",
     "output_type": "stream",
     "text": [
      "C:\\Users\\heans\\AppData\\Local\\Temp\\ipykernel_22024\\3996378728.py:43: FutureWarning: Parsed string \"2024-12-15 00:00:00T18:00\" included an un-recognized timezone \"T\". Dropping unrecognized timezones is deprecated; in a future version this will raise. Instead pass the string without the timezone, then use .tz_localize to convert to a recognized timezone.\n",
      "  start_time_obj = pd.to_datetime(start_datetime_str)\n"
     ]
    },
    {
     "name": "stdout",
     "output_type": "stream",
     "text": [
      "Error creating event for row 1051: <HttpError 400 when requesting https://www.googleapis.com/calendar/v3/calendars/primary/events?alt=json returned \"The specified time range is empty.\". Details: \"[{'domain': 'calendar', 'reason': 'timeRangeEmpty', 'message': 'The specified time range is empty.', 'locationType': 'parameter', 'location': 'timeMax'}]\">\n",
      "Error creating event for row 1052: <HttpError 400 when requesting https://www.googleapis.com/calendar/v3/calendars/primary/events?alt=json returned \"The specified time range is empty.\". Details: \"[{'domain': 'calendar', 'reason': 'timeRangeEmpty', 'message': 'The specified time range is empty.', 'locationType': 'parameter', 'location': 'timeMax'}]\">\n",
      "Event created: https://www.google.com/calendar/event?eid=bWs1ZHM4OXV1aWgzaXNuaTBhZnA5cmIxNW8gdGVzdC0yMTVAbHVja3ktcmVhY3Rvci00NDMzMDgtcjQuaWFtLmdzZXJ2aWNlYWNjb3VudC5jb20\n",
      "Error creating event for row 1054: <HttpError 400 when requesting https://www.googleapis.com/calendar/v3/calendars/primary/events?alt=json returned \"The specified time range is empty.\". Details: \"[{'domain': 'calendar', 'reason': 'timeRangeEmpty', 'message': 'The specified time range is empty.', 'locationType': 'parameter', 'location': 'timeMax'}]\">\n",
      "Error creating event for row 1055: <HttpError 400 when requesting https://www.googleapis.com/calendar/v3/calendars/primary/events?alt=json returned \"The specified time range is empty.\". Details: \"[{'domain': 'calendar', 'reason': 'timeRangeEmpty', 'message': 'The specified time range is empty.', 'locationType': 'parameter', 'location': 'timeMax'}]\">\n",
      "Error creating event for row 1056: <HttpError 400 when requesting https://www.googleapis.com/calendar/v3/calendars/primary/events?alt=json returned \"The specified time range is empty.\". Details: \"[{'domain': 'calendar', 'reason': 'timeRangeEmpty', 'message': 'The specified time range is empty.', 'locationType': 'parameter', 'location': 'timeMax'}]\">\n",
      "Error creating event for row 1057: <HttpError 400 when requesting https://www.googleapis.com/calendar/v3/calendars/primary/events?alt=json returned \"The specified time range is empty.\". Details: \"[{'domain': 'calendar', 'reason': 'timeRangeEmpty', 'message': 'The specified time range is empty.', 'locationType': 'parameter', 'location': 'timeMax'}]\">\n",
      "Error creating event for row 1058: <HttpError 400 when requesting https://www.googleapis.com/calendar/v3/calendars/primary/events?alt=json returned \"The specified time range is empty.\". Details: \"[{'domain': 'calendar', 'reason': 'timeRangeEmpty', 'message': 'The specified time range is empty.', 'locationType': 'parameter', 'location': 'timeMax'}]\">\n",
      "Event created: https://www.google.com/calendar/event?eid=cnBjMWR1ZWg3MWZiMDl1dWVwZG4wc3FvaW8gdGVzdC0yMTVAbHVja3ktcmVhY3Rvci00NDMzMDgtcjQuaWFtLmdzZXJ2aWNlYWNjb3VudC5jb20\n",
      "Event created: https://www.google.com/calendar/event?eid=a3RxYmFkcXY3cmtha2w0Mm5tbWZpOThzNGMgdGVzdC0yMTVAbHVja3ktcmVhY3Rvci00NDMzMDgtcjQuaWFtLmdzZXJ2aWNlYWNjb3VudC5jb20\n",
      "Error creating event for row 1061: <HttpError 400 when requesting https://www.googleapis.com/calendar/v3/calendars/primary/events?alt=json returned \"The specified time range is empty.\". Details: \"[{'domain': 'calendar', 'reason': 'timeRangeEmpty', 'message': 'The specified time range is empty.', 'locationType': 'parameter', 'location': 'timeMax'}]\">\n",
      "Error creating event for row 1062: <HttpError 400 when requesting https://www.googleapis.com/calendar/v3/calendars/primary/events?alt=json returned \"The specified time range is empty.\". Details: \"[{'domain': 'calendar', 'reason': 'timeRangeEmpty', 'message': 'The specified time range is empty.', 'locationType': 'parameter', 'location': 'timeMax'}]\">\n",
      "Error creating event for row 1063: <HttpError 400 when requesting https://www.googleapis.com/calendar/v3/calendars/primary/events?alt=json returned \"The specified time range is empty.\". Details: \"[{'domain': 'calendar', 'reason': 'timeRangeEmpty', 'message': 'The specified time range is empty.', 'locationType': 'parameter', 'location': 'timeMax'}]\">\n",
      "Error creating event for row 1064: <HttpError 400 when requesting https://www.googleapis.com/calendar/v3/calendars/primary/events?alt=json returned \"The specified time range is empty.\". Details: \"[{'domain': 'calendar', 'reason': 'timeRangeEmpty', 'message': 'The specified time range is empty.', 'locationType': 'parameter', 'location': 'timeMax'}]\">\n",
      "Error creating event for row 1065: <HttpError 400 when requesting https://www.googleapis.com/calendar/v3/calendars/primary/events?alt=json returned \"The specified time range is empty.\". Details: \"[{'domain': 'calendar', 'reason': 'timeRangeEmpty', 'message': 'The specified time range is empty.', 'locationType': 'parameter', 'location': 'timeMax'}]\">\n",
      "Error creating event for row 1066: <HttpError 400 when requesting https://www.googleapis.com/calendar/v3/calendars/primary/events?alt=json returned \"The specified time range is empty.\". Details: \"[{'domain': 'calendar', 'reason': 'timeRangeEmpty', 'message': 'The specified time range is empty.', 'locationType': 'parameter', 'location': 'timeMax'}]\">\n",
      "Error creating event for row 1067: <HttpError 400 when requesting https://www.googleapis.com/calendar/v3/calendars/primary/events?alt=json returned \"The specified time range is empty.\". Details: \"[{'domain': 'calendar', 'reason': 'timeRangeEmpty', 'message': 'The specified time range is empty.', 'locationType': 'parameter', 'location': 'timeMax'}]\">\n",
      "Error creating event for row 1068: <HttpError 400 when requesting https://www.googleapis.com/calendar/v3/calendars/primary/events?alt=json returned \"The specified time range is empty.\". Details: \"[{'domain': 'calendar', 'reason': 'timeRangeEmpty', 'message': 'The specified time range is empty.', 'locationType': 'parameter', 'location': 'timeMax'}]\">\n",
      "Error creating event for row 1069: <HttpError 400 when requesting https://www.googleapis.com/calendar/v3/calendars/primary/events?alt=json returned \"The specified time range is empty.\". Details: \"[{'domain': 'calendar', 'reason': 'timeRangeEmpty', 'message': 'The specified time range is empty.', 'locationType': 'parameter', 'location': 'timeMax'}]\">\n",
      "Error creating event for row 1070: <HttpError 400 when requesting https://www.googleapis.com/calendar/v3/calendars/primary/events?alt=json returned \"The specified time range is empty.\". Details: \"[{'domain': 'calendar', 'reason': 'timeRangeEmpty', 'message': 'The specified time range is empty.', 'locationType': 'parameter', 'location': 'timeMax'}]\">\n",
      "Error creating event for row 1071: <HttpError 400 when requesting https://www.googleapis.com/calendar/v3/calendars/primary/events?alt=json returned \"The specified time range is empty.\". Details: \"[{'domain': 'calendar', 'reason': 'timeRangeEmpty', 'message': 'The specified time range is empty.', 'locationType': 'parameter', 'location': 'timeMax'}]\">\n",
      "Error creating event for row 1072: <HttpError 400 when requesting https://www.googleapis.com/calendar/v3/calendars/primary/events?alt=json returned \"The specified time range is empty.\". Details: \"[{'domain': 'calendar', 'reason': 'timeRangeEmpty', 'message': 'The specified time range is empty.', 'locationType': 'parameter', 'location': 'timeMax'}]\">\n",
      "Error creating event for row 1073: <HttpError 400 when requesting https://www.googleapis.com/calendar/v3/calendars/primary/events?alt=json returned \"The specified time range is empty.\". Details: \"[{'domain': 'calendar', 'reason': 'timeRangeEmpty', 'message': 'The specified time range is empty.', 'locationType': 'parameter', 'location': 'timeMax'}]\">\n",
      "Error creating event for row 1074: <HttpError 400 when requesting https://www.googleapis.com/calendar/v3/calendars/primary/events?alt=json returned \"The specified time range is empty.\". Details: \"[{'domain': 'calendar', 'reason': 'timeRangeEmpty', 'message': 'The specified time range is empty.', 'locationType': 'parameter', 'location': 'timeMax'}]\">\n",
      "Error creating event for row 1075: <HttpError 400 when requesting https://www.googleapis.com/calendar/v3/calendars/primary/events?alt=json returned \"The specified time range is empty.\". Details: \"[{'domain': 'calendar', 'reason': 'timeRangeEmpty', 'message': 'The specified time range is empty.', 'locationType': 'parameter', 'location': 'timeMax'}]\">\n",
      "Error creating event for row 1076: <HttpError 400 when requesting https://www.googleapis.com/calendar/v3/calendars/primary/events?alt=json returned \"The specified time range is empty.\". Details: \"[{'domain': 'calendar', 'reason': 'timeRangeEmpty', 'message': 'The specified time range is empty.', 'locationType': 'parameter', 'location': 'timeMax'}]\">\n",
      "Event created: https://www.google.com/calendar/event?eid=Ymc0Nm1ra2NidGV0MTNoaDdiNjgzZWppcWsgdGVzdC0yMTVAbHVja3ktcmVhY3Rvci00NDMzMDgtcjQuaWFtLmdzZXJ2aWNlYWNjb3VudC5jb20\n",
      "Error creating event for row 1078: <HttpError 400 when requesting https://www.googleapis.com/calendar/v3/calendars/primary/events?alt=json returned \"The specified time range is empty.\". Details: \"[{'domain': 'calendar', 'reason': 'timeRangeEmpty', 'message': 'The specified time range is empty.', 'locationType': 'parameter', 'location': 'timeMax'}]\">\n",
      "Error creating event for row 1079: <HttpError 400 when requesting https://www.googleapis.com/calendar/v3/calendars/primary/events?alt=json returned \"The specified time range is empty.\". Details: \"[{'domain': 'calendar', 'reason': 'timeRangeEmpty', 'message': 'The specified time range is empty.', 'locationType': 'parameter', 'location': 'timeMax'}]\">\n",
      "Error creating event for row 1080: <HttpError 400 when requesting https://www.googleapis.com/calendar/v3/calendars/primary/events?alt=json returned \"The specified time range is empty.\". Details: \"[{'domain': 'calendar', 'reason': 'timeRangeEmpty', 'message': 'The specified time range is empty.', 'locationType': 'parameter', 'location': 'timeMax'}]\">\n",
      "Error creating event for row 1081: <HttpError 400 when requesting https://www.googleapis.com/calendar/v3/calendars/primary/events?alt=json returned \"The specified time range is empty.\". Details: \"[{'domain': 'calendar', 'reason': 'timeRangeEmpty', 'message': 'The specified time range is empty.', 'locationType': 'parameter', 'location': 'timeMax'}]\">\n",
      "Event created: https://www.google.com/calendar/event?eid=YzhwM2ZjMmJiNTlvN2J2ZnJjNDNoZ3NxYjAgdGVzdC0yMTVAbHVja3ktcmVhY3Rvci00NDMzMDgtcjQuaWFtLmdzZXJ2aWNlYWNjb3VudC5jb20\n",
      "Error creating event for row 1083: <HttpError 400 when requesting https://www.googleapis.com/calendar/v3/calendars/primary/events?alt=json returned \"The specified time range is empty.\". Details: \"[{'domain': 'calendar', 'reason': 'timeRangeEmpty', 'message': 'The specified time range is empty.', 'locationType': 'parameter', 'location': 'timeMax'}]\">\n",
      "Error creating event for row 1084: <HttpError 400 when requesting https://www.googleapis.com/calendar/v3/calendars/primary/events?alt=json returned \"The specified time range is empty.\". Details: \"[{'domain': 'calendar', 'reason': 'timeRangeEmpty', 'message': 'The specified time range is empty.', 'locationType': 'parameter', 'location': 'timeMax'}]\">\n",
      "Event created: https://www.google.com/calendar/event?eid=am5ranU2bzBoZ2g0bzE4b25pY2pxZ3Z0b2cgdGVzdC0yMTVAbHVja3ktcmVhY3Rvci00NDMzMDgtcjQuaWFtLmdzZXJ2aWNlYWNjb3VudC5jb20\n",
      "Error creating event for row 1086: <HttpError 400 when requesting https://www.googleapis.com/calendar/v3/calendars/primary/events?alt=json returned \"The specified time range is empty.\". Details: \"[{'domain': 'calendar', 'reason': 'timeRangeEmpty', 'message': 'The specified time range is empty.', 'locationType': 'parameter', 'location': 'timeMax'}]\">\n",
      "Error creating event for row 1087: <HttpError 400 when requesting https://www.googleapis.com/calendar/v3/calendars/primary/events?alt=json returned \"The specified time range is empty.\". Details: \"[{'domain': 'calendar', 'reason': 'timeRangeEmpty', 'message': 'The specified time range is empty.', 'locationType': 'parameter', 'location': 'timeMax'}]\">\n",
      "Error creating event for row 1088: <HttpError 400 when requesting https://www.googleapis.com/calendar/v3/calendars/primary/events?alt=json returned \"The specified time range is empty.\". Details: \"[{'domain': 'calendar', 'reason': 'timeRangeEmpty', 'message': 'The specified time range is empty.', 'locationType': 'parameter', 'location': 'timeMax'}]\">\n",
      "Error creating event for row 1089: <HttpError 400 when requesting https://www.googleapis.com/calendar/v3/calendars/primary/events?alt=json returned \"The specified time range is empty.\". Details: \"[{'domain': 'calendar', 'reason': 'timeRangeEmpty', 'message': 'The specified time range is empty.', 'locationType': 'parameter', 'location': 'timeMax'}]\">\n",
      "Error creating event for row 1090: <HttpError 400 when requesting https://www.googleapis.com/calendar/v3/calendars/primary/events?alt=json returned \"The specified time range is empty.\". Details: \"[{'domain': 'calendar', 'reason': 'timeRangeEmpty', 'message': 'The specified time range is empty.', 'locationType': 'parameter', 'location': 'timeMax'}]\">\n",
      "Error creating event for row 1091: <HttpError 400 when requesting https://www.googleapis.com/calendar/v3/calendars/primary/events?alt=json returned \"The specified time range is empty.\". Details: \"[{'domain': 'calendar', 'reason': 'timeRangeEmpty', 'message': 'The specified time range is empty.', 'locationType': 'parameter', 'location': 'timeMax'}]\">\n",
      "Error creating event for row 1092: <HttpError 400 when requesting https://www.googleapis.com/calendar/v3/calendars/primary/events?alt=json returned \"The specified time range is empty.\". Details: \"[{'domain': 'calendar', 'reason': 'timeRangeEmpty', 'message': 'The specified time range is empty.', 'locationType': 'parameter', 'location': 'timeMax'}]\">\n",
      "Error creating event for row 1093: <HttpError 400 when requesting https://www.googleapis.com/calendar/v3/calendars/primary/events?alt=json returned \"The specified time range is empty.\". Details: \"[{'domain': 'calendar', 'reason': 'timeRangeEmpty', 'message': 'The specified time range is empty.', 'locationType': 'parameter', 'location': 'timeMax'}]\">\n"
     ]
    },
    {
     "name": "stderr",
     "output_type": "stream",
     "text": [
      "C:\\Users\\heans\\AppData\\Local\\Temp\\ipykernel_22024\\3996378728.py:43: FutureWarning: Parsed string \"2024-12-15 00:00:00T18:30\" included an un-recognized timezone \"T\". Dropping unrecognized timezones is deprecated; in a future version this will raise. Instead pass the string without the timezone, then use .tz_localize to convert to a recognized timezone.\n",
      "  start_time_obj = pd.to_datetime(start_datetime_str)\n"
     ]
    },
    {
     "name": "stdout",
     "output_type": "stream",
     "text": [
      "Event created: https://www.google.com/calendar/event?eid=am1rbDZsOW9rZzkzaTI5dXNjYjEyYTNhZGsgdGVzdC0yMTVAbHVja3ktcmVhY3Rvci00NDMzMDgtcjQuaWFtLmdzZXJ2aWNlYWNjb3VudC5jb20\n",
      "Error creating event for row 1095: <HttpError 400 when requesting https://www.googleapis.com/calendar/v3/calendars/primary/events?alt=json returned \"The specified time range is empty.\". Details: \"[{'domain': 'calendar', 'reason': 'timeRangeEmpty', 'message': 'The specified time range is empty.', 'locationType': 'parameter', 'location': 'timeMax'}]\">\n",
      "Error creating event for row 1096: <HttpError 400 when requesting https://www.googleapis.com/calendar/v3/calendars/primary/events?alt=json returned \"The specified time range is empty.\". Details: \"[{'domain': 'calendar', 'reason': 'timeRangeEmpty', 'message': 'The specified time range is empty.', 'locationType': 'parameter', 'location': 'timeMax'}]\">\n",
      "Error creating event for row 1097: <HttpError 400 when requesting https://www.googleapis.com/calendar/v3/calendars/primary/events?alt=json returned \"The specified time range is empty.\". Details: \"[{'domain': 'calendar', 'reason': 'timeRangeEmpty', 'message': 'The specified time range is empty.', 'locationType': 'parameter', 'location': 'timeMax'}]\">\n"
     ]
    },
    {
     "name": "stderr",
     "output_type": "stream",
     "text": [
      "C:\\Users\\heans\\AppData\\Local\\Temp\\ipykernel_22024\\3996378728.py:43: FutureWarning: Parsed string \"2024-12-15 00:00:00T19:00\" included an un-recognized timezone \"T\". Dropping unrecognized timezones is deprecated; in a future version this will raise. Instead pass the string without the timezone, then use .tz_localize to convert to a recognized timezone.\n",
      "  start_time_obj = pd.to_datetime(start_datetime_str)\n"
     ]
    },
    {
     "name": "stdout",
     "output_type": "stream",
     "text": [
      "Error creating event for row 1098: <HttpError 400 when requesting https://www.googleapis.com/calendar/v3/calendars/primary/events?alt=json returned \"The specified time range is empty.\". Details: \"[{'domain': 'calendar', 'reason': 'timeRangeEmpty', 'message': 'The specified time range is empty.', 'locationType': 'parameter', 'location': 'timeMax'}]\">\n",
      "Error creating event for row 1099: <HttpError 400 when requesting https://www.googleapis.com/calendar/v3/calendars/primary/events?alt=json returned \"The specified time range is empty.\". Details: \"[{'domain': 'calendar', 'reason': 'timeRangeEmpty', 'message': 'The specified time range is empty.', 'locationType': 'parameter', 'location': 'timeMax'}]\">\n",
      "Error creating event for row 1100: <HttpError 400 when requesting https://www.googleapis.com/calendar/v3/calendars/primary/events?alt=json returned \"The specified time range is empty.\". Details: \"[{'domain': 'calendar', 'reason': 'timeRangeEmpty', 'message': 'The specified time range is empty.', 'locationType': 'parameter', 'location': 'timeMax'}]\">\n",
      "Error creating event for row 1101: <HttpError 400 when requesting https://www.googleapis.com/calendar/v3/calendars/primary/events?alt=json returned \"The specified time range is empty.\". Details: \"[{'domain': 'calendar', 'reason': 'timeRangeEmpty', 'message': 'The specified time range is empty.', 'locationType': 'parameter', 'location': 'timeMax'}]\">\n",
      "Event created: https://www.google.com/calendar/event?eid=NzFzaW9ybzUyaWt1dmJiaHBvODg3cnJqNmsgdGVzdC0yMTVAbHVja3ktcmVhY3Rvci00NDMzMDgtcjQuaWFtLmdzZXJ2aWNlYWNjb3VudC5jb20\n",
      "Error creating event for row 1103: <HttpError 400 when requesting https://www.googleapis.com/calendar/v3/calendars/primary/events?alt=json returned \"The specified time range is empty.\". Details: \"[{'domain': 'calendar', 'reason': 'timeRangeEmpty', 'message': 'The specified time range is empty.', 'locationType': 'parameter', 'location': 'timeMax'}]\">\n",
      "Error creating event for row 1104: <HttpError 400 when requesting https://www.googleapis.com/calendar/v3/calendars/primary/events?alt=json returned \"The specified time range is empty.\". Details: \"[{'domain': 'calendar', 'reason': 'timeRangeEmpty', 'message': 'The specified time range is empty.', 'locationType': 'parameter', 'location': 'timeMax'}]\">\n",
      "Event created: https://www.google.com/calendar/event?eid=Y28wNjRzdjVmNzgycHE5bHZoOWw4M2FycWsgdGVzdC0yMTVAbHVja3ktcmVhY3Rvci00NDMzMDgtcjQuaWFtLmdzZXJ2aWNlYWNjb3VudC5jb20\n",
      "Error creating event for row 1106: <HttpError 400 when requesting https://www.googleapis.com/calendar/v3/calendars/primary/events?alt=json returned \"The specified time range is empty.\". Details: \"[{'domain': 'calendar', 'reason': 'timeRangeEmpty', 'message': 'The specified time range is empty.', 'locationType': 'parameter', 'location': 'timeMax'}]\">\n",
      "Error creating event for row 1107: <HttpError 400 when requesting https://www.googleapis.com/calendar/v3/calendars/primary/events?alt=json returned \"The specified time range is empty.\". Details: \"[{'domain': 'calendar', 'reason': 'timeRangeEmpty', 'message': 'The specified time range is empty.', 'locationType': 'parameter', 'location': 'timeMax'}]\">\n",
      "Error creating event for row 1108: <HttpError 400 when requesting https://www.googleapis.com/calendar/v3/calendars/primary/events?alt=json returned \"The specified time range is empty.\". Details: \"[{'domain': 'calendar', 'reason': 'timeRangeEmpty', 'message': 'The specified time range is empty.', 'locationType': 'parameter', 'location': 'timeMax'}]\">\n",
      "Error creating event for row 1109: <HttpError 400 when requesting https://www.googleapis.com/calendar/v3/calendars/primary/events?alt=json returned \"The specified time range is empty.\". Details: \"[{'domain': 'calendar', 'reason': 'timeRangeEmpty', 'message': 'The specified time range is empty.', 'locationType': 'parameter', 'location': 'timeMax'}]\">\n",
      "Error creating event for row 1110: <HttpError 400 when requesting https://www.googleapis.com/calendar/v3/calendars/primary/events?alt=json returned \"The specified time range is empty.\". Details: \"[{'domain': 'calendar', 'reason': 'timeRangeEmpty', 'message': 'The specified time range is empty.', 'locationType': 'parameter', 'location': 'timeMax'}]\">\n",
      "Error creating event for row 1111: <HttpError 400 when requesting https://www.googleapis.com/calendar/v3/calendars/primary/events?alt=json returned \"The specified time range is empty.\". Details: \"[{'domain': 'calendar', 'reason': 'timeRangeEmpty', 'message': 'The specified time range is empty.', 'locationType': 'parameter', 'location': 'timeMax'}]\">\n",
      "Error creating event for row 1112: <HttpError 400 when requesting https://www.googleapis.com/calendar/v3/calendars/primary/events?alt=json returned \"The specified time range is empty.\". Details: \"[{'domain': 'calendar', 'reason': 'timeRangeEmpty', 'message': 'The specified time range is empty.', 'locationType': 'parameter', 'location': 'timeMax'}]\">\n",
      "Error creating event for row 1113: <HttpError 400 when requesting https://www.googleapis.com/calendar/v3/calendars/primary/events?alt=json returned \"The specified time range is empty.\". Details: \"[{'domain': 'calendar', 'reason': 'timeRangeEmpty', 'message': 'The specified time range is empty.', 'locationType': 'parameter', 'location': 'timeMax'}]\">\n",
      "Error creating event for row 1114: <HttpError 400 when requesting https://www.googleapis.com/calendar/v3/calendars/primary/events?alt=json returned \"The specified time range is empty.\". Details: \"[{'domain': 'calendar', 'reason': 'timeRangeEmpty', 'message': 'The specified time range is empty.', 'locationType': 'parameter', 'location': 'timeMax'}]\">\n"
     ]
    },
    {
     "name": "stderr",
     "output_type": "stream",
     "text": [
      "C:\\Users\\heans\\AppData\\Local\\Temp\\ipykernel_22024\\3996378728.py:43: FutureWarning: Parsed string \"2024-12-15 00:00:00T19:30\" included an un-recognized timezone \"T\". Dropping unrecognized timezones is deprecated; in a future version this will raise. Instead pass the string without the timezone, then use .tz_localize to convert to a recognized timezone.\n",
      "  start_time_obj = pd.to_datetime(start_datetime_str)\n"
     ]
    },
    {
     "name": "stdout",
     "output_type": "stream",
     "text": [
      "Error creating event for row 1115: <HttpError 400 when requesting https://www.googleapis.com/calendar/v3/calendars/primary/events?alt=json returned \"The specified time range is empty.\". Details: \"[{'domain': 'calendar', 'reason': 'timeRangeEmpty', 'message': 'The specified time range is empty.', 'locationType': 'parameter', 'location': 'timeMax'}]\">\n",
      "Error creating event for row 1116: <HttpError 400 when requesting https://www.googleapis.com/calendar/v3/calendars/primary/events?alt=json returned \"The specified time range is empty.\". Details: \"[{'domain': 'calendar', 'reason': 'timeRangeEmpty', 'message': 'The specified time range is empty.', 'locationType': 'parameter', 'location': 'timeMax'}]\">\n",
      "Error creating event for row 1117: <HttpError 400 when requesting https://www.googleapis.com/calendar/v3/calendars/primary/events?alt=json returned \"The specified time range is empty.\". Details: \"[{'domain': 'calendar', 'reason': 'timeRangeEmpty', 'message': 'The specified time range is empty.', 'locationType': 'parameter', 'location': 'timeMax'}]\">\n",
      "Error creating event for row 1118: <HttpError 400 when requesting https://www.googleapis.com/calendar/v3/calendars/primary/events?alt=json returned \"The specified time range is empty.\". Details: \"[{'domain': 'calendar', 'reason': 'timeRangeEmpty', 'message': 'The specified time range is empty.', 'locationType': 'parameter', 'location': 'timeMax'}]\">\n",
      "Error creating event for row 1119: <HttpError 400 when requesting https://www.googleapis.com/calendar/v3/calendars/primary/events?alt=json returned \"The specified time range is empty.\". Details: \"[{'domain': 'calendar', 'reason': 'timeRangeEmpty', 'message': 'The specified time range is empty.', 'locationType': 'parameter', 'location': 'timeMax'}]\">\n",
      "Error creating event for row 1120: <HttpError 400 when requesting https://www.googleapis.com/calendar/v3/calendars/primary/events?alt=json returned \"The specified time range is empty.\". Details: \"[{'domain': 'calendar', 'reason': 'timeRangeEmpty', 'message': 'The specified time range is empty.', 'locationType': 'parameter', 'location': 'timeMax'}]\">\n",
      "Error creating event for row 1121: <HttpError 400 when requesting https://www.googleapis.com/calendar/v3/calendars/primary/events?alt=json returned \"The specified time range is empty.\". Details: \"[{'domain': 'calendar', 'reason': 'timeRangeEmpty', 'message': 'The specified time range is empty.', 'locationType': 'parameter', 'location': 'timeMax'}]\">\n"
     ]
    },
    {
     "name": "stderr",
     "output_type": "stream",
     "text": [
      "C:\\Users\\heans\\AppData\\Local\\Temp\\ipykernel_22024\\3996378728.py:43: FutureWarning: Parsed string \"2024-12-15 00:00:00T20:00\" included an un-recognized timezone \"T\". Dropping unrecognized timezones is deprecated; in a future version this will raise. Instead pass the string without the timezone, then use .tz_localize to convert to a recognized timezone.\n",
      "  start_time_obj = pd.to_datetime(start_datetime_str)\n"
     ]
    },
    {
     "name": "stdout",
     "output_type": "stream",
     "text": [
      "Error creating event for row 1122: <HttpError 400 when requesting https://www.googleapis.com/calendar/v3/calendars/primary/events?alt=json returned \"The specified time range is empty.\". Details: \"[{'domain': 'calendar', 'reason': 'timeRangeEmpty', 'message': 'The specified time range is empty.', 'locationType': 'parameter', 'location': 'timeMax'}]\">\n",
      "Error creating event for row 1123: <HttpError 400 when requesting https://www.googleapis.com/calendar/v3/calendars/primary/events?alt=json returned \"The specified time range is empty.\". Details: \"[{'domain': 'calendar', 'reason': 'timeRangeEmpty', 'message': 'The specified time range is empty.', 'locationType': 'parameter', 'location': 'timeMax'}]\">\n",
      "Error creating event for row 1124: <HttpError 400 when requesting https://www.googleapis.com/calendar/v3/calendars/primary/events?alt=json returned \"The specified time range is empty.\". Details: \"[{'domain': 'calendar', 'reason': 'timeRangeEmpty', 'message': 'The specified time range is empty.', 'locationType': 'parameter', 'location': 'timeMax'}]\">\n",
      "Error creating event for row 1125: <HttpError 400 when requesting https://www.googleapis.com/calendar/v3/calendars/primary/events?alt=json returned \"The specified time range is empty.\". Details: \"[{'domain': 'calendar', 'reason': 'timeRangeEmpty', 'message': 'The specified time range is empty.', 'locationType': 'parameter', 'location': 'timeMax'}]\">\n",
      "Error creating event for row 1126: <HttpError 400 when requesting https://www.googleapis.com/calendar/v3/calendars/primary/events?alt=json returned \"The specified time range is empty.\". Details: \"[{'domain': 'calendar', 'reason': 'timeRangeEmpty', 'message': 'The specified time range is empty.', 'locationType': 'parameter', 'location': 'timeMax'}]\">\n",
      "Error creating event for row 1127: <HttpError 400 when requesting https://www.googleapis.com/calendar/v3/calendars/primary/events?alt=json returned \"The specified time range is empty.\". Details: \"[{'domain': 'calendar', 'reason': 'timeRangeEmpty', 'message': 'The specified time range is empty.', 'locationType': 'parameter', 'location': 'timeMax'}]\">\n",
      "Error creating event for row 1128: <HttpError 400 when requesting https://www.googleapis.com/calendar/v3/calendars/primary/events?alt=json returned \"The specified time range is empty.\". Details: \"[{'domain': 'calendar', 'reason': 'timeRangeEmpty', 'message': 'The specified time range is empty.', 'locationType': 'parameter', 'location': 'timeMax'}]\">\n",
      "Error creating event for row 1129: <HttpError 400 when requesting https://www.googleapis.com/calendar/v3/calendars/primary/events?alt=json returned \"The specified time range is empty.\". Details: \"[{'domain': 'calendar', 'reason': 'timeRangeEmpty', 'message': 'The specified time range is empty.', 'locationType': 'parameter', 'location': 'timeMax'}]\">\n",
      "Error creating event for row 1130: <HttpError 400 when requesting https://www.googleapis.com/calendar/v3/calendars/primary/events?alt=json returned \"The specified time range is empty.\". Details: \"[{'domain': 'calendar', 'reason': 'timeRangeEmpty', 'message': 'The specified time range is empty.', 'locationType': 'parameter', 'location': 'timeMax'}]\">\n",
      "Error creating event for row 1131: <HttpError 400 when requesting https://www.googleapis.com/calendar/v3/calendars/primary/events?alt=json returned \"The specified time range is empty.\". Details: \"[{'domain': 'calendar', 'reason': 'timeRangeEmpty', 'message': 'The specified time range is empty.', 'locationType': 'parameter', 'location': 'timeMax'}]\">\n",
      "Error creating event for row 1132: <HttpError 400 when requesting https://www.googleapis.com/calendar/v3/calendars/primary/events?alt=json returned \"The specified time range is empty.\". Details: \"[{'domain': 'calendar', 'reason': 'timeRangeEmpty', 'message': 'The specified time range is empty.', 'locationType': 'parameter', 'location': 'timeMax'}]\">\n",
      "Error creating event for row 1133: <HttpError 400 when requesting https://www.googleapis.com/calendar/v3/calendars/primary/events?alt=json returned \"The specified time range is empty.\". Details: \"[{'domain': 'calendar', 'reason': 'timeRangeEmpty', 'message': 'The specified time range is empty.', 'locationType': 'parameter', 'location': 'timeMax'}]\">\n",
      "Error creating event for row 1134: <HttpError 400 when requesting https://www.googleapis.com/calendar/v3/calendars/primary/events?alt=json returned \"The specified time range is empty.\". Details: \"[{'domain': 'calendar', 'reason': 'timeRangeEmpty', 'message': 'The specified time range is empty.', 'locationType': 'parameter', 'location': 'timeMax'}]\">\n",
      "Event created: https://www.google.com/calendar/event?eid=MzNocmRqbHFrNnJoa3Q5aGRvbzd2b3Y2Z2MgdGVzdC0yMTVAbHVja3ktcmVhY3Rvci00NDMzMDgtcjQuaWFtLmdzZXJ2aWNlYWNjb3VudC5jb20\n"
     ]
    },
    {
     "name": "stderr",
     "output_type": "stream",
     "text": [
      "C:\\Users\\heans\\AppData\\Local\\Temp\\ipykernel_22024\\3996378728.py:43: FutureWarning: Parsed string \"2024-12-15 00:00:00T20:15\" included an un-recognized timezone \"T\". Dropping unrecognized timezones is deprecated; in a future version this will raise. Instead pass the string without the timezone, then use .tz_localize to convert to a recognized timezone.\n",
      "  start_time_obj = pd.to_datetime(start_datetime_str)\n"
     ]
    },
    {
     "name": "stdout",
     "output_type": "stream",
     "text": [
      "Error creating event for row 1136: <HttpError 400 when requesting https://www.googleapis.com/calendar/v3/calendars/primary/events?alt=json returned \"The specified time range is empty.\". Details: \"[{'domain': 'calendar', 'reason': 'timeRangeEmpty', 'message': 'The specified time range is empty.', 'locationType': 'parameter', 'location': 'timeMax'}]\">\n",
      "Error creating event for row 1137: <HttpError 400 when requesting https://www.googleapis.com/calendar/v3/calendars/primary/events?alt=json returned \"The specified time range is empty.\". Details: \"[{'domain': 'calendar', 'reason': 'timeRangeEmpty', 'message': 'The specified time range is empty.', 'locationType': 'parameter', 'location': 'timeMax'}]\">\n"
     ]
    },
    {
     "name": "stderr",
     "output_type": "stream",
     "text": [
      "C:\\Users\\heans\\AppData\\Local\\Temp\\ipykernel_22024\\3996378728.py:43: FutureWarning: Parsed string \"2024-12-15 00:00:00T21:30\" included an un-recognized timezone \"T\". Dropping unrecognized timezones is deprecated; in a future version this will raise. Instead pass the string without the timezone, then use .tz_localize to convert to a recognized timezone.\n",
      "  start_time_obj = pd.to_datetime(start_datetime_str)\n",
      "C:\\Users\\heans\\AppData\\Local\\Temp\\ipykernel_22024\\3996378728.py:43: FutureWarning: Parsed string \"2024-12-15 00:00:00T22:00\" included an un-recognized timezone \"T\". Dropping unrecognized timezones is deprecated; in a future version this will raise. Instead pass the string without the timezone, then use .tz_localize to convert to a recognized timezone.\n",
      "  start_time_obj = pd.to_datetime(start_datetime_str)\n"
     ]
    },
    {
     "name": "stdout",
     "output_type": "stream",
     "text": [
      "Error creating event for row 1138: <HttpError 400 when requesting https://www.googleapis.com/calendar/v3/calendars/primary/events?alt=json returned \"The specified time range is empty.\". Details: \"[{'domain': 'calendar', 'reason': 'timeRangeEmpty', 'message': 'The specified time range is empty.', 'locationType': 'parameter', 'location': 'timeMax'}]\">\n",
      "Error creating event for row 1139: Unknown datetime string format, unable to parse: 2024-12-15 00:00:00Tganztägig, at position 0\n"
     ]
    },
    {
     "name": "stderr",
     "output_type": "stream",
     "text": [
      "C:\\Users\\heans\\AppData\\Local\\Temp\\ipykernel_22024\\3996378728.py:43: FutureWarning: Parsed string \"2024-12-16 00:00:00T \" included an un-recognized timezone \"T\". Dropping unrecognized timezones is deprecated; in a future version this will raise. Instead pass the string without the timezone, then use .tz_localize to convert to a recognized timezone.\n",
      "  start_time_obj = pd.to_datetime(start_datetime_str)\n"
     ]
    },
    {
     "name": "stdout",
     "output_type": "stream",
     "text": [
      "Event created: https://www.google.com/calendar/event?eid=YmxrcXVoc3VmNXBwZjk1bjM1OXRva3RhdTggdGVzdC0yMTVAbHVja3ktcmVhY3Rvci00NDMzMDgtcjQuaWFtLmdzZXJ2aWNlYWNjb3VudC5jb20\n",
      "Error creating event for row 1141: <HttpError 400 when requesting https://www.googleapis.com/calendar/v3/calendars/primary/events?alt=json returned \"The specified time range is empty.\". Details: \"[{'domain': 'calendar', 'reason': 'timeRangeEmpty', 'message': 'The specified time range is empty.', 'locationType': 'parameter', 'location': 'timeMax'}]\">\n"
     ]
    },
    {
     "name": "stderr",
     "output_type": "stream",
     "text": [
      "C:\\Users\\heans\\AppData\\Local\\Temp\\ipykernel_22024\\3996378728.py:43: FutureWarning: Parsed string \"2024-12-16 00:00:00T00:01\" included an un-recognized timezone \"T\". Dropping unrecognized timezones is deprecated; in a future version this will raise. Instead pass the string without the timezone, then use .tz_localize to convert to a recognized timezone.\n",
      "  start_time_obj = pd.to_datetime(start_datetime_str)\n",
      "C:\\Users\\heans\\AppData\\Local\\Temp\\ipykernel_22024\\3996378728.py:43: FutureWarning: Parsed string \"2024-12-16 00:00:00T08:00\" included an un-recognized timezone \"T\". Dropping unrecognized timezones is deprecated; in a future version this will raise. Instead pass the string without the timezone, then use .tz_localize to convert to a recognized timezone.\n",
      "  start_time_obj = pd.to_datetime(start_datetime_str)\n"
     ]
    },
    {
     "name": "stdout",
     "output_type": "stream",
     "text": [
      "Event created: https://www.google.com/calendar/event?eid=MTA2N2lwYW9mamw4djN0NXBjcW9wNTk4OXMgdGVzdC0yMTVAbHVja3ktcmVhY3Rvci00NDMzMDgtcjQuaWFtLmdzZXJ2aWNlYWNjb3VudC5jb20\n",
      "Event created: https://www.google.com/calendar/event?eid=b2dqb2o4Z2djY2RtcnRlMXRhdGhjYzN1MmsgdGVzdC0yMTVAbHVja3ktcmVhY3Rvci00NDMzMDgtcjQuaWFtLmdzZXJ2aWNlYWNjb3VudC5jb20\n",
      "Error creating event for row 1144: <HttpError 400 when requesting https://www.googleapis.com/calendar/v3/calendars/primary/events?alt=json returned \"The specified time range is empty.\". Details: \"[{'domain': 'calendar', 'reason': 'timeRangeEmpty', 'message': 'The specified time range is empty.', 'locationType': 'parameter', 'location': 'timeMax'}]\">\n"
     ]
    },
    {
     "name": "stderr",
     "output_type": "stream",
     "text": [
      "C:\\Users\\heans\\AppData\\Local\\Temp\\ipykernel_22024\\3996378728.py:43: FutureWarning: Parsed string \"2024-12-16 00:00:00T09:00\" included an un-recognized timezone \"T\". Dropping unrecognized timezones is deprecated; in a future version this will raise. Instead pass the string without the timezone, then use .tz_localize to convert to a recognized timezone.\n",
      "  start_time_obj = pd.to_datetime(start_datetime_str)\n"
     ]
    },
    {
     "name": "stdout",
     "output_type": "stream",
     "text": [
      "Event created: https://www.google.com/calendar/event?eid=MTdndHYyOW5sc2g2OGE5ams4NThwYzN2aGsgdGVzdC0yMTVAbHVja3ktcmVhY3Rvci00NDMzMDgtcjQuaWFtLmdzZXJ2aWNlYWNjb3VudC5jb20\n",
      "Error creating event for row 1146: <HttpError 400 when requesting https://www.googleapis.com/calendar/v3/calendars/primary/events?alt=json returned \"The specified time range is empty.\". Details: \"[{'domain': 'calendar', 'reason': 'timeRangeEmpty', 'message': 'The specified time range is empty.', 'locationType': 'parameter', 'location': 'timeMax'}]\">\n"
     ]
    },
    {
     "name": "stderr",
     "output_type": "stream",
     "text": [
      "C:\\Users\\heans\\AppData\\Local\\Temp\\ipykernel_22024\\3996378728.py:43: FutureWarning: Parsed string \"2024-12-16 00:00:00T10:00\" included an un-recognized timezone \"T\". Dropping unrecognized timezones is deprecated; in a future version this will raise. Instead pass the string without the timezone, then use .tz_localize to convert to a recognized timezone.\n",
      "  start_time_obj = pd.to_datetime(start_datetime_str)\n"
     ]
    },
    {
     "name": "stdout",
     "output_type": "stream",
     "text": [
      "Event created: https://www.google.com/calendar/event?eid=MjljMXFxOWdkZWxvNmVrZ3VtbnE0ZGZpZm8gdGVzdC0yMTVAbHVja3ktcmVhY3Rvci00NDMzMDgtcjQuaWFtLmdzZXJ2aWNlYWNjb3VudC5jb20\n",
      "Event created: https://www.google.com/calendar/event?eid=YmI3bXBzMGM0Nmkwa2czOThzMGVmaHFwbW8gdGVzdC0yMTVAbHVja3ktcmVhY3Rvci00NDMzMDgtcjQuaWFtLmdzZXJ2aWNlYWNjb3VudC5jb20\n",
      "Event created: https://www.google.com/calendar/event?eid=bnI4cWJoMHAwczh1MGFzcjZqdDJwbGJ2ZWcgdGVzdC0yMTVAbHVja3ktcmVhY3Rvci00NDMzMDgtcjQuaWFtLmdzZXJ2aWNlYWNjb3VudC5jb20\n",
      "Event created: https://www.google.com/calendar/event?eid=NzBhYXIxYm1yNTlzNjVmcW9jb2p0ZTA2N3MgdGVzdC0yMTVAbHVja3ktcmVhY3Rvci00NDMzMDgtcjQuaWFtLmdzZXJ2aWNlYWNjb3VudC5jb20\n",
      "Event created: https://www.google.com/calendar/event?eid=YWtndGwzZzliMjV1bzR0NWF2cWFpOWFnb3MgdGVzdC0yMTVAbHVja3ktcmVhY3Rvci00NDMzMDgtcjQuaWFtLmdzZXJ2aWNlYWNjb3VudC5jb20\n",
      "Event created: https://www.google.com/calendar/event?eid=dGlob3ZzMDUzcHEydGI0ZjNvcGZsOHJuazQgdGVzdC0yMTVAbHVja3ktcmVhY3Rvci00NDMzMDgtcjQuaWFtLmdzZXJ2aWNlYWNjb3VudC5jb20\n",
      "Event created: https://www.google.com/calendar/event?eid=OWE4ZDJodDh0OXNpOHZ0Y3Q5cDlpbHMzMGMgdGVzdC0yMTVAbHVja3ktcmVhY3Rvci00NDMzMDgtcjQuaWFtLmdzZXJ2aWNlYWNjb3VudC5jb20\n",
      "Event created: https://www.google.com/calendar/event?eid=amM2cW9xczQxbWR0azZidTc1YmJoMzRpNDAgdGVzdC0yMTVAbHVja3ktcmVhY3Rvci00NDMzMDgtcjQuaWFtLmdzZXJ2aWNlYWNjb3VudC5jb20\n",
      "Error creating event for row 1155: <HttpError 400 when requesting https://www.googleapis.com/calendar/v3/calendars/primary/events?alt=json returned \"The specified time range is empty.\". Details: \"[{'domain': 'calendar', 'reason': 'timeRangeEmpty', 'message': 'The specified time range is empty.', 'locationType': 'parameter', 'location': 'timeMax'}]\">\n",
      "Error creating event for row 1156: <HttpError 400 when requesting https://www.googleapis.com/calendar/v3/calendars/primary/events?alt=json returned \"The specified time range is empty.\". Details: \"[{'domain': 'calendar', 'reason': 'timeRangeEmpty', 'message': 'The specified time range is empty.', 'locationType': 'parameter', 'location': 'timeMax'}]\">\n",
      "Error creating event for row 1157: <HttpError 400 when requesting https://www.googleapis.com/calendar/v3/calendars/primary/events?alt=json returned \"The specified time range is empty.\". Details: \"[{'domain': 'calendar', 'reason': 'timeRangeEmpty', 'message': 'The specified time range is empty.', 'locationType': 'parameter', 'location': 'timeMax'}]\">\n"
     ]
    },
    {
     "name": "stderr",
     "output_type": "stream",
     "text": [
      "C:\\Users\\heans\\AppData\\Local\\Temp\\ipykernel_22024\\3996378728.py:43: FutureWarning: Parsed string \"2024-12-16 00:00:00T10:30\" included an un-recognized timezone \"T\". Dropping unrecognized timezones is deprecated; in a future version this will raise. Instead pass the string without the timezone, then use .tz_localize to convert to a recognized timezone.\n",
      "  start_time_obj = pd.to_datetime(start_datetime_str)\n"
     ]
    },
    {
     "name": "stdout",
     "output_type": "stream",
     "text": [
      "Error creating event for row 1158: <HttpError 400 when requesting https://www.googleapis.com/calendar/v3/calendars/primary/events?alt=json returned \"The specified time range is empty.\". Details: \"[{'domain': 'calendar', 'reason': 'timeRangeEmpty', 'message': 'The specified time range is empty.', 'locationType': 'parameter', 'location': 'timeMax'}]\">\n"
     ]
    },
    {
     "name": "stderr",
     "output_type": "stream",
     "text": [
      "C:\\Users\\heans\\AppData\\Local\\Temp\\ipykernel_22024\\3996378728.py:43: FutureWarning: Parsed string \"2024-12-16 00:00:00T11:00\" included an un-recognized timezone \"T\". Dropping unrecognized timezones is deprecated; in a future version this will raise. Instead pass the string without the timezone, then use .tz_localize to convert to a recognized timezone.\n",
      "  start_time_obj = pd.to_datetime(start_datetime_str)\n"
     ]
    },
    {
     "name": "stdout",
     "output_type": "stream",
     "text": [
      "Error creating event for row 1159: <HttpError 400 when requesting https://www.googleapis.com/calendar/v3/calendars/primary/events?alt=json returned \"The specified time range is empty.\". Details: \"[{'domain': 'calendar', 'reason': 'timeRangeEmpty', 'message': 'The specified time range is empty.', 'locationType': 'parameter', 'location': 'timeMax'}]\">\n",
      "Event created: https://www.google.com/calendar/event?eid=ZmpyaGhxaW5lYmg4MXRsb3BqYnFhMjZxazAgdGVzdC0yMTVAbHVja3ktcmVhY3Rvci00NDMzMDgtcjQuaWFtLmdzZXJ2aWNlYWNjb3VudC5jb20\n",
      "Error creating event for row 1161: <HttpError 400 when requesting https://www.googleapis.com/calendar/v3/calendars/primary/events?alt=json returned \"The specified time range is empty.\". Details: \"[{'domain': 'calendar', 'reason': 'timeRangeEmpty', 'message': 'The specified time range is empty.', 'locationType': 'parameter', 'location': 'timeMax'}]\">\n",
      "Error creating event for row 1162: <HttpError 400 when requesting https://www.googleapis.com/calendar/v3/calendars/primary/events?alt=json returned \"The specified time range is empty.\". Details: \"[{'domain': 'calendar', 'reason': 'timeRangeEmpty', 'message': 'The specified time range is empty.', 'locationType': 'parameter', 'location': 'timeMax'}]\">\n",
      "Event created: https://www.google.com/calendar/event?eid=bjEzdnN0azhmMXU1cjIzNDlxcGhtNzJ1MGcgdGVzdC0yMTVAbHVja3ktcmVhY3Rvci00NDMzMDgtcjQuaWFtLmdzZXJ2aWNlYWNjb3VudC5jb20\n",
      "Event created: https://www.google.com/calendar/event?eid=ZGF1OGxzaWZtMWVzbGZtcWJrZmtmaXUzMDAgdGVzdC0yMTVAbHVja3ktcmVhY3Rvci00NDMzMDgtcjQuaWFtLmdzZXJ2aWNlYWNjb3VudC5jb20\n",
      "Event created: https://www.google.com/calendar/event?eid=cDFtcmZ1djJ1ZWsxOWhsN2w0NXJtczg0bDAgdGVzdC0yMTVAbHVja3ktcmVhY3Rvci00NDMzMDgtcjQuaWFtLmdzZXJ2aWNlYWNjb3VudC5jb20\n",
      "Event created: https://www.google.com/calendar/event?eid=YzE2a3FqNmRzcmczNWFqcTRpNjlnMmYzbW8gdGVzdC0yMTVAbHVja3ktcmVhY3Rvci00NDMzMDgtcjQuaWFtLmdzZXJ2aWNlYWNjb3VudC5jb20\n",
      "Event created: https://www.google.com/calendar/event?eid=OGk2NjhtZzltbWxibWEwNnBmNmNnOGwwYzAgdGVzdC0yMTVAbHVja3ktcmVhY3Rvci00NDMzMDgtcjQuaWFtLmdzZXJ2aWNlYWNjb3VudC5jb20\n",
      "Error creating event for row 1168: <HttpError 400 when requesting https://www.googleapis.com/calendar/v3/calendars/primary/events?alt=json returned \"The specified time range is empty.\". Details: \"[{'domain': 'calendar', 'reason': 'timeRangeEmpty', 'message': 'The specified time range is empty.', 'locationType': 'parameter', 'location': 'timeMax'}]\">\n",
      "Error creating event for row 1169: <HttpError 400 when requesting https://www.googleapis.com/calendar/v3/calendars/primary/events?alt=json returned \"The specified time range is empty.\". Details: \"[{'domain': 'calendar', 'reason': 'timeRangeEmpty', 'message': 'The specified time range is empty.', 'locationType': 'parameter', 'location': 'timeMax'}]\">\n",
      "Event created: https://www.google.com/calendar/event?eid=cDZwZXBxbWdzMTYyYnRwcWJ2M25wdWhydDQgdGVzdC0yMTVAbHVja3ktcmVhY3Rvci00NDMzMDgtcjQuaWFtLmdzZXJ2aWNlYWNjb3VudC5jb20\n"
     ]
    },
    {
     "name": "stderr",
     "output_type": "stream",
     "text": [
      "C:\\Users\\heans\\AppData\\Local\\Temp\\ipykernel_22024\\3996378728.py:43: FutureWarning: Parsed string \"2024-12-16 00:00:00T12:00\" included an un-recognized timezone \"T\". Dropping unrecognized timezones is deprecated; in a future version this will raise. Instead pass the string without the timezone, then use .tz_localize to convert to a recognized timezone.\n",
      "  start_time_obj = pd.to_datetime(start_datetime_str)\n"
     ]
    },
    {
     "name": "stdout",
     "output_type": "stream",
     "text": [
      "Event created: https://www.google.com/calendar/event?eid=YWduNjRrZnR1YnBwZ3FzOGxtZDIxbWNwb2sgdGVzdC0yMTVAbHVja3ktcmVhY3Rvci00NDMzMDgtcjQuaWFtLmdzZXJ2aWNlYWNjb3VudC5jb20\n",
      "Error creating event for row 1172: <HttpError 400 when requesting https://www.googleapis.com/calendar/v3/calendars/primary/events?alt=json returned \"The specified time range is empty.\". Details: \"[{'domain': 'calendar', 'reason': 'timeRangeEmpty', 'message': 'The specified time range is empty.', 'locationType': 'parameter', 'location': 'timeMax'}]\">\n",
      "Event created: https://www.google.com/calendar/event?eid=a2Nob2N0bmFjbGZjZ2dpaDAyaHIxYjA2bWMgdGVzdC0yMTVAbHVja3ktcmVhY3Rvci00NDMzMDgtcjQuaWFtLmdzZXJ2aWNlYWNjb3VudC5jb20\n"
     ]
    },
    {
     "name": "stderr",
     "output_type": "stream",
     "text": [
      "C:\\Users\\heans\\AppData\\Local\\Temp\\ipykernel_22024\\3996378728.py:43: FutureWarning: Parsed string \"2024-12-16 00:00:00T13:00\" included an un-recognized timezone \"T\". Dropping unrecognized timezones is deprecated; in a future version this will raise. Instead pass the string without the timezone, then use .tz_localize to convert to a recognized timezone.\n",
      "  start_time_obj = pd.to_datetime(start_datetime_str)\n"
     ]
    },
    {
     "name": "stdout",
     "output_type": "stream",
     "text": [
      "Event created: https://www.google.com/calendar/event?eid=NzdlaGkyZ2NwbnQzdnZvb21jMWZ1YjkwaWcgdGVzdC0yMTVAbHVja3ktcmVhY3Rvci00NDMzMDgtcjQuaWFtLmdzZXJ2aWNlYWNjb3VudC5jb20\n",
      "Event created: https://www.google.com/calendar/event?eid=aDlxYmJqMjZjbjVsMDJnYW1kMTU0ZmpjMzggdGVzdC0yMTVAbHVja3ktcmVhY3Rvci00NDMzMDgtcjQuaWFtLmdzZXJ2aWNlYWNjb3VudC5jb20\n",
      "Event created: https://www.google.com/calendar/event?eid=ajQ2NWU2ZGRwbW8zbmZiYnFoMzlkam5va28gdGVzdC0yMTVAbHVja3ktcmVhY3Rvci00NDMzMDgtcjQuaWFtLmdzZXJ2aWNlYWNjb3VudC5jb20\n",
      "Event created: https://www.google.com/calendar/event?eid=cWRpcWtrMnJtMmc5NnVhZGIzMWU3aGRsOTAgdGVzdC0yMTVAbHVja3ktcmVhY3Rvci00NDMzMDgtcjQuaWFtLmdzZXJ2aWNlYWNjb3VudC5jb20\n",
      "Error creating event for row 1178: <HttpError 400 when requesting https://www.googleapis.com/calendar/v3/calendars/primary/events?alt=json returned \"The specified time range is empty.\". Details: \"[{'domain': 'calendar', 'reason': 'timeRangeEmpty', 'message': 'The specified time range is empty.', 'locationType': 'parameter', 'location': 'timeMax'}]\">\n"
     ]
    },
    {
     "name": "stderr",
     "output_type": "stream",
     "text": [
      "C:\\Users\\heans\\AppData\\Local\\Temp\\ipykernel_22024\\3996378728.py:43: FutureWarning: Parsed string \"2024-12-16 00:00:00T13:30\" included an un-recognized timezone \"T\". Dropping unrecognized timezones is deprecated; in a future version this will raise. Instead pass the string without the timezone, then use .tz_localize to convert to a recognized timezone.\n",
      "  start_time_obj = pd.to_datetime(start_datetime_str)\n",
      "C:\\Users\\heans\\AppData\\Local\\Temp\\ipykernel_22024\\3996378728.py:43: FutureWarning: Parsed string \"2024-12-16 00:00:00T14:00\" included an un-recognized timezone \"T\". Dropping unrecognized timezones is deprecated; in a future version this will raise. Instead pass the string without the timezone, then use .tz_localize to convert to a recognized timezone.\n",
      "  start_time_obj = pd.to_datetime(start_datetime_str)\n"
     ]
    },
    {
     "name": "stdout",
     "output_type": "stream",
     "text": [
      "Error creating event for row 1179: <HttpError 400 when requesting https://www.googleapis.com/calendar/v3/calendars/primary/events?alt=json returned \"The specified time range is empty.\". Details: \"[{'domain': 'calendar', 'reason': 'timeRangeEmpty', 'message': 'The specified time range is empty.', 'locationType': 'parameter', 'location': 'timeMax'}]\">\n",
      "Error creating event for row 1180: <HttpError 400 when requesting https://www.googleapis.com/calendar/v3/calendars/primary/events?alt=json returned \"The specified time range is empty.\". Details: \"[{'domain': 'calendar', 'reason': 'timeRangeEmpty', 'message': 'The specified time range is empty.', 'locationType': 'parameter', 'location': 'timeMax'}]\">\n"
     ]
    },
    {
     "name": "stderr",
     "output_type": "stream",
     "text": [
      "C:\\Users\\heans\\AppData\\Local\\Temp\\ipykernel_22024\\3996378728.py:43: FutureWarning: Parsed string \"2024-12-16 00:00:00T14:30\" included an un-recognized timezone \"T\". Dropping unrecognized timezones is deprecated; in a future version this will raise. Instead pass the string without the timezone, then use .tz_localize to convert to a recognized timezone.\n",
      "  start_time_obj = pd.to_datetime(start_datetime_str)\n",
      "C:\\Users\\heans\\AppData\\Local\\Temp\\ipykernel_22024\\3996378728.py:43: FutureWarning: Parsed string \"2024-12-16 00:00:00T15:00\" included an un-recognized timezone \"T\". Dropping unrecognized timezones is deprecated; in a future version this will raise. Instead pass the string without the timezone, then use .tz_localize to convert to a recognized timezone.\n",
      "  start_time_obj = pd.to_datetime(start_datetime_str)\n"
     ]
    },
    {
     "name": "stdout",
     "output_type": "stream",
     "text": [
      "Event created: https://www.google.com/calendar/event?eid=MW1qMTZ2Y2d0YWE5NW5ubzM2cjdsbG5lZDAgdGVzdC0yMTVAbHVja3ktcmVhY3Rvci00NDMzMDgtcjQuaWFtLmdzZXJ2aWNlYWNjb3VudC5jb20\n",
      "Event created: https://www.google.com/calendar/event?eid=N2RyamJnb3FhazAwZDdrNDljcHNyZHNwcDggdGVzdC0yMTVAbHVja3ktcmVhY3Rvci00NDMzMDgtcjQuaWFtLmdzZXJ2aWNlYWNjb3VudC5jb20\n",
      "Event created: https://www.google.com/calendar/event?eid=ZTJrcTAyczBzYzJrcHY3dWoyOG9yMjg1cDggdGVzdC0yMTVAbHVja3ktcmVhY3Rvci00NDMzMDgtcjQuaWFtLmdzZXJ2aWNlYWNjb3VudC5jb20\n",
      "Error creating event for row 1184: <HttpError 400 when requesting https://www.googleapis.com/calendar/v3/calendars/primary/events?alt=json returned \"The specified time range is empty.\". Details: \"[{'domain': 'calendar', 'reason': 'timeRangeEmpty', 'message': 'The specified time range is empty.', 'locationType': 'parameter', 'location': 'timeMax'}]\">\n",
      "Error creating event for row 1185: <HttpError 400 when requesting https://www.googleapis.com/calendar/v3/calendars/primary/events?alt=json returned \"The specified time range is empty.\". Details: \"[{'domain': 'calendar', 'reason': 'timeRangeEmpty', 'message': 'The specified time range is empty.', 'locationType': 'parameter', 'location': 'timeMax'}]\">\n"
     ]
    },
    {
     "name": "stderr",
     "output_type": "stream",
     "text": [
      "C:\\Users\\heans\\AppData\\Local\\Temp\\ipykernel_22024\\3996378728.py:43: FutureWarning: Parsed string \"2024-12-16 00:00:00T15:30\" included an un-recognized timezone \"T\". Dropping unrecognized timezones is deprecated; in a future version this will raise. Instead pass the string without the timezone, then use .tz_localize to convert to a recognized timezone.\n",
      "  start_time_obj = pd.to_datetime(start_datetime_str)\n"
     ]
    },
    {
     "name": "stdout",
     "output_type": "stream",
     "text": [
      "Event created: https://www.google.com/calendar/event?eid=djBybGY4M3JqZmZsY24xMXE4MmpmZmZuNHMgdGVzdC0yMTVAbHVja3ktcmVhY3Rvci00NDMzMDgtcjQuaWFtLmdzZXJ2aWNlYWNjb3VudC5jb20\n",
      "Error creating event for row 1187: <HttpError 400 when requesting https://www.googleapis.com/calendar/v3/calendars/primary/events?alt=json returned \"The specified time range is empty.\". Details: \"[{'domain': 'calendar', 'reason': 'timeRangeEmpty', 'message': 'The specified time range is empty.', 'locationType': 'parameter', 'location': 'timeMax'}]\">\n"
     ]
    },
    {
     "name": "stderr",
     "output_type": "stream",
     "text": [
      "C:\\Users\\heans\\AppData\\Local\\Temp\\ipykernel_22024\\3996378728.py:43: FutureWarning: Parsed string \"2024-12-16 00:00:00T16:00\" included an un-recognized timezone \"T\". Dropping unrecognized timezones is deprecated; in a future version this will raise. Instead pass the string without the timezone, then use .tz_localize to convert to a recognized timezone.\n",
      "  start_time_obj = pd.to_datetime(start_datetime_str)\n"
     ]
    },
    {
     "name": "stdout",
     "output_type": "stream",
     "text": [
      "Event created: https://www.google.com/calendar/event?eid=OTRtY29iN210cWQ0aGJkNDU4M2tzMTZ2ZW8gdGVzdC0yMTVAbHVja3ktcmVhY3Rvci00NDMzMDgtcjQuaWFtLmdzZXJ2aWNlYWNjb3VudC5jb20\n",
      "Error creating event for row 1189: <HttpError 400 when requesting https://www.googleapis.com/calendar/v3/calendars/primary/events?alt=json returned \"The specified time range is empty.\". Details: \"[{'domain': 'calendar', 'reason': 'timeRangeEmpty', 'message': 'The specified time range is empty.', 'locationType': 'parameter', 'location': 'timeMax'}]\">\n",
      "Error creating event for row 1190: <HttpError 400 when requesting https://www.googleapis.com/calendar/v3/calendars/primary/events?alt=json returned \"The specified time range is empty.\". Details: \"[{'domain': 'calendar', 'reason': 'timeRangeEmpty', 'message': 'The specified time range is empty.', 'locationType': 'parameter', 'location': 'timeMax'}]\">\n",
      "Event created: https://www.google.com/calendar/event?eid=dm5vOGM2NnIyOHUwYW50ZmIwY3JwdHZtbG8gdGVzdC0yMTVAbHVja3ktcmVhY3Rvci00NDMzMDgtcjQuaWFtLmdzZXJ2aWNlYWNjb3VudC5jb20\n"
     ]
    },
    {
     "name": "stderr",
     "output_type": "stream",
     "text": [
      "C:\\Users\\heans\\AppData\\Local\\Temp\\ipykernel_22024\\3996378728.py:43: FutureWarning: Parsed string \"2024-12-16 00:00:00T16:30\" included an un-recognized timezone \"T\". Dropping unrecognized timezones is deprecated; in a future version this will raise. Instead pass the string without the timezone, then use .tz_localize to convert to a recognized timezone.\n",
      "  start_time_obj = pd.to_datetime(start_datetime_str)\n"
     ]
    },
    {
     "name": "stdout",
     "output_type": "stream",
     "text": [
      "Event created: https://www.google.com/calendar/event?eid=ZmlvZXNiMnZmYmI3N2RwMTU1c2dpNHJib2sgdGVzdC0yMTVAbHVja3ktcmVhY3Rvci00NDMzMDgtcjQuaWFtLmdzZXJ2aWNlYWNjb3VudC5jb20\n",
      "Error creating event for row 1193: <HttpError 400 when requesting https://www.googleapis.com/calendar/v3/calendars/primary/events?alt=json returned \"The specified time range is empty.\". Details: \"[{'domain': 'calendar', 'reason': 'timeRangeEmpty', 'message': 'The specified time range is empty.', 'locationType': 'parameter', 'location': 'timeMax'}]\">\n",
      "Event created: https://www.google.com/calendar/event?eid=NXA5Yjhva200c3R2ZHZudml2ZTVqbnZqN2cgdGVzdC0yMTVAbHVja3ktcmVhY3Rvci00NDMzMDgtcjQuaWFtLmdzZXJ2aWNlYWNjb3VudC5jb20\n"
     ]
    },
    {
     "name": "stderr",
     "output_type": "stream",
     "text": [
      "C:\\Users\\heans\\AppData\\Local\\Temp\\ipykernel_22024\\3996378728.py:43: FutureWarning: Parsed string \"2024-12-16 00:00:00T17:00\" included an un-recognized timezone \"T\". Dropping unrecognized timezones is deprecated; in a future version this will raise. Instead pass the string without the timezone, then use .tz_localize to convert to a recognized timezone.\n",
      "  start_time_obj = pd.to_datetime(start_datetime_str)\n"
     ]
    },
    {
     "name": "stdout",
     "output_type": "stream",
     "text": [
      "Event created: https://www.google.com/calendar/event?eid=bDI4ZWRxamtzZ3E5bHZyaWl2ZGhpbjBkcHMgdGVzdC0yMTVAbHVja3ktcmVhY3Rvci00NDMzMDgtcjQuaWFtLmdzZXJ2aWNlYWNjb3VudC5jb20\n",
      "Error creating event for row 1196: <HttpError 400 when requesting https://www.googleapis.com/calendar/v3/calendars/primary/events?alt=json returned \"The specified time range is empty.\". Details: \"[{'domain': 'calendar', 'reason': 'timeRangeEmpty', 'message': 'The specified time range is empty.', 'locationType': 'parameter', 'location': 'timeMax'}]\">\n",
      "Error creating event for row 1197: <HttpError 400 when requesting https://www.googleapis.com/calendar/v3/calendars/primary/events?alt=json returned \"The specified time range is empty.\". Details: \"[{'domain': 'calendar', 'reason': 'timeRangeEmpty', 'message': 'The specified time range is empty.', 'locationType': 'parameter', 'location': 'timeMax'}]\">\n",
      "Event created: https://www.google.com/calendar/event?eid=NjNpa2RkOTM0aGkxZDhldjNqNm5lZ2locWcgdGVzdC0yMTVAbHVja3ktcmVhY3Rvci00NDMzMDgtcjQuaWFtLmdzZXJ2aWNlYWNjb3VudC5jb20\n",
      "Error creating event for row 1199: <HttpError 400 when requesting https://www.googleapis.com/calendar/v3/calendars/primary/events?alt=json returned \"The specified time range is empty.\". Details: \"[{'domain': 'calendar', 'reason': 'timeRangeEmpty', 'message': 'The specified time range is empty.', 'locationType': 'parameter', 'location': 'timeMax'}]\">\n",
      "Error creating event for row 1200: <HttpError 400 when requesting https://www.googleapis.com/calendar/v3/calendars/primary/events?alt=json returned \"The specified time range is empty.\". Details: \"[{'domain': 'calendar', 'reason': 'timeRangeEmpty', 'message': 'The specified time range is empty.', 'locationType': 'parameter', 'location': 'timeMax'}]\">\n",
      "Event created: https://www.google.com/calendar/event?eid=Zm5lMmU5Z2I5YmVtazlja2UzajQ0OWV0Y3MgdGVzdC0yMTVAbHVja3ktcmVhY3Rvci00NDMzMDgtcjQuaWFtLmdzZXJ2aWNlYWNjb3VudC5jb20\n"
     ]
    },
    {
     "name": "stderr",
     "output_type": "stream",
     "text": [
      "C:\\Users\\heans\\AppData\\Local\\Temp\\ipykernel_22024\\3996378728.py:43: FutureWarning: Parsed string \"2024-12-16 00:00:00T17:30\" included an un-recognized timezone \"T\". Dropping unrecognized timezones is deprecated; in a future version this will raise. Instead pass the string without the timezone, then use .tz_localize to convert to a recognized timezone.\n",
      "  start_time_obj = pd.to_datetime(start_datetime_str)\n"
     ]
    },
    {
     "name": "stdout",
     "output_type": "stream",
     "text": [
      "Event created: https://www.google.com/calendar/event?eid=aDFtOXVmNjcycGVtNHE1aWpjbWs2aWFnMTQgdGVzdC0yMTVAbHVja3ktcmVhY3Rvci00NDMzMDgtcjQuaWFtLmdzZXJ2aWNlYWNjb3VudC5jb20\n",
      "Event created: https://www.google.com/calendar/event?eid=Z2YwNmoxdW8yZ2s5ZTJldGZ2djBpN2xua3MgdGVzdC0yMTVAbHVja3ktcmVhY3Rvci00NDMzMDgtcjQuaWFtLmdzZXJ2aWNlYWNjb3VudC5jb20\n"
     ]
    },
    {
     "name": "stderr",
     "output_type": "stream",
     "text": [
      "C:\\Users\\heans\\AppData\\Local\\Temp\\ipykernel_22024\\3996378728.py:43: FutureWarning: Parsed string \"2024-12-16 00:00:00T18:00\" included an un-recognized timezone \"T\". Dropping unrecognized timezones is deprecated; in a future version this will raise. Instead pass the string without the timezone, then use .tz_localize to convert to a recognized timezone.\n",
      "  start_time_obj = pd.to_datetime(start_datetime_str)\n"
     ]
    },
    {
     "name": "stdout",
     "output_type": "stream",
     "text": [
      "Error creating event for row 1204: <HttpError 400 when requesting https://www.googleapis.com/calendar/v3/calendars/primary/events?alt=json returned \"The specified time range is empty.\". Details: \"[{'domain': 'calendar', 'reason': 'timeRangeEmpty', 'message': 'The specified time range is empty.', 'locationType': 'parameter', 'location': 'timeMax'}]\">\n",
      "Event created: https://www.google.com/calendar/event?eid=cXNhMmszY2ZtYzA0bHVjZDV0ZGRsYW9nbzQgdGVzdC0yMTVAbHVja3ktcmVhY3Rvci00NDMzMDgtcjQuaWFtLmdzZXJ2aWNlYWNjb3VudC5jb20\n",
      "Error creating event for row 1206: <HttpError 400 when requesting https://www.googleapis.com/calendar/v3/calendars/primary/events?alt=json returned \"The specified time range is empty.\". Details: \"[{'domain': 'calendar', 'reason': 'timeRangeEmpty', 'message': 'The specified time range is empty.', 'locationType': 'parameter', 'location': 'timeMax'}]\">\n",
      "Error creating event for row 1207: <HttpError 400 when requesting https://www.googleapis.com/calendar/v3/calendars/primary/events?alt=json returned \"The specified time range is empty.\". Details: \"[{'domain': 'calendar', 'reason': 'timeRangeEmpty', 'message': 'The specified time range is empty.', 'locationType': 'parameter', 'location': 'timeMax'}]\">\n",
      "Event created: https://www.google.com/calendar/event?eid=dTFsanFsYnA1NDM2ZHZ2ajh0N2h0bmwwZ3MgdGVzdC0yMTVAbHVja3ktcmVhY3Rvci00NDMzMDgtcjQuaWFtLmdzZXJ2aWNlYWNjb3VudC5jb20\n",
      "Error creating event for row 1209: <HttpError 400 when requesting https://www.googleapis.com/calendar/v3/calendars/primary/events?alt=json returned \"The specified time range is empty.\". Details: \"[{'domain': 'calendar', 'reason': 'timeRangeEmpty', 'message': 'The specified time range is empty.', 'locationType': 'parameter', 'location': 'timeMax'}]\">\n"
     ]
    },
    {
     "name": "stderr",
     "output_type": "stream",
     "text": [
      "C:\\Users\\heans\\AppData\\Local\\Temp\\ipykernel_22024\\3996378728.py:43: FutureWarning: Parsed string \"2024-12-16 00:00:00T19:00\" included an un-recognized timezone \"T\". Dropping unrecognized timezones is deprecated; in a future version this will raise. Instead pass the string without the timezone, then use .tz_localize to convert to a recognized timezone.\n",
      "  start_time_obj = pd.to_datetime(start_datetime_str)\n"
     ]
    },
    {
     "name": "stdout",
     "output_type": "stream",
     "text": [
      "Event created: https://www.google.com/calendar/event?eid=N2h1Z3V2dGEzdGg3OXM0cHJmZmwwaDk0NjQgdGVzdC0yMTVAbHVja3ktcmVhY3Rvci00NDMzMDgtcjQuaWFtLmdzZXJ2aWNlYWNjb3VudC5jb20\n",
      "Event created: https://www.google.com/calendar/event?eid=bWs1OWV1MWg5dDlldjlwdmhkdW81MHBvMHMgdGVzdC0yMTVAbHVja3ktcmVhY3Rvci00NDMzMDgtcjQuaWFtLmdzZXJ2aWNlYWNjb3VudC5jb20\n",
      "Event created: https://www.google.com/calendar/event?eid=cTA1ZzNuZDBlajRjZmxlN2VkdjNjdmJvOWcgdGVzdC0yMTVAbHVja3ktcmVhY3Rvci00NDMzMDgtcjQuaWFtLmdzZXJ2aWNlYWNjb3VudC5jb20\n",
      "Error creating event for row 1213: <HttpError 400 when requesting https://www.googleapis.com/calendar/v3/calendars/primary/events?alt=json returned \"The specified time range is empty.\". Details: \"[{'domain': 'calendar', 'reason': 'timeRangeEmpty', 'message': 'The specified time range is empty.', 'locationType': 'parameter', 'location': 'timeMax'}]\">\n"
     ]
    },
    {
     "name": "stderr",
     "output_type": "stream",
     "text": [
      "C:\\Users\\heans\\AppData\\Local\\Temp\\ipykernel_22024\\3996378728.py:43: FutureWarning: Parsed string \"2024-12-16 00:00:00T19:30\" included an un-recognized timezone \"T\". Dropping unrecognized timezones is deprecated; in a future version this will raise. Instead pass the string without the timezone, then use .tz_localize to convert to a recognized timezone.\n",
      "  start_time_obj = pd.to_datetime(start_datetime_str)\n"
     ]
    },
    {
     "name": "stdout",
     "output_type": "stream",
     "text": [
      "Error creating event for row 1214: <HttpError 400 when requesting https://www.googleapis.com/calendar/v3/calendars/primary/events?alt=json returned \"The specified time range is empty.\". Details: \"[{'domain': 'calendar', 'reason': 'timeRangeEmpty', 'message': 'The specified time range is empty.', 'locationType': 'parameter', 'location': 'timeMax'}]\">\n",
      "Event created: https://www.google.com/calendar/event?eid=ZzZzc29nYTdmaTdvcnRqYnJlZ2ZicXZwNTggdGVzdC0yMTVAbHVja3ktcmVhY3Rvci00NDMzMDgtcjQuaWFtLmdzZXJ2aWNlYWNjb3VudC5jb20\n",
      "Error creating event for row 1216: <HttpError 400 when requesting https://www.googleapis.com/calendar/v3/calendars/primary/events?alt=json returned \"The specified time range is empty.\". Details: \"[{'domain': 'calendar', 'reason': 'timeRangeEmpty', 'message': 'The specified time range is empty.', 'locationType': 'parameter', 'location': 'timeMax'}]\">\n",
      "Error creating event for row 1217: <HttpError 400 when requesting https://www.googleapis.com/calendar/v3/calendars/primary/events?alt=json returned \"The specified time range is empty.\". Details: \"[{'domain': 'calendar', 'reason': 'timeRangeEmpty', 'message': 'The specified time range is empty.', 'locationType': 'parameter', 'location': 'timeMax'}]\">\n",
      "Error creating event for row 1218: <HttpError 400 when requesting https://www.googleapis.com/calendar/v3/calendars/primary/events?alt=json returned \"The specified time range is empty.\". Details: \"[{'domain': 'calendar', 'reason': 'timeRangeEmpty', 'message': 'The specified time range is empty.', 'locationType': 'parameter', 'location': 'timeMax'}]\">\n",
      "Error creating event for row 1219: <HttpError 400 when requesting https://www.googleapis.com/calendar/v3/calendars/primary/events?alt=json returned \"The specified time range is empty.\". Details: \"[{'domain': 'calendar', 'reason': 'timeRangeEmpty', 'message': 'The specified time range is empty.', 'locationType': 'parameter', 'location': 'timeMax'}]\">\n",
      "Error creating event for row 1220: <HttpError 400 when requesting https://www.googleapis.com/calendar/v3/calendars/primary/events?alt=json returned \"The specified time range is empty.\". Details: \"[{'domain': 'calendar', 'reason': 'timeRangeEmpty', 'message': 'The specified time range is empty.', 'locationType': 'parameter', 'location': 'timeMax'}]\">\n",
      "Error creating event for row 1221: <HttpError 400 when requesting https://www.googleapis.com/calendar/v3/calendars/primary/events?alt=json returned \"The specified time range is empty.\". Details: \"[{'domain': 'calendar', 'reason': 'timeRangeEmpty', 'message': 'The specified time range is empty.', 'locationType': 'parameter', 'location': 'timeMax'}]\">\n",
      "Error creating event for row 1222: <HttpError 400 when requesting https://www.googleapis.com/calendar/v3/calendars/primary/events?alt=json returned \"The specified time range is empty.\". Details: \"[{'domain': 'calendar', 'reason': 'timeRangeEmpty', 'message': 'The specified time range is empty.', 'locationType': 'parameter', 'location': 'timeMax'}]\">\n",
      "Error creating event for row 1223: <HttpError 400 when requesting https://www.googleapis.com/calendar/v3/calendars/primary/events?alt=json returned \"The specified time range is empty.\". Details: \"[{'domain': 'calendar', 'reason': 'timeRangeEmpty', 'message': 'The specified time range is empty.', 'locationType': 'parameter', 'location': 'timeMax'}]\">\n"
     ]
    },
    {
     "name": "stderr",
     "output_type": "stream",
     "text": [
      "C:\\Users\\heans\\AppData\\Local\\Temp\\ipykernel_22024\\3996378728.py:43: FutureWarning: Parsed string \"2024-12-16 00:00:00T20:00\" included an un-recognized timezone \"T\". Dropping unrecognized timezones is deprecated; in a future version this will raise. Instead pass the string without the timezone, then use .tz_localize to convert to a recognized timezone.\n",
      "  start_time_obj = pd.to_datetime(start_datetime_str)\n"
     ]
    },
    {
     "name": "stdout",
     "output_type": "stream",
     "text": [
      "Event created: https://www.google.com/calendar/event?eid=dXEzN3V0N3E5YzRub3BsanQzMTFkMnRydWcgdGVzdC0yMTVAbHVja3ktcmVhY3Rvci00NDMzMDgtcjQuaWFtLmdzZXJ2aWNlYWNjb3VudC5jb20\n",
      "Error creating event for row 1225: <HttpError 400 when requesting https://www.googleapis.com/calendar/v3/calendars/primary/events?alt=json returned \"The specified time range is empty.\". Details: \"[{'domain': 'calendar', 'reason': 'timeRangeEmpty', 'message': 'The specified time range is empty.', 'locationType': 'parameter', 'location': 'timeMax'}]\">\n",
      "Error creating event for row 1226: <HttpError 400 when requesting https://www.googleapis.com/calendar/v3/calendars/primary/events?alt=json returned \"The specified time range is empty.\". Details: \"[{'domain': 'calendar', 'reason': 'timeRangeEmpty', 'message': 'The specified time range is empty.', 'locationType': 'parameter', 'location': 'timeMax'}]\">\n",
      "Error creating event for row 1227: <HttpError 400 when requesting https://www.googleapis.com/calendar/v3/calendars/primary/events?alt=json returned \"The specified time range is empty.\". Details: \"[{'domain': 'calendar', 'reason': 'timeRangeEmpty', 'message': 'The specified time range is empty.', 'locationType': 'parameter', 'location': 'timeMax'}]\">\n",
      "Error creating event for row 1228: <HttpError 400 when requesting https://www.googleapis.com/calendar/v3/calendars/primary/events?alt=json returned \"The specified time range is empty.\". Details: \"[{'domain': 'calendar', 'reason': 'timeRangeEmpty', 'message': 'The specified time range is empty.', 'locationType': 'parameter', 'location': 'timeMax'}]\">\n",
      "Event created: https://www.google.com/calendar/event?eid=bXFya2ZyMG41YTllajh0bWNjNWdnbnVtMHMgdGVzdC0yMTVAbHVja3ktcmVhY3Rvci00NDMzMDgtcjQuaWFtLmdzZXJ2aWNlYWNjb3VudC5jb20\n",
      "Error creating event for row 1230: <HttpError 400 when requesting https://www.googleapis.com/calendar/v3/calendars/primary/events?alt=json returned \"The specified time range is empty.\". Details: \"[{'domain': 'calendar', 'reason': 'timeRangeEmpty', 'message': 'The specified time range is empty.', 'locationType': 'parameter', 'location': 'timeMax'}]\">\n",
      "Error creating event for row 1231: <HttpError 400 when requesting https://www.googleapis.com/calendar/v3/calendars/primary/events?alt=json returned \"The specified time range is empty.\". Details: \"[{'domain': 'calendar', 'reason': 'timeRangeEmpty', 'message': 'The specified time range is empty.', 'locationType': 'parameter', 'location': 'timeMax'}]\">\n",
      "Error creating event for row 1232: <HttpError 400 when requesting https://www.googleapis.com/calendar/v3/calendars/primary/events?alt=json returned \"The specified time range is empty.\". Details: \"[{'domain': 'calendar', 'reason': 'timeRangeEmpty', 'message': 'The specified time range is empty.', 'locationType': 'parameter', 'location': 'timeMax'}]\">\n",
      "Error creating event for row 1233: <HttpError 400 when requesting https://www.googleapis.com/calendar/v3/calendars/primary/events?alt=json returned \"The specified time range is empty.\". Details: \"[{'domain': 'calendar', 'reason': 'timeRangeEmpty', 'message': 'The specified time range is empty.', 'locationType': 'parameter', 'location': 'timeMax'}]\">\n",
      "Error creating event for row 1234: <HttpError 400 when requesting https://www.googleapis.com/calendar/v3/calendars/primary/events?alt=json returned \"The specified time range is empty.\". Details: \"[{'domain': 'calendar', 'reason': 'timeRangeEmpty', 'message': 'The specified time range is empty.', 'locationType': 'parameter', 'location': 'timeMax'}]\">\n",
      "Error creating event for row 1235: <HttpError 400 when requesting https://www.googleapis.com/calendar/v3/calendars/primary/events?alt=json returned \"The specified time range is empty.\". Details: \"[{'domain': 'calendar', 'reason': 'timeRangeEmpty', 'message': 'The specified time range is empty.', 'locationType': 'parameter', 'location': 'timeMax'}]\">\n",
      "Error creating event for row 1236: <HttpError 400 when requesting https://www.googleapis.com/calendar/v3/calendars/primary/events?alt=json returned \"The specified time range is empty.\". Details: \"[{'domain': 'calendar', 'reason': 'timeRangeEmpty', 'message': 'The specified time range is empty.', 'locationType': 'parameter', 'location': 'timeMax'}]\">\n",
      "Error creating event for row 1237: <HttpError 400 when requesting https://www.googleapis.com/calendar/v3/calendars/primary/events?alt=json returned \"The specified time range is empty.\". Details: \"[{'domain': 'calendar', 'reason': 'timeRangeEmpty', 'message': 'The specified time range is empty.', 'locationType': 'parameter', 'location': 'timeMax'}]\">\n"
     ]
    },
    {
     "name": "stderr",
     "output_type": "stream",
     "text": [
      "C:\\Users\\heans\\AppData\\Local\\Temp\\ipykernel_22024\\3996378728.py:43: FutureWarning: Parsed string \"2024-12-16 00:00:00T20:30\" included an un-recognized timezone \"T\". Dropping unrecognized timezones is deprecated; in a future version this will raise. Instead pass the string without the timezone, then use .tz_localize to convert to a recognized timezone.\n",
      "  start_time_obj = pd.to_datetime(start_datetime_str)\n"
     ]
    },
    {
     "name": "stdout",
     "output_type": "stream",
     "text": [
      "Error creating event for row 1238: <HttpError 400 when requesting https://www.googleapis.com/calendar/v3/calendars/primary/events?alt=json returned \"The specified time range is empty.\". Details: \"[{'domain': 'calendar', 'reason': 'timeRangeEmpty', 'message': 'The specified time range is empty.', 'locationType': 'parameter', 'location': 'timeMax'}]\">\n",
      "Error creating event for row 1239: <HttpError 400 when requesting https://www.googleapis.com/calendar/v3/calendars/primary/events?alt=json returned \"The specified time range is empty.\". Details: \"[{'domain': 'calendar', 'reason': 'timeRangeEmpty', 'message': 'The specified time range is empty.', 'locationType': 'parameter', 'location': 'timeMax'}]\">\n",
      "Error creating event for row 1240: <HttpError 400 when requesting https://www.googleapis.com/calendar/v3/calendars/primary/events?alt=json returned \"The specified time range is empty.\". Details: \"[{'domain': 'calendar', 'reason': 'timeRangeEmpty', 'message': 'The specified time range is empty.', 'locationType': 'parameter', 'location': 'timeMax'}]\">\n"
     ]
    },
    {
     "name": "stderr",
     "output_type": "stream",
     "text": [
      "C:\\Users\\heans\\AppData\\Local\\Temp\\ipykernel_22024\\3996378728.py:43: FutureWarning: Parsed string \"2024-12-16 00:00:00T21:00\" included an un-recognized timezone \"T\". Dropping unrecognized timezones is deprecated; in a future version this will raise. Instead pass the string without the timezone, then use .tz_localize to convert to a recognized timezone.\n",
      "  start_time_obj = pd.to_datetime(start_datetime_str)\n",
      "C:\\Users\\heans\\AppData\\Local\\Temp\\ipykernel_22024\\3996378728.py:43: FutureWarning: Parsed string \"2024-12-16 00:00:00T22:00\" included an un-recognized timezone \"T\". Dropping unrecognized timezones is deprecated; in a future version this will raise. Instead pass the string without the timezone, then use .tz_localize to convert to a recognized timezone.\n",
      "  start_time_obj = pd.to_datetime(start_datetime_str)\n"
     ]
    },
    {
     "name": "stdout",
     "output_type": "stream",
     "text": [
      "Error creating event for row 1241: <HttpError 400 when requesting https://www.googleapis.com/calendar/v3/calendars/primary/events?alt=json returned \"The specified time range is empty.\". Details: \"[{'domain': 'calendar', 'reason': 'timeRangeEmpty', 'message': 'The specified time range is empty.', 'locationType': 'parameter', 'location': 'timeMax'}]\">\n",
      "Error creating event for row 1242: Unknown datetime string format, unable to parse: 2024-12-16 00:00:00Tganztägig, at position 0\n"
     ]
    },
    {
     "name": "stderr",
     "output_type": "stream",
     "text": [
      "C:\\Users\\heans\\AppData\\Local\\Temp\\ipykernel_22024\\3996378728.py:43: FutureWarning: Parsed string \"2024-12-17 00:00:00T \" included an un-recognized timezone \"T\". Dropping unrecognized timezones is deprecated; in a future version this will raise. Instead pass the string without the timezone, then use .tz_localize to convert to a recognized timezone.\n",
      "  start_time_obj = pd.to_datetime(start_datetime_str)\n"
     ]
    },
    {
     "name": "stdout",
     "output_type": "stream",
     "text": [
      "Event created: https://www.google.com/calendar/event?eid=YWZqbXVuNjh0NmVkNWxxcW8yOHQ1aHM5cTQgdGVzdC0yMTVAbHVja3ktcmVhY3Rvci00NDMzMDgtcjQuaWFtLmdzZXJ2aWNlYWNjb3VudC5jb20\n"
     ]
    },
    {
     "name": "stderr",
     "output_type": "stream",
     "text": [
      "C:\\Users\\heans\\AppData\\Local\\Temp\\ipykernel_22024\\3996378728.py:43: FutureWarning: Parsed string \"2024-12-17 00:00:00T00:01\" included an un-recognized timezone \"T\". Dropping unrecognized timezones is deprecated; in a future version this will raise. Instead pass the string without the timezone, then use .tz_localize to convert to a recognized timezone.\n",
      "  start_time_obj = pd.to_datetime(start_datetime_str)\n"
     ]
    },
    {
     "name": "stdout",
     "output_type": "stream",
     "text": [
      "Error creating event for row 1244: <HttpError 400 when requesting https://www.googleapis.com/calendar/v3/calendars/primary/events?alt=json returned \"The specified time range is empty.\". Details: \"[{'domain': 'calendar', 'reason': 'timeRangeEmpty', 'message': 'The specified time range is empty.', 'locationType': 'parameter', 'location': 'timeMax'}]\">\n"
     ]
    },
    {
     "name": "stderr",
     "output_type": "stream",
     "text": [
      "C:\\Users\\heans\\AppData\\Local\\Temp\\ipykernel_22024\\3996378728.py:43: FutureWarning: Parsed string \"2024-12-17 00:00:00T07:00\" included an un-recognized timezone \"T\". Dropping unrecognized timezones is deprecated; in a future version this will raise. Instead pass the string without the timezone, then use .tz_localize to convert to a recognized timezone.\n",
      "  start_time_obj = pd.to_datetime(start_datetime_str)\n"
     ]
    },
    {
     "name": "stdout",
     "output_type": "stream",
     "text": [
      "Event created: https://www.google.com/calendar/event?eid=MDRiM2Fyb2psaGhhcTJ0OHFqY3I5bXA5OW8gdGVzdC0yMTVAbHVja3ktcmVhY3Rvci00NDMzMDgtcjQuaWFtLmdzZXJ2aWNlYWNjb3VudC5jb20\n"
     ]
    },
    {
     "name": "stderr",
     "output_type": "stream",
     "text": [
      "C:\\Users\\heans\\AppData\\Local\\Temp\\ipykernel_22024\\3996378728.py:43: FutureWarning: Parsed string \"2024-12-17 00:00:00T08:00\" included an un-recognized timezone \"T\". Dropping unrecognized timezones is deprecated; in a future version this will raise. Instead pass the string without the timezone, then use .tz_localize to convert to a recognized timezone.\n",
      "  start_time_obj = pd.to_datetime(start_datetime_str)\n"
     ]
    },
    {
     "name": "stdout",
     "output_type": "stream",
     "text": [
      "Event created: https://www.google.com/calendar/event?eid=aDZibjYzdDdnZHExZ2QwYnU5cmNzdmdmYzAgdGVzdC0yMTVAbHVja3ktcmVhY3Rvci00NDMzMDgtcjQuaWFtLmdzZXJ2aWNlYWNjb3VudC5jb20\n",
      "Event created: https://www.google.com/calendar/event?eid=b3Q1ZG1ha2ExYTVwYm1paXJpOTIzdTdldmcgdGVzdC0yMTVAbHVja3ktcmVhY3Rvci00NDMzMDgtcjQuaWFtLmdzZXJ2aWNlYWNjb3VudC5jb20\n",
      "Event created: https://www.google.com/calendar/event?eid=NWNuNzg1ajN0MTRyaW9mczFmOGMzNGc5bDAgdGVzdC0yMTVAbHVja3ktcmVhY3Rvci00NDMzMDgtcjQuaWFtLmdzZXJ2aWNlYWNjb3VudC5jb20\n",
      "Error creating event for row 1249: <HttpError 400 when requesting https://www.googleapis.com/calendar/v3/calendars/primary/events?alt=json returned \"The specified time range is empty.\". Details: \"[{'domain': 'calendar', 'reason': 'timeRangeEmpty', 'message': 'The specified time range is empty.', 'locationType': 'parameter', 'location': 'timeMax'}]\">\n"
     ]
    },
    {
     "name": "stderr",
     "output_type": "stream",
     "text": [
      "C:\\Users\\heans\\AppData\\Local\\Temp\\ipykernel_22024\\3996378728.py:43: FutureWarning: Parsed string \"2024-12-17 00:00:00T09:00\" included an un-recognized timezone \"T\". Dropping unrecognized timezones is deprecated; in a future version this will raise. Instead pass the string without the timezone, then use .tz_localize to convert to a recognized timezone.\n",
      "  start_time_obj = pd.to_datetime(start_datetime_str)\n"
     ]
    },
    {
     "name": "stdout",
     "output_type": "stream",
     "text": [
      "Event created: https://www.google.com/calendar/event?eid=Y2dkaWN1aHNtcHV0czZuN2Y5MjVsNzA4ZDggdGVzdC0yMTVAbHVja3ktcmVhY3Rvci00NDMzMDgtcjQuaWFtLmdzZXJ2aWNlYWNjb3VudC5jb20\n",
      "Error creating event for row 1251: <HttpError 400 when requesting https://www.googleapis.com/calendar/v3/calendars/primary/events?alt=json returned \"The specified time range is empty.\". Details: \"[{'domain': 'calendar', 'reason': 'timeRangeEmpty', 'message': 'The specified time range is empty.', 'locationType': 'parameter', 'location': 'timeMax'}]\">\n",
      "Event created: https://www.google.com/calendar/event?eid=ODN2MnAyNTU2dDh2ZmpwMGdhM21kc3FjNDQgdGVzdC0yMTVAbHVja3ktcmVhY3Rvci00NDMzMDgtcjQuaWFtLmdzZXJ2aWNlYWNjb3VudC5jb20\n",
      "Error creating event for row 1253: <HttpError 400 when requesting https://www.googleapis.com/calendar/v3/calendars/primary/events?alt=json returned \"The specified time range is empty.\". Details: \"[{'domain': 'calendar', 'reason': 'timeRangeEmpty', 'message': 'The specified time range is empty.', 'locationType': 'parameter', 'location': 'timeMax'}]\">\n",
      "Event created: https://www.google.com/calendar/event?eid=Y3Zhb2tlNG91Ym8xNG9wY2Y4MDBjOGNjOTAgdGVzdC0yMTVAbHVja3ktcmVhY3Rvci00NDMzMDgtcjQuaWFtLmdzZXJ2aWNlYWNjb3VudC5jb20\n"
     ]
    },
    {
     "name": "stderr",
     "output_type": "stream",
     "text": [
      "C:\\Users\\heans\\AppData\\Local\\Temp\\ipykernel_22024\\3996378728.py:43: FutureWarning: Parsed string \"2024-12-17 00:00:00T10:00\" included an un-recognized timezone \"T\". Dropping unrecognized timezones is deprecated; in a future version this will raise. Instead pass the string without the timezone, then use .tz_localize to convert to a recognized timezone.\n",
      "  start_time_obj = pd.to_datetime(start_datetime_str)\n"
     ]
    },
    {
     "name": "stdout",
     "output_type": "stream",
     "text": [
      "Event created: https://www.google.com/calendar/event?eid=cWw1ZnVscmszdG9zNnAxZGl0Mjk0YW9rYjAgdGVzdC0yMTVAbHVja3ktcmVhY3Rvci00NDMzMDgtcjQuaWFtLmdzZXJ2aWNlYWNjb3VudC5jb20\n",
      "Event created: https://www.google.com/calendar/event?eid=ZW4xMmVxYjhqbmswa3Z1dGZndm9pOG1nM3MgdGVzdC0yMTVAbHVja3ktcmVhY3Rvci00NDMzMDgtcjQuaWFtLmdzZXJ2aWNlYWNjb3VudC5jb20\n",
      "Event created: https://www.google.com/calendar/event?eid=OTJ2cmU5ZjVtOWI0amoxZThwNjU2b29qZTAgdGVzdC0yMTVAbHVja3ktcmVhY3Rvci00NDMzMDgtcjQuaWFtLmdzZXJ2aWNlYWNjb3VudC5jb20\n",
      "Event created: https://www.google.com/calendar/event?eid=N2xhYnY5MGcxZnE0MWo1dWgya2tsZDA5YjAgdGVzdC0yMTVAbHVja3ktcmVhY3Rvci00NDMzMDgtcjQuaWFtLmdzZXJ2aWNlYWNjb3VudC5jb20\n",
      "Event created: https://www.google.com/calendar/event?eid=dGMzM21jMWRrOHRoa21iYWkxdHY1bDY3MG8gdGVzdC0yMTVAbHVja3ktcmVhY3Rvci00NDMzMDgtcjQuaWFtLmdzZXJ2aWNlYWNjb3VudC5jb20\n",
      "Error creating event for row 1260: <HttpError 400 when requesting https://www.googleapis.com/calendar/v3/calendars/primary/events?alt=json returned \"The specified time range is empty.\". Details: \"[{'domain': 'calendar', 'reason': 'timeRangeEmpty', 'message': 'The specified time range is empty.', 'locationType': 'parameter', 'location': 'timeMax'}]\">\n",
      "Event created: https://www.google.com/calendar/event?eid=b2EyaHRkcnRxY3M2ajYwbDJxYjRiZzFrajAgdGVzdC0yMTVAbHVja3ktcmVhY3Rvci00NDMzMDgtcjQuaWFtLmdzZXJ2aWNlYWNjb3VudC5jb20\n",
      "Event created: https://www.google.com/calendar/event?eid=NWZrZ3VwaWJhamxncDFyOXAxYTA1djMzMmsgdGVzdC0yMTVAbHVja3ktcmVhY3Rvci00NDMzMDgtcjQuaWFtLmdzZXJ2aWNlYWNjb3VudC5jb20\n",
      "Event created: https://www.google.com/calendar/event?eid=cWg0ZnZsOWxhOWVhbzNsZTNuY2k0Y3ZtYTggdGVzdC0yMTVAbHVja3ktcmVhY3Rvci00NDMzMDgtcjQuaWFtLmdzZXJ2aWNlYWNjb3VudC5jb20\n",
      "Event created: https://www.google.com/calendar/event?eid=NWhuMHZwMnVwYmY1dW5xdHZ2dWp2anZyM3MgdGVzdC0yMTVAbHVja3ktcmVhY3Rvci00NDMzMDgtcjQuaWFtLmdzZXJ2aWNlYWNjb3VudC5jb20\n",
      "Error creating event for row 1265: <HttpError 400 when requesting https://www.googleapis.com/calendar/v3/calendars/primary/events?alt=json returned \"The specified time range is empty.\". Details: \"[{'domain': 'calendar', 'reason': 'timeRangeEmpty', 'message': 'The specified time range is empty.', 'locationType': 'parameter', 'location': 'timeMax'}]\">\n",
      "Event created: https://www.google.com/calendar/event?eid=cDhyMWxhZWZvZ3BxOWUzZTI2cWUzaDdic2sgdGVzdC0yMTVAbHVja3ktcmVhY3Rvci00NDMzMDgtcjQuaWFtLmdzZXJ2aWNlYWNjb3VudC5jb20\n",
      "Event created: https://www.google.com/calendar/event?eid=ZzNscWQ3YjhqaDJxbDl2czhlZDAxZDRuM3MgdGVzdC0yMTVAbHVja3ktcmVhY3Rvci00NDMzMDgtcjQuaWFtLmdzZXJ2aWNlYWNjb3VudC5jb20\n",
      "Error creating event for row 1268: <HttpError 400 when requesting https://www.googleapis.com/calendar/v3/calendars/primary/events?alt=json returned \"The specified time range is empty.\". Details: \"[{'domain': 'calendar', 'reason': 'timeRangeEmpty', 'message': 'The specified time range is empty.', 'locationType': 'parameter', 'location': 'timeMax'}]\">\n",
      "Error creating event for row 1269: <HttpError 400 when requesting https://www.googleapis.com/calendar/v3/calendars/primary/events?alt=json returned \"The specified time range is empty.\". Details: \"[{'domain': 'calendar', 'reason': 'timeRangeEmpty', 'message': 'The specified time range is empty.', 'locationType': 'parameter', 'location': 'timeMax'}]\">\n",
      "Event created: https://www.google.com/calendar/event?eid=N21laHFvMXRzdWEwcWo1NHFxa2M3ZmRtZGMgdGVzdC0yMTVAbHVja3ktcmVhY3Rvci00NDMzMDgtcjQuaWFtLmdzZXJ2aWNlYWNjb3VudC5jb20\n",
      "Event created: https://www.google.com/calendar/event?eid=YXZrN3NkMnRlc3BvNGlubXA2dmp1cGNoMnMgdGVzdC0yMTVAbHVja3ktcmVhY3Rvci00NDMzMDgtcjQuaWFtLmdzZXJ2aWNlYWNjb3VudC5jb20\n"
     ]
    },
    {
     "name": "stderr",
     "output_type": "stream",
     "text": [
      "C:\\Users\\heans\\AppData\\Local\\Temp\\ipykernel_22024\\3996378728.py:43: FutureWarning: Parsed string \"2024-12-17 00:00:00T10:15\" included an un-recognized timezone \"T\". Dropping unrecognized timezones is deprecated; in a future version this will raise. Instead pass the string without the timezone, then use .tz_localize to convert to a recognized timezone.\n",
      "  start_time_obj = pd.to_datetime(start_datetime_str)\n"
     ]
    },
    {
     "name": "stdout",
     "output_type": "stream",
     "text": [
      "Event created: https://www.google.com/calendar/event?eid=NHJkaThhMzRoNDliZmk0ZXN0bmRrMjlsOTggdGVzdC0yMTVAbHVja3ktcmVhY3Rvci00NDMzMDgtcjQuaWFtLmdzZXJ2aWNlYWNjb3VudC5jb20\n"
     ]
    },
    {
     "name": "stderr",
     "output_type": "stream",
     "text": [
      "C:\\Users\\heans\\AppData\\Local\\Temp\\ipykernel_22024\\3996378728.py:43: FutureWarning: Parsed string \"2024-12-17 00:00:00T11:00\" included an un-recognized timezone \"T\". Dropping unrecognized timezones is deprecated; in a future version this will raise. Instead pass the string without the timezone, then use .tz_localize to convert to a recognized timezone.\n",
      "  start_time_obj = pd.to_datetime(start_datetime_str)\n"
     ]
    },
    {
     "name": "stdout",
     "output_type": "stream",
     "text": [
      "Event created: https://www.google.com/calendar/event?eid=bTloZDl0NjZrMDI1ZmF2cXFmaWZuZGF1OG8gdGVzdC0yMTVAbHVja3ktcmVhY3Rvci00NDMzMDgtcjQuaWFtLmdzZXJ2aWNlYWNjb3VudC5jb20\n",
      "Event created: https://www.google.com/calendar/event?eid=dml1ZDNsNGZicHZwMnNhb2VjbjdvdHVkbjggdGVzdC0yMTVAbHVja3ktcmVhY3Rvci00NDMzMDgtcjQuaWFtLmdzZXJ2aWNlYWNjb3VudC5jb20\n",
      "Error creating event for row 1275: <HttpError 400 when requesting https://www.googleapis.com/calendar/v3/calendars/primary/events?alt=json returned \"The specified time range is empty.\". Details: \"[{'domain': 'calendar', 'reason': 'timeRangeEmpty', 'message': 'The specified time range is empty.', 'locationType': 'parameter', 'location': 'timeMax'}]\">\n",
      "Event created: https://www.google.com/calendar/event?eid=djVocjVlNzRlYmEwZDRhZnM2Y2Izc2FlN2MgdGVzdC0yMTVAbHVja3ktcmVhY3Rvci00NDMzMDgtcjQuaWFtLmdzZXJ2aWNlYWNjb3VudC5jb20\n",
      "Error creating event for row 1277: <HttpError 400 when requesting https://www.googleapis.com/calendar/v3/calendars/primary/events?alt=json returned \"The specified time range is empty.\". Details: \"[{'domain': 'calendar', 'reason': 'timeRangeEmpty', 'message': 'The specified time range is empty.', 'locationType': 'parameter', 'location': 'timeMax'}]\">\n",
      "Event created: https://www.google.com/calendar/event?eid=Zm5mb3Y4ZGFhdDNjYW9jbTdsNzZubGhoNnMgdGVzdC0yMTVAbHVja3ktcmVhY3Rvci00NDMzMDgtcjQuaWFtLmdzZXJ2aWNlYWNjb3VudC5jb20\n",
      "Error creating event for row 1279: <HttpError 400 when requesting https://www.googleapis.com/calendar/v3/calendars/primary/events?alt=json returned \"The specified time range is empty.\". Details: \"[{'domain': 'calendar', 'reason': 'timeRangeEmpty', 'message': 'The specified time range is empty.', 'locationType': 'parameter', 'location': 'timeMax'}]\">\n",
      "Error creating event for row 1280: <HttpError 400 when requesting https://www.googleapis.com/calendar/v3/calendars/primary/events?alt=json returned \"The specified time range is empty.\". Details: \"[{'domain': 'calendar', 'reason': 'timeRangeEmpty', 'message': 'The specified time range is empty.', 'locationType': 'parameter', 'location': 'timeMax'}]\">\n",
      "Event created: https://www.google.com/calendar/event?eid=ZnFrOWU4ODRyamtpMXBzZmdpcHFjbHAxbnMgdGVzdC0yMTVAbHVja3ktcmVhY3Rvci00NDMzMDgtcjQuaWFtLmdzZXJ2aWNlYWNjb3VudC5jb20\n",
      "Event created: https://www.google.com/calendar/event?eid=ODc2dDVhNnZpbzc5MWlpMmpyN21iaHBnb3MgdGVzdC0yMTVAbHVja3ktcmVhY3Rvci00NDMzMDgtcjQuaWFtLmdzZXJ2aWNlYWNjb3VudC5jb20\n",
      "Event created: https://www.google.com/calendar/event?eid=cHJyOHNlN3UwMDF2cHUxcWF0NjVtMGp0MGMgdGVzdC0yMTVAbHVja3ktcmVhY3Rvci00NDMzMDgtcjQuaWFtLmdzZXJ2aWNlYWNjb3VudC5jb20\n",
      "Event created: https://www.google.com/calendar/event?eid=M3V0bzRmb2wzNTgwbXVrMm1sMWNsb3VxbGsgdGVzdC0yMTVAbHVja3ktcmVhY3Rvci00NDMzMDgtcjQuaWFtLmdzZXJ2aWNlYWNjb3VudC5jb20\n",
      "Event created: https://www.google.com/calendar/event?eid=bGFuamFhOWFldHBpbDh0dmk3dXFmdW5jYWMgdGVzdC0yMTVAbHVja3ktcmVhY3Rvci00NDMzMDgtcjQuaWFtLmdzZXJ2aWNlYWNjb3VudC5jb20\n",
      "Error creating event for row 1286: <HttpError 400 when requesting https://www.googleapis.com/calendar/v3/calendars/primary/events?alt=json returned \"The specified time range is empty.\". Details: \"[{'domain': 'calendar', 'reason': 'timeRangeEmpty', 'message': 'The specified time range is empty.', 'locationType': 'parameter', 'location': 'timeMax'}]\">\n",
      "Error creating event for row 1287: <HttpError 400 when requesting https://www.googleapis.com/calendar/v3/calendars/primary/events?alt=json returned \"The specified time range is empty.\". Details: \"[{'domain': 'calendar', 'reason': 'timeRangeEmpty', 'message': 'The specified time range is empty.', 'locationType': 'parameter', 'location': 'timeMax'}]\">\n",
      "Event created: https://www.google.com/calendar/event?eid=ZDFjOW1sYmp0bG5zMDBuOWJ2NzJna3NtczggdGVzdC0yMTVAbHVja3ktcmVhY3Rvci00NDMzMDgtcjQuaWFtLmdzZXJ2aWNlYWNjb3VudC5jb20\n"
     ]
    },
    {
     "name": "stderr",
     "output_type": "stream",
     "text": [
      "C:\\Users\\heans\\AppData\\Local\\Temp\\ipykernel_22024\\3996378728.py:43: FutureWarning: Parsed string \"2024-12-17 00:00:00T12:00\" included an un-recognized timezone \"T\". Dropping unrecognized timezones is deprecated; in a future version this will raise. Instead pass the string without the timezone, then use .tz_localize to convert to a recognized timezone.\n",
      "  start_time_obj = pd.to_datetime(start_datetime_str)\n"
     ]
    },
    {
     "name": "stdout",
     "output_type": "stream",
     "text": [
      "Event created: https://www.google.com/calendar/event?eid=NGE5aWZ1czg0N2VwMzh0M2gwN3RwamRqdW8gdGVzdC0yMTVAbHVja3ktcmVhY3Rvci00NDMzMDgtcjQuaWFtLmdzZXJ2aWNlYWNjb3VudC5jb20\n",
      "Event created: https://www.google.com/calendar/event?eid=Y2JkZWt1NTY3MHYzMzV2Y2I4cnAxbmFnZ3MgdGVzdC0yMTVAbHVja3ktcmVhY3Rvci00NDMzMDgtcjQuaWFtLmdzZXJ2aWNlYWNjb3VudC5jb20\n",
      "Event created: https://www.google.com/calendar/event?eid=MWFzcDUyODZibGlrY281Nmt2Y2FxdjgxNjQgdGVzdC0yMTVAbHVja3ktcmVhY3Rvci00NDMzMDgtcjQuaWFtLmdzZXJ2aWNlYWNjb3VudC5jb20\n",
      "Event created: https://www.google.com/calendar/event?eid=cGFmcWpnZXNlMDgzZ2JiYjFwNnV2czYzam8gdGVzdC0yMTVAbHVja3ktcmVhY3Rvci00NDMzMDgtcjQuaWFtLmdzZXJ2aWNlYWNjb3VudC5jb20\n"
     ]
    },
    {
     "name": "stderr",
     "output_type": "stream",
     "text": [
      "C:\\Users\\heans\\AppData\\Local\\Temp\\ipykernel_22024\\3996378728.py:43: FutureWarning: Parsed string \"2024-12-17 00:00:00T13:00\" included an un-recognized timezone \"T\". Dropping unrecognized timezones is deprecated; in a future version this will raise. Instead pass the string without the timezone, then use .tz_localize to convert to a recognized timezone.\n",
      "  start_time_obj = pd.to_datetime(start_datetime_str)\n"
     ]
    },
    {
     "name": "stdout",
     "output_type": "stream",
     "text": [
      "Event created: https://www.google.com/calendar/event?eid=YThkajZraDJyazc1bGYwZHE5NzBzYWowcmsgdGVzdC0yMTVAbHVja3ktcmVhY3Rvci00NDMzMDgtcjQuaWFtLmdzZXJ2aWNlYWNjb3VudC5jb20\n",
      "Event created: https://www.google.com/calendar/event?eid=cjV1MTk4MTc3dTcxdXBmdDk3MXBxNmp1bWcgdGVzdC0yMTVAbHVja3ktcmVhY3Rvci00NDMzMDgtcjQuaWFtLmdzZXJ2aWNlYWNjb3VudC5jb20\n",
      "Event created: https://www.google.com/calendar/event?eid=OTFydG4wajJjMWlldG5qY3RqczVvMGE2MzAgdGVzdC0yMTVAbHVja3ktcmVhY3Rvci00NDMzMDgtcjQuaWFtLmdzZXJ2aWNlYWNjb3VudC5jb20\n",
      "Event created: https://www.google.com/calendar/event?eid=dTQ1bWM1cGlrYnZwN25uZmZtcXVibGI5NzQgdGVzdC0yMTVAbHVja3ktcmVhY3Rvci00NDMzMDgtcjQuaWFtLmdzZXJ2aWNlYWNjb3VudC5jb20\n"
     ]
    },
    {
     "name": "stderr",
     "output_type": "stream",
     "text": [
      "C:\\Users\\heans\\AppData\\Local\\Temp\\ipykernel_22024\\3996378728.py:43: FutureWarning: Parsed string \"2024-12-17 00:00:00T13:30\" included an un-recognized timezone \"T\". Dropping unrecognized timezones is deprecated; in a future version this will raise. Instead pass the string without the timezone, then use .tz_localize to convert to a recognized timezone.\n",
      "  start_time_obj = pd.to_datetime(start_datetime_str)\n"
     ]
    },
    {
     "name": "stdout",
     "output_type": "stream",
     "text": [
      "Error creating event for row 1297: <HttpError 400 when requesting https://www.googleapis.com/calendar/v3/calendars/primary/events?alt=json returned \"The specified time range is empty.\". Details: \"[{'domain': 'calendar', 'reason': 'timeRangeEmpty', 'message': 'The specified time range is empty.', 'locationType': 'parameter', 'location': 'timeMax'}]\">\n",
      "Error creating event for row 1298: <HttpError 400 when requesting https://www.googleapis.com/calendar/v3/calendars/primary/events?alt=json returned \"The specified time range is empty.\". Details: \"[{'domain': 'calendar', 'reason': 'timeRangeEmpty', 'message': 'The specified time range is empty.', 'locationType': 'parameter', 'location': 'timeMax'}]\">\n"
     ]
    },
    {
     "name": "stderr",
     "output_type": "stream",
     "text": [
      "C:\\Users\\heans\\AppData\\Local\\Temp\\ipykernel_22024\\3996378728.py:43: FutureWarning: Parsed string \"2024-12-17 00:00:00T14:00\" included an un-recognized timezone \"T\". Dropping unrecognized timezones is deprecated; in a future version this will raise. Instead pass the string without the timezone, then use .tz_localize to convert to a recognized timezone.\n",
      "  start_time_obj = pd.to_datetime(start_datetime_str)\n"
     ]
    },
    {
     "name": "stdout",
     "output_type": "stream",
     "text": [
      "Event created: https://www.google.com/calendar/event?eid=cDZqbjVjMTVscXU3Mm1sdTQwMHN2a2NpaTAgdGVzdC0yMTVAbHVja3ktcmVhY3Rvci00NDMzMDgtcjQuaWFtLmdzZXJ2aWNlYWNjb3VudC5jb20\n",
      "Event created: https://www.google.com/calendar/event?eid=dTFhc2JmM2RkcWdjazg4am5pdnNyOW10cGMgdGVzdC0yMTVAbHVja3ktcmVhY3Rvci00NDMzMDgtcjQuaWFtLmdzZXJ2aWNlYWNjb3VudC5jb20\n",
      "Event created: https://www.google.com/calendar/event?eid=dXJtM25qNGY1NGh0cmEwMmlsdWp2YWwzcTQgdGVzdC0yMTVAbHVja3ktcmVhY3Rvci00NDMzMDgtcjQuaWFtLmdzZXJ2aWNlYWNjb3VudC5jb20\n",
      "Event created: https://www.google.com/calendar/event?eid=cTM4NWNxam9xaWs0dXBmcjV0b2wxdXExdWcgdGVzdC0yMTVAbHVja3ktcmVhY3Rvci00NDMzMDgtcjQuaWFtLmdzZXJ2aWNlYWNjb3VudC5jb20\n",
      "Error creating event for row 1303: <HttpError 400 when requesting https://www.googleapis.com/calendar/v3/calendars/primary/events?alt=json returned \"The specified time range is empty.\". Details: \"[{'domain': 'calendar', 'reason': 'timeRangeEmpty', 'message': 'The specified time range is empty.', 'locationType': 'parameter', 'location': 'timeMax'}]\">\n",
      "Event created: https://www.google.com/calendar/event?eid=aHQ3YzUxZWppZHFnMXV2ZGhsbzZ1Y2R1NTggdGVzdC0yMTVAbHVja3ktcmVhY3Rvci00NDMzMDgtcjQuaWFtLmdzZXJ2aWNlYWNjb3VudC5jb20\n",
      "Event created: https://www.google.com/calendar/event?eid=a3JkOW1oOWM3YzFyN2EwZzVkMjIzczdxNm8gdGVzdC0yMTVAbHVja3ktcmVhY3Rvci00NDMzMDgtcjQuaWFtLmdzZXJ2aWNlYWNjb3VudC5jb20\n",
      "Error creating event for row 1306: <HttpError 400 when requesting https://www.googleapis.com/calendar/v3/calendars/primary/events?alt=json returned \"The specified time range is empty.\". Details: \"[{'domain': 'calendar', 'reason': 'timeRangeEmpty', 'message': 'The specified time range is empty.', 'locationType': 'parameter', 'location': 'timeMax'}]\">\n"
     ]
    },
    {
     "name": "stderr",
     "output_type": "stream",
     "text": [
      "C:\\Users\\heans\\AppData\\Local\\Temp\\ipykernel_22024\\3996378728.py:43: FutureWarning: Parsed string \"2024-12-17 00:00:00T14:30\" included an un-recognized timezone \"T\". Dropping unrecognized timezones is deprecated; in a future version this will raise. Instead pass the string without the timezone, then use .tz_localize to convert to a recognized timezone.\n",
      "  start_time_obj = pd.to_datetime(start_datetime_str)\n",
      "C:\\Users\\heans\\AppData\\Local\\Temp\\ipykernel_22024\\3996378728.py:43: FutureWarning: Parsed string \"2024-12-17 00:00:00T15:00\" included an un-recognized timezone \"T\". Dropping unrecognized timezones is deprecated; in a future version this will raise. Instead pass the string without the timezone, then use .tz_localize to convert to a recognized timezone.\n",
      "  start_time_obj = pd.to_datetime(start_datetime_str)\n"
     ]
    },
    {
     "name": "stdout",
     "output_type": "stream",
     "text": [
      "Event created: https://www.google.com/calendar/event?eid=MmdzYTF2dTlldTM1ZHRlMmNlZHRkNWZlNWsgdGVzdC0yMTVAbHVja3ktcmVhY3Rvci00NDMzMDgtcjQuaWFtLmdzZXJ2aWNlYWNjb3VudC5jb20\n",
      "Event created: https://www.google.com/calendar/event?eid=YTJxdjkyN2Y0cWc2MTIyMHJrcjIwdTQ1MmsgdGVzdC0yMTVAbHVja3ktcmVhY3Rvci00NDMzMDgtcjQuaWFtLmdzZXJ2aWNlYWNjb3VudC5jb20\n",
      "Error creating event for row 1309: <HttpError 400 when requesting https://www.googleapis.com/calendar/v3/calendars/primary/events?alt=json returned \"The specified time range is empty.\". Details: \"[{'domain': 'calendar', 'reason': 'timeRangeEmpty', 'message': 'The specified time range is empty.', 'locationType': 'parameter', 'location': 'timeMax'}]\">\n",
      "Error creating event for row 1310: <HttpError 400 when requesting https://www.googleapis.com/calendar/v3/calendars/primary/events?alt=json returned \"The specified time range is empty.\". Details: \"[{'domain': 'calendar', 'reason': 'timeRangeEmpty', 'message': 'The specified time range is empty.', 'locationType': 'parameter', 'location': 'timeMax'}]\">\n",
      "Event created: https://www.google.com/calendar/event?eid=b2xpYmMybXJnOGRpdXRndTh0cDQ1bmQzMHMgdGVzdC0yMTVAbHVja3ktcmVhY3Rvci00NDMzMDgtcjQuaWFtLmdzZXJ2aWNlYWNjb3VudC5jb20\n",
      "Event created: https://www.google.com/calendar/event?eid=Z29raW5jODlxaDFsdGhxMXNkbjI3Z2tycmcgdGVzdC0yMTVAbHVja3ktcmVhY3Rvci00NDMzMDgtcjQuaWFtLmdzZXJ2aWNlYWNjb3VudC5jb20\n",
      "Error creating event for row 1313: <HttpError 400 when requesting https://www.googleapis.com/calendar/v3/calendars/primary/events?alt=json returned \"The specified time range is empty.\". Details: \"[{'domain': 'calendar', 'reason': 'timeRangeEmpty', 'message': 'The specified time range is empty.', 'locationType': 'parameter', 'location': 'timeMax'}]\">\n",
      "Error creating event for row 1314: <HttpError 400 when requesting https://www.googleapis.com/calendar/v3/calendars/primary/events?alt=json returned \"The specified time range is empty.\". Details: \"[{'domain': 'calendar', 'reason': 'timeRangeEmpty', 'message': 'The specified time range is empty.', 'locationType': 'parameter', 'location': 'timeMax'}]\">\n"
     ]
    },
    {
     "name": "stderr",
     "output_type": "stream",
     "text": [
      "C:\\Users\\heans\\AppData\\Local\\Temp\\ipykernel_22024\\3996378728.py:43: FutureWarning: Parsed string \"2024-12-17 00:00:00T16:00\" included an un-recognized timezone \"T\". Dropping unrecognized timezones is deprecated; in a future version this will raise. Instead pass the string without the timezone, then use .tz_localize to convert to a recognized timezone.\n",
      "  start_time_obj = pd.to_datetime(start_datetime_str)\n"
     ]
    },
    {
     "name": "stdout",
     "output_type": "stream",
     "text": [
      "Event created: https://www.google.com/calendar/event?eid=bm0zcnF2am5wYzFqanQ3ZDZncmpiczVndG8gdGVzdC0yMTVAbHVja3ktcmVhY3Rvci00NDMzMDgtcjQuaWFtLmdzZXJ2aWNlYWNjb3VudC5jb20\n",
      "Error creating event for row 1316: <HttpError 400 when requesting https://www.googleapis.com/calendar/v3/calendars/primary/events?alt=json returned \"The specified time range is empty.\". Details: \"[{'domain': 'calendar', 'reason': 'timeRangeEmpty', 'message': 'The specified time range is empty.', 'locationType': 'parameter', 'location': 'timeMax'}]\">\n",
      "Event created: https://www.google.com/calendar/event?eid=cWUwMmpvYm84MDNvc3R2cmZ2bnN0NTZlamMgdGVzdC0yMTVAbHVja3ktcmVhY3Rvci00NDMzMDgtcjQuaWFtLmdzZXJ2aWNlYWNjb3VudC5jb20\n",
      "Error creating event for row 1318: <HttpError 400 when requesting https://www.googleapis.com/calendar/v3/calendars/primary/events?alt=json returned \"The specified time range is empty.\". Details: \"[{'domain': 'calendar', 'reason': 'timeRangeEmpty', 'message': 'The specified time range is empty.', 'locationType': 'parameter', 'location': 'timeMax'}]\">\n",
      "Event created: https://www.google.com/calendar/event?eid=Ym80OHBqbW5tODA1bXIzb243bW84c25vdGMgdGVzdC0yMTVAbHVja3ktcmVhY3Rvci00NDMzMDgtcjQuaWFtLmdzZXJ2aWNlYWNjb3VudC5jb20\n",
      "Error creating event for row 1320: <HttpError 400 when requesting https://www.googleapis.com/calendar/v3/calendars/primary/events?alt=json returned \"The specified time range is empty.\". Details: \"[{'domain': 'calendar', 'reason': 'timeRangeEmpty', 'message': 'The specified time range is empty.', 'locationType': 'parameter', 'location': 'timeMax'}]\">\n",
      "Error creating event for row 1321: <HttpError 400 when requesting https://www.googleapis.com/calendar/v3/calendars/primary/events?alt=json returned \"The specified time range is empty.\". Details: \"[{'domain': 'calendar', 'reason': 'timeRangeEmpty', 'message': 'The specified time range is empty.', 'locationType': 'parameter', 'location': 'timeMax'}]\">\n",
      "Error creating event for row 1322: <HttpError 400 when requesting https://www.googleapis.com/calendar/v3/calendars/primary/events?alt=json returned \"The specified time range is empty.\". Details: \"[{'domain': 'calendar', 'reason': 'timeRangeEmpty', 'message': 'The specified time range is empty.', 'locationType': 'parameter', 'location': 'timeMax'}]\">\n"
     ]
    },
    {
     "name": "stderr",
     "output_type": "stream",
     "text": [
      "C:\\Users\\heans\\AppData\\Local\\Temp\\ipykernel_22024\\3996378728.py:43: FutureWarning: Parsed string \"2024-12-17 00:00:00T16:30\" included an un-recognized timezone \"T\". Dropping unrecognized timezones is deprecated; in a future version this will raise. Instead pass the string without the timezone, then use .tz_localize to convert to a recognized timezone.\n",
      "  start_time_obj = pd.to_datetime(start_datetime_str)\n"
     ]
    },
    {
     "name": "stdout",
     "output_type": "stream",
     "text": [
      "Error creating event for row 1323: <HttpError 400 when requesting https://www.googleapis.com/calendar/v3/calendars/primary/events?alt=json returned \"The specified time range is empty.\". Details: \"[{'domain': 'calendar', 'reason': 'timeRangeEmpty', 'message': 'The specified time range is empty.', 'locationType': 'parameter', 'location': 'timeMax'}]\">\n",
      "Event created: https://www.google.com/calendar/event?eid=MzVvNXExMGExcm9pbWtnZjJkcHA3N2t2MWsgdGVzdC0yMTVAbHVja3ktcmVhY3Rvci00NDMzMDgtcjQuaWFtLmdzZXJ2aWNlYWNjb3VudC5jb20\n"
     ]
    },
    {
     "name": "stderr",
     "output_type": "stream",
     "text": [
      "C:\\Users\\heans\\AppData\\Local\\Temp\\ipykernel_22024\\3996378728.py:43: FutureWarning: Parsed string \"2024-12-17 00:00:00T17:00\" included an un-recognized timezone \"T\". Dropping unrecognized timezones is deprecated; in a future version this will raise. Instead pass the string without the timezone, then use .tz_localize to convert to a recognized timezone.\n",
      "  start_time_obj = pd.to_datetime(start_datetime_str)\n"
     ]
    },
    {
     "name": "stdout",
     "output_type": "stream",
     "text": [
      "Error creating event for row 1325: <HttpError 400 when requesting https://www.googleapis.com/calendar/v3/calendars/primary/events?alt=json returned \"The specified time range is empty.\". Details: \"[{'domain': 'calendar', 'reason': 'timeRangeEmpty', 'message': 'The specified time range is empty.', 'locationType': 'parameter', 'location': 'timeMax'}]\">\n",
      "Error creating event for row 1326: <HttpError 400 when requesting https://www.googleapis.com/calendar/v3/calendars/primary/events?alt=json returned \"The specified time range is empty.\". Details: \"[{'domain': 'calendar', 'reason': 'timeRangeEmpty', 'message': 'The specified time range is empty.', 'locationType': 'parameter', 'location': 'timeMax'}]\">\n",
      "Event created: https://www.google.com/calendar/event?eid=a2xpbDlzbzZxOWNhdHBrN3NrNTNndjltOWcgdGVzdC0yMTVAbHVja3ktcmVhY3Rvci00NDMzMDgtcjQuaWFtLmdzZXJ2aWNlYWNjb3VudC5jb20\n",
      "Event created: https://www.google.com/calendar/event?eid=aW5hbnNlbmVwb2NiZHE2bGUwdDdtMWE5Nm8gdGVzdC0yMTVAbHVja3ktcmVhY3Rvci00NDMzMDgtcjQuaWFtLmdzZXJ2aWNlYWNjb3VudC5jb20\n",
      "Error creating event for row 1329: <HttpError 400 when requesting https://www.googleapis.com/calendar/v3/calendars/primary/events?alt=json returned \"The specified time range is empty.\". Details: \"[{'domain': 'calendar', 'reason': 'timeRangeEmpty', 'message': 'The specified time range is empty.', 'locationType': 'parameter', 'location': 'timeMax'}]\">\n",
      "Event created: https://www.google.com/calendar/event?eid=dnB2NW1pNnVjOHIxdGZzcGVsOGdodmk5aGcgdGVzdC0yMTVAbHVja3ktcmVhY3Rvci00NDMzMDgtcjQuaWFtLmdzZXJ2aWNlYWNjb3VudC5jb20\n",
      "Error creating event for row 1331: <HttpError 400 when requesting https://www.googleapis.com/calendar/v3/calendars/primary/events?alt=json returned \"The specified time range is empty.\". Details: \"[{'domain': 'calendar', 'reason': 'timeRangeEmpty', 'message': 'The specified time range is empty.', 'locationType': 'parameter', 'location': 'timeMax'}]\">\n",
      "Error creating event for row 1332: <HttpError 400 when requesting https://www.googleapis.com/calendar/v3/calendars/primary/events?alt=json returned \"The specified time range is empty.\". Details: \"[{'domain': 'calendar', 'reason': 'timeRangeEmpty', 'message': 'The specified time range is empty.', 'locationType': 'parameter', 'location': 'timeMax'}]\">\n",
      "Event created: https://www.google.com/calendar/event?eid=bDFrcjRvZ2JhMzkwODE3a3NkdHZrb2dwcTAgdGVzdC0yMTVAbHVja3ktcmVhY3Rvci00NDMzMDgtcjQuaWFtLmdzZXJ2aWNlYWNjb3VudC5jb20\n"
     ]
    },
    {
     "name": "stderr",
     "output_type": "stream",
     "text": [
      "C:\\Users\\heans\\AppData\\Local\\Temp\\ipykernel_22024\\3996378728.py:43: FutureWarning: Parsed string \"2024-12-17 00:00:00T17:15\" included an un-recognized timezone \"T\". Dropping unrecognized timezones is deprecated; in a future version this will raise. Instead pass the string without the timezone, then use .tz_localize to convert to a recognized timezone.\n",
      "  start_time_obj = pd.to_datetime(start_datetime_str)\n"
     ]
    },
    {
     "name": "stdout",
     "output_type": "stream",
     "text": [
      "Event created: https://www.google.com/calendar/event?eid=cGJlcHRzYWhnYzFmaTRiZDBzM2h0YXBjb3MgdGVzdC0yMTVAbHVja3ktcmVhY3Rvci00NDMzMDgtcjQuaWFtLmdzZXJ2aWNlYWNjb3VudC5jb20\n"
     ]
    },
    {
     "name": "stderr",
     "output_type": "stream",
     "text": [
      "C:\\Users\\heans\\AppData\\Local\\Temp\\ipykernel_22024\\3996378728.py:43: FutureWarning: Parsed string \"2024-12-17 00:00:00T17:30\" included an un-recognized timezone \"T\". Dropping unrecognized timezones is deprecated; in a future version this will raise. Instead pass the string without the timezone, then use .tz_localize to convert to a recognized timezone.\n",
      "  start_time_obj = pd.to_datetime(start_datetime_str)\n"
     ]
    },
    {
     "name": "stdout",
     "output_type": "stream",
     "text": [
      "Event created: https://www.google.com/calendar/event?eid=a2Fzc2VsNTlzY3ZocTFjOGxudmg0dXFuNW8gdGVzdC0yMTVAbHVja3ktcmVhY3Rvci00NDMzMDgtcjQuaWFtLmdzZXJ2aWNlYWNjb3VudC5jb20\n"
     ]
    },
    {
     "name": "stderr",
     "output_type": "stream",
     "text": [
      "C:\\Users\\heans\\AppData\\Local\\Temp\\ipykernel_22024\\3996378728.py:43: FutureWarning: Parsed string \"2024-12-17 00:00:00T18:00\" included an un-recognized timezone \"T\". Dropping unrecognized timezones is deprecated; in a future version this will raise. Instead pass the string without the timezone, then use .tz_localize to convert to a recognized timezone.\n",
      "  start_time_obj = pd.to_datetime(start_datetime_str)\n"
     ]
    },
    {
     "name": "stdout",
     "output_type": "stream",
     "text": [
      "Error creating event for row 1336: <HttpError 400 when requesting https://www.googleapis.com/calendar/v3/calendars/primary/events?alt=json returned \"The specified time range is empty.\". Details: \"[{'domain': 'calendar', 'reason': 'timeRangeEmpty', 'message': 'The specified time range is empty.', 'locationType': 'parameter', 'location': 'timeMax'}]\">\n",
      "Error creating event for row 1337: <HttpError 400 when requesting https://www.googleapis.com/calendar/v3/calendars/primary/events?alt=json returned \"The specified time range is empty.\". Details: \"[{'domain': 'calendar', 'reason': 'timeRangeEmpty', 'message': 'The specified time range is empty.', 'locationType': 'parameter', 'location': 'timeMax'}]\">\n",
      "Error creating event for row 1338: <HttpError 400 when requesting https://www.googleapis.com/calendar/v3/calendars/primary/events?alt=json returned \"The specified time range is empty.\". Details: \"[{'domain': 'calendar', 'reason': 'timeRangeEmpty', 'message': 'The specified time range is empty.', 'locationType': 'parameter', 'location': 'timeMax'}]\">\n",
      "Event created: https://www.google.com/calendar/event?eid=YmI5bDBkOWtnazNkODNqMHU5MGlhc2ZibmsgdGVzdC0yMTVAbHVja3ktcmVhY3Rvci00NDMzMDgtcjQuaWFtLmdzZXJ2aWNlYWNjb3VudC5jb20\n",
      "Event created: https://www.google.com/calendar/event?eid=aWUzN2I2OHFhMTdoajk5cGljMXQwOGMwbzQgdGVzdC0yMTVAbHVja3ktcmVhY3Rvci00NDMzMDgtcjQuaWFtLmdzZXJ2aWNlYWNjb3VudC5jb20\n",
      "Error creating event for row 1341: <HttpError 400 when requesting https://www.googleapis.com/calendar/v3/calendars/primary/events?alt=json returned \"The specified time range is empty.\". Details: \"[{'domain': 'calendar', 'reason': 'timeRangeEmpty', 'message': 'The specified time range is empty.', 'locationType': 'parameter', 'location': 'timeMax'}]\">\n"
     ]
    },
    {
     "name": "stderr",
     "output_type": "stream",
     "text": [
      "C:\\Users\\heans\\AppData\\Local\\Temp\\ipykernel_22024\\3996378728.py:43: FutureWarning: Parsed string \"2024-12-17 00:00:00T18:30\" included an un-recognized timezone \"T\". Dropping unrecognized timezones is deprecated; in a future version this will raise. Instead pass the string without the timezone, then use .tz_localize to convert to a recognized timezone.\n",
      "  start_time_obj = pd.to_datetime(start_datetime_str)\n"
     ]
    },
    {
     "name": "stdout",
     "output_type": "stream",
     "text": [
      "Event created: https://www.google.com/calendar/event?eid=OWhjcGdodWxtNnFpaDdha2syM2tsdnZvbTQgdGVzdC0yMTVAbHVja3ktcmVhY3Rvci00NDMzMDgtcjQuaWFtLmdzZXJ2aWNlYWNjb3VudC5jb20\n",
      "Error creating event for row 1343: <HttpError 400 when requesting https://www.googleapis.com/calendar/v3/calendars/primary/events?alt=json returned \"The specified time range is empty.\". Details: \"[{'domain': 'calendar', 'reason': 'timeRangeEmpty', 'message': 'The specified time range is empty.', 'locationType': 'parameter', 'location': 'timeMax'}]\">\n",
      "Error creating event for row 1344: <HttpError 400 when requesting https://www.googleapis.com/calendar/v3/calendars/primary/events?alt=json returned \"The specified time range is empty.\". Details: \"[{'domain': 'calendar', 'reason': 'timeRangeEmpty', 'message': 'The specified time range is empty.', 'locationType': 'parameter', 'location': 'timeMax'}]\">\n",
      "Error creating event for row 1345: <HttpError 400 when requesting https://www.googleapis.com/calendar/v3/calendars/primary/events?alt=json returned \"The specified time range is empty.\". Details: \"[{'domain': 'calendar', 'reason': 'timeRangeEmpty', 'message': 'The specified time range is empty.', 'locationType': 'parameter', 'location': 'timeMax'}]\">\n"
     ]
    },
    {
     "name": "stderr",
     "output_type": "stream",
     "text": [
      "C:\\Users\\heans\\AppData\\Local\\Temp\\ipykernel_22024\\3996378728.py:43: FutureWarning: Parsed string \"2024-12-17 00:00:00T19:00\" included an un-recognized timezone \"T\". Dropping unrecognized timezones is deprecated; in a future version this will raise. Instead pass the string without the timezone, then use .tz_localize to convert to a recognized timezone.\n",
      "  start_time_obj = pd.to_datetime(start_datetime_str)\n"
     ]
    },
    {
     "name": "stdout",
     "output_type": "stream",
     "text": [
      "Event created: https://www.google.com/calendar/event?eid=NWlzYmNubGc5Y3IxdGQ3ZTNkdXFxMGowdmMgdGVzdC0yMTVAbHVja3ktcmVhY3Rvci00NDMzMDgtcjQuaWFtLmdzZXJ2aWNlYWNjb3VudC5jb20\n",
      "Error creating event for row 1347: <HttpError 400 when requesting https://www.googleapis.com/calendar/v3/calendars/primary/events?alt=json returned \"The specified time range is empty.\". Details: \"[{'domain': 'calendar', 'reason': 'timeRangeEmpty', 'message': 'The specified time range is empty.', 'locationType': 'parameter', 'location': 'timeMax'}]\">\n",
      "Event created: https://www.google.com/calendar/event?eid=NGFyZjRqYzYwYzE4aHFzcTF1ZDh0aXBia2MgdGVzdC0yMTVAbHVja3ktcmVhY3Rvci00NDMzMDgtcjQuaWFtLmdzZXJ2aWNlYWNjb3VudC5jb20\n",
      "Error creating event for row 1349: <HttpError 400 when requesting https://www.googleapis.com/calendar/v3/calendars/primary/events?alt=json returned \"The specified time range is empty.\". Details: \"[{'domain': 'calendar', 'reason': 'timeRangeEmpty', 'message': 'The specified time range is empty.', 'locationType': 'parameter', 'location': 'timeMax'}]\">\n",
      "Error creating event for row 1350: <HttpError 400 when requesting https://www.googleapis.com/calendar/v3/calendars/primary/events?alt=json returned \"The specified time range is empty.\". Details: \"[{'domain': 'calendar', 'reason': 'timeRangeEmpty', 'message': 'The specified time range is empty.', 'locationType': 'parameter', 'location': 'timeMax'}]\">\n",
      "Error creating event for row 1351: <HttpError 400 when requesting https://www.googleapis.com/calendar/v3/calendars/primary/events?alt=json returned \"The specified time range is empty.\". Details: \"[{'domain': 'calendar', 'reason': 'timeRangeEmpty', 'message': 'The specified time range is empty.', 'locationType': 'parameter', 'location': 'timeMax'}]\">\n",
      "Error creating event for row 1352: <HttpError 400 when requesting https://www.googleapis.com/calendar/v3/calendars/primary/events?alt=json returned \"The specified time range is empty.\". Details: \"[{'domain': 'calendar', 'reason': 'timeRangeEmpty', 'message': 'The specified time range is empty.', 'locationType': 'parameter', 'location': 'timeMax'}]\">\n",
      "Event created: https://www.google.com/calendar/event?eid=MjMxN3ZqN3V1cTlsc245Mm1oNWtqOTBiNGsgdGVzdC0yMTVAbHVja3ktcmVhY3Rvci00NDMzMDgtcjQuaWFtLmdzZXJ2aWNlYWNjb3VudC5jb20\n",
      "Error creating event for row 1354: <HttpError 400 when requesting https://www.googleapis.com/calendar/v3/calendars/primary/events?alt=json returned \"The specified time range is empty.\". Details: \"[{'domain': 'calendar', 'reason': 'timeRangeEmpty', 'message': 'The specified time range is empty.', 'locationType': 'parameter', 'location': 'timeMax'}]\">\n",
      "Error creating event for row 1355: <HttpError 400 when requesting https://www.googleapis.com/calendar/v3/calendars/primary/events?alt=json returned \"The specified time range is empty.\". Details: \"[{'domain': 'calendar', 'reason': 'timeRangeEmpty', 'message': 'The specified time range is empty.', 'locationType': 'parameter', 'location': 'timeMax'}]\">\n",
      "Error creating event for row 1356: <HttpError 400 when requesting https://www.googleapis.com/calendar/v3/calendars/primary/events?alt=json returned \"The specified time range is empty.\". Details: \"[{'domain': 'calendar', 'reason': 'timeRangeEmpty', 'message': 'The specified time range is empty.', 'locationType': 'parameter', 'location': 'timeMax'}]\">\n"
     ]
    },
    {
     "name": "stderr",
     "output_type": "stream",
     "text": [
      "C:\\Users\\heans\\AppData\\Local\\Temp\\ipykernel_22024\\3996378728.py:43: FutureWarning: Parsed string \"2024-12-17 00:00:00T19:30\" included an un-recognized timezone \"T\". Dropping unrecognized timezones is deprecated; in a future version this will raise. Instead pass the string without the timezone, then use .tz_localize to convert to a recognized timezone.\n",
      "  start_time_obj = pd.to_datetime(start_datetime_str)\n"
     ]
    },
    {
     "name": "stdout",
     "output_type": "stream",
     "text": [
      "Event created: https://www.google.com/calendar/event?eid=N2g1MmQ5N3ViczZpZGhibTR1Nmd2aWpuOWcgdGVzdC0yMTVAbHVja3ktcmVhY3Rvci00NDMzMDgtcjQuaWFtLmdzZXJ2aWNlYWNjb3VudC5jb20\n",
      "Error creating event for row 1358: <HttpError 400 when requesting https://www.googleapis.com/calendar/v3/calendars/primary/events?alt=json returned \"The specified time range is empty.\". Details: \"[{'domain': 'calendar', 'reason': 'timeRangeEmpty', 'message': 'The specified time range is empty.', 'locationType': 'parameter', 'location': 'timeMax'}]\">\n",
      "Event created: https://www.google.com/calendar/event?eid=M3FydTFpNDg4bW9yN3JtaW81NjRqc2liYjQgdGVzdC0yMTVAbHVja3ktcmVhY3Rvci00NDMzMDgtcjQuaWFtLmdzZXJ2aWNlYWNjb3VudC5jb20\n",
      "Error creating event for row 1360: <HttpError 400 when requesting https://www.googleapis.com/calendar/v3/calendars/primary/events?alt=json returned \"The specified time range is empty.\". Details: \"[{'domain': 'calendar', 'reason': 'timeRangeEmpty', 'message': 'The specified time range is empty.', 'locationType': 'parameter', 'location': 'timeMax'}]\">\n",
      "Error creating event for row 1361: <HttpError 400 when requesting https://www.googleapis.com/calendar/v3/calendars/primary/events?alt=json returned \"The specified time range is empty.\". Details: \"[{'domain': 'calendar', 'reason': 'timeRangeEmpty', 'message': 'The specified time range is empty.', 'locationType': 'parameter', 'location': 'timeMax'}]\">\n",
      "Error creating event for row 1362: <HttpError 400 when requesting https://www.googleapis.com/calendar/v3/calendars/primary/events?alt=json returned \"The specified time range is empty.\". Details: \"[{'domain': 'calendar', 'reason': 'timeRangeEmpty', 'message': 'The specified time range is empty.', 'locationType': 'parameter', 'location': 'timeMax'}]\">\n",
      "Error creating event for row 1363: <HttpError 400 when requesting https://www.googleapis.com/calendar/v3/calendars/primary/events?alt=json returned \"The specified time range is empty.\". Details: \"[{'domain': 'calendar', 'reason': 'timeRangeEmpty', 'message': 'The specified time range is empty.', 'locationType': 'parameter', 'location': 'timeMax'}]\">\n",
      "Error creating event for row 1364: <HttpError 400 when requesting https://www.googleapis.com/calendar/v3/calendars/primary/events?alt=json returned \"The specified time range is empty.\". Details: \"[{'domain': 'calendar', 'reason': 'timeRangeEmpty', 'message': 'The specified time range is empty.', 'locationType': 'parameter', 'location': 'timeMax'}]\">\n",
      "Error creating event for row 1365: <HttpError 400 when requesting https://www.googleapis.com/calendar/v3/calendars/primary/events?alt=json returned \"The specified time range is empty.\". Details: \"[{'domain': 'calendar', 'reason': 'timeRangeEmpty', 'message': 'The specified time range is empty.', 'locationType': 'parameter', 'location': 'timeMax'}]\">\n",
      "Error creating event for row 1366: <HttpError 400 when requesting https://www.googleapis.com/calendar/v3/calendars/primary/events?alt=json returned \"The specified time range is empty.\". Details: \"[{'domain': 'calendar', 'reason': 'timeRangeEmpty', 'message': 'The specified time range is empty.', 'locationType': 'parameter', 'location': 'timeMax'}]\">\n",
      "Event created: https://www.google.com/calendar/event?eid=ZTh2dnA0aWZvY2ZrZGo4M3N2OGZ2c2JvZHMgdGVzdC0yMTVAbHVja3ktcmVhY3Rvci00NDMzMDgtcjQuaWFtLmdzZXJ2aWNlYWNjb3VudC5jb20\n"
     ]
    },
    {
     "name": "stderr",
     "output_type": "stream",
     "text": [
      "C:\\Users\\heans\\AppData\\Local\\Temp\\ipykernel_22024\\3996378728.py:43: FutureWarning: Parsed string \"2024-12-17 00:00:00T20:00\" included an un-recognized timezone \"T\". Dropping unrecognized timezones is deprecated; in a future version this will raise. Instead pass the string without the timezone, then use .tz_localize to convert to a recognized timezone.\n",
      "  start_time_obj = pd.to_datetime(start_datetime_str)\n"
     ]
    },
    {
     "name": "stdout",
     "output_type": "stream",
     "text": [
      "Error creating event for row 1368: <HttpError 400 when requesting https://www.googleapis.com/calendar/v3/calendars/primary/events?alt=json returned \"The specified time range is empty.\". Details: \"[{'domain': 'calendar', 'reason': 'timeRangeEmpty', 'message': 'The specified time range is empty.', 'locationType': 'parameter', 'location': 'timeMax'}]\">\n",
      "Error creating event for row 1369: <HttpError 400 when requesting https://www.googleapis.com/calendar/v3/calendars/primary/events?alt=json returned \"The specified time range is empty.\". Details: \"[{'domain': 'calendar', 'reason': 'timeRangeEmpty', 'message': 'The specified time range is empty.', 'locationType': 'parameter', 'location': 'timeMax'}]\">\n",
      "Error creating event for row 1370: <HttpError 400 when requesting https://www.googleapis.com/calendar/v3/calendars/primary/events?alt=json returned \"The specified time range is empty.\". Details: \"[{'domain': 'calendar', 'reason': 'timeRangeEmpty', 'message': 'The specified time range is empty.', 'locationType': 'parameter', 'location': 'timeMax'}]\">\n",
      "Error creating event for row 1371: <HttpError 400 when requesting https://www.googleapis.com/calendar/v3/calendars/primary/events?alt=json returned \"The specified time range is empty.\". Details: \"[{'domain': 'calendar', 'reason': 'timeRangeEmpty', 'message': 'The specified time range is empty.', 'locationType': 'parameter', 'location': 'timeMax'}]\">\n",
      "Error creating event for row 1372: <HttpError 400 when requesting https://www.googleapis.com/calendar/v3/calendars/primary/events?alt=json returned \"The specified time range is empty.\". Details: \"[{'domain': 'calendar', 'reason': 'timeRangeEmpty', 'message': 'The specified time range is empty.', 'locationType': 'parameter', 'location': 'timeMax'}]\">\n",
      "Error creating event for row 1373: <HttpError 400 when requesting https://www.googleapis.com/calendar/v3/calendars/primary/events?alt=json returned \"The specified time range is empty.\". Details: \"[{'domain': 'calendar', 'reason': 'timeRangeEmpty', 'message': 'The specified time range is empty.', 'locationType': 'parameter', 'location': 'timeMax'}]\">\n",
      "Error creating event for row 1374: <HttpError 400 when requesting https://www.googleapis.com/calendar/v3/calendars/primary/events?alt=json returned \"The specified time range is empty.\". Details: \"[{'domain': 'calendar', 'reason': 'timeRangeEmpty', 'message': 'The specified time range is empty.', 'locationType': 'parameter', 'location': 'timeMax'}]\">\n",
      "Error creating event for row 1375: <HttpError 400 when requesting https://www.googleapis.com/calendar/v3/calendars/primary/events?alt=json returned \"The specified time range is empty.\". Details: \"[{'domain': 'calendar', 'reason': 'timeRangeEmpty', 'message': 'The specified time range is empty.', 'locationType': 'parameter', 'location': 'timeMax'}]\">\n",
      "Error creating event for row 1376: <HttpError 400 when requesting https://www.googleapis.com/calendar/v3/calendars/primary/events?alt=json returned \"The specified time range is empty.\". Details: \"[{'domain': 'calendar', 'reason': 'timeRangeEmpty', 'message': 'The specified time range is empty.', 'locationType': 'parameter', 'location': 'timeMax'}]\">\n",
      "Error creating event for row 1377: <HttpError 400 when requesting https://www.googleapis.com/calendar/v3/calendars/primary/events?alt=json returned \"The specified time range is empty.\". Details: \"[{'domain': 'calendar', 'reason': 'timeRangeEmpty', 'message': 'The specified time range is empty.', 'locationType': 'parameter', 'location': 'timeMax'}]\">\n",
      "Error creating event for row 1378: <HttpError 400 when requesting https://www.googleapis.com/calendar/v3/calendars/primary/events?alt=json returned \"The specified time range is empty.\". Details: \"[{'domain': 'calendar', 'reason': 'timeRangeEmpty', 'message': 'The specified time range is empty.', 'locationType': 'parameter', 'location': 'timeMax'}]\">\n",
      "Error creating event for row 1379: <HttpError 400 when requesting https://www.googleapis.com/calendar/v3/calendars/primary/events?alt=json returned \"The specified time range is empty.\". Details: \"[{'domain': 'calendar', 'reason': 'timeRangeEmpty', 'message': 'The specified time range is empty.', 'locationType': 'parameter', 'location': 'timeMax'}]\">\n",
      "Error creating event for row 1380: <HttpError 400 when requesting https://www.googleapis.com/calendar/v3/calendars/primary/events?alt=json returned \"The specified time range is empty.\". Details: \"[{'domain': 'calendar', 'reason': 'timeRangeEmpty', 'message': 'The specified time range is empty.', 'locationType': 'parameter', 'location': 'timeMax'}]\">\n",
      "Error creating event for row 1381: <HttpError 400 when requesting https://www.googleapis.com/calendar/v3/calendars/primary/events?alt=json returned \"The specified time range is empty.\". Details: \"[{'domain': 'calendar', 'reason': 'timeRangeEmpty', 'message': 'The specified time range is empty.', 'locationType': 'parameter', 'location': 'timeMax'}]\">\n",
      "Error creating event for row 1382: <HttpError 400 when requesting https://www.googleapis.com/calendar/v3/calendars/primary/events?alt=json returned \"The specified time range is empty.\". Details: \"[{'domain': 'calendar', 'reason': 'timeRangeEmpty', 'message': 'The specified time range is empty.', 'locationType': 'parameter', 'location': 'timeMax'}]\">\n",
      "Error creating event for row 1383: <HttpError 400 when requesting https://www.googleapis.com/calendar/v3/calendars/primary/events?alt=json returned \"The specified time range is empty.\". Details: \"[{'domain': 'calendar', 'reason': 'timeRangeEmpty', 'message': 'The specified time range is empty.', 'locationType': 'parameter', 'location': 'timeMax'}]\">\n",
      "Error creating event for row 1384: <HttpError 400 when requesting https://www.googleapis.com/calendar/v3/calendars/primary/events?alt=json returned \"The specified time range is empty.\". Details: \"[{'domain': 'calendar', 'reason': 'timeRangeEmpty', 'message': 'The specified time range is empty.', 'locationType': 'parameter', 'location': 'timeMax'}]\">\n",
      "Event created: https://www.google.com/calendar/event?eid=czhpNmViMXE0OTMwcnVuN2U0b29nY3U1YTggdGVzdC0yMTVAbHVja3ktcmVhY3Rvci00NDMzMDgtcjQuaWFtLmdzZXJ2aWNlYWNjb3VudC5jb20\n",
      "Error creating event for row 1386: <HttpError 400 when requesting https://www.googleapis.com/calendar/v3/calendars/primary/events?alt=json returned \"The specified time range is empty.\". Details: \"[{'domain': 'calendar', 'reason': 'timeRangeEmpty', 'message': 'The specified time range is empty.', 'locationType': 'parameter', 'location': 'timeMax'}]\">\n",
      "Error creating event for row 1387: <HttpError 400 when requesting https://www.googleapis.com/calendar/v3/calendars/primary/events?alt=json returned \"The specified time range is empty.\". Details: \"[{'domain': 'calendar', 'reason': 'timeRangeEmpty', 'message': 'The specified time range is empty.', 'locationType': 'parameter', 'location': 'timeMax'}]\">\n",
      "Error creating event for row 1388: <HttpError 400 when requesting https://www.googleapis.com/calendar/v3/calendars/primary/events?alt=json returned \"The specified time range is empty.\". Details: \"[{'domain': 'calendar', 'reason': 'timeRangeEmpty', 'message': 'The specified time range is empty.', 'locationType': 'parameter', 'location': 'timeMax'}]\">\n",
      "Error creating event for row 1389: <HttpError 400 when requesting https://www.googleapis.com/calendar/v3/calendars/primary/events?alt=json returned \"The specified time range is empty.\". Details: \"[{'domain': 'calendar', 'reason': 'timeRangeEmpty', 'message': 'The specified time range is empty.', 'locationType': 'parameter', 'location': 'timeMax'}]\">\n"
     ]
    },
    {
     "name": "stderr",
     "output_type": "stream",
     "text": [
      "C:\\Users\\heans\\AppData\\Local\\Temp\\ipykernel_22024\\3996378728.py:43: FutureWarning: Parsed string \"2024-12-17 00:00:00T20:30\" included an un-recognized timezone \"T\". Dropping unrecognized timezones is deprecated; in a future version this will raise. Instead pass the string without the timezone, then use .tz_localize to convert to a recognized timezone.\n",
      "  start_time_obj = pd.to_datetime(start_datetime_str)\n"
     ]
    },
    {
     "name": "stdout",
     "output_type": "stream",
     "text": [
      "Error creating event for row 1390: <HttpError 400 when requesting https://www.googleapis.com/calendar/v3/calendars/primary/events?alt=json returned \"The specified time range is empty.\". Details: \"[{'domain': 'calendar', 'reason': 'timeRangeEmpty', 'message': 'The specified time range is empty.', 'locationType': 'parameter', 'location': 'timeMax'}]\">\n",
      "Error creating event for row 1391: <HttpError 400 when requesting https://www.googleapis.com/calendar/v3/calendars/primary/events?alt=json returned \"The specified time range is empty.\". Details: \"[{'domain': 'calendar', 'reason': 'timeRangeEmpty', 'message': 'The specified time range is empty.', 'locationType': 'parameter', 'location': 'timeMax'}]\">\n",
      "Error creating event for row 1392: <HttpError 400 when requesting https://www.googleapis.com/calendar/v3/calendars/primary/events?alt=json returned \"The specified time range is empty.\". Details: \"[{'domain': 'calendar', 'reason': 'timeRangeEmpty', 'message': 'The specified time range is empty.', 'locationType': 'parameter', 'location': 'timeMax'}]\">\n"
     ]
    },
    {
     "name": "stderr",
     "output_type": "stream",
     "text": [
      "C:\\Users\\heans\\AppData\\Local\\Temp\\ipykernel_22024\\3996378728.py:43: FutureWarning: Parsed string \"2024-12-17 00:00:00T21:00\" included an un-recognized timezone \"T\". Dropping unrecognized timezones is deprecated; in a future version this will raise. Instead pass the string without the timezone, then use .tz_localize to convert to a recognized timezone.\n",
      "  start_time_obj = pd.to_datetime(start_datetime_str)\n"
     ]
    },
    {
     "name": "stdout",
     "output_type": "stream",
     "text": [
      "Error creating event for row 1393: <HttpError 400 when requesting https://www.googleapis.com/calendar/v3/calendars/primary/events?alt=json returned \"The specified time range is empty.\". Details: \"[{'domain': 'calendar', 'reason': 'timeRangeEmpty', 'message': 'The specified time range is empty.', 'locationType': 'parameter', 'location': 'timeMax'}]\">\n",
      "Error creating event for row 1394: <HttpError 400 when requesting https://www.googleapis.com/calendar/v3/calendars/primary/events?alt=json returned \"The specified time range is empty.\". Details: \"[{'domain': 'calendar', 'reason': 'timeRangeEmpty', 'message': 'The specified time range is empty.', 'locationType': 'parameter', 'location': 'timeMax'}]\">\n",
      "Error creating event for row 1395: <HttpError 400 when requesting https://www.googleapis.com/calendar/v3/calendars/primary/events?alt=json returned \"The specified time range is empty.\". Details: \"[{'domain': 'calendar', 'reason': 'timeRangeEmpty', 'message': 'The specified time range is empty.', 'locationType': 'parameter', 'location': 'timeMax'}]\">\n"
     ]
    },
    {
     "name": "stderr",
     "output_type": "stream",
     "text": [
      "C:\\Users\\heans\\AppData\\Local\\Temp\\ipykernel_22024\\3996378728.py:43: FutureWarning: Parsed string \"2024-12-17 00:00:00T22:00\" included an un-recognized timezone \"T\". Dropping unrecognized timezones is deprecated; in a future version this will raise. Instead pass the string without the timezone, then use .tz_localize to convert to a recognized timezone.\n",
      "  start_time_obj = pd.to_datetime(start_datetime_str)\n"
     ]
    },
    {
     "name": "stdout",
     "output_type": "stream",
     "text": [
      "Error creating event for row 1396: <HttpError 400 when requesting https://www.googleapis.com/calendar/v3/calendars/primary/events?alt=json returned \"The specified time range is empty.\". Details: \"[{'domain': 'calendar', 'reason': 'timeRangeEmpty', 'message': 'The specified time range is empty.', 'locationType': 'parameter', 'location': 'timeMax'}]\">\n",
      "Error creating event for row 1397: Unknown datetime string format, unable to parse: 2024-12-17 00:00:00Tganztägig, at position 0\n",
      "Error creating event for row 1398: Unknown datetime string format, unable to parse: 2024-12-17 00:00:00Tganztägig, at position 0\n"
     ]
    },
    {
     "name": "stderr",
     "output_type": "stream",
     "text": [
      "C:\\Users\\heans\\AppData\\Local\\Temp\\ipykernel_22024\\3996378728.py:43: FutureWarning: Parsed string \"2024-12-18 00:00:00T \" included an un-recognized timezone \"T\". Dropping unrecognized timezones is deprecated; in a future version this will raise. Instead pass the string without the timezone, then use .tz_localize to convert to a recognized timezone.\n",
      "  start_time_obj = pd.to_datetime(start_datetime_str)\n"
     ]
    },
    {
     "name": "stdout",
     "output_type": "stream",
     "text": [
      "Event created: https://www.google.com/calendar/event?eid=YWgzbm5rdmpnNnJ2NXB2aGhndmUzMDg4amsgdGVzdC0yMTVAbHVja3ktcmVhY3Rvci00NDMzMDgtcjQuaWFtLmdzZXJ2aWNlYWNjb3VudC5jb20\n",
      "Event created: https://www.google.com/calendar/event?eid=czJoM3NvMHRic28xbmRsY3A0Nm9qYTUwc2sgdGVzdC0yMTVAbHVja3ktcmVhY3Rvci00NDMzMDgtcjQuaWFtLmdzZXJ2aWNlYWNjb3VudC5jb20\n"
     ]
    },
    {
     "name": "stderr",
     "output_type": "stream",
     "text": [
      "C:\\Users\\heans\\AppData\\Local\\Temp\\ipykernel_22024\\3996378728.py:43: FutureWarning: Parsed string \"2024-12-18 00:00:00T00:01\" included an un-recognized timezone \"T\". Dropping unrecognized timezones is deprecated; in a future version this will raise. Instead pass the string without the timezone, then use .tz_localize to convert to a recognized timezone.\n",
      "  start_time_obj = pd.to_datetime(start_datetime_str)\n"
     ]
    },
    {
     "name": "stdout",
     "output_type": "stream",
     "text": [
      "Error creating event for row 1401: <HttpError 400 when requesting https://www.googleapis.com/calendar/v3/calendars/primary/events?alt=json returned \"The specified time range is empty.\". Details: \"[{'domain': 'calendar', 'reason': 'timeRangeEmpty', 'message': 'The specified time range is empty.', 'locationType': 'parameter', 'location': 'timeMax'}]\">\n"
     ]
    },
    {
     "name": "stderr",
     "output_type": "stream",
     "text": [
      "C:\\Users\\heans\\AppData\\Local\\Temp\\ipykernel_22024\\3996378728.py:43: FutureWarning: Parsed string \"2024-12-18 00:00:00T07:00\" included an un-recognized timezone \"T\". Dropping unrecognized timezones is deprecated; in a future version this will raise. Instead pass the string without the timezone, then use .tz_localize to convert to a recognized timezone.\n",
      "  start_time_obj = pd.to_datetime(start_datetime_str)\n"
     ]
    },
    {
     "name": "stdout",
     "output_type": "stream",
     "text": [
      "Event created: https://www.google.com/calendar/event?eid=dTNuZjdpaWdraHR2ZHFqaWN0N3FsN3JodnMgdGVzdC0yMTVAbHVja3ktcmVhY3Rvci00NDMzMDgtcjQuaWFtLmdzZXJ2aWNlYWNjb3VudC5jb20\n"
     ]
    },
    {
     "name": "stderr",
     "output_type": "stream",
     "text": [
      "C:\\Users\\heans\\AppData\\Local\\Temp\\ipykernel_22024\\3996378728.py:43: FutureWarning: Parsed string \"2024-12-18 00:00:00T07:30\" included an un-recognized timezone \"T\". Dropping unrecognized timezones is deprecated; in a future version this will raise. Instead pass the string without the timezone, then use .tz_localize to convert to a recognized timezone.\n",
      "  start_time_obj = pd.to_datetime(start_datetime_str)\n"
     ]
    },
    {
     "name": "stdout",
     "output_type": "stream",
     "text": [
      "Event created: https://www.google.com/calendar/event?eid=N3BtMmFxZmVqYmpodDhsZGdjNmxyanJhc28gdGVzdC0yMTVAbHVja3ktcmVhY3Rvci00NDMzMDgtcjQuaWFtLmdzZXJ2aWNlYWNjb3VudC5jb20\n"
     ]
    },
    {
     "name": "stderr",
     "output_type": "stream",
     "text": [
      "C:\\Users\\heans\\AppData\\Local\\Temp\\ipykernel_22024\\3996378728.py:43: FutureWarning: Parsed string \"2024-12-18 00:00:00T08:00\" included an un-recognized timezone \"T\". Dropping unrecognized timezones is deprecated; in a future version this will raise. Instead pass the string without the timezone, then use .tz_localize to convert to a recognized timezone.\n",
      "  start_time_obj = pd.to_datetime(start_datetime_str)\n"
     ]
    },
    {
     "name": "stdout",
     "output_type": "stream",
     "text": [
      "Event created: https://www.google.com/calendar/event?eid=MWJoc2toYjlsNjYwdTBjNzgxMjM2N2I0M28gdGVzdC0yMTVAbHVja3ktcmVhY3Rvci00NDMzMDgtcjQuaWFtLmdzZXJ2aWNlYWNjb3VudC5jb20\n",
      "Event created: https://www.google.com/calendar/event?eid=dTZxNmY3ZGkyMjQ1YnU2NDBuOHBsdWNhZmMgdGVzdC0yMTVAbHVja3ktcmVhY3Rvci00NDMzMDgtcjQuaWFtLmdzZXJ2aWNlYWNjb3VudC5jb20\n",
      "Event created: https://www.google.com/calendar/event?eid=NHZsc3E4bGhrdGZxY3VvbGY2bHJiNHZsMDAgdGVzdC0yMTVAbHVja3ktcmVhY3Rvci00NDMzMDgtcjQuaWFtLmdzZXJ2aWNlYWNjb3VudC5jb20\n",
      "Error creating event for row 1407: <HttpError 400 when requesting https://www.googleapis.com/calendar/v3/calendars/primary/events?alt=json returned \"The specified time range is empty.\". Details: \"[{'domain': 'calendar', 'reason': 'timeRangeEmpty', 'message': 'The specified time range is empty.', 'locationType': 'parameter', 'location': 'timeMax'}]\">\n"
     ]
    },
    {
     "name": "stderr",
     "output_type": "stream",
     "text": [
      "C:\\Users\\heans\\AppData\\Local\\Temp\\ipykernel_22024\\3996378728.py:43: FutureWarning: Parsed string \"2024-12-18 00:00:00T09:00\" included an un-recognized timezone \"T\". Dropping unrecognized timezones is deprecated; in a future version this will raise. Instead pass the string without the timezone, then use .tz_localize to convert to a recognized timezone.\n",
      "  start_time_obj = pd.to_datetime(start_datetime_str)\n"
     ]
    },
    {
     "name": "stdout",
     "output_type": "stream",
     "text": [
      "Event created: https://www.google.com/calendar/event?eid=MWRzNGVub3YycTQzZjlkZ2d1aGR1b2MzZDggdGVzdC0yMTVAbHVja3ktcmVhY3Rvci00NDMzMDgtcjQuaWFtLmdzZXJ2aWNlYWNjb3VudC5jb20\n",
      "Event created: https://www.google.com/calendar/event?eid=NWtybml2YTRvOWdpazIwaXNqcmNlZjFjY3MgdGVzdC0yMTVAbHVja3ktcmVhY3Rvci00NDMzMDgtcjQuaWFtLmdzZXJ2aWNlYWNjb3VudC5jb20\n",
      "Error creating event for row 1410: <HttpError 400 when requesting https://www.googleapis.com/calendar/v3/calendars/primary/events?alt=json returned \"The specified time range is empty.\". Details: \"[{'domain': 'calendar', 'reason': 'timeRangeEmpty', 'message': 'The specified time range is empty.', 'locationType': 'parameter', 'location': 'timeMax'}]\">\n",
      "Event created: https://www.google.com/calendar/event?eid=aHBxaGR2MGJwOW02dDg1ZWI5YnAwMGg1aG8gdGVzdC0yMTVAbHVja3ktcmVhY3Rvci00NDMzMDgtcjQuaWFtLmdzZXJ2aWNlYWNjb3VudC5jb20\n",
      "Event created: https://www.google.com/calendar/event?eid=Y200Y3RiM3Z1YXE1bTE3ZmxsNHEyOW5zYjAgdGVzdC0yMTVAbHVja3ktcmVhY3Rvci00NDMzMDgtcjQuaWFtLmdzZXJ2aWNlYWNjb3VudC5jb20\n"
     ]
    },
    {
     "name": "stderr",
     "output_type": "stream",
     "text": [
      "C:\\Users\\heans\\AppData\\Local\\Temp\\ipykernel_22024\\3996378728.py:43: FutureWarning: Parsed string \"2024-12-18 00:00:00T09:30\" included an un-recognized timezone \"T\". Dropping unrecognized timezones is deprecated; in a future version this will raise. Instead pass the string without the timezone, then use .tz_localize to convert to a recognized timezone.\n",
      "  start_time_obj = pd.to_datetime(start_datetime_str)\n"
     ]
    },
    {
     "name": "stdout",
     "output_type": "stream",
     "text": [
      "Error creating event for row 1413: <HttpError 400 when requesting https://www.googleapis.com/calendar/v3/calendars/primary/events?alt=json returned \"The specified time range is empty.\". Details: \"[{'domain': 'calendar', 'reason': 'timeRangeEmpty', 'message': 'The specified time range is empty.', 'locationType': 'parameter', 'location': 'timeMax'}]\">\n",
      "Error creating event for row 1414: <HttpError 400 when requesting https://www.googleapis.com/calendar/v3/calendars/primary/events?alt=json returned \"The specified time range is empty.\". Details: \"[{'domain': 'calendar', 'reason': 'timeRangeEmpty', 'message': 'The specified time range is empty.', 'locationType': 'parameter', 'location': 'timeMax'}]\">\n"
     ]
    },
    {
     "name": "stderr",
     "output_type": "stream",
     "text": [
      "C:\\Users\\heans\\AppData\\Local\\Temp\\ipykernel_22024\\3996378728.py:43: FutureWarning: Parsed string \"2024-12-18 00:00:00T10:00\" included an un-recognized timezone \"T\". Dropping unrecognized timezones is deprecated; in a future version this will raise. Instead pass the string without the timezone, then use .tz_localize to convert to a recognized timezone.\n",
      "  start_time_obj = pd.to_datetime(start_datetime_str)\n"
     ]
    },
    {
     "name": "stdout",
     "output_type": "stream",
     "text": [
      "Event created: https://www.google.com/calendar/event?eid=aWZoYzJtZGFqczRnNHJyODNpZm4yNnNlcG8gdGVzdC0yMTVAbHVja3ktcmVhY3Rvci00NDMzMDgtcjQuaWFtLmdzZXJ2aWNlYWNjb3VudC5jb20\n",
      "Event created: https://www.google.com/calendar/event?eid=MGluZW9vZGwwaGxicjU0NDBxcGpjMWsyam8gdGVzdC0yMTVAbHVja3ktcmVhY3Rvci00NDMzMDgtcjQuaWFtLmdzZXJ2aWNlYWNjb3VudC5jb20\n",
      "Event created: https://www.google.com/calendar/event?eid=aTZnYXZoc2o3NXJnNWsyN205cmpmMjJ1NzAgdGVzdC0yMTVAbHVja3ktcmVhY3Rvci00NDMzMDgtcjQuaWFtLmdzZXJ2aWNlYWNjb3VudC5jb20\n",
      "Event created: https://www.google.com/calendar/event?eid=Z2k1aGFsZzIxZzBrOTZoZDY2anFuNXRoZm8gdGVzdC0yMTVAbHVja3ktcmVhY3Rvci00NDMzMDgtcjQuaWFtLmdzZXJ2aWNlYWNjb3VudC5jb20\n",
      "Event created: https://www.google.com/calendar/event?eid=cTB1OGNwYnRvNThkcmdtY2lqdG9tcG4wbXMgdGVzdC0yMTVAbHVja3ktcmVhY3Rvci00NDMzMDgtcjQuaWFtLmdzZXJ2aWNlYWNjb3VudC5jb20\n",
      "Event created: https://www.google.com/calendar/event?eid=ZTBybjNqaHExbzJwa3ZpcnA2aW5kOWlkMDggdGVzdC0yMTVAbHVja3ktcmVhY3Rvci00NDMzMDgtcjQuaWFtLmdzZXJ2aWNlYWNjb3VudC5jb20\n",
      "Event created: https://www.google.com/calendar/event?eid=OW5hdmw4Mm5wdTV2M2M0OGE4c2FqZ2ppaDggdGVzdC0yMTVAbHVja3ktcmVhY3Rvci00NDMzMDgtcjQuaWFtLmdzZXJ2aWNlYWNjb3VudC5jb20\n",
      "Event created: https://www.google.com/calendar/event?eid=N2NoOGJ0c3AycDBzb3R0ZjRuZDBlbXRnYzAgdGVzdC0yMTVAbHVja3ktcmVhY3Rvci00NDMzMDgtcjQuaWFtLmdzZXJ2aWNlYWNjb3VudC5jb20\n",
      "Event created: https://www.google.com/calendar/event?eid=a2d1bGI4aTRybGFwYWVmYnNhaXNlNWZ1NGMgdGVzdC0yMTVAbHVja3ktcmVhY3Rvci00NDMzMDgtcjQuaWFtLmdzZXJ2aWNlYWNjb3VudC5jb20\n",
      "Event created: https://www.google.com/calendar/event?eid=cGVwMzY4Mzg3MDhjYThmNG5qcDZlbHEwNWsgdGVzdC0yMTVAbHVja3ktcmVhY3Rvci00NDMzMDgtcjQuaWFtLmdzZXJ2aWNlYWNjb3VudC5jb20\n",
      "Event created: https://www.google.com/calendar/event?eid=azZsZDlwOG1jcmJqaTQzcG9lYTNpaW9vOW8gdGVzdC0yMTVAbHVja3ktcmVhY3Rvci00NDMzMDgtcjQuaWFtLmdzZXJ2aWNlYWNjb3VudC5jb20\n",
      "Event created: https://www.google.com/calendar/event?eid=aWMxY2JoamZza2d0dWYzMGY3MTJiYjUxYmsgdGVzdC0yMTVAbHVja3ktcmVhY3Rvci00NDMzMDgtcjQuaWFtLmdzZXJ2aWNlYWNjb3VudC5jb20\n",
      "Event created: https://www.google.com/calendar/event?eid=ZW5hMXBlYmNzYXFqYTZycGl2NnJvNGEwc28gdGVzdC0yMTVAbHVja3ktcmVhY3Rvci00NDMzMDgtcjQuaWFtLmdzZXJ2aWNlYWNjb3VudC5jb20\n",
      "Error creating event for row 1428: <HttpError 400 when requesting https://www.googleapis.com/calendar/v3/calendars/primary/events?alt=json returned \"The specified time range is empty.\". Details: \"[{'domain': 'calendar', 'reason': 'timeRangeEmpty', 'message': 'The specified time range is empty.', 'locationType': 'parameter', 'location': 'timeMax'}]\">\n",
      "Event created: https://www.google.com/calendar/event?eid=bW40aWRjYnNqYmE1NDNoYWFxOXZrYm50NjQgdGVzdC0yMTVAbHVja3ktcmVhY3Rvci00NDMzMDgtcjQuaWFtLmdzZXJ2aWNlYWNjb3VudC5jb20\n",
      "Event created: https://www.google.com/calendar/event?eid=cG1zYmxkZDdsNGNuYmQ0YzdqYjJsaGhlMGsgdGVzdC0yMTVAbHVja3ktcmVhY3Rvci00NDMzMDgtcjQuaWFtLmdzZXJ2aWNlYWNjb3VudC5jb20\n",
      "Event created: https://www.google.com/calendar/event?eid=MWRrbTZtdWc2c3A2bGpmOWFvOGp2c2FpbTAgdGVzdC0yMTVAbHVja3ktcmVhY3Rvci00NDMzMDgtcjQuaWFtLmdzZXJ2aWNlYWNjb3VudC5jb20\n",
      "Error creating event for row 1432: <HttpError 400 when requesting https://www.googleapis.com/calendar/v3/calendars/primary/events?alt=json returned \"The specified time range is empty.\". Details: \"[{'domain': 'calendar', 'reason': 'timeRangeEmpty', 'message': 'The specified time range is empty.', 'locationType': 'parameter', 'location': 'timeMax'}]\">\n",
      "Error creating event for row 1433: <HttpError 400 when requesting https://www.googleapis.com/calendar/v3/calendars/primary/events?alt=json returned \"The specified time range is empty.\". Details: \"[{'domain': 'calendar', 'reason': 'timeRangeEmpty', 'message': 'The specified time range is empty.', 'locationType': 'parameter', 'location': 'timeMax'}]\">\n",
      "Event created: https://www.google.com/calendar/event?eid=aWM0aWZzZGIydGpxbnFqaTZicWI0dW43ZDggdGVzdC0yMTVAbHVja3ktcmVhY3Rvci00NDMzMDgtcjQuaWFtLmdzZXJ2aWNlYWNjb3VudC5jb20\n"
     ]
    },
    {
     "name": "stderr",
     "output_type": "stream",
     "text": [
      "C:\\Users\\heans\\AppData\\Local\\Temp\\ipykernel_22024\\3996378728.py:43: FutureWarning: Parsed string \"2024-12-18 00:00:00T10:30\" included an un-recognized timezone \"T\". Dropping unrecognized timezones is deprecated; in a future version this will raise. Instead pass the string without the timezone, then use .tz_localize to convert to a recognized timezone.\n",
      "  start_time_obj = pd.to_datetime(start_datetime_str)\n"
     ]
    },
    {
     "name": "stdout",
     "output_type": "stream",
     "text": [
      "Event created: https://www.google.com/calendar/event?eid=cmRjbWkwbDc0Nmk3Nm5wbGhqbm1zc2Q2MmcgdGVzdC0yMTVAbHVja3ktcmVhY3Rvci00NDMzMDgtcjQuaWFtLmdzZXJ2aWNlYWNjb3VudC5jb20\n",
      "Error creating event for row 1436: <HttpError 400 when requesting https://www.googleapis.com/calendar/v3/calendars/primary/events?alt=json returned \"The specified time range is empty.\". Details: \"[{'domain': 'calendar', 'reason': 'timeRangeEmpty', 'message': 'The specified time range is empty.', 'locationType': 'parameter', 'location': 'timeMax'}]\">\n"
     ]
    },
    {
     "name": "stderr",
     "output_type": "stream",
     "text": [
      "C:\\Users\\heans\\AppData\\Local\\Temp\\ipykernel_22024\\3996378728.py:43: FutureWarning: Parsed string \"2024-12-18 00:00:00T11:00\" included an un-recognized timezone \"T\". Dropping unrecognized timezones is deprecated; in a future version this will raise. Instead pass the string without the timezone, then use .tz_localize to convert to a recognized timezone.\n",
      "  start_time_obj = pd.to_datetime(start_datetime_str)\n"
     ]
    },
    {
     "name": "stdout",
     "output_type": "stream",
     "text": [
      "Event created: https://www.google.com/calendar/event?eid=c25kdXZsZWcyN2l1ajJzMDh2Mjk1bDRlOTQgdGVzdC0yMTVAbHVja3ktcmVhY3Rvci00NDMzMDgtcjQuaWFtLmdzZXJ2aWNlYWNjb3VudC5jb20\n",
      "Event created: https://www.google.com/calendar/event?eid=YXZmbWQ0b3Z2N2Q0ZGc3amN0dmh1aGRqc2MgdGVzdC0yMTVAbHVja3ktcmVhY3Rvci00NDMzMDgtcjQuaWFtLmdzZXJ2aWNlYWNjb3VudC5jb20\n",
      "Event created: https://www.google.com/calendar/event?eid=aGhicXIya2djZGNtcWlnNnY2dDRoMGRrY2cgdGVzdC0yMTVAbHVja3ktcmVhY3Rvci00NDMzMDgtcjQuaWFtLmdzZXJ2aWNlYWNjb3VudC5jb20\n",
      "Event created: https://www.google.com/calendar/event?eid=bzZncm8wcmlwa3MzOGttdDdtczE1MHE4bW8gdGVzdC0yMTVAbHVja3ktcmVhY3Rvci00NDMzMDgtcjQuaWFtLmdzZXJ2aWNlYWNjb3VudC5jb20\n",
      "Event created: https://www.google.com/calendar/event?eid=aDdwYzZyOTRnN2JmbmtmY2plNjVlcGg4OTQgdGVzdC0yMTVAbHVja3ktcmVhY3Rvci00NDMzMDgtcjQuaWFtLmdzZXJ2aWNlYWNjb3VudC5jb20\n",
      "Event created: https://www.google.com/calendar/event?eid=OW4xbGNibTlqamRrNjI5b2o2a29kbDN1cnMgdGVzdC0yMTVAbHVja3ktcmVhY3Rvci00NDMzMDgtcjQuaWFtLmdzZXJ2aWNlYWNjb3VudC5jb20\n",
      "Error creating event for row 1443: <HttpError 400 when requesting https://www.googleapis.com/calendar/v3/calendars/primary/events?alt=json returned \"The specified time range is empty.\". Details: \"[{'domain': 'calendar', 'reason': 'timeRangeEmpty', 'message': 'The specified time range is empty.', 'locationType': 'parameter', 'location': 'timeMax'}]\">\n",
      "Error creating event for row 1444: <HttpError 400 when requesting https://www.googleapis.com/calendar/v3/calendars/primary/events?alt=json returned \"The specified time range is empty.\". Details: \"[{'domain': 'calendar', 'reason': 'timeRangeEmpty', 'message': 'The specified time range is empty.', 'locationType': 'parameter', 'location': 'timeMax'}]\">\n",
      "Error creating event for row 1445: <HttpError 400 when requesting https://www.googleapis.com/calendar/v3/calendars/primary/events?alt=json returned \"The specified time range is empty.\". Details: \"[{'domain': 'calendar', 'reason': 'timeRangeEmpty', 'message': 'The specified time range is empty.', 'locationType': 'parameter', 'location': 'timeMax'}]\">\n",
      "Event created: https://www.google.com/calendar/event?eid=OGJib3J2djJzNTVyZjlkOTA3M3NmOWY0bWMgdGVzdC0yMTVAbHVja3ktcmVhY3Rvci00NDMzMDgtcjQuaWFtLmdzZXJ2aWNlYWNjb3VudC5jb20\n",
      "Event created: https://www.google.com/calendar/event?eid=Mml2cDJoOTY2cGNqMGxkM2NpcWw0NWhidTQgdGVzdC0yMTVAbHVja3ktcmVhY3Rvci00NDMzMDgtcjQuaWFtLmdzZXJ2aWNlYWNjb3VudC5jb20\n",
      "Event created: https://www.google.com/calendar/event?eid=M3YwbnR0ZHF1OXI1aWlubmE0Z2g0OTUxNnMgdGVzdC0yMTVAbHVja3ktcmVhY3Rvci00NDMzMDgtcjQuaWFtLmdzZXJ2aWNlYWNjb3VudC5jb20\n",
      "Event created: https://www.google.com/calendar/event?eid=a3BncDV2bm5sdG51YWR2NjBtNWNiZ2szcjQgdGVzdC0yMTVAbHVja3ktcmVhY3Rvci00NDMzMDgtcjQuaWFtLmdzZXJ2aWNlYWNjb3VudC5jb20\n",
      "Event created: https://www.google.com/calendar/event?eid=NTIxcGo5N3AxdXBuaWlzbjlnODNwOWVzbW8gdGVzdC0yMTVAbHVja3ktcmVhY3Rvci00NDMzMDgtcjQuaWFtLmdzZXJ2aWNlYWNjb3VudC5jb20\n",
      "Error creating event for row 1451: <HttpError 400 when requesting https://www.googleapis.com/calendar/v3/calendars/primary/events?alt=json returned \"The specified time range is empty.\". Details: \"[{'domain': 'calendar', 'reason': 'timeRangeEmpty', 'message': 'The specified time range is empty.', 'locationType': 'parameter', 'location': 'timeMax'}]\">\n",
      "Error creating event for row 1452: <HttpError 400 when requesting https://www.googleapis.com/calendar/v3/calendars/primary/events?alt=json returned \"The specified time range is empty.\". Details: \"[{'domain': 'calendar', 'reason': 'timeRangeEmpty', 'message': 'The specified time range is empty.', 'locationType': 'parameter', 'location': 'timeMax'}]\">\n",
      "Error creating event for row 1453: <HttpError 400 when requesting https://www.googleapis.com/calendar/v3/calendars/primary/events?alt=json returned \"The specified time range is empty.\". Details: \"[{'domain': 'calendar', 'reason': 'timeRangeEmpty', 'message': 'The specified time range is empty.', 'locationType': 'parameter', 'location': 'timeMax'}]\">\n",
      "Event created: https://www.google.com/calendar/event?eid=Z3ExY3A5MnE4djZsazY1ZDhpbnRzajdxcmcgdGVzdC0yMTVAbHVja3ktcmVhY3Rvci00NDMzMDgtcjQuaWFtLmdzZXJ2aWNlYWNjb3VudC5jb20\n",
      "Error creating event for row 1455: <HttpError 400 when requesting https://www.googleapis.com/calendar/v3/calendars/primary/events?alt=json returned \"The specified time range is empty.\". Details: \"[{'domain': 'calendar', 'reason': 'timeRangeEmpty', 'message': 'The specified time range is empty.', 'locationType': 'parameter', 'location': 'timeMax'}]\">\n"
     ]
    },
    {
     "name": "stderr",
     "output_type": "stream",
     "text": [
      "C:\\Users\\heans\\AppData\\Local\\Temp\\ipykernel_22024\\3996378728.py:43: FutureWarning: Parsed string \"2024-12-18 00:00:00T11:30\" included an un-recognized timezone \"T\". Dropping unrecognized timezones is deprecated; in a future version this will raise. Instead pass the string without the timezone, then use .tz_localize to convert to a recognized timezone.\n",
      "  start_time_obj = pd.to_datetime(start_datetime_str)\n",
      "C:\\Users\\heans\\AppData\\Local\\Temp\\ipykernel_22024\\3996378728.py:43: FutureWarning: Parsed string \"2024-12-18 00:00:00T12:00\" included an un-recognized timezone \"T\". Dropping unrecognized timezones is deprecated; in a future version this will raise. Instead pass the string without the timezone, then use .tz_localize to convert to a recognized timezone.\n",
      "  start_time_obj = pd.to_datetime(start_datetime_str)\n"
     ]
    },
    {
     "name": "stdout",
     "output_type": "stream",
     "text": [
      "Event created: https://www.google.com/calendar/event?eid=cWJiYzRraDY5YWM5ZTBqOXIzaXU2MHBjaG8gdGVzdC0yMTVAbHVja3ktcmVhY3Rvci00NDMzMDgtcjQuaWFtLmdzZXJ2aWNlYWNjb3VudC5jb20\n",
      "Error creating event for row 1457: <HttpError 400 when requesting https://www.googleapis.com/calendar/v3/calendars/primary/events?alt=json returned \"The specified time range is empty.\". Details: \"[{'domain': 'calendar', 'reason': 'timeRangeEmpty', 'message': 'The specified time range is empty.', 'locationType': 'parameter', 'location': 'timeMax'}]\">\n",
      "Error creating event for row 1458: <HttpError 400 when requesting https://www.googleapis.com/calendar/v3/calendars/primary/events?alt=json returned \"The specified time range is empty.\". Details: \"[{'domain': 'calendar', 'reason': 'timeRangeEmpty', 'message': 'The specified time range is empty.', 'locationType': 'parameter', 'location': 'timeMax'}]\">\n",
      "Event created: https://www.google.com/calendar/event?eid=Z3Z1OTZwbGxicDBscDg2MTdmanRtb3Q5N3MgdGVzdC0yMTVAbHVja3ktcmVhY3Rvci00NDMzMDgtcjQuaWFtLmdzZXJ2aWNlYWNjb3VudC5jb20\n"
     ]
    },
    {
     "name": "stderr",
     "output_type": "stream",
     "text": [
      "C:\\Users\\heans\\AppData\\Local\\Temp\\ipykernel_22024\\3996378728.py:43: FutureWarning: Parsed string \"2024-12-18 00:00:00T12:30\" included an un-recognized timezone \"T\". Dropping unrecognized timezones is deprecated; in a future version this will raise. Instead pass the string without the timezone, then use .tz_localize to convert to a recognized timezone.\n",
      "  start_time_obj = pd.to_datetime(start_datetime_str)\n"
     ]
    },
    {
     "name": "stdout",
     "output_type": "stream",
     "text": [
      "Error creating event for row 1460: <HttpError 400 when requesting https://www.googleapis.com/calendar/v3/calendars/primary/events?alt=json returned \"The specified time range is empty.\". Details: \"[{'domain': 'calendar', 'reason': 'timeRangeEmpty', 'message': 'The specified time range is empty.', 'locationType': 'parameter', 'location': 'timeMax'}]\">\n",
      "Error creating event for row 1461: <HttpError 400 when requesting https://www.googleapis.com/calendar/v3/calendars/primary/events?alt=json returned \"The specified time range is empty.\". Details: \"[{'domain': 'calendar', 'reason': 'timeRangeEmpty', 'message': 'The specified time range is empty.', 'locationType': 'parameter', 'location': 'timeMax'}]\">\n"
     ]
    },
    {
     "name": "stderr",
     "output_type": "stream",
     "text": [
      "C:\\Users\\heans\\AppData\\Local\\Temp\\ipykernel_22024\\3996378728.py:43: FutureWarning: Parsed string \"2024-12-18 00:00:00T13:00\" included an un-recognized timezone \"T\". Dropping unrecognized timezones is deprecated; in a future version this will raise. Instead pass the string without the timezone, then use .tz_localize to convert to a recognized timezone.\n",
      "  start_time_obj = pd.to_datetime(start_datetime_str)\n"
     ]
    },
    {
     "name": "stdout",
     "output_type": "stream",
     "text": [
      "Event created: https://www.google.com/calendar/event?eid=Ymk2dHBqY2V1aGNrOGVnYTI5cDY4Mms1ZGMgdGVzdC0yMTVAbHVja3ktcmVhY3Rvci00NDMzMDgtcjQuaWFtLmdzZXJ2aWNlYWNjb3VudC5jb20\n",
      "Event created: https://www.google.com/calendar/event?eid=MmppMmEzcDVnazQwZXFtaXZrcWx2cWE1azQgdGVzdC0yMTVAbHVja3ktcmVhY3Rvci00NDMzMDgtcjQuaWFtLmdzZXJ2aWNlYWNjb3VudC5jb20\n",
      "Event created: https://www.google.com/calendar/event?eid=dGxtYm5kcjlmZDRoZmc1MzlrdG9zNm0xMzAgdGVzdC0yMTVAbHVja3ktcmVhY3Rvci00NDMzMDgtcjQuaWFtLmdzZXJ2aWNlYWNjb3VudC5jb20\n"
     ]
    },
    {
     "name": "stderr",
     "output_type": "stream",
     "text": [
      "C:\\Users\\heans\\AppData\\Local\\Temp\\ipykernel_22024\\3996378728.py:43: FutureWarning: Parsed string \"2024-12-18 00:00:00T13:30\" included an un-recognized timezone \"T\". Dropping unrecognized timezones is deprecated; in a future version this will raise. Instead pass the string without the timezone, then use .tz_localize to convert to a recognized timezone.\n",
      "  start_time_obj = pd.to_datetime(start_datetime_str)\n"
     ]
    },
    {
     "name": "stdout",
     "output_type": "stream",
     "text": [
      "Error creating event for row 1465: <HttpError 400 when requesting https://www.googleapis.com/calendar/v3/calendars/primary/events?alt=json returned \"The specified time range is empty.\". Details: \"[{'domain': 'calendar', 'reason': 'timeRangeEmpty', 'message': 'The specified time range is empty.', 'locationType': 'parameter', 'location': 'timeMax'}]\">\n"
     ]
    },
    {
     "name": "stderr",
     "output_type": "stream",
     "text": [
      "C:\\Users\\heans\\AppData\\Local\\Temp\\ipykernel_22024\\3996378728.py:43: FutureWarning: Parsed string \"2024-12-18 00:00:00T14:00\" included an un-recognized timezone \"T\". Dropping unrecognized timezones is deprecated; in a future version this will raise. Instead pass the string without the timezone, then use .tz_localize to convert to a recognized timezone.\n",
      "  start_time_obj = pd.to_datetime(start_datetime_str)\n"
     ]
    },
    {
     "name": "stdout",
     "output_type": "stream",
     "text": [
      "Event created: https://www.google.com/calendar/event?eid=bGVxanVmdDJqZWQybGE4am42bHNkcGpjNGMgdGVzdC0yMTVAbHVja3ktcmVhY3Rvci00NDMzMDgtcjQuaWFtLmdzZXJ2aWNlYWNjb3VudC5jb20\n",
      "Event created: https://www.google.com/calendar/event?eid=NGlvNGVlZnNkczB0Z3IxcjlqYXY5NjFiOGsgdGVzdC0yMTVAbHVja3ktcmVhY3Rvci00NDMzMDgtcjQuaWFtLmdzZXJ2aWNlYWNjb3VudC5jb20\n",
      "Event created: https://www.google.com/calendar/event?eid=NTE3bHQ2NzhsajkzcmRxZDl0bTBjaGM5cXMgdGVzdC0yMTVAbHVja3ktcmVhY3Rvci00NDMzMDgtcjQuaWFtLmdzZXJ2aWNlYWNjb3VudC5jb20\n",
      "Error creating event for row 1469: <HttpError 400 when requesting https://www.googleapis.com/calendar/v3/calendars/primary/events?alt=json returned \"The specified time range is empty.\". Details: \"[{'domain': 'calendar', 'reason': 'timeRangeEmpty', 'message': 'The specified time range is empty.', 'locationType': 'parameter', 'location': 'timeMax'}]\">\n",
      "Event created: https://www.google.com/calendar/event?eid=cGdlNTVtcTgxbGVxcDhtZTNndG1yZHE4MG8gdGVzdC0yMTVAbHVja3ktcmVhY3Rvci00NDMzMDgtcjQuaWFtLmdzZXJ2aWNlYWNjb3VudC5jb20\n",
      "Event created: https://www.google.com/calendar/event?eid=aWt2NGtjYXIwdGRlOHQzaGphc25qMTBoNG8gdGVzdC0yMTVAbHVja3ktcmVhY3Rvci00NDMzMDgtcjQuaWFtLmdzZXJ2aWNlYWNjb3VudC5jb20\n",
      "Event created: https://www.google.com/calendar/event?eid=NmNhOXJvZmtkZmw0YTdpbm12MGVqNTZ0ZW8gdGVzdC0yMTVAbHVja3ktcmVhY3Rvci00NDMzMDgtcjQuaWFtLmdzZXJ2aWNlYWNjb3VudC5jb20\n",
      "Event created: https://www.google.com/calendar/event?eid=MmxjYTlrdjVpODI3NGlob3ZtcWJqcmQ0MjAgdGVzdC0yMTVAbHVja3ktcmVhY3Rvci00NDMzMDgtcjQuaWFtLmdzZXJ2aWNlYWNjb3VudC5jb20\n",
      "Event created: https://www.google.com/calendar/event?eid=NGUxZWJjaW03YmZwdjNxYW02OHV0b3BsdmcgdGVzdC0yMTVAbHVja3ktcmVhY3Rvci00NDMzMDgtcjQuaWFtLmdzZXJ2aWNlYWNjb3VudC5jb20\n",
      "Event created: https://www.google.com/calendar/event?eid=MGFtbzhzdHFjamg1a2ZmMnE3anE3MnRjZDQgdGVzdC0yMTVAbHVja3ktcmVhY3Rvci00NDMzMDgtcjQuaWFtLmdzZXJ2aWNlYWNjb3VudC5jb20\n"
     ]
    },
    {
     "name": "stderr",
     "output_type": "stream",
     "text": [
      "C:\\Users\\heans\\AppData\\Local\\Temp\\ipykernel_22024\\3996378728.py:43: FutureWarning: Parsed string \"2024-12-18 00:00:00T15:00\" included an un-recognized timezone \"T\". Dropping unrecognized timezones is deprecated; in a future version this will raise. Instead pass the string without the timezone, then use .tz_localize to convert to a recognized timezone.\n",
      "  start_time_obj = pd.to_datetime(start_datetime_str)\n"
     ]
    },
    {
     "name": "stdout",
     "output_type": "stream",
     "text": [
      "Event created: https://www.google.com/calendar/event?eid=azZxaXFtbmJxODA2YjQxZGtsZjcxaXZjb2cgdGVzdC0yMTVAbHVja3ktcmVhY3Rvci00NDMzMDgtcjQuaWFtLmdzZXJ2aWNlYWNjb3VudC5jb20\n",
      "Error creating event for row 1477: <HttpError 400 when requesting https://www.googleapis.com/calendar/v3/calendars/primary/events?alt=json returned \"The specified time range is empty.\". Details: \"[{'domain': 'calendar', 'reason': 'timeRangeEmpty', 'message': 'The specified time range is empty.', 'locationType': 'parameter', 'location': 'timeMax'}]\">\n",
      "Event created: https://www.google.com/calendar/event?eid=Y3BicDF1aGluNW1yNWMzdDV1YzY4aG51bzQgdGVzdC0yMTVAbHVja3ktcmVhY3Rvci00NDMzMDgtcjQuaWFtLmdzZXJ2aWNlYWNjb3VudC5jb20\n",
      "Event created: https://www.google.com/calendar/event?eid=azltdGU0NHNuNDVjZWcwcnIwYzczYTVxNmcgdGVzdC0yMTVAbHVja3ktcmVhY3Rvci00NDMzMDgtcjQuaWFtLmdzZXJ2aWNlYWNjb3VudC5jb20\n",
      "Error creating event for row 1480: <HttpError 400 when requesting https://www.googleapis.com/calendar/v3/calendars/primary/events?alt=json returned \"The specified time range is empty.\". Details: \"[{'domain': 'calendar', 'reason': 'timeRangeEmpty', 'message': 'The specified time range is empty.', 'locationType': 'parameter', 'location': 'timeMax'}]\">\n",
      "Error creating event for row 1481: <HttpError 400 when requesting https://www.googleapis.com/calendar/v3/calendars/primary/events?alt=json returned \"The specified time range is empty.\". Details: \"[{'domain': 'calendar', 'reason': 'timeRangeEmpty', 'message': 'The specified time range is empty.', 'locationType': 'parameter', 'location': 'timeMax'}]\">\n",
      "Error creating event for row 1482: <HttpError 400 when requesting https://www.googleapis.com/calendar/v3/calendars/primary/events?alt=json returned \"The specified time range is empty.\". Details: \"[{'domain': 'calendar', 'reason': 'timeRangeEmpty', 'message': 'The specified time range is empty.', 'locationType': 'parameter', 'location': 'timeMax'}]\">\n",
      "Error creating event for row 1483: <HttpError 400 when requesting https://www.googleapis.com/calendar/v3/calendars/primary/events?alt=json returned \"The specified time range is empty.\". Details: \"[{'domain': 'calendar', 'reason': 'timeRangeEmpty', 'message': 'The specified time range is empty.', 'locationType': 'parameter', 'location': 'timeMax'}]\">\n"
     ]
    },
    {
     "name": "stderr",
     "output_type": "stream",
     "text": [
      "C:\\Users\\heans\\AppData\\Local\\Temp\\ipykernel_22024\\3996378728.py:43: FutureWarning: Parsed string \"2024-12-18 00:00:00T15:30\" included an un-recognized timezone \"T\". Dropping unrecognized timezones is deprecated; in a future version this will raise. Instead pass the string without the timezone, then use .tz_localize to convert to a recognized timezone.\n",
      "  start_time_obj = pd.to_datetime(start_datetime_str)\n",
      "C:\\Users\\heans\\AppData\\Local\\Temp\\ipykernel_22024\\3996378728.py:43: FutureWarning: Parsed string \"2024-12-18 00:00:00T16:00\" included an un-recognized timezone \"T\". Dropping unrecognized timezones is deprecated; in a future version this will raise. Instead pass the string without the timezone, then use .tz_localize to convert to a recognized timezone.\n",
      "  start_time_obj = pd.to_datetime(start_datetime_str)\n"
     ]
    },
    {
     "name": "stdout",
     "output_type": "stream",
     "text": [
      "Event created: https://www.google.com/calendar/event?eid=NDA1aDJpZDM2YjI5N2VjZmk2M2s5cnVsNzAgdGVzdC0yMTVAbHVja3ktcmVhY3Rvci00NDMzMDgtcjQuaWFtLmdzZXJ2aWNlYWNjb3VudC5jb20\n",
      "Event created: https://www.google.com/calendar/event?eid=OTFwbDRvN2NhMTAwc2h1dDM0dGNrMzl0cW8gdGVzdC0yMTVAbHVja3ktcmVhY3Rvci00NDMzMDgtcjQuaWFtLmdzZXJ2aWNlYWNjb3VudC5jb20\n",
      "Event created: https://www.google.com/calendar/event?eid=ZXFzNHNtbnRkZnQ3cmwwZGs5cTV2aTdjY2sgdGVzdC0yMTVAbHVja3ktcmVhY3Rvci00NDMzMDgtcjQuaWFtLmdzZXJ2aWNlYWNjb3VudC5jb20\n",
      "Event created: https://www.google.com/calendar/event?eid=OTYxM2Vla3JmampsZzBtZWZzcDMwZmtpZzggdGVzdC0yMTVAbHVja3ktcmVhY3Rvci00NDMzMDgtcjQuaWFtLmdzZXJ2aWNlYWNjb3VudC5jb20\n",
      "Event created: https://www.google.com/calendar/event?eid=NmYxcjgyZnBnYWg3bHBoZTI4dXNuNDVlZjggdGVzdC0yMTVAbHVja3ktcmVhY3Rvci00NDMzMDgtcjQuaWFtLmdzZXJ2aWNlYWNjb3VudC5jb20\n",
      "Error creating event for row 1489: <HttpError 400 when requesting https://www.googleapis.com/calendar/v3/calendars/primary/events?alt=json returned \"The specified time range is empty.\". Details: \"[{'domain': 'calendar', 'reason': 'timeRangeEmpty', 'message': 'The specified time range is empty.', 'locationType': 'parameter', 'location': 'timeMax'}]\">\n",
      "Error creating event for row 1490: <HttpError 400 when requesting https://www.googleapis.com/calendar/v3/calendars/primary/events?alt=json returned \"The specified time range is empty.\". Details: \"[{'domain': 'calendar', 'reason': 'timeRangeEmpty', 'message': 'The specified time range is empty.', 'locationType': 'parameter', 'location': 'timeMax'}]\">\n",
      "Event created: https://www.google.com/calendar/event?eid=NHVlbmJsYXAxdXZuazZhazlpdjhoMXJjaG8gdGVzdC0yMTVAbHVja3ktcmVhY3Rvci00NDMzMDgtcjQuaWFtLmdzZXJ2aWNlYWNjb3VudC5jb20\n",
      "Error creating event for row 1492: <HttpError 400 when requesting https://www.googleapis.com/calendar/v3/calendars/primary/events?alt=json returned \"The specified time range is empty.\". Details: \"[{'domain': 'calendar', 'reason': 'timeRangeEmpty', 'message': 'The specified time range is empty.', 'locationType': 'parameter', 'location': 'timeMax'}]\">\n"
     ]
    },
    {
     "name": "stderr",
     "output_type": "stream",
     "text": [
      "C:\\Users\\heans\\AppData\\Local\\Temp\\ipykernel_22024\\3996378728.py:43: FutureWarning: Parsed string \"2024-12-18 00:00:00T16:30\" included an un-recognized timezone \"T\". Dropping unrecognized timezones is deprecated; in a future version this will raise. Instead pass the string without the timezone, then use .tz_localize to convert to a recognized timezone.\n",
      "  start_time_obj = pd.to_datetime(start_datetime_str)\n"
     ]
    },
    {
     "name": "stdout",
     "output_type": "stream",
     "text": [
      "Event created: https://www.google.com/calendar/event?eid=ZGpkcnVkbmRtMGFrYTFydDVzMWhpbnFsdmMgdGVzdC0yMTVAbHVja3ktcmVhY3Rvci00NDMzMDgtcjQuaWFtLmdzZXJ2aWNlYWNjb3VudC5jb20\n",
      "Error creating event for row 1494: <HttpError 400 when requesting https://www.googleapis.com/calendar/v3/calendars/primary/events?alt=json returned \"The specified time range is empty.\". Details: \"[{'domain': 'calendar', 'reason': 'timeRangeEmpty', 'message': 'The specified time range is empty.', 'locationType': 'parameter', 'location': 'timeMax'}]\">\n",
      "Event created: https://www.google.com/calendar/event?eid=ZzNhOGpsNjY5djFpMTY3ZWdsamIzaXJtYjggdGVzdC0yMTVAbHVja3ktcmVhY3Rvci00NDMzMDgtcjQuaWFtLmdzZXJ2aWNlYWNjb3VudC5jb20\n",
      "Error creating event for row 1496: <HttpError 400 when requesting https://www.googleapis.com/calendar/v3/calendars/primary/events?alt=json returned \"The specified time range is empty.\". Details: \"[{'domain': 'calendar', 'reason': 'timeRangeEmpty', 'message': 'The specified time range is empty.', 'locationType': 'parameter', 'location': 'timeMax'}]\">\n"
     ]
    },
    {
     "name": "stderr",
     "output_type": "stream",
     "text": [
      "C:\\Users\\heans\\AppData\\Local\\Temp\\ipykernel_22024\\3996378728.py:43: FutureWarning: Parsed string \"2024-12-18 00:00:00T17:00\" included an un-recognized timezone \"T\". Dropping unrecognized timezones is deprecated; in a future version this will raise. Instead pass the string without the timezone, then use .tz_localize to convert to a recognized timezone.\n",
      "  start_time_obj = pd.to_datetime(start_datetime_str)\n"
     ]
    },
    {
     "name": "stdout",
     "output_type": "stream",
     "text": [
      "Event created: https://www.google.com/calendar/event?eid=cThvMjAzaHIxdnJlMXJ1c2MxMGxkdGZtbmcgdGVzdC0yMTVAbHVja3ktcmVhY3Rvci00NDMzMDgtcjQuaWFtLmdzZXJ2aWNlYWNjb3VudC5jb20\n",
      "Event created: https://www.google.com/calendar/event?eid=NnRncTQ0dmhxNzB1OTBtdnMxam1hZ3UwY2cgdGVzdC0yMTVAbHVja3ktcmVhY3Rvci00NDMzMDgtcjQuaWFtLmdzZXJ2aWNlYWNjb3VudC5jb20\n",
      "Error creating event for row 1499: <HttpError 400 when requesting https://www.googleapis.com/calendar/v3/calendars/primary/events?alt=json returned \"The specified time range is empty.\". Details: \"[{'domain': 'calendar', 'reason': 'timeRangeEmpty', 'message': 'The specified time range is empty.', 'locationType': 'parameter', 'location': 'timeMax'}]\">\n",
      "Event created: https://www.google.com/calendar/event?eid=dGF0MWxoNmo4NmVvZDk2aGhhM2pxYWJsZmMgdGVzdC0yMTVAbHVja3ktcmVhY3Rvci00NDMzMDgtcjQuaWFtLmdzZXJ2aWNlYWNjb3VudC5jb20\n",
      "Error creating event for row 1501: <HttpError 400 when requesting https://www.googleapis.com/calendar/v3/calendars/primary/events?alt=json returned \"The specified time range is empty.\". Details: \"[{'domain': 'calendar', 'reason': 'timeRangeEmpty', 'message': 'The specified time range is empty.', 'locationType': 'parameter', 'location': 'timeMax'}]\">\n",
      "Error creating event for row 1502: <HttpError 400 when requesting https://www.googleapis.com/calendar/v3/calendars/primary/events?alt=json returned \"The specified time range is empty.\". Details: \"[{'domain': 'calendar', 'reason': 'timeRangeEmpty', 'message': 'The specified time range is empty.', 'locationType': 'parameter', 'location': 'timeMax'}]\">\n"
     ]
    },
    {
     "name": "stderr",
     "output_type": "stream",
     "text": [
      "C:\\Users\\heans\\AppData\\Local\\Temp\\ipykernel_22024\\3996378728.py:43: FutureWarning: Parsed string \"2024-12-18 00:00:00T17:15\" included an un-recognized timezone \"T\". Dropping unrecognized timezones is deprecated; in a future version this will raise. Instead pass the string without the timezone, then use .tz_localize to convert to a recognized timezone.\n",
      "  start_time_obj = pd.to_datetime(start_datetime_str)\n",
      "C:\\Users\\heans\\AppData\\Local\\Temp\\ipykernel_22024\\3996378728.py:43: FutureWarning: Parsed string \"2024-12-18 00:00:00T17:30\" included an un-recognized timezone \"T\". Dropping unrecognized timezones is deprecated; in a future version this will raise. Instead pass the string without the timezone, then use .tz_localize to convert to a recognized timezone.\n",
      "  start_time_obj = pd.to_datetime(start_datetime_str)\n"
     ]
    },
    {
     "name": "stdout",
     "output_type": "stream",
     "text": [
      "Error creating event for row 1503: <HttpError 400 when requesting https://www.googleapis.com/calendar/v3/calendars/primary/events?alt=json returned \"The specified time range is empty.\". Details: \"[{'domain': 'calendar', 'reason': 'timeRangeEmpty', 'message': 'The specified time range is empty.', 'locationType': 'parameter', 'location': 'timeMax'}]\">\n",
      "Error creating event for row 1504: <HttpError 400 when requesting https://www.googleapis.com/calendar/v3/calendars/primary/events?alt=json returned \"The specified time range is empty.\". Details: \"[{'domain': 'calendar', 'reason': 'timeRangeEmpty', 'message': 'The specified time range is empty.', 'locationType': 'parameter', 'location': 'timeMax'}]\">\n",
      "Event created: https://www.google.com/calendar/event?eid=MDU2NXUyaGl0NzBjODZxOGUzcTNoNzRram8gdGVzdC0yMTVAbHVja3ktcmVhY3Rvci00NDMzMDgtcjQuaWFtLmdzZXJ2aWNlYWNjb3VudC5jb20\n",
      "Event created: https://www.google.com/calendar/event?eid=cWFodDA0cjdrY3Y3MHQ4dmdhdDg1NXFhMTAgdGVzdC0yMTVAbHVja3ktcmVhY3Rvci00NDMzMDgtcjQuaWFtLmdzZXJ2aWNlYWNjb3VudC5jb20\n",
      "Event created: https://www.google.com/calendar/event?eid=ZWw5bDNrZmpobTlzbXVjbW9qdDU5ajA5MDQgdGVzdC0yMTVAbHVja3ktcmVhY3Rvci00NDMzMDgtcjQuaWFtLmdzZXJ2aWNlYWNjb3VudC5jb20\n"
     ]
    },
    {
     "name": "stderr",
     "output_type": "stream",
     "text": [
      "C:\\Users\\heans\\AppData\\Local\\Temp\\ipykernel_22024\\3996378728.py:43: FutureWarning: Parsed string \"2024-12-18 00:00:00T18:00\" included an un-recognized timezone \"T\". Dropping unrecognized timezones is deprecated; in a future version this will raise. Instead pass the string without the timezone, then use .tz_localize to convert to a recognized timezone.\n",
      "  start_time_obj = pd.to_datetime(start_datetime_str)\n"
     ]
    },
    {
     "name": "stdout",
     "output_type": "stream",
     "text": [
      "Event created: https://www.google.com/calendar/event?eid=NmcwYWdqajkwdWFuajZpa3J1OTBwNHUxZmcgdGVzdC0yMTVAbHVja3ktcmVhY3Rvci00NDMzMDgtcjQuaWFtLmdzZXJ2aWNlYWNjb3VudC5jb20\n",
      "Error creating event for row 1509: <HttpError 400 when requesting https://www.googleapis.com/calendar/v3/calendars/primary/events?alt=json returned \"The specified time range is empty.\". Details: \"[{'domain': 'calendar', 'reason': 'timeRangeEmpty', 'message': 'The specified time range is empty.', 'locationType': 'parameter', 'location': 'timeMax'}]\">\n",
      "Error creating event for row 1510: <HttpError 400 when requesting https://www.googleapis.com/calendar/v3/calendars/primary/events?alt=json returned \"The specified time range is empty.\". Details: \"[{'domain': 'calendar', 'reason': 'timeRangeEmpty', 'message': 'The specified time range is empty.', 'locationType': 'parameter', 'location': 'timeMax'}]\">\n",
      "Error creating event for row 1511: <HttpError 400 when requesting https://www.googleapis.com/calendar/v3/calendars/primary/events?alt=json returned \"The specified time range is empty.\". Details: \"[{'domain': 'calendar', 'reason': 'timeRangeEmpty', 'message': 'The specified time range is empty.', 'locationType': 'parameter', 'location': 'timeMax'}]\">\n",
      "Error creating event for row 1512: <HttpError 400 when requesting https://www.googleapis.com/calendar/v3/calendars/primary/events?alt=json returned \"The specified time range is empty.\". Details: \"[{'domain': 'calendar', 'reason': 'timeRangeEmpty', 'message': 'The specified time range is empty.', 'locationType': 'parameter', 'location': 'timeMax'}]\">\n",
      "Event created: https://www.google.com/calendar/event?eid=aGw2OTd0YTBjM29ubmczbGg0dWUycjk1cGcgdGVzdC0yMTVAbHVja3ktcmVhY3Rvci00NDMzMDgtcjQuaWFtLmdzZXJ2aWNlYWNjb3VudC5jb20\n",
      "Event created: https://www.google.com/calendar/event?eid=MWh2MHVuZHNyNDUzb3Y3MWsyZmg0NzBpamcgdGVzdC0yMTVAbHVja3ktcmVhY3Rvci00NDMzMDgtcjQuaWFtLmdzZXJ2aWNlYWNjb3VudC5jb20\n",
      "Error creating event for row 1515: <HttpError 400 when requesting https://www.googleapis.com/calendar/v3/calendars/primary/events?alt=json returned \"The specified time range is empty.\". Details: \"[{'domain': 'calendar', 'reason': 'timeRangeEmpty', 'message': 'The specified time range is empty.', 'locationType': 'parameter', 'location': 'timeMax'}]\">\n"
     ]
    },
    {
     "name": "stderr",
     "output_type": "stream",
     "text": [
      "C:\\Users\\heans\\AppData\\Local\\Temp\\ipykernel_22024\\3996378728.py:43: FutureWarning: Parsed string \"2024-12-18 00:00:00T18:30\" included an un-recognized timezone \"T\". Dropping unrecognized timezones is deprecated; in a future version this will raise. Instead pass the string without the timezone, then use .tz_localize to convert to a recognized timezone.\n",
      "  start_time_obj = pd.to_datetime(start_datetime_str)\n"
     ]
    },
    {
     "name": "stdout",
     "output_type": "stream",
     "text": [
      "Error creating event for row 1516: <HttpError 400 when requesting https://www.googleapis.com/calendar/v3/calendars/primary/events?alt=json returned \"The specified time range is empty.\". Details: \"[{'domain': 'calendar', 'reason': 'timeRangeEmpty', 'message': 'The specified time range is empty.', 'locationType': 'parameter', 'location': 'timeMax'}]\">\n",
      "Error creating event for row 1517: <HttpError 400 when requesting https://www.googleapis.com/calendar/v3/calendars/primary/events?alt=json returned \"The specified time range is empty.\". Details: \"[{'domain': 'calendar', 'reason': 'timeRangeEmpty', 'message': 'The specified time range is empty.', 'locationType': 'parameter', 'location': 'timeMax'}]\">\n"
     ]
    },
    {
     "name": "stderr",
     "output_type": "stream",
     "text": [
      "C:\\Users\\heans\\AppData\\Local\\Temp\\ipykernel_22024\\3996378728.py:43: FutureWarning: Parsed string \"2024-12-18 00:00:00T19:00\" included an un-recognized timezone \"T\". Dropping unrecognized timezones is deprecated; in a future version this will raise. Instead pass the string without the timezone, then use .tz_localize to convert to a recognized timezone.\n",
      "  start_time_obj = pd.to_datetime(start_datetime_str)\n"
     ]
    },
    {
     "name": "stdout",
     "output_type": "stream",
     "text": [
      "Error creating event for row 1518: <HttpError 400 when requesting https://www.googleapis.com/calendar/v3/calendars/primary/events?alt=json returned \"The specified time range is empty.\". Details: \"[{'domain': 'calendar', 'reason': 'timeRangeEmpty', 'message': 'The specified time range is empty.', 'locationType': 'parameter', 'location': 'timeMax'}]\">\n",
      "Error creating event for row 1519: <HttpError 400 when requesting https://www.googleapis.com/calendar/v3/calendars/primary/events?alt=json returned \"The specified time range is empty.\". Details: \"[{'domain': 'calendar', 'reason': 'timeRangeEmpty', 'message': 'The specified time range is empty.', 'locationType': 'parameter', 'location': 'timeMax'}]\">\n",
      "Error creating event for row 1520: <HttpError 400 when requesting https://www.googleapis.com/calendar/v3/calendars/primary/events?alt=json returned \"The specified time range is empty.\". Details: \"[{'domain': 'calendar', 'reason': 'timeRangeEmpty', 'message': 'The specified time range is empty.', 'locationType': 'parameter', 'location': 'timeMax'}]\">\n",
      "Error creating event for row 1521: <HttpError 400 when requesting https://www.googleapis.com/calendar/v3/calendars/primary/events?alt=json returned \"The specified time range is empty.\". Details: \"[{'domain': 'calendar', 'reason': 'timeRangeEmpty', 'message': 'The specified time range is empty.', 'locationType': 'parameter', 'location': 'timeMax'}]\">\n"
     ]
    },
    {
     "name": "stderr",
     "output_type": "stream",
     "text": [
      "C:\\Users\\heans\\AppData\\Local\\Temp\\ipykernel_22024\\3996378728.py:43: FutureWarning: Parsed string \"2024-12-18 00:00:00T19:15\" included an un-recognized timezone \"T\". Dropping unrecognized timezones is deprecated; in a future version this will raise. Instead pass the string without the timezone, then use .tz_localize to convert to a recognized timezone.\n",
      "  start_time_obj = pd.to_datetime(start_datetime_str)\n",
      "C:\\Users\\heans\\AppData\\Local\\Temp\\ipykernel_22024\\3996378728.py:43: FutureWarning: Parsed string \"2024-12-18 00:00:00T19:30\" included an un-recognized timezone \"T\". Dropping unrecognized timezones is deprecated; in a future version this will raise. Instead pass the string without the timezone, then use .tz_localize to convert to a recognized timezone.\n",
      "  start_time_obj = pd.to_datetime(start_datetime_str)\n"
     ]
    },
    {
     "name": "stdout",
     "output_type": "stream",
     "text": [
      "Error creating event for row 1522: <HttpError 400 when requesting https://www.googleapis.com/calendar/v3/calendars/primary/events?alt=json returned \"The specified time range is empty.\". Details: \"[{'domain': 'calendar', 'reason': 'timeRangeEmpty', 'message': 'The specified time range is empty.', 'locationType': 'parameter', 'location': 'timeMax'}]\">\n",
      "Error creating event for row 1523: <HttpError 400 when requesting https://www.googleapis.com/calendar/v3/calendars/primary/events?alt=json returned \"The specified time range is empty.\". Details: \"[{'domain': 'calendar', 'reason': 'timeRangeEmpty', 'message': 'The specified time range is empty.', 'locationType': 'parameter', 'location': 'timeMax'}]\">\n",
      "Error creating event for row 1524: <HttpError 400 when requesting https://www.googleapis.com/calendar/v3/calendars/primary/events?alt=json returned \"The specified time range is empty.\". Details: \"[{'domain': 'calendar', 'reason': 'timeRangeEmpty', 'message': 'The specified time range is empty.', 'locationType': 'parameter', 'location': 'timeMax'}]\">\n",
      "Error creating event for row 1525: <HttpError 400 when requesting https://www.googleapis.com/calendar/v3/calendars/primary/events?alt=json returned \"The specified time range is empty.\". Details: \"[{'domain': 'calendar', 'reason': 'timeRangeEmpty', 'message': 'The specified time range is empty.', 'locationType': 'parameter', 'location': 'timeMax'}]\">\n",
      "Error creating event for row 1526: <HttpError 400 when requesting https://www.googleapis.com/calendar/v3/calendars/primary/events?alt=json returned \"The specified time range is empty.\". Details: \"[{'domain': 'calendar', 'reason': 'timeRangeEmpty', 'message': 'The specified time range is empty.', 'locationType': 'parameter', 'location': 'timeMax'}]\">\n",
      "Error creating event for row 1527: <HttpError 400 when requesting https://www.googleapis.com/calendar/v3/calendars/primary/events?alt=json returned \"The specified time range is empty.\". Details: \"[{'domain': 'calendar', 'reason': 'timeRangeEmpty', 'message': 'The specified time range is empty.', 'locationType': 'parameter', 'location': 'timeMax'}]\">\n",
      "Error creating event for row 1528: <HttpError 400 when requesting https://www.googleapis.com/calendar/v3/calendars/primary/events?alt=json returned \"The specified time range is empty.\". Details: \"[{'domain': 'calendar', 'reason': 'timeRangeEmpty', 'message': 'The specified time range is empty.', 'locationType': 'parameter', 'location': 'timeMax'}]\">\n",
      "Error creating event for row 1529: <HttpError 400 when requesting https://www.googleapis.com/calendar/v3/calendars/primary/events?alt=json returned \"The specified time range is empty.\". Details: \"[{'domain': 'calendar', 'reason': 'timeRangeEmpty', 'message': 'The specified time range is empty.', 'locationType': 'parameter', 'location': 'timeMax'}]\">\n",
      "Error creating event for row 1530: <HttpError 400 when requesting https://www.googleapis.com/calendar/v3/calendars/primary/events?alt=json returned \"The specified time range is empty.\". Details: \"[{'domain': 'calendar', 'reason': 'timeRangeEmpty', 'message': 'The specified time range is empty.', 'locationType': 'parameter', 'location': 'timeMax'}]\">\n",
      "Error creating event for row 1531: <HttpError 400 when requesting https://www.googleapis.com/calendar/v3/calendars/primary/events?alt=json returned \"The specified time range is empty.\". Details: \"[{'domain': 'calendar', 'reason': 'timeRangeEmpty', 'message': 'The specified time range is empty.', 'locationType': 'parameter', 'location': 'timeMax'}]\">\n",
      "Event created: https://www.google.com/calendar/event?eid=OTlpb3M5cWxkbm9qcDJkYWgyNjljaTJvcjQgdGVzdC0yMTVAbHVja3ktcmVhY3Rvci00NDMzMDgtcjQuaWFtLmdzZXJ2aWNlYWNjb3VudC5jb20\n"
     ]
    },
    {
     "name": "stderr",
     "output_type": "stream",
     "text": [
      "C:\\Users\\heans\\AppData\\Local\\Temp\\ipykernel_22024\\3996378728.py:43: FutureWarning: Parsed string \"2024-12-18 00:00:00T20:00\" included an un-recognized timezone \"T\". Dropping unrecognized timezones is deprecated; in a future version this will raise. Instead pass the string without the timezone, then use .tz_localize to convert to a recognized timezone.\n",
      "  start_time_obj = pd.to_datetime(start_datetime_str)\n"
     ]
    },
    {
     "name": "stdout",
     "output_type": "stream",
     "text": [
      "Error creating event for row 1533: <HttpError 400 when requesting https://www.googleapis.com/calendar/v3/calendars/primary/events?alt=json returned \"The specified time range is empty.\". Details: \"[{'domain': 'calendar', 'reason': 'timeRangeEmpty', 'message': 'The specified time range is empty.', 'locationType': 'parameter', 'location': 'timeMax'}]\">\n",
      "Error creating event for row 1534: <HttpError 400 when requesting https://www.googleapis.com/calendar/v3/calendars/primary/events?alt=json returned \"The specified time range is empty.\". Details: \"[{'domain': 'calendar', 'reason': 'timeRangeEmpty', 'message': 'The specified time range is empty.', 'locationType': 'parameter', 'location': 'timeMax'}]\">\n",
      "Error creating event for row 1535: <HttpError 400 when requesting https://www.googleapis.com/calendar/v3/calendars/primary/events?alt=json returned \"The specified time range is empty.\". Details: \"[{'domain': 'calendar', 'reason': 'timeRangeEmpty', 'message': 'The specified time range is empty.', 'locationType': 'parameter', 'location': 'timeMax'}]\">\n",
      "Error creating event for row 1536: <HttpError 400 when requesting https://www.googleapis.com/calendar/v3/calendars/primary/events?alt=json returned \"The specified time range is empty.\". Details: \"[{'domain': 'calendar', 'reason': 'timeRangeEmpty', 'message': 'The specified time range is empty.', 'locationType': 'parameter', 'location': 'timeMax'}]\">\n",
      "Error creating event for row 1537: <HttpError 400 when requesting https://www.googleapis.com/calendar/v3/calendars/primary/events?alt=json returned \"The specified time range is empty.\". Details: \"[{'domain': 'calendar', 'reason': 'timeRangeEmpty', 'message': 'The specified time range is empty.', 'locationType': 'parameter', 'location': 'timeMax'}]\">\n",
      "Error creating event for row 1538: <HttpError 400 when requesting https://www.googleapis.com/calendar/v3/calendars/primary/events?alt=json returned \"The specified time range is empty.\". Details: \"[{'domain': 'calendar', 'reason': 'timeRangeEmpty', 'message': 'The specified time range is empty.', 'locationType': 'parameter', 'location': 'timeMax'}]\">\n",
      "Error creating event for row 1539: <HttpError 400 when requesting https://www.googleapis.com/calendar/v3/calendars/primary/events?alt=json returned \"The specified time range is empty.\". Details: \"[{'domain': 'calendar', 'reason': 'timeRangeEmpty', 'message': 'The specified time range is empty.', 'locationType': 'parameter', 'location': 'timeMax'}]\">\n",
      "Error creating event for row 1540: <HttpError 400 when requesting https://www.googleapis.com/calendar/v3/calendars/primary/events?alt=json returned \"The specified time range is empty.\". Details: \"[{'domain': 'calendar', 'reason': 'timeRangeEmpty', 'message': 'The specified time range is empty.', 'locationType': 'parameter', 'location': 'timeMax'}]\">\n",
      "Error creating event for row 1541: <HttpError 400 when requesting https://www.googleapis.com/calendar/v3/calendars/primary/events?alt=json returned \"The specified time range is empty.\". Details: \"[{'domain': 'calendar', 'reason': 'timeRangeEmpty', 'message': 'The specified time range is empty.', 'locationType': 'parameter', 'location': 'timeMax'}]\">\n",
      "Error creating event for row 1542: <HttpError 400 when requesting https://www.googleapis.com/calendar/v3/calendars/primary/events?alt=json returned \"The specified time range is empty.\". Details: \"[{'domain': 'calendar', 'reason': 'timeRangeEmpty', 'message': 'The specified time range is empty.', 'locationType': 'parameter', 'location': 'timeMax'}]\">\n",
      "Error creating event for row 1543: <HttpError 400 when requesting https://www.googleapis.com/calendar/v3/calendars/primary/events?alt=json returned \"The specified time range is empty.\". Details: \"[{'domain': 'calendar', 'reason': 'timeRangeEmpty', 'message': 'The specified time range is empty.', 'locationType': 'parameter', 'location': 'timeMax'}]\">\n",
      "Error creating event for row 1544: <HttpError 400 when requesting https://www.googleapis.com/calendar/v3/calendars/primary/events?alt=json returned \"The specified time range is empty.\". Details: \"[{'domain': 'calendar', 'reason': 'timeRangeEmpty', 'message': 'The specified time range is empty.', 'locationType': 'parameter', 'location': 'timeMax'}]\">\n",
      "Error creating event for row 1545: <HttpError 400 when requesting https://www.googleapis.com/calendar/v3/calendars/primary/events?alt=json returned \"The specified time range is empty.\". Details: \"[{'domain': 'calendar', 'reason': 'timeRangeEmpty', 'message': 'The specified time range is empty.', 'locationType': 'parameter', 'location': 'timeMax'}]\">\n",
      "Error creating event for row 1546: <HttpError 400 when requesting https://www.googleapis.com/calendar/v3/calendars/primary/events?alt=json returned \"The specified time range is empty.\". Details: \"[{'domain': 'calendar', 'reason': 'timeRangeEmpty', 'message': 'The specified time range is empty.', 'locationType': 'parameter', 'location': 'timeMax'}]\">\n",
      "Error creating event for row 1547: <HttpError 400 when requesting https://www.googleapis.com/calendar/v3/calendars/primary/events?alt=json returned \"The specified time range is empty.\". Details: \"[{'domain': 'calendar', 'reason': 'timeRangeEmpty', 'message': 'The specified time range is empty.', 'locationType': 'parameter', 'location': 'timeMax'}]\">\n",
      "Error creating event for row 1548: <HttpError 400 when requesting https://www.googleapis.com/calendar/v3/calendars/primary/events?alt=json returned \"The specified time range is empty.\". Details: \"[{'domain': 'calendar', 'reason': 'timeRangeEmpty', 'message': 'The specified time range is empty.', 'locationType': 'parameter', 'location': 'timeMax'}]\">\n",
      "Event created: https://www.google.com/calendar/event?eid=NzVzcGE5MDM0NXB0dGgwbXI3cHV2bDRybm8gdGVzdC0yMTVAbHVja3ktcmVhY3Rvci00NDMzMDgtcjQuaWFtLmdzZXJ2aWNlYWNjb3VudC5jb20\n",
      "Error creating event for row 1550: <HttpError 400 when requesting https://www.googleapis.com/calendar/v3/calendars/primary/events?alt=json returned \"The specified time range is empty.\". Details: \"[{'domain': 'calendar', 'reason': 'timeRangeEmpty', 'message': 'The specified time range is empty.', 'locationType': 'parameter', 'location': 'timeMax'}]\">\n"
     ]
    },
    {
     "name": "stderr",
     "output_type": "stream",
     "text": [
      "C:\\Users\\heans\\AppData\\Local\\Temp\\ipykernel_22024\\3996378728.py:43: FutureWarning: Parsed string \"2024-12-18 00:00:00T20:15\" included an un-recognized timezone \"T\". Dropping unrecognized timezones is deprecated; in a future version this will raise. Instead pass the string without the timezone, then use .tz_localize to convert to a recognized timezone.\n",
      "  start_time_obj = pd.to_datetime(start_datetime_str)\n"
     ]
    },
    {
     "name": "stdout",
     "output_type": "stream",
     "text": [
      "Error creating event for row 1551: <HttpError 400 when requesting https://www.googleapis.com/calendar/v3/calendars/primary/events?alt=json returned \"The specified time range is empty.\". Details: \"[{'domain': 'calendar', 'reason': 'timeRangeEmpty', 'message': 'The specified time range is empty.', 'locationType': 'parameter', 'location': 'timeMax'}]\">\n",
      "Event created: https://www.google.com/calendar/event?eid=MHVydXZxOTcyYmszbmVqanJjczdka3RpdnMgdGVzdC0yMTVAbHVja3ktcmVhY3Rvci00NDMzMDgtcjQuaWFtLmdzZXJ2aWNlYWNjb3VudC5jb20\n",
      "Error creating event for row 1553: <HttpError 400 when requesting https://www.googleapis.com/calendar/v3/calendars/primary/events?alt=json returned \"The specified time range is empty.\". Details: \"[{'domain': 'calendar', 'reason': 'timeRangeEmpty', 'message': 'The specified time range is empty.', 'locationType': 'parameter', 'location': 'timeMax'}]\">\n"
     ]
    },
    {
     "name": "stderr",
     "output_type": "stream",
     "text": [
      "C:\\Users\\heans\\AppData\\Local\\Temp\\ipykernel_22024\\3996378728.py:43: FutureWarning: Parsed string \"2024-12-18 00:00:00T20:30\" included an un-recognized timezone \"T\". Dropping unrecognized timezones is deprecated; in a future version this will raise. Instead pass the string without the timezone, then use .tz_localize to convert to a recognized timezone.\n",
      "  start_time_obj = pd.to_datetime(start_datetime_str)\n",
      "C:\\Users\\heans\\AppData\\Local\\Temp\\ipykernel_22024\\3996378728.py:43: FutureWarning: Parsed string \"2024-12-19 00:00:00T \" included an un-recognized timezone \"T\". Dropping unrecognized timezones is deprecated; in a future version this will raise. Instead pass the string without the timezone, then use .tz_localize to convert to a recognized timezone.\n",
      "  start_time_obj = pd.to_datetime(start_datetime_str)\n"
     ]
    },
    {
     "name": "stdout",
     "output_type": "stream",
     "text": [
      "Event created: https://www.google.com/calendar/event?eid=cXI3a2pqdXQ4NzgzM2UyaWd2Z3VwNGkwMm8gdGVzdC0yMTVAbHVja3ktcmVhY3Rvci00NDMzMDgtcjQuaWFtLmdzZXJ2aWNlYWNjb3VudC5jb20\n",
      "Event created: https://www.google.com/calendar/event?eid=cWQ4a2pwOTljNmRydjYzZGg2cXRlYTVyN2cgdGVzdC0yMTVAbHVja3ktcmVhY3Rvci00NDMzMDgtcjQuaWFtLmdzZXJ2aWNlYWNjb3VudC5jb20\n"
     ]
    },
    {
     "name": "stderr",
     "output_type": "stream",
     "text": [
      "C:\\Users\\heans\\AppData\\Local\\Temp\\ipykernel_22024\\3996378728.py:43: FutureWarning: Parsed string \"2024-12-19 00:00:00T00:01\" included an un-recognized timezone \"T\". Dropping unrecognized timezones is deprecated; in a future version this will raise. Instead pass the string without the timezone, then use .tz_localize to convert to a recognized timezone.\n",
      "  start_time_obj = pd.to_datetime(start_datetime_str)\n"
     ]
    },
    {
     "name": "stdout",
     "output_type": "stream",
     "text": [
      "Error creating event for row 1556: <HttpError 400 when requesting https://www.googleapis.com/calendar/v3/calendars/primary/events?alt=json returned \"The specified time range is empty.\". Details: \"[{'domain': 'calendar', 'reason': 'timeRangeEmpty', 'message': 'The specified time range is empty.', 'locationType': 'parameter', 'location': 'timeMax'}]\">\n"
     ]
    },
    {
     "name": "stderr",
     "output_type": "stream",
     "text": [
      "C:\\Users\\heans\\AppData\\Local\\Temp\\ipykernel_22024\\3996378728.py:43: FutureWarning: Parsed string \"2024-12-19 00:00:00T09:00\" included an un-recognized timezone \"T\". Dropping unrecognized timezones is deprecated; in a future version this will raise. Instead pass the string without the timezone, then use .tz_localize to convert to a recognized timezone.\n",
      "  start_time_obj = pd.to_datetime(start_datetime_str)\n"
     ]
    },
    {
     "name": "stdout",
     "output_type": "stream",
     "text": [
      "Event created: https://www.google.com/calendar/event?eid=aTY2ZGo2cTFoMjRlcW9hc3NiNXI4Z2Zvb3MgdGVzdC0yMTVAbHVja3ktcmVhY3Rvci00NDMzMDgtcjQuaWFtLmdzZXJ2aWNlYWNjb3VudC5jb20\n",
      "Event created: https://www.google.com/calendar/event?eid=ZGV2bmhlc2NmbzRoa3BtdHFsNDNuNmQ3czggdGVzdC0yMTVAbHVja3ktcmVhY3Rvci00NDMzMDgtcjQuaWFtLmdzZXJ2aWNlYWNjb3VudC5jb20\n"
     ]
    },
    {
     "name": "stderr",
     "output_type": "stream",
     "text": [
      "C:\\Users\\heans\\AppData\\Local\\Temp\\ipykernel_22024\\3996378728.py:43: FutureWarning: Parsed string \"2024-12-19 00:00:00T10:00\" included an un-recognized timezone \"T\". Dropping unrecognized timezones is deprecated; in a future version this will raise. Instead pass the string without the timezone, then use .tz_localize to convert to a recognized timezone.\n",
      "  start_time_obj = pd.to_datetime(start_datetime_str)\n"
     ]
    },
    {
     "name": "stdout",
     "output_type": "stream",
     "text": [
      "Event created: https://www.google.com/calendar/event?eid=YXFkNmNnYzNlY3RjdWNxbzcwMWprbDFucDQgdGVzdC0yMTVAbHVja3ktcmVhY3Rvci00NDMzMDgtcjQuaWFtLmdzZXJ2aWNlYWNjb3VudC5jb20\n",
      "Event created: https://www.google.com/calendar/event?eid=Y3BxaTA0dm4xZ3FtcWptOG9wMDdtZ2hpNG8gdGVzdC0yMTVAbHVja3ktcmVhY3Rvci00NDMzMDgtcjQuaWFtLmdzZXJ2aWNlYWNjb3VudC5jb20\n",
      "Event created: https://www.google.com/calendar/event?eid=ODJqbzAwY28zOXBjajcwZjE1amtlYWc3aDAgdGVzdC0yMTVAbHVja3ktcmVhY3Rvci00NDMzMDgtcjQuaWFtLmdzZXJ2aWNlYWNjb3VudC5jb20\n"
     ]
    },
    {
     "name": "stderr",
     "output_type": "stream",
     "text": [
      "C:\\Users\\heans\\AppData\\Local\\Temp\\ipykernel_22024\\3996378728.py:43: FutureWarning: Parsed string \"2024-12-19 00:00:00T11:00\" included an un-recognized timezone \"T\". Dropping unrecognized timezones is deprecated; in a future version this will raise. Instead pass the string without the timezone, then use .tz_localize to convert to a recognized timezone.\n",
      "  start_time_obj = pd.to_datetime(start_datetime_str)\n"
     ]
    },
    {
     "name": "stdout",
     "output_type": "stream",
     "text": [
      "Event created: https://www.google.com/calendar/event?eid=dDR2cnVlN2pqNHN1b29sOXEzMGVvbjE0MjAgdGVzdC0yMTVAbHVja3ktcmVhY3Rvci00NDMzMDgtcjQuaWFtLmdzZXJ2aWNlYWNjb3VudC5jb20\n",
      "Event created: https://www.google.com/calendar/event?eid=MzMycGg2MjFmMDVlZTkzODU2bTdnM2JvaGcgdGVzdC0yMTVAbHVja3ktcmVhY3Rvci00NDMzMDgtcjQuaWFtLmdzZXJ2aWNlYWNjb3VudC5jb20\n",
      "Error creating event for row 1564: <HttpError 400 when requesting https://www.googleapis.com/calendar/v3/calendars/primary/events?alt=json returned \"The specified time range is empty.\". Details: \"[{'domain': 'calendar', 'reason': 'timeRangeEmpty', 'message': 'The specified time range is empty.', 'locationType': 'parameter', 'location': 'timeMax'}]\">\n",
      "Event created: https://www.google.com/calendar/event?eid=YW9qYzcxZ2Fkb3RlbXJudGVnYnJmaXU5OWsgdGVzdC0yMTVAbHVja3ktcmVhY3Rvci00NDMzMDgtcjQuaWFtLmdzZXJ2aWNlYWNjb3VudC5jb20\n"
     ]
    },
    {
     "name": "stderr",
     "output_type": "stream",
     "text": [
      "C:\\Users\\heans\\AppData\\Local\\Temp\\ipykernel_22024\\3996378728.py:43: FutureWarning: Parsed string \"2024-12-19 00:00:00T15:30\" included an un-recognized timezone \"T\". Dropping unrecognized timezones is deprecated; in a future version this will raise. Instead pass the string without the timezone, then use .tz_localize to convert to a recognized timezone.\n",
      "  start_time_obj = pd.to_datetime(start_datetime_str)\n"
     ]
    },
    {
     "name": "stdout",
     "output_type": "stream",
     "text": [
      "Event created: https://www.google.com/calendar/event?eid=NnZhNWp1MDlqbmVybXU5cmt2Ymg3aTJqYWcgdGVzdC0yMTVAbHVja3ktcmVhY3Rvci00NDMzMDgtcjQuaWFtLmdzZXJ2aWNlYWNjb3VudC5jb20\n"
     ]
    },
    {
     "name": "stderr",
     "output_type": "stream",
     "text": [
      "C:\\Users\\heans\\AppData\\Local\\Temp\\ipykernel_22024\\3996378728.py:43: FutureWarning: Parsed string \"2024-12-19 00:00:00T16:00\" included an un-recognized timezone \"T\". Dropping unrecognized timezones is deprecated; in a future version this will raise. Instead pass the string without the timezone, then use .tz_localize to convert to a recognized timezone.\n",
      "  start_time_obj = pd.to_datetime(start_datetime_str)\n"
     ]
    },
    {
     "name": "stdout",
     "output_type": "stream",
     "text": [
      "Event created: https://www.google.com/calendar/event?eid=aTVzMGQ1Z2dsbXUxYnNrM2ZpY20yZmJnMjggdGVzdC0yMTVAbHVja3ktcmVhY3Rvci00NDMzMDgtcjQuaWFtLmdzZXJ2aWNlYWNjb3VudC5jb20\n",
      "Error creating event for row 1568: <HttpError 400 when requesting https://www.googleapis.com/calendar/v3/calendars/primary/events?alt=json returned \"The specified time range is empty.\". Details: \"[{'domain': 'calendar', 'reason': 'timeRangeEmpty', 'message': 'The specified time range is empty.', 'locationType': 'parameter', 'location': 'timeMax'}]\">\n",
      "Event created: https://www.google.com/calendar/event?eid=ZDg5dHJvN3RlY2I2MW83anY2ZTFvMGZnMXMgdGVzdC0yMTVAbHVja3ktcmVhY3Rvci00NDMzMDgtcjQuaWFtLmdzZXJ2aWNlYWNjb3VudC5jb20\n",
      "Error creating event for row 1570: <HttpError 400 when requesting https://www.googleapis.com/calendar/v3/calendars/primary/events?alt=json returned \"The specified time range is empty.\". Details: \"[{'domain': 'calendar', 'reason': 'timeRangeEmpty', 'message': 'The specified time range is empty.', 'locationType': 'parameter', 'location': 'timeMax'}]\">\n"
     ]
    },
    {
     "name": "stderr",
     "output_type": "stream",
     "text": [
      "C:\\Users\\heans\\AppData\\Local\\Temp\\ipykernel_22024\\3996378728.py:43: FutureWarning: Parsed string \"2024-12-19 00:00:00T17:00\" included an un-recognized timezone \"T\". Dropping unrecognized timezones is deprecated; in a future version this will raise. Instead pass the string without the timezone, then use .tz_localize to convert to a recognized timezone.\n",
      "  start_time_obj = pd.to_datetime(start_datetime_str)\n"
     ]
    },
    {
     "name": "stdout",
     "output_type": "stream",
     "text": [
      "Error creating event for row 1571: <HttpError 400 when requesting https://www.googleapis.com/calendar/v3/calendars/primary/events?alt=json returned \"The specified time range is empty.\". Details: \"[{'domain': 'calendar', 'reason': 'timeRangeEmpty', 'message': 'The specified time range is empty.', 'locationType': 'parameter', 'location': 'timeMax'}]\">\n",
      "Event created: https://www.google.com/calendar/event?eid=bTBia2h2ZDd1ZHR0N2xmazRicDg2MTl0cmMgdGVzdC0yMTVAbHVja3ktcmVhY3Rvci00NDMzMDgtcjQuaWFtLmdzZXJ2aWNlYWNjb3VudC5jb20\n",
      "Error creating event for row 1573: <HttpError 400 when requesting https://www.googleapis.com/calendar/v3/calendars/primary/events?alt=json returned \"The specified time range is empty.\". Details: \"[{'domain': 'calendar', 'reason': 'timeRangeEmpty', 'message': 'The specified time range is empty.', 'locationType': 'parameter', 'location': 'timeMax'}]\">\n"
     ]
    },
    {
     "name": "stderr",
     "output_type": "stream",
     "text": [
      "C:\\Users\\heans\\AppData\\Local\\Temp\\ipykernel_22024\\3996378728.py:43: FutureWarning: Parsed string \"2024-12-19 00:00:00T18:00\" included an un-recognized timezone \"T\". Dropping unrecognized timezones is deprecated; in a future version this will raise. Instead pass the string without the timezone, then use .tz_localize to convert to a recognized timezone.\n",
      "  start_time_obj = pd.to_datetime(start_datetime_str)\n"
     ]
    },
    {
     "name": "stdout",
     "output_type": "stream",
     "text": [
      "Error creating event for row 1574: <HttpError 400 when requesting https://www.googleapis.com/calendar/v3/calendars/primary/events?alt=json returned \"The specified time range is empty.\". Details: \"[{'domain': 'calendar', 'reason': 'timeRangeEmpty', 'message': 'The specified time range is empty.', 'locationType': 'parameter', 'location': 'timeMax'}]\">\n",
      "Error creating event for row 1575: <HttpError 400 when requesting https://www.googleapis.com/calendar/v3/calendars/primary/events?alt=json returned \"The specified time range is empty.\". Details: \"[{'domain': 'calendar', 'reason': 'timeRangeEmpty', 'message': 'The specified time range is empty.', 'locationType': 'parameter', 'location': 'timeMax'}]\">\n",
      "Error creating event for row 1576: <HttpError 400 when requesting https://www.googleapis.com/calendar/v3/calendars/primary/events?alt=json returned \"The specified time range is empty.\". Details: \"[{'domain': 'calendar', 'reason': 'timeRangeEmpty', 'message': 'The specified time range is empty.', 'locationType': 'parameter', 'location': 'timeMax'}]\">\n",
      "Error creating event for row 1577: <HttpError 400 when requesting https://www.googleapis.com/calendar/v3/calendars/primary/events?alt=json returned \"The specified time range is empty.\". Details: \"[{'domain': 'calendar', 'reason': 'timeRangeEmpty', 'message': 'The specified time range is empty.', 'locationType': 'parameter', 'location': 'timeMax'}]\">\n",
      "Error creating event for row 1578: <HttpError 400 when requesting https://www.googleapis.com/calendar/v3/calendars/primary/events?alt=json returned \"The specified time range is empty.\". Details: \"[{'domain': 'calendar', 'reason': 'timeRangeEmpty', 'message': 'The specified time range is empty.', 'locationType': 'parameter', 'location': 'timeMax'}]\">\n",
      "Event created: https://www.google.com/calendar/event?eid=dHNkMHAyYW5ndm0zcWphbHB1Z3MxMjZ1czAgdGVzdC0yMTVAbHVja3ktcmVhY3Rvci00NDMzMDgtcjQuaWFtLmdzZXJ2aWNlYWNjb3VudC5jb20\n"
     ]
    },
    {
     "name": "stderr",
     "output_type": "stream",
     "text": [
      "C:\\Users\\heans\\AppData\\Local\\Temp\\ipykernel_22024\\3996378728.py:43: FutureWarning: Parsed string \"2024-12-19 00:00:00T18:30\" included an un-recognized timezone \"T\". Dropping unrecognized timezones is deprecated; in a future version this will raise. Instead pass the string without the timezone, then use .tz_localize to convert to a recognized timezone.\n",
      "  start_time_obj = pd.to_datetime(start_datetime_str)\n"
     ]
    },
    {
     "name": "stdout",
     "output_type": "stream",
     "text": [
      "Error creating event for row 1580: <HttpError 400 when requesting https://www.googleapis.com/calendar/v3/calendars/primary/events?alt=json returned \"The specified time range is empty.\". Details: \"[{'domain': 'calendar', 'reason': 'timeRangeEmpty', 'message': 'The specified time range is empty.', 'locationType': 'parameter', 'location': 'timeMax'}]\">\n",
      "Error creating event for row 1581: <HttpError 400 when requesting https://www.googleapis.com/calendar/v3/calendars/primary/events?alt=json returned \"The specified time range is empty.\". Details: \"[{'domain': 'calendar', 'reason': 'timeRangeEmpty', 'message': 'The specified time range is empty.', 'locationType': 'parameter', 'location': 'timeMax'}]\">\n"
     ]
    },
    {
     "name": "stderr",
     "output_type": "stream",
     "text": [
      "C:\\Users\\heans\\AppData\\Local\\Temp\\ipykernel_22024\\3996378728.py:43: FutureWarning: Parsed string \"2024-12-19 00:00:00T19:00\" included an un-recognized timezone \"T\". Dropping unrecognized timezones is deprecated; in a future version this will raise. Instead pass the string without the timezone, then use .tz_localize to convert to a recognized timezone.\n",
      "  start_time_obj = pd.to_datetime(start_datetime_str)\n"
     ]
    },
    {
     "name": "stdout",
     "output_type": "stream",
     "text": [
      "Event created: https://www.google.com/calendar/event?eid=bnFpb29namFhYzBkYm4waDRnbWl2cm9uNGcgdGVzdC0yMTVAbHVja3ktcmVhY3Rvci00NDMzMDgtcjQuaWFtLmdzZXJ2aWNlYWNjb3VudC5jb20\n",
      "Error creating event for row 1583: <HttpError 400 when requesting https://www.googleapis.com/calendar/v3/calendars/primary/events?alt=json returned \"The specified time range is empty.\". Details: \"[{'domain': 'calendar', 'reason': 'timeRangeEmpty', 'message': 'The specified time range is empty.', 'locationType': 'parameter', 'location': 'timeMax'}]\">\n",
      "Error creating event for row 1584: <HttpError 400 when requesting https://www.googleapis.com/calendar/v3/calendars/primary/events?alt=json returned \"The specified time range is empty.\". Details: \"[{'domain': 'calendar', 'reason': 'timeRangeEmpty', 'message': 'The specified time range is empty.', 'locationType': 'parameter', 'location': 'timeMax'}]\">\n",
      "Error creating event for row 1585: <HttpError 400 when requesting https://www.googleapis.com/calendar/v3/calendars/primary/events?alt=json returned \"The specified time range is empty.\". Details: \"[{'domain': 'calendar', 'reason': 'timeRangeEmpty', 'message': 'The specified time range is empty.', 'locationType': 'parameter', 'location': 'timeMax'}]\">\n",
      "Error creating event for row 1586: <HttpError 400 when requesting https://www.googleapis.com/calendar/v3/calendars/primary/events?alt=json returned \"The specified time range is empty.\". Details: \"[{'domain': 'calendar', 'reason': 'timeRangeEmpty', 'message': 'The specified time range is empty.', 'locationType': 'parameter', 'location': 'timeMax'}]\">\n",
      "Error creating event for row 1587: <HttpError 400 when requesting https://www.googleapis.com/calendar/v3/calendars/primary/events?alt=json returned \"The specified time range is empty.\". Details: \"[{'domain': 'calendar', 'reason': 'timeRangeEmpty', 'message': 'The specified time range is empty.', 'locationType': 'parameter', 'location': 'timeMax'}]\">\n"
     ]
    },
    {
     "name": "stderr",
     "output_type": "stream",
     "text": [
      "C:\\Users\\heans\\AppData\\Local\\Temp\\ipykernel_22024\\3996378728.py:43: FutureWarning: Parsed string \"2024-12-19 00:00:00T19:30\" included an un-recognized timezone \"T\". Dropping unrecognized timezones is deprecated; in a future version this will raise. Instead pass the string without the timezone, then use .tz_localize to convert to a recognized timezone.\n",
      "  start_time_obj = pd.to_datetime(start_datetime_str)\n"
     ]
    },
    {
     "name": "stdout",
     "output_type": "stream",
     "text": [
      "Error creating event for row 1588: <HttpError 400 when requesting https://www.googleapis.com/calendar/v3/calendars/primary/events?alt=json returned \"The specified time range is empty.\". Details: \"[{'domain': 'calendar', 'reason': 'timeRangeEmpty', 'message': 'The specified time range is empty.', 'locationType': 'parameter', 'location': 'timeMax'}]\">\n",
      "Error creating event for row 1589: <HttpError 400 when requesting https://www.googleapis.com/calendar/v3/calendars/primary/events?alt=json returned \"The specified time range is empty.\". Details: \"[{'domain': 'calendar', 'reason': 'timeRangeEmpty', 'message': 'The specified time range is empty.', 'locationType': 'parameter', 'location': 'timeMax'}]\">\n",
      "Error creating event for row 1590: <HttpError 400 when requesting https://www.googleapis.com/calendar/v3/calendars/primary/events?alt=json returned \"The specified time range is empty.\". Details: \"[{'domain': 'calendar', 'reason': 'timeRangeEmpty', 'message': 'The specified time range is empty.', 'locationType': 'parameter', 'location': 'timeMax'}]\">\n",
      "Error creating event for row 1591: <HttpError 400 when requesting https://www.googleapis.com/calendar/v3/calendars/primary/events?alt=json returned \"The specified time range is empty.\". Details: \"[{'domain': 'calendar', 'reason': 'timeRangeEmpty', 'message': 'The specified time range is empty.', 'locationType': 'parameter', 'location': 'timeMax'}]\">\n",
      "Error creating event for row 1592: <HttpError 400 when requesting https://www.googleapis.com/calendar/v3/calendars/primary/events?alt=json returned \"The specified time range is empty.\". Details: \"[{'domain': 'calendar', 'reason': 'timeRangeEmpty', 'message': 'The specified time range is empty.', 'locationType': 'parameter', 'location': 'timeMax'}]\">\n",
      "Error creating event for row 1593: <HttpError 400 when requesting https://www.googleapis.com/calendar/v3/calendars/primary/events?alt=json returned \"The specified time range is empty.\". Details: \"[{'domain': 'calendar', 'reason': 'timeRangeEmpty', 'message': 'The specified time range is empty.', 'locationType': 'parameter', 'location': 'timeMax'}]\">\n",
      "Error creating event for row 1594: <HttpError 400 when requesting https://www.googleapis.com/calendar/v3/calendars/primary/events?alt=json returned \"The specified time range is empty.\". Details: \"[{'domain': 'calendar', 'reason': 'timeRangeEmpty', 'message': 'The specified time range is empty.', 'locationType': 'parameter', 'location': 'timeMax'}]\">\n",
      "Error creating event for row 1595: <HttpError 400 when requesting https://www.googleapis.com/calendar/v3/calendars/primary/events?alt=json returned \"The specified time range is empty.\". Details: \"[{'domain': 'calendar', 'reason': 'timeRangeEmpty', 'message': 'The specified time range is empty.', 'locationType': 'parameter', 'location': 'timeMax'}]\">\n",
      "Error creating event for row 1596: <HttpError 400 when requesting https://www.googleapis.com/calendar/v3/calendars/primary/events?alt=json returned \"The specified time range is empty.\". Details: \"[{'domain': 'calendar', 'reason': 'timeRangeEmpty', 'message': 'The specified time range is empty.', 'locationType': 'parameter', 'location': 'timeMax'}]\">\n"
     ]
    },
    {
     "name": "stderr",
     "output_type": "stream",
     "text": [
      "C:\\Users\\heans\\AppData\\Local\\Temp\\ipykernel_22024\\3996378728.py:43: FutureWarning: Parsed string \"2024-12-19 00:00:00T20:00\" included an un-recognized timezone \"T\". Dropping unrecognized timezones is deprecated; in a future version this will raise. Instead pass the string without the timezone, then use .tz_localize to convert to a recognized timezone.\n",
      "  start_time_obj = pd.to_datetime(start_datetime_str)\n"
     ]
    },
    {
     "name": "stdout",
     "output_type": "stream",
     "text": [
      "Event created: https://www.google.com/calendar/event?eid=amcyMmk5NW9lNjloc2dvdGc0NDcyNWpmY2sgdGVzdC0yMTVAbHVja3ktcmVhY3Rvci00NDMzMDgtcjQuaWFtLmdzZXJ2aWNlYWNjb3VudC5jb20\n",
      "Error creating event for row 1598: <HttpError 400 when requesting https://www.googleapis.com/calendar/v3/calendars/primary/events?alt=json returned \"The specified time range is empty.\". Details: \"[{'domain': 'calendar', 'reason': 'timeRangeEmpty', 'message': 'The specified time range is empty.', 'locationType': 'parameter', 'location': 'timeMax'}]\">\n",
      "Error creating event for row 1599: <HttpError 400 when requesting https://www.googleapis.com/calendar/v3/calendars/primary/events?alt=json returned \"The specified time range is empty.\". Details: \"[{'domain': 'calendar', 'reason': 'timeRangeEmpty', 'message': 'The specified time range is empty.', 'locationType': 'parameter', 'location': 'timeMax'}]\">\n",
      "Error creating event for row 1600: <HttpError 400 when requesting https://www.googleapis.com/calendar/v3/calendars/primary/events?alt=json returned \"The specified time range is empty.\". Details: \"[{'domain': 'calendar', 'reason': 'timeRangeEmpty', 'message': 'The specified time range is empty.', 'locationType': 'parameter', 'location': 'timeMax'}]\">\n",
      "Error creating event for row 1601: <HttpError 400 when requesting https://www.googleapis.com/calendar/v3/calendars/primary/events?alt=json returned \"The specified time range is empty.\". Details: \"[{'domain': 'calendar', 'reason': 'timeRangeEmpty', 'message': 'The specified time range is empty.', 'locationType': 'parameter', 'location': 'timeMax'}]\">\n",
      "Error creating event for row 1602: <HttpError 400 when requesting https://www.googleapis.com/calendar/v3/calendars/primary/events?alt=json returned \"The specified time range is empty.\". Details: \"[{'domain': 'calendar', 'reason': 'timeRangeEmpty', 'message': 'The specified time range is empty.', 'locationType': 'parameter', 'location': 'timeMax'}]\">\n",
      "Error creating event for row 1603: <HttpError 400 when requesting https://www.googleapis.com/calendar/v3/calendars/primary/events?alt=json returned \"The specified time range is empty.\". Details: \"[{'domain': 'calendar', 'reason': 'timeRangeEmpty', 'message': 'The specified time range is empty.', 'locationType': 'parameter', 'location': 'timeMax'}]\">\n",
      "Error creating event for row 1604: <HttpError 400 when requesting https://www.googleapis.com/calendar/v3/calendars/primary/events?alt=json returned \"The specified time range is empty.\". Details: \"[{'domain': 'calendar', 'reason': 'timeRangeEmpty', 'message': 'The specified time range is empty.', 'locationType': 'parameter', 'location': 'timeMax'}]\">\n",
      "Error creating event for row 1605: <HttpError 400 when requesting https://www.googleapis.com/calendar/v3/calendars/primary/events?alt=json returned \"The specified time range is empty.\". Details: \"[{'domain': 'calendar', 'reason': 'timeRangeEmpty', 'message': 'The specified time range is empty.', 'locationType': 'parameter', 'location': 'timeMax'}]\">\n",
      "Event created: https://www.google.com/calendar/event?eid=c2QwM2E0YnZnOW8xczhhdTQ4b29lc3FvZjQgdGVzdC0yMTVAbHVja3ktcmVhY3Rvci00NDMzMDgtcjQuaWFtLmdzZXJ2aWNlYWNjb3VudC5jb20\n",
      "Error creating event for row 1607: <HttpError 400 when requesting https://www.googleapis.com/calendar/v3/calendars/primary/events?alt=json returned \"The specified time range is empty.\". Details: \"[{'domain': 'calendar', 'reason': 'timeRangeEmpty', 'message': 'The specified time range is empty.', 'locationType': 'parameter', 'location': 'timeMax'}]\">\n",
      "Error creating event for row 1608: <HttpError 400 when requesting https://www.googleapis.com/calendar/v3/calendars/primary/events?alt=json returned \"The specified time range is empty.\". Details: \"[{'domain': 'calendar', 'reason': 'timeRangeEmpty', 'message': 'The specified time range is empty.', 'locationType': 'parameter', 'location': 'timeMax'}]\">\n",
      "Error creating event for row 1609: <HttpError 400 when requesting https://www.googleapis.com/calendar/v3/calendars/primary/events?alt=json returned \"The specified time range is empty.\". Details: \"[{'domain': 'calendar', 'reason': 'timeRangeEmpty', 'message': 'The specified time range is empty.', 'locationType': 'parameter', 'location': 'timeMax'}]\">\n",
      "Error creating event for row 1610: <HttpError 400 when requesting https://www.googleapis.com/calendar/v3/calendars/primary/events?alt=json returned \"The specified time range is empty.\". Details: \"[{'domain': 'calendar', 'reason': 'timeRangeEmpty', 'message': 'The specified time range is empty.', 'locationType': 'parameter', 'location': 'timeMax'}]\">\n"
     ]
    },
    {
     "name": "stderr",
     "output_type": "stream",
     "text": [
      "C:\\Users\\heans\\AppData\\Local\\Temp\\ipykernel_22024\\3996378728.py:43: FutureWarning: Parsed string \"2024-12-19 00:00:00T20:30\" included an un-recognized timezone \"T\". Dropping unrecognized timezones is deprecated; in a future version this will raise. Instead pass the string without the timezone, then use .tz_localize to convert to a recognized timezone.\n",
      "  start_time_obj = pd.to_datetime(start_datetime_str)\n"
     ]
    },
    {
     "name": "stdout",
     "output_type": "stream",
     "text": [
      "Error creating event for row 1611: <HttpError 400 when requesting https://www.googleapis.com/calendar/v3/calendars/primary/events?alt=json returned \"The specified time range is empty.\". Details: \"[{'domain': 'calendar', 'reason': 'timeRangeEmpty', 'message': 'The specified time range is empty.', 'locationType': 'parameter', 'location': 'timeMax'}]\">\n"
     ]
    },
    {
     "name": "stderr",
     "output_type": "stream",
     "text": [
      "C:\\Users\\heans\\AppData\\Local\\Temp\\ipykernel_22024\\3996378728.py:43: FutureWarning: Parsed string \"2024-12-20 00:00:00T09:00\" included an un-recognized timezone \"T\". Dropping unrecognized timezones is deprecated; in a future version this will raise. Instead pass the string without the timezone, then use .tz_localize to convert to a recognized timezone.\n",
      "  start_time_obj = pd.to_datetime(start_datetime_str)\n"
     ]
    },
    {
     "name": "stdout",
     "output_type": "stream",
     "text": [
      "Event created: https://www.google.com/calendar/event?eid=b3VtYmpxOGQwMTRjZDY4a3Q3anYxa2ZnNmMgdGVzdC0yMTVAbHVja3ktcmVhY3Rvci00NDMzMDgtcjQuaWFtLmdzZXJ2aWNlYWNjb3VudC5jb20\n",
      "Event created: https://www.google.com/calendar/event?eid=bm0zOWZxOGFwZGVrOGEybmJocTJlZDk3ZWcgdGVzdC0yMTVAbHVja3ktcmVhY3Rvci00NDMzMDgtcjQuaWFtLmdzZXJ2aWNlYWNjb3VudC5jb20\n"
     ]
    },
    {
     "name": "stderr",
     "output_type": "stream",
     "text": [
      "C:\\Users\\heans\\AppData\\Local\\Temp\\ipykernel_22024\\3996378728.py:43: FutureWarning: Parsed string \"2024-12-20 00:00:00T10:00\" included an un-recognized timezone \"T\". Dropping unrecognized timezones is deprecated; in a future version this will raise. Instead pass the string without the timezone, then use .tz_localize to convert to a recognized timezone.\n",
      "  start_time_obj = pd.to_datetime(start_datetime_str)\n"
     ]
    },
    {
     "name": "stdout",
     "output_type": "stream",
     "text": [
      "Event created: https://www.google.com/calendar/event?eid=M2MwOHI4aTh1dDUyaGdrM3NqY2hscDFrNWMgdGVzdC0yMTVAbHVja3ktcmVhY3Rvci00NDMzMDgtcjQuaWFtLmdzZXJ2aWNlYWNjb3VudC5jb20\n",
      "Event created: https://www.google.com/calendar/event?eid=ZThxdW43OTRlOGNqZGxscGtjMHRzcDNramsgdGVzdC0yMTVAbHVja3ktcmVhY3Rvci00NDMzMDgtcjQuaWFtLmdzZXJ2aWNlYWNjb3VudC5jb20\n",
      "Event created: https://www.google.com/calendar/event?eid=NHJwYnFtNjU1cDlkcHY3OHRwNGRpZ28xMmMgdGVzdC0yMTVAbHVja3ktcmVhY3Rvci00NDMzMDgtcjQuaWFtLmdzZXJ2aWNlYWNjb3VudC5jb20\n"
     ]
    },
    {
     "name": "stderr",
     "output_type": "stream",
     "text": [
      "C:\\Users\\heans\\AppData\\Local\\Temp\\ipykernel_22024\\3996378728.py:43: FutureWarning: Parsed string \"2024-12-20 00:00:00T11:00\" included an un-recognized timezone \"T\". Dropping unrecognized timezones is deprecated; in a future version this will raise. Instead pass the string without the timezone, then use .tz_localize to convert to a recognized timezone.\n",
      "  start_time_obj = pd.to_datetime(start_datetime_str)\n"
     ]
    },
    {
     "name": "stdout",
     "output_type": "stream",
     "text": [
      "Event created: https://www.google.com/calendar/event?eid=djdvdGYzM2diMzNubjA4ZzQ5YjRja2FzNDAgdGVzdC0yMTVAbHVja3ktcmVhY3Rvci00NDMzMDgtcjQuaWFtLmdzZXJ2aWNlYWNjb3VudC5jb20\n",
      "Event created: https://www.google.com/calendar/event?eid=bW1hOWtqMWNhM2gzOGxqZzJkbTV1YWgzYzQgdGVzdC0yMTVAbHVja3ktcmVhY3Rvci00NDMzMDgtcjQuaWFtLmdzZXJ2aWNlYWNjb3VudC5jb20\n",
      "Event created: https://www.google.com/calendar/event?eid=MG91NmNjaDZtZW8xZ3Roc283ZnY3bjdhdjggdGVzdC0yMTVAbHVja3ktcmVhY3Rvci00NDMzMDgtcjQuaWFtLmdzZXJ2aWNlYWNjb3VudC5jb20\n",
      "Event created: https://www.google.com/calendar/event?eid=YzNwY2s5NXRpN2hsMzU2aGN2NW9uYXI2dXMgdGVzdC0yMTVAbHVja3ktcmVhY3Rvci00NDMzMDgtcjQuaWFtLmdzZXJ2aWNlYWNjb3VudC5jb20\n",
      "Event created: https://www.google.com/calendar/event?eid=OTNiOWVyaTJtMGpwam5uMzNpZDhvcW5jbzQgdGVzdC0yMTVAbHVja3ktcmVhY3Rvci00NDMzMDgtcjQuaWFtLmdzZXJ2aWNlYWNjb3VudC5jb20\n",
      "Event created: https://www.google.com/calendar/event?eid=dXJidjJjbGQ5Y2V1dHRwMjV2OHFlMTZuZ3MgdGVzdC0yMTVAbHVja3ktcmVhY3Rvci00NDMzMDgtcjQuaWFtLmdzZXJ2aWNlYWNjb3VudC5jb20\n",
      "Event created: https://www.google.com/calendar/event?eid=cjQyZmZpbWl1NjFnODVzZ2xhMW5xcW1qY2sgdGVzdC0yMTVAbHVja3ktcmVhY3Rvci00NDMzMDgtcjQuaWFtLmdzZXJ2aWNlYWNjb3VudC5jb20\n",
      "Event created: https://www.google.com/calendar/event?eid=aTcxZDhqNnVybnE0Yms3dDg2YW5hM2VpdGcgdGVzdC0yMTVAbHVja3ktcmVhY3Rvci00NDMzMDgtcjQuaWFtLmdzZXJ2aWNlYWNjb3VudC5jb20\n",
      "Event created: https://www.google.com/calendar/event?eid=ZWZyb2lvcmhzNDd0YzlsaXN1b25uNmQ4dDAgdGVzdC0yMTVAbHVja3ktcmVhY3Rvci00NDMzMDgtcjQuaWFtLmdzZXJ2aWNlYWNjb3VudC5jb20\n"
     ]
    },
    {
     "name": "stderr",
     "output_type": "stream",
     "text": [
      "C:\\Users\\heans\\AppData\\Local\\Temp\\ipykernel_22024\\3996378728.py:43: FutureWarning: Parsed string \"2024-12-20 00:00:00T14:00\" included an un-recognized timezone \"T\". Dropping unrecognized timezones is deprecated; in a future version this will raise. Instead pass the string without the timezone, then use .tz_localize to convert to a recognized timezone.\n",
      "  start_time_obj = pd.to_datetime(start_datetime_str)\n"
     ]
    },
    {
     "name": "stdout",
     "output_type": "stream",
     "text": [
      "Error creating event for row 1626: <HttpError 400 when requesting https://www.googleapis.com/calendar/v3/calendars/primary/events?alt=json returned \"The specified time range is empty.\". Details: \"[{'domain': 'calendar', 'reason': 'timeRangeEmpty', 'message': 'The specified time range is empty.', 'locationType': 'parameter', 'location': 'timeMax'}]\">\n"
     ]
    },
    {
     "name": "stderr",
     "output_type": "stream",
     "text": [
      "C:\\Users\\heans\\AppData\\Local\\Temp\\ipykernel_22024\\3996378728.py:43: FutureWarning: Parsed string \"2024-12-20 00:00:00T15:30\" included an un-recognized timezone \"T\". Dropping unrecognized timezones is deprecated; in a future version this will raise. Instead pass the string without the timezone, then use .tz_localize to convert to a recognized timezone.\n",
      "  start_time_obj = pd.to_datetime(start_datetime_str)\n"
     ]
    },
    {
     "name": "stdout",
     "output_type": "stream",
     "text": [
      "Event created: https://www.google.com/calendar/event?eid=amllNGw4YnVsYXU1ajVuNTR1Y21tbmQwNm8gdGVzdC0yMTVAbHVja3ktcmVhY3Rvci00NDMzMDgtcjQuaWFtLmdzZXJ2aWNlYWNjb3VudC5jb20\n"
     ]
    },
    {
     "name": "stderr",
     "output_type": "stream",
     "text": [
      "C:\\Users\\heans\\AppData\\Local\\Temp\\ipykernel_22024\\3996378728.py:43: FutureWarning: Parsed string \"2024-12-20 00:00:00T16:00\" included an un-recognized timezone \"T\". Dropping unrecognized timezones is deprecated; in a future version this will raise. Instead pass the string without the timezone, then use .tz_localize to convert to a recognized timezone.\n",
      "  start_time_obj = pd.to_datetime(start_datetime_str)\n"
     ]
    },
    {
     "name": "stdout",
     "output_type": "stream",
     "text": [
      "Event created: https://www.google.com/calendar/event?eid=cXB2Z2o2ZWU2MjRob3FjOTk1Y2doZzZuZTggdGVzdC0yMTVAbHVja3ktcmVhY3Rvci00NDMzMDgtcjQuaWFtLmdzZXJ2aWNlYWNjb3VudC5jb20\n",
      "Error creating event for row 1629: <HttpError 400 when requesting https://www.googleapis.com/calendar/v3/calendars/primary/events?alt=json returned \"The specified time range is empty.\". Details: \"[{'domain': 'calendar', 'reason': 'timeRangeEmpty', 'message': 'The specified time range is empty.', 'locationType': 'parameter', 'location': 'timeMax'}]\">\n"
     ]
    },
    {
     "name": "stderr",
     "output_type": "stream",
     "text": [
      "C:\\Users\\heans\\AppData\\Local\\Temp\\ipykernel_22024\\3996378728.py:43: FutureWarning: Parsed string \"2024-12-20 00:00:00T17:00\" included an un-recognized timezone \"T\". Dropping unrecognized timezones is deprecated; in a future version this will raise. Instead pass the string without the timezone, then use .tz_localize to convert to a recognized timezone.\n",
      "  start_time_obj = pd.to_datetime(start_datetime_str)\n"
     ]
    },
    {
     "name": "stdout",
     "output_type": "stream",
     "text": [
      "Event created: https://www.google.com/calendar/event?eid=djlqMWprdjB0aHZlNzBmcm5jZWY3Mmc3YTAgdGVzdC0yMTVAbHVja3ktcmVhY3Rvci00NDMzMDgtcjQuaWFtLmdzZXJ2aWNlYWNjb3VudC5jb20\n",
      "Event created: https://www.google.com/calendar/event?eid=cXFuYjVydGZ1a2RobWVuNGlxY201Y24waDAgdGVzdC0yMTVAbHVja3ktcmVhY3Rvci00NDMzMDgtcjQuaWFtLmdzZXJ2aWNlYWNjb3VudC5jb20\n",
      "Error creating event for row 1632: <HttpError 400 when requesting https://www.googleapis.com/calendar/v3/calendars/primary/events?alt=json returned \"The specified time range is empty.\". Details: \"[{'domain': 'calendar', 'reason': 'timeRangeEmpty', 'message': 'The specified time range is empty.', 'locationType': 'parameter', 'location': 'timeMax'}]\">\n"
     ]
    },
    {
     "name": "stderr",
     "output_type": "stream",
     "text": [
      "C:\\Users\\heans\\AppData\\Local\\Temp\\ipykernel_22024\\3996378728.py:43: FutureWarning: Parsed string \"2024-12-20 00:00:00T18:00\" included an un-recognized timezone \"T\". Dropping unrecognized timezones is deprecated; in a future version this will raise. Instead pass the string without the timezone, then use .tz_localize to convert to a recognized timezone.\n",
      "  start_time_obj = pd.to_datetime(start_datetime_str)\n"
     ]
    },
    {
     "name": "stdout",
     "output_type": "stream",
     "text": [
      "Error creating event for row 1633: <HttpError 400 when requesting https://www.googleapis.com/calendar/v3/calendars/primary/events?alt=json returned \"The specified time range is empty.\". Details: \"[{'domain': 'calendar', 'reason': 'timeRangeEmpty', 'message': 'The specified time range is empty.', 'locationType': 'parameter', 'location': 'timeMax'}]\">\n",
      "Error creating event for row 1634: <HttpError 400 when requesting https://www.googleapis.com/calendar/v3/calendars/primary/events?alt=json returned \"The specified time range is empty.\". Details: \"[{'domain': 'calendar', 'reason': 'timeRangeEmpty', 'message': 'The specified time range is empty.', 'locationType': 'parameter', 'location': 'timeMax'}]\">\n"
     ]
    },
    {
     "name": "stderr",
     "output_type": "stream",
     "text": [
      "C:\\Users\\heans\\AppData\\Local\\Temp\\ipykernel_22024\\3996378728.py:43: FutureWarning: Parsed string \"2024-12-20 00:00:00T19:00\" included an un-recognized timezone \"T\". Dropping unrecognized timezones is deprecated; in a future version this will raise. Instead pass the string without the timezone, then use .tz_localize to convert to a recognized timezone.\n",
      "  start_time_obj = pd.to_datetime(start_datetime_str)\n"
     ]
    },
    {
     "name": "stdout",
     "output_type": "stream",
     "text": [
      "Error creating event for row 1635: <HttpError 400 when requesting https://www.googleapis.com/calendar/v3/calendars/primary/events?alt=json returned \"The specified time range is empty.\". Details: \"[{'domain': 'calendar', 'reason': 'timeRangeEmpty', 'message': 'The specified time range is empty.', 'locationType': 'parameter', 'location': 'timeMax'}]\">\n",
      "Event created: https://www.google.com/calendar/event?eid=ZjJpaDdob2ExY3BjOHB2bmpnMGs5N2VwYmMgdGVzdC0yMTVAbHVja3ktcmVhY3Rvci00NDMzMDgtcjQuaWFtLmdzZXJ2aWNlYWNjb3VudC5jb20\n",
      "Error creating event for row 1637: <HttpError 400 when requesting https://www.googleapis.com/calendar/v3/calendars/primary/events?alt=json returned \"The specified time range is empty.\". Details: \"[{'domain': 'calendar', 'reason': 'timeRangeEmpty', 'message': 'The specified time range is empty.', 'locationType': 'parameter', 'location': 'timeMax'}]\">\n",
      "Error creating event for row 1638: <HttpError 400 when requesting https://www.googleapis.com/calendar/v3/calendars/primary/events?alt=json returned \"The specified time range is empty.\". Details: \"[{'domain': 'calendar', 'reason': 'timeRangeEmpty', 'message': 'The specified time range is empty.', 'locationType': 'parameter', 'location': 'timeMax'}]\">\n",
      "Error creating event for row 1639: <HttpError 400 when requesting https://www.googleapis.com/calendar/v3/calendars/primary/events?alt=json returned \"The specified time range is empty.\". Details: \"[{'domain': 'calendar', 'reason': 'timeRangeEmpty', 'message': 'The specified time range is empty.', 'locationType': 'parameter', 'location': 'timeMax'}]\">\n"
     ]
    },
    {
     "name": "stderr",
     "output_type": "stream",
     "text": [
      "C:\\Users\\heans\\AppData\\Local\\Temp\\ipykernel_22024\\3996378728.py:43: FutureWarning: Parsed string \"2024-12-20 00:00:00T19:30\" included an un-recognized timezone \"T\". Dropping unrecognized timezones is deprecated; in a future version this will raise. Instead pass the string without the timezone, then use .tz_localize to convert to a recognized timezone.\n",
      "  start_time_obj = pd.to_datetime(start_datetime_str)\n"
     ]
    },
    {
     "name": "stdout",
     "output_type": "stream",
     "text": [
      "Error creating event for row 1640: <HttpError 400 when requesting https://www.googleapis.com/calendar/v3/calendars/primary/events?alt=json returned \"The specified time range is empty.\". Details: \"[{'domain': 'calendar', 'reason': 'timeRangeEmpty', 'message': 'The specified time range is empty.', 'locationType': 'parameter', 'location': 'timeMax'}]\">\n",
      "Error creating event for row 1641: <HttpError 400 when requesting https://www.googleapis.com/calendar/v3/calendars/primary/events?alt=json returned \"The specified time range is empty.\". Details: \"[{'domain': 'calendar', 'reason': 'timeRangeEmpty', 'message': 'The specified time range is empty.', 'locationType': 'parameter', 'location': 'timeMax'}]\">\n",
      "Error creating event for row 1642: <HttpError 400 when requesting https://www.googleapis.com/calendar/v3/calendars/primary/events?alt=json returned \"The specified time range is empty.\". Details: \"[{'domain': 'calendar', 'reason': 'timeRangeEmpty', 'message': 'The specified time range is empty.', 'locationType': 'parameter', 'location': 'timeMax'}]\">\n",
      "Error creating event for row 1643: <HttpError 400 when requesting https://www.googleapis.com/calendar/v3/calendars/primary/events?alt=json returned \"The specified time range is empty.\". Details: \"[{'domain': 'calendar', 'reason': 'timeRangeEmpty', 'message': 'The specified time range is empty.', 'locationType': 'parameter', 'location': 'timeMax'}]\">\n",
      "Event created: https://www.google.com/calendar/event?eid=MW9jdWFlazNudHNiMmJ2MmI1ZjE2YmltcGMgdGVzdC0yMTVAbHVja3ktcmVhY3Rvci00NDMzMDgtcjQuaWFtLmdzZXJ2aWNlYWNjb3VudC5jb20\n",
      "Error creating event for row 1645: <HttpError 400 when requesting https://www.googleapis.com/calendar/v3/calendars/primary/events?alt=json returned \"The specified time range is empty.\". Details: \"[{'domain': 'calendar', 'reason': 'timeRangeEmpty', 'message': 'The specified time range is empty.', 'locationType': 'parameter', 'location': 'timeMax'}]\">\n",
      "Error creating event for row 1646: <HttpError 400 when requesting https://www.googleapis.com/calendar/v3/calendars/primary/events?alt=json returned \"The specified time range is empty.\". Details: \"[{'domain': 'calendar', 'reason': 'timeRangeEmpty', 'message': 'The specified time range is empty.', 'locationType': 'parameter', 'location': 'timeMax'}]\">\n",
      "Error creating event for row 1647: <HttpError 400 when requesting https://www.googleapis.com/calendar/v3/calendars/primary/events?alt=json returned \"The specified time range is empty.\". Details: \"[{'domain': 'calendar', 'reason': 'timeRangeEmpty', 'message': 'The specified time range is empty.', 'locationType': 'parameter', 'location': 'timeMax'}]\">\n",
      "Error creating event for row 1648: <HttpError 400 when requesting https://www.googleapis.com/calendar/v3/calendars/primary/events?alt=json returned \"The specified time range is empty.\". Details: \"[{'domain': 'calendar', 'reason': 'timeRangeEmpty', 'message': 'The specified time range is empty.', 'locationType': 'parameter', 'location': 'timeMax'}]\">\n",
      "Error creating event for row 1649: <HttpError 400 when requesting https://www.googleapis.com/calendar/v3/calendars/primary/events?alt=json returned \"The specified time range is empty.\". Details: \"[{'domain': 'calendar', 'reason': 'timeRangeEmpty', 'message': 'The specified time range is empty.', 'locationType': 'parameter', 'location': 'timeMax'}]\">\n",
      "Error creating event for row 1650: <HttpError 400 when requesting https://www.googleapis.com/calendar/v3/calendars/primary/events?alt=json returned \"The specified time range is empty.\". Details: \"[{'domain': 'calendar', 'reason': 'timeRangeEmpty', 'message': 'The specified time range is empty.', 'locationType': 'parameter', 'location': 'timeMax'}]\">\n"
     ]
    },
    {
     "name": "stderr",
     "output_type": "stream",
     "text": [
      "C:\\Users\\heans\\AppData\\Local\\Temp\\ipykernel_22024\\3996378728.py:43: FutureWarning: Parsed string \"2024-12-20 00:00:00T20:00\" included an un-recognized timezone \"T\". Dropping unrecognized timezones is deprecated; in a future version this will raise. Instead pass the string without the timezone, then use .tz_localize to convert to a recognized timezone.\n",
      "  start_time_obj = pd.to_datetime(start_datetime_str)\n"
     ]
    },
    {
     "name": "stdout",
     "output_type": "stream",
     "text": [
      "Error creating event for row 1651: <HttpError 400 when requesting https://www.googleapis.com/calendar/v3/calendars/primary/events?alt=json returned \"The specified time range is empty.\". Details: \"[{'domain': 'calendar', 'reason': 'timeRangeEmpty', 'message': 'The specified time range is empty.', 'locationType': 'parameter', 'location': 'timeMax'}]\">\n",
      "Error creating event for row 1652: <HttpError 400 when requesting https://www.googleapis.com/calendar/v3/calendars/primary/events?alt=json returned \"The specified time range is empty.\". Details: \"[{'domain': 'calendar', 'reason': 'timeRangeEmpty', 'message': 'The specified time range is empty.', 'locationType': 'parameter', 'location': 'timeMax'}]\">\n",
      "Error creating event for row 1653: <HttpError 400 when requesting https://www.googleapis.com/calendar/v3/calendars/primary/events?alt=json returned \"The specified time range is empty.\". Details: \"[{'domain': 'calendar', 'reason': 'timeRangeEmpty', 'message': 'The specified time range is empty.', 'locationType': 'parameter', 'location': 'timeMax'}]\">\n",
      "Event created: https://www.google.com/calendar/event?eid=NG00Y2dxZDZyZGwxcHE0NWZsZXRyOWF2NTQgdGVzdC0yMTVAbHVja3ktcmVhY3Rvci00NDMzMDgtcjQuaWFtLmdzZXJ2aWNlYWNjb3VudC5jb20\n",
      "Error creating event for row 1655: <HttpError 400 when requesting https://www.googleapis.com/calendar/v3/calendars/primary/events?alt=json returned \"The specified time range is empty.\". Details: \"[{'domain': 'calendar', 'reason': 'timeRangeEmpty', 'message': 'The specified time range is empty.', 'locationType': 'parameter', 'location': 'timeMax'}]\">\n",
      "Error creating event for row 1656: <HttpError 400 when requesting https://www.googleapis.com/calendar/v3/calendars/primary/events?alt=json returned \"The specified time range is empty.\". Details: \"[{'domain': 'calendar', 'reason': 'timeRangeEmpty', 'message': 'The specified time range is empty.', 'locationType': 'parameter', 'location': 'timeMax'}]\">\n",
      "Error creating event for row 1657: <HttpError 400 when requesting https://www.googleapis.com/calendar/v3/calendars/primary/events?alt=json returned \"The specified time range is empty.\". Details: \"[{'domain': 'calendar', 'reason': 'timeRangeEmpty', 'message': 'The specified time range is empty.', 'locationType': 'parameter', 'location': 'timeMax'}]\">\n",
      "Error creating event for row 1658: <HttpError 400 when requesting https://www.googleapis.com/calendar/v3/calendars/primary/events?alt=json returned \"The specified time range is empty.\". Details: \"[{'domain': 'calendar', 'reason': 'timeRangeEmpty', 'message': 'The specified time range is empty.', 'locationType': 'parameter', 'location': 'timeMax'}]\">\n",
      "Error creating event for row 1659: <HttpError 400 when requesting https://www.googleapis.com/calendar/v3/calendars/primary/events?alt=json returned \"The specified time range is empty.\". Details: \"[{'domain': 'calendar', 'reason': 'timeRangeEmpty', 'message': 'The specified time range is empty.', 'locationType': 'parameter', 'location': 'timeMax'}]\">\n",
      "Error creating event for row 1660: <HttpError 400 when requesting https://www.googleapis.com/calendar/v3/calendars/primary/events?alt=json returned \"The specified time range is empty.\". Details: \"[{'domain': 'calendar', 'reason': 'timeRangeEmpty', 'message': 'The specified time range is empty.', 'locationType': 'parameter', 'location': 'timeMax'}]\">\n",
      "Error creating event for row 1661: <HttpError 400 when requesting https://www.googleapis.com/calendar/v3/calendars/primary/events?alt=json returned \"The specified time range is empty.\". Details: \"[{'domain': 'calendar', 'reason': 'timeRangeEmpty', 'message': 'The specified time range is empty.', 'locationType': 'parameter', 'location': 'timeMax'}]\">\n",
      "Error creating event for row 1662: <HttpError 400 when requesting https://www.googleapis.com/calendar/v3/calendars/primary/events?alt=json returned \"The specified time range is empty.\". Details: \"[{'domain': 'calendar', 'reason': 'timeRangeEmpty', 'message': 'The specified time range is empty.', 'locationType': 'parameter', 'location': 'timeMax'}]\">\n",
      "Error creating event for row 1663: <HttpError 400 when requesting https://www.googleapis.com/calendar/v3/calendars/primary/events?alt=json returned \"The specified time range is empty.\". Details: \"[{'domain': 'calendar', 'reason': 'timeRangeEmpty', 'message': 'The specified time range is empty.', 'locationType': 'parameter', 'location': 'timeMax'}]\">\n",
      "Error creating event for row 1664: <HttpError 400 when requesting https://www.googleapis.com/calendar/v3/calendars/primary/events?alt=json returned \"The specified time range is empty.\". Details: \"[{'domain': 'calendar', 'reason': 'timeRangeEmpty', 'message': 'The specified time range is empty.', 'locationType': 'parameter', 'location': 'timeMax'}]\">\n"
     ]
    },
    {
     "name": "stderr",
     "output_type": "stream",
     "text": [
      "C:\\Users\\heans\\AppData\\Local\\Temp\\ipykernel_22024\\3996378728.py:43: FutureWarning: Parsed string \"2024-12-20 00:00:00T20:15\" included an un-recognized timezone \"T\". Dropping unrecognized timezones is deprecated; in a future version this will raise. Instead pass the string without the timezone, then use .tz_localize to convert to a recognized timezone.\n",
      "  start_time_obj = pd.to_datetime(start_datetime_str)\n"
     ]
    },
    {
     "name": "stdout",
     "output_type": "stream",
     "text": [
      "Event created: https://www.google.com/calendar/event?eid=NjdqcmhiZHNvMGJlZTlqdDIzYjNuMWRnNzQgdGVzdC0yMTVAbHVja3ktcmVhY3Rvci00NDMzMDgtcjQuaWFtLmdzZXJ2aWNlYWNjb3VudC5jb20\n",
      "Error creating event for row 1666: <HttpError 400 when requesting https://www.googleapis.com/calendar/v3/calendars/primary/events?alt=json returned \"The specified time range is empty.\". Details: \"[{'domain': 'calendar', 'reason': 'timeRangeEmpty', 'message': 'The specified time range is empty.', 'locationType': 'parameter', 'location': 'timeMax'}]\">\n"
     ]
    },
    {
     "name": "stderr",
     "output_type": "stream",
     "text": [
      "C:\\Users\\heans\\AppData\\Local\\Temp\\ipykernel_22024\\3996378728.py:43: FutureWarning: Parsed string \"2024-12-20 00:00:00T20:30\" included an un-recognized timezone \"T\". Dropping unrecognized timezones is deprecated; in a future version this will raise. Instead pass the string without the timezone, then use .tz_localize to convert to a recognized timezone.\n",
      "  start_time_obj = pd.to_datetime(start_datetime_str)\n",
      "C:\\Users\\heans\\AppData\\Local\\Temp\\ipykernel_22024\\3996378728.py:43: FutureWarning: Parsed string \"2024-12-20 00:00:00T21:00\" included an un-recognized timezone \"T\". Dropping unrecognized timezones is deprecated; in a future version this will raise. Instead pass the string without the timezone, then use .tz_localize to convert to a recognized timezone.\n",
      "  start_time_obj = pd.to_datetime(start_datetime_str)\n"
     ]
    },
    {
     "name": "stdout",
     "output_type": "stream",
     "text": [
      "Error creating event for row 1667: <HttpError 400 when requesting https://www.googleapis.com/calendar/v3/calendars/primary/events?alt=json returned \"The specified time range is empty.\". Details: \"[{'domain': 'calendar', 'reason': 'timeRangeEmpty', 'message': 'The specified time range is empty.', 'locationType': 'parameter', 'location': 'timeMax'}]\">\n",
      "Error creating event for row 1668: <HttpError 400 when requesting https://www.googleapis.com/calendar/v3/calendars/primary/events?alt=json returned \"The specified time range is empty.\". Details: \"[{'domain': 'calendar', 'reason': 'timeRangeEmpty', 'message': 'The specified time range is empty.', 'locationType': 'parameter', 'location': 'timeMax'}]\">\n"
     ]
    },
    {
     "name": "stderr",
     "output_type": "stream",
     "text": [
      "C:\\Users\\heans\\AppData\\Local\\Temp\\ipykernel_22024\\3996378728.py:43: FutureWarning: Parsed string \"2024-12-20 00:00:00T22:00\" included an un-recognized timezone \"T\". Dropping unrecognized timezones is deprecated; in a future version this will raise. Instead pass the string without the timezone, then use .tz_localize to convert to a recognized timezone.\n",
      "  start_time_obj = pd.to_datetime(start_datetime_str)\n"
     ]
    },
    {
     "name": "stdout",
     "output_type": "stream",
     "text": [
      "Error creating event for row 1669: <HttpError 400 when requesting https://www.googleapis.com/calendar/v3/calendars/primary/events?alt=json returned \"The specified time range is empty.\". Details: \"[{'domain': 'calendar', 'reason': 'timeRangeEmpty', 'message': 'The specified time range is empty.', 'locationType': 'parameter', 'location': 'timeMax'}]\">\n"
     ]
    },
    {
     "name": "stderr",
     "output_type": "stream",
     "text": [
      "C:\\Users\\heans\\AppData\\Local\\Temp\\ipykernel_22024\\3996378728.py:43: FutureWarning: Parsed string \"2024-12-20 00:00:00T23:00\" included an un-recognized timezone \"T\". Dropping unrecognized timezones is deprecated; in a future version this will raise. Instead pass the string without the timezone, then use .tz_localize to convert to a recognized timezone.\n",
      "  start_time_obj = pd.to_datetime(start_datetime_str)\n"
     ]
    },
    {
     "name": "stdout",
     "output_type": "stream",
     "text": [
      "Error creating event for row 1670: <HttpError 400 when requesting https://www.googleapis.com/calendar/v3/calendars/primary/events?alt=json returned \"The specified time range is empty.\". Details: \"[{'domain': 'calendar', 'reason': 'timeRangeEmpty', 'message': 'The specified time range is empty.', 'locationType': 'parameter', 'location': 'timeMax'}]\">\n",
      "Error creating event for row 1671: <HttpError 400 when requesting https://www.googleapis.com/calendar/v3/calendars/primary/events?alt=json returned \"The specified time range is empty.\". Details: \"[{'domain': 'calendar', 'reason': 'timeRangeEmpty', 'message': 'The specified time range is empty.', 'locationType': 'parameter', 'location': 'timeMax'}]\">\n"
     ]
    },
    {
     "name": "stderr",
     "output_type": "stream",
     "text": [
      "C:\\Users\\heans\\AppData\\Local\\Temp\\ipykernel_22024\\3996378728.py:43: FutureWarning: Parsed string \"2024-12-21 00:00:00T00:00\" included an un-recognized timezone \"T\". Dropping unrecognized timezones is deprecated; in a future version this will raise. Instead pass the string without the timezone, then use .tz_localize to convert to a recognized timezone.\n",
      "  start_time_obj = pd.to_datetime(start_datetime_str)\n"
     ]
    },
    {
     "name": "stdout",
     "output_type": "stream",
     "text": [
      "Event created: https://www.google.com/calendar/event?eid=anF1cjJyMWFpMWxsaXFtbTh2MnFjZzZxb2sgdGVzdC0yMTVAbHVja3ktcmVhY3Rvci00NDMzMDgtcjQuaWFtLmdzZXJ2aWNlYWNjb3VudC5jb20\n"
     ]
    },
    {
     "name": "stderr",
     "output_type": "stream",
     "text": [
      "C:\\Users\\heans\\AppData\\Local\\Temp\\ipykernel_22024\\3996378728.py:43: FutureWarning: Parsed string \"2024-12-21 00:00:00T09:00\" included an un-recognized timezone \"T\". Dropping unrecognized timezones is deprecated; in a future version this will raise. Instead pass the string without the timezone, then use .tz_localize to convert to a recognized timezone.\n",
      "  start_time_obj = pd.to_datetime(start_datetime_str)\n"
     ]
    },
    {
     "name": "stdout",
     "output_type": "stream",
     "text": [
      "Event created: https://www.google.com/calendar/event?eid=a200cW9kNWxyZTNtZDZxbzd1YmliZ3ZiZWcgdGVzdC0yMTVAbHVja3ktcmVhY3Rvci00NDMzMDgtcjQuaWFtLmdzZXJ2aWNlYWNjb3VudC5jb20\n"
     ]
    },
    {
     "name": "stderr",
     "output_type": "stream",
     "text": [
      "C:\\Users\\heans\\AppData\\Local\\Temp\\ipykernel_22024\\3996378728.py:43: FutureWarning: Parsed string \"2024-12-21 00:00:00T10:00\" included an un-recognized timezone \"T\". Dropping unrecognized timezones is deprecated; in a future version this will raise. Instead pass the string without the timezone, then use .tz_localize to convert to a recognized timezone.\n",
      "  start_time_obj = pd.to_datetime(start_datetime_str)\n"
     ]
    },
    {
     "name": "stdout",
     "output_type": "stream",
     "text": [
      "Event created: https://www.google.com/calendar/event?eid=cm81NGk4ZHBsdmJmZDB2NHYwazk1cGt0MHMgdGVzdC0yMTVAbHVja3ktcmVhY3Rvci00NDMzMDgtcjQuaWFtLmdzZXJ2aWNlYWNjb3VudC5jb20\n",
      "Event created: https://www.google.com/calendar/event?eid=YzA2b2k5NHEwdjZ0ZTdrMGlyOGk0b2p1MDAgdGVzdC0yMTVAbHVja3ktcmVhY3Rvci00NDMzMDgtcjQuaWFtLmdzZXJ2aWNlYWNjb3VudC5jb20\n",
      "Event created: https://www.google.com/calendar/event?eid=YmhoaGpmMzdxY2JnZ29lNGljaTh1YzViY28gdGVzdC0yMTVAbHVja3ktcmVhY3Rvci00NDMzMDgtcjQuaWFtLmdzZXJ2aWNlYWNjb3VudC5jb20\n",
      "Event created: https://www.google.com/calendar/event?eid=bjlyOGtwY3M3dWZlaGxlbm9xcmYyZ3I3bXMgdGVzdC0yMTVAbHVja3ktcmVhY3Rvci00NDMzMDgtcjQuaWFtLmdzZXJ2aWNlYWNjb3VudC5jb20\n"
     ]
    },
    {
     "name": "stderr",
     "output_type": "stream",
     "text": [
      "C:\\Users\\heans\\AppData\\Local\\Temp\\ipykernel_22024\\3996378728.py:43: FutureWarning: Parsed string \"2024-12-21 00:00:00T11:00\" included an un-recognized timezone \"T\". Dropping unrecognized timezones is deprecated; in a future version this will raise. Instead pass the string without the timezone, then use .tz_localize to convert to a recognized timezone.\n",
      "  start_time_obj = pd.to_datetime(start_datetime_str)\n"
     ]
    },
    {
     "name": "stdout",
     "output_type": "stream",
     "text": [
      "Event created: https://www.google.com/calendar/event?eid=N2FwOHY1ampmajM0OGRsYTY4NnM1dmRsM2MgdGVzdC0yMTVAbHVja3ktcmVhY3Rvci00NDMzMDgtcjQuaWFtLmdzZXJ2aWNlYWNjb3VudC5jb20\n",
      "Event created: https://www.google.com/calendar/event?eid=bGNrdTYydm1zaGZsN3FxNWV2ZGZjbXUyMmMgdGVzdC0yMTVAbHVja3ktcmVhY3Rvci00NDMzMDgtcjQuaWFtLmdzZXJ2aWNlYWNjb3VudC5jb20\n",
      "Event created: https://www.google.com/calendar/event?eid=NmlhczNycGdsdnBwMGg0NTZ0Z2pyc2RtZXMgdGVzdC0yMTVAbHVja3ktcmVhY3Rvci00NDMzMDgtcjQuaWFtLmdzZXJ2aWNlYWNjb3VudC5jb20\n",
      "Event created: https://www.google.com/calendar/event?eid=bzg3a3ZlajFiY2xnZWphbWtlanA0ZmlmZDAgdGVzdC0yMTVAbHVja3ktcmVhY3Rvci00NDMzMDgtcjQuaWFtLmdzZXJ2aWNlYWNjb3VudC5jb20\n",
      "Event created: https://www.google.com/calendar/event?eid=Mmk3N3Nlc2VvbWk5dHA0bmlvOWkyYWdwYTAgdGVzdC0yMTVAbHVja3ktcmVhY3Rvci00NDMzMDgtcjQuaWFtLmdzZXJ2aWNlYWNjb3VudC5jb20\n",
      "Error creating event for row 1683: <HttpError 400 when requesting https://www.googleapis.com/calendar/v3/calendars/primary/events?alt=json returned \"The specified time range is empty.\". Details: \"[{'domain': 'calendar', 'reason': 'timeRangeEmpty', 'message': 'The specified time range is empty.', 'locationType': 'parameter', 'location': 'timeMax'}]\">\n",
      "Event created: https://www.google.com/calendar/event?eid=Z2JkZmE1bjVyOTdxOGQ4OTgzZm52bmhoZjQgdGVzdC0yMTVAbHVja3ktcmVhY3Rvci00NDMzMDgtcjQuaWFtLmdzZXJ2aWNlYWNjb3VudC5jb20\n",
      "Event created: https://www.google.com/calendar/event?eid=ZDQ3amlycWp2Y3FmYmtwbHU4cGQ1amppZmcgdGVzdC0yMTVAbHVja3ktcmVhY3Rvci00NDMzMDgtcjQuaWFtLmdzZXJ2aWNlYWNjb3VudC5jb20\n",
      "Event created: https://www.google.com/calendar/event?eid=cGZldWdubGVrZTFhNXB2cDk2cm9mM2QxOTAgdGVzdC0yMTVAbHVja3ktcmVhY3Rvci00NDMzMDgtcjQuaWFtLmdzZXJ2aWNlYWNjb3VudC5jb20\n",
      "Event created: https://www.google.com/calendar/event?eid=cGZtbWRydTMwbzBvbTE4N2E2N2wzdDIwYjQgdGVzdC0yMTVAbHVja3ktcmVhY3Rvci00NDMzMDgtcjQuaWFtLmdzZXJ2aWNlYWNjb3VudC5jb20\n",
      "Event created: https://www.google.com/calendar/event?eid=YjlzMGg4dTVoMTFvOTBxamI3OTBxc3E5bG8gdGVzdC0yMTVAbHVja3ktcmVhY3Rvci00NDMzMDgtcjQuaWFtLmdzZXJ2aWNlYWNjb3VudC5jb20\n"
     ]
    },
    {
     "name": "stderr",
     "output_type": "stream",
     "text": [
      "C:\\Users\\heans\\AppData\\Local\\Temp\\ipykernel_22024\\3996378728.py:43: FutureWarning: Parsed string \"2024-12-21 00:00:00T13:00\" included an un-recognized timezone \"T\". Dropping unrecognized timezones is deprecated; in a future version this will raise. Instead pass the string without the timezone, then use .tz_localize to convert to a recognized timezone.\n",
      "  start_time_obj = pd.to_datetime(start_datetime_str)\n"
     ]
    },
    {
     "name": "stdout",
     "output_type": "stream",
     "text": [
      "Event created: https://www.google.com/calendar/event?eid=NjU5aGtoZm1oNWluanU3OHNxdHZsOGs4Y2sgdGVzdC0yMTVAbHVja3ktcmVhY3Rvci00NDMzMDgtcjQuaWFtLmdzZXJ2aWNlYWNjb3VudC5jb20\n"
     ]
    },
    {
     "name": "stderr",
     "output_type": "stream",
     "text": [
      "C:\\Users\\heans\\AppData\\Local\\Temp\\ipykernel_22024\\3996378728.py:43: FutureWarning: Parsed string \"2024-12-21 00:00:00T15:30\" included an un-recognized timezone \"T\". Dropping unrecognized timezones is deprecated; in a future version this will raise. Instead pass the string without the timezone, then use .tz_localize to convert to a recognized timezone.\n",
      "  start_time_obj = pd.to_datetime(start_datetime_str)\n"
     ]
    },
    {
     "name": "stdout",
     "output_type": "stream",
     "text": [
      "Event created: https://www.google.com/calendar/event?eid=ZDZkYnF0M280ZW1ramZkdnByNW01MG51aGMgdGVzdC0yMTVAbHVja3ktcmVhY3Rvci00NDMzMDgtcjQuaWFtLmdzZXJ2aWNlYWNjb3VudC5jb20\n",
      "Event created: https://www.google.com/calendar/event?eid=YzNuMDBuYjY3bGZqaDRxazk1NHVtdWY2cDQgdGVzdC0yMTVAbHVja3ktcmVhY3Rvci00NDMzMDgtcjQuaWFtLmdzZXJ2aWNlYWNjb3VudC5jb20\n",
      "Error creating event for row 1692: <HttpError 400 when requesting https://www.googleapis.com/calendar/v3/calendars/primary/events?alt=json returned \"The specified time range is empty.\". Details: \"[{'domain': 'calendar', 'reason': 'timeRangeEmpty', 'message': 'The specified time range is empty.', 'locationType': 'parameter', 'location': 'timeMax'}]\">\n"
     ]
    },
    {
     "name": "stderr",
     "output_type": "stream",
     "text": [
      "C:\\Users\\heans\\AppData\\Local\\Temp\\ipykernel_22024\\3996378728.py:43: FutureWarning: Parsed string \"2024-12-21 00:00:00T16:00\" included an un-recognized timezone \"T\". Dropping unrecognized timezones is deprecated; in a future version this will raise. Instead pass the string without the timezone, then use .tz_localize to convert to a recognized timezone.\n",
      "  start_time_obj = pd.to_datetime(start_datetime_str)\n"
     ]
    },
    {
     "name": "stdout",
     "output_type": "stream",
     "text": [
      "Event created: https://www.google.com/calendar/event?eid=MjFwcWdjNDF2MWV1NWJiZmlvMTNpcHFoOTQgdGVzdC0yMTVAbHVja3ktcmVhY3Rvci00NDMzMDgtcjQuaWFtLmdzZXJ2aWNlYWNjb3VudC5jb20\n",
      "Event created: https://www.google.com/calendar/event?eid=NnBjbW92a3VnMnRoOGJ0OWc3a3JjcG1yYmsgdGVzdC0yMTVAbHVja3ktcmVhY3Rvci00NDMzMDgtcjQuaWFtLmdzZXJ2aWNlYWNjb3VudC5jb20\n"
     ]
    },
    {
     "name": "stderr",
     "output_type": "stream",
     "text": [
      "C:\\Users\\heans\\AppData\\Local\\Temp\\ipykernel_22024\\3996378728.py:43: FutureWarning: Parsed string \"2024-12-21 00:00:00T17:00\" included an un-recognized timezone \"T\". Dropping unrecognized timezones is deprecated; in a future version this will raise. Instead pass the string without the timezone, then use .tz_localize to convert to a recognized timezone.\n",
      "  start_time_obj = pd.to_datetime(start_datetime_str)\n"
     ]
    },
    {
     "name": "stdout",
     "output_type": "stream",
     "text": [
      "Event created: https://www.google.com/calendar/event?eid=MDhlYXNpYmlyYm40YjUxYmVua2Y0bjNjNDggdGVzdC0yMTVAbHVja3ktcmVhY3Rvci00NDMzMDgtcjQuaWFtLmdzZXJ2aWNlYWNjb3VudC5jb20\n",
      "Event created: https://www.google.com/calendar/event?eid=N2QycTN2YjBpN3FnZHM0dGw2Y2pvaDV0NXMgdGVzdC0yMTVAbHVja3ktcmVhY3Rvci00NDMzMDgtcjQuaWFtLmdzZXJ2aWNlYWNjb3VudC5jb20\n",
      "Error creating event for row 1697: <HttpError 400 when requesting https://www.googleapis.com/calendar/v3/calendars/primary/events?alt=json returned \"The specified time range is empty.\". Details: \"[{'domain': 'calendar', 'reason': 'timeRangeEmpty', 'message': 'The specified time range is empty.', 'locationType': 'parameter', 'location': 'timeMax'}]\">\n",
      "Error creating event for row 1698: <HttpError 400 when requesting https://www.googleapis.com/calendar/v3/calendars/primary/events?alt=json returned \"The specified time range is empty.\". Details: \"[{'domain': 'calendar', 'reason': 'timeRangeEmpty', 'message': 'The specified time range is empty.', 'locationType': 'parameter', 'location': 'timeMax'}]\">\n",
      "Error creating event for row 1699: <HttpError 400 when requesting https://www.googleapis.com/calendar/v3/calendars/primary/events?alt=json returned \"The specified time range is empty.\". Details: \"[{'domain': 'calendar', 'reason': 'timeRangeEmpty', 'message': 'The specified time range is empty.', 'locationType': 'parameter', 'location': 'timeMax'}]\">\n",
      "Event created: https://www.google.com/calendar/event?eid=ZHFkc2Zva2pzZzRmcnJqaDlrMGVvOGtoODQgdGVzdC0yMTVAbHVja3ktcmVhY3Rvci00NDMzMDgtcjQuaWFtLmdzZXJ2aWNlYWNjb3VudC5jb20\n",
      "Error creating event for row 1701: <HttpError 400 when requesting https://www.googleapis.com/calendar/v3/calendars/primary/events?alt=json returned \"The specified time range is empty.\". Details: \"[{'domain': 'calendar', 'reason': 'timeRangeEmpty', 'message': 'The specified time range is empty.', 'locationType': 'parameter', 'location': 'timeMax'}]\">\n"
     ]
    },
    {
     "name": "stderr",
     "output_type": "stream",
     "text": [
      "C:\\Users\\heans\\AppData\\Local\\Temp\\ipykernel_22024\\3996378728.py:43: FutureWarning: Parsed string \"2024-12-21 00:00:00T17:30\" included an un-recognized timezone \"T\". Dropping unrecognized timezones is deprecated; in a future version this will raise. Instead pass the string without the timezone, then use .tz_localize to convert to a recognized timezone.\n",
      "  start_time_obj = pd.to_datetime(start_datetime_str)\n",
      "C:\\Users\\heans\\AppData\\Local\\Temp\\ipykernel_22024\\3996378728.py:43: FutureWarning: Parsed string \"2024-12-21 00:00:00T18:00\" included an un-recognized timezone \"T\". Dropping unrecognized timezones is deprecated; in a future version this will raise. Instead pass the string without the timezone, then use .tz_localize to convert to a recognized timezone.\n",
      "  start_time_obj = pd.to_datetime(start_datetime_str)\n"
     ]
    },
    {
     "name": "stdout",
     "output_type": "stream",
     "text": [
      "Event created: https://www.google.com/calendar/event?eid=Zm5ldmdybHFxa2ZxMWVtMjB0Y2RjbXNqNXMgdGVzdC0yMTVAbHVja3ktcmVhY3Rvci00NDMzMDgtcjQuaWFtLmdzZXJ2aWNlYWNjb3VudC5jb20\n",
      "Event created: https://www.google.com/calendar/event?eid=ZzM5ajBhOTljc3Zvamcza2k4ajlnM3IyNmMgdGVzdC0yMTVAbHVja3ktcmVhY3Rvci00NDMzMDgtcjQuaWFtLmdzZXJ2aWNlYWNjb3VudC5jb20\n",
      "Event created: https://www.google.com/calendar/event?eid=NjVrb25vamYydnZmOHA0ZzNmMTJlc2Y3ZnMgdGVzdC0yMTVAbHVja3ktcmVhY3Rvci00NDMzMDgtcjQuaWFtLmdzZXJ2aWNlYWNjb3VudC5jb20\n",
      "Error creating event for row 1705: <HttpError 400 when requesting https://www.googleapis.com/calendar/v3/calendars/primary/events?alt=json returned \"The specified time range is empty.\". Details: \"[{'domain': 'calendar', 'reason': 'timeRangeEmpty', 'message': 'The specified time range is empty.', 'locationType': 'parameter', 'location': 'timeMax'}]\">\n",
      "Error creating event for row 1706: <HttpError 400 when requesting https://www.googleapis.com/calendar/v3/calendars/primary/events?alt=json returned \"The specified time range is empty.\". Details: \"[{'domain': 'calendar', 'reason': 'timeRangeEmpty', 'message': 'The specified time range is empty.', 'locationType': 'parameter', 'location': 'timeMax'}]\">\n"
     ]
    },
    {
     "name": "stderr",
     "output_type": "stream",
     "text": [
      "C:\\Users\\heans\\AppData\\Local\\Temp\\ipykernel_22024\\3996378728.py:43: FutureWarning: Parsed string \"2024-12-21 00:00:00T19:00\" included an un-recognized timezone \"T\". Dropping unrecognized timezones is deprecated; in a future version this will raise. Instead pass the string without the timezone, then use .tz_localize to convert to a recognized timezone.\n",
      "  start_time_obj = pd.to_datetime(start_datetime_str)\n"
     ]
    },
    {
     "name": "stdout",
     "output_type": "stream",
     "text": [
      "Error creating event for row 1707: <HttpError 400 when requesting https://www.googleapis.com/calendar/v3/calendars/primary/events?alt=json returned \"The specified time range is empty.\". Details: \"[{'domain': 'calendar', 'reason': 'timeRangeEmpty', 'message': 'The specified time range is empty.', 'locationType': 'parameter', 'location': 'timeMax'}]\">\n",
      "Event created: https://www.google.com/calendar/event?eid=ODlrbWdzOHVkOXNkbXE0MGh0czdiaWRqY2sgdGVzdC0yMTVAbHVja3ktcmVhY3Rvci00NDMzMDgtcjQuaWFtLmdzZXJ2aWNlYWNjb3VudC5jb20\n",
      "Error creating event for row 1709: <HttpError 400 when requesting https://www.googleapis.com/calendar/v3/calendars/primary/events?alt=json returned \"The specified time range is empty.\". Details: \"[{'domain': 'calendar', 'reason': 'timeRangeEmpty', 'message': 'The specified time range is empty.', 'locationType': 'parameter', 'location': 'timeMax'}]\">\n"
     ]
    },
    {
     "name": "stderr",
     "output_type": "stream",
     "text": [
      "C:\\Users\\heans\\AppData\\Local\\Temp\\ipykernel_22024\\3996378728.py:43: FutureWarning: Parsed string \"2024-12-21 00:00:00T19:30\" included an un-recognized timezone \"T\". Dropping unrecognized timezones is deprecated; in a future version this will raise. Instead pass the string without the timezone, then use .tz_localize to convert to a recognized timezone.\n",
      "  start_time_obj = pd.to_datetime(start_datetime_str)\n"
     ]
    },
    {
     "name": "stdout",
     "output_type": "stream",
     "text": [
      "Error creating event for row 1710: <HttpError 400 when requesting https://www.googleapis.com/calendar/v3/calendars/primary/events?alt=json returned \"The specified time range is empty.\". Details: \"[{'domain': 'calendar', 'reason': 'timeRangeEmpty', 'message': 'The specified time range is empty.', 'locationType': 'parameter', 'location': 'timeMax'}]\">\n",
      "Event created: https://www.google.com/calendar/event?eid=Z3A5Y3BrMnF2aTZiZWhiMmc1MWFxZHZydGcgdGVzdC0yMTVAbHVja3ktcmVhY3Rvci00NDMzMDgtcjQuaWFtLmdzZXJ2aWNlYWNjb3VudC5jb20\n",
      "Error creating event for row 1712: <HttpError 400 when requesting https://www.googleapis.com/calendar/v3/calendars/primary/events?alt=json returned \"The specified time range is empty.\". Details: \"[{'domain': 'calendar', 'reason': 'timeRangeEmpty', 'message': 'The specified time range is empty.', 'locationType': 'parameter', 'location': 'timeMax'}]\">\n",
      "Event created: https://www.google.com/calendar/event?eid=djRzZDY2dTF1Z21wcTliY2wzbzNpcWtqbWMgdGVzdC0yMTVAbHVja3ktcmVhY3Rvci00NDMzMDgtcjQuaWFtLmdzZXJ2aWNlYWNjb3VudC5jb20\n",
      "Error creating event for row 1714: <HttpError 400 when requesting https://www.googleapis.com/calendar/v3/calendars/primary/events?alt=json returned \"The specified time range is empty.\". Details: \"[{'domain': 'calendar', 'reason': 'timeRangeEmpty', 'message': 'The specified time range is empty.', 'locationType': 'parameter', 'location': 'timeMax'}]\">\n",
      "Error creating event for row 1715: <HttpError 400 when requesting https://www.googleapis.com/calendar/v3/calendars/primary/events?alt=json returned \"The specified time range is empty.\". Details: \"[{'domain': 'calendar', 'reason': 'timeRangeEmpty', 'message': 'The specified time range is empty.', 'locationType': 'parameter', 'location': 'timeMax'}]\">\n"
     ]
    },
    {
     "name": "stderr",
     "output_type": "stream",
     "text": [
      "C:\\Users\\heans\\AppData\\Local\\Temp\\ipykernel_22024\\3996378728.py:43: FutureWarning: Parsed string \"2024-12-21 00:00:00T20:00\" included an un-recognized timezone \"T\". Dropping unrecognized timezones is deprecated; in a future version this will raise. Instead pass the string without the timezone, then use .tz_localize to convert to a recognized timezone.\n",
      "  start_time_obj = pd.to_datetime(start_datetime_str)\n"
     ]
    },
    {
     "name": "stdout",
     "output_type": "stream",
     "text": [
      "Error creating event for row 1716: <HttpError 400 when requesting https://www.googleapis.com/calendar/v3/calendars/primary/events?alt=json returned \"The specified time range is empty.\". Details: \"[{'domain': 'calendar', 'reason': 'timeRangeEmpty', 'message': 'The specified time range is empty.', 'locationType': 'parameter', 'location': 'timeMax'}]\">\n",
      "Error creating event for row 1717: <HttpError 400 when requesting https://www.googleapis.com/calendar/v3/calendars/primary/events?alt=json returned \"The specified time range is empty.\". Details: \"[{'domain': 'calendar', 'reason': 'timeRangeEmpty', 'message': 'The specified time range is empty.', 'locationType': 'parameter', 'location': 'timeMax'}]\">\n",
      "Error creating event for row 1718: <HttpError 400 when requesting https://www.googleapis.com/calendar/v3/calendars/primary/events?alt=json returned \"The specified time range is empty.\". Details: \"[{'domain': 'calendar', 'reason': 'timeRangeEmpty', 'message': 'The specified time range is empty.', 'locationType': 'parameter', 'location': 'timeMax'}]\">\n",
      "Error creating event for row 1719: <HttpError 400 when requesting https://www.googleapis.com/calendar/v3/calendars/primary/events?alt=json returned \"The specified time range is empty.\". Details: \"[{'domain': 'calendar', 'reason': 'timeRangeEmpty', 'message': 'The specified time range is empty.', 'locationType': 'parameter', 'location': 'timeMax'}]\">\n",
      "Error creating event for row 1720: <HttpError 400 when requesting https://www.googleapis.com/calendar/v3/calendars/primary/events?alt=json returned \"The specified time range is empty.\". Details: \"[{'domain': 'calendar', 'reason': 'timeRangeEmpty', 'message': 'The specified time range is empty.', 'locationType': 'parameter', 'location': 'timeMax'}]\">\n",
      "Error creating event for row 1721: <HttpError 400 when requesting https://www.googleapis.com/calendar/v3/calendars/primary/events?alt=json returned \"The specified time range is empty.\". Details: \"[{'domain': 'calendar', 'reason': 'timeRangeEmpty', 'message': 'The specified time range is empty.', 'locationType': 'parameter', 'location': 'timeMax'}]\">\n",
      "Error creating event for row 1722: <HttpError 400 when requesting https://www.googleapis.com/calendar/v3/calendars/primary/events?alt=json returned \"The specified time range is empty.\". Details: \"[{'domain': 'calendar', 'reason': 'timeRangeEmpty', 'message': 'The specified time range is empty.', 'locationType': 'parameter', 'location': 'timeMax'}]\">\n",
      "Error creating event for row 1723: <HttpError 400 when requesting https://www.googleapis.com/calendar/v3/calendars/primary/events?alt=json returned \"The specified time range is empty.\". Details: \"[{'domain': 'calendar', 'reason': 'timeRangeEmpty', 'message': 'The specified time range is empty.', 'locationType': 'parameter', 'location': 'timeMax'}]\">\n",
      "Error creating event for row 1724: <HttpError 400 when requesting https://www.googleapis.com/calendar/v3/calendars/primary/events?alt=json returned \"The specified time range is empty.\". Details: \"[{'domain': 'calendar', 'reason': 'timeRangeEmpty', 'message': 'The specified time range is empty.', 'locationType': 'parameter', 'location': 'timeMax'}]\">\n",
      "Error creating event for row 1725: <HttpError 400 when requesting https://www.googleapis.com/calendar/v3/calendars/primary/events?alt=json returned \"The specified time range is empty.\". Details: \"[{'domain': 'calendar', 'reason': 'timeRangeEmpty', 'message': 'The specified time range is empty.', 'locationType': 'parameter', 'location': 'timeMax'}]\">\n"
     ]
    },
    {
     "name": "stderr",
     "output_type": "stream",
     "text": [
      "C:\\Users\\heans\\AppData\\Local\\Temp\\ipykernel_22024\\3996378728.py:43: FutureWarning: Parsed string \"2024-12-21 00:00:00T21:00\" included an un-recognized timezone \"T\". Dropping unrecognized timezones is deprecated; in a future version this will raise. Instead pass the string without the timezone, then use .tz_localize to convert to a recognized timezone.\n",
      "  start_time_obj = pd.to_datetime(start_datetime_str)\n"
     ]
    },
    {
     "name": "stdout",
     "output_type": "stream",
     "text": [
      "Error creating event for row 1726: <HttpError 400 when requesting https://www.googleapis.com/calendar/v3/calendars/primary/events?alt=json returned \"The specified time range is empty.\". Details: \"[{'domain': 'calendar', 'reason': 'timeRangeEmpty', 'message': 'The specified time range is empty.', 'locationType': 'parameter', 'location': 'timeMax'}]\">\n",
      "Error creating event for row 1727: <HttpError 400 when requesting https://www.googleapis.com/calendar/v3/calendars/primary/events?alt=json returned \"The specified time range is empty.\". Details: \"[{'domain': 'calendar', 'reason': 'timeRangeEmpty', 'message': 'The specified time range is empty.', 'locationType': 'parameter', 'location': 'timeMax'}]\">\n"
     ]
    },
    {
     "name": "stderr",
     "output_type": "stream",
     "text": [
      "C:\\Users\\heans\\AppData\\Local\\Temp\\ipykernel_22024\\3996378728.py:43: FutureWarning: Parsed string \"2024-12-21 00:00:00T22:00\" included an un-recognized timezone \"T\". Dropping unrecognized timezones is deprecated; in a future version this will raise. Instead pass the string without the timezone, then use .tz_localize to convert to a recognized timezone.\n",
      "  start_time_obj = pd.to_datetime(start_datetime_str)\n"
     ]
    },
    {
     "name": "stdout",
     "output_type": "stream",
     "text": [
      "Error creating event for row 1728: <HttpError 400 when requesting https://www.googleapis.com/calendar/v3/calendars/primary/events?alt=json returned \"The specified time range is empty.\". Details: \"[{'domain': 'calendar', 'reason': 'timeRangeEmpty', 'message': 'The specified time range is empty.', 'locationType': 'parameter', 'location': 'timeMax'}]\">\n",
      "Error creating event for row 1729: <HttpError 400 when requesting https://www.googleapis.com/calendar/v3/calendars/primary/events?alt=json returned \"The specified time range is empty.\". Details: \"[{'domain': 'calendar', 'reason': 'timeRangeEmpty', 'message': 'The specified time range is empty.', 'locationType': 'parameter', 'location': 'timeMax'}]\">\n"
     ]
    },
    {
     "name": "stderr",
     "output_type": "stream",
     "text": [
      "C:\\Users\\heans\\AppData\\Local\\Temp\\ipykernel_22024\\3996378728.py:43: FutureWarning: Parsed string \"2024-12-21 00:00:00T22:30\" included an un-recognized timezone \"T\". Dropping unrecognized timezones is deprecated; in a future version this will raise. Instead pass the string without the timezone, then use .tz_localize to convert to a recognized timezone.\n",
      "  start_time_obj = pd.to_datetime(start_datetime_str)\n"
     ]
    },
    {
     "name": "stdout",
     "output_type": "stream",
     "text": [
      "Error creating event for row 1730: <HttpError 400 when requesting https://www.googleapis.com/calendar/v3/calendars/primary/events?alt=json returned \"The specified time range is empty.\". Details: \"[{'domain': 'calendar', 'reason': 'timeRangeEmpty', 'message': 'The specified time range is empty.', 'locationType': 'parameter', 'location': 'timeMax'}]\">\n"
     ]
    },
    {
     "name": "stderr",
     "output_type": "stream",
     "text": [
      "C:\\Users\\heans\\AppData\\Local\\Temp\\ipykernel_22024\\3996378728.py:43: FutureWarning: Parsed string \"2024-12-21 00:00:00T23:00\" included an un-recognized timezone \"T\". Dropping unrecognized timezones is deprecated; in a future version this will raise. Instead pass the string without the timezone, then use .tz_localize to convert to a recognized timezone.\n",
      "  start_time_obj = pd.to_datetime(start_datetime_str)\n"
     ]
    },
    {
     "name": "stdout",
     "output_type": "stream",
     "text": [
      "Error creating event for row 1731: <HttpError 400 when requesting https://www.googleapis.com/calendar/v3/calendars/primary/events?alt=json returned \"The specified time range is empty.\". Details: \"[{'domain': 'calendar', 'reason': 'timeRangeEmpty', 'message': 'The specified time range is empty.', 'locationType': 'parameter', 'location': 'timeMax'}]\">\n",
      "Error creating event for row 1732: <HttpError 400 when requesting https://www.googleapis.com/calendar/v3/calendars/primary/events?alt=json returned \"The specified time range is empty.\". Details: \"[{'domain': 'calendar', 'reason': 'timeRangeEmpty', 'message': 'The specified time range is empty.', 'locationType': 'parameter', 'location': 'timeMax'}]\">\n",
      "Error creating event for row 1733: <HttpError 400 when requesting https://www.googleapis.com/calendar/v3/calendars/primary/events?alt=json returned \"The specified time range is empty.\". Details: \"[{'domain': 'calendar', 'reason': 'timeRangeEmpty', 'message': 'The specified time range is empty.', 'locationType': 'parameter', 'location': 'timeMax'}]\">\n"
     ]
    },
    {
     "name": "stderr",
     "output_type": "stream",
     "text": [
      "C:\\Users\\heans\\AppData\\Local\\Temp\\ipykernel_22024\\3996378728.py:43: FutureWarning: Parsed string \"2024-12-22 00:00:00T15:00\" included an un-recognized timezone \"T\". Dropping unrecognized timezones is deprecated; in a future version this will raise. Instead pass the string without the timezone, then use .tz_localize to convert to a recognized timezone.\n",
      "  start_time_obj = pd.to_datetime(start_datetime_str)\n"
     ]
    },
    {
     "name": "stdout",
     "output_type": "stream",
     "text": [
      "Error creating event for row 1734: <HttpError 400 when requesting https://www.googleapis.com/calendar/v3/calendars/primary/events?alt=json returned \"The specified time range is empty.\". Details: \"[{'domain': 'calendar', 'reason': 'timeRangeEmpty', 'message': 'The specified time range is empty.', 'locationType': 'parameter', 'location': 'timeMax'}]\">\n",
      "Error creating event for row 1735: <HttpError 400 when requesting https://www.googleapis.com/calendar/v3/calendars/primary/events?alt=json returned \"The specified time range is empty.\". Details: \"[{'domain': 'calendar', 'reason': 'timeRangeEmpty', 'message': 'The specified time range is empty.', 'locationType': 'parameter', 'location': 'timeMax'}]\">\n"
     ]
    },
    {
     "name": "stderr",
     "output_type": "stream",
     "text": [
      "C:\\Users\\heans\\AppData\\Local\\Temp\\ipykernel_22024\\3996378728.py:43: FutureWarning: Parsed string \"2024-12-22 00:00:00T19:00\" included an un-recognized timezone \"T\". Dropping unrecognized timezones is deprecated; in a future version this will raise. Instead pass the string without the timezone, then use .tz_localize to convert to a recognized timezone.\n",
      "  start_time_obj = pd.to_datetime(start_datetime_str)\n"
     ]
    },
    {
     "name": "stdout",
     "output_type": "stream",
     "text": [
      "Error creating event for row 1736: <HttpError 400 when requesting https://www.googleapis.com/calendar/v3/calendars/primary/events?alt=json returned \"The specified time range is empty.\". Details: \"[{'domain': 'calendar', 'reason': 'timeRangeEmpty', 'message': 'The specified time range is empty.', 'locationType': 'parameter', 'location': 'timeMax'}]\">\n"
     ]
    },
    {
     "name": "stderr",
     "output_type": "stream",
     "text": [
      "C:\\Users\\heans\\AppData\\Local\\Temp\\ipykernel_22024\\3996378728.py:43: FutureWarning: Parsed string \"2024-12-22 00:00:00T20:00\" included an un-recognized timezone \"T\". Dropping unrecognized timezones is deprecated; in a future version this will raise. Instead pass the string without the timezone, then use .tz_localize to convert to a recognized timezone.\n",
      "  start_time_obj = pd.to_datetime(start_datetime_str)\n"
     ]
    },
    {
     "name": "stdout",
     "output_type": "stream",
     "text": [
      "Error creating event for row 1737: <HttpError 400 when requesting https://www.googleapis.com/calendar/v3/calendars/primary/events?alt=json returned \"The specified time range is empty.\". Details: \"[{'domain': 'calendar', 'reason': 'timeRangeEmpty', 'message': 'The specified time range is empty.', 'locationType': 'parameter', 'location': 'timeMax'}]\">\n"
     ]
    },
    {
     "name": "stderr",
     "output_type": "stream",
     "text": [
      "C:\\Users\\heans\\AppData\\Local\\Temp\\ipykernel_22024\\3996378728.py:43: FutureWarning: Parsed string \"2024-12-23 00:00:00T09:00\" included an un-recognized timezone \"T\". Dropping unrecognized timezones is deprecated; in a future version this will raise. Instead pass the string without the timezone, then use .tz_localize to convert to a recognized timezone.\n",
      "  start_time_obj = pd.to_datetime(start_datetime_str)\n"
     ]
    },
    {
     "name": "stdout",
     "output_type": "stream",
     "text": [
      "Event created: https://www.google.com/calendar/event?eid=N3BuZXRndWcwa2Iyc2kybWhtODNldmJrcDAgdGVzdC0yMTVAbHVja3ktcmVhY3Rvci00NDMzMDgtcjQuaWFtLmdzZXJ2aWNlYWNjb3VudC5jb20\n",
      "Error creating event for row 1739: <HttpError 400 when requesting https://www.googleapis.com/calendar/v3/calendars/primary/events?alt=json returned \"The specified time range is empty.\". Details: \"[{'domain': 'calendar', 'reason': 'timeRangeEmpty', 'message': 'The specified time range is empty.', 'locationType': 'parameter', 'location': 'timeMax'}]\">\n"
     ]
    },
    {
     "name": "stderr",
     "output_type": "stream",
     "text": [
      "C:\\Users\\heans\\AppData\\Local\\Temp\\ipykernel_22024\\3996378728.py:43: FutureWarning: Parsed string \"2024-12-24 00:00:00T23:59\" included an un-recognized timezone \"T\". Dropping unrecognized timezones is deprecated; in a future version this will raise. Instead pass the string without the timezone, then use .tz_localize to convert to a recognized timezone.\n",
      "  start_time_obj = pd.to_datetime(start_datetime_str)\n",
      "C:\\Users\\heans\\AppData\\Local\\Temp\\ipykernel_22024\\3996378728.py:43: FutureWarning: Parsed string \"2024-12-25 00:00:00T09:00\" included an un-recognized timezone \"T\". Dropping unrecognized timezones is deprecated; in a future version this will raise. Instead pass the string without the timezone, then use .tz_localize to convert to a recognized timezone.\n",
      "  start_time_obj = pd.to_datetime(start_datetime_str)\n"
     ]
    },
    {
     "name": "stdout",
     "output_type": "stream",
     "text": [
      "Event created: https://www.google.com/calendar/event?eid=MmtsaW5tMnZuaTViMTVkaG9ub3EzZG92OGcgdGVzdC0yMTVAbHVja3ktcmVhY3Rvci00NDMzMDgtcjQuaWFtLmdzZXJ2aWNlYWNjb3VudC5jb20\n",
      "Error creating event for row 1741: <HttpError 400 when requesting https://www.googleapis.com/calendar/v3/calendars/primary/events?alt=json returned \"The specified time range is empty.\". Details: \"[{'domain': 'calendar', 'reason': 'timeRangeEmpty', 'message': 'The specified time range is empty.', 'locationType': 'parameter', 'location': 'timeMax'}]\">\n"
     ]
    },
    {
     "name": "stderr",
     "output_type": "stream",
     "text": [
      "C:\\Users\\heans\\AppData\\Local\\Temp\\ipykernel_22024\\3996378728.py:43: FutureWarning: Parsed string \"2024-12-25 00:00:00T20:00\" included an un-recognized timezone \"T\". Dropping unrecognized timezones is deprecated; in a future version this will raise. Instead pass the string without the timezone, then use .tz_localize to convert to a recognized timezone.\n",
      "  start_time_obj = pd.to_datetime(start_datetime_str)\n",
      "C:\\Users\\heans\\AppData\\Local\\Temp\\ipykernel_22024\\3996378728.py:43: FutureWarning: Parsed string \"2024-12-25 00:00:00T21:00\" included an un-recognized timezone \"T\". Dropping unrecognized timezones is deprecated; in a future version this will raise. Instead pass the string without the timezone, then use .tz_localize to convert to a recognized timezone.\n",
      "  start_time_obj = pd.to_datetime(start_datetime_str)\n"
     ]
    },
    {
     "name": "stdout",
     "output_type": "stream",
     "text": [
      "Error creating event for row 1742: <HttpError 400 when requesting https://www.googleapis.com/calendar/v3/calendars/primary/events?alt=json returned \"The specified time range is empty.\". Details: \"[{'domain': 'calendar', 'reason': 'timeRangeEmpty', 'message': 'The specified time range is empty.', 'locationType': 'parameter', 'location': 'timeMax'}]\">\n"
     ]
    },
    {
     "name": "stderr",
     "output_type": "stream",
     "text": [
      "C:\\Users\\heans\\AppData\\Local\\Temp\\ipykernel_22024\\3996378728.py:43: FutureWarning: Parsed string \"2024-12-25 00:00:00T23:00\" included an un-recognized timezone \"T\". Dropping unrecognized timezones is deprecated; in a future version this will raise. Instead pass the string without the timezone, then use .tz_localize to convert to a recognized timezone.\n",
      "  start_time_obj = pd.to_datetime(start_datetime_str)\n"
     ]
    },
    {
     "name": "stdout",
     "output_type": "stream",
     "text": [
      "Error creating event for row 1743: <HttpError 400 when requesting https://www.googleapis.com/calendar/v3/calendars/primary/events?alt=json returned \"The specified time range is empty.\". Details: \"[{'domain': 'calendar', 'reason': 'timeRangeEmpty', 'message': 'The specified time range is empty.', 'locationType': 'parameter', 'location': 'timeMax'}]\">\n",
      "Error creating event for row 1744: <HttpError 400 when requesting https://www.googleapis.com/calendar/v3/calendars/primary/events?alt=json returned \"The specified time range is empty.\". Details: \"[{'domain': 'calendar', 'reason': 'timeRangeEmpty', 'message': 'The specified time range is empty.', 'locationType': 'parameter', 'location': 'timeMax'}]\">\n"
     ]
    },
    {
     "name": "stderr",
     "output_type": "stream",
     "text": [
      "C:\\Users\\heans\\AppData\\Local\\Temp\\ipykernel_22024\\3996378728.py:43: FutureWarning: Parsed string \"2024-12-26 00:00:00T21:00\" included an un-recognized timezone \"T\". Dropping unrecognized timezones is deprecated; in a future version this will raise. Instead pass the string without the timezone, then use .tz_localize to convert to a recognized timezone.\n",
      "  start_time_obj = pd.to_datetime(start_datetime_str)\n",
      "C:\\Users\\heans\\AppData\\Local\\Temp\\ipykernel_22024\\3996378728.py:43: FutureWarning: Parsed string \"2024-12-26 00:00:00T23:00\" included an un-recognized timezone \"T\". Dropping unrecognized timezones is deprecated; in a future version this will raise. Instead pass the string without the timezone, then use .tz_localize to convert to a recognized timezone.\n",
      "  start_time_obj = pd.to_datetime(start_datetime_str)\n"
     ]
    },
    {
     "name": "stdout",
     "output_type": "stream",
     "text": [
      "Error creating event for row 1745: <HttpError 400 when requesting https://www.googleapis.com/calendar/v3/calendars/primary/events?alt=json returned \"The specified time range is empty.\". Details: \"[{'domain': 'calendar', 'reason': 'timeRangeEmpty', 'message': 'The specified time range is empty.', 'locationType': 'parameter', 'location': 'timeMax'}]\">\n"
     ]
    },
    {
     "name": "stderr",
     "output_type": "stream",
     "text": [
      "C:\\Users\\heans\\AppData\\Local\\Temp\\ipykernel_22024\\3996378728.py:43: FutureWarning: Parsed string \"2024-12-27 00:00:00T00:00\" included an un-recognized timezone \"T\". Dropping unrecognized timezones is deprecated; in a future version this will raise. Instead pass the string without the timezone, then use .tz_localize to convert to a recognized timezone.\n",
      "  start_time_obj = pd.to_datetime(start_datetime_str)\n"
     ]
    },
    {
     "name": "stdout",
     "output_type": "stream",
     "text": [
      "Event created: https://www.google.com/calendar/event?eid=YTA5cm0xOXBodDM3Z3E4NWduNjg2c20ybGsgdGVzdC0yMTVAbHVja3ktcmVhY3Rvci00NDMzMDgtcjQuaWFtLmdzZXJ2aWNlYWNjb3VudC5jb20\n"
     ]
    },
    {
     "name": "stderr",
     "output_type": "stream",
     "text": [
      "C:\\Users\\heans\\AppData\\Local\\Temp\\ipykernel_22024\\3996378728.py:43: FutureWarning: Parsed string \"2024-12-27 00:00:00T19:00\" included an un-recognized timezone \"T\". Dropping unrecognized timezones is deprecated; in a future version this will raise. Instead pass the string without the timezone, then use .tz_localize to convert to a recognized timezone.\n",
      "  start_time_obj = pd.to_datetime(start_datetime_str)\n"
     ]
    },
    {
     "name": "stdout",
     "output_type": "stream",
     "text": [
      "Error creating event for row 1747: <HttpError 400 when requesting https://www.googleapis.com/calendar/v3/calendars/primary/events?alt=json returned \"The specified time range is empty.\". Details: \"[{'domain': 'calendar', 'reason': 'timeRangeEmpty', 'message': 'The specified time range is empty.', 'locationType': 'parameter', 'location': 'timeMax'}]\">\n"
     ]
    },
    {
     "name": "stderr",
     "output_type": "stream",
     "text": [
      "C:\\Users\\heans\\AppData\\Local\\Temp\\ipykernel_22024\\3996378728.py:43: FutureWarning: Parsed string \"2024-12-27 00:00:00T20:00\" included an un-recognized timezone \"T\". Dropping unrecognized timezones is deprecated; in a future version this will raise. Instead pass the string without the timezone, then use .tz_localize to convert to a recognized timezone.\n",
      "  start_time_obj = pd.to_datetime(start_datetime_str)\n"
     ]
    },
    {
     "name": "stdout",
     "output_type": "stream",
     "text": [
      "Error creating event for row 1748: <HttpError 400 when requesting https://www.googleapis.com/calendar/v3/calendars/primary/events?alt=json returned \"The specified time range is empty.\". Details: \"[{'domain': 'calendar', 'reason': 'timeRangeEmpty', 'message': 'The specified time range is empty.', 'locationType': 'parameter', 'location': 'timeMax'}]\">\n",
      "Error creating event for row 1749: <HttpError 400 when requesting https://www.googleapis.com/calendar/v3/calendars/primary/events?alt=json returned \"The specified time range is empty.\". Details: \"[{'domain': 'calendar', 'reason': 'timeRangeEmpty', 'message': 'The specified time range is empty.', 'locationType': 'parameter', 'location': 'timeMax'}]\">\n"
     ]
    },
    {
     "name": "stderr",
     "output_type": "stream",
     "text": [
      "C:\\Users\\heans\\AppData\\Local\\Temp\\ipykernel_22024\\3996378728.py:43: FutureWarning: Parsed string \"2024-12-27 00:00:00T20:30\" included an un-recognized timezone \"T\". Dropping unrecognized timezones is deprecated; in a future version this will raise. Instead pass the string without the timezone, then use .tz_localize to convert to a recognized timezone.\n",
      "  start_time_obj = pd.to_datetime(start_datetime_str)\n"
     ]
    },
    {
     "name": "stdout",
     "output_type": "stream",
     "text": [
      "Error creating event for row 1750: <HttpError 400 when requesting https://www.googleapis.com/calendar/v3/calendars/primary/events?alt=json returned \"The specified time range is empty.\". Details: \"[{'domain': 'calendar', 'reason': 'timeRangeEmpty', 'message': 'The specified time range is empty.', 'locationType': 'parameter', 'location': 'timeMax'}]\">\n"
     ]
    },
    {
     "name": "stderr",
     "output_type": "stream",
     "text": [
      "C:\\Users\\heans\\AppData\\Local\\Temp\\ipykernel_22024\\3996378728.py:43: FutureWarning: Parsed string \"2024-12-27 00:00:00T22:00\" included an un-recognized timezone \"T\". Dropping unrecognized timezones is deprecated; in a future version this will raise. Instead pass the string without the timezone, then use .tz_localize to convert to a recognized timezone.\n",
      "  start_time_obj = pd.to_datetime(start_datetime_str)\n"
     ]
    },
    {
     "name": "stdout",
     "output_type": "stream",
     "text": [
      "Error creating event for row 1751: <HttpError 400 when requesting https://www.googleapis.com/calendar/v3/calendars/primary/events?alt=json returned \"The specified time range is empty.\". Details: \"[{'domain': 'calendar', 'reason': 'timeRangeEmpty', 'message': 'The specified time range is empty.', 'locationType': 'parameter', 'location': 'timeMax'}]\">\n",
      "Error creating event for row 1752: <HttpError 400 when requesting https://www.googleapis.com/calendar/v3/calendars/primary/events?alt=json returned \"The specified time range is empty.\". Details: \"[{'domain': 'calendar', 'reason': 'timeRangeEmpty', 'message': 'The specified time range is empty.', 'locationType': 'parameter', 'location': 'timeMax'}]\">\n"
     ]
    },
    {
     "name": "stderr",
     "output_type": "stream",
     "text": [
      "C:\\Users\\heans\\AppData\\Local\\Temp\\ipykernel_22024\\3996378728.py:43: FutureWarning: Parsed string \"2024-12-27 00:00:00T23:59\" included an un-recognized timezone \"T\". Dropping unrecognized timezones is deprecated; in a future version this will raise. Instead pass the string without the timezone, then use .tz_localize to convert to a recognized timezone.\n",
      "  start_time_obj = pd.to_datetime(start_datetime_str)\n",
      "C:\\Users\\heans\\AppData\\Local\\Temp\\ipykernel_22024\\3996378728.py:43: FutureWarning: Parsed string \"2024-12-28 00:00:00T14:00\" included an un-recognized timezone \"T\". Dropping unrecognized timezones is deprecated; in a future version this will raise. Instead pass the string without the timezone, then use .tz_localize to convert to a recognized timezone.\n",
      "  start_time_obj = pd.to_datetime(start_datetime_str)\n"
     ]
    },
    {
     "name": "stdout",
     "output_type": "stream",
     "text": [
      "Error creating event for row 1753: <HttpError 400 when requesting https://www.googleapis.com/calendar/v3/calendars/primary/events?alt=json returned \"The specified time range is empty.\". Details: \"[{'domain': 'calendar', 'reason': 'timeRangeEmpty', 'message': 'The specified time range is empty.', 'locationType': 'parameter', 'location': 'timeMax'}]\">\n",
      "Error creating event for row 1754: <HttpError 400 when requesting https://www.googleapis.com/calendar/v3/calendars/primary/events?alt=json returned \"The specified time range is empty.\". Details: \"[{'domain': 'calendar', 'reason': 'timeRangeEmpty', 'message': 'The specified time range is empty.', 'locationType': 'parameter', 'location': 'timeMax'}]\">\n"
     ]
    },
    {
     "name": "stderr",
     "output_type": "stream",
     "text": [
      "C:\\Users\\heans\\AppData\\Local\\Temp\\ipykernel_22024\\3996378728.py:43: FutureWarning: Parsed string \"2024-12-28 00:00:00T20:00\" included an un-recognized timezone \"T\". Dropping unrecognized timezones is deprecated; in a future version this will raise. Instead pass the string without the timezone, then use .tz_localize to convert to a recognized timezone.\n",
      "  start_time_obj = pd.to_datetime(start_datetime_str)\n"
     ]
    },
    {
     "name": "stdout",
     "output_type": "stream",
     "text": [
      "Error creating event for row 1755: <HttpError 400 when requesting https://www.googleapis.com/calendar/v3/calendars/primary/events?alt=json returned \"The specified time range is empty.\". Details: \"[{'domain': 'calendar', 'reason': 'timeRangeEmpty', 'message': 'The specified time range is empty.', 'locationType': 'parameter', 'location': 'timeMax'}]\">\n",
      "Error creating event for row 1756: <HttpError 400 when requesting https://www.googleapis.com/calendar/v3/calendars/primary/events?alt=json returned \"The specified time range is empty.\". Details: \"[{'domain': 'calendar', 'reason': 'timeRangeEmpty', 'message': 'The specified time range is empty.', 'locationType': 'parameter', 'location': 'timeMax'}]\">\n",
      "Error creating event for row 1757: <HttpError 400 when requesting https://www.googleapis.com/calendar/v3/calendars/primary/events?alt=json returned \"The specified time range is empty.\". Details: \"[{'domain': 'calendar', 'reason': 'timeRangeEmpty', 'message': 'The specified time range is empty.', 'locationType': 'parameter', 'location': 'timeMax'}]\">\n",
      "Error creating event for row 1758: <HttpError 400 when requesting https://www.googleapis.com/calendar/v3/calendars/primary/events?alt=json returned \"The specified time range is empty.\". Details: \"[{'domain': 'calendar', 'reason': 'timeRangeEmpty', 'message': 'The specified time range is empty.', 'locationType': 'parameter', 'location': 'timeMax'}]\">\n",
      "Error creating event for row 1759: <HttpError 400 when requesting https://www.googleapis.com/calendar/v3/calendars/primary/events?alt=json returned \"The specified time range is empty.\". Details: \"[{'domain': 'calendar', 'reason': 'timeRangeEmpty', 'message': 'The specified time range is empty.', 'locationType': 'parameter', 'location': 'timeMax'}]\">\n"
     ]
    },
    {
     "name": "stderr",
     "output_type": "stream",
     "text": [
      "C:\\Users\\heans\\AppData\\Local\\Temp\\ipykernel_22024\\3996378728.py:43: FutureWarning: Parsed string \"2024-12-28 00:00:00T22:00\" included an un-recognized timezone \"T\". Dropping unrecognized timezones is deprecated; in a future version this will raise. Instead pass the string without the timezone, then use .tz_localize to convert to a recognized timezone.\n",
      "  start_time_obj = pd.to_datetime(start_datetime_str)\n",
      "C:\\Users\\heans\\AppData\\Local\\Temp\\ipykernel_22024\\3996378728.py:43: FutureWarning: Parsed string \"2024-12-28 00:00:00T23:59\" included an un-recognized timezone \"T\". Dropping unrecognized timezones is deprecated; in a future version this will raise. Instead pass the string without the timezone, then use .tz_localize to convert to a recognized timezone.\n",
      "  start_time_obj = pd.to_datetime(start_datetime_str)\n"
     ]
    },
    {
     "name": "stdout",
     "output_type": "stream",
     "text": [
      "Error creating event for row 1760: <HttpError 400 when requesting https://www.googleapis.com/calendar/v3/calendars/primary/events?alt=json returned \"The specified time range is empty.\". Details: \"[{'domain': 'calendar', 'reason': 'timeRangeEmpty', 'message': 'The specified time range is empty.', 'locationType': 'parameter', 'location': 'timeMax'}]\">\n"
     ]
    },
    {
     "name": "stderr",
     "output_type": "stream",
     "text": [
      "C:\\Users\\heans\\AppData\\Local\\Temp\\ipykernel_22024\\3996378728.py:43: FutureWarning: Parsed string \"2024-12-29 00:00:00T14:00\" included an un-recognized timezone \"T\". Dropping unrecognized timezones is deprecated; in a future version this will raise. Instead pass the string without the timezone, then use .tz_localize to convert to a recognized timezone.\n",
      "  start_time_obj = pd.to_datetime(start_datetime_str)\n"
     ]
    },
    {
     "name": "stdout",
     "output_type": "stream",
     "text": [
      "Error creating event for row 1761: <HttpError 400 when requesting https://www.googleapis.com/calendar/v3/calendars/primary/events?alt=json returned \"The specified time range is empty.\". Details: \"[{'domain': 'calendar', 'reason': 'timeRangeEmpty', 'message': 'The specified time range is empty.', 'locationType': 'parameter', 'location': 'timeMax'}]\">\n"
     ]
    },
    {
     "name": "stderr",
     "output_type": "stream",
     "text": [
      "C:\\Users\\heans\\AppData\\Local\\Temp\\ipykernel_22024\\3996378728.py:43: FutureWarning: Parsed string \"2024-12-29 00:00:00T19:30\" included an un-recognized timezone \"T\". Dropping unrecognized timezones is deprecated; in a future version this will raise. Instead pass the string without the timezone, then use .tz_localize to convert to a recognized timezone.\n",
      "  start_time_obj = pd.to_datetime(start_datetime_str)\n"
     ]
    },
    {
     "name": "stdout",
     "output_type": "stream",
     "text": [
      "Error creating event for row 1762: <HttpError 400 when requesting https://www.googleapis.com/calendar/v3/calendars/primary/events?alt=json returned \"The specified time range is empty.\". Details: \"[{'domain': 'calendar', 'reason': 'timeRangeEmpty', 'message': 'The specified time range is empty.', 'locationType': 'parameter', 'location': 'timeMax'}]\">\n"
     ]
    },
    {
     "name": "stderr",
     "output_type": "stream",
     "text": [
      "C:\\Users\\heans\\AppData\\Local\\Temp\\ipykernel_22024\\3996378728.py:43: FutureWarning: Parsed string \"2024-12-29 00:00:00T20:00\" included an un-recognized timezone \"T\". Dropping unrecognized timezones is deprecated; in a future version this will raise. Instead pass the string without the timezone, then use .tz_localize to convert to a recognized timezone.\n",
      "  start_time_obj = pd.to_datetime(start_datetime_str)\n"
     ]
    },
    {
     "name": "stdout",
     "output_type": "stream",
     "text": [
      "Error creating event for row 1763: <HttpError 400 when requesting https://www.googleapis.com/calendar/v3/calendars/primary/events?alt=json returned \"The specified time range is empty.\". Details: \"[{'domain': 'calendar', 'reason': 'timeRangeEmpty', 'message': 'The specified time range is empty.', 'locationType': 'parameter', 'location': 'timeMax'}]\">\n",
      "Error creating event for row 1764: <HttpError 400 when requesting https://www.googleapis.com/calendar/v3/calendars/primary/events?alt=json returned \"The specified time range is empty.\". Details: \"[{'domain': 'calendar', 'reason': 'timeRangeEmpty', 'message': 'The specified time range is empty.', 'locationType': 'parameter', 'location': 'timeMax'}]\">\n"
     ]
    },
    {
     "name": "stderr",
     "output_type": "stream",
     "text": [
      "C:\\Users\\heans\\AppData\\Local\\Temp\\ipykernel_22024\\3996378728.py:43: FutureWarning: Parsed string \"2024-12-30 00:00:00T20:00\" included an un-recognized timezone \"T\". Dropping unrecognized timezones is deprecated; in a future version this will raise. Instead pass the string without the timezone, then use .tz_localize to convert to a recognized timezone.\n",
      "  start_time_obj = pd.to_datetime(start_datetime_str)\n"
     ]
    },
    {
     "name": "stdout",
     "output_type": "stream",
     "text": [
      "Error creating event for row 1765: <HttpError 400 when requesting https://www.googleapis.com/calendar/v3/calendars/primary/events?alt=json returned \"The specified time range is empty.\". Details: \"[{'domain': 'calendar', 'reason': 'timeRangeEmpty', 'message': 'The specified time range is empty.', 'locationType': 'parameter', 'location': 'timeMax'}]\">\n",
      "Error creating event for row 1766: <HttpError 400 when requesting https://www.googleapis.com/calendar/v3/calendars/primary/events?alt=json returned \"The specified time range is empty.\". Details: \"[{'domain': 'calendar', 'reason': 'timeRangeEmpty', 'message': 'The specified time range is empty.', 'locationType': 'parameter', 'location': 'timeMax'}]\">\n"
     ]
    },
    {
     "name": "stderr",
     "output_type": "stream",
     "text": [
      "C:\\Users\\heans\\AppData\\Local\\Temp\\ipykernel_22024\\3996378728.py:43: FutureWarning: Parsed string \"2024-12-31 00:00:00T18:00\" included an un-recognized timezone \"T\". Dropping unrecognized timezones is deprecated; in a future version this will raise. Instead pass the string without the timezone, then use .tz_localize to convert to a recognized timezone.\n",
      "  start_time_obj = pd.to_datetime(start_datetime_str)\n"
     ]
    },
    {
     "name": "stdout",
     "output_type": "stream",
     "text": [
      "Error creating event for row 1767: <HttpError 400 when requesting https://www.googleapis.com/calendar/v3/calendars/primary/events?alt=json returned \"The specified time range is empty.\". Details: \"[{'domain': 'calendar', 'reason': 'timeRangeEmpty', 'message': 'The specified time range is empty.', 'locationType': 'parameter', 'location': 'timeMax'}]\">\n"
     ]
    },
    {
     "name": "stderr",
     "output_type": "stream",
     "text": [
      "C:\\Users\\heans\\AppData\\Local\\Temp\\ipykernel_22024\\3996378728.py:43: FutureWarning: Parsed string \"2024-12-31 00:00:00T19:55\" included an un-recognized timezone \"T\". Dropping unrecognized timezones is deprecated; in a future version this will raise. Instead pass the string without the timezone, then use .tz_localize to convert to a recognized timezone.\n",
      "  start_time_obj = pd.to_datetime(start_datetime_str)\n"
     ]
    },
    {
     "name": "stdout",
     "output_type": "stream",
     "text": [
      "Error creating event for row 1768: <HttpError 400 when requesting https://www.googleapis.com/calendar/v3/calendars/primary/events?alt=json returned \"The specified time range is empty.\". Details: \"[{'domain': 'calendar', 'reason': 'timeRangeEmpty', 'message': 'The specified time range is empty.', 'locationType': 'parameter', 'location': 'timeMax'}]\">\n",
      "Error creating event for row 1769: <HttpError 400 when requesting https://www.googleapis.com/calendar/v3/calendars/primary/events?alt=json returned \"The specified time range is empty.\". Details: \"[{'domain': 'calendar', 'reason': 'timeRangeEmpty', 'message': 'The specified time range is empty.', 'locationType': 'parameter', 'location': 'timeMax'}]\">\n"
     ]
    },
    {
     "name": "stderr",
     "output_type": "stream",
     "text": [
      "C:\\Users\\heans\\AppData\\Local\\Temp\\ipykernel_22024\\3996378728.py:43: FutureWarning: Parsed string \"2024-12-31 00:00:00T20:00\" included an un-recognized timezone \"T\". Dropping unrecognized timezones is deprecated; in a future version this will raise. Instead pass the string without the timezone, then use .tz_localize to convert to a recognized timezone.\n",
      "  start_time_obj = pd.to_datetime(start_datetime_str)\n",
      "C:\\Users\\heans\\AppData\\Local\\Temp\\ipykernel_22024\\3996378728.py:43: FutureWarning: Parsed string \"2024-12-31 00:00:00T21:00\" included an un-recognized timezone \"T\". Dropping unrecognized timezones is deprecated; in a future version this will raise. Instead pass the string without the timezone, then use .tz_localize to convert to a recognized timezone.\n",
      "  start_time_obj = pd.to_datetime(start_datetime_str)\n"
     ]
    },
    {
     "name": "stdout",
     "output_type": "stream",
     "text": [
      "Error creating event for row 1770: <HttpError 400 when requesting https://www.googleapis.com/calendar/v3/calendars/primary/events?alt=json returned \"The specified time range is empty.\". Details: \"[{'domain': 'calendar', 'reason': 'timeRangeEmpty', 'message': 'The specified time range is empty.', 'locationType': 'parameter', 'location': 'timeMax'}]\">\n",
      "Error creating event for row 1771: <HttpError 400 when requesting https://www.googleapis.com/calendar/v3/calendars/primary/events?alt=json returned \"The specified time range is empty.\". Details: \"[{'domain': 'calendar', 'reason': 'timeRangeEmpty', 'message': 'The specified time range is empty.', 'locationType': 'parameter', 'location': 'timeMax'}]\">\n"
     ]
    },
    {
     "name": "stderr",
     "output_type": "stream",
     "text": [
      "C:\\Users\\heans\\AppData\\Local\\Temp\\ipykernel_22024\\3996378728.py:43: FutureWarning: Parsed string \"2024-12-31 00:00:00T22:00\" included an un-recognized timezone \"T\". Dropping unrecognized timezones is deprecated; in a future version this will raise. Instead pass the string without the timezone, then use .tz_localize to convert to a recognized timezone.\n",
      "  start_time_obj = pd.to_datetime(start_datetime_str)\n"
     ]
    },
    {
     "name": "stdout",
     "output_type": "stream",
     "text": [
      "Error creating event for row 1772: <HttpError 400 when requesting https://www.googleapis.com/calendar/v3/calendars/primary/events?alt=json returned \"The specified time range is empty.\". Details: \"[{'domain': 'calendar', 'reason': 'timeRangeEmpty', 'message': 'The specified time range is empty.', 'locationType': 'parameter', 'location': 'timeMax'}]\">\n",
      "Error creating event for row 1773: <HttpError 400 when requesting https://www.googleapis.com/calendar/v3/calendars/primary/events?alt=json returned \"The specified time range is empty.\". Details: \"[{'domain': 'calendar', 'reason': 'timeRangeEmpty', 'message': 'The specified time range is empty.', 'locationType': 'parameter', 'location': 'timeMax'}]\">\n",
      "Error creating event for row 1774: <HttpError 400 when requesting https://www.googleapis.com/calendar/v3/calendars/primary/events?alt=json returned \"The specified time range is empty.\". Details: \"[{'domain': 'calendar', 'reason': 'timeRangeEmpty', 'message': 'The specified time range is empty.', 'locationType': 'parameter', 'location': 'timeMax'}]\">\n",
      "Error creating event for row 1775: <HttpError 400 when requesting https://www.googleapis.com/calendar/v3/calendars/primary/events?alt=json returned \"The specified time range is empty.\". Details: \"[{'domain': 'calendar', 'reason': 'timeRangeEmpty', 'message': 'The specified time range is empty.', 'locationType': 'parameter', 'location': 'timeMax'}]\">\n"
     ]
    },
    {
     "name": "stderr",
     "output_type": "stream",
     "text": [
      "C:\\Users\\heans\\AppData\\Local\\Temp\\ipykernel_22024\\3996378728.py:43: FutureWarning: Parsed string \"2024-12-31 00:00:00T23:00\" included an un-recognized timezone \"T\". Dropping unrecognized timezones is deprecated; in a future version this will raise. Instead pass the string without the timezone, then use .tz_localize to convert to a recognized timezone.\n",
      "  start_time_obj = pd.to_datetime(start_datetime_str)\n"
     ]
    },
    {
     "name": "stdout",
     "output_type": "stream",
     "text": [
      "Error creating event for row 1776: <HttpError 400 when requesting https://www.googleapis.com/calendar/v3/calendars/primary/events?alt=json returned \"The specified time range is empty.\". Details: \"[{'domain': 'calendar', 'reason': 'timeRangeEmpty', 'message': 'The specified time range is empty.', 'locationType': 'parameter', 'location': 'timeMax'}]\">\n",
      "Error creating event for row 1777: <HttpError 400 when requesting https://www.googleapis.com/calendar/v3/calendars/primary/events?alt=json returned \"The specified time range is empty.\". Details: \"[{'domain': 'calendar', 'reason': 'timeRangeEmpty', 'message': 'The specified time range is empty.', 'locationType': 'parameter', 'location': 'timeMax'}]\">\n"
     ]
    },
    {
     "name": "stderr",
     "output_type": "stream",
     "text": [
      "C:\\Users\\heans\\AppData\\Local\\Temp\\ipykernel_22024\\3996378728.py:43: FutureWarning: Parsed string \"2025-01-01 00:00:00T00:30\" included an un-recognized timezone \"T\". Dropping unrecognized timezones is deprecated; in a future version this will raise. Instead pass the string without the timezone, then use .tz_localize to convert to a recognized timezone.\n",
      "  start_time_obj = pd.to_datetime(start_datetime_str)\n"
     ]
    },
    {
     "name": "stdout",
     "output_type": "stream",
     "text": [
      "Error creating event for row 1778: <HttpError 400 when requesting https://www.googleapis.com/calendar/v3/calendars/primary/events?alt=json returned \"The specified time range is empty.\". Details: \"[{'domain': 'calendar', 'reason': 'timeRangeEmpty', 'message': 'The specified time range is empty.', 'locationType': 'parameter', 'location': 'timeMax'}]\">\n",
      "Error creating event for row 1779: <HttpError 400 when requesting https://www.googleapis.com/calendar/v3/calendars/primary/events?alt=json returned \"The specified time range is empty.\". Details: \"[{'domain': 'calendar', 'reason': 'timeRangeEmpty', 'message': 'The specified time range is empty.', 'locationType': 'parameter', 'location': 'timeMax'}]\">\n"
     ]
    },
    {
     "name": "stderr",
     "output_type": "stream",
     "text": [
      "C:\\Users\\heans\\AppData\\Local\\Temp\\ipykernel_22024\\3996378728.py:43: FutureWarning: Parsed string \"2025-01-01 00:00:00T18:00\" included an un-recognized timezone \"T\". Dropping unrecognized timezones is deprecated; in a future version this will raise. Instead pass the string without the timezone, then use .tz_localize to convert to a recognized timezone.\n",
      "  start_time_obj = pd.to_datetime(start_datetime_str)\n",
      "C:\\Users\\heans\\AppData\\Local\\Temp\\ipykernel_22024\\3996378728.py:43: FutureWarning: Parsed string \"2025-01-02 00:00:00T16:00\" included an un-recognized timezone \"T\". Dropping unrecognized timezones is deprecated; in a future version this will raise. Instead pass the string without the timezone, then use .tz_localize to convert to a recognized timezone.\n",
      "  start_time_obj = pd.to_datetime(start_datetime_str)\n"
     ]
    },
    {
     "name": "stdout",
     "output_type": "stream",
     "text": [
      "Error creating event for row 1780: <HttpError 400 when requesting https://www.googleapis.com/calendar/v3/calendars/primary/events?alt=json returned \"The specified time range is empty.\". Details: \"[{'domain': 'calendar', 'reason': 'timeRangeEmpty', 'message': 'The specified time range is empty.', 'locationType': 'parameter', 'location': 'timeMax'}]\">\n",
      "Error creating event for row 1781: <HttpError 400 when requesting https://www.googleapis.com/calendar/v3/calendars/primary/events?alt=json returned \"The specified time range is empty.\". Details: \"[{'domain': 'calendar', 'reason': 'timeRangeEmpty', 'message': 'The specified time range is empty.', 'locationType': 'parameter', 'location': 'timeMax'}]\">\n"
     ]
    },
    {
     "name": "stderr",
     "output_type": "stream",
     "text": [
      "C:\\Users\\heans\\AppData\\Local\\Temp\\ipykernel_22024\\3996378728.py:43: FutureWarning: Parsed string \"2025-01-02 00:00:00T22:00\" included an un-recognized timezone \"T\". Dropping unrecognized timezones is deprecated; in a future version this will raise. Instead pass the string without the timezone, then use .tz_localize to convert to a recognized timezone.\n",
      "  start_time_obj = pd.to_datetime(start_datetime_str)\n",
      "C:\\Users\\heans\\AppData\\Local\\Temp\\ipykernel_22024\\3996378728.py:43: FutureWarning: Parsed string \"2025-01-03 00:00:00T18:00\" included an un-recognized timezone \"T\". Dropping unrecognized timezones is deprecated; in a future version this will raise. Instead pass the string without the timezone, then use .tz_localize to convert to a recognized timezone.\n",
      "  start_time_obj = pd.to_datetime(start_datetime_str)\n"
     ]
    },
    {
     "name": "stdout",
     "output_type": "stream",
     "text": [
      "Error creating event for row 1782: <HttpError 400 when requesting https://www.googleapis.com/calendar/v3/calendars/primary/events?alt=json returned \"The specified time range is empty.\". Details: \"[{'domain': 'calendar', 'reason': 'timeRangeEmpty', 'message': 'The specified time range is empty.', 'locationType': 'parameter', 'location': 'timeMax'}]\">\n",
      "Error creating event for row 1783: <HttpError 400 when requesting https://www.googleapis.com/calendar/v3/calendars/primary/events?alt=json returned \"The specified time range is empty.\". Details: \"[{'domain': 'calendar', 'reason': 'timeRangeEmpty', 'message': 'The specified time range is empty.', 'locationType': 'parameter', 'location': 'timeMax'}]\">\n"
     ]
    },
    {
     "name": "stderr",
     "output_type": "stream",
     "text": [
      "C:\\Users\\heans\\AppData\\Local\\Temp\\ipykernel_22024\\3996378728.py:43: FutureWarning: Parsed string \"2025-01-03 00:00:00T20:00\" included an un-recognized timezone \"T\". Dropping unrecognized timezones is deprecated; in a future version this will raise. Instead pass the string without the timezone, then use .tz_localize to convert to a recognized timezone.\n",
      "  start_time_obj = pd.to_datetime(start_datetime_str)\n"
     ]
    },
    {
     "name": "stdout",
     "output_type": "stream",
     "text": [
      "Error creating event for row 1784: <HttpError 400 when requesting https://www.googleapis.com/calendar/v3/calendars/primary/events?alt=json returned \"The specified time range is empty.\". Details: \"[{'domain': 'calendar', 'reason': 'timeRangeEmpty', 'message': 'The specified time range is empty.', 'locationType': 'parameter', 'location': 'timeMax'}]\">\n"
     ]
    },
    {
     "name": "stderr",
     "output_type": "stream",
     "text": [
      "C:\\Users\\heans\\AppData\\Local\\Temp\\ipykernel_22024\\3996378728.py:43: FutureWarning: Parsed string \"2025-01-03 00:00:00T22:30\" included an un-recognized timezone \"T\". Dropping unrecognized timezones is deprecated; in a future version this will raise. Instead pass the string without the timezone, then use .tz_localize to convert to a recognized timezone.\n",
      "  start_time_obj = pd.to_datetime(start_datetime_str)\n"
     ]
    },
    {
     "name": "stdout",
     "output_type": "stream",
     "text": [
      "Error creating event for row 1785: <HttpError 400 when requesting https://www.googleapis.com/calendar/v3/calendars/primary/events?alt=json returned \"The specified time range is empty.\". Details: \"[{'domain': 'calendar', 'reason': 'timeRangeEmpty', 'message': 'The specified time range is empty.', 'locationType': 'parameter', 'location': 'timeMax'}]\">\n"
     ]
    },
    {
     "name": "stderr",
     "output_type": "stream",
     "text": [
      "C:\\Users\\heans\\AppData\\Local\\Temp\\ipykernel_22024\\3996378728.py:43: FutureWarning: Parsed string \"2025-01-04 00:00:00T19:00\" included an un-recognized timezone \"T\". Dropping unrecognized timezones is deprecated; in a future version this will raise. Instead pass the string without the timezone, then use .tz_localize to convert to a recognized timezone.\n",
      "  start_time_obj = pd.to_datetime(start_datetime_str)\n"
     ]
    },
    {
     "name": "stdout",
     "output_type": "stream",
     "text": [
      "Error creating event for row 1786: <HttpError 400 when requesting https://www.googleapis.com/calendar/v3/calendars/primary/events?alt=json returned \"The specified time range is empty.\". Details: \"[{'domain': 'calendar', 'reason': 'timeRangeEmpty', 'message': 'The specified time range is empty.', 'locationType': 'parameter', 'location': 'timeMax'}]\">\n"
     ]
    },
    {
     "name": "stderr",
     "output_type": "stream",
     "text": [
      "C:\\Users\\heans\\AppData\\Local\\Temp\\ipykernel_22024\\3996378728.py:43: FutureWarning: Parsed string \"2025-01-04 00:00:00T20:00\" included an un-recognized timezone \"T\". Dropping unrecognized timezones is deprecated; in a future version this will raise. Instead pass the string without the timezone, then use .tz_localize to convert to a recognized timezone.\n",
      "  start_time_obj = pd.to_datetime(start_datetime_str)\n"
     ]
    },
    {
     "name": "stdout",
     "output_type": "stream",
     "text": [
      "Error creating event for row 1787: <HttpError 400 when requesting https://www.googleapis.com/calendar/v3/calendars/primary/events?alt=json returned \"The specified time range is empty.\". Details: \"[{'domain': 'calendar', 'reason': 'timeRangeEmpty', 'message': 'The specified time range is empty.', 'locationType': 'parameter', 'location': 'timeMax'}]\">\n",
      "Error creating event for row 1788: <HttpError 400 when requesting https://www.googleapis.com/calendar/v3/calendars/primary/events?alt=json returned \"The specified time range is empty.\". Details: \"[{'domain': 'calendar', 'reason': 'timeRangeEmpty', 'message': 'The specified time range is empty.', 'locationType': 'parameter', 'location': 'timeMax'}]\">\n"
     ]
    },
    {
     "name": "stderr",
     "output_type": "stream",
     "text": [
      "C:\\Users\\heans\\AppData\\Local\\Temp\\ipykernel_22024\\3996378728.py:43: FutureWarning: Parsed string \"2025-01-04 00:00:00T21:00\" included an un-recognized timezone \"T\". Dropping unrecognized timezones is deprecated; in a future version this will raise. Instead pass the string without the timezone, then use .tz_localize to convert to a recognized timezone.\n",
      "  start_time_obj = pd.to_datetime(start_datetime_str)\n",
      "C:\\Users\\heans\\AppData\\Local\\Temp\\ipykernel_22024\\3996378728.py:43: FutureWarning: Parsed string \"2025-01-04 00:00:00T23:00\" included an un-recognized timezone \"T\". Dropping unrecognized timezones is deprecated; in a future version this will raise. Instead pass the string without the timezone, then use .tz_localize to convert to a recognized timezone.\n",
      "  start_time_obj = pd.to_datetime(start_datetime_str)\n"
     ]
    },
    {
     "name": "stdout",
     "output_type": "stream",
     "text": [
      "Error creating event for row 1789: <HttpError 400 when requesting https://www.googleapis.com/calendar/v3/calendars/primary/events?alt=json returned \"The specified time range is empty.\". Details: \"[{'domain': 'calendar', 'reason': 'timeRangeEmpty', 'message': 'The specified time range is empty.', 'locationType': 'parameter', 'location': 'timeMax'}]\">\n",
      "Error creating event for row 1790: <HttpError 400 when requesting https://www.googleapis.com/calendar/v3/calendars/primary/events?alt=json returned \"The specified time range is empty.\". Details: \"[{'domain': 'calendar', 'reason': 'timeRangeEmpty', 'message': 'The specified time range is empty.', 'locationType': 'parameter', 'location': 'timeMax'}]\">\n"
     ]
    },
    {
     "name": "stderr",
     "output_type": "stream",
     "text": [
      "C:\\Users\\heans\\AppData\\Local\\Temp\\ipykernel_22024\\3996378728.py:43: FutureWarning: Parsed string \"2025-01-05 00:00:00T11:00\" included an un-recognized timezone \"T\". Dropping unrecognized timezones is deprecated; in a future version this will raise. Instead pass the string without the timezone, then use .tz_localize to convert to a recognized timezone.\n",
      "  start_time_obj = pd.to_datetime(start_datetime_str)\n",
      "C:\\Users\\heans\\AppData\\Local\\Temp\\ipykernel_22024\\3996378728.py:43: FutureWarning: Parsed string \"2025-01-06 00:00:00T19:00\" included an un-recognized timezone \"T\". Dropping unrecognized timezones is deprecated; in a future version this will raise. Instead pass the string without the timezone, then use .tz_localize to convert to a recognized timezone.\n",
      "  start_time_obj = pd.to_datetime(start_datetime_str)\n"
     ]
    },
    {
     "name": "stdout",
     "output_type": "stream",
     "text": [
      "Error creating event for row 1791: <HttpError 400 when requesting https://www.googleapis.com/calendar/v3/calendars/primary/events?alt=json returned \"The specified time range is empty.\". Details: \"[{'domain': 'calendar', 'reason': 'timeRangeEmpty', 'message': 'The specified time range is empty.', 'locationType': 'parameter', 'location': 'timeMax'}]\">\n"
     ]
    },
    {
     "name": "stderr",
     "output_type": "stream",
     "text": [
      "C:\\Users\\heans\\AppData\\Local\\Temp\\ipykernel_22024\\3996378728.py:43: FutureWarning: Parsed string \"2025-01-06 00:00:00T19:30\" included an un-recognized timezone \"T\". Dropping unrecognized timezones is deprecated; in a future version this will raise. Instead pass the string without the timezone, then use .tz_localize to convert to a recognized timezone.\n",
      "  start_time_obj = pd.to_datetime(start_datetime_str)\n"
     ]
    },
    {
     "name": "stdout",
     "output_type": "stream",
     "text": [
      "Error creating event for row 1792: <HttpError 400 when requesting https://www.googleapis.com/calendar/v3/calendars/primary/events?alt=json returned \"The specified time range is empty.\". Details: \"[{'domain': 'calendar', 'reason': 'timeRangeEmpty', 'message': 'The specified time range is empty.', 'locationType': 'parameter', 'location': 'timeMax'}]\">\n",
      "Error creating event for row 1793: <HttpError 400 when requesting https://www.googleapis.com/calendar/v3/calendars/primary/events?alt=json returned \"The specified time range is empty.\". Details: \"[{'domain': 'calendar', 'reason': 'timeRangeEmpty', 'message': 'The specified time range is empty.', 'locationType': 'parameter', 'location': 'timeMax'}]\">\n"
     ]
    },
    {
     "name": "stderr",
     "output_type": "stream",
     "text": [
      "C:\\Users\\heans\\AppData\\Local\\Temp\\ipykernel_22024\\3996378728.py:43: FutureWarning: Parsed string \"2025-01-06 00:00:00T20:00\" included an un-recognized timezone \"T\". Dropping unrecognized timezones is deprecated; in a future version this will raise. Instead pass the string without the timezone, then use .tz_localize to convert to a recognized timezone.\n",
      "  start_time_obj = pd.to_datetime(start_datetime_str)\n",
      "C:\\Users\\heans\\AppData\\Local\\Temp\\ipykernel_22024\\3996378728.py:43: FutureWarning: Parsed string \"2025-01-07 00:00:00T20:00\" included an un-recognized timezone \"T\". Dropping unrecognized timezones is deprecated; in a future version this will raise. Instead pass the string without the timezone, then use .tz_localize to convert to a recognized timezone.\n",
      "  start_time_obj = pd.to_datetime(start_datetime_str)\n"
     ]
    },
    {
     "name": "stdout",
     "output_type": "stream",
     "text": [
      "Error creating event for row 1794: <HttpError 400 when requesting https://www.googleapis.com/calendar/v3/calendars/primary/events?alt=json returned \"The specified time range is empty.\". Details: \"[{'domain': 'calendar', 'reason': 'timeRangeEmpty', 'message': 'The specified time range is empty.', 'locationType': 'parameter', 'location': 'timeMax'}]\">\n"
     ]
    },
    {
     "name": "stderr",
     "output_type": "stream",
     "text": [
      "C:\\Users\\heans\\AppData\\Local\\Temp\\ipykernel_22024\\3996378728.py:43: FutureWarning: Parsed string \"2025-01-08 00:00:00T19:00\" included an un-recognized timezone \"T\". Dropping unrecognized timezones is deprecated; in a future version this will raise. Instead pass the string without the timezone, then use .tz_localize to convert to a recognized timezone.\n",
      "  start_time_obj = pd.to_datetime(start_datetime_str)\n"
     ]
    },
    {
     "name": "stdout",
     "output_type": "stream",
     "text": [
      "Error creating event for row 1795: <HttpError 400 when requesting https://www.googleapis.com/calendar/v3/calendars/primary/events?alt=json returned \"The specified time range is empty.\". Details: \"[{'domain': 'calendar', 'reason': 'timeRangeEmpty', 'message': 'The specified time range is empty.', 'locationType': 'parameter', 'location': 'timeMax'}]\">\n"
     ]
    },
    {
     "name": "stderr",
     "output_type": "stream",
     "text": [
      "C:\\Users\\heans\\AppData\\Local\\Temp\\ipykernel_22024\\3996378728.py:43: FutureWarning: Parsed string \"2025-01-08 00:00:00T19:30\" included an un-recognized timezone \"T\". Dropping unrecognized timezones is deprecated; in a future version this will raise. Instead pass the string without the timezone, then use .tz_localize to convert to a recognized timezone.\n",
      "  start_time_obj = pd.to_datetime(start_datetime_str)\n"
     ]
    },
    {
     "name": "stdout",
     "output_type": "stream",
     "text": [
      "Error creating event for row 1796: <HttpError 400 when requesting https://www.googleapis.com/calendar/v3/calendars/primary/events?alt=json returned \"The specified time range is empty.\". Details: \"[{'domain': 'calendar', 'reason': 'timeRangeEmpty', 'message': 'The specified time range is empty.', 'locationType': 'parameter', 'location': 'timeMax'}]\">\n",
      "Error creating event for row 1797: <HttpError 400 when requesting https://www.googleapis.com/calendar/v3/calendars/primary/events?alt=json returned \"The specified time range is empty.\". Details: \"[{'domain': 'calendar', 'reason': 'timeRangeEmpty', 'message': 'The specified time range is empty.', 'locationType': 'parameter', 'location': 'timeMax'}]\">\n"
     ]
    },
    {
     "name": "stderr",
     "output_type": "stream",
     "text": [
      "C:\\Users\\heans\\AppData\\Local\\Temp\\ipykernel_22024\\3996378728.py:43: FutureWarning: Parsed string \"2025-01-08 00:00:00T20:00\" included an un-recognized timezone \"T\". Dropping unrecognized timezones is deprecated; in a future version this will raise. Instead pass the string without the timezone, then use .tz_localize to convert to a recognized timezone.\n",
      "  start_time_obj = pd.to_datetime(start_datetime_str)\n",
      "C:\\Users\\heans\\AppData\\Local\\Temp\\ipykernel_22024\\3996378728.py:43: FutureWarning: Parsed string \"2025-01-09 00:00:00T19:30\" included an un-recognized timezone \"T\". Dropping unrecognized timezones is deprecated; in a future version this will raise. Instead pass the string without the timezone, then use .tz_localize to convert to a recognized timezone.\n",
      "  start_time_obj = pd.to_datetime(start_datetime_str)\n"
     ]
    },
    {
     "name": "stdout",
     "output_type": "stream",
     "text": [
      "Error creating event for row 1798: <HttpError 400 when requesting https://www.googleapis.com/calendar/v3/calendars/primary/events?alt=json returned \"The specified time range is empty.\". Details: \"[{'domain': 'calendar', 'reason': 'timeRangeEmpty', 'message': 'The specified time range is empty.', 'locationType': 'parameter', 'location': 'timeMax'}]\">\n",
      "Error creating event for row 1799: <HttpError 400 when requesting https://www.googleapis.com/calendar/v3/calendars/primary/events?alt=json returned \"The specified time range is empty.\". Details: \"[{'domain': 'calendar', 'reason': 'timeRangeEmpty', 'message': 'The specified time range is empty.', 'locationType': 'parameter', 'location': 'timeMax'}]\">\n"
     ]
    },
    {
     "name": "stderr",
     "output_type": "stream",
     "text": [
      "C:\\Users\\heans\\AppData\\Local\\Temp\\ipykernel_22024\\3996378728.py:43: FutureWarning: Parsed string \"2025-01-10 00:00:00T14:00\" included an un-recognized timezone \"T\". Dropping unrecognized timezones is deprecated; in a future version this will raise. Instead pass the string without the timezone, then use .tz_localize to convert to a recognized timezone.\n",
      "  start_time_obj = pd.to_datetime(start_datetime_str)\n"
     ]
    },
    {
     "name": "stdout",
     "output_type": "stream",
     "text": [
      "Error creating event for row 1800: <HttpError 400 when requesting https://www.googleapis.com/calendar/v3/calendars/primary/events?alt=json returned \"The specified time range is empty.\". Details: \"[{'domain': 'calendar', 'reason': 'timeRangeEmpty', 'message': 'The specified time range is empty.', 'locationType': 'parameter', 'location': 'timeMax'}]\">\n",
      "Error creating event for row 1801: <HttpError 400 when requesting https://www.googleapis.com/calendar/v3/calendars/primary/events?alt=json returned \"The specified time range is empty.\". Details: \"[{'domain': 'calendar', 'reason': 'timeRangeEmpty', 'message': 'The specified time range is empty.', 'locationType': 'parameter', 'location': 'timeMax'}]\">\n"
     ]
    },
    {
     "name": "stderr",
     "output_type": "stream",
     "text": [
      "C:\\Users\\heans\\AppData\\Local\\Temp\\ipykernel_22024\\3996378728.py:43: FutureWarning: Parsed string \"2025-01-10 00:00:00T18:00\" included an un-recognized timezone \"T\". Dropping unrecognized timezones is deprecated; in a future version this will raise. Instead pass the string without the timezone, then use .tz_localize to convert to a recognized timezone.\n",
      "  start_time_obj = pd.to_datetime(start_datetime_str)\n",
      "C:\\Users\\heans\\AppData\\Local\\Temp\\ipykernel_22024\\3996378728.py:43: FutureWarning: Parsed string \"2025-01-11 00:00:00T14:00\" included an un-recognized timezone \"T\". Dropping unrecognized timezones is deprecated; in a future version this will raise. Instead pass the string without the timezone, then use .tz_localize to convert to a recognized timezone.\n",
      "  start_time_obj = pd.to_datetime(start_datetime_str)\n"
     ]
    },
    {
     "name": "stdout",
     "output_type": "stream",
     "text": [
      "Error creating event for row 1802: <HttpError 400 when requesting https://www.googleapis.com/calendar/v3/calendars/primary/events?alt=json returned \"The specified time range is empty.\". Details: \"[{'domain': 'calendar', 'reason': 'timeRangeEmpty', 'message': 'The specified time range is empty.', 'locationType': 'parameter', 'location': 'timeMax'}]\">\n",
      "Error creating event for row 1803: <HttpError 400 when requesting https://www.googleapis.com/calendar/v3/calendars/primary/events?alt=json returned \"The specified time range is empty.\". Details: \"[{'domain': 'calendar', 'reason': 'timeRangeEmpty', 'message': 'The specified time range is empty.', 'locationType': 'parameter', 'location': 'timeMax'}]\">\n"
     ]
    },
    {
     "name": "stderr",
     "output_type": "stream",
     "text": [
      "C:\\Users\\heans\\AppData\\Local\\Temp\\ipykernel_22024\\3996378728.py:43: FutureWarning: Parsed string \"2025-01-11 00:00:00T18:30\" included an un-recognized timezone \"T\". Dropping unrecognized timezones is deprecated; in a future version this will raise. Instead pass the string without the timezone, then use .tz_localize to convert to a recognized timezone.\n",
      "  start_time_obj = pd.to_datetime(start_datetime_str)\n",
      "C:\\Users\\heans\\AppData\\Local\\Temp\\ipykernel_22024\\3996378728.py:43: FutureWarning: Parsed string \"2025-01-11 00:00:00T20:00\" included an un-recognized timezone \"T\". Dropping unrecognized timezones is deprecated; in a future version this will raise. Instead pass the string without the timezone, then use .tz_localize to convert to a recognized timezone.\n",
      "  start_time_obj = pd.to_datetime(start_datetime_str)\n"
     ]
    },
    {
     "name": "stdout",
     "output_type": "stream",
     "text": [
      "Error creating event for row 1804: <HttpError 400 when requesting https://www.googleapis.com/calendar/v3/calendars/primary/events?alt=json returned \"The specified time range is empty.\". Details: \"[{'domain': 'calendar', 'reason': 'timeRangeEmpty', 'message': 'The specified time range is empty.', 'locationType': 'parameter', 'location': 'timeMax'}]\">\n",
      "Error creating event for row 1805: <HttpError 400 when requesting https://www.googleapis.com/calendar/v3/calendars/primary/events?alt=json returned \"The specified time range is empty.\". Details: \"[{'domain': 'calendar', 'reason': 'timeRangeEmpty', 'message': 'The specified time range is empty.', 'locationType': 'parameter', 'location': 'timeMax'}]\">\n"
     ]
    },
    {
     "name": "stderr",
     "output_type": "stream",
     "text": [
      "C:\\Users\\heans\\AppData\\Local\\Temp\\ipykernel_22024\\3996378728.py:43: FutureWarning: Parsed string \"2025-01-11 00:00:00T23:59\" included an un-recognized timezone \"T\". Dropping unrecognized timezones is deprecated; in a future version this will raise. Instead pass the string without the timezone, then use .tz_localize to convert to a recognized timezone.\n",
      "  start_time_obj = pd.to_datetime(start_datetime_str)\n",
      "C:\\Users\\heans\\AppData\\Local\\Temp\\ipykernel_22024\\3996378728.py:43: FutureWarning: Parsed string \"2025-01-12 00:00:00T16:00\" included an un-recognized timezone \"T\". Dropping unrecognized timezones is deprecated; in a future version this will raise. Instead pass the string without the timezone, then use .tz_localize to convert to a recognized timezone.\n",
      "  start_time_obj = pd.to_datetime(start_datetime_str)\n"
     ]
    },
    {
     "name": "stdout",
     "output_type": "stream",
     "text": [
      "Error creating event for row 1806: <HttpError 400 when requesting https://www.googleapis.com/calendar/v3/calendars/primary/events?alt=json returned \"The specified time range is empty.\". Details: \"[{'domain': 'calendar', 'reason': 'timeRangeEmpty', 'message': 'The specified time range is empty.', 'locationType': 'parameter', 'location': 'timeMax'}]\">\n",
      "Success count: 676\n",
      "Failure count: 1131\n"
     ]
    }
   ],
   "source": [
    "# import pandas as pd\n",
    "# from googleapiclient.discovery import build\n",
    "# from datetime import datetime, timedelta\n",
    "\n",
    "# # Assuming `filtered_df` is your DataFrame\n",
    "# # filtered_df example structure:\n",
    "# # ['Subject', 'Location', 'Start Date', 'End Date', 'Start Time', 'End Time', 'Updated_Description', 'Colour']\n",
    "\n",
    "# success_count = 0\n",
    "# failure_count = 0\n",
    "\n",
    "# # Loop through the DataFrame rows\n",
    "# for i, row in filtered_df.iterrows():\n",
    "#     # Extract row data\n",
    "#     start_date_str = row['Start Date']\n",
    "#     end_date_str = row['End Date']\n",
    "#     start_time_str = row['Start Time']\n",
    "#     end_time_str = row['End Time']\n",
    "#     color_id = str(row['Colour'])  # Use the Colour column for the colorId\n",
    "\n",
    "#     try:\n",
    "#         # Check if start_time is NaN (indicating an all-day event)\n",
    "#         if pd.isna(start_time_str):\n",
    "#             # Event is all day, use only date\n",
    "#             start_date_obj = pd.to_datetime(start_date_str).date()  # Convert to date\n",
    "#             end_date_obj = pd.to_datetime(end_date_str).date() if not pd.isna(end_date_str) else start_date_obj\n",
    "\n",
    "#             event = {\n",
    "#                 'summary': row['Subject'],  # Use the Subject column for the event name\n",
    "#                 'location': row['Location'],\n",
    "#                 'start': {\n",
    "#                     'date': start_date_obj.isoformat(),  # Use date for all-day event\n",
    "#                 },\n",
    "#                 'end': {\n",
    "#                     'date': end_date_obj.isoformat(),  # End date for all-day event\n",
    "#                 },\n",
    "#                 'description': row['Description'],  # Use the Description column for the description\n",
    "#                 'colorId': color_id  # Set the color based on the Colour column\n",
    "#             }\n",
    "#         else:\n",
    "#             # Combine date and time for start\n",
    "#             start_datetime_str = f\"{start_date_str}T{start_time_str}\"\n",
    "#             start_time_obj = pd.to_datetime(start_datetime_str)\n",
    "\n",
    "#             # Combine date and time for end, or set to start if end time is missing\n",
    "#             if pd.isna(end_time_str):\n",
    "#                 end_time_obj = start_time_obj  # Use start time for end if missing\n",
    "#             else:\n",
    "#                 end_datetime_str = f\"{end_date_str}T{end_time_str}\"\n",
    "#                 end_time_obj = pd.to_datetime(end_datetime_str)\n",
    "\n",
    "#             event = {\n",
    "#                 'summary': row['Subject'],  # Use the Subject column for the event name\n",
    "#                 'location': row['Location'],\n",
    "#                 'start': {\n",
    "#                     'dateTime': start_time_obj.strftime(\"%Y-%m-%dT%H:%M:%S\"),\n",
    "#                     'timeZone': 'Europe/Berlin',  # Set to your timezone\n",
    "#                 },\n",
    "#                 'end': {\n",
    "#                     'dateTime': end_time_obj.strftime(\"%Y-%m-%dT%H:%M:%S\"),\n",
    "#                     'timeZone': 'Europe/Berlin',  # Set to your timezone\n",
    "#                 },\n",
    "#                 'description': row['Description'],  # Use the Description column for the description\n",
    "#                 'colorId': color_id  # Set the color based on the Colour column\n",
    "#             }\n",
    "\n",
    "#         # Create the event in Google Calendar\n",
    "#         created_event = calendar_service.events().insert(calendarId='primary', body=event).execute()\n",
    "#         print(f\"Event created: {created_event.get('htmlLink')}\")\n",
    "#         success_count += 1\n",
    "#     except Exception as e:\n",
    "#         print(f\"Error creating event for row {i}: {e}\")\n",
    "#         failure_count += 1\n",
    "\n",
    "# # Print the summary of operations\n",
    "# print(f\"Success count: {success_count}\")\n",
    "# print(f\"Failure count: {failure_count}\")\n"
   ]
  },
  {
   "cell_type": "code",
   "execution_count": 64,
   "metadata": {},
   "outputs": [],
   "source": [
    "# # The big event comparison thing.\n",
    "# query = f\"\"\"\n",
    "# with old_events as (\n",
    "#     select *,\n",
    "#     rank() over (partition by Subject order by Start_date, Start_time) as Event_rank\n",
    "#     from (\n",
    "#         select *,\n",
    "#         from {project_id}.{dataset_id}.{table_id_old}\n",
    "#         where End_date >= current_date()\n",
    "#         )\n",
    "    \n",
    "#     ),\n",
    "# today_events as (\n",
    "#     select *,\n",
    "#     rank() over (partition by Subject order by Start_date, Start_time) as Event_rank\n",
    "#     from (\n",
    "#         select *,\n",
    "#         from {project_id}.{dataset_id}.{table_id_old}\n",
    "#         where End_date >= current_date()\n",
    "#         )\n",
    "#     )\n",
    "\n",
    "#     select \n",
    "#     coalesce(t.Subject, p.Subject) AS Subject,       -- Capture events from either today or yesterday\n",
    "#     coalesce(t.Location, p.Location) AS Location,    -- Use today's location if available, otherwise yesterday's\n",
    "#     coalesce(t.`Start_date`, p.`Start_date`) AS Start_date,\n",
    "#     coalesce(t.`End_date`, p.`End_date`) AS End_date,\n",
    "#     coalesce(t.`Start_time`, p.`Start_time`) AS Start_time,\n",
    "#     coalesce(t.`End_time`, p.`End_time`) AS End_time,\n",
    "#     coalesce(t.Description, p.Description) AS Description,\n",
    "#     coalesce(t.City, p.City) AS City,  \n",
    "\n",
    "#     -- Description based on changes\n",
    "#     CASE \n",
    "#         WHEN t.Subject IS NULL AND p.Subject IS NOT NULL THEN CONCAT(p.Description, ' | event deleted')  \n",
    "#         WHEN t.Location != p.Location         THEN CONCAT(t.Description, ' | previous location: ', p.Location)\n",
    "#         WHEN t.`Start_date` != p.`Start_date` AND t.`Start_time` != p.`Start_time` THEN \n",
    "#         CONCAT(t.Description, ' | previous date : ', FORMAT_DATE('%d.%m.%Y', p.`Start_date`), ' at: ', p.`Start_time`)\n",
    "#         WHEN t.`Start_date` != p.`Start_date` THEN \n",
    "#         CONCAT(t.Description, ' | previous date: ', FORMAT_DATE('%d.%m.%Y', p.`Start_date`))\n",
    "#         WHEN t.`Start_time` != p.`Start_time` THEN CONCAT(t.Description, ' | previous time: ', p.`Start_time`)\n",
    "#         ELSE t.Description\n",
    "#     END AS Updated_Description,\n",
    "\n",
    "#     -- Status to track changes: changed, unchanged or deleted events.\n",
    "#     CASE \n",
    "#         WHEN t.Subject IS NULL AND p.Subject IS NOT NULL THEN 'deleted'  -- Event present yesterday but missing today\n",
    "#         WHEN t.Location != p.Location OR t.`Start_date` != p.`Start_date` OR t.`Start_time` != p.`Start_time` THEN 'changed'\n",
    "#         ELSE 'unchanged'\n",
    "#     END AS status\n",
    "\n",
    "\n",
    "#     from today_events t\n",
    "#     full outer join old_events p                        -- p stands for previous (old events).\n",
    "#     on t.Subject = p.Subject and t.Event_rank = p.Event_rank and t.City = p.City\n",
    "#     where coalesce(t.`End_date`, p.`End_date`) >= current_date()\n",
    "# \"\"\"\n",
    "# # execute the query.\n",
    "# query_job = client.query(query).result()"
   ]
  },
  {
   "cell_type": "code",
   "execution_count": null,
   "metadata": {},
   "outputs": [
    {
     "name": "stdout",
     "output_type": "stream",
     "text": [
      "Event created: https://www.google.com/calendar/event?eid=OWFrNjM4bmQ3aDA2MG5ibGgxN2Z2bDFwdXMgZm9rczI0M2RhYmw0QG0\n",
      "Event created: https://www.google.com/calendar/event?eid=dmc3OWcybWwyaGE2MjV2NWs3ZjBjYnB1MDggZm9rczI0M2RhYmw0QG0\n",
      "Event created: https://www.google.com/calendar/event?eid=ZnZuMTdha2JpYXVjYnU1bHBuZ2YwOXJuMDAgZm9rczI0M2RhYmw0QG0\n",
      "Event created: https://www.google.com/calendar/event?eid=aDhhYzZkMTVxYWpkdDg4NmJyMHV1cWQwYnMgZm9rczI0M2RhYmw0QG0\n",
      "Event created: https://www.google.com/calendar/event?eid=N3Vobjh2MHIzazRpdmQ0cmI5b2hkaDhmZ2cgZm9rczI0M2RhYmw0QG0\n",
      "Event created: https://www.google.com/calendar/event?eid=bTBwa2o4Yjd1YTdwOXAwcjJqODVvNG1ydjggZm9rczI0M2RhYmw0QG0\n",
      "Event created: https://www.google.com/calendar/event?eid=NWJ1OXE2b2k1bmRtYmc2a3MybTdtcDZ0OWMgZm9rczI0M2RhYmw0QG0\n",
      "Event created: https://www.google.com/calendar/event?eid=aDNkdDgycjd2NDZubHVjNG90MDgyNWs4YTggZm9rczI0M2RhYmw0QG0\n",
      "Event created: https://www.google.com/calendar/event?eid=NDFlN3Fobm9vMXA4NXZldDhsNzg3dWdqcjAgZm9rczI0M2RhYmw0QG0\n",
      "Event created: https://www.google.com/calendar/event?eid=dWpibWVzcWoxZXFvc25jNGV0MHV0aWw3dW8gZm9rczI0M2RhYmw0QG0\n",
      "Event created: https://www.google.com/calendar/event?eid=bXIxMWxqOTR1cjJ0Z3Y2MTdmMWJlb3E1bDAgZm9rczI0M2RhYmw0QG0\n",
      "Event created: https://www.google.com/calendar/event?eid=cGNqYjQwYXEybzZyYWVkYWxpOTBiMGpjNm8gZm9rczI0M2RhYmw0QG0\n",
      "Event created: https://www.google.com/calendar/event?eid=YnM2ZTI0a2dxNDVqdmJwajBydXQ5aHY5ZGMgZm9rczI0M2RhYmw0QG0\n",
      "Event created: https://www.google.com/calendar/event?eid=Y29zdmtibWUxMm5lZ21waTBlM3R2dDcxOGsgZm9rczI0M2RhYmw0QG0\n",
      "Event created: https://www.google.com/calendar/event?eid=OXQwNTgxbW1mY2Y2a2swa2txcDZldm05ZWcgZm9rczI0M2RhYmw0QG0\n",
      "Event created: https://www.google.com/calendar/event?eid=ZjZpajY1cHFsbGtodjVwbDBpNGQ5ZWFwb28gZm9rczI0M2RhYmw0QG0\n",
      "Event created: https://www.google.com/calendar/event?eid=OGExZ2Zyb3QyZW5lOG4wOW45dGt1b2ZqbGMgZm9rczI0M2RhYmw0QG0\n",
      "Event created: https://www.google.com/calendar/event?eid=ZXRuMnBidmhzbmQxMmc5am42aDF0M242OHMgZm9rczI0M2RhYmw0QG0\n",
      "Event created: https://www.google.com/calendar/event?eid=NmJycWQxMjN0bTE3cjdtcm9uNmVjZ2I3YWMgZm9rczI0M2RhYmw0QG0\n",
      "Event created: https://www.google.com/calendar/event?eid=bHVzZGM3dGZuNWxvZmJydW4wcGUwdmhjMjggZm9rczI0M2RhYmw0QG0\n",
      "Event created: https://www.google.com/calendar/event?eid=OTBhamNza2s3NnYxbjI3ZXVxMmRuaW00ZnMgZm9rczI0M2RhYmw0QG0\n",
      "Event created: https://www.google.com/calendar/event?eid=aGw4dWM5aWM3bWo2cmlpdGliMzVyNzkwNWsgZm9rczI0M2RhYmw0QG0\n",
      "Event created: https://www.google.com/calendar/event?eid=YnBwNzFudTVxcW1vb3Rucm82MDF2YzVvaDQgZm9rczI0M2RhYmw0QG0\n",
      "Event created: https://www.google.com/calendar/event?eid=Yjh2bG40cGhwdXVkNHRyYmE0YWExZDlvNWMgZm9rczI0M2RhYmw0QG0\n",
      "Event created: https://www.google.com/calendar/event?eid=MmJoZ2sydDNnamIwNm5xODJpcmhnZzVlN2cgZm9rczI0M2RhYmw0QG0\n",
      "Event created: https://www.google.com/calendar/event?eid=cHU2aXBmMnVwZWY5bmpxbnU1cmJhYTBlOXMgZm9rczI0M2RhYmw0QG0\n",
      "Event created: https://www.google.com/calendar/event?eid=OTlsZWNqM250N29vbTA3anNzdjBrYnBvcnMgZm9rczI0M2RhYmw0QG0\n",
      "Event created: https://www.google.com/calendar/event?eid=YmxpdDg5MjBwZGxxZTVnYWl2cWE5YTNxYzAgZm9rczI0M2RhYmw0QG0\n",
      "Event created: https://www.google.com/calendar/event?eid=ZmNxZmI2Yjd2MzUwdXBlbWRrN2ticG01NTQgZm9rczI0M2RhYmw0QG0\n",
      "Event created: https://www.google.com/calendar/event?eid=NmFhZG4wODRmZXM4anBwa2Joam44M3ZndDAgZm9rczI0M2RhYmw0QG0\n",
      "Event created: https://www.google.com/calendar/event?eid=NHBrZjlnbWQ3NTU2OXVsN3N2aG5ndDc2ZWcgZm9rczI0M2RhYmw0QG0\n",
      "Event created: https://www.google.com/calendar/event?eid=c2tzMWVrMDM3cTl0dWNzbWtpbTkwdDBrZDAgZm9rczI0M2RhYmw0QG0\n",
      "Event created: https://www.google.com/calendar/event?eid=cXFrdGU2MXN1cDRva2Q0NDd0bmYyc2dqMjAgZm9rczI0M2RhYmw0QG0\n",
      "Event created: https://www.google.com/calendar/event?eid=YTNpcjR2NzdvYWE5MmltbWswNzYwcmo0YXMgZm9rczI0M2RhYmw0QG0\n",
      "Event created: https://www.google.com/calendar/event?eid=Y3R0b2drZGZ2bDZsZGxvdTUwYXZta2dpaWsgZm9rczI0M2RhYmw0QG0\n",
      "Event created: https://www.google.com/calendar/event?eid=dGdzczlwcXRla2RwbmgxYTZkaWhkYmM0MGMgZm9rczI0M2RhYmw0QG0\n",
      "Event created: https://www.google.com/calendar/event?eid=OXVzZmltOWJtN284c2JtbGlrOTJtajFsY2MgZm9rczI0M2RhYmw0QG0\n",
      "Event created: https://www.google.com/calendar/event?eid=Y21jdnRkdjE2MjJ2dWlmNzdibmF2NW9hNGsgZm9rczI0M2RhYmw0QG0\n",
      "Event created: https://www.google.com/calendar/event?eid=aTZyNGg1YXV0YzQ4azZnMGpzczBwZWwyZzggZm9rczI0M2RhYmw0QG0\n",
      "Event created: https://www.google.com/calendar/event?eid=dGZlM3FoMHNoNHAwZmxxOGVsZHJxaWpkbzQgZm9rczI0M2RhYmw0QG0\n",
      "Event created: https://www.google.com/calendar/event?eid=ZGRndjEzYWpwYTl1YXIyazllMTJuZGloZ2cgZm9rczI0M2RhYmw0QG0\n",
      "Event created: https://www.google.com/calendar/event?eid=am4yZWI1ZmliZ2Zhbjh0bGQ1MjRiNmlzbDAgZm9rczI0M2RhYmw0QG0\n",
      "Event created: https://www.google.com/calendar/event?eid=bmptaHJubzUxdjczbWNmZHVyNW1wMzZzYWsgZm9rczI0M2RhYmw0QG0\n",
      "Event created: https://www.google.com/calendar/event?eid=MTE2MGpoa3M3YXFrNGhjc244dXY4aTNjNTQgZm9rczI0M2RhYmw0QG0\n",
      "Event created: https://www.google.com/calendar/event?eid=b2JqNTM2ZTQ2NjNiZXJscGYwbWgwMjRzM3MgZm9rczI0M2RhYmw0QG0\n",
      "Event created: https://www.google.com/calendar/event?eid=ZXExNWxpZ3JyMm9nYWk2czVpbWMxbWViZDQgZm9rczI0M2RhYmw0QG0\n",
      "Event created: https://www.google.com/calendar/event?eid=b3FtZDV2NG45MWkxZjZpYmtxYWlxamZ2bnMgZm9rczI0M2RhYmw0QG0\n",
      "Event created: https://www.google.com/calendar/event?eid=bzJ0YWowMjlwNDNocDNwbTRiYzVrbHY3NmMgZm9rczI0M2RhYmw0QG0\n",
      "Event created: https://www.google.com/calendar/event?eid=dDhwMXU5MDYwbTdyZDVicmsxdTI1M24wb2cgZm9rczI0M2RhYmw0QG0\n",
      "Event created: https://www.google.com/calendar/event?eid=YzBham50ODhjcW9vZDRtdTdqMTllcmc3aWcgZm9rczI0M2RhYmw0QG0\n",
      "Event created: https://www.google.com/calendar/event?eid=cHRlc29ycnNubThjbnFtOTZmcmVocTdmYjAgZm9rczI0M2RhYmw0QG0\n",
      "Event created: https://www.google.com/calendar/event?eid=NHJvYjhxbjY0MGhmNTNsdDcxYjgwc3RhcGcgZm9rczI0M2RhYmw0QG0\n",
      "Event created: https://www.google.com/calendar/event?eid=M2F2bWtpMzgzMnNnZXYyODNuaWlraDJvN2sgZm9rczI0M2RhYmw0QG0\n",
      "Event created: https://www.google.com/calendar/event?eid=cHZpYWU3MTIwZDVhcDYzY3Vrazcyb202OGcgZm9rczI0M2RhYmw0QG0\n",
      "Event created: https://www.google.com/calendar/event?eid=YWFhY2t0Y2pnOXBsaXNmMTVnN2s5YXVkYjggZm9rczI0M2RhYmw0QG0\n",
      "Event created: https://www.google.com/calendar/event?eid=aGIzYnFzMm81OXI4bzk0dmVxbzN0dmkycm8gZm9rczI0M2RhYmw0QG0\n",
      "Event created: https://www.google.com/calendar/event?eid=ZTVmbDVqNnRjdm5vaTlwZ2k1MWR0aDE0cmsgZm9rczI0M2RhYmw0QG0\n",
      "Event created: https://www.google.com/calendar/event?eid=MDQ3bjRqczdxZmJlaThvOHEyYmZvazliOWcgZm9rczI0M2RhYmw0QG0\n",
      "Event created: https://www.google.com/calendar/event?eid=bzZhamIyaHQ3N3ZzazluMjRkczBlbG04cWsgZm9rczI0M2RhYmw0QG0\n",
      "Event created: https://www.google.com/calendar/event?eid=ZmpibzRyZm01bzQ3NTE5a3AwcTZjaG9yZ2MgZm9rczI0M2RhYmw0QG0\n",
      "Event created: https://www.google.com/calendar/event?eid=dnNyZW5jM3EzZzg3MzQ4cjdwdmNoYXM3ZjggZm9rczI0M2RhYmw0QG0\n",
      "Event created: https://www.google.com/calendar/event?eid=aTRhMnFibGwzMzE1MGZtYms5MWJuazlsYTAgZm9rczI0M2RhYmw0QG0\n",
      "Event created: https://www.google.com/calendar/event?eid=ZWxpbTJhYjRjZzdoZTJicGI5ZnVzMzdrbjQgZm9rczI0M2RhYmw0QG0\n",
      "Event created: https://www.google.com/calendar/event?eid=OGVuZXYzOGQ4a2N1YTIxbWFibW9qZDVqYzggZm9rczI0M2RhYmw0QG0\n",
      "Event created: https://www.google.com/calendar/event?eid=cW9pMTgzZGd1Mmw4cWVlMmM4dXQ4NWdpdGMgZm9rczI0M2RhYmw0QG0\n",
      "Event created: https://www.google.com/calendar/event?eid=NXJkN2k0ZXRwZDdiaGkwYnNuZmg5dWI4c3MgZm9rczI0M2RhYmw0QG0\n",
      "Event created: https://www.google.com/calendar/event?eid=NmVhYzQ0YmkwbmQ4c3VrYmEwczQwaGM5YjAgZm9rczI0M2RhYmw0QG0\n",
      "Event created: https://www.google.com/calendar/event?eid=NG8zZW5rNm44OGdoZzh1YTBzbmVrb2tybTQgZm9rczI0M2RhYmw0QG0\n",
      "Event created: https://www.google.com/calendar/event?eid=dm9pYXFlZG82cDM5NHAyYmZiNG4yazhnaGMgZm9rczI0M2RhYmw0QG0\n",
      "Event created: https://www.google.com/calendar/event?eid=OHA4Ym81MjBxMnYzZGRwMGg2bnVjcHQxYjggZm9rczI0M2RhYmw0QG0\n",
      "Event created: https://www.google.com/calendar/event?eid=bHRtZGtpNmFnaGo5c2VyczZsZmFvYmJjMTAgZm9rczI0M2RhYmw0QG0\n",
      "Event created: https://www.google.com/calendar/event?eid=NGViZHQxbHJlZjMycGpscTZsMG1tNnRpdGsgZm9rczI0M2RhYmw0QG0\n",
      "Event created: https://www.google.com/calendar/event?eid=NWoxcTJmMmk5ZDc0ZWU0cTlnOXNmMDdlYjAgZm9rczI0M2RhYmw0QG0\n",
      "Event created: https://www.google.com/calendar/event?eid=aWFtNDRoM2oxbG1xZ3NqNWI5ZzdnbnZta2cgZm9rczI0M2RhYmw0QG0\n",
      "Event created: https://www.google.com/calendar/event?eid=cnR2N2x0ZHY1OTZjOGc5bWRpZHY2N2cxN3MgZm9rczI0M2RhYmw0QG0\n",
      "Event created: https://www.google.com/calendar/event?eid=MWtuaWNnYXJycXU4Z2QyMHZybTQ5NGc3ajQgZm9rczI0M2RhYmw0QG0\n",
      "Event created: https://www.google.com/calendar/event?eid=dHI1bjI4cmYwYmZxZnZqMW5vZmtpdjk5cGcgZm9rczI0M2RhYmw0QG0\n",
      "Event created: https://www.google.com/calendar/event?eid=bzBnbDE3ZWxrdmFqM3ZwMWxramdnNW9kYmsgZm9rczI0M2RhYmw0QG0\n",
      "Event created: https://www.google.com/calendar/event?eid=NnUza2ZmbnFhMGVhZXYycXJ1MjJoNWMyZG8gZm9rczI0M2RhYmw0QG0\n",
      "Event created: https://www.google.com/calendar/event?eid=dXF0bnE4ZDQxZWRwdXZ2Nm1maDRkazdja2sgZm9rczI0M2RhYmw0QG0\n",
      "Event created: https://www.google.com/calendar/event?eid=NWc3NjU3bDI4NHRndjFscnNkZmk3a3E3aWMgZm9rczI0M2RhYmw0QG0\n",
      "Event created: https://www.google.com/calendar/event?eid=ZW5vcXNyaWUxdGY1djgxMzVtdWI5bm91ZW8gZm9rczI0M2RhYmw0QG0\n",
      "Event created: https://www.google.com/calendar/event?eid=OWQybjI1dTU3aTRvYTNwbWJpZW1iYmExNWsgZm9rczI0M2RhYmw0QG0\n",
      "Event created: https://www.google.com/calendar/event?eid=dWIwbmo4cmhqMXQ1bjE4N2M3N3IzNGprcm8gZm9rczI0M2RhYmw0QG0\n",
      "Event created: https://www.google.com/calendar/event?eid=cTA2MjZocGMyNG5zb2RzMXNqcGs2cDNqZGMgZm9rczI0M2RhYmw0QG0\n",
      "Event created: https://www.google.com/calendar/event?eid=dmpmdWVuaGVhYzc0OGdlZW9ma29mYmlqZW8gZm9rczI0M2RhYmw0QG0\n",
      "Event created: https://www.google.com/calendar/event?eid=M2QzOHU0OWRoZXZrb3VrZmNiMWdyYmprNmsgZm9rczI0M2RhYmw0QG0\n",
      "Event created: https://www.google.com/calendar/event?eid=ZXYwMDRsdDZ2ZjMyNGw1MmVnN3EzZDZrcmsgZm9rczI0M2RhYmw0QG0\n",
      "Event created: https://www.google.com/calendar/event?eid=dThjMDUwcjRtZm5tcGxya2pkY3RjZjI1OW8gZm9rczI0M2RhYmw0QG0\n",
      "Event created: https://www.google.com/calendar/event?eid=OWNjNTZ1MHY3c3RjZGhyNzRxYmpwM2VoaGMgZm9rczI0M2RhYmw0QG0\n",
      "Event created: https://www.google.com/calendar/event?eid=ZnNtbmoxYWtkOGt2bWFqdGJrYzMzZWQ3N3MgZm9rczI0M2RhYmw0QG0\n",
      "Event created: https://www.google.com/calendar/event?eid=dHU3a3QzNDY5b2FvdHNxZjNoZDNjZHBnbTQgZm9rczI0M2RhYmw0QG0\n",
      "Event created: https://www.google.com/calendar/event?eid=bG84ZzFib2lpYzVqdGxrMmM4NW1wZXM1ZzAgZm9rczI0M2RhYmw0QG0\n",
      "Event created: https://www.google.com/calendar/event?eid=bnRkZDlwZ20zaWtoZmxvdjVoMG1mZDVoNTAgZm9rczI0M2RhYmw0QG0\n",
      "Event created: https://www.google.com/calendar/event?eid=OTY2OWgzb3UxZXNrbzhjY2xvM3JzMTcwZjggZm9rczI0M2RhYmw0QG0\n",
      "Event created: https://www.google.com/calendar/event?eid=NWdwamNxZmQyZmo0bmc1OGtocmIxbmNzYm8gZm9rczI0M2RhYmw0QG0\n",
      "Event created: https://www.google.com/calendar/event?eid=MG1vdmgxaG05OTgwbTU3N3VnMXAyMDdsNDggZm9rczI0M2RhYmw0QG0\n",
      "Event created: https://www.google.com/calendar/event?eid=ZGQ1Y2phcG5mOWo3MnUydnZuZGpmOWJkZTggZm9rczI0M2RhYmw0QG0\n",
      "Event created: https://www.google.com/calendar/event?eid=MjFyOWFtZGc3NDV1NmQ2a3VxdmxranZya3MgZm9rczI0M2RhYmw0QG0\n",
      "Event created: https://www.google.com/calendar/event?eid=dWhhYzI5ZGE0bTB0Zzk2cXU4N2JqNDdobjggZm9rczI0M2RhYmw0QG0\n",
      "Event created: https://www.google.com/calendar/event?eid=Zm1lZjBzZDB2NGFnYnVkb2ZkYmlwZDFnaDQgZm9rczI0M2RhYmw0QG0\n",
      "Event created: https://www.google.com/calendar/event?eid=MDBmazgxbm1iY3QzaHEwY2puNTlqOXRqaDggZm9rczI0M2RhYmw0QG0\n",
      "Event created: https://www.google.com/calendar/event?eid=ZnQ3NHVicXI0NnRidDM3aXI3cTRiamFpdmMgZm9rczI0M2RhYmw0QG0\n",
      "Event created: https://www.google.com/calendar/event?eid=MGF1M2hkaGl2cDZpMGY0cjYwb3EzM2RkajggZm9rczI0M2RhYmw0QG0\n",
      "Event created: https://www.google.com/calendar/event?eid=YWI5cGlrYXA5ZXM4NWRrdXMxYWVrMmI3M2cgZm9rczI0M2RhYmw0QG0\n",
      "Event created: https://www.google.com/calendar/event?eid=NTQyZm80cWp2MzAwNnNndG0zanVmbnRycjQgZm9rczI0M2RhYmw0QG0\n",
      "Event created: https://www.google.com/calendar/event?eid=ZmI0NGxqanVsdG9qdmprZzl2bGk0Mmd1Y3MgZm9rczI0M2RhYmw0QG0\n",
      "Event created: https://www.google.com/calendar/event?eid=azRpMW5yaTI1NWZic3NuaXFsMDQ0MnEzMmMgZm9rczI0M2RhYmw0QG0\n",
      "Event created: https://www.google.com/calendar/event?eid=MWthM3VnZnE3aWVxMzBldWx0cGgwMjM1cWcgZm9rczI0M2RhYmw0QG0\n",
      "Event created: https://www.google.com/calendar/event?eid=bGI4Z3RkZGpwMmJtdWJtcWVpZ3ZwNHZsNXMgZm9rczI0M2RhYmw0QG0\n",
      "Event created: https://www.google.com/calendar/event?eid=bGljb2cyOTE1a291Zm5nNThuMnYzZGszaG8gZm9rczI0M2RhYmw0QG0\n"
     ]
    }
   ],
   "source": [
    "# success_count = 0\n",
    "# failure_count = 0\n",
    "\n",
    "# for i, row in enumerate(query_job):\n",
    "\n",
    "#     start_date_str = row['Start_date']\n",
    "#     end_date_str = row['End_date']\n",
    "#     start_time_str = row['Start_time']\n",
    "#     end_time_str = row['End_time'] \n",
    "\n",
    "#                 # Determine the color based on the 'status' column.\n",
    "#     if row['status'] == 'changed':\n",
    "#         color_id = '5'   # Yellow color for changed events.\n",
    "#     elif row['status'] == 'deleted':\n",
    "#         color_id = '11'  # Red color for deleted events.\n",
    "#     else:\n",
    "#         color_id = '10'  # Green color for unchanged events.\n",
    "\n",
    "#     # Check if start_time is NaN\n",
    "#     if pd.isna(start_time_str):\n",
    "#         # Event is all day, use only date\n",
    "#         start_date_obj = pd.to_datetime(start_date_str).date()  # Convert to date\n",
    "#         end_date_obj = pd.to_datetime(end_date_str).date()      # Convert to date\n",
    "\n",
    "#         # Adjust for events that span midnight\n",
    "#         if end_time_obj <= start_time_obj:\n",
    "#             end_time_obj += timedelta(days=1)  # Move end time to the next day. [29.11.2024]\n",
    "\n",
    "#         event = {\n",
    "#             'summary': row['Subject'],\n",
    "#             'location': row['Location'],\n",
    "#             'start': {\n",
    "#                 'date': start_date_obj.isoformat(),  # Use date for all-day event\n",
    "#             },\n",
    "#             'end': {\n",
    "#                 'date': end_date_obj.isoformat(),  # End date for all-day event\n",
    "#             },\n",
    "#             'description': row['Updated_Description'],  # Include the prepared description\n",
    "#             'colorId': color_id  # Set the color based on the status\n",
    "#         }\n",
    "#     else:\n",
    "#         # Combine date and time for start\n",
    "#         start_datetime_str = f\"{start_date_str}T{start_time_str}\"\n",
    "#         start_time_obj = pd.to_datetime(start_datetime_str)\n",
    "\n",
    "#         # Combine date and time for end, or add a default duration if end time is None\n",
    "#         if pd.isna(end_time_str):  # If 'End_time' is None\n",
    "#             end_datetime_str = f\"{end_date_str}T{start_time_str}\"\n",
    "#             end_time_obj = pd.to_datetime(end_datetime_str) + timedelta(minutes=27)\n",
    "#         else:\n",
    "#             end_datetime_str = f\"{end_date_str}T{end_time_str}\"\n",
    "#             end_time_obj = pd.to_datetime(end_datetime_str)\n",
    "\n",
    "#         # Adjust for events that span midnight\n",
    "#         if end_time_obj <= start_time_obj:\n",
    "#             end_time_obj += timedelta(days=1)  # Move end time to the next day. [29.11.2024]\n",
    "\n",
    "#         # if start_time_obj >= end_time_obj:  # Check for valid time range\n",
    "#         #     print(f\"Error: Invalid time range for row {i}. Start: {start_time_obj}, End: {end_time_obj}\")\n",
    "#         #     continue  # Skip this event\n",
    "        \n",
    "#         # Prepare the event details for Google Calendar:\n",
    "#         event = {\n",
    "#             'summary': row['Subject'],\n",
    "#             'location': row['Location'],\n",
    "#             'start': {\n",
    "#                 'dateTime': start_time_obj.strftime(\"%Y-%m-%dT%H:%M:%S\"),\n",
    "#                 'timeZone': 'Europe/Berlin',  # Set to your timezone\n",
    "#             },\n",
    "#             'end': {\n",
    "#                 'dateTime': end_time_obj.strftime(\"%Y-%m-%dT%H:%M:%S\"),\n",
    "#                 'timeZone': 'Europe/Berlin',  # Set to your timezone\n",
    "#             },\n",
    "#             'description': row['Updated_Description'],  # Include the prepared description\n",
    "#             'colorId': color_id  # Set the color based on the status\n",
    "#         }\n",
    "#     try:\n",
    "#         created_event = calendar_service.events().insert(calendarId='foks243dabl4@gmail.com', body=event).execute()\n",
    "#         print(f\"Event created: {created_event.get('htmlLink')}\")\n",
    "#         success_count += 1\n",
    "#     except Exception as e:\n",
    "#         print(f\"Error creating event: {e}\")\n",
    "#         failure_count += 1\n",
    "\n",
    "# print(f\"success count: {success_count}\")\n",
    "# print(f\"failure count: {failure_count}\")"
   ]
  }
 ],
 "metadata": {
  "kernelspec": {
   "display_name": "eventcalendar",
   "language": "python",
   "name": "python3"
  },
  "language_info": {
   "codemirror_mode": {
    "name": "ipython",
    "version": 3
   },
   "file_extension": ".py",
   "mimetype": "text/x-python",
   "name": "python",
   "nbconvert_exporter": "python",
   "pygments_lexer": "ipython3",
   "version": "3.9.1"
  }
 },
 "nbformat": 4,
 "nbformat_minor": 2
}
